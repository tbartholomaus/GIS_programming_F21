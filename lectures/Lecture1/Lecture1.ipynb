{
 "cells": [
  {
   "cell_type": "markdown",
   "id": "weird-webmaster",
   "metadata": {},
   "source": [
    "# Welcome to GIS Programming!\n",
    "Tim Bartholomaus\n",
    "\n",
    "Week 0: August 26, 2021\n",
    "\n",
    "Go over the syllabus\n",
    "\n",
    "Questionnaire: <https://forms.gle/7MezQtAq1srxSeYSA>"
   ]
  },
  {
   "cell_type": "markdown",
   "id": "arbitrary-contamination",
   "metadata": {},
   "source": [
    "## Resources\n",
    "I've put together a set of instructions for getting started with python.\n",
    "They're here: <https://tbartholomaus.github.io/uiglaciology/3-code/>\n",
    "I encourage you to check these out and use them to get started with learning python (the first step of GIS Programming with python!)."
   ]
  },
  {
   "cell_type": "markdown",
   "id": "arranged-auckland",
   "metadata": {},
   "source": [
    "## What is programming?\n",
    "* Algorithm: A set of rules or procedures to be followed that takes you from an input (i.e. data) to an output (i.e. a solution to a problem)\n",
    "* Program: An algorithm expressed in a language that a computer can interpret and execute. "
   ]
  },
  {
   "cell_type": "markdown",
   "id": "surprising-sunglasses",
   "metadata": {},
   "source": [
    "## How do we start?\n",
    "Need to learn two skills\n",
    "* Logic: What are the individual steps necessary to arrive at a result (i.e., what is the algorithm)\n",
    "* Syntax: An algorithm expressed in a language that a computer can interpret and execute. \n",
    "\n",
    "What does this image represent?  Logic, or Syntax?\n",
    "\n",
    "<img src=\"media/input-function-output.png\" width=\"300\">\n",
    "\n",
    "What can you put in that function box?  What are examples of mathematical functions you know?\n",
    "\n",
    "_Programming is a long string of operations exactly like these._  You link together functions and functions and functions, \n",
    "just as the above to achieve complex results.  The trick is in the identifying what functions are necessary (i.e., the logic), and what is the appropriate syntax for that logic."
   ]
  },
  {
   "cell_type": "markdown",
   "id": "therapeutic-scott",
   "metadata": {},
   "source": [
    "## Why python\n",
    "<https://trends.google.com/trends/explore?date=today%205-y&geo=US&q=%2Fm%2F05z1_,%2Fm%2F053_x,%2Fm%2F0212jm,%2Fm%2F07sbkfb>\n",
    "\n",
    "* It's exceptionally popular (within the last decade, it's become by far the most popular among geophysicists)\n",
    "* It's extremely versatile (from web developers to academics; statisticians to GIS specialists)\n",
    "* It's free (you can take your skills with you after you leave Idaho)"
   ]
  },
  {
   "cell_type": "code",
   "execution_count": null,
   "id": "civil-classics",
   "metadata": {},
   "outputs": [],
   "source": []
  },
  {
   "cell_type": "markdown",
   "id": "incredible-address",
   "metadata": {},
   "source": [
    "## Notebooks and Jupyter Lab\n",
    "Run through 01-Intro-Jupyter.ipynb\n"
   ]
  },
  {
   "cell_type": "code",
   "execution_count": null,
   "id": "reverse-stanford",
   "metadata": {},
   "outputs": [],
   "source": [
    "Variable types"
   ]
  },
  {
   "cell_type": "code",
   "execution_count": null,
   "id": "involved-marijuana",
   "metadata": {},
   "outputs": [],
   "source": []
  },
  {
   "cell_type": "code",
   "execution_count": null,
   "id": "interior-healthcare",
   "metadata": {},
   "outputs": [],
   "source": [
    "Indexing"
   ]
  },
  {
   "cell_type": "code",
   "execution_count": null,
   "id": "outside-german",
   "metadata": {},
   "outputs": [],
   "source": []
  },
  {
   "cell_type": "markdown",
   "id": "completed-abortion",
   "metadata": {},
   "source": [
    "## Exercise\n",
    "1. Define the radius of a sphere\n",
    "2. Calculate the surface area of that sphere\n",
    "3. Calculate the volume of that sphere"
   ]
  },
  {
   "cell_type": "code",
   "execution_count": null,
   "id": "peaceful-employment",
   "metadata": {},
   "outputs": [],
   "source": []
  },
  {
   "cell_type": "code",
   "execution_count": null,
   "id": "pregnant-combat",
   "metadata": {},
   "outputs": [],
   "source": []
  },
  {
   "cell_type": "code",
   "execution_count": null,
   "id": "occasional-contemporary",
   "metadata": {},
   "outputs": [],
   "source": []
  },
  {
   "cell_type": "code",
   "execution_count": null,
   "id": "configured-spectrum",
   "metadata": {},
   "outputs": [],
   "source": []
  }
 ],
 "metadata": {
  "kernelspec": {
   "display_name": "Python 3",
   "language": "python",
   "name": "python3"
  },
  "language_info": {
   "codemirror_mode": {
    "name": "ipython",
    "version": 3
   },
   "file_extension": ".py",
   "mimetype": "text/x-python",
   "name": "python",
   "nbconvert_exporter": "python",
   "pygments_lexer": "ipython3",
   "version": "3.7.9"
  }
 },
 "nbformat": 4,
 "nbformat_minor": 5
}

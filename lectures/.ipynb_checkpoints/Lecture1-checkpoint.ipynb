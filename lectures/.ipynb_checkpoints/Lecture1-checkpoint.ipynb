{
 "cells": [
  {
   "cell_type": "markdown",
   "id": "elder-summer",
   "metadata": {},
   "source": [
    "# Welcome to GIS Programming!\n",
    "Tim Bartholomaus\n",
    "\n",
    "Week 0: August 26, 2021\n",
    "\n",
    "Go over the syllabus"
   ]
  },
  {
   "cell_type": "markdown",
   "id": "related-caution",
   "metadata": {},
   "source": [
    "## Resources\n",
    "I've put together a set of instructions for getting started with python.\n",
    "They're here: <https://tbartholomaus.github.io/uiglaciology/3-code/>\n",
    "I encourage you to check these out and use them to get started with learning python (the first step of GIS Programming with python!)."
   ]
  },
  {
   "cell_type": "markdown",
   "id": "fifty-blink",
   "metadata": {},
   "source": [
    "## What is programming?\n",
    "* Algorithm: A set of rules or procedures to be followed that takes you from an input (i.e. data) to an output (i.e. a solution to a problem)\n",
    "* Program: An algorithm expressed in a language that a computer can interpret and execute. "
   ]
  },
  {
   "cell_type": "markdown",
   "id": "robust-slovak",
   "metadata": {},
   "source": [
    "## How do we start?\n",
    "Need to learn two skills\n",
    "* Logic: What are the individual steps necessary to arrive at a result (i.e., what is the algorithm)\n",
    "* Syntax: An algorithm expressed in a language that a computer can interpret and execute. \n",
    "\n",
    "What does this image represent?  Logic, or Syntax?\n",
    "\n",
    "<img src=\"media/input-function-output.png\" width=\"300\">\n"
   ]
  },
  {
   "cell_type": "markdown",
   "id": "agreed-joint",
   "metadata": {},
   "source": [
    "## Why python\n",
    "<https://trends.google.com/trends/explore?date=today%205-y&geo=US&q=%2Fm%2F05z1_,%2Fm%2F053_x,%2Fm%2F0212jm,%2Fm%2F07sbkfb>"
   ]
  },
  {
   "cell_type": "code",
   "execution_count": null,
   "id": "academic-memory",
   "metadata": {},
   "outputs": [],
   "source": []
  },
  {
   "cell_type": "code",
   "execution_count": null,
   "id": "ceramic-network",
   "metadata": {},
   "outputs": [],
   "source": []
  },
  {
   "cell_type": "code",
   "execution_count": null,
   "id": "injured-phone",
   "metadata": {},
   "outputs": [],
   "source": []
  },
  {
   "cell_type": "code",
   "execution_count": null,
   "id": "dynamic-importance",
   "metadata": {},
   "outputs": [],
   "source": [
    "Indexing"
   ]
  },
  {
   "cell_type": "code",
   "execution_count": null,
   "id": "wired-fetish",
   "metadata": {},
   "outputs": [],
   "source": []
  },
  {
   "cell_type": "code",
   "execution_count": null,
   "id": "equipped-philippines",
   "metadata": {},
   "outputs": [],
   "source": [
    "Variable types"
   ]
  },
  {
   "cell_type": "code",
   "execution_count": null,
   "id": "split-panama",
   "metadata": {},
   "outputs": [],
   "source": []
  },
  {
   "cell_type": "code",
   "execution_count": null,
   "id": "virgin-investor",
   "metadata": {},
   "outputs": [],
   "source": []
  },
  {
   "cell_type": "code",
   "execution_count": null,
   "id": "numerical-kuwait",
   "metadata": {},
   "outputs": [],
   "source": []
  },
  {
   "cell_type": "code",
   "execution_count": null,
   "id": "killing-silence",
   "metadata": {},
   "outputs": [],
   "source": []
  }
 ],
 "metadata": {
  "kernelspec": {
   "display_name": "Python 3",
   "language": "python",
   "name": "python3"
  },
  "language_info": {
   "codemirror_mode": {
    "name": "ipython",
    "version": 3
   },
   "file_extension": ".py",
   "mimetype": "text/x-python",
   "name": "python",
   "nbconvert_exporter": "python",
   "pygments_lexer": "ipython3",
   "version": "3.7.9"
  }
 },
 "nbformat": 4,
 "nbformat_minor": 5
}

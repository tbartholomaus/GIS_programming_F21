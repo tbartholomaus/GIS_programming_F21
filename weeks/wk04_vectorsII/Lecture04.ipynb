{
 "cells": [
  {
   "cell_type": "markdown",
   "id": "b14b20c6-4f6d-4d35-98c0-095d4b9c01c3",
   "metadata": {},
   "source": [
    "# Lecture 4\n",
    "Learning goals\n",
    " + pathlib\n",
    " + buffers and topology\n",
    " + chloropleth maps\n"
   ]
  },
  {
   "cell_type": "code",
   "execution_count": null,
   "id": "b38efdc7-7f92-4a40-9178-7c0f61cfc5fd",
   "metadata": {},
   "outputs": [],
   "source": []
  },
  {
   "cell_type": "code",
   "execution_count": null,
   "id": "f4a70078-b2c0-4a6b-b270-7575dbcd8eda",
   "metadata": {},
   "outputs": [],
   "source": [
    "import numpy as np\n",
    "import matplotlib.pyplot as plt\n",
    "from pathlib import Path\n",
    "\n",
    "import geopandas as gpd"
   ]
  },
  {
   "cell_type": "markdown",
   "id": "f2a04558-4f32-4f22-a024-e0443800d19f",
   "metadata": {},
   "source": [
    "## Pathlib and managing paths (esp. across operating systems!)\n",
    "You've probably noticed that Windows uses \\ to separate directories, while Mac and Linux file systems\n",
    "use /.  Also, some directories seem to begin with `\\\\`.  What a mess!  Enter _pathlib_."
   ]
  },
  {
   "cell_type": "code",
   "execution_count": null,
   "id": "c2f43ae1-00b8-4008-95f2-0bb5714412b1",
   "metadata": {},
   "outputs": [],
   "source": [
    "Path.cwd()"
   ]
  },
  {
   "cell_type": "code",
   "execution_count": null,
   "id": "f036393c-ec90-4fec-a144-de07755f16fc",
   "metadata": {},
   "outputs": [],
   "source": [
    "datasets_dir = Path('..\\..\\datasets')\n",
    "# ls ../../"
   ]
  },
  {
   "cell_type": "code",
   "execution_count": null,
   "id": "2e77bc7a-41dc-4ac4-baea-5bbe28e4a040",
   "metadata": {},
   "outputs": [],
   "source": [
    "datasets_dir"
   ]
  },
  {
   "cell_type": "code",
   "execution_count": null,
   "id": "bc2dd580-ad80-4615-8a26-9df0b18b916d",
   "metadata": {},
   "outputs": [],
   "source": [
    "moscow_gdb_path = datasets_dir / 'moscow' / 'moscow_vectors' / 'Moscow.gdb'\n",
    "print(moscow_gdb_path)\n",
    "print(type(moscow_gdb_path))"
   ]
  },
  {
   "cell_type": "code",
   "execution_count": null,
   "id": "c1fe6c5a-0959-4f3f-8e1f-396424236c20",
   "metadata": {},
   "outputs": [],
   "source": [
    "moscow_gdb_path.exists()"
   ]
  },
  {
   "cell_type": "code",
   "execution_count": null,
   "id": "0607f0f5-6775-429c-8cf0-49cc6f3addf2",
   "metadata": {},
   "outputs": [],
   "source": [
    "moscow_gdb_path.is_file()"
   ]
  },
  {
   "cell_type": "markdown",
   "id": "1a6fc87b-feaf-4f3f-b196-ee1edfb1c472",
   "metadata": {},
   "source": [
    "Amazing, clear, cheatsheet for much of what pathlib can do:\n",
    "https://github.com/chris1610/pbpython/blob/master/extras/Pathlib-Cheatsheet.pdf"
   ]
  },
  {
   "cell_type": "code",
   "execution_count": null,
   "id": "4c978628-0436-460d-9c54-5161fecba6b4",
   "metadata": {},
   "outputs": [],
   "source": [
    "my_dir_name = 'TCB_work'\n",
    "my_path = Path(my_dir_name)"
   ]
  },
  {
   "cell_type": "markdown",
   "id": "9cdcf051-32cf-457c-805b-e2b01c5fbaed",
   "metadata": {},
   "source": [
    "Use path.exists() and path.mkdir().  path.rmdir() to remove a directory"
   ]
  },
  {
   "cell_type": "code",
   "execution_count": null,
   "id": "a546b0a6-1d41-4bac-aebb-ead854aec25b",
   "metadata": {},
   "outputs": [],
   "source": [
    "my_path.mkdir()"
   ]
  },
  {
   "cell_type": "markdown",
   "id": "29d98c7f-c5a7-4d61-aeb7-2e7b0f2485e9",
   "metadata": {},
   "source": [
    "#### Globbing"
   ]
  },
  {
   "cell_type": "code",
   "execution_count": null,
   "id": "fca5970f-0baf-4ac7-a6b2-078b8771c15b",
   "metadata": {},
   "outputs": [],
   "source": [
    "list( moscow_gdb_path.glob('*') )"
   ]
  },
  {
   "cell_type": "code",
   "execution_count": null,
   "id": "ecb8b72b-3702-4710-9a58-1fd574cb3d34",
   "metadata": {},
   "outputs": [],
   "source": [
    "for file in moscow_gdb_path.glob('*gdbtabl*'):\n",
    "    print(file)\n",
    "    "
   ]
  },
  {
   "cell_type": "code",
   "execution_count": null,
   "id": "f38549d6-8a04-456c-9edf-e6fe0c662dd1",
   "metadata": {},
   "outputs": [],
   "source": []
  },
  {
   "cell_type": "code",
   "execution_count": null,
   "id": "554bb916-a1c5-4319-9395-a7a499f227b4",
   "metadata": {},
   "outputs": [],
   "source": []
  },
  {
   "cell_type": "code",
   "execution_count": null,
   "id": "659e9eeb-782d-4df6-b335-943ed6a38203",
   "metadata": {},
   "outputs": [],
   "source": [
    "import fiona\n",
    "moscow_gdb = str(moscow_gdb_path)\n",
    "\n",
    "fiona.listlayers(moscow_gdb)"
   ]
  },
  {
   "cell_type": "code",
   "execution_count": null,
   "id": "749b5581-d9ea-48e2-8949-e6acb8e8d685",
   "metadata": {},
   "outputs": [],
   "source": [
    "parcels = gpd.read_file(moscow_gdb, layer='Parcels')\n",
    "roads = gpd.read_file(moscow_gdb, layer='Centerlines')\n",
    "zoning = gpd.read_file(moscow_gdb, layer='Moscow_Zoning')\n",
    "city_limits = gpd.read_file(moscow_gdb, layer='Moscow_City_Limit')\n",
    "parks = gpd.read_file(moscow_gdb, layer='Moscow_Parks')\n"
   ]
  },
  {
   "cell_type": "code",
   "execution_count": null,
   "id": "994b45f8-6c0c-4f15-8580-e97c5586b077",
   "metadata": {},
   "outputs": [],
   "source": [
    "parcels.columns"
   ]
  },
  {
   "cell_type": "code",
   "execution_count": null,
   "id": "bd34bd04-14a1-4cd2-a898-b0fd8609beb3",
   "metadata": {},
   "outputs": [],
   "source": [
    "parcels.centroid"
   ]
  },
  {
   "cell_type": "markdown",
   "id": "9a0adbd0-ef1d-4d0d-bdfc-f43eefac496a",
   "metadata": {},
   "source": [
    "## Property sales over time"
   ]
  },
  {
   "cell_type": "code",
   "execution_count": null,
   "id": "f9122c77-a7eb-44b5-8842-4e9c6188e063",
   "metadata": {
    "tags": []
   },
   "outputs": [],
   "source": [
    "import pandas as pd\n",
    "print( parcels['PM_DEEDCDT'].astype(str)[:4] )\n",
    "\n",
    "parcels['SaleDate'] = pd.to_datetime(\n",
    "    parcels['PM_DEEDCDT'], \n",
    "    errors='coerce', \n",
    "    format='%Y%m%d')\n",
    "\n",
    "\n"
   ]
  },
  {
   "cell_type": "code",
   "execution_count": null,
   "id": "a9aa8268-4752-4ed8-bbdc-3fa9da2ae504",
   "metadata": {
    "tags": []
   },
   "outputs": [],
   "source": [
    "parcels['SaleDate']"
   ]
  },
  {
   "cell_type": "code",
   "execution_count": null,
   "id": "596b9caa-d2ba-4e79-9c36-ab5bb1d8ee5e",
   "metadata": {
    "tags": []
   },
   "outputs": [],
   "source": [
    "dates = parcels['PM_DEEDCDT'].to_numpy()\n",
    "yr = np.full( dates.shape, np.nan )\n",
    "\n",
    "for i in range(len(dates)):\n",
    "    if dates[i] > 0:\n",
    "        yr[i] = int( str(dates[i])[:4] )\n",
    "#         print(date)\n",
    "    else:\n",
    "        yr[i] = np.nan\n",
    "#     print(date)\n",
    "# np.datetime_as_string(parcels['SaleDate'])\n",
    "\n",
    "parcels['SaleYear'] = yr\n",
    "# parcels['SaleYear'] = parcels['SaleDate'].to_numpy().astype('M8[Y]')"
   ]
  },
  {
   "cell_type": "code",
   "execution_count": null,
   "id": "0b191054-8968-468b-95fc-818168d3dd24",
   "metadata": {},
   "outputs": [],
   "source": [
    "fig, ax = plt.subplots()\n",
    "ax.hist(parcels['SaleDate'], bins=np.arange(np.datetime64('1970-01-01'), \n",
    "                                            np.datetime64('2022-01-01'), \n",
    "                                            np.timedelta64(365, 'D')/365 ) )\n",
    "ax.set_ylabel('Number of property sales in Moscow')\n",
    "# ax.set_xlim(np.datetime64('2010-01-01'), np.datetime64('2012-01-01') )\n",
    "ax.set_xlim(np.datetime64('2010-12-15'), np.datetime64('2011-01-01') )\n",
    "\n"
   ]
  },
  {
   "cell_type": "code",
   "execution_count": null,
   "id": "476fb3c4-759b-4ea5-825d-05323f218e18",
   "metadata": {},
   "outputs": [],
   "source": [
    "# np.arange(np.datetime64('2015-01-01'), \n",
    "#                                             np.datetime64('2022-01-01'), \n",
    "#                                             np.timedelta64(365.25, 'D')/12 )\n",
    "np.timedelta64(365, 'D')/12"
   ]
  },
  {
   "cell_type": "code",
   "execution_count": null,
   "id": "e7f9710b-c7f9-4dbe-b39c-948cb3496430",
   "metadata": {},
   "outputs": [],
   "source": [
    "# parcels['SaleDate'].to_numpy().astype('M8[Y]')"
   ]
  },
  {
   "cell_type": "code",
   "execution_count": null,
   "id": "2056518f-1056-4bb0-abe8-fd4e8234fbba",
   "metadata": {},
   "outputs": [],
   "source": [
    "# [np.datetime64(i,'Y') for i in parcels['SaleYear'][:2]]\n"
   ]
  },
  {
   "cell_type": "code",
   "execution_count": null,
   "id": "eaafa7ce-91c8-4bc4-b801-3912be2718f6",
   "metadata": {
    "tags": []
   },
   "outputs": [],
   "source": [
    "parcels['SaleYear'][:2].astype('float64')"
   ]
  },
  {
   "cell_type": "code",
   "execution_count": null,
   "id": "39f2471e-5cb8-454c-9c6f-420d4e0894af",
   "metadata": {},
   "outputs": [],
   "source": []
  },
  {
   "cell_type": "code",
   "execution_count": null,
   "id": "ad2dffbb-5697-41ce-84a0-3a6b7f9d3538",
   "metadata": {},
   "outputs": [],
   "source": []
  },
  {
   "cell_type": "code",
   "execution_count": null,
   "id": "67470a2e-5b12-4e8d-9553-2f2779576483",
   "metadata": {},
   "outputs": [],
   "source": [
    "parks[1]"
   ]
  },
  {
   "cell_type": "code",
   "execution_count": null,
   "id": "7ce56df3-ba09-4ae1-a5ed-67c032f129b8",
   "metadata": {},
   "outputs": [],
   "source": [
    "buffer_radius = 1000\n",
    "\n",
    "i=4\n",
    "\n",
    "buffered_park = parks.iloc[i:i+1].buffer(buffer_radius) # Careful!  I'm not sure why this is, but geopandas requires a slice here, not a single index\n",
    "# .buffer(buffer_radius) # Buffer in native dimensions, feet\n",
    "overlapping_parcels = parcels.overlaps(buffered_park.geometry.to_numpy()[0]) \n",
    "    # buffered_park.plot()\n",
    "\n"
   ]
  },
  {
   "cell_type": "markdown",
   "id": "f7205e5e-a333-49db-9006-2471cf7b791b",
   "metadata": {},
   "source": [
    "<div class=\"alert alert-block alert-warning\">\n",
    "\n",
    "## Generate a list of all parcels that are not within 1000 ft of a park\n",
    "You're a city planner.  You want to reach out to citizens of Moscow who are underserved with access to parks.\n",
    "But first you need to know who those citizens are..\n",
    "</div>"
   ]
  },
  {
   "cell_type": "code",
   "execution_count": null,
   "id": "4ea3d8b2-6f0c-46f4-b8a1-89d69be35bc5",
   "metadata": {},
   "outputs": [],
   "source": []
  },
  {
   "cell_type": "code",
   "execution_count": null,
   "id": "63aaa816-6619-4b2c-aca1-2425ac636c95",
   "metadata": {},
   "outputs": [],
   "source": []
  },
  {
   "cell_type": "markdown",
   "id": "a1ff24b8-a2e9-4be6-b71b-cc56543c6bd6",
   "metadata": {},
   "source": [
    "<div class=\"alert alert-block alert-warning\">\n",
    "\n",
    "### How long ago did 50% of the properties change hands?\n",
    "As in, fill in the blank: \"Half of properties in the Moscow area have been sold within _____ years.\"\n",
    "</div>"
   ]
  },
  {
   "cell_type": "code",
   "execution_count": null,
   "id": "84e478e0-bb7e-422c-ba4a-96c43c3cc5aa",
   "metadata": {
    "tags": []
   },
   "outputs": [],
   "source": [
    "roads"
   ]
  },
  {
   "cell_type": "code",
   "execution_count": null,
   "id": "c868f1c6-c4d1-4f22-a07d-60e522dc9382",
   "metadata": {},
   "outputs": [],
   "source": [
    "zoning.columns"
   ]
  },
  {
   "cell_type": "code",
   "execution_count": null,
   "id": "b3bbe430-5a94-453e-a5a4-6421b573dbde",
   "metadata": {},
   "outputs": [],
   "source": [
    "from shapely.geometry import Polygon, LineString, Point\n",
    "parcels['Dwntn_dist'] = parcels.distance(Point(2.311e6, 1.85e6))"
   ]
  },
  {
   "cell_type": "code",
   "execution_count": null,
   "id": "632773b4-c74c-481c-aded-d2908413ac0a",
   "metadata": {},
   "outputs": [],
   "source": [
    "city_limits.bounds\n"
   ]
  },
  {
   "cell_type": "code",
   "execution_count": null,
   "id": "280d488a-d4db-44ed-babf-33b2488095b6",
   "metadata": {},
   "outputs": [],
   "source": [
    "parcels"
   ]
  },
  {
   "cell_type": "code",
   "execution_count": null,
   "id": "b7607691-1387-4e20-930d-cfa47e3992dd",
   "metadata": {
    "tags": []
   },
   "outputs": [],
   "source": [
    "%matplotlib widget\n",
    "fig, ax = plt.subplots( figsize=(8,8) )\n",
    "# parcels.plot(column='Val_per_foot', ax=ax, legend=True, vmax=200);\n",
    "# parcels.plot(column='PM_TOT_VAL', ax=ax, legend=True, vmax=400000);\n",
    "# parcels.plot(column='PM_IMP_VAL', ax=ax, legend=True, vmin=150000, vmax=600000);\n",
    "\n",
    "# parcels.plot(column='Dwntn_dist', ax=ax, legend=True, vmax=5280);\n",
    "zoning.plot(column='LANDUSECODE', ax=ax)\n",
    "\n",
    "# parcels.plot(column= 'SaleYear', ax=ax, legend=True, vmin=1990)\n",
    "\n",
    "ax.set_xlim( city_limits.bounds.to_numpy()[0][::2] )\n",
    "ax.set_ylim( city_limits.bounds.to_numpy()[0][1::2] )\n",
    "\n",
    "roads.plot(ax=ax, color='gray')"
   ]
  },
  {
   "cell_type": "code",
   "execution_count": null,
   "id": "7f62054d-5610-4398-900d-f6da714c3116",
   "metadata": {},
   "outputs": [],
   "source": [
    "city_limits.bounds\n",
    "# ax.set_xlim( city_limits.bounds.to_numpy()[0][:] )\n",
    "city_limits.bounds.to_numpy()[0][:]\n"
   ]
  },
  {
   "cell_type": "code",
   "execution_count": null,
   "id": "c8a1c618-b450-4c92-aab3-ee5383a978e7",
   "metadata": {},
   "outputs": [],
   "source": []
  },
  {
   "cell_type": "code",
   "execution_count": null,
   "id": "05af443a-5298-4f8d-bc5c-bab21766867f",
   "metadata": {},
   "outputs": [],
   "source": []
  },
  {
   "cell_type": "code",
   "execution_count": null,
   "id": "9aa5b7c7-cb2a-4b03-9d06-5ad1087b4a7e",
   "metadata": {},
   "outputs": [],
   "source": []
  },
  {
   "cell_type": "code",
   "execution_count": null,
   "id": "847e31b2-776c-4ca1-8c7a-dfcbcaa2f2a4",
   "metadata": {},
   "outputs": [],
   "source": []
  },
  {
   "cell_type": "markdown",
   "id": "54213203-a7af-4cf2-ac5a-57e4a306d877",
   "metadata": {},
   "source": [
    "### Roads close to schools and parks?"
   ]
  },
  {
   "cell_type": "code",
   "execution_count": null,
   "id": "19652754-ae6d-453d-ae5a-9cea460275a2",
   "metadata": {},
   "outputs": [],
   "source": []
  },
  {
   "cell_type": "code",
   "execution_count": null,
   "id": "d5be55cd-b346-4ac2-ad56-b9afc99dc105",
   "metadata": {},
   "outputs": [],
   "source": []
  },
  {
   "cell_type": "code",
   "execution_count": null,
   "id": "cb827de0-2095-41a5-9fd6-01cc141e2c1a",
   "metadata": {},
   "outputs": [],
   "source": [
    "\n",
    "\n"
   ]
  }
 ],
 "metadata": {
  "kernelspec": {
   "display_name": "Python [conda env:GISenv21b]",
   "language": "python",
   "name": "conda-env-GISenv21b-py"
  },
  "language_info": {
   "codemirror_mode": {
    "name": "ipython",
    "version": 3
   },
   "file_extension": ".py",
   "mimetype": "text/x-python",
   "name": "python",
   "nbconvert_exporter": "python",
   "pygments_lexer": "ipython3",
   "version": "3.9.6"
  }
 },
 "nbformat": 4,
 "nbformat_minor": 5
}

{
 "cells": [
  {
   "cell_type": "markdown",
   "metadata": {},
   "source": [
    "# Assignment 04\n"
   ]
  },
  {
   "cell_type": "code",
   "execution_count": null,
   "metadata": {},
   "outputs": [],
   "source": []
  },
  {
   "cell_type": "code",
   "execution_count": 2,
   "metadata": {},
   "outputs": [
    {
     "ename": "ModuleNotFoundError",
     "evalue": "No module named 'geopandas'",
     "output_type": "error",
     "traceback": [
      "\u001b[0;31m---------------------------------------------------------------------------\u001b[0m\n\u001b[0;31mModuleNotFoundError\u001b[0m                       Traceback (most recent call last)",
      "In  \u001b[0;34m[2]\u001b[0m:\nLine \u001b[0;34m5\u001b[0m:     \u001b[34mimport\u001b[39;49;00m \u001b[04m\u001b[36mgeopandas\u001b[39;49;00m \u001b[34mas\u001b[39;49;00m \u001b[04m\u001b[36mgpd\u001b[39;49;00m\n",
      "\u001b[0;31mModuleNotFoundError\u001b[0m: No module named 'geopandas'\n\u001b[0;31m---------------------------------------------------------------------------\u001b[0m"
     ]
    }
   ],
   "source": [
    "import numpy as np\n",
    "import matplotlib.pyplot as plt\n",
    "from pathlib import Path\n",
    "\n",
    "import geopandas as gpd"
   ]
  },
  {
   "cell_type": "code",
   "execution_count": 3,
   "metadata": {},
   "outputs": [],
   "source": [
    "datasets_dir = Path('../../../datasets')\n",
    "# ls ../../"
   ]
  },
  {
   "cell_type": "code",
   "execution_count": 4,
   "metadata": {},
   "outputs": [
    {
     "data": {
      "text/plain": [
       "PosixPath('../../../datasets')"
      ]
     },
     "execution_count": 4,
     "metadata": {},
     "output_type": "execute_result"
    }
   ],
   "source": [
    "datasets_dir"
   ]
  },
  {
   "cell_type": "code",
   "execution_count": 5,
   "metadata": {},
   "outputs": [
    {
     "name": "stdout",
     "output_type": "stream",
     "text": [
      "../../../datasets/moscow/moscow_vectors/Moscow.gdb\n",
      "<class 'pathlib.PosixPath'>\n"
     ]
    }
   ],
   "source": [
    "moscow_gdb_path = datasets_dir / 'moscow' / 'moscow_vectors' / 'Moscow.gdb'\n",
    "print(moscow_gdb_path)\n",
    "print(type(moscow_gdb_path))"
   ]
  },
  {
   "cell_type": "code",
   "execution_count": null,
   "metadata": {},
   "outputs": [],
   "source": []
  },
  {
   "cell_type": "code",
   "execution_count": 6,
   "metadata": {},
   "outputs": [
    {
     "data": {
      "text/plain": [
       "['Moscow_Zoning',\n",
       " 'Centerlines',\n",
       " 'Moscow_Parks',\n",
       " 'Moscow_City_Limit',\n",
       " 'Parcels']"
      ]
     },
     "execution_count": 6,
     "metadata": {},
     "output_type": "execute_result"
    }
   ],
   "source": [
    "import fiona\n",
    "moscow_gdb = str(moscow_gdb_path)\n",
    "\n",
    "fiona.listlayers(moscow_gdb)"
   ]
  },
  {
   "cell_type": "code",
   "execution_count": 7,
   "metadata": {},
   "outputs": [],
   "source": [
    "parcels = gpd.read_file(moscow_gdb, layer='Parcels')\n",
    "roads = gpd.read_file(moscow_gdb, layer='Centerlines')\n",
    "zoning = gpd.read_file(moscow_gdb, layer='Moscow_Zoning')\n",
    "city_limits = gpd.read_file(moscow_gdb, layer='Moscow_City_Limit')\n",
    "parks = gpd.read_file(moscow_gdb, layer='Moscow_Parks')\n"
   ]
  },
  {
   "cell_type": "code",
   "execution_count": 8,
   "metadata": {},
   "outputs": [
    {
     "data": {
      "text/plain": [
       "Index(['LABEL', 'PM_PAR_14', 'PM_MAIL_NM', 'PM_MAIL_A1', 'PM_MAIL_A2',\n",
       "       'PM_MAIL_CT', 'PM_MAIL_ST', 'PM_MAIL_ZP', 'PM_PROP_AD', 'PM_DEEDCDT',\n",
       "       'PM_DEEDRF1', 'PM_DEEDRF2', 'PM_DEEDRF3', 'PM_DEEDRF4', 'PM_DEEDRF5',\n",
       "       'PM_TAX_AMT', 'PM_PV_AREA', 'PM_PV_NBHD', 'PM_PV_ACRE', 'PM_TOT_VAL',\n",
       "       'PM_IMP_VAL', 'PM_LND_VAL', 'PM_EX_VAL', 'PM_NET_VAL', 'PM_CATS',\n",
       "       'LG_LINE_1', 'LG_LINE_2', 'LG_LINE_3', 'LG_LINE_4', 'LG_LINE_5',\n",
       "       'LG_LINE_6', 'PM_PARC_CD', 'GlobalID', 'Shape_Length', 'Shape_Area',\n",
       "       'geometry'],\n",
       "      dtype='object')"
      ]
     },
     "execution_count": 8,
     "metadata": {},
     "output_type": "execute_result"
    }
   ],
   "source": [
    "parcels.columns"
   ]
  },
  {
   "cell_type": "markdown",
   "metadata": {},
   "source": [
    "### Shapely geometries\n",
    "Behind the scenes, geopandas is reading in vector data, storing the attribute tables as `pandas` dataframes,\n",
    "and storing the vector geometry as `shapely` geometries.\n",
    "\n",
    "\n",
    "### Reading:\n",
    "To become more familiar with vector operations in geopandas/shapely, \n",
    "read this introduction to shapely geometries carefully, \n",
    "and reproduce/experiment with the code in this reading from within a blank notebook:\n",
    "https://towardsdatascience.com/geospatial-adventures-step-1-shapely-e911e4f86361\n",
    "\n",
    "Read this page for a more comprehensive description of `shapely` geometries: \n",
    "https://autogis-site.readthedocs.io/en/latest/notebooks/L1/geometric-objects.html\n",
    "\n",
    "Scroll through the `shapely` user manual (https://shapely.readthedocs.io/en/stable/manual.html), \n",
    "reviewing the different functions that shapely includes.  `geopandas` allows all of these functions to be\n",
    "executed, [directly through `geopandas`, without explicit call to `shapely`](https://geopandas.org/docs/user_guide/geometric_manipulations.html).  `shapely` is just running\n",
    "quietly under the hood.  Pay specific attention to the \"Spatial Analysis Methods\" of the manual."
   ]
  },
  {
   "cell_type": "code",
   "execution_count": 9,
   "metadata": {},
   "outputs": [
    {
     "name": "stdout",
     "output_type": "stream",
     "text": [
      "Line area = 0.0\n",
      "Line length = 2.8284271247461903\n"
     ]
    }
   ],
   "source": [
    "from shapely.geometry import LineString\n",
    "line = LineString([(0, 0), (1, 1), (2, 0)])\n",
    "print('Line area =', line.area)\n",
    "print('Line length =', line.length)"
   ]
  },
  {
   "cell_type": "code",
   "execution_count": 10,
   "metadata": {},
   "outputs": [
    {
     "data": {
      "image/svg+xml": [
       "<svg xmlns=\"http://www.w3.org/2000/svg\" xmlns:xlink=\"http://www.w3.org/1999/xlink\" width=\"100.0\" height=\"100.0\" viewBox=\"-0.08 -0.08 2.16 1.1600000000000001\" preserveAspectRatio=\"xMinYMin meet\"><g transform=\"matrix(1,0,0,-1,0,1.0)\"><polyline fill=\"none\" stroke=\"#66cc99\" stroke-width=\"0.0432\" points=\"0.0,0.0 1.0,1.0 2.0,0.0\" opacity=\"0.8\" /></g></svg>"
      ],
      "text/plain": [
       "<shapely.geometry.linestring.LineString at 0x1482cffd0>"
      ]
     },
     "execution_count": 10,
     "metadata": {},
     "output_type": "execute_result"
    }
   ],
   "source": [
    "line"
   ]
  },
  {
   "cell_type": "code",
   "execution_count": null,
   "metadata": {},
   "outputs": [],
   "source": [
    "type(line)"
   ]
  },
  {
   "cell_type": "code",
   "execution_count": null,
   "metadata": {},
   "outputs": [],
   "source": [
    "print( list(line.coords) )\n",
    "print( line.coords[2] )"
   ]
  },
  {
   "cell_type": "markdown",
   "metadata": {},
   "source": [
    "<div class=\"alert alert-block alert-warning\">\n",
    "\n",
    "## 1. Shapely geometries\n",
    "What `shapely` geometry are each of the parcels in the Moscow parcels layer? What `shapely` geometry are their centroids?\n",
    "    \n",
    "Find the Kenworthy Theater within the parcels database (hint: the name field for its mailing address, \n",
    "    PM_MAIL_NM, is \"KENWORTHY PERFORMING ARTS CTR\").\n",
    "What are the coordinates for the corners of its parcel?    \n",
    "</div>\n"
   ]
  },
  {
   "cell_type": "code",
   "execution_count": null,
   "metadata": {},
   "outputs": [],
   "source": [
    "\n",
    "print(parcels[parcels.PM_MAIL_NM == \"KENWORTHY PERFORMING ARTS CTR\"].geometry.values[0].geoms[0])"
   ]
  },
  {
   "cell_type": "code",
   "execution_count": 13,
   "metadata": {},
   "outputs": [
    {
     "data": {
      "text/html": [
       "<div>\n",
       "<style scoped>\n",
       "    .dataframe tbody tr th:only-of-type {\n",
       "        vertical-align: middle;\n",
       "    }\n",
       "\n",
       "    .dataframe tbody tr th {\n",
       "        vertical-align: top;\n",
       "    }\n",
       "\n",
       "    .dataframe thead th {\n",
       "        text-align: right;\n",
       "    }\n",
       "</style>\n",
       "<table border=\"1\" class=\"dataframe\">\n",
       "  <thead>\n",
       "    <tr style=\"text-align: right;\">\n",
       "      <th></th>\n",
       "      <th>LABEL</th>\n",
       "      <th>PM_PAR_14</th>\n",
       "      <th>PM_MAIL_NM</th>\n",
       "      <th>PM_MAIL_A1</th>\n",
       "      <th>PM_MAIL_A2</th>\n",
       "      <th>PM_MAIL_CT</th>\n",
       "      <th>PM_MAIL_ST</th>\n",
       "      <th>PM_MAIL_ZP</th>\n",
       "      <th>PM_PROP_AD</th>\n",
       "      <th>PM_DEEDCDT</th>\n",
       "      <th>...</th>\n",
       "      <th>LG_LINE_2</th>\n",
       "      <th>LG_LINE_3</th>\n",
       "      <th>LG_LINE_4</th>\n",
       "      <th>LG_LINE_5</th>\n",
       "      <th>LG_LINE_6</th>\n",
       "      <th>PM_PARC_CD</th>\n",
       "      <th>GlobalID</th>\n",
       "      <th>Shape_Length</th>\n",
       "      <th>Shape_Area</th>\n",
       "      <th>geometry</th>\n",
       "    </tr>\n",
       "  </thead>\n",
       "  <tbody>\n",
       "    <tr>\n",
       "      <th>1359</th>\n",
       "      <td>002B</td>\n",
       "      <td>RPM0001005002B</td>\n",
       "      <td>KENWORTHY PERFORMING ARTS CTR</td>\n",
       "      <td>508 S MAIN</td>\n",
       "      <td></td>\n",
       "      <td>MOSCOW</td>\n",
       "      <td>ID</td>\n",
       "      <td>83843.0</td>\n",
       "      <td>508 S MAIN</td>\n",
       "      <td>20010202.0</td>\n",
       "      <td>...</td>\n",
       "      <td>BLK 5 LOT 2, N 1/2 OF LOT 3</td>\n",
       "      <td>EXEMPT</td>\n",
       "      <td></td>\n",
       "      <td></td>\n",
       "      <td></td>\n",
       "      <td>C</td>\n",
       "      <td>{A4FB5B11-A87D-453A-ABD6-8BC607A17A20}</td>\n",
       "      <td>369.999919</td>\n",
       "      <td>7499.997375</td>\n",
       "      <td>MULTIPOLYGON (((2311036.946 1848531.880, 23110...</td>\n",
       "    </tr>\n",
       "  </tbody>\n",
       "</table>\n",
       "<p>1 rows × 36 columns</p>\n",
       "</div>"
      ],
      "text/plain": [
       "     LABEL       PM_PAR_14                     PM_MAIL_NM  PM_MAIL_A1  \\\n",
       "1359  002B  RPM0001005002B  KENWORTHY PERFORMING ARTS CTR  508 S MAIN   \n",
       "\n",
       "     PM_MAIL_A2 PM_MAIL_CT PM_MAIL_ST  PM_MAIL_ZP  PM_PROP_AD  PM_DEEDCDT  \\\n",
       "1359                MOSCOW         ID     83843.0  508 S MAIN  20010202.0   \n",
       "\n",
       "      ...                    LG_LINE_2 LG_LINE_3 LG_LINE_4 LG_LINE_5  \\\n",
       "1359  ...  BLK 5 LOT 2, N 1/2 OF LOT 3    EXEMPT                       \n",
       "\n",
       "     LG_LINE_6  PM_PARC_CD                                GlobalID  \\\n",
       "1359                     C  {A4FB5B11-A87D-453A-ABD6-8BC607A17A20}   \n",
       "\n",
       "      Shape_Length   Shape_Area  \\\n",
       "1359    369.999919  7499.997375   \n",
       "\n",
       "                                               geometry  \n",
       "1359  MULTIPOLYGON (((2311036.946 1848531.880, 23110...  \n",
       "\n",
       "[1 rows x 36 columns]"
      ]
     },
     "execution_count": 13,
     "metadata": {},
     "output_type": "execute_result"
    }
   ],
   "source": [
    "parcels[parcels.PM_MAIL_NM == \"KENWORTHY PERFORMING ARTS CTR\"]"
   ]
  },
  {
   "cell_type": "code",
   "execution_count": 31,
   "metadata": {
    "collapsed": true,
    "jupyter": {
     "outputs_hidden": true
    },
    "tags": []
   },
   "outputs": [
    {
     "ename": "KeyError",
     "evalue": "0",
     "output_type": "error",
     "traceback": [
      "\u001b[0;31m---------------------------------------------------------------------------\u001b[0m",
      "\u001b[0;31mKeyError\u001b[0m                                  Traceback (most recent call last)",
      "\u001b[0;32m~/anaconda3/envs/GISenv21b/lib/python3.9/site-packages/pandas/core/indexes/base.py\u001b[0m in \u001b[0;36mget_loc\u001b[0;34m(self, key, method, tolerance)\u001b[0m\n\u001b[1;32m   3360\u001b[0m             \u001b[0;32mtry\u001b[0m\u001b[0;34m:\u001b[0m\u001b[0;34m\u001b[0m\u001b[0;34m\u001b[0m\u001b[0m\n\u001b[0;32m-> 3361\u001b[0;31m                 \u001b[0;32mreturn\u001b[0m \u001b[0mself\u001b[0m\u001b[0;34m.\u001b[0m\u001b[0m_engine\u001b[0m\u001b[0;34m.\u001b[0m\u001b[0mget_loc\u001b[0m\u001b[0;34m(\u001b[0m\u001b[0mcasted_key\u001b[0m\u001b[0;34m)\u001b[0m\u001b[0;34m\u001b[0m\u001b[0;34m\u001b[0m\u001b[0m\n\u001b[0m\u001b[1;32m   3362\u001b[0m             \u001b[0;32mexcept\u001b[0m \u001b[0mKeyError\u001b[0m \u001b[0;32mas\u001b[0m \u001b[0merr\u001b[0m\u001b[0;34m:\u001b[0m\u001b[0;34m\u001b[0m\u001b[0;34m\u001b[0m\u001b[0m\n",
      "\u001b[0;32m~/anaconda3/envs/GISenv21b/lib/python3.9/site-packages/pandas/_libs/index.pyx\u001b[0m in \u001b[0;36mpandas._libs.index.IndexEngine.get_loc\u001b[0;34m()\u001b[0m\n",
      "\u001b[0;32m~/anaconda3/envs/GISenv21b/lib/python3.9/site-packages/pandas/_libs/index.pyx\u001b[0m in \u001b[0;36mpandas._libs.index.IndexEngine.get_loc\u001b[0;34m()\u001b[0m\n",
      "\u001b[0;32mpandas/_libs/hashtable_class_helper.pxi\u001b[0m in \u001b[0;36mpandas._libs.hashtable.Int64HashTable.get_item\u001b[0;34m()\u001b[0m\n",
      "\u001b[0;32mpandas/_libs/hashtable_class_helper.pxi\u001b[0m in \u001b[0;36mpandas._libs.hashtable.Int64HashTable.get_item\u001b[0;34m()\u001b[0m\n",
      "\u001b[0;31mKeyError\u001b[0m: 0",
      "\nThe above exception was the direct cause of the following exception:\n",
      "\u001b[0;31mKeyError\u001b[0m                                  Traceback (most recent call last)",
      "\u001b[0;32m/var/folders/x4/_qy1pvxd5lg_685vzy608d200000gn/T/ipykernel_18630/114620709.py\u001b[0m in \u001b[0;36m<module>\u001b[0;34m\u001b[0m\n\u001b[0;32m----> 1\u001b[0;31m \u001b[0mparcels\u001b[0m\u001b[0;34m[\u001b[0m\u001b[0mparcels\u001b[0m\u001b[0;34m.\u001b[0m\u001b[0mPM_MAIL_NM\u001b[0m \u001b[0;34m==\u001b[0m \u001b[0;34m\"KENWORTHY PERFORMING ARTS CTR\"\u001b[0m\u001b[0;34m]\u001b[0m\u001b[0;34m.\u001b[0m\u001b[0mgeometry\u001b[0m\u001b[0;34m[\u001b[0m\u001b[0;36m0\u001b[0m\u001b[0;34m]\u001b[0m\u001b[0;34m\u001b[0m\u001b[0;34m\u001b[0m\u001b[0m\n\u001b[0m",
      "\u001b[0;32m~/anaconda3/envs/GISenv21b/lib/python3.9/site-packages/geopandas/geoseries.py\u001b[0m in \u001b[0;36m__getitem__\u001b[0;34m(self, key)\u001b[0m\n\u001b[1;32m    556\u001b[0m \u001b[0;34m\u001b[0m\u001b[0m\n\u001b[1;32m    557\u001b[0m     \u001b[0;32mdef\u001b[0m \u001b[0m__getitem__\u001b[0m\u001b[0;34m(\u001b[0m\u001b[0mself\u001b[0m\u001b[0;34m,\u001b[0m \u001b[0mkey\u001b[0m\u001b[0;34m)\u001b[0m\u001b[0;34m:\u001b[0m\u001b[0;34m\u001b[0m\u001b[0;34m\u001b[0m\u001b[0m\n\u001b[0;32m--> 558\u001b[0;31m         \u001b[0;32mreturn\u001b[0m \u001b[0mself\u001b[0m\u001b[0;34m.\u001b[0m\u001b[0m_wrapped_pandas_method\u001b[0m\u001b[0;34m(\u001b[0m\u001b[0;34m\"__getitem__\"\u001b[0m\u001b[0;34m,\u001b[0m \u001b[0mkey\u001b[0m\u001b[0;34m)\u001b[0m\u001b[0;34m\u001b[0m\u001b[0;34m\u001b[0m\u001b[0m\n\u001b[0m\u001b[1;32m    559\u001b[0m \u001b[0;34m\u001b[0m\u001b[0m\n\u001b[1;32m    560\u001b[0m     \u001b[0;34m@\u001b[0m\u001b[0minherit_doc\u001b[0m\u001b[0;34m(\u001b[0m\u001b[0mpd\u001b[0m\u001b[0;34m.\u001b[0m\u001b[0mSeries\u001b[0m\u001b[0;34m)\u001b[0m\u001b[0;34m\u001b[0m\u001b[0;34m\u001b[0m\u001b[0m\n",
      "\u001b[0;32m~/anaconda3/envs/GISenv21b/lib/python3.9/site-packages/geopandas/geoseries.py\u001b[0m in \u001b[0;36m_wrapped_pandas_method\u001b[0;34m(self, mtd, *args, **kwargs)\u001b[0m\n\u001b[1;32m    549\u001b[0m     \u001b[0;32mdef\u001b[0m \u001b[0m_wrapped_pandas_method\u001b[0m\u001b[0;34m(\u001b[0m\u001b[0mself\u001b[0m\u001b[0;34m,\u001b[0m \u001b[0mmtd\u001b[0m\u001b[0;34m,\u001b[0m \u001b[0;34m*\u001b[0m\u001b[0margs\u001b[0m\u001b[0;34m,\u001b[0m \u001b[0;34m**\u001b[0m\u001b[0mkwargs\u001b[0m\u001b[0;34m)\u001b[0m\u001b[0;34m:\u001b[0m\u001b[0;34m\u001b[0m\u001b[0;34m\u001b[0m\u001b[0m\n\u001b[1;32m    550\u001b[0m         \u001b[0;34m\"\"\"Wrap a generic pandas method to ensure it returns a GeoSeries\"\"\"\u001b[0m\u001b[0;34m\u001b[0m\u001b[0;34m\u001b[0m\u001b[0m\n\u001b[0;32m--> 551\u001b[0;31m         \u001b[0mval\u001b[0m \u001b[0;34m=\u001b[0m \u001b[0mgetattr\u001b[0m\u001b[0;34m(\u001b[0m\u001b[0msuper\u001b[0m\u001b[0;34m(\u001b[0m\u001b[0mGeoSeries\u001b[0m\u001b[0;34m,\u001b[0m \u001b[0mself\u001b[0m\u001b[0;34m)\u001b[0m\u001b[0;34m,\u001b[0m \u001b[0mmtd\u001b[0m\u001b[0;34m)\u001b[0m\u001b[0;34m(\u001b[0m\u001b[0;34m*\u001b[0m\u001b[0margs\u001b[0m\u001b[0;34m,\u001b[0m \u001b[0;34m**\u001b[0m\u001b[0mkwargs\u001b[0m\u001b[0;34m)\u001b[0m\u001b[0;34m\u001b[0m\u001b[0;34m\u001b[0m\u001b[0m\n\u001b[0m\u001b[1;32m    552\u001b[0m         \u001b[0;32mif\u001b[0m \u001b[0mtype\u001b[0m\u001b[0;34m(\u001b[0m\u001b[0mval\u001b[0m\u001b[0;34m)\u001b[0m \u001b[0;34m==\u001b[0m \u001b[0mSeries\u001b[0m\u001b[0;34m:\u001b[0m\u001b[0;34m\u001b[0m\u001b[0;34m\u001b[0m\u001b[0m\n\u001b[1;32m    553\u001b[0m             \u001b[0mval\u001b[0m\u001b[0;34m.\u001b[0m\u001b[0m__class__\u001b[0m \u001b[0;34m=\u001b[0m \u001b[0mGeoSeries\u001b[0m\u001b[0;34m\u001b[0m\u001b[0;34m\u001b[0m\u001b[0m\n",
      "\u001b[0;32m~/anaconda3/envs/GISenv21b/lib/python3.9/site-packages/pandas/core/series.py\u001b[0m in \u001b[0;36m__getitem__\u001b[0;34m(self, key)\u001b[0m\n\u001b[1;32m    940\u001b[0m \u001b[0;34m\u001b[0m\u001b[0m\n\u001b[1;32m    941\u001b[0m         \u001b[0;32melif\u001b[0m \u001b[0mkey_is_scalar\u001b[0m\u001b[0;34m:\u001b[0m\u001b[0;34m\u001b[0m\u001b[0;34m\u001b[0m\u001b[0m\n\u001b[0;32m--> 942\u001b[0;31m             \u001b[0;32mreturn\u001b[0m \u001b[0mself\u001b[0m\u001b[0;34m.\u001b[0m\u001b[0m_get_value\u001b[0m\u001b[0;34m(\u001b[0m\u001b[0mkey\u001b[0m\u001b[0;34m)\u001b[0m\u001b[0;34m\u001b[0m\u001b[0;34m\u001b[0m\u001b[0m\n\u001b[0m\u001b[1;32m    943\u001b[0m \u001b[0;34m\u001b[0m\u001b[0m\n\u001b[1;32m    944\u001b[0m         \u001b[0;32mif\u001b[0m \u001b[0mis_hashable\u001b[0m\u001b[0;34m(\u001b[0m\u001b[0mkey\u001b[0m\u001b[0;34m)\u001b[0m\u001b[0;34m:\u001b[0m\u001b[0;34m\u001b[0m\u001b[0;34m\u001b[0m\u001b[0m\n",
      "\u001b[0;32m~/anaconda3/envs/GISenv21b/lib/python3.9/site-packages/pandas/core/series.py\u001b[0m in \u001b[0;36m_get_value\u001b[0;34m(self, label, takeable)\u001b[0m\n\u001b[1;32m   1049\u001b[0m \u001b[0;34m\u001b[0m\u001b[0m\n\u001b[1;32m   1050\u001b[0m         \u001b[0;31m# Similar to Index.get_value, but we do not fall back to positional\u001b[0m\u001b[0;34m\u001b[0m\u001b[0;34m\u001b[0m\u001b[0;34m\u001b[0m\u001b[0m\n\u001b[0;32m-> 1051\u001b[0;31m         \u001b[0mloc\u001b[0m \u001b[0;34m=\u001b[0m \u001b[0mself\u001b[0m\u001b[0;34m.\u001b[0m\u001b[0mindex\u001b[0m\u001b[0;34m.\u001b[0m\u001b[0mget_loc\u001b[0m\u001b[0;34m(\u001b[0m\u001b[0mlabel\u001b[0m\u001b[0;34m)\u001b[0m\u001b[0;34m\u001b[0m\u001b[0;34m\u001b[0m\u001b[0m\n\u001b[0m\u001b[1;32m   1052\u001b[0m         \u001b[0;32mreturn\u001b[0m \u001b[0mself\u001b[0m\u001b[0;34m.\u001b[0m\u001b[0mindex\u001b[0m\u001b[0;34m.\u001b[0m\u001b[0m_get_values_for_loc\u001b[0m\u001b[0;34m(\u001b[0m\u001b[0mself\u001b[0m\u001b[0;34m,\u001b[0m \u001b[0mloc\u001b[0m\u001b[0;34m,\u001b[0m \u001b[0mlabel\u001b[0m\u001b[0;34m)\u001b[0m\u001b[0;34m\u001b[0m\u001b[0;34m\u001b[0m\u001b[0m\n\u001b[1;32m   1053\u001b[0m \u001b[0;34m\u001b[0m\u001b[0m\n",
      "\u001b[0;32m~/anaconda3/envs/GISenv21b/lib/python3.9/site-packages/pandas/core/indexes/base.py\u001b[0m in \u001b[0;36mget_loc\u001b[0;34m(self, key, method, tolerance)\u001b[0m\n\u001b[1;32m   3361\u001b[0m                 \u001b[0;32mreturn\u001b[0m \u001b[0mself\u001b[0m\u001b[0;34m.\u001b[0m\u001b[0m_engine\u001b[0m\u001b[0;34m.\u001b[0m\u001b[0mget_loc\u001b[0m\u001b[0;34m(\u001b[0m\u001b[0mcasted_key\u001b[0m\u001b[0;34m)\u001b[0m\u001b[0;34m\u001b[0m\u001b[0;34m\u001b[0m\u001b[0m\n\u001b[1;32m   3362\u001b[0m             \u001b[0;32mexcept\u001b[0m \u001b[0mKeyError\u001b[0m \u001b[0;32mas\u001b[0m \u001b[0merr\u001b[0m\u001b[0;34m:\u001b[0m\u001b[0;34m\u001b[0m\u001b[0;34m\u001b[0m\u001b[0m\n\u001b[0;32m-> 3363\u001b[0;31m                 \u001b[0;32mraise\u001b[0m \u001b[0mKeyError\u001b[0m\u001b[0;34m(\u001b[0m\u001b[0mkey\u001b[0m\u001b[0;34m)\u001b[0m \u001b[0;32mfrom\u001b[0m \u001b[0merr\u001b[0m\u001b[0;34m\u001b[0m\u001b[0;34m\u001b[0m\u001b[0m\n\u001b[0m\u001b[1;32m   3364\u001b[0m \u001b[0;34m\u001b[0m\u001b[0m\n\u001b[1;32m   3365\u001b[0m         \u001b[0;32mif\u001b[0m \u001b[0mis_scalar\u001b[0m\u001b[0;34m(\u001b[0m\u001b[0mkey\u001b[0m\u001b[0;34m)\u001b[0m \u001b[0;32mand\u001b[0m \u001b[0misna\u001b[0m\u001b[0;34m(\u001b[0m\u001b[0mkey\u001b[0m\u001b[0;34m)\u001b[0m \u001b[0;32mand\u001b[0m \u001b[0;32mnot\u001b[0m \u001b[0mself\u001b[0m\u001b[0;34m.\u001b[0m\u001b[0mhasnans\u001b[0m\u001b[0;34m:\u001b[0m\u001b[0;34m\u001b[0m\u001b[0;34m\u001b[0m\u001b[0m\n",
      "\u001b[0;31mKeyError\u001b[0m: 0"
     ]
    }
   ],
   "source": [
    "parcels[parcels.PM_MAIL_NM == \"KENWORTHY PERFORMING ARTS CTR\"].geometry[0]"
   ]
  },
  {
   "cell_type": "code",
   "execution_count": 16,
   "metadata": {},
   "outputs": [
    {
     "data": {
      "text/plain": [
       "array([<shapely.geometry.multipolygon.MultiPolygon object at 0x14880c910>],\n",
       "      dtype=object)"
      ]
     },
     "execution_count": 16,
     "metadata": {},
     "output_type": "execute_result"
    }
   ],
   "source": [
    "parcels[parcels.PM_MAIL_NM == \"KENWORTHY PERFORMING ARTS CTR\"].geometry.to_numpy()"
   ]
  },
  {
   "cell_type": "code",
   "execution_count": 18,
   "metadata": {},
   "outputs": [
    {
     "data": {
      "image/svg+xml": [
       "<svg xmlns=\"http://www.w3.org/2000/svg\" xmlns:xlink=\"http://www.w3.org/1999/xlink\" width=\"135.71370495203882\" height=\"100.0\" viewBox=\"2310906.2586367275 1848466.856947388 135.71370495203882 71.44185187015682\" preserveAspectRatio=\"xMinYMin meet\"><g transform=\"matrix(1,0,0,-1,0,3697005.155746646)\"><g><path fill-rule=\"evenodd\" fill=\"#66cc99\" stroke=\"#555555\" stroke-width=\"2.0\" opacity=\"0.6\" d=\"M 2311036.9459081627,1848531.879651986 L 2311036.277274329,1848471.8833809048 L 2310911.285070244,1848473.2760946527 L 2310911.9537040778,1848533.2723657414 L 2311036.9459081627,1848531.879651986 z\" /></g></g></svg>"
      ],
      "text/plain": [
       "<shapely.geometry.multipolygon.MultiPolygon at 0x14880c910>"
      ]
     },
     "execution_count": 18,
     "metadata": {},
     "output_type": "execute_result"
    }
   ],
   "source": [
    "parcels[parcels.PM_MAIL_NM == \"KENWORTHY PERFORMING ARTS CTR\"].geometry.to_numpy()[0]"
   ]
  },
  {
   "cell_type": "code",
   "execution_count": 20,
   "metadata": {},
   "outputs": [
    {
     "data": {
      "text/plain": [
       "shapely.geometry.multipolygon.MultiPolygon"
      ]
     },
     "execution_count": 20,
     "metadata": {},
     "output_type": "execute_result"
    }
   ],
   "source": [
    "type(parcels[parcels.PM_MAIL_NM == \"KENWORTHY PERFORMING ARTS CTR\"].geometry.to_numpy()[0])"
   ]
  },
  {
   "cell_type": "code",
   "execution_count": 22,
   "metadata": {},
   "outputs": [
    {
     "data": {
      "image/svg+xml": [
       "<svg xmlns=\"http://www.w3.org/2000/svg\" xmlns:xlink=\"http://www.w3.org/1999/xlink\" width=\"135.71370495203882\" height=\"100.0\" viewBox=\"2310906.2586367275 1848466.856947388 135.71370495203882 71.44185187015682\" preserveAspectRatio=\"xMinYMin meet\"><g transform=\"matrix(1,0,0,-1,0,3697005.155746646)\"><path fill-rule=\"evenodd\" fill=\"#66cc99\" stroke=\"#555555\" stroke-width=\"2.0\" opacity=\"0.6\" d=\"M 2311036.9459081627,1848531.879651986 L 2311036.277274329,1848471.8833809048 L 2310911.285070244,1848473.2760946527 L 2310911.9537040778,1848533.2723657414 L 2311036.9459081627,1848531.879651986 z\" /></g></svg>"
      ],
      "text/plain": [
       "<shapely.geometry.polygon.Polygon at 0x1482cf700>"
      ]
     },
     "execution_count": 22,
     "metadata": {},
     "output_type": "execute_result"
    }
   ],
   "source": [
    "parcels[parcels.PM_MAIL_NM == \"KENWORTHY PERFORMING ARTS CTR\"].geometry.to_numpy()[0].geoms[0]"
   ]
  },
  {
   "cell_type": "code",
   "execution_count": 23,
   "metadata": {},
   "outputs": [
    {
     "name": "stdout",
     "output_type": "stream",
     "text": [
      "POLYGON ((2311036.945908163 1848531.879651986, 2311036.277274329 1848471.883380905, 2310911.285070244 1848473.276094653, 2310911.953704078 1848533.272365741, 2311036.945908163 1848531.879651986))\n"
     ]
    }
   ],
   "source": [
    "print(parcels[parcels.PM_MAIL_NM == \"KENWORTHY PERFORMING ARTS CTR\"].geometry.to_numpy()[0].geoms[0])"
   ]
  },
  {
   "cell_type": "code",
   "execution_count": 24,
   "metadata": {},
   "outputs": [
    {
     "ename": "NotImplementedError",
     "evalue": "Component rings have coordinate sequences, but the polygon does not",
     "output_type": "error",
     "traceback": [
      "\u001b[0;31m---------------------------------------------------------------------------\u001b[0m",
      "\u001b[0;31mNotImplementedError\u001b[0m                       Traceback (most recent call last)",
      "\u001b[0;32m/var/folders/x4/_qy1pvxd5lg_685vzy608d200000gn/T/ipykernel_18630/2261311782.py\u001b[0m in \u001b[0;36m<module>\u001b[0;34m\u001b[0m\n\u001b[0;32m----> 1\u001b[0;31m \u001b[0mparcels\u001b[0m\u001b[0;34m[\u001b[0m\u001b[0mparcels\u001b[0m\u001b[0;34m.\u001b[0m\u001b[0mPM_MAIL_NM\u001b[0m \u001b[0;34m==\u001b[0m \u001b[0;34m\"KENWORTHY PERFORMING ARTS CTR\"\u001b[0m\u001b[0;34m]\u001b[0m\u001b[0;34m.\u001b[0m\u001b[0mgeometry\u001b[0m\u001b[0;34m.\u001b[0m\u001b[0mto_numpy\u001b[0m\u001b[0;34m(\u001b[0m\u001b[0;34m)\u001b[0m\u001b[0;34m[\u001b[0m\u001b[0;36m0\u001b[0m\u001b[0;34m]\u001b[0m\u001b[0;34m.\u001b[0m\u001b[0mgeoms\u001b[0m\u001b[0;34m[\u001b[0m\u001b[0;36m0\u001b[0m\u001b[0;34m]\u001b[0m\u001b[0;34m.\u001b[0m\u001b[0mcoords\u001b[0m\u001b[0;34m\u001b[0m\u001b[0;34m\u001b[0m\u001b[0m\n\u001b[0m",
      "\u001b[0;32m~/anaconda3/envs/GISenv21b/lib/python3.9/site-packages/shapely/geometry/polygon.py\u001b[0m in \u001b[0;36mcoords\u001b[0;34m(self)\u001b[0m\n\u001b[1;32m    311\u001b[0m     \u001b[0;34m@\u001b[0m\u001b[0mproperty\u001b[0m\u001b[0;34m\u001b[0m\u001b[0;34m\u001b[0m\u001b[0m\n\u001b[1;32m    312\u001b[0m     \u001b[0;32mdef\u001b[0m \u001b[0mcoords\u001b[0m\u001b[0;34m(\u001b[0m\u001b[0mself\u001b[0m\u001b[0;34m)\u001b[0m\u001b[0;34m:\u001b[0m\u001b[0;34m\u001b[0m\u001b[0;34m\u001b[0m\u001b[0m\n\u001b[0;32m--> 313\u001b[0;31m         raise NotImplementedError(\n\u001b[0m\u001b[1;32m    314\u001b[0m         \"Component rings have coordinate sequences, but the polygon does not\")\n\u001b[1;32m    315\u001b[0m \u001b[0;34m\u001b[0m\u001b[0m\n",
      "\u001b[0;31mNotImplementedError\u001b[0m: Component rings have coordinate sequences, but the polygon does not"
     ]
    }
   ],
   "source": [
    "parcels[parcels.PM_MAIL_NM == \"KENWORTHY PERFORMING ARTS CTR\"].geometry.to_numpy()[0].geoms[0].coords"
   ]
  },
  {
   "cell_type": "markdown",
   "metadata": {},
   "source": [
    "https://www.google.com/search?client=firefox-b-1-d&q=coords+of+a+polygon+shapely"
   ]
  },
  {
   "cell_type": "code",
   "execution_count": 25,
   "metadata": {},
   "outputs": [
    {
     "data": {
      "text/plain": [
       "[(2311036.9459081627, 1848531.879651986),\n",
       " (2311036.277274329, 1848471.8833809048),\n",
       " (2310911.285070244, 1848473.2760946527),\n",
       " (2310911.9537040778, 1848533.2723657414),\n",
       " (2311036.9459081627, 1848531.879651986)]"
      ]
     },
     "execution_count": 25,
     "metadata": {},
     "output_type": "execute_result"
    }
   ],
   "source": [
    "list(parcels[parcels.PM_MAIL_NM == \"KENWORTHY PERFORMING ARTS CTR\"].geometry.to_numpy()[0].geoms[0].exterior.coords)"
   ]
  },
  {
   "cell_type": "code",
   "execution_count": null,
   "metadata": {},
   "outputs": [],
   "source": [
    "import shapely\n",
    "help(shapely.geometry.polygon)"
   ]
  },
  {
   "cell_type": "code",
   "execution_count": null,
   "metadata": {},
   "outputs": [],
   "source": []
  },
  {
   "cell_type": "code",
   "execution_count": null,
   "metadata": {},
   "outputs": [],
   "source": []
  },
  {
   "cell_type": "code",
   "execution_count": null,
   "metadata": {},
   "outputs": [],
   "source": [
    "i = 2 # Look at one park, for example\n",
    "print(parks.iloc[i])\n",
    "\n",
    "buffer_radius = 200 # What are the units for this?\n",
    "\n",
    "buffered_park = parks.iloc[i:i+1].buffer(buffer_radius) # Careful!  I'm not sure why this is, but geopandas requires a slice here, not a single index\n",
    "    #If you use just one index, it seems to remove all the geopandas properties of the data\n",
    "buffered_park.plot()\n",
    "\n"
   ]
  },
  {
   "cell_type": "markdown",
   "metadata": {},
   "source": [
    "<div class=\"alert alert-block alert-warning\">\n",
    "\n",
    "## 2. Identifying Moscow residents underserved by city parks.\n",
    "You're an urban planner consulting with the City of Moscow.  The city is interested in increasing the number of parks\n",
    "    within the city, and better designing those parks to meet the needs of those who are currently underserved\n",
    "    by the city's existing parks.  The city wants to begin the planning process by reaching out to these currently\n",
    "    underserved residents, but first the city needs to know who they are.\n",
    "    \n",
    "The city asks you to produce a list of all resident addresses within the city limits whose property is at least 1000 feet\n",
    "    from a current park.\n",
    "    \n",
    "To properly address the letters and questionaires that the city will be sending out, the city would like this list\n",
    "    of residents as a csv file, with each property address on a separate line (property addresses are represented within\n",
    "    the parcels database by the field name \"PM_PROP_AD\").  Produce this file and a map of the underserved parcels.\n",
    "    \n",
    "\n",
    "\n",
    "</div>"
   ]
  },
  {
   "cell_type": "code",
   "execution_count": null,
   "metadata": {},
   "outputs": [],
   "source": []
  },
  {
   "cell_type": "code",
   "execution_count": null,
   "metadata": {},
   "outputs": [],
   "source": [
    "%matplotlib widget\n",
    "\n",
    "fig, ax = plt.subplots()\n",
    "parks.buffer(buffer_radius).plot(ax=ax, color='g')\n",
    "# city_limits.plot(ax=ax, color=None, edgecolor='r')\n",
    "roads.plot(ax=ax)\n",
    "\n",
    "ax.set_xlim( city_limits.bounds.to_numpy()[0][::2] )\n",
    "ax.set_ylim( city_limits.bounds.to_numpy()[0][1::2] )"
   ]
  },
  {
   "cell_type": "code",
   "execution_count": null,
   "metadata": {},
   "outputs": [],
   "source": []
  },
  {
   "cell_type": "code",
   "execution_count": null,
   "metadata": {
    "tags": []
   },
   "outputs": [],
   "source": [
    "roads"
   ]
  },
  {
   "cell_type": "code",
   "execution_count": null,
   "metadata": {},
   "outputs": [],
   "source": [
    "zoning.columns"
   ]
  },
  {
   "cell_type": "code",
   "execution_count": null,
   "metadata": {},
   "outputs": [],
   "source": [
    "zoning['LANDUSEDESC'].unique()"
   ]
  },
  {
   "cell_type": "code",
   "execution_count": null,
   "metadata": {},
   "outputs": [],
   "source": [
    "zoning['LANDUSECODE'].unique()"
   ]
  },
  {
   "cell_type": "code",
   "execution_count": null,
   "metadata": {},
   "outputs": [],
   "source": [
    "# We can measure the distance between any parcel and a point near the center of downtown Moscow\n",
    "from shapely.geometry import Point\n",
    "parcels['Dwntn_dist'] = parcels.distance(Point(2.311e6, 1.849e6))"
   ]
  },
  {
   "cell_type": "markdown",
   "metadata": {},
   "source": [
    "#### Visualizing the data\n",
    "I think each of the plots below is interesting.  Try commenting and uncommenting each one"
   ]
  },
  {
   "cell_type": "code",
   "execution_count": null,
   "metadata": {
    "tags": []
   },
   "outputs": [],
   "source": [
    "%matplotlib widget\n",
    "fig, ax = plt.subplots( figsize=(8,8) )\n",
    "\n",
    "# These are a few of the interesting plots to look at.\n",
    "# parcels.plot(column='Dwntn_dist', ax=ax, legend=True, vmax=5280);\n",
    "zoning.plot(column='LANDUSEDESC', ax=ax, legend=True, cmap='tab20')\n",
    "# parcels.plot(column= 'SaleYear', ax=ax, legend=True, vmin=1990)\n",
    "\n",
    "ax.set_xlim( city_limits.bounds.to_numpy()[0][::2] )\n",
    "ax.set_ylim( city_limits.bounds.to_numpy()[0][1::2] )\n",
    "\n",
    "roads.plot(ax=ax, color='gray')\n"
   ]
  },
  {
   "cell_type": "code",
   "execution_count": null,
   "metadata": {},
   "outputs": [],
   "source": []
  },
  {
   "cell_type": "markdown",
   "metadata": {},
   "source": [
    "### Property sales over time\n",
    "Similar to the assignment from last week, we can look at the property sales as a function of time."
   ]
  },
  {
   "cell_type": "code",
   "execution_count": null,
   "metadata": {
    "tags": []
   },
   "outputs": [],
   "source": [
    "import pandas as pd\n",
    "print( parcels['PM_DEEDCDT'].astype(str)[:4] )\n",
    "\n",
    "parcels['SaleDate'] = pd.to_datetime(\n",
    "    parcels['PM_DEEDCDT'], \n",
    "    errors='coerce', \n",
    "    format='%Y%m%d')\n"
   ]
  },
  {
   "cell_type": "code",
   "execution_count": null,
   "metadata": {
    "tags": []
   },
   "outputs": [],
   "source": [
    "parcels['SaleDate']"
   ]
  },
  {
   "cell_type": "code",
   "execution_count": null,
   "metadata": {
    "tags": []
   },
   "outputs": [],
   "source": [
    "dates = parcels['PM_DEEDCDT'].to_numpy() # Pull out all the sale dates (initially floats)\n",
    "yr = np.full( dates.shape, np.nan ) # initialize a variable full of nans\n",
    "\n",
    "for i in range(len(dates)): \n",
    "    if dates[i] > 0:\n",
    "        yr[i] = int( str(dates[i])[:4] )\n",
    "    else:\n",
    "        yr[i] = np.nan\n",
    "\n",
    "parcels['SaleYear'] = yr # Create a new column for the parcels data frame representing sale year\n"
   ]
  },
  {
   "cell_type": "code",
   "execution_count": null,
   "metadata": {},
   "outputs": [],
   "source": [
    "bin_size = np.timedelta64(365, 'D')/12 # days\n",
    "fig, ax = plt.subplots()\n",
    "ax.hist(parcels['SaleDate'], bins=np.arange(np.datetime64('1990-01-01'), \n",
    "                                            np.datetime64('2022-01-01'), \n",
    "                                            bin_size ) )\n",
    "ylabel_text = 'Number of property sales in Moscow\\nper ' + str(bin_size.astype(int)) + ' days'\n",
    "ax.set_ylabel(ylabel_text)\n",
    "ax.set_xlim(np.datetime64('2000-01-01'), np.datetime64('2022-01-01') );\n",
    "# ax.set_xlim(np.datetime64('2010-12-15'), np.datetime64('2011-01-01') )\n",
    "\n",
    "# Note that the sales at the end of 2010 are anomalous, and are all recorded on the same day.\n",
    "# That's suspicious and Tim thinks that it must be some change in accounting or record keeping."
   ]
  },
  {
   "cell_type": "code",
   "execution_count": null,
   "metadata": {},
   "outputs": [],
   "source": []
  },
  {
   "cell_type": "markdown",
   "metadata": {},
   "source": [
    "<div class=\"alert alert-block alert-warning\">\n",
    "\n",
    "## 3. Investing in downtown property\n",
    "You are the GIS consultant for a property investment company that specializes in\n",
    "downtown and higher-density properties.  Your company is considering Moscow real estate.\n",
    "You've heard about the boom in sales within the city, and your company would like to know how competitive\n",
    "property purchasing will be, or if they will be able to drive a hard bargin.\n",
    "\n",
    "Has the downtown property market heated up as much as within the city as a whole?\n",
    "Compare sale rates within two of the zoned downtown regions with those of the city as a whole.\n",
    "    \n",
    "Is there anything else in these data that you would like to share with your colleagues\n",
    "    that could help advise them as you consider this investment?\n",
    "</div>"
   ]
  },
  {
   "cell_type": "code",
   "execution_count": null,
   "metadata": {},
   "outputs": [],
   "source": []
  },
  {
   "cell_type": "markdown",
   "metadata": {},
   "source": [
    "<div class=\"alert alert-block alert-warning\">\n",
    "\n",
    "## 4. Find, plot, work with data of your own\n",
    "Find a spatial, vector dataset of your choosing (by googling, from another class, \n",
    "    or from a research project of yours). This could be climate data, geologic units,\n",
    "    census data, ecological units, demographic data, etc. Download or copy this dataset\n",
    "    into the current directory, plot it, and use geopandas to draw on the attributes \n",
    "    of that data (even just lengths, areas, etc) and tell me something about that data.\n",
    "</div>"
   ]
  },
  {
   "cell_type": "code",
   "execution_count": null,
   "metadata": {},
   "outputs": [],
   "source": []
  },
  {
   "cell_type": "code",
   "execution_count": null,
   "metadata": {},
   "outputs": [],
   "source": []
  },
  {
   "cell_type": "code",
   "execution_count": null,
   "metadata": {},
   "outputs": [],
   "source": []
  }
 ],
 "metadata": {
  "kernelspec": {
   "display_name": "ArcGISPro",
   "language": "Python",
   "name": "python3"
  },
  "language_info": {
   "file_extension": ".py",
   "name": "python",
   "version": "3"
  }
 },
 "nbformat": 4,
 "nbformat_minor": 5
}

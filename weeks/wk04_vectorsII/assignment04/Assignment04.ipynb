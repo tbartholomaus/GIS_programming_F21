{
 "cells": [
  {
   "cell_type": "markdown",
   "id": "b14b20c6-4f6d-4d35-98c0-095d4b9c01c3",
   "metadata": {},
   "source": [
    "# Assignment 04\n"
   ]
  },
  {
   "cell_type": "code",
   "execution_count": null,
   "id": "b38efdc7-7f92-4a40-9178-7c0f61cfc5fd",
   "metadata": {},
   "outputs": [],
   "source": []
  },
  {
   "cell_type": "code",
   "execution_count": null,
   "id": "f4a70078-b2c0-4a6b-b270-7575dbcd8eda",
   "metadata": {},
   "outputs": [],
   "source": [
    "import numpy as np\n",
    "import matplotlib.pyplot as plt\n",
    "from pathlib import Path\n",
    "\n",
    "import geopandas as gpd"
   ]
  },
  {
   "cell_type": "code",
   "execution_count": null,
   "id": "f036393c-ec90-4fec-a144-de07755f16fc",
   "metadata": {},
   "outputs": [],
   "source": [
    "datasets_dir = Path('../../../datasets')\n",
    "# ls ../../"
   ]
  },
  {
   "cell_type": "code",
   "execution_count": null,
   "id": "2e77bc7a-41dc-4ac4-baea-5bbe28e4a040",
   "metadata": {},
   "outputs": [],
   "source": [
    "datasets_dir"
   ]
  },
  {
   "cell_type": "code",
   "execution_count": null,
   "id": "bc2dd580-ad80-4615-8a26-9df0b18b916d",
   "metadata": {},
   "outputs": [],
   "source": [
    "moscow_gdb_path = datasets_dir / 'moscow' / 'moscow_vectors' / 'Moscow.gdb'\n",
    "print(moscow_gdb_path)\n",
    "print(type(moscow_gdb_path))"
   ]
  },
  {
   "cell_type": "code",
   "execution_count": null,
   "id": "554bb916-a1c5-4319-9395-a7a499f227b4",
   "metadata": {},
   "outputs": [],
   "source": []
  },
  {
   "cell_type": "code",
   "execution_count": null,
   "id": "659e9eeb-782d-4df6-b335-943ed6a38203",
   "metadata": {},
   "outputs": [],
   "source": [
    "import fiona\n",
    "moscow_gdb = str(moscow_gdb_path)\n",
    "\n",
    "fiona.listlayers(moscow_gdb)"
   ]
  },
  {
   "cell_type": "code",
   "execution_count": null,
   "id": "749b5581-d9ea-48e2-8949-e6acb8e8d685",
   "metadata": {},
   "outputs": [],
   "source": [
    "parcels = gpd.read_file(moscow_gdb, layer='Parcels')\n",
    "roads = gpd.read_file(moscow_gdb, layer='Centerlines')\n",
    "zoning = gpd.read_file(moscow_gdb, layer='Moscow_Zoning')\n",
    "city_limits = gpd.read_file(moscow_gdb, layer='Moscow_City_Limit')\n",
    "parks = gpd.read_file(moscow_gdb, layer='Moscow_Parks')\n"
   ]
  },
  {
   "cell_type": "code",
   "execution_count": null,
   "id": "994b45f8-6c0c-4f15-8580-e97c5586b077",
   "metadata": {},
   "outputs": [],
   "source": [
    "parcels.columns"
   ]
  },
  {
   "cell_type": "markdown",
   "id": "533f554b-1fcd-4e89-aecd-749742abdd50",
   "metadata": {},
   "source": [
    "### Shapely geometries\n",
    "Behind the scenes, geopandas is reading in vector data, storing the attribute tables as `pandas` dataframes,\n",
    "and storing the vector geometry as `shapely` geometries.\n",
    "\n",
    "\n",
    "### Reading:\n",
    "To become more familiar with vector operations in geopandas/shapely, \n",
    "read this introduction to shapely geometries carefully, \n",
    "and reproduce/experiment with the code in this reading from within a blank notebook:\n",
    "https://towardsdatascience.com/geospatial-adventures-step-1-shapely-e911e4f86361\n",
    "\n",
    "Read this page for a more comprehensive description of `shapely` geometries: \n",
    "https://autogis-site.readthedocs.io/en/latest/notebooks/L1/geometric-objects.html\n",
    "\n",
    "Scroll through the `shapely` user manual (https://shapely.readthedocs.io/en/stable/manual.html), \n",
    "reviewing the different functions that shapely includes.  `geopandas` allows all of these functions to be\n",
    "executed, [directly through `geopandas`, without explicit call to `shapely`](https://geopandas.org/docs/user_guide/geometric_manipulations.html).  `shapely` is just running\n",
    "quietly under the hood.  Pay specific attention to the \"Spatial Analysis Methods\" of the manual."
   ]
  },
  {
   "cell_type": "code",
   "execution_count": null,
   "id": "a805a90a-a722-41bd-b340-ac15e6531723",
   "metadata": {},
   "outputs": [],
   "source": [
    "from shapely.geometry import LineString\n",
    "line = LineString([(0, 0), (1, 1), (2, 0)])\n",
    "print('Line area =', line.area)\n",
    "print('Line length =', line.length)"
   ]
  },
  {
   "cell_type": "code",
   "execution_count": null,
   "id": "91dda482-8e26-41bd-b40b-732e714cd6f9",
   "metadata": {},
   "outputs": [],
   "source": [
    "line"
   ]
  },
  {
   "cell_type": "code",
   "execution_count": null,
   "id": "92ea295d-9a77-4bf6-9718-0b3cd9979e88",
   "metadata": {},
   "outputs": [],
   "source": [
    "type(line)"
   ]
  },
  {
   "cell_type": "code",
   "execution_count": null,
   "id": "50696400-bd30-4071-8e44-6535e41c37cc",
   "metadata": {},
   "outputs": [],
   "source": [
    "print( list(line.coords) )\n",
    "print( line.coords[2] )"
   ]
  },
  {
   "cell_type": "markdown",
   "id": "aa3bf992-2366-47e0-bc24-0d49657b6e92",
   "metadata": {},
   "source": [
    "<div class=\"alert alert-block alert-warning\">\n",
    "\n",
    "## 1. Shapely geometries\n",
    "What `shapely` geometry are each of the parcels in the Moscow parcels layer? What `shapely` geometry are their centroids?\n",
    "    \n",
    "Find the Kenworthy Theater within the parcels database (hint: the name field for its mailing address, \n",
    "    PM_MAIL_NM, is \"KENWORTHY PERFORMING ARTS CTR\").\n",
    "What are the coordinates for the corners of its parcel?    \n",
    "</div>\n"
   ]
  },
  {
   "cell_type": "code",
   "execution_count": null,
   "id": "291f89be-8ae4-4981-8e6c-aa435511154f",
   "metadata": {},
   "outputs": [],
   "source": []
  },
  {
   "cell_type": "code",
   "execution_count": null,
   "id": "ad2dffbb-5697-41ce-84a0-3a6b7f9d3538",
   "metadata": {},
   "outputs": [],
   "source": []
  },
  {
   "cell_type": "code",
   "execution_count": null,
   "id": "7ce56df3-ba09-4ae1-a5ed-67c032f129b8",
   "metadata": {},
   "outputs": [],
   "source": [
    "i = 2 # Look at one park, for example\n",
    "print(parks.iloc[i])\n",
    "\n",
    "buffer_radius = 200 # What are the units for this?\n",
    "\n",
    "buffered_park = parks.iloc[i:i+1].buffer(buffer_radius) # Careful!  I'm not sure why this is, but geopandas requires a slice here, not a single index\n",
    "    #If you use just one index, it seems to remove all the geopandas properties of the data\n",
    "buffered_park.plot()\n",
    "\n"
   ]
  },
  {
   "cell_type": "markdown",
   "id": "f7205e5e-a333-49db-9006-2471cf7b791b",
   "metadata": {},
   "source": [
    "<div class=\"alert alert-block alert-warning\">\n",
    "\n",
    "## 2. Identifying Moscow residents underserved by city parks.\n",
    "You're an urban planner consulting with the City of Moscow.  The city is interested in increasing the number of parks\n",
    "    within the city, and better designing those parks to meet the needs of those who are currently underserved\n",
    "    by the city's existing parks.  The city wants to begin the planning process by reaching out to these currently\n",
    "    underserved residents, but first the city needs to know who they are.\n",
    "    \n",
    "The city asks you to produce a list of all resident addresses within the city limits whose property is at least 1000 feet\n",
    "    from a current park.\n",
    "    \n",
    "To properly address the letters and questionaires that the city will be sending out, the city would like this list\n",
    "    of residents as a csv file, with each property address on a separate line (property addresses are represented within\n",
    "    the parcels database by the field name \"PM_PROP_AD\").  Produce this file and a map of the underserved parcels.\n",
    "    \n",
    "\n",
    "\n",
    "</div>"
   ]
  },
  {
   "cell_type": "code",
   "execution_count": null,
   "id": "2b62216e-f518-4c05-9dc5-63d8bc44db60",
   "metadata": {},
   "outputs": [],
   "source": []
  },
  {
   "cell_type": "code",
   "execution_count": null,
   "id": "5dfbb270-4722-481d-9966-4c9724a725dc",
   "metadata": {},
   "outputs": [],
   "source": [
    "%matplotlib widget\n",
    "\n",
    "fig, ax = plt.subplots()\n",
    "parks.buffer(buffer_radius).plot(ax=ax, color='g')\n",
    "# city_limits.plot(ax=ax, color=None, edgecolor='r')\n",
    "roads.plot(ax=ax)\n",
    "\n",
    "ax.set_xlim( city_limits.bounds.to_numpy()[0][::2] )\n",
    "ax.set_ylim( city_limits.bounds.to_numpy()[0][1::2] )"
   ]
  },
  {
   "cell_type": "code",
   "execution_count": null,
   "id": "4ea3d8b2-6f0c-46f4-b8a1-89d69be35bc5",
   "metadata": {},
   "outputs": [],
   "source": []
  },
  {
   "cell_type": "code",
   "execution_count": null,
   "id": "84e478e0-bb7e-422c-ba4a-96c43c3cc5aa",
   "metadata": {
    "tags": []
   },
   "outputs": [],
   "source": [
    "roads"
   ]
  },
  {
   "cell_type": "code",
   "execution_count": null,
   "id": "c868f1c6-c4d1-4f22-a07d-60e522dc9382",
   "metadata": {},
   "outputs": [],
   "source": [
    "zoning.columns"
   ]
  },
  {
   "cell_type": "code",
   "execution_count": null,
   "id": "c5573dbc-9750-43d9-b738-2ea45d442b0c",
   "metadata": {},
   "outputs": [],
   "source": [
    "zoning['LANDUSEDESC'].unique()"
   ]
  },
  {
   "cell_type": "code",
   "execution_count": null,
   "id": "39000fc1-bc15-42ff-8140-c7dca15d0304",
   "metadata": {},
   "outputs": [],
   "source": [
    "zoning['LANDUSECODE'].unique()"
   ]
  },
  {
   "cell_type": "code",
   "execution_count": null,
   "id": "b3bbe430-5a94-453e-a5a4-6421b573dbde",
   "metadata": {},
   "outputs": [],
   "source": [
    "# We can measure the distance between any parcel and a point near the center of downtown Moscow\n",
    "from shapely.geometry import Point\n",
    "parcels['Dwntn_dist'] = parcels.distance(Point(2.311e6, 1.849e6))"
   ]
  },
  {
   "cell_type": "markdown",
   "id": "888862c3-cee8-4bc4-9b87-8a2c7850d04a",
   "metadata": {},
   "source": [
    "#### Visualizing the data\n",
    "I think each of the plots below is interesting.  Try commenting and uncommenting each one"
   ]
  },
  {
   "cell_type": "code",
   "execution_count": null,
   "id": "b7607691-1387-4e20-930d-cfa47e3992dd",
   "metadata": {
    "tags": []
   },
   "outputs": [],
   "source": [
    "%matplotlib widget\n",
    "fig, ax = plt.subplots( figsize=(8,8) )\n",
    "\n",
    "# These are a few of the interesting plots to look at.\n",
    "# parcels.plot(column='Dwntn_dist', ax=ax, legend=True, vmax=5280);\n",
    "zoning.plot(column='LANDUSEDESC', ax=ax, legend=True, cmap='tab20')\n",
    "# parcels.plot(column= 'SaleYear', ax=ax, legend=True, vmin=1990)\n",
    "\n",
    "ax.set_xlim( city_limits.bounds.to_numpy()[0][::2] )\n",
    "ax.set_ylim( city_limits.bounds.to_numpy()[0][1::2] )\n",
    "\n",
    "roads.plot(ax=ax, color='gray')\n"
   ]
  },
  {
   "cell_type": "code",
   "execution_count": null,
   "id": "503a63fb-7da7-4a39-a953-aa34356c78eb",
   "metadata": {},
   "outputs": [],
   "source": []
  },
  {
   "cell_type": "markdown",
   "id": "9a0adbd0-ef1d-4d0d-bdfc-f43eefac496a",
   "metadata": {},
   "source": [
    "### Property sales over time\n",
    "Similar to the assignment from last week, we can look at the property sales as a function of time."
   ]
  },
  {
   "cell_type": "code",
   "execution_count": null,
   "id": "f9122c77-a7eb-44b5-8842-4e9c6188e063",
   "metadata": {
    "tags": []
   },
   "outputs": [],
   "source": [
    "import pandas as pd\n",
    "print( parcels['PM_DEEDCDT'].astype(str)[:4] )\n",
    "\n",
    "parcels['SaleDate'] = pd.to_datetime(\n",
    "    parcels['PM_DEEDCDT'], \n",
    "    errors='coerce', \n",
    "    format='%Y%m%d')\n"
   ]
  },
  {
   "cell_type": "code",
   "execution_count": null,
   "id": "a9aa8268-4752-4ed8-bbdc-3fa9da2ae504",
   "metadata": {
    "tags": []
   },
   "outputs": [],
   "source": [
    "parcels['SaleDate']"
   ]
  },
  {
   "cell_type": "code",
   "execution_count": null,
   "id": "596b9caa-d2ba-4e79-9c36-ab5bb1d8ee5e",
   "metadata": {
    "tags": []
   },
   "outputs": [],
   "source": [
    "dates = parcels['PM_DEEDCDT'].to_numpy() # Pull out all the sale dates (initially floats)\n",
    "yr = np.full( dates.shape, np.nan ) # initialize a variable full of nans\n",
    "\n",
    "for i in range(len(dates)): \n",
    "    if dates[i] > 0:\n",
    "        yr[i] = int( str(dates[i])[:4] )\n",
    "    else:\n",
    "        yr[i] = np.nan\n",
    "\n",
    "parcels['SaleYear'] = yr # Create a new column for the parcels data frame representing sale year\n"
   ]
  },
  {
   "cell_type": "code",
   "execution_count": null,
   "id": "0b191054-8968-468b-95fc-818168d3dd24",
   "metadata": {},
   "outputs": [],
   "source": [
    "bin_size = np.timedelta64(365, 'D')/12 # days\n",
    "fig, ax = plt.subplots()\n",
    "ax.hist(parcels['SaleDate'], bins=np.arange(np.datetime64('1990-01-01'), \n",
    "                                            np.datetime64('2022-01-01'), \n",
    "                                            bin_size ) )\n",
    "ylabel_text = 'Number of property sales in Moscow\\nper ' + str(bin_size.astype(int)) + ' days'\n",
    "ax.set_ylabel(ylabel_text)\n",
    "ax.set_xlim(np.datetime64('2000-01-01'), np.datetime64('2022-01-01') );\n",
    "# ax.set_xlim(np.datetime64('2010-12-15'), np.datetime64('2011-01-01') )\n",
    "\n",
    "# Note that the sales at the end of 2010 are anomalous, and are all recorded on the same day.\n",
    "# That's suspicious and Tim thinks that it must be some change in accounting or record keeping."
   ]
  },
  {
   "cell_type": "code",
   "execution_count": null,
   "id": "2879d473-3042-4ade-84d4-710316070305",
   "metadata": {},
   "outputs": [],
   "source": []
  },
  {
   "cell_type": "markdown",
   "id": "38c893b8-ffb6-4e1d-8086-58550738aae1",
   "metadata": {},
   "source": [
    "<div class=\"alert alert-block alert-warning\">\n",
    "\n",
    "## 3. Investing in downtown property\n",
    "You are the GIS consultant for a property investment company that specializes in\n",
    "downtown and higher-density properties.  Your company is considering Moscow real estate.\n",
    "You've heard about the boom in sales within the city, and your company would like to know how competitive\n",
    "property purchasing will be, or if they will be able to drive a hard bargin.\n",
    "\n",
    "Has the downtown property market heated up as much as within the city as a whole?\n",
    "Compare sale rates within two of the zoned downtown regions with those of the city as a whole.\n",
    "    \n",
    "Is there anything else in these data that you would like to share with your colleagues\n",
    "    that could help advise them as you consider this investment?\n",
    "</div>"
   ]
  },
  {
   "cell_type": "code",
   "execution_count": null,
   "id": "05af443a-5298-4f8d-bc5c-bab21766867f",
   "metadata": {},
   "outputs": [],
   "source": []
  },
  {
   "cell_type": "markdown",
   "id": "ace97372-6cee-4ffd-9efa-8dd0a927a30d",
   "metadata": {},
   "source": [
    "<div class=\"alert alert-block alert-warning\">\n",
    "\n",
    "## 4. Find, plot, work with data of your own\n",
    "Find a spatial, vector dataset of your choosing (by googling, from another class, \n",
    "    or from a research project of yours). This could be climate data, geologic units,\n",
    "    census data, ecological units, demographic data, etc. Download or copy this dataset\n",
    "    into the current directory, plot it, and use geopandas to draw on the attributes \n",
    "    of that data (even just lengths, areas, etc) and tell me something about that data.\n",
    "</div>"
   ]
  },
  {
   "cell_type": "code",
   "execution_count": null,
   "id": "9aa5b7c7-cb2a-4b03-9d06-5ad1087b4a7e",
   "metadata": {},
   "outputs": [],
   "source": []
  },
  {
   "cell_type": "code",
   "execution_count": null,
   "id": "36308327-5753-4e9b-94a1-14c72fffb926",
   "metadata": {},
   "outputs": [],
   "source": []
  },
  {
   "cell_type": "code",
   "execution_count": null,
   "id": "847e31b2-776c-4ca1-8c7a-dfcbcaa2f2a4",
   "metadata": {},
   "outputs": [],
   "source": []
  }
 ],
 "metadata": {
  "kernelspec": {
   "display_name": "Python [conda env:GISenv21b] *",
   "language": "python",
   "name": "conda-env-GISenv21b-py"
  },
  "language_info": {
   "codemirror_mode": {
    "name": "ipython",
    "version": 3
   },
   "file_extension": ".py",
   "mimetype": "text/x-python",
   "name": "python",
   "nbconvert_exporter": "python",
   "pygments_lexer": "ipython3",
   "version": "3.9.6"
  }
 },
 "nbformat": 4,
 "nbformat_minor": 5
}

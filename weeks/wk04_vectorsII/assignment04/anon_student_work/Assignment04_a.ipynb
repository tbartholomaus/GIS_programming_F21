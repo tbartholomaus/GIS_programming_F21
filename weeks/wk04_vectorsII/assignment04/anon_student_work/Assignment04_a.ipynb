{
 "cells": [
  {
   "cell_type": "markdown",
   "id": "b14b20c6-4f6d-4d35-98c0-095d4b9c01c3",
   "metadata": {},
   "source": [
    "# Assignment 04\n"
   ]
  },
  {
   "cell_type": "code",
   "execution_count": null,
   "id": "b38efdc7-7f92-4a40-9178-7c0f61cfc5fd",
   "metadata": {},
   "outputs": [],
   "source": []
  },
  {
   "cell_type": "code",
   "execution_count": 2,
   "id": "f4a70078-b2c0-4a6b-b270-7575dbcd8eda",
   "metadata": {},
   "outputs": [],
   "source": [
    "import numpy as np\n",
    "import matplotlib.pyplot as plt\n",
    "from pathlib import Path\n",
    "\n",
    "import geopandas as gpd"
   ]
  },
  {
   "cell_type": "code",
   "execution_count": 2,
   "id": "f036393c-ec90-4fec-a144-de07755f16fc",
   "metadata": {},
   "outputs": [],
   "source": [
    "datasets_dir = Path('../../../datasets')\n",
    "# ls ../../"
   ]
  },
  {
   "cell_type": "code",
   "execution_count": null,
   "id": "2e77bc7a-41dc-4ac4-baea-5bbe28e4a040",
   "metadata": {},
   "outputs": [],
   "source": [
    "datasets_dir"
   ]
  },
  {
   "cell_type": "code",
   "execution_count": 3,
   "id": "bc2dd580-ad80-4615-8a26-9df0b18b916d",
   "metadata": {},
   "outputs": [
    {
     "name": "stdout",
     "output_type": "stream",
     "text": [
      "..\\..\\..\\datasets\\moscow\\moscow_vectors\\Moscow.gdb\n",
      "<class 'pathlib.WindowsPath'>\n"
     ]
    }
   ],
   "source": [
    "moscow_gdb_path = datasets_dir / 'moscow' / 'moscow_vectors' / 'Moscow.gdb'\n",
    "print(moscow_gdb_path)\n",
    "print(type(moscow_gdb_path))"
   ]
  },
  {
   "cell_type": "code",
   "execution_count": null,
   "id": "554bb916-a1c5-4319-9395-a7a499f227b4",
   "metadata": {},
   "outputs": [],
   "source": []
  },
  {
   "cell_type": "code",
   "execution_count": 240,
   "id": "659e9eeb-782d-4df6-b335-943ed6a38203",
   "metadata": {},
   "outputs": [
    {
     "data": {
      "text/plain": [
       "['Moscow_Zoning',\n",
       " 'Centerlines',\n",
       " 'Moscow_Parks',\n",
       " 'Moscow_City_Limit',\n",
       " 'Parcels']"
      ]
     },
     "execution_count": 240,
     "metadata": {},
     "output_type": "execute_result"
    }
   ],
   "source": [
    "import fiona\n",
    "moscow_gdb = str(moscow_gdb_path)\n",
    "\n",
    "fiona.listlayers(moscow_gdb)"
   ]
  },
  {
   "cell_type": "code",
   "execution_count": 5,
   "id": "749b5581-d9ea-48e2-8949-e6acb8e8d685",
   "metadata": {},
   "outputs": [],
   "source": [
    "parcels = gpd.read_file(moscow_gdb, layer='Parcels')\n",
    "roads = gpd.read_file(moscow_gdb, layer='Centerlines')\n",
    "zoning = gpd.read_file(moscow_gdb, layer='Moscow_Zoning')\n",
    "city_limits = gpd.read_file(moscow_gdb, layer='Moscow_City_Limit')\n",
    "parks = gpd.read_file(moscow_gdb, layer='Moscow_Parks')\n"
   ]
  },
  {
   "cell_type": "code",
   "execution_count": 6,
   "id": "994b45f8-6c0c-4f15-8580-e97c5586b077",
   "metadata": {},
   "outputs": [
    {
     "data": {
      "text/plain": [
       "Index(['LABEL', 'PM_PAR_14', 'PM_MAIL_NM', 'PM_MAIL_A1', 'PM_MAIL_A2',\n",
       "       'PM_MAIL_CT', 'PM_MAIL_ST', 'PM_MAIL_ZP', 'PM_PROP_AD', 'PM_DEEDCDT',\n",
       "       'PM_DEEDRF1', 'PM_DEEDRF2', 'PM_DEEDRF3', 'PM_DEEDRF4', 'PM_DEEDRF5',\n",
       "       'PM_TAX_AMT', 'PM_PV_AREA', 'PM_PV_NBHD', 'PM_PV_ACRE', 'PM_TOT_VAL',\n",
       "       'PM_IMP_VAL', 'PM_LND_VAL', 'PM_EX_VAL', 'PM_NET_VAL', 'PM_CATS',\n",
       "       'LG_LINE_1', 'LG_LINE_2', 'LG_LINE_3', 'LG_LINE_4', 'LG_LINE_5',\n",
       "       'LG_LINE_6', 'PM_PARC_CD', 'GlobalID', 'Shape_Length', 'Shape_Area',\n",
       "       'geometry'],\n",
       "      dtype='object')"
      ]
     },
     "execution_count": 6,
     "metadata": {},
     "output_type": "execute_result"
    }
   ],
   "source": [
    "parcels.columns"
   ]
  },
  {
   "cell_type": "markdown",
   "id": "533f554b-1fcd-4e89-aecd-749742abdd50",
   "metadata": {},
   "source": [
    "### Shapely geometries\n",
    "Behind the scenes, geopandas is reading in vector data, storing the attribute tables as `pandas` dataframes,\n",
    "and storing the vector geometry as `shapely` geometries.\n",
    "\n",
    "\n",
    "### Reading:\n",
    "To become more familiar with vector operations in geopandas/shapely, \n",
    "read this introduction to shapely geometries carefully, \n",
    "and reproduce/experiment with the code in this reading from within a blank notebook:\n",
    "https://towardsdatascience.com/geospatial-adventures-step-1-shapely-e911e4f86361\n",
    "\n",
    "Read this page for a more comprehensive description of `shapely` geometries: \n",
    "https://autogis-site.readthedocs.io/en/latest/notebooks/L1/geometric-objects.html\n",
    "\n",
    "Scroll through the `shapely` user manual (https://shapely.readthedocs.io/en/stable/manual.html), \n",
    "reviewing the different functions that shapely includes.  `geopandas` allows all of these functions to be\n",
    "executed, [directly through `geopandas`, without explicit call to `shapely`](https://geopandas.org/docs/user_guide/geometric_manipulations.html).  `shapely` is just running\n",
    "quietly under the hood.  Pay specific attention to the \"Spatial Analysis Methods\" of the manual."
   ]
  },
  {
   "cell_type": "code",
   "execution_count": 7,
   "id": "a805a90a-a722-41bd-b340-ac15e6531723",
   "metadata": {},
   "outputs": [
    {
     "name": "stdout",
     "output_type": "stream",
     "text": [
      "Line area = 0.0\n",
      "Line length = 2.8284271247461903\n"
     ]
    }
   ],
   "source": [
    "from shapely.geometry import LineString\n",
    "line = LineString([(0, 0), (1, 1), (2, 0)])\n",
    "print('Line area =', line.area)\n",
    "print('Line length =', line.length)"
   ]
  },
  {
   "cell_type": "code",
   "execution_count": 8,
   "id": "91dda482-8e26-41bd-b40b-732e714cd6f9",
   "metadata": {},
   "outputs": [
    {
     "data": {
      "image/svg+xml": [
       "<svg xmlns=\"http://www.w3.org/2000/svg\" xmlns:xlink=\"http://www.w3.org/1999/xlink\" width=\"100.0\" height=\"100.0\" viewBox=\"-0.08 -0.08 2.16 1.1600000000000001\" preserveAspectRatio=\"xMinYMin meet\"><g transform=\"matrix(1,0,0,-1,0,1.0)\"><polyline fill=\"none\" stroke=\"#66cc99\" stroke-width=\"0.0432\" points=\"0.0,0.0 1.0,1.0 2.0,0.0\" opacity=\"0.8\" /></g></svg>"
      ],
      "text/plain": [
       "<shapely.geometry.linestring.LineString at 0x22a38829b20>"
      ]
     },
     "execution_count": 8,
     "metadata": {},
     "output_type": "execute_result"
    }
   ],
   "source": [
    "line"
   ]
  },
  {
   "cell_type": "code",
   "execution_count": 9,
   "id": "92ea295d-9a77-4bf6-9718-0b3cd9979e88",
   "metadata": {},
   "outputs": [
    {
     "data": {
      "text/plain": [
       "shapely.geometry.linestring.LineString"
      ]
     },
     "execution_count": 9,
     "metadata": {},
     "output_type": "execute_result"
    }
   ],
   "source": [
    "type(line)"
   ]
  },
  {
   "cell_type": "code",
   "execution_count": 10,
   "id": "50696400-bd30-4071-8e44-6535e41c37cc",
   "metadata": {},
   "outputs": [
    {
     "name": "stdout",
     "output_type": "stream",
     "text": [
      "[(0.0, 0.0), (1.0, 1.0), (2.0, 0.0)]\n",
      "(2.0, 0.0)\n"
     ]
    }
   ],
   "source": [
    "print( list(line.coords) )\n",
    "print( line.coords[2] )"
   ]
  },
  {
   "cell_type": "markdown",
   "id": "aa3bf992-2366-47e0-bc24-0d49657b6e92",
   "metadata": {},
   "source": [
    "<div class=\"alert alert-block alert-warning\">\n",
    "\n",
    "## 1. Shapely geometries\n",
    "What `shapely` geometry are each of the parcels in the Moscow parcels layer? What `shapely` geometry are their centroids?\n",
    "    \n",
    "Find the Kenworthy Theater within the parcels database (hint: the name field for its mailing address, \n",
    "    PM_MAIL_NM, is \"KENWORTHY PERFORMING ARTS CTR\").\n",
    "What are the coordinates for the corners of its parcel?    \n",
    "</div>\n"
   ]
  },
  {
   "cell_type": "code",
   "execution_count": 21,
   "id": "291f89be-8ae4-4981-8e6c-aa435511154f",
   "metadata": {},
   "outputs": [
    {
     "name": "stdout",
     "output_type": "stream",
     "text": [
      "0       MultiPolygon\n",
      "1       MultiPolygon\n",
      "2       MultiPolygon\n",
      "3       MultiPolygon\n",
      "4       MultiPolygon\n",
      "            ...     \n",
      "7389    MultiPolygon\n",
      "7390    MultiPolygon\n",
      "7391    MultiPolygon\n",
      "7392    MultiPolygon\n",
      "7393    MultiPolygon\n",
      "Length: 7394, dtype: object\n",
      "0       Point\n",
      "1       Point\n",
      "2       Point\n",
      "3       Point\n",
      "4       Point\n",
      "        ...  \n",
      "7389    Point\n",
      "7390    Point\n",
      "7391    Point\n",
      "7392    Point\n",
      "7393    Point\n",
      "Length: 7394, dtype: object\n",
      "The shapely geometry of the parcels is MultiPolygon and the shapely geometry of their centroids is Point\n"
     ]
    }
   ],
   "source": [
    "print(parcels.geom_type)\n",
    "print(parcels.centroid.geom_type)\n",
    "print(\"The shapely geometry of the parcels is MultiPolygon and the shapely geometry of their centroids is Point\")"
   ]
  },
  {
   "cell_type": "code",
   "execution_count": 249,
   "id": "ad2dffbb-5697-41ce-84a0-3a6b7f9d3538",
   "metadata": {},
   "outputs": [
    {
     "name": "stdout",
     "output_type": "stream",
     "text": [
      "1359    MULTILINESTRING ((2311036.946 1848531.880, 231...\n",
      "dtype: geometry\n"
     ]
    }
   ],
   "source": [
    "selected = parcels['PM_MAIL_NM'] == \"KENWORTHY PERFORMING ARTS CTR\"\n",
    "kenworthy = parcels.loc[selected] # subsets out just the kenworthy polygon\n",
    "print(kenworthy.boundary[0:]) # prints the coordinates of the polygon vertices but I can't figure out how to get it to \n",
    "#not abbreviate"
   ]
  },
  {
   "cell_type": "code",
   "execution_count": 244,
   "id": "e2afe4c5-4e18-40f7-8640-9fc4d5fc31fe",
   "metadata": {},
   "outputs": [
    {
     "name": "stdout",
     "output_type": "stream",
     "text": [
      "1359    LINEARRING (2311036.277 1848471.883, 2310911.2...\n",
      "dtype: geometry\n"
     ]
    }
   ],
   "source": [
    "kenworthych = kenworthy.convex_hull\n",
    "print(kenworthych.exterior)"
   ]
  },
  {
   "cell_type": "code",
   "execution_count": null,
   "id": "c49cef8a-92d3-4733-98a4-e12133deef0d",
   "metadata": {},
   "outputs": [],
   "source": []
  },
  {
   "cell_type": "code",
   "execution_count": 247,
   "id": "7ce56df3-ba09-4ae1-a5ed-67c032f129b8",
   "metadata": {},
   "outputs": [
    {
     "name": "stdout",
     "output_type": "stream",
     "text": [
      "FACILITYID                                               PR-E17-G\n",
      "NAME                                                Ghormley Park\n",
      "SUBTYPEFIELD                                                    0\n",
      "FEATURECODE                                                      \n",
      "FULLADDR                                              504 Home St\n",
      "OPERDAYS                                                         \n",
      "OPERHOURS                                                        \n",
      "PARKAREA                                                     7.34\n",
      "PARKURL         https://www.ci.moscow.id.us/parks-rec/parks/Pa...\n",
      "NUMPARKING                                                    0.0\n",
      "RESTROOM                                                      Yes\n",
      "ADACOMPLY                                                        \n",
      "CAMPING                                                        No\n",
      "SWIMMING                                                       No\n",
      "HIKING                                                         No\n",
      "FISHING                                                        No\n",
      "PICNIC                                                        Yes\n",
      "BOATING                                                        No\n",
      "HUNTING                                                        No\n",
      "ROADCYCLE                                                      No\n",
      "MTBCYCLE                                                       No\n",
      "PLAYGROUND                                                    Yes\n",
      "GOLF                                                           No\n",
      "SKI                                                            No\n",
      "SOCCER                                                         No\n",
      "BASEBALL                                                       No\n",
      "BASKETBALL                                                     No\n",
      "STATUS                                                  Developed\n",
      "CLASS                                                 Special Use\n",
      "OWNEDBY                                                         1\n",
      "MAINTBY                                                         1\n",
      "NOTES                                                        City\n",
      "PARKINDEX                                                       G\n",
      "GlobalID                   {916FA34F-34F0-444B-9718-3B7DA79FA21E}\n",
      "geometry              POINT (2308973.479299717 1848631.093892366)\n",
      "Name: 2, dtype: object\n"
     ]
    },
    {
     "data": {
      "application/vnd.jupyter.widget-view+json": {
       "model_id": "d7c7351ab0664656a0beebdb86a1851d",
       "version_major": 2,
       "version_minor": 0
      },
      "text/plain": [
       "Canvas(toolbar=Toolbar(toolitems=[('Home', 'Reset original view', 'home', 'home'), ('Back', 'Back to previous …"
      ]
     },
     "metadata": {},
     "output_type": "display_data"
    },
    {
     "data": {
      "text/plain": [
       "<AxesSubplot:>"
      ]
     },
     "execution_count": 247,
     "metadata": {},
     "output_type": "execute_result"
    }
   ],
   "source": [
    "i = 2 # Look at one park, for example\n",
    "print(parks.iloc[i])\n",
    "\n",
    "buffer_radius = 200 # What are the units for this?\n",
    "\n",
    "buffered_park = parks.iloc[i:i+1].buffer(buffer_radius) # Careful!  I'm not sure why this is, but geopandas requires a slice here, not a single index\n",
    "    #If you use just one index, it seems to remove all the geopandas properties of the data\n",
    "buffered_park.plot()\n",
    "\n"
   ]
  },
  {
   "cell_type": "markdown",
   "id": "f7205e5e-a333-49db-9006-2471cf7b791b",
   "metadata": {},
   "source": [
    "<div class=\"alert alert-block alert-warning\">\n",
    "\n",
    "## 2. Identifying Moscow residents underserved by city parks.\n",
    "You're an urban planner consulting with the City of Moscow.  The city is interested in increasing the number of parks\n",
    "    within the city, and better designing those parks to meet the needs of those who are currently underserved\n",
    "    by the city's existing parks.  The city wants to begin the planning process by reaching out to these currently\n",
    "    underserved residents, but first the city needs to know who they are.\n",
    "    \n",
    "The city asks you to produce a list of all resident addresses within the city limits whose property is at least 1000 feet\n",
    "    from a current park.\n",
    "    \n",
    "To properly address the letters and questionaires that the city will be sending out, the city would like this list\n",
    "    of residents as a csv file, with each property address on a separate line (property addresses are represented within\n",
    "    the parcels database by the field name \"PM_PROP_AD\").  Produce this file and a map of the underserved parcels.\n",
    "    \n",
    "\n",
    "\n",
    "</div>"
   ]
  },
  {
   "cell_type": "code",
   "execution_count": 85,
   "id": "2b62216e-f518-4c05-9dc5-63d8bc44db60",
   "metadata": {},
   "outputs": [
    {
     "data": {
      "text/plain": [
       "<Projected CRS: EPSG:2243>\n",
       "Name: NAD83 / Idaho West (ftUS)\n",
       "Axis Info [cartesian]:\n",
       "- X[east]: Easting (US survey foot)\n",
       "- Y[north]: Northing (US survey foot)\n",
       "Area of Use:\n",
       "- name: United States (USA) - Idaho - counties of Ada; Adams; Benewah; Boise; Bonner; Boundary; Canyon; Clearwater; Elmore; Gem; Idaho; Kootenai; Latah; Lewis; Nez Perce; Owyhee; Payette; Shoshone; Valley; Washington.\n",
       "- bounds: (-117.24, 41.99, -114.32, 49.01)\n",
       "Coordinate Operation:\n",
       "- name: SPCS83 Idaho West zone (US Survey feet)\n",
       "- method: Transverse Mercator\n",
       "Datum: North American Datum 1983\n",
       "- Ellipsoid: GRS 1980\n",
       "- Prime Meridian: Greenwich"
      ]
     },
     "execution_count": 85,
     "metadata": {},
     "output_type": "execute_result"
    }
   ],
   "source": [
    "parks.crs # the coordinate reference system says U.S. Survey foot for easting and northing so I assume that means\n",
    "# the units is feet"
   ]
  },
  {
   "cell_type": "code",
   "execution_count": 276,
   "id": "6bc84d1f-df20-4ee9-aac6-37e56a79462c",
   "metadata": {},
   "outputs": [
    {
     "name": "stderr",
     "output_type": "stream",
     "text": [
      "C:\\Users\\loca0\\anaconda3\\envs\\GISenv21b\\lib\\site-packages\\geopandas\\base.py:32: UserWarning: The indices of the two GeoSeries are different.\n",
      "  warn(\"The indices of the two GeoSeries are different.\")\n"
     ]
    },
    {
     "data": {
      "text/plain": [
       "0       False\n",
       "1       False\n",
       "2       False\n",
       "3       False\n",
       "4       False\n",
       "        ...  \n",
       "7389    False\n",
       "7390    False\n",
       "7391    False\n",
       "7392    False\n",
       "7393    False\n",
       "Length: 7394, dtype: bool"
      ]
     },
     "execution_count": 276,
     "metadata": {},
     "output_type": "execute_result"
    }
   ],
   "source": [
    "parksbuffer = parks.buffer(1000)\n",
    "zzz = parcels.overlaps(parksbuffer)\n",
    "zzz\n",
    "parcels['NearPark'] = zzz\n",
    "selected = parcels['NearPark'] == False\n",
    "underserved = parcels.loc[selected] # I thought I might be able to subset out the underserved parcels by attaching\n",
    "#a boleean column to the parcels file.  The boolean that was returned from the .overlaps was all false so it didn't work.\n",
    "#spent lots of hours trying to figure out why because when I plot the buffers and parcels there is clearly overlap\n",
    "#but couldn't get it to work this way."
   ]
  },
  {
   "cell_type": "code",
   "execution_count": 288,
   "id": "11840eef-c2f5-42e6-8096-2b29c182e984",
   "metadata": {},
   "outputs": [
    {
     "name": "stderr",
     "output_type": "stream",
     "text": [
      "C:\\Users\\loca0\\anaconda3\\envs\\GISenv21b\\lib\\site-packages\\geopandas\\base.py:32: UserWarning: The indices of the two GeoSeries are different.\n",
      "  warn(\"The indices of the two GeoSeries are different.\")\n"
     ]
    }
   ],
   "source": [
    " underserved = parcels.difference(parksbuffer) # I tried separating out the underserved parcels using .difference, but\n",
    "#that didn't work either.  I know it didn't work because when I plot them, there are parcels within my buffers."
   ]
  },
  {
   "cell_type": "code",
   "execution_count": null,
   "id": "bda760d4-1b2e-4db8-9b19-bed74bcb7ca4",
   "metadata": {},
   "outputs": [],
   "source": []
  },
  {
   "cell_type": "code",
   "execution_count": 289,
   "id": "5dfbb270-4722-481d-9966-4c9724a725dc",
   "metadata": {},
   "outputs": [
    {
     "data": {
      "application/vnd.jupyter.widget-view+json": {
       "model_id": "e2a5434d79ae46d989e6f061dc4e143d",
       "version_major": 2,
       "version_minor": 0
      },
      "text/plain": [
       "Canvas(toolbar=Toolbar(toolitems=[('Home', 'Reset original view', 'home', 'home'), ('Back', 'Back to previous …"
      ]
     },
     "metadata": {},
     "output_type": "display_data"
    },
    {
     "data": {
      "text/plain": [
       "(1837691.7277759165, 1858582.946164012)"
      ]
     },
     "execution_count": 289,
     "metadata": {},
     "output_type": "execute_result"
    }
   ],
   "source": [
    "%matplotlib widget\n",
    "\n",
    "fig, ax = plt.subplots()\n",
    "parksbuffer.plot(ax=ax,zorder=3, color='g')\n",
    "city_limits.plot(ax=ax, color='None', edgecolor='r')\n",
    "roads.plot(ax=ax)\n",
    "underserved.plot(ax=ax,zorder=4,color='orange')\n",
    "\n",
    "\n",
    "ax.set_xlim( city_limits.bounds.to_numpy()[0][::2] )\n",
    "ax.set_ylim( city_limits.bounds.to_numpy()[0][1::2] )"
   ]
  },
  {
   "cell_type": "code",
   "execution_count": null,
   "id": "4ea3d8b2-6f0c-46f4-b8a1-89d69be35bc5",
   "metadata": {},
   "outputs": [],
   "source": []
  },
  {
   "cell_type": "code",
   "execution_count": 290,
   "id": "84e478e0-bb7e-422c-ba4a-96c43c3cc5aa",
   "metadata": {
    "tags": []
   },
   "outputs": [
    {
     "data": {
      "text/html": [
       "<div>\n",
       "<style scoped>\n",
       "    .dataframe tbody tr th:only-of-type {\n",
       "        vertical-align: middle;\n",
       "    }\n",
       "\n",
       "    .dataframe tbody tr th {\n",
       "        vertical-align: top;\n",
       "    }\n",
       "\n",
       "    .dataframe thead th {\n",
       "        text-align: right;\n",
       "    }\n",
       "</style>\n",
       "<table border=\"1\" class=\"dataframe\">\n",
       "  <thead>\n",
       "    <tr style=\"text-align: right;\">\n",
       "      <th></th>\n",
       "      <th>CENTERLINEID</th>\n",
       "      <th>FROMLEFT</th>\n",
       "      <th>TOLEFT</th>\n",
       "      <th>FROMRIGHT</th>\n",
       "      <th>TORIGHT</th>\n",
       "      <th>FULLNAME</th>\n",
       "      <th>FEDROUTE</th>\n",
       "      <th>FEDRTETYPE</th>\n",
       "      <th>AFEDRTE</th>\n",
       "      <th>AFEDRTETYPE</th>\n",
       "      <th>...</th>\n",
       "      <th>SLOPE</th>\n",
       "      <th>OCI2017</th>\n",
       "      <th>OCI2014</th>\n",
       "      <th>GlobalID</th>\n",
       "      <th>FACILITYID</th>\n",
       "      <th>OCI2019</th>\n",
       "      <th>OCI2020</th>\n",
       "      <th>ADTID</th>\n",
       "      <th>SHAPE_Length</th>\n",
       "      <th>geometry</th>\n",
       "    </tr>\n",
       "  </thead>\n",
       "  <tbody>\n",
       "    <tr>\n",
       "      <th>0</th>\n",
       "      <td>02600</td>\n",
       "      <td>0.0</td>\n",
       "      <td>0.0</td>\n",
       "      <td>0.0</td>\n",
       "      <td>0.0</td>\n",
       "      <td>MAIN ST</td>\n",
       "      <td>None</td>\n",
       "      <td>Other</td>\n",
       "      <td>None</td>\n",
       "      <td>None</td>\n",
       "      <td>...</td>\n",
       "      <td>NaN</td>\n",
       "      <td>58.92</td>\n",
       "      <td>71.66</td>\n",
       "      <td>{E10997BF-346F-493B-9078-ABF3BA07D894}</td>\n",
       "      <td>STREET-02600</td>\n",
       "      <td>96.08</td>\n",
       "      <td>96.08</td>\n",
       "      <td>F19-05</td>\n",
       "      <td>87.664841</td>\n",
       "      <td>MULTILINESTRING ((2310851.729 1847250.622, 231...</td>\n",
       "    </tr>\n",
       "    <tr>\n",
       "      <th>1</th>\n",
       "      <td>01430</td>\n",
       "      <td>0.0</td>\n",
       "      <td>0.0</td>\n",
       "      <td>0.0</td>\n",
       "      <td>0.0</td>\n",
       "      <td>FIRST ST</td>\n",
       "      <td>None</td>\n",
       "      <td>Other</td>\n",
       "      <td>None</td>\n",
       "      <td>None</td>\n",
       "      <td>...</td>\n",
       "      <td>NaN</td>\n",
       "      <td>90.93</td>\n",
       "      <td>98.96</td>\n",
       "      <td>{F2D06156-E244-4542-A0A7-9F47285F09AF}</td>\n",
       "      <td>STREET-01430</td>\n",
       "      <td>86.04</td>\n",
       "      <td>86.04</td>\n",
       "      <td>G16-05</td>\n",
       "      <td>349.983212</td>\n",
       "      <td>MULTILINESTRING ((2310883.550 1849572.726, 231...</td>\n",
       "    </tr>\n",
       "    <tr>\n",
       "      <th>2</th>\n",
       "      <td>02670</td>\n",
       "      <td>102.0</td>\n",
       "      <td>114.0</td>\n",
       "      <td>105.0</td>\n",
       "      <td>205.0</td>\n",
       "      <td>MAIN ST</td>\n",
       "      <td>None</td>\n",
       "      <td>Other</td>\n",
       "      <td>None</td>\n",
       "      <td>None</td>\n",
       "      <td>...</td>\n",
       "      <td>NaN</td>\n",
       "      <td>71.70</td>\n",
       "      <td>100.00</td>\n",
       "      <td>{BF94EEC2-9DBF-42FD-8BA0-31C170DEC8CB}</td>\n",
       "      <td>STREET-02670</td>\n",
       "      <td>80.02</td>\n",
       "      <td>80.02</td>\n",
       "      <td>F17-12</td>\n",
       "      <td>230.721479</td>\n",
       "      <td>MULTILINESTRING ((2310883.464 1849564.375, 231...</td>\n",
       "    </tr>\n",
       "    <tr>\n",
       "      <th>3</th>\n",
       "      <td>02660</td>\n",
       "      <td>204.0</td>\n",
       "      <td>218.0</td>\n",
       "      <td>205.0</td>\n",
       "      <td>221.0</td>\n",
       "      <td>MAIN ST</td>\n",
       "      <td>None</td>\n",
       "      <td>Other</td>\n",
       "      <td>None</td>\n",
       "      <td>None</td>\n",
       "      <td>...</td>\n",
       "      <td>NaN</td>\n",
       "      <td>71.70</td>\n",
       "      <td>100.00</td>\n",
       "      <td>{E4ADA45C-08D8-4C70-B30F-46E1097647A3}</td>\n",
       "      <td>STREET-02660</td>\n",
       "      <td>80.02</td>\n",
       "      <td>80.02</td>\n",
       "      <td>F17-06</td>\n",
       "      <td>239.999980</td>\n",
       "      <td>MULTILINESTRING ((2310880.869 1849333.668, 231...</td>\n",
       "    </tr>\n",
       "    <tr>\n",
       "      <th>4</th>\n",
       "      <td>02650</td>\n",
       "      <td>302.0</td>\n",
       "      <td>318.0</td>\n",
       "      <td>301.0</td>\n",
       "      <td>307.0</td>\n",
       "      <td>MAIN ST</td>\n",
       "      <td>None</td>\n",
       "      <td>Other</td>\n",
       "      <td>None</td>\n",
       "      <td>None</td>\n",
       "      <td>...</td>\n",
       "      <td>NaN</td>\n",
       "      <td>91.97</td>\n",
       "      <td>100.00</td>\n",
       "      <td>{D3CE1840-EC8C-4124-AAEF-4A67AB2B5415}</td>\n",
       "      <td>STREET-02650</td>\n",
       "      <td>95.17</td>\n",
       "      <td>95.17</td>\n",
       "      <td>F17-07</td>\n",
       "      <td>240.667684</td>\n",
       "      <td>MULTILINESTRING ((2310878.196 1849093.683, 231...</td>\n",
       "    </tr>\n",
       "    <tr>\n",
       "      <th>...</th>\n",
       "      <td>...</td>\n",
       "      <td>...</td>\n",
       "      <td>...</td>\n",
       "      <td>...</td>\n",
       "      <td>...</td>\n",
       "      <td>...</td>\n",
       "      <td>...</td>\n",
       "      <td>...</td>\n",
       "      <td>...</td>\n",
       "      <td>...</td>\n",
       "      <td>...</td>\n",
       "      <td>...</td>\n",
       "      <td>...</td>\n",
       "      <td>...</td>\n",
       "      <td>...</td>\n",
       "      <td>...</td>\n",
       "      <td>...</td>\n",
       "      <td>...</td>\n",
       "      <td>...</td>\n",
       "      <td>...</td>\n",
       "      <td>...</td>\n",
       "    </tr>\n",
       "    <tr>\n",
       "      <th>2213</th>\n",
       "      <td>00301</td>\n",
       "      <td>1600.0</td>\n",
       "      <td>1756.0</td>\n",
       "      <td>1601.0</td>\n",
       "      <td>1751.0</td>\n",
       "      <td>THIRD ST</td>\n",
       "      <td>None</td>\n",
       "      <td>Other</td>\n",
       "      <td>None</td>\n",
       "      <td>None</td>\n",
       "      <td>...</td>\n",
       "      <td>5.0</td>\n",
       "      <td>NaN</td>\n",
       "      <td>NaN</td>\n",
       "      <td>{CE44A217-E6DA-4168-A8A9-C28AD394A399}</td>\n",
       "      <td>STREET-00301</td>\n",
       "      <td>NaN</td>\n",
       "      <td>NaN</td>\n",
       "      <td>None</td>\n",
       "      <td>756.596825</td>\n",
       "      <td>MULTILINESTRING ((2316177.219 1849043.781, 231...</td>\n",
       "    </tr>\n",
       "    <tr>\n",
       "      <th>2214</th>\n",
       "      <td>13760</td>\n",
       "      <td>NaN</td>\n",
       "      <td>NaN</td>\n",
       "      <td>NaN</td>\n",
       "      <td>NaN</td>\n",
       "      <td>SOUTHVIEW AVE</td>\n",
       "      <td>None</td>\n",
       "      <td>None</td>\n",
       "      <td>None</td>\n",
       "      <td>None</td>\n",
       "      <td>...</td>\n",
       "      <td>10.0</td>\n",
       "      <td>NaN</td>\n",
       "      <td>NaN</td>\n",
       "      <td>{588D3E9B-7CBE-48D5-94BF-0DB57D0E0442}</td>\n",
       "      <td>STREET-13760</td>\n",
       "      <td>NaN</td>\n",
       "      <td>NaN</td>\n",
       "      <td>None</td>\n",
       "      <td>706.800143</td>\n",
       "      <td>MULTILINESTRING ((2312049.540 1843770.847, 231...</td>\n",
       "    </tr>\n",
       "    <tr>\n",
       "      <th>2215</th>\n",
       "      <td>13765</td>\n",
       "      <td>NaN</td>\n",
       "      <td>NaN</td>\n",
       "      <td>NaN</td>\n",
       "      <td>NaN</td>\n",
       "      <td>SUNNY CT</td>\n",
       "      <td>None</td>\n",
       "      <td>None</td>\n",
       "      <td>None</td>\n",
       "      <td>None</td>\n",
       "      <td>...</td>\n",
       "      <td>7.0</td>\n",
       "      <td>NaN</td>\n",
       "      <td>NaN</td>\n",
       "      <td>{2F896E18-E40F-4BD6-81D2-5DDD91482100}</td>\n",
       "      <td>STREET-13765</td>\n",
       "      <td>NaN</td>\n",
       "      <td>NaN</td>\n",
       "      <td>None</td>\n",
       "      <td>173.316937</td>\n",
       "      <td>MULTILINESTRING ((2312699.813 1843557.137, 231...</td>\n",
       "    </tr>\n",
       "    <tr>\n",
       "      <th>2216</th>\n",
       "      <td>13770</td>\n",
       "      <td>NaN</td>\n",
       "      <td>NaN</td>\n",
       "      <td>NaN</td>\n",
       "      <td>NaN</td>\n",
       "      <td>SOUTHVIEW AVE</td>\n",
       "      <td>None</td>\n",
       "      <td>None</td>\n",
       "      <td>None</td>\n",
       "      <td>None</td>\n",
       "      <td>...</td>\n",
       "      <td>10.0</td>\n",
       "      <td>NaN</td>\n",
       "      <td>NaN</td>\n",
       "      <td>{4BAB6FC8-B24E-49A0-B852-9AF25FD43BF2}</td>\n",
       "      <td>STREET-13770</td>\n",
       "      <td>NaN</td>\n",
       "      <td>NaN</td>\n",
       "      <td>None</td>\n",
       "      <td>221.456644</td>\n",
       "      <td>MULTILINESTRING ((2312699.813 1843557.137, 231...</td>\n",
       "    </tr>\n",
       "    <tr>\n",
       "      <th>2217</th>\n",
       "      <td>14125</td>\n",
       "      <td>NaN</td>\n",
       "      <td>NaN</td>\n",
       "      <td>NaN</td>\n",
       "      <td>NaN</td>\n",
       "      <td>ALICE ST</td>\n",
       "      <td>None</td>\n",
       "      <td>None</td>\n",
       "      <td>None</td>\n",
       "      <td>None</td>\n",
       "      <td>...</td>\n",
       "      <td>12.0</td>\n",
       "      <td>NaN</td>\n",
       "      <td>NaN</td>\n",
       "      <td>{737681F6-3046-4A97-B0DE-D5B3D23470DD}</td>\n",
       "      <td>STREET-14125</td>\n",
       "      <td>NaN</td>\n",
       "      <td>NaN</td>\n",
       "      <td>None</td>\n",
       "      <td>150.310493</td>\n",
       "      <td>MULTILINESTRING ((2312914.864 1843646.154, 231...</td>\n",
       "    </tr>\n",
       "  </tbody>\n",
       "</table>\n",
       "<p>2218 rows × 65 columns</p>\n",
       "</div>"
      ],
      "text/plain": [
       "     CENTERLINEID  FROMLEFT  TOLEFT  FROMRIGHT  TORIGHT       FULLNAME  \\\n",
       "0           02600       0.0     0.0        0.0      0.0        MAIN ST   \n",
       "1           01430       0.0     0.0        0.0      0.0       FIRST ST   \n",
       "2           02670     102.0   114.0      105.0    205.0        MAIN ST   \n",
       "3           02660     204.0   218.0      205.0    221.0        MAIN ST   \n",
       "4           02650     302.0   318.0      301.0    307.0        MAIN ST   \n",
       "...           ...       ...     ...        ...      ...            ...   \n",
       "2213        00301    1600.0  1756.0     1601.0   1751.0       THIRD ST   \n",
       "2214        13760       NaN     NaN        NaN      NaN  SOUTHVIEW AVE   \n",
       "2215        13765       NaN     NaN        NaN      NaN       SUNNY CT   \n",
       "2216        13770       NaN     NaN        NaN      NaN  SOUTHVIEW AVE   \n",
       "2217        14125       NaN     NaN        NaN      NaN       ALICE ST   \n",
       "\n",
       "     FEDROUTE FEDRTETYPE AFEDRTE AFEDRTETYPE  ... SLOPE OCI2017 OCI2014  \\\n",
       "0        None      Other    None        None  ...   NaN   58.92   71.66   \n",
       "1        None      Other    None        None  ...   NaN   90.93   98.96   \n",
       "2        None      Other    None        None  ...   NaN   71.70  100.00   \n",
       "3        None      Other    None        None  ...   NaN   71.70  100.00   \n",
       "4        None      Other    None        None  ...   NaN   91.97  100.00   \n",
       "...       ...        ...     ...         ...  ...   ...     ...     ...   \n",
       "2213     None      Other    None        None  ...   5.0     NaN     NaN   \n",
       "2214     None       None    None        None  ...  10.0     NaN     NaN   \n",
       "2215     None       None    None        None  ...   7.0     NaN     NaN   \n",
       "2216     None       None    None        None  ...  10.0     NaN     NaN   \n",
       "2217     None       None    None        None  ...  12.0     NaN     NaN   \n",
       "\n",
       "                                    GlobalID    FACILITYID OCI2019 OCI2020  \\\n",
       "0     {E10997BF-346F-493B-9078-ABF3BA07D894}  STREET-02600   96.08   96.08   \n",
       "1     {F2D06156-E244-4542-A0A7-9F47285F09AF}  STREET-01430   86.04   86.04   \n",
       "2     {BF94EEC2-9DBF-42FD-8BA0-31C170DEC8CB}  STREET-02670   80.02   80.02   \n",
       "3     {E4ADA45C-08D8-4C70-B30F-46E1097647A3}  STREET-02660   80.02   80.02   \n",
       "4     {D3CE1840-EC8C-4124-AAEF-4A67AB2B5415}  STREET-02650   95.17   95.17   \n",
       "...                                      ...           ...     ...     ...   \n",
       "2213  {CE44A217-E6DA-4168-A8A9-C28AD394A399}  STREET-00301     NaN     NaN   \n",
       "2214  {588D3E9B-7CBE-48D5-94BF-0DB57D0E0442}  STREET-13760     NaN     NaN   \n",
       "2215  {2F896E18-E40F-4BD6-81D2-5DDD91482100}  STREET-13765     NaN     NaN   \n",
       "2216  {4BAB6FC8-B24E-49A0-B852-9AF25FD43BF2}  STREET-13770     NaN     NaN   \n",
       "2217  {737681F6-3046-4A97-B0DE-D5B3D23470DD}  STREET-14125     NaN     NaN   \n",
       "\n",
       "       ADTID  SHAPE_Length                                           geometry  \n",
       "0     F19-05     87.664841  MULTILINESTRING ((2310851.729 1847250.622, 231...  \n",
       "1     G16-05    349.983212  MULTILINESTRING ((2310883.550 1849572.726, 231...  \n",
       "2     F17-12    230.721479  MULTILINESTRING ((2310883.464 1849564.375, 231...  \n",
       "3     F17-06    239.999980  MULTILINESTRING ((2310880.869 1849333.668, 231...  \n",
       "4     F17-07    240.667684  MULTILINESTRING ((2310878.196 1849093.683, 231...  \n",
       "...      ...           ...                                                ...  \n",
       "2213    None    756.596825  MULTILINESTRING ((2316177.219 1849043.781, 231...  \n",
       "2214    None    706.800143  MULTILINESTRING ((2312049.540 1843770.847, 231...  \n",
       "2215    None    173.316937  MULTILINESTRING ((2312699.813 1843557.137, 231...  \n",
       "2216    None    221.456644  MULTILINESTRING ((2312699.813 1843557.137, 231...  \n",
       "2217    None    150.310493  MULTILINESTRING ((2312914.864 1843646.154, 231...  \n",
       "\n",
       "[2218 rows x 65 columns]"
      ]
     },
     "execution_count": 290,
     "metadata": {},
     "output_type": "execute_result"
    }
   ],
   "source": [
    "roads"
   ]
  },
  {
   "cell_type": "code",
   "execution_count": 291,
   "id": "c868f1c6-c4d1-4f22-a07d-60e522dc9382",
   "metadata": {},
   "outputs": [
    {
     "data": {
      "text/plain": [
       "Index(['LANDUSECODE', 'LANDUSEDESC', 'BASEELEV', 'HEIGHT', 'LASTUPDATE',\n",
       "       'LASTEDITOR', 'SUBTYPECODE', 'SUBTYPEDESC', 'PARCELID', 'ADDRESS',\n",
       "       'LOCDESC', 'GlobalID', 'SHAPE_Length', 'SHAPE_Area', 'geometry'],\n",
       "      dtype='object')"
      ]
     },
     "execution_count": 291,
     "metadata": {},
     "output_type": "execute_result"
    }
   ],
   "source": [
    "zoning.columns"
   ]
  },
  {
   "cell_type": "code",
   "execution_count": 292,
   "id": "c5573dbc-9750-43d9-b738-2ea45d442b0c",
   "metadata": {},
   "outputs": [
    {
     "data": {
      "text/plain": [
       "array(['Auto-Urban Residential', 'University',\n",
       "       'Parks, Recreation, and Open Space',\n",
       "       'Auto-Urban Residential, Medium Density', 'Urban Commercial',\n",
       "       'Urban Residential, Medium Density', 'Urban Residential',\n",
       "       'Suburban Residential', 'Public and Semi-Public',\n",
       "       'Auto-Urban Commercial', 'Vacant', 'Auto-Urban Industrial',\n",
       "       'Agricultural', 'Research/Technology Park', '',\n",
       "       'Suburban Commercial'], dtype=object)"
      ]
     },
     "execution_count": 292,
     "metadata": {},
     "output_type": "execute_result"
    }
   ],
   "source": [
    "zoning['LANDUSEDESC'].unique()"
   ]
  },
  {
   "cell_type": "code",
   "execution_count": 293,
   "id": "39000fc1-bc15-42ff-8140-c7dca15d0304",
   "metadata": {},
   "outputs": [
    {
     "data": {
      "text/plain": [
       "array(['111', '750', '800', '109', '250', '115', '110', '120', '700',\n",
       "       '200', '11', '400', '900', '999', '0', '150', None], dtype=object)"
      ]
     },
     "execution_count": 293,
     "metadata": {},
     "output_type": "execute_result"
    }
   ],
   "source": [
    "zoning['LANDUSECODE'].unique()"
   ]
  },
  {
   "cell_type": "code",
   "execution_count": 294,
   "id": "b3bbe430-5a94-453e-a5a4-6421b573dbde",
   "metadata": {},
   "outputs": [],
   "source": [
    "# We can measure the distance between any parcel and a point near the center of downtown Moscow\n",
    "from shapely.geometry import Point\n",
    "parcels['Dwntn_dist'] = parcels.distance(Point(2.311e6, 1.849e6))"
   ]
  },
  {
   "cell_type": "markdown",
   "id": "888862c3-cee8-4bc4-9b87-8a2c7850d04a",
   "metadata": {},
   "source": [
    "#### Visualizing the data\n",
    "I think each of the plots below is interesting.  Try commenting and uncommenting each one"
   ]
  },
  {
   "cell_type": "code",
   "execution_count": 297,
   "id": "b7607691-1387-4e20-930d-cfa47e3992dd",
   "metadata": {
    "tags": []
   },
   "outputs": [
    {
     "data": {
      "application/vnd.jupyter.widget-view+json": {
       "model_id": "cdc7c67b51dd4df29912e987f68563bf",
       "version_major": 2,
       "version_minor": 0
      },
      "text/plain": [
       "Canvas(toolbar=Toolbar(toolitems=[('Home', 'Reset original view', 'home', 'home'), ('Back', 'Back to previous …"
      ]
     },
     "metadata": {},
     "output_type": "display_data"
    },
    {
     "data": {
      "text/plain": [
       "<AxesSubplot:>"
      ]
     },
     "execution_count": 297,
     "metadata": {},
     "output_type": "execute_result"
    }
   ],
   "source": [
    "%matplotlib widget\n",
    "fig, ax = plt.subplots( figsize=(8,8) )\n",
    "\n",
    "# These are a few of the interesting plots to look at.\n",
    "#parcels.plot(column='Dwntn_dist', ax=ax, legend=True, vmax=5280);\n",
    "zoning.plot(column='LANDUSEDESC', ax=ax, legend=True, cmap='tab20')\n",
    "parcels.plot(column= 'SaleYear', ax=ax, legend=True, vmin=1990)\n",
    "\n",
    "ax.set_xlim( city_limits.bounds.to_numpy()[0][::2] )\n",
    "ax.set_ylim( city_limits.bounds.to_numpy()[0][1::2] )\n",
    "\n",
    "roads.plot(ax=ax, color='gray')\n"
   ]
  },
  {
   "cell_type": "code",
   "execution_count": null,
   "id": "503a63fb-7da7-4a39-a953-aa34356c78eb",
   "metadata": {},
   "outputs": [],
   "source": []
  },
  {
   "cell_type": "markdown",
   "id": "9a0adbd0-ef1d-4d0d-bdfc-f43eefac496a",
   "metadata": {},
   "source": [
    "### Property sales over time\n",
    "Similar to the assignment from last week, we can look at the property sales as a function of time."
   ]
  },
  {
   "cell_type": "code",
   "execution_count": 298,
   "id": "f9122c77-a7eb-44b5-8842-4e9c6188e063",
   "metadata": {
    "tags": []
   },
   "outputs": [
    {
     "name": "stdout",
     "output_type": "stream",
     "text": [
      "0    20120925.0\n",
      "1    20120925.0\n",
      "2           0.0\n",
      "3    20190815.0\n",
      "Name: PM_DEEDCDT, dtype: object\n"
     ]
    }
   ],
   "source": [
    "import pandas as pd\n",
    "print( parcels['PM_DEEDCDT'].astype(str)[:4] )\n",
    "\n",
    "parcels['SaleDate'] = pd.to_datetime(\n",
    "    parcels['PM_DEEDCDT'], \n",
    "    errors='coerce', \n",
    "    format='%Y%m%d')\n"
   ]
  },
  {
   "cell_type": "code",
   "execution_count": 299,
   "id": "a9aa8268-4752-4ed8-bbdc-3fa9da2ae504",
   "metadata": {
    "tags": []
   },
   "outputs": [
    {
     "data": {
      "text/plain": [
       "0      2012-09-25\n",
       "1      2012-09-25\n",
       "2             NaT\n",
       "3      2019-08-15\n",
       "4      2019-08-15\n",
       "          ...    \n",
       "7389          NaT\n",
       "7390          NaT\n",
       "7391          NaT\n",
       "7392          NaT\n",
       "7393          NaT\n",
       "Name: SaleDate, Length: 7394, dtype: datetime64[ns]"
      ]
     },
     "execution_count": 299,
     "metadata": {},
     "output_type": "execute_result"
    }
   ],
   "source": [
    "parcels['SaleDate']"
   ]
  },
  {
   "cell_type": "code",
   "execution_count": 300,
   "id": "596b9caa-d2ba-4e79-9c36-ab5bb1d8ee5e",
   "metadata": {
    "tags": []
   },
   "outputs": [],
   "source": [
    "dates = parcels['PM_DEEDCDT'].to_numpy() # Pull out all the sale dates (initially floats)\n",
    "yr = np.full( dates.shape, np.nan ) # initialize a variable full of nans\n",
    "\n",
    "for i in range(len(dates)): \n",
    "    if dates[i] > 0:\n",
    "        yr[i] = int( str(dates[i])[:4] )\n",
    "    else:\n",
    "        yr[i] = np.nan\n",
    "\n",
    "parcels['SaleYear'] = yr # Create a new column for the parcels data frame representing sale year\n"
   ]
  },
  {
   "cell_type": "code",
   "execution_count": 301,
   "id": "0b191054-8968-468b-95fc-818168d3dd24",
   "metadata": {},
   "outputs": [
    {
     "data": {
      "application/vnd.jupyter.widget-view+json": {
       "model_id": "400a4a350c8a4b36b8c7b71390135dd6",
       "version_major": 2,
       "version_minor": 0
      },
      "text/plain": [
       "Canvas(toolbar=Toolbar(toolitems=[('Home', 'Reset original view', 'home', 'home'), ('Back', 'Back to previous …"
      ]
     },
     "metadata": {},
     "output_type": "display_data"
    }
   ],
   "source": [
    "bin_size = np.timedelta64(365, 'D')/12 # days\n",
    "fig, ax = plt.subplots()\n",
    "ax.hist(parcels['SaleDate'], bins=np.arange(np.datetime64('1990-01-01'), \n",
    "                                            np.datetime64('2022-01-01'), \n",
    "                                            bin_size ) )\n",
    "ylabel_text = 'Number of property sales in Moscow\\nper ' + str(bin_size.astype(int)) + ' days'\n",
    "ax.set_ylabel(ylabel_text)\n",
    "ax.set_xlim(np.datetime64('2000-01-01'), np.datetime64('2022-01-01') );\n",
    "# ax.set_xlim(np.datetime64('2010-12-15'), np.datetime64('2011-01-01') )\n",
    "\n",
    "# Note that the sales at the end of 2010 are anomalous, and are all recorded on the same day.\n",
    "# That's suspicious and Tim thinks that it must be some change in accounting or record keeping."
   ]
  },
  {
   "cell_type": "code",
   "execution_count": null,
   "id": "2879d473-3042-4ade-84d4-710316070305",
   "metadata": {},
   "outputs": [],
   "source": []
  },
  {
   "cell_type": "markdown",
   "id": "38c893b8-ffb6-4e1d-8086-58550738aae1",
   "metadata": {},
   "source": [
    "<div class=\"alert alert-block alert-warning\">\n",
    "\n",
    "## 3. Investing in downtown property\n",
    "You are the GIS consultant for a property investment company that specializes in\n",
    "downtown and higher-density properties.  Your company is considering Moscow real estate.\n",
    "You've heard about the boom in sales within the city, and your company would like to know how competitive\n",
    "property purchasing will be, or if they will be able to drive a hard bargin.\n",
    "\n",
    "Has the downtown property market heated up as much as within the city as a whole?\n",
    "Compare sale rates within two of the zoned downtown regions with those of the city as a whole.\n",
    "    \n",
    "Is there anything else in these data that you would like to share with your colleagues\n",
    "    that could help advise them as you consider this investment?\n",
    "</div>"
   ]
  },
  {
   "cell_type": "code",
   "execution_count": 310,
   "id": "05af443a-5298-4f8d-bc5c-bab21766867f",
   "metadata": {},
   "outputs": [],
   "source": [
    "#subsetting out two zones\n",
    "selected = zoning['LANDUSEDESC'] == 'Suburban Residential'\n",
    "SuburbanResidential = zoning.loc[selected]\n",
    "\n",
    "selected = zoning['LANDUSEDESC'] == 'Suburban Commercial'\n",
    "SuburbanCommercial = zoning.loc[selected]\n"
   ]
  },
  {
   "cell_type": "code",
   "execution_count": 316,
   "id": "6899aca5-45e9-4cfd-bfa0-9aac7b0672dc",
   "metadata": {},
   "outputs": [
    {
     "name": "stderr",
     "output_type": "stream",
     "text": [
      "C:\\Users\\loca0\\anaconda3\\envs\\GISenv21b\\lib\\site-packages\\geopandas\\base.py:32: UserWarning: The indices of the two GeoSeries are different.\n",
      "  warn(\"The indices of the two GeoSeries are different.\")\n"
     ]
    },
    {
     "data": {
      "application/vnd.jupyter.widget-view+json": {
       "model_id": "e4cd7280607c4eb4b901e0746ab7189b",
       "version_major": 2,
       "version_minor": 0
      },
      "text/plain": [
       "Canvas(toolbar=Toolbar(toolitems=[('Home', 'Reset original view', 'home', 'home'), ('Back', 'Back to previous …"
      ]
     },
     "metadata": {},
     "output_type": "display_data"
    },
    {
     "data": {
      "text/plain": [
       "<AxesSubplot:>"
      ]
     },
     "execution_count": 316,
     "metadata": {},
     "output_type": "execute_result"
    }
   ],
   "source": [
    "SuburbanResidentialParcels = parcels.intersection(SuburbanResidential)\n",
    "SuburbanResidentialParcels\n",
    "fig, ax = plt.subplots(figsize=(9,9))\n",
    "SuburbanResidentialParcels.plot(edgecolor = 'black',ax=ax)\n",
    "#I wanted to isolate Residential parcels by using .intersection but it didn't work and I couldn't figure out why. I \n",
    "#plotted just to see if it worked and didn't.  I was going to do the same with Commercial and then try and look at sales\n",
    "#per year for each.  But since I couldn't get past this step, I couldn't do that."
   ]
  },
  {
   "cell_type": "code",
   "execution_count": null,
   "id": "91da0e7b-efa0-484a-8658-6347d44f2d91",
   "metadata": {},
   "outputs": [],
   "source": []
  },
  {
   "cell_type": "markdown",
   "id": "ace97372-6cee-4ffd-9efa-8dd0a927a30d",
   "metadata": {},
   "source": [
    "<div class=\"alert alert-block alert-warning\">\n",
    "\n",
    "## 4. Find, plot, work with data of your own\n",
    "Find a spatial, vector dataset of your choosing (by googling, from another class, \n",
    "    or from a research project of yours). This could be climate data, geologic units,\n",
    "    census data, ecological units, demographic data, etc. Download or copy this dataset\n",
    "    into the current directory, plot it, and use geopandas to draw on the attributes \n",
    "    of that data (even just lengths, areas, etc) and tell me something about that data.\n",
    "</div>"
   ]
  },
  {
   "cell_type": "code",
   "execution_count": 5,
   "id": "9aa5b7c7-cb2a-4b03-9d06-5ad1087b4a7e",
   "metadata": {},
   "outputs": [],
   "source": [
    "owl = gpd.read_file(\"C://Users/loca0/Documents/Github/GIS_programming_F21/weeks/wk04_vectorsII/assignment04/Burrowing_Owl_Conway_Idaho_18Sept2021/owl201610_AL.shp\")\n",
    "usa = gpd.read_file(\"C://Users/loca0/Documents/Github/GIS_programming_F21/weeks/wk04_vectorsII/assignment04/cb_2018_us_state_20m/cb_2018_us_state_20m_AL.shp\")\n",
    "mexico = gpd.read_file(\"C://Users/loca0/Documents/Github/GIS_programming_F21/weeks/wk04_vectorsII/assignment04/cb_2018_us_state_20m/mexico_AL.shp\")"
   ]
  },
  {
   "cell_type": "code",
   "execution_count": 216,
   "id": "5de4a26c-7055-42d2-aeb1-a2b8ab03dd63",
   "metadata": {},
   "outputs": [
    {
     "name": "stderr",
     "output_type": "stream",
     "text": [
      "C:\\Users\\loca0\\AppData\\Local\\Temp/ipykernel_8504/808174557.py:1: UserWarning: Geometry is in a geographic CRS. Results from 'buffer' are likely incorrect. Use 'GeoSeries.to_crs()' to re-project geometries to a projected CRS before this operation.\n",
      "\n",
      "  errorradius = owl.buffer(owl['error_radi'])\n"
     ]
    }
   ],
   "source": [
    "errorradius = owl.buffer(owl['error_radi'])"
   ]
  },
  {
   "cell_type": "code",
   "execution_count": 6,
   "id": "36308327-5753-4e9b-94a1-14c72fffb926",
   "metadata": {},
   "outputs": [
    {
     "data": {
      "text/plain": [
       "(17.03837, 45.99915)"
      ]
     },
     "execution_count": 6,
     "metadata": {},
     "output_type": "execute_result"
    },
    {
     "data": {
      "image/png": "[encoded data removed]",
      "text/plain": [
       "<Figure size 648x648 with 1 Axes>"
      ]
     },
     "metadata": {
      "needs_background": "light"
     },
     "output_type": "display_data"
    }
   ],
   "source": [
    "fig, ax = plt.subplots(figsize=(9,9))\n",
    "owl.plot(column='timestamp',markersize=0.4,cmap=\"Greens\",zorder=2,legend=False,ax=ax)\n",
    "usa.plot(zorder=1,edgecolor = 'black',ax=ax)\n",
    "mexico.plot(edgecolor = 'black',ax=ax)\n",
    "ax.set_title('Locations of a Burrowing Owl, July 2020 to Sept. 2021')\n",
    "\n",
    "owlextent = owl.geometry.total_bounds\n",
    "\n",
    "xlim = ([owlextent[0]-3,  owlextent[2]+3])\n",
    "ylim = ([owlextent[1]-3,  owlextent[3]+3])\n",
    "\n",
    "ax.set_xlim(xlim)\n",
    "ax.set_ylim(ylim)"
   ]
  },
  {
   "cell_type": "code",
   "execution_count": null,
   "id": "847e31b2-776c-4ca1-8c7a-dfcbcaa2f2a4",
   "metadata": {},
   "outputs": [],
   "source": [
    "#These are locations of a burrowing owl.  The darker greens are older points and lighter greens are more recent."
   ]
  },
  {
   "cell_type": "code",
   "execution_count": null,
   "id": "dd7cdfe5-dd12-4fc9-81d9-57393dd8d46e",
   "metadata": {},
   "outputs": [],
   "source": []
  }
 ],
 "metadata": {
  "kernelspec": {
   "display_name": "Python [conda env:GISenv21b] *",
   "language": "python",
   "name": "conda-env-GISenv21b-py"
  },
  "language_info": {
   "codemirror_mode": {
    "name": "ipython",
    "version": 3
   },
   "file_extension": ".py",
   "mimetype": "text/x-python",
   "name": "python",
   "nbconvert_exporter": "python",
   "pygments_lexer": "ipython3",
   "version": "3.9.6"
  }
 },
 "nbformat": 4,
 "nbformat_minor": 5
}

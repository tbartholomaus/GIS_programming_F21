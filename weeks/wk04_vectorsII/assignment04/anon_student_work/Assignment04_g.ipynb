{
 "cells": [
  {
   "cell_type": "markdown",
   "id": "b14b20c6-4f6d-4d35-98c0-095d4b9c01c3",
   "metadata": {},
   "source": [
    "# Assignment 04\n"
   ]
  },
  {
   "cell_type": "code",
   "execution_count": null,
   "id": "b38efdc7-7f92-4a40-9178-7c0f61cfc5fd",
   "metadata": {},
   "outputs": [],
   "source": []
  },
  {
   "cell_type": "code",
   "execution_count": 1,
   "id": "f4a70078-b2c0-4a6b-b270-7575dbcd8eda",
   "metadata": {},
   "outputs": [],
   "source": [
    "import numpy as np\n",
    "import matplotlib.pyplot as plt\n",
    "from pathlib import Path\n",
    "\n",
    "import geopandas as gpd"
   ]
  },
  {
   "cell_type": "code",
   "execution_count": 2,
   "id": "f036393c-ec90-4fec-a144-de07755f16fc",
   "metadata": {},
   "outputs": [],
   "source": [
    "datasets_dir = Path('../../../datasets')\n",
    "# ls ../../"
   ]
  },
  {
   "cell_type": "code",
   "execution_count": 3,
   "id": "2e77bc7a-41dc-4ac4-baea-5bbe28e4a040",
   "metadata": {},
   "outputs": [
    {
     "data": {
      "text/plain": [
       "WindowsPath('../../../datasets')"
      ]
     },
     "execution_count": 3,
     "metadata": {},
     "output_type": "execute_result"
    }
   ],
   "source": [
    "datasets_dir"
   ]
  },
  {
   "cell_type": "code",
   "execution_count": 4,
   "id": "bc2dd580-ad80-4615-8a26-9df0b18b916d",
   "metadata": {},
   "outputs": [
    {
     "name": "stdout",
     "output_type": "stream",
     "text": [
      "..\\..\\..\\datasets\\moscow\\moscow_vectors\\Moscow.gdb\n",
      "<class 'pathlib.WindowsPath'>\n"
     ]
    }
   ],
   "source": [
    "moscow_gdb_path = datasets_dir / 'moscow' / 'moscow_vectors' / 'Moscow.gdb'\n",
    "print(moscow_gdb_path)\n",
    "print(type(moscow_gdb_path))"
   ]
  },
  {
   "cell_type": "code",
   "execution_count": null,
   "id": "554bb916-a1c5-4319-9395-a7a499f227b4",
   "metadata": {},
   "outputs": [],
   "source": []
  },
  {
   "cell_type": "code",
   "execution_count": 5,
   "id": "659e9eeb-782d-4df6-b335-943ed6a38203",
   "metadata": {},
   "outputs": [
    {
     "data": {
      "text/plain": [
       "['Moscow_Zoning',\n",
       " 'Centerlines',\n",
       " 'Moscow_Parks',\n",
       " 'Moscow_City_Limit',\n",
       " 'Parcels']"
      ]
     },
     "execution_count": 5,
     "metadata": {},
     "output_type": "execute_result"
    }
   ],
   "source": [
    "import fiona\n",
    "moscow_gdb = str(moscow_gdb_path)\n",
    "\n",
    "fiona.listlayers(moscow_gdb)"
   ]
  },
  {
   "cell_type": "code",
   "execution_count": 6,
   "id": "938bcac9-ea22-4db2-89a4-11cbe55fdf5a",
   "metadata": {},
   "outputs": [
    {
     "data": {
      "text/plain": [
       "['Moscow_Zoning',\n",
       " 'Centerlines',\n",
       " 'Moscow_Parks',\n",
       " 'Moscow_City_Limit',\n",
       " 'Parcels']"
      ]
     },
     "execution_count": 6,
     "metadata": {},
     "output_type": "execute_result"
    }
   ],
   "source": [
    "import fiona\n",
    "moscow = moscow_gdb\n",
    "fiona.listlayers(moscow)"
   ]
  },
  {
   "cell_type": "code",
   "execution_count": 7,
   "id": "749b5581-d9ea-48e2-8949-e6acb8e8d685",
   "metadata": {},
   "outputs": [],
   "source": [
    "parcels = gpd.read_file(moscow_gdb, layer='Parcels')\n",
    "roads = gpd.read_file(moscow_gdb, layer='Centerlines')\n",
    "zoning = gpd.read_file(moscow_gdb, layer='Moscow_Zoning')\n",
    "city_limits = gpd.read_file(moscow_gdb, layer='Moscow_City_Limit')\n",
    "parks = gpd.read_file(moscow_gdb, layer='Moscow_Parks')\n"
   ]
  },
  {
   "cell_type": "code",
   "execution_count": 8,
   "id": "994b45f8-6c0c-4f15-8580-e97c5586b077",
   "metadata": {},
   "outputs": [
    {
     "data": {
      "text/plain": [
       "Index(['LABEL', 'PM_PAR_14', 'PM_MAIL_NM', 'PM_MAIL_A1', 'PM_MAIL_A2',\n",
       "       'PM_MAIL_CT', 'PM_MAIL_ST', 'PM_MAIL_ZP', 'PM_PROP_AD', 'PM_DEEDCDT',\n",
       "       'PM_DEEDRF1', 'PM_DEEDRF2', 'PM_DEEDRF3', 'PM_DEEDRF4', 'PM_DEEDRF5',\n",
       "       'PM_TAX_AMT', 'PM_PV_AREA', 'PM_PV_NBHD', 'PM_PV_ACRE', 'PM_TOT_VAL',\n",
       "       'PM_IMP_VAL', 'PM_LND_VAL', 'PM_EX_VAL', 'PM_NET_VAL', 'PM_CATS',\n",
       "       'LG_LINE_1', 'LG_LINE_2', 'LG_LINE_3', 'LG_LINE_4', 'LG_LINE_5',\n",
       "       'LG_LINE_6', 'PM_PARC_CD', 'GlobalID', 'Shape_Length', 'Shape_Area',\n",
       "       'geometry'],\n",
       "      dtype='object')"
      ]
     },
     "execution_count": 8,
     "metadata": {},
     "output_type": "execute_result"
    }
   ],
   "source": [
    "parcels.columns"
   ]
  },
  {
   "cell_type": "markdown",
   "id": "533f554b-1fcd-4e89-aecd-749742abdd50",
   "metadata": {},
   "source": [
    "### Shapely geometries\n",
    "Behind the scenes, geopandas is reading in vector data, storing the attribute tables as `pandas` dataframes,\n",
    "and storing the vector geometry as `shapely` geometries.\n",
    "\n",
    "\n",
    "### Reading:\n",
    "To become more familiar with vector operations in geopandas/shapely, \n",
    "read this introduction to shapely geometries carefully, \n",
    "and reproduce/experiment with the code in this reading from within a blank notebook:\n",
    "https://towardsdatascience.com/geospatial-adventures-step-1-shapely-e911e4f86361\n",
    "\n",
    "Read this page for a more comprehensive description of `shapely` geometries: \n",
    "https://autogis-site.readthedocs.io/en/latest/notebooks/L1/geometric-objects.html\n",
    "\n",
    "Scroll through the `shapely` user manual (https://shapely.readthedocs.io/en/stable/manual.html), \n",
    "reviewing the different functions that shapely includes.  `geopandas` allows all of these functions to be\n",
    "executed, [directly through `geopandas`, without explicit call to `shapely`](https://geopandas.org/docs/user_guide/geometric_manipulations.html).  `shapely` is just running\n",
    "quietly under the hood.  Pay specific attention to the \"Spatial Analysis Methods\" of the manual."
   ]
  },
  {
   "cell_type": "code",
   "execution_count": 9,
   "id": "a805a90a-a722-41bd-b340-ac15e6531723",
   "metadata": {},
   "outputs": [
    {
     "name": "stdout",
     "output_type": "stream",
     "text": [
      "Line area = 0.0\n",
      "Line length = 2.8284271247461903\n"
     ]
    }
   ],
   "source": [
    "from shapely.geometry import LineString\n",
    "line = LineString([(0, 0), (1, 1), (2, 0)])\n",
    "print('Line area =', line.area)\n",
    "print('Line length =', line.length)"
   ]
  },
  {
   "cell_type": "code",
   "execution_count": 10,
   "id": "91dda482-8e26-41bd-b40b-732e714cd6f9",
   "metadata": {},
   "outputs": [
    {
     "data": {
      "image/svg+xml": [
       "<svg xmlns=\"http://www.w3.org/2000/svg\" xmlns:xlink=\"http://www.w3.org/1999/xlink\" width=\"100.0\" height=\"100.0\" viewBox=\"-0.08 -0.08 2.16 1.1600000000000001\" preserveAspectRatio=\"xMinYMin meet\"><g transform=\"matrix(1,0,0,-1,0,1.0)\"><polyline fill=\"none\" stroke=\"#66cc99\" stroke-width=\"0.0432\" points=\"0.0,0.0 1.0,1.0 2.0,0.0\" opacity=\"0.8\" /></g></svg>"
      ],
      "text/plain": [
       "<shapely.geometry.linestring.LineString at 0x298d2d53460>"
      ]
     },
     "execution_count": 10,
     "metadata": {},
     "output_type": "execute_result"
    }
   ],
   "source": [
    "line"
   ]
  },
  {
   "cell_type": "code",
   "execution_count": 11,
   "id": "92ea295d-9a77-4bf6-9718-0b3cd9979e88",
   "metadata": {},
   "outputs": [
    {
     "data": {
      "text/plain": [
       "shapely.geometry.linestring.LineString"
      ]
     },
     "execution_count": 11,
     "metadata": {},
     "output_type": "execute_result"
    }
   ],
   "source": [
    "type(line)"
   ]
  },
  {
   "cell_type": "code",
   "execution_count": 12,
   "id": "50696400-bd30-4071-8e44-6535e41c37cc",
   "metadata": {},
   "outputs": [
    {
     "name": "stdout",
     "output_type": "stream",
     "text": [
      "[(0.0, 0.0), (1.0, 1.0), (2.0, 0.0)]\n",
      "(2.0, 0.0)\n"
     ]
    }
   ],
   "source": [
    "print( list(line.coords) )\n",
    "print( line.coords[2] )"
   ]
  },
  {
   "cell_type": "markdown",
   "id": "aa3bf992-2366-47e0-bc24-0d49657b6e92",
   "metadata": {},
   "source": [
    "<div class=\"alert alert-block alert-warning\">\n",
    "\n",
    "## 1. Shapely geometries\n",
    "What `shapely` geometry are each of the parcels in the Moscow parcels layer? What `shapely` geometry are their centroids?\n",
    "    \n",
    "Find the Kenworthy Theater within the parcels database (hint: the name field for its mailing address, \n",
    "    PM_MAIL_NM, is \"KENWORTHY PERFORMING ARTS CTR\").\n",
    "What are the coordinates for the corners of its parcel?    \n",
    "</div>\n"
   ]
  },
  {
   "cell_type": "code",
   "execution_count": null,
   "id": "291f89be-8ae4-4981-8e6c-aa435511154f",
   "metadata": {},
   "outputs": [],
   "source": []
  },
  {
   "cell_type": "code",
   "execution_count": 13,
   "id": "ad2dffbb-5697-41ce-84a0-3a6b7f9d3538",
   "metadata": {},
   "outputs": [
    {
     "name": "stdout",
     "output_type": "stream",
     "text": [
      "The geometry type is MultiPolygon\n"
     ]
    }
   ],
   "source": [
    "parcels = gpd.read_file(moscow, layer='Parcels')\n",
    "p_geom_type = parcels.geom_type # shapely geometry type is MultiPolygon\n",
    "p_geom_type\n",
    "print('The geometry type is' , p_geom_type[0])"
   ]
  },
  {
   "cell_type": "code",
   "execution_count": 14,
   "id": "ad427bcf-79fb-4c61-86f5-290951dcee05",
   "metadata": {},
   "outputs": [
    {
     "name": "stdout",
     "output_type": "stream",
     "text": [
      "The geometry type is Point\n"
     ]
    }
   ],
   "source": [
    "c_geom_type = parcels.centroid.geom_type   #shapely geometry type is Point\n",
    "c_geom_type\n",
    "print('The geometry type is' , c_geom_type[0])"
   ]
  },
  {
   "cell_type": "code",
   "execution_count": null,
   "id": "512523df-07af-4008-89aa-63837cb3930e",
   "metadata": {},
   "outputs": [],
   "source": []
  },
  {
   "cell_type": "code",
   "execution_count": 15,
   "id": "c2bd0fb8-35dd-49ff-9e73-f9fbebff9138",
   "metadata": {},
   "outputs": [
    {
     "data": {
      "text/plain": [
       "LABEL                                                        002B\n",
       "PM_PAR_14                                          RPM0001005002B\n",
       "PM_MAIL_NM                          KENWORTHY PERFORMING ARTS CTR\n",
       "PM_MAIL_A1                                             508 S MAIN\n",
       "PM_MAIL_A2                                                       \n",
       "PM_MAIL_CT                                                 MOSCOW\n",
       "PM_MAIL_ST                                                     ID\n",
       "PM_MAIL_ZP                                                83843.0\n",
       "PM_PROP_AD                                             508 S MAIN\n",
       "PM_DEEDCDT                                             20010202.0\n",
       "PM_DEEDRF1                                                 455001\n",
       "PM_DEEDRF2                                                 448268\n",
       "PM_DEEDRF3                                                       \n",
       "PM_DEEDRF4                                                       \n",
       "PM_DEEDRF5                                                       \n",
       "PM_TAX_AMT                                                    0.0\n",
       "PM_PV_AREA                                                    0.0\n",
       "PM_PV_NBHD                                                    0.0\n",
       "PM_PV_ACRE                                                    0.0\n",
       "PM_TOT_VAL                                                    0.0\n",
       "PM_IMP_VAL                                                    0.0\n",
       "PM_LND_VAL                                                    0.0\n",
       "PM_EX_VAL                                                     0.0\n",
       "PM_NET_VAL                                                    0.0\n",
       "PM_CATS                                                      |81|\n",
       "LG_LINE_1                                         MOSCOW ORIGINAL\n",
       "LG_LINE_2                             BLK 5 LOT 2, N 1/2 OF LOT 3\n",
       "LG_LINE_3                                                  EXEMPT\n",
       "LG_LINE_4                                                        \n",
       "LG_LINE_5                                                        \n",
       "LG_LINE_6                                                        \n",
       "PM_PARC_CD                                                      C\n",
       "GlobalID                   {A4FB5B11-A87D-453A-ABD6-8BC607A17A20}\n",
       "Shape_Length                                           369.999919\n",
       "Shape_Area                                            7499.997375\n",
       "geometry        (POLYGON ((2311036.945908163 1848531.879651986...\n",
       "Name: 1359, dtype: object"
      ]
     },
     "execution_count": 15,
     "metadata": {},
     "output_type": "execute_result"
    }
   ],
   "source": [
    "kenloc = parcels.iloc[1359] #print just row with info on Kenworthy Performing Arts Ctr\n",
    "kenloc"
   ]
  },
  {
   "cell_type": "code",
   "execution_count": 16,
   "id": "3a2d28ae-67ca-48c3-a1f0-62cdd7f38e48",
   "metadata": {},
   "outputs": [
    {
     "data": {
      "image/svg+xml": [
       "<svg xmlns=\"http://www.w3.org/2000/svg\" xmlns:xlink=\"http://www.w3.org/1999/xlink\" width=\"135.71370495203882\" height=\"100.0\" viewBox=\"2310906.2586367275 1848466.856947388 135.71370495203882 71.44185187015682\" preserveAspectRatio=\"xMinYMin meet\"><g transform=\"matrix(1,0,0,-1,0,3697005.155746646)\"><g><path fill-rule=\"evenodd\" fill=\"#66cc99\" stroke=\"#555555\" stroke-width=\"2.0\" opacity=\"0.6\" d=\"M 2311036.9459081627,1848531.879651986 L 2311036.277274329,1848471.8833809048 L 2310911.285070244,1848473.2760946527 L 2310911.9537040778,1848533.2723657414 L 2311036.9459081627,1848531.879651986 z\" /></g></g></svg>"
      ],
      "text/plain": [
       "<shapely.geometry.multipolygon.MultiPolygon at 0x298d419ad90>"
      ]
     },
     "execution_count": 16,
     "metadata": {},
     "output_type": "execute_result"
    }
   ],
   "source": [
    "ken_poly = kenloc['geometry'] #show the geometry of the Kenworthy Art Center\n",
    "ken_poly"
   ]
  },
  {
   "cell_type": "code",
   "execution_count": 17,
   "id": "edbac603-d203-428a-826b-912d53a9ace7",
   "metadata": {},
   "outputs": [
    {
     "name": "stdout",
     "output_type": "stream",
     "text": [
      "The centroid of the polygon is [2310974.1154892  1848502.57787332] degrees\n"
     ]
    }
   ],
   "source": [
    "print('The centroid of the polygon is', np.array(ken_poly.centroid), 'degrees') #centroid of the polygon"
   ]
  },
  {
   "cell_type": "code",
   "execution_count": 18,
   "id": "8614e0c8-e561-4687-b70e-98c0bba7f1e3",
   "metadata": {},
   "outputs": [
    {
     "name": "stdout",
     "output_type": "stream",
     "text": [
      "The lower left coordinates are (2310911.285070244, 1848471.8833809048) degrees\n",
      "The upper right coordinates are (2311036.9459081627, 1848533.2723657414) degrees\n"
     ]
    }
   ],
   "source": [
    "#bounds of the lower left and upper right corners\n",
    "ken_bounds = ken_poly.bounds # in degrees\n",
    "ken_bounds\n",
    "print('The lower left coordinates are', ken_bounds[0:2], 'degrees')\n",
    "print('The upper right coordinates are', ken_bounds[2:5], 'degrees')"
   ]
  },
  {
   "cell_type": "code",
   "execution_count": null,
   "id": "8abfe809-71cc-4235-a78c-76e6ce0850bd",
   "metadata": {},
   "outputs": [],
   "source": []
  },
  {
   "cell_type": "code",
   "execution_count": 19,
   "id": "64657154-2434-40a8-93d6-26c7ef4e8804",
   "metadata": {},
   "outputs": [
    {
     "data": {
      "text/plain": [
       "<Projected CRS: EPSG:2243>\n",
       "Name: NAD83 / Idaho West (ftUS)\n",
       "Axis Info [cartesian]:\n",
       "- X[east]: Easting (US survey foot)\n",
       "- Y[north]: Northing (US survey foot)\n",
       "Area of Use:\n",
       "- name: United States (USA) - Idaho - counties of Ada; Adams; Benewah; Boise; Bonner; Boundary; Canyon; Clearwater; Elmore; Gem; Idaho; Kootenai; Latah; Lewis; Nez Perce; Owyhee; Payette; Shoshone; Valley; Washington.\n",
       "- bounds: (-117.24, 41.99, -114.32, 49.01)\n",
       "Coordinate Operation:\n",
       "- name: SPCS83 Idaho West zone (US Survey feet)\n",
       "- method: Transverse Mercator\n",
       "Datum: North American Datum 1983\n",
       "- Ellipsoid: GRS 1980\n",
       "- Prime Meridian: Greenwich"
      ]
     },
     "execution_count": 19,
     "metadata": {},
     "output_type": "execute_result"
    }
   ],
   "source": [
    "parcels.crs #verifying that coordinate system is in degrees of lat/long"
   ]
  },
  {
   "cell_type": "code",
   "execution_count": 20,
   "id": "7e24e28d-1f0c-4f67-aa9c-742869278658",
   "metadata": {},
   "outputs": [
    {
     "data": {
      "text/plain": [
       "(2310911.285070244, 1848471.8833809048, 2311036.9459081627, 1848533.2723657414)"
      ]
     },
     "execution_count": 20,
     "metadata": {},
     "output_type": "execute_result"
    }
   ],
   "source": [
    "ken_bounds "
   ]
  },
  {
   "cell_type": "code",
   "execution_count": null,
   "id": "4a8c88b6-7ebc-4e7e-80d6-c91c60a6afbe",
   "metadata": {},
   "outputs": [],
   "source": []
  },
  {
   "cell_type": "code",
   "execution_count": 21,
   "id": "898f65af-fdcf-40c8-a5cd-d6a703f1f9eb",
   "metadata": {},
   "outputs": [
    {
     "data": {
      "image/svg+xml": [
       "<svg xmlns=\"http://www.w3.org/2000/svg\" xmlns:xlink=\"http://www.w3.org/1999/xlink\" width=\"135.71370495203882\" height=\"100.0\" viewBox=\"2310906.2586367275 1848466.856947388 135.71370495203882 71.44185187015682\" preserveAspectRatio=\"xMinYMin meet\"><g transform=\"matrix(1,0,0,-1,0,3697005.155746646)\"><path fill-rule=\"evenodd\" fill=\"#66cc99\" stroke=\"#555555\" stroke-width=\"2.0\" opacity=\"0.6\" d=\"M 2310911.285070244,1848533.2723657414 L 2310911.285070244,1848471.8833809048 L 2311036.9459081627,1848471.8833809048 L 2311036.9459081627,1848533.2723657414 L 2310911.285070244,1848533.2723657414 z\" /></g></svg>"
      ],
      "text/plain": [
       "<shapely.geometry.polygon.Polygon at 0x298d00b84c0>"
      ]
     },
     "execution_count": 21,
     "metadata": {},
     "output_type": "execute_result"
    }
   ],
   "source": [
    "#creating a copy of the Kenworthy Theater parcel to extract the coordinates\n",
    "from shapely.geometry import box\n",
    "min_x, min_y = 2311036.9459081627, 1848533.2723657414\n",
    "max_x, max_y = 2310911.285070244, 1848471.8833809048\n",
    "\n",
    "new_poly = box(minx=min_x, miny=min_y, maxx=max_x, maxy=max_y)\n",
    "new_poly"
   ]
  },
  {
   "cell_type": "code",
   "execution_count": 22,
   "id": "5515bf28-9e15-400c-98c4-4bf942b4944f",
   "metadata": {},
   "outputs": [
    {
     "data": {
      "text/plain": [
       "array([[2310911.28507024, 1848533.27236574],\n",
       "       [2310911.28507024, 1848471.8833809 ],\n",
       "       [2311036.94590816, 1848471.8833809 ],\n",
       "       [2311036.94590816, 1848533.27236574]])"
      ]
     },
     "execution_count": 22,
     "metadata": {},
     "output_type": "execute_result"
    }
   ],
   "source": [
    "#finding and printing the coordinates of the perimeter of the \n",
    "#polygon in an np.array while exluding the last value as it is a repeat of the first value\n",
    "corner_coords = np.array(new_poly.exterior.coords[:-1])\n",
    "corner_coords #units are in degrees"
   ]
  },
  {
   "cell_type": "code",
   "execution_count": null,
   "id": "76ee9aee-2c20-4f14-bc7d-11480434ea05",
   "metadata": {},
   "outputs": [],
   "source": []
  },
  {
   "cell_type": "code",
   "execution_count": 23,
   "id": "7ce56df3-ba09-4ae1-a5ed-67c032f129b8",
   "metadata": {},
   "outputs": [
    {
     "name": "stdout",
     "output_type": "stream",
     "text": [
      "FACILITYID                                               PR-E17-G\n",
      "NAME                                                Ghormley Park\n",
      "SUBTYPEFIELD                                                    0\n",
      "FEATURECODE                                                      \n",
      "FULLADDR                                              504 Home St\n",
      "OPERDAYS                                                         \n",
      "OPERHOURS                                                        \n",
      "PARKAREA                                                     7.34\n",
      "PARKURL         https://www.ci.moscow.id.us/parks-rec/parks/Pa...\n",
      "NUMPARKING                                                    0.0\n",
      "RESTROOM                                                      Yes\n",
      "ADACOMPLY                                                        \n",
      "CAMPING                                                        No\n",
      "SWIMMING                                                       No\n",
      "HIKING                                                         No\n",
      "FISHING                                                        No\n",
      "PICNIC                                                        Yes\n",
      "BOATING                                                        No\n",
      "HUNTING                                                        No\n",
      "ROADCYCLE                                                      No\n",
      "MTBCYCLE                                                       No\n",
      "PLAYGROUND                                                    Yes\n",
      "GOLF                                                           No\n",
      "SKI                                                            No\n",
      "SOCCER                                                         No\n",
      "BASEBALL                                                       No\n",
      "BASKETBALL                                                     No\n",
      "STATUS                                                  Developed\n",
      "CLASS                                                 Special Use\n",
      "OWNEDBY                                                         1\n",
      "MAINTBY                                                         1\n",
      "NOTES                                                        City\n",
      "PARKINDEX                                                       G\n",
      "GlobalID                   {916FA34F-34F0-444B-9718-3B7DA79FA21E}\n",
      "geometry              POINT (2308973.479299717 1848631.093892366)\n",
      "Name: 2, dtype: object\n"
     ]
    },
    {
     "data": {
      "text/plain": [
       "<AxesSubplot:>"
      ]
     },
     "execution_count": 23,
     "metadata": {},
     "output_type": "execute_result"
    },
    {
     "data": {
      "image/png": "[encoded data removed]",
      "text/plain": [
       "<Figure size 432x288 with 1 Axes>"
      ]
     },
     "metadata": {
      "needs_background": "light"
     },
     "output_type": "display_data"
    }
   ],
   "source": [
    "i = 2 # Look at one park, for example\n",
    "print(parks.iloc[i])\n",
    "\n",
    "buffer_radius = 1000 # What are the units for this?\n",
    "\n",
    "buffered_park = parks.iloc[i:i+1].buffer(buffer_radius) # Careful!  I'm not sure why this is, but geopandas requires a slice here, not a single index\n",
    "    #If you use just one index, it seems to remove all the geopandas properties of the data\n",
    "buffered_park.plot()\n"
   ]
  },
  {
   "cell_type": "code",
   "execution_count": 24,
   "id": "d26cb4e6-eb42-46b4-98bb-b1b2621cd55e",
   "metadata": {},
   "outputs": [
    {
     "name": "stdout",
     "output_type": "stream",
     "text": [
      "Units are in feet\n"
     ]
    }
   ],
   "source": [
    "parks.crs\n",
    "print('Units are in feet')"
   ]
  },
  {
   "cell_type": "markdown",
   "id": "f7205e5e-a333-49db-9006-2471cf7b791b",
   "metadata": {},
   "source": [
    "<div class=\"alert alert-block alert-warning\">\n",
    "\n",
    "## 2. Identifying Moscow residents underserved by city parks.\n",
    "You're an urban planner consulting with the City of Moscow.  The city is interested in increasing the number of parks\n",
    "    within the city, and better designing those parks to meet the needs of those who are currently underserved\n",
    "    by the city's existing parks.  The city wants to begin the planning process by reaching out to these currently\n",
    "    underserved residents, but first the city needs to know who they are.\n",
    "    \n",
    "The city asks you to produce a list of all resident addresses within the city limits whose property is at least 1000 feet\n",
    "    from a current park.\n",
    "    \n",
    "To properly address the letters and questionaires that the city will be sending out, the city would like this list\n",
    "    of residents as a csv file, with each property address on a separate line (property addresses are represented within\n",
    "    the parcels database by the field name \"PM_PROP_AD\").  Produce this file and a map of the underserved parcels.\n",
    "    \n",
    "\n",
    "\n",
    "</div>"
   ]
  },
  {
   "cell_type": "code",
   "execution_count": null,
   "id": "cde91cc0-da2d-46b7-a109-967be2356259",
   "metadata": {},
   "outputs": [],
   "source": []
  },
  {
   "cell_type": "code",
   "execution_count": 25,
   "id": "5dfbb270-4722-481d-9966-4c9724a725dc",
   "metadata": {},
   "outputs": [
    {
     "data": {
      "application/vnd.jupyter.widget-view+json": {
       "model_id": "a25ef23837364101ab17e7ce4696fe9c",
       "version_major": 2,
       "version_minor": 0
      },
      "text/plain": [
       "Canvas(toolbar=Toolbar(toolitems=[('Home', 'Reset original view', 'home', 'home'), ('Back', 'Back to previous …"
      ]
     },
     "metadata": {},
     "output_type": "display_data"
    },
    {
     "data": {
      "text/plain": [
       "(1837691.7277759165, 1858582.946164012)"
      ]
     },
     "execution_count": 25,
     "metadata": {},
     "output_type": "execute_result"
    }
   ],
   "source": [
    "%matplotlib widget\n",
    "\n",
    "fig, ax = plt.subplots()\n",
    "parks.buffer(buffer_radius).plot(ax=ax, color='g', zorder = 2)\n",
    "#city_limits.plot(ax=ax, color=None, edgecolor='r')\n",
    "roads.plot(ax=ax, zorder = 1, color = 'w')\n",
    "parcels.plot(ax=ax)\n",
    "\n",
    "\n",
    "ax.set_xlim( city_limits.bounds.to_numpy()[0][::2] )\n",
    "ax.set_ylim( city_limits.bounds.to_numpy()[0][1::2] )\n"
   ]
  },
  {
   "cell_type": "code",
   "execution_count": 26,
   "id": "34f801e2-df4a-4cfe-81f6-907e2b06f6c7",
   "metadata": {},
   "outputs": [],
   "source": [
    "circle = parks.buffer(buffer_radius)"
   ]
  },
  {
   "cell_type": "code",
   "execution_count": null,
   "id": "a39093c9-a8fb-4b9a-96f4-efc4e024e745",
   "metadata": {},
   "outputs": [],
   "source": []
  },
  {
   "cell_type": "code",
   "execution_count": 27,
   "id": "9fa089b4-bb0d-477d-a261-5f7aa5b7f1c8",
   "metadata": {},
   "outputs": [
    {
     "name": "stderr",
     "output_type": "stream",
     "text": [
      "C:\\Users\\12087\\Documents\\Anaconda\\envs\\GISenv21b\\lib\\site-packages\\geopandas\\base.py:32: UserWarning: The indices of the two GeoSeries are different.\n",
      "  warn(\"The indices of the two GeoSeries are different.\")\n"
     ]
    },
    {
     "data": {
      "text/plain": [
       "0       POLYGON ((2310895.129 1842403.524, 2311062.969...\n",
       "1       POLYGON ((2311059.420 1842229.329, 2311059.239...\n",
       "2       POLYGON ((2313927.891 1843762.528, 2314047.876...\n",
       "3       POLYGON ((2310936.696 1850758.583, 2310937.107...\n",
       "4       POLYGON ((2310938.447 1850916.273, 2311056.440...\n",
       "                              ...                        \n",
       "7389                                                 None\n",
       "7390                                                 None\n",
       "7391                                                 None\n",
       "7392                                                 None\n",
       "7393                                                 None\n",
       "Length: 7394, dtype: geometry"
      ]
     },
     "execution_count": 27,
     "metadata": {},
     "output_type": "execute_result"
    }
   ],
   "source": [
    "#pull all polygons(parcels) that do NOT intersect with the buffered circles\n",
    "all_holes = parcels['geometry'].difference(circle) \n",
    "all_holes"
   ]
  },
  {
   "cell_type": "code",
   "execution_count": 28,
   "id": "22a1707a-2122-4d13-9e38-35fef5945219",
   "metadata": {},
   "outputs": [
    {
     "data": {
      "application/vnd.jupyter.widget-view+json": {
       "model_id": "4d03450cb1354a50b9ac00220bb717f8",
       "version_major": 2,
       "version_minor": 0
      },
      "text/plain": [
       "Canvas(toolbar=Toolbar(toolitems=[('Home', 'Reset original view', 'home', 'home'), ('Back', 'Back to previous …"
      ]
     },
     "metadata": {},
     "output_type": "display_data"
    },
    {
     "data": {
      "text/plain": [
       "<AxesSubplot:>"
      ]
     },
     "execution_count": 28,
     "metadata": {},
     "output_type": "execute_result"
    }
   ],
   "source": [
    "all_holes.plot() "
   ]
  },
  {
   "cell_type": "code",
   "execution_count": 29,
   "id": "c8e8608b-a677-4d8d-a667-f2558d052363",
   "metadata": {},
   "outputs": [
    {
     "data": {
      "text/plain": [
       "0       POLYGON ((2310895.129 1842403.524, 2311062.969...\n",
       "1       POLYGON ((2311059.420 1842229.329, 2311059.239...\n",
       "2       POLYGON ((2313927.891 1843762.528, 2314047.876...\n",
       "3       POLYGON ((2310936.696 1850758.583, 2310937.107...\n",
       "4       POLYGON ((2310938.447 1850916.273, 2311056.440...\n",
       "                              ...                        \n",
       "7389                                                 None\n",
       "7390                                                 None\n",
       "7391                                                 None\n",
       "7392                                                 None\n",
       "7393                                                 None\n",
       "Length: 7394, dtype: geometry"
      ]
     },
     "execution_count": 29,
     "metadata": {},
     "output_type": "execute_result"
    }
   ],
   "source": [
    "#pull out polygon coordinates that are in union with all_holes\n",
    "parcel_info_all = parcels.union(all_holes) \n",
    "parcel_info_all"
   ]
  },
  {
   "cell_type": "code",
   "execution_count": 30,
   "id": "08c16f9f-3f49-41a1-b1f4-ff75c960802a",
   "metadata": {},
   "outputs": [
    {
     "data": {
      "text/plain": [
       "0     POLYGON ((2310895.129 1842403.524, 2311062.969...\n",
       "1     POLYGON ((2311059.420 1842229.329, 2311059.239...\n",
       "2     POLYGON ((2313927.891 1843762.528, 2314047.876...\n",
       "3     POLYGON ((2310936.696 1850758.583, 2310937.107...\n",
       "4     POLYGON ((2310938.447 1850916.273, 2311056.440...\n",
       "5     POLYGON ((2306087.327 1849437.908, 2306106.535...\n",
       "6     POLYGON ((2306106.913 1849387.558, 2306106.725...\n",
       "7     POLYGON ((2316147.920 1849168.615, 2316146.975...\n",
       "8     POLYGON ((2316146.889 1848991.434, 2316146.348...\n",
       "9     POLYGON ((2311551.527 1850289.429, 2311549.450...\n",
       "10    POLYGON ((2311549.450 1850102.311, 2311547.531...\n",
       "11    POLYGON ((2325470.763 1851983.735, 2325466.340...\n",
       "12    POLYGON ((2302547.546 1849021.482, 2302852.534...\n",
       "13    POLYGON ((2305515.878 1849966.681, 2305515.742...\n",
       "14    POLYGON ((2305515.742 1849958.535, 2305508.631...\n",
       "15    POLYGON ((2305481.539 1848079.670, 2305481.418...\n",
       "16    POLYGON ((2305463.039 1846869.327, 2305417.880...\n",
       "17    POLYGON ((2303559.752 1848124.237, 2303496.153...\n",
       "18    POLYGON ((2309114.762 1849884.194, 2309203.419...\n",
       "19    POLYGON ((2309114.762 1849884.194, 2309113.714...\n",
       "20    MULTIPOLYGON (((2308816.772 1849886.592, 23089...\n",
       "21    POLYGON ((2308993.718 1849760.235, 2308994.766...\n",
       "22    POLYGON ((2308679.958 1848349.926, 2308678.955...\n",
       "23    POLYGON ((2308639.875 1848348.206, 2308638.872...\n",
       "24    POLYGON ((2306217.253 1849495.695, 2306216.873...\n",
       "25    POLYGON ((2306355.912 1849416.093, 2306245.928...\n",
       "26    POLYGON ((2306355.912 1849416.093, 2306355.058...\n",
       "27    POLYGON ((2306354.155 1849313.329, 2306244.172...\n",
       "28    POLYGON ((2306541.122 1849622.633, 2306544.078...\n",
       "29    POLYGON ((2306951.172 1849614.413, 2306947.059...\n",
       "30    POLYGON ((2307129.193 1849395.837, 2307118.684...\n",
       "31    POLYGON ((2310619.909 1851963.590, 2310719.781...\n",
       "32    POLYGON ((2310603.675 1852114.787, 2310720.941...\n",
       "33    POLYGON ((2310688.369 1852414.801, 2310856.089...\n",
       "34    POLYGON ((2310603.841 1851954.837, 2310602.658...\n",
       "35    POLYGON ((2310861.974 1851593.193, 2310726.873...\n",
       "36    POLYGON ((2310863.423 1851751.886, 2310862.875...\n",
       "37    POLYGON ((2310461.849 1851948.320, 2310460.808...\n",
       "38    POLYGON ((2310457.238 1852673.255, 2310425.964...\n",
       "39    POLYGON ((2310422.891 1851991.647, 2310348.521...\n",
       "40    POLYGON ((2310862.768 1853496.659, 2310712.477...\n",
       "41    POLYGON ((2310528.390 1853571.000, 2310527.270...\n",
       "42    POLYGON ((2310714.839 1852134.730, 2310724.838...\n",
       "dtype: geometry"
      ]
     },
     "execution_count": 30,
     "metadata": {},
     "output_type": "execute_result"
    }
   ],
   "source": [
    "#exclude all lines that have None as a field\n",
    "parcel_info = parcel_info_all != None\n",
    "p_info = parcel_info_all.loc[parcel_info]\n",
    "p_info"
   ]
  },
  {
   "cell_type": "code",
   "execution_count": 31,
   "id": "3abb2cd1-e9f6-4106-8117-2e184f7ec76f",
   "metadata": {},
   "outputs": [
    {
     "data": {
      "text/plain": [
       "0                  \n",
       "1                  \n",
       "2       1810 LORIEN\n",
       "3        328 N MAIN\n",
       "4        340 N MAIN\n",
       "           ...     \n",
       "7389               \n",
       "7390               \n",
       "7391               \n",
       "7392               \n",
       "7393               \n",
       "Name: PM_PROP_AD, Length: 7394, dtype: object"
      ]
     },
     "execution_count": 31,
     "metadata": {},
     "output_type": "execute_result"
    }
   ],
   "source": [
    "#print the PM_PROP_AD column in the parcels dataframe\n",
    "address_col = parcels['PM_PROP_AD']\n",
    "address_col"
   ]
  },
  {
   "cell_type": "code",
   "execution_count": 32,
   "id": "dd8ea6ee-1e6d-4adf-beb7-9b1506e4db3c",
   "metadata": {},
   "outputs": [],
   "source": [
    "#Because the p_info only goes to line 42, the addresses that are 1000ft away from a park are through line 42\n",
    "address_out_1000ft = address_col[0:43]"
   ]
  },
  {
   "cell_type": "code",
   "execution_count": 33,
   "id": "9885b135-a52c-4524-a9e0-7621abeccc1b",
   "metadata": {},
   "outputs": [
    {
     "data": {
      "text/plain": [
       "0                          \n",
       "1                          \n",
       "2               1810 LORIEN\n",
       "3                328 N MAIN\n",
       "4                340 N MAIN\n",
       "5                 109 SHORT\n",
       "6                          \n",
       "7                1562 E 3RD\n",
       "8                1573 E 3RD\n",
       "9           227 N JEFFERSON\n",
       "10          203 N JEFFERSON\n",
       "11    4701 ROBINSON PARK RD\n",
       "12                         \n",
       "13                 120 FARM\n",
       "14        1516 W PULLMAN RD\n",
       "15                         \n",
       "16                         \n",
       "17                         \n",
       "18                  603 W A\n",
       "19                  613 W A\n",
       "20                  625 W A\n",
       "21                  617 W A\n",
       "22                         \n",
       "23                         \n",
       "24                115 SHORT\n",
       "25                114 SHORT\n",
       "26                108 SHORT\n",
       "27        1244 W PULLMAN RD\n",
       "28        1212 W PULLMAN RD\n",
       "29        1104 W PULLMAN RD\n",
       "30        1104 W PULLMAN RD\n",
       "31             116 W MORTON\n",
       "32               623 N MAIN\n",
       "33               707 N MAIN\n",
       "34             214 W MORTON\n",
       "35               521 N MAIN\n",
       "36               533 N MAIN\n",
       "37             220 W MORTON\n",
       "38              810 N ALMON\n",
       "39              720 N ALMON\n",
       "40               815 N MAIN\n",
       "41                         \n",
       "42                   N MAIN\n",
       "Name: PM_PROP_AD, dtype: object"
      ]
     },
     "execution_count": 33,
     "metadata": {},
     "output_type": "execute_result"
    }
   ],
   "source": [
    "address_out_1000ft"
   ]
  },
  {
   "cell_type": "code",
   "execution_count": 35,
   "id": "437bd7b6-b9a5-4efb-9b61-fbbcdcbdea96",
   "metadata": {},
   "outputs": [],
   "source": [
    "import pandas as pd #changing list to dataframe\n",
    "df_addresses = pd.DataFrame(address_out_1000ft)"
   ]
  },
  {
   "cell_type": "code",
   "execution_count": 36,
   "id": "3bfd2df2-1b69-4ab9-af7f-27e01c81dc4b",
   "metadata": {},
   "outputs": [
    {
     "data": {
      "text/plain": [
       "pandas.core.frame.DataFrame"
      ]
     },
     "execution_count": 36,
     "metadata": {},
     "output_type": "execute_result"
    }
   ],
   "source": [
    "type(df_addresses)"
   ]
  },
  {
   "cell_type": "code",
   "execution_count": 37,
   "id": "bcec049c-5f9a-4bbf-9c34-627a085adb3a",
   "metadata": {},
   "outputs": [],
   "source": [
    "df_addresses.to_csv('address_out_1000ft.csv') #changing dataframe to csv file"
   ]
  },
  {
   "cell_type": "code",
   "execution_count": 37,
   "id": "741094e3-9049-45eb-9ed6-74154734ec58",
   "metadata": {},
   "outputs": [
    {
     "data": {
      "text/html": [
       "<div>\n",
       "<style scoped>\n",
       "    .dataframe tbody tr th:only-of-type {\n",
       "        vertical-align: middle;\n",
       "    }\n",
       "\n",
       "    .dataframe tbody tr th {\n",
       "        vertical-align: top;\n",
       "    }\n",
       "\n",
       "    .dataframe thead th {\n",
       "        text-align: right;\n",
       "    }\n",
       "</style>\n",
       "<table border=\"1\" class=\"dataframe\">\n",
       "  <thead>\n",
       "    <tr style=\"text-align: right;\">\n",
       "      <th></th>\n",
       "      <th>PM_PROP_AD</th>\n",
       "    </tr>\n",
       "  </thead>\n",
       "  <tbody>\n",
       "    <tr>\n",
       "      <th>0</th>\n",
       "      <td></td>\n",
       "    </tr>\n",
       "    <tr>\n",
       "      <th>1</th>\n",
       "      <td></td>\n",
       "    </tr>\n",
       "    <tr>\n",
       "      <th>2</th>\n",
       "      <td>1810 LORIEN</td>\n",
       "    </tr>\n",
       "    <tr>\n",
       "      <th>3</th>\n",
       "      <td>328 N MAIN</td>\n",
       "    </tr>\n",
       "    <tr>\n",
       "      <th>4</th>\n",
       "      <td>340 N MAIN</td>\n",
       "    </tr>\n",
       "    <tr>\n",
       "      <th>5</th>\n",
       "      <td>109 SHORT</td>\n",
       "    </tr>\n",
       "    <tr>\n",
       "      <th>6</th>\n",
       "      <td></td>\n",
       "    </tr>\n",
       "    <tr>\n",
       "      <th>7</th>\n",
       "      <td>1562 E 3RD</td>\n",
       "    </tr>\n",
       "    <tr>\n",
       "      <th>8</th>\n",
       "      <td>1573 E 3RD</td>\n",
       "    </tr>\n",
       "    <tr>\n",
       "      <th>9</th>\n",
       "      <td>227 N JEFFERSON</td>\n",
       "    </tr>\n",
       "    <tr>\n",
       "      <th>10</th>\n",
       "      <td>203 N JEFFERSON</td>\n",
       "    </tr>\n",
       "    <tr>\n",
       "      <th>11</th>\n",
       "      <td>4701 ROBINSON PARK RD</td>\n",
       "    </tr>\n",
       "    <tr>\n",
       "      <th>12</th>\n",
       "      <td></td>\n",
       "    </tr>\n",
       "    <tr>\n",
       "      <th>13</th>\n",
       "      <td>120 FARM</td>\n",
       "    </tr>\n",
       "    <tr>\n",
       "      <th>14</th>\n",
       "      <td>1516 W PULLMAN RD</td>\n",
       "    </tr>\n",
       "    <tr>\n",
       "      <th>15</th>\n",
       "      <td></td>\n",
       "    </tr>\n",
       "    <tr>\n",
       "      <th>16</th>\n",
       "      <td></td>\n",
       "    </tr>\n",
       "    <tr>\n",
       "      <th>17</th>\n",
       "      <td></td>\n",
       "    </tr>\n",
       "    <tr>\n",
       "      <th>18</th>\n",
       "      <td>603 W A</td>\n",
       "    </tr>\n",
       "    <tr>\n",
       "      <th>19</th>\n",
       "      <td>613 W A</td>\n",
       "    </tr>\n",
       "    <tr>\n",
       "      <th>20</th>\n",
       "      <td>625 W A</td>\n",
       "    </tr>\n",
       "    <tr>\n",
       "      <th>21</th>\n",
       "      <td>617 W A</td>\n",
       "    </tr>\n",
       "    <tr>\n",
       "      <th>22</th>\n",
       "      <td></td>\n",
       "    </tr>\n",
       "    <tr>\n",
       "      <th>23</th>\n",
       "      <td></td>\n",
       "    </tr>\n",
       "    <tr>\n",
       "      <th>24</th>\n",
       "      <td>115 SHORT</td>\n",
       "    </tr>\n",
       "    <tr>\n",
       "      <th>25</th>\n",
       "      <td>114 SHORT</td>\n",
       "    </tr>\n",
       "    <tr>\n",
       "      <th>26</th>\n",
       "      <td>108 SHORT</td>\n",
       "    </tr>\n",
       "    <tr>\n",
       "      <th>27</th>\n",
       "      <td>1244 W PULLMAN RD</td>\n",
       "    </tr>\n",
       "    <tr>\n",
       "      <th>28</th>\n",
       "      <td>1212 W PULLMAN RD</td>\n",
       "    </tr>\n",
       "    <tr>\n",
       "      <th>29</th>\n",
       "      <td>1104 W PULLMAN RD</td>\n",
       "    </tr>\n",
       "    <tr>\n",
       "      <th>30</th>\n",
       "      <td>1104 W PULLMAN RD</td>\n",
       "    </tr>\n",
       "    <tr>\n",
       "      <th>31</th>\n",
       "      <td>116 W MORTON</td>\n",
       "    </tr>\n",
       "    <tr>\n",
       "      <th>32</th>\n",
       "      <td>623 N MAIN</td>\n",
       "    </tr>\n",
       "    <tr>\n",
       "      <th>33</th>\n",
       "      <td>707 N MAIN</td>\n",
       "    </tr>\n",
       "    <tr>\n",
       "      <th>34</th>\n",
       "      <td>214 W MORTON</td>\n",
       "    </tr>\n",
       "    <tr>\n",
       "      <th>35</th>\n",
       "      <td>521 N MAIN</td>\n",
       "    </tr>\n",
       "    <tr>\n",
       "      <th>36</th>\n",
       "      <td>533 N MAIN</td>\n",
       "    </tr>\n",
       "    <tr>\n",
       "      <th>37</th>\n",
       "      <td>220 W MORTON</td>\n",
       "    </tr>\n",
       "    <tr>\n",
       "      <th>38</th>\n",
       "      <td>810 N ALMON</td>\n",
       "    </tr>\n",
       "    <tr>\n",
       "      <th>39</th>\n",
       "      <td>720 N ALMON</td>\n",
       "    </tr>\n",
       "    <tr>\n",
       "      <th>40</th>\n",
       "      <td>815 N MAIN</td>\n",
       "    </tr>\n",
       "    <tr>\n",
       "      <th>41</th>\n",
       "      <td></td>\n",
       "    </tr>\n",
       "    <tr>\n",
       "      <th>42</th>\n",
       "      <td>N MAIN</td>\n",
       "    </tr>\n",
       "  </tbody>\n",
       "</table>\n",
       "</div>"
      ],
      "text/plain": [
       "               PM_PROP_AD\n",
       "0                        \n",
       "1                        \n",
       "2             1810 LORIEN\n",
       "3              328 N MAIN\n",
       "4              340 N MAIN\n",
       "5               109 SHORT\n",
       "6                        \n",
       "7              1562 E 3RD\n",
       "8              1573 E 3RD\n",
       "9         227 N JEFFERSON\n",
       "10        203 N JEFFERSON\n",
       "11  4701 ROBINSON PARK RD\n",
       "12                       \n",
       "13               120 FARM\n",
       "14      1516 W PULLMAN RD\n",
       "15                       \n",
       "16                       \n",
       "17                       \n",
       "18                603 W A\n",
       "19                613 W A\n",
       "20                625 W A\n",
       "21                617 W A\n",
       "22                       \n",
       "23                       \n",
       "24              115 SHORT\n",
       "25              114 SHORT\n",
       "26              108 SHORT\n",
       "27      1244 W PULLMAN RD\n",
       "28      1212 W PULLMAN RD\n",
       "29      1104 W PULLMAN RD\n",
       "30      1104 W PULLMAN RD\n",
       "31           116 W MORTON\n",
       "32             623 N MAIN\n",
       "33             707 N MAIN\n",
       "34           214 W MORTON\n",
       "35             521 N MAIN\n",
       "36             533 N MAIN\n",
       "37           220 W MORTON\n",
       "38            810 N ALMON\n",
       "39            720 N ALMON\n",
       "40             815 N MAIN\n",
       "41                       \n",
       "42                 N MAIN"
      ]
     },
     "execution_count": 37,
     "metadata": {},
     "output_type": "execute_result"
    }
   ],
   "source": [
    "df_addresses"
   ]
  },
  {
   "cell_type": "code",
   "execution_count": 38,
   "id": "9c42f27f-9758-4b5c-b175-72a34081b0b5",
   "metadata": {},
   "outputs": [],
   "source": [
    "address_out_1000ft.to_csv('addresses_csv')"
   ]
  },
  {
   "cell_type": "code",
   "execution_count": null,
   "id": "43fd1ab6-6699-47d7-aedc-c87b114d8ef9",
   "metadata": {},
   "outputs": [],
   "source": []
  },
  {
   "cell_type": "code",
   "execution_count": 38,
   "id": "84e478e0-bb7e-422c-ba4a-96c43c3cc5aa",
   "metadata": {
    "tags": []
   },
   "outputs": [
    {
     "data": {
      "text/html": [
       "<div>\n",
       "<style scoped>\n",
       "    .dataframe tbody tr th:only-of-type {\n",
       "        vertical-align: middle;\n",
       "    }\n",
       "\n",
       "    .dataframe tbody tr th {\n",
       "        vertical-align: top;\n",
       "    }\n",
       "\n",
       "    .dataframe thead th {\n",
       "        text-align: right;\n",
       "    }\n",
       "</style>\n",
       "<table border=\"1\" class=\"dataframe\">\n",
       "  <thead>\n",
       "    <tr style=\"text-align: right;\">\n",
       "      <th></th>\n",
       "      <th>CENTERLINEID</th>\n",
       "      <th>FROMLEFT</th>\n",
       "      <th>TOLEFT</th>\n",
       "      <th>FROMRIGHT</th>\n",
       "      <th>TORIGHT</th>\n",
       "      <th>FULLNAME</th>\n",
       "      <th>FEDROUTE</th>\n",
       "      <th>FEDRTETYPE</th>\n",
       "      <th>AFEDRTE</th>\n",
       "      <th>AFEDRTETYPE</th>\n",
       "      <th>...</th>\n",
       "      <th>SLOPE</th>\n",
       "      <th>OCI2017</th>\n",
       "      <th>OCI2014</th>\n",
       "      <th>GlobalID</th>\n",
       "      <th>FACILITYID</th>\n",
       "      <th>OCI2019</th>\n",
       "      <th>OCI2020</th>\n",
       "      <th>ADTID</th>\n",
       "      <th>SHAPE_Length</th>\n",
       "      <th>geometry</th>\n",
       "    </tr>\n",
       "  </thead>\n",
       "  <tbody>\n",
       "    <tr>\n",
       "      <th>0</th>\n",
       "      <td>02600</td>\n",
       "      <td>0.0</td>\n",
       "      <td>0.0</td>\n",
       "      <td>0.0</td>\n",
       "      <td>0.0</td>\n",
       "      <td>MAIN ST</td>\n",
       "      <td>None</td>\n",
       "      <td>Other</td>\n",
       "      <td>None</td>\n",
       "      <td>None</td>\n",
       "      <td>...</td>\n",
       "      <td>NaN</td>\n",
       "      <td>58.92</td>\n",
       "      <td>71.66</td>\n",
       "      <td>{E10997BF-346F-493B-9078-ABF3BA07D894}</td>\n",
       "      <td>STREET-02600</td>\n",
       "      <td>96.08</td>\n",
       "      <td>96.08</td>\n",
       "      <td>F19-05</td>\n",
       "      <td>87.664841</td>\n",
       "      <td>MULTILINESTRING ((2310851.729 1847250.622, 231...</td>\n",
       "    </tr>\n",
       "    <tr>\n",
       "      <th>1</th>\n",
       "      <td>01430</td>\n",
       "      <td>0.0</td>\n",
       "      <td>0.0</td>\n",
       "      <td>0.0</td>\n",
       "      <td>0.0</td>\n",
       "      <td>FIRST ST</td>\n",
       "      <td>None</td>\n",
       "      <td>Other</td>\n",
       "      <td>None</td>\n",
       "      <td>None</td>\n",
       "      <td>...</td>\n",
       "      <td>NaN</td>\n",
       "      <td>90.93</td>\n",
       "      <td>98.96</td>\n",
       "      <td>{F2D06156-E244-4542-A0A7-9F47285F09AF}</td>\n",
       "      <td>STREET-01430</td>\n",
       "      <td>86.04</td>\n",
       "      <td>86.04</td>\n",
       "      <td>G16-05</td>\n",
       "      <td>349.983212</td>\n",
       "      <td>MULTILINESTRING ((2310883.550 1849572.726, 231...</td>\n",
       "    </tr>\n",
       "    <tr>\n",
       "      <th>2</th>\n",
       "      <td>02670</td>\n",
       "      <td>102.0</td>\n",
       "      <td>114.0</td>\n",
       "      <td>105.0</td>\n",
       "      <td>205.0</td>\n",
       "      <td>MAIN ST</td>\n",
       "      <td>None</td>\n",
       "      <td>Other</td>\n",
       "      <td>None</td>\n",
       "      <td>None</td>\n",
       "      <td>...</td>\n",
       "      <td>NaN</td>\n",
       "      <td>71.70</td>\n",
       "      <td>100.00</td>\n",
       "      <td>{BF94EEC2-9DBF-42FD-8BA0-31C170DEC8CB}</td>\n",
       "      <td>STREET-02670</td>\n",
       "      <td>80.02</td>\n",
       "      <td>80.02</td>\n",
       "      <td>F17-12</td>\n",
       "      <td>230.721479</td>\n",
       "      <td>MULTILINESTRING ((2310883.464 1849564.375, 231...</td>\n",
       "    </tr>\n",
       "    <tr>\n",
       "      <th>3</th>\n",
       "      <td>02660</td>\n",
       "      <td>204.0</td>\n",
       "      <td>218.0</td>\n",
       "      <td>205.0</td>\n",
       "      <td>221.0</td>\n",
       "      <td>MAIN ST</td>\n",
       "      <td>None</td>\n",
       "      <td>Other</td>\n",
       "      <td>None</td>\n",
       "      <td>None</td>\n",
       "      <td>...</td>\n",
       "      <td>NaN</td>\n",
       "      <td>71.70</td>\n",
       "      <td>100.00</td>\n",
       "      <td>{E4ADA45C-08D8-4C70-B30F-46E1097647A3}</td>\n",
       "      <td>STREET-02660</td>\n",
       "      <td>80.02</td>\n",
       "      <td>80.02</td>\n",
       "      <td>F17-06</td>\n",
       "      <td>239.999980</td>\n",
       "      <td>MULTILINESTRING ((2310880.869 1849333.668, 231...</td>\n",
       "    </tr>\n",
       "    <tr>\n",
       "      <th>4</th>\n",
       "      <td>02650</td>\n",
       "      <td>302.0</td>\n",
       "      <td>318.0</td>\n",
       "      <td>301.0</td>\n",
       "      <td>307.0</td>\n",
       "      <td>MAIN ST</td>\n",
       "      <td>None</td>\n",
       "      <td>Other</td>\n",
       "      <td>None</td>\n",
       "      <td>None</td>\n",
       "      <td>...</td>\n",
       "      <td>NaN</td>\n",
       "      <td>91.97</td>\n",
       "      <td>100.00</td>\n",
       "      <td>{D3CE1840-EC8C-4124-AAEF-4A67AB2B5415}</td>\n",
       "      <td>STREET-02650</td>\n",
       "      <td>95.17</td>\n",
       "      <td>95.17</td>\n",
       "      <td>F17-07</td>\n",
       "      <td>240.667684</td>\n",
       "      <td>MULTILINESTRING ((2310878.196 1849093.683, 231...</td>\n",
       "    </tr>\n",
       "    <tr>\n",
       "      <th>...</th>\n",
       "      <td>...</td>\n",
       "      <td>...</td>\n",
       "      <td>...</td>\n",
       "      <td>...</td>\n",
       "      <td>...</td>\n",
       "      <td>...</td>\n",
       "      <td>...</td>\n",
       "      <td>...</td>\n",
       "      <td>...</td>\n",
       "      <td>...</td>\n",
       "      <td>...</td>\n",
       "      <td>...</td>\n",
       "      <td>...</td>\n",
       "      <td>...</td>\n",
       "      <td>...</td>\n",
       "      <td>...</td>\n",
       "      <td>...</td>\n",
       "      <td>...</td>\n",
       "      <td>...</td>\n",
       "      <td>...</td>\n",
       "      <td>...</td>\n",
       "    </tr>\n",
       "    <tr>\n",
       "      <th>2213</th>\n",
       "      <td>00301</td>\n",
       "      <td>1600.0</td>\n",
       "      <td>1756.0</td>\n",
       "      <td>1601.0</td>\n",
       "      <td>1751.0</td>\n",
       "      <td>THIRD ST</td>\n",
       "      <td>None</td>\n",
       "      <td>Other</td>\n",
       "      <td>None</td>\n",
       "      <td>None</td>\n",
       "      <td>...</td>\n",
       "      <td>5.0</td>\n",
       "      <td>NaN</td>\n",
       "      <td>NaN</td>\n",
       "      <td>{CE44A217-E6DA-4168-A8A9-C28AD394A399}</td>\n",
       "      <td>STREET-00301</td>\n",
       "      <td>NaN</td>\n",
       "      <td>NaN</td>\n",
       "      <td>None</td>\n",
       "      <td>756.596825</td>\n",
       "      <td>MULTILINESTRING ((2316177.219 1849043.781, 231...</td>\n",
       "    </tr>\n",
       "    <tr>\n",
       "      <th>2214</th>\n",
       "      <td>13760</td>\n",
       "      <td>NaN</td>\n",
       "      <td>NaN</td>\n",
       "      <td>NaN</td>\n",
       "      <td>NaN</td>\n",
       "      <td>SOUTHVIEW AVE</td>\n",
       "      <td>None</td>\n",
       "      <td>None</td>\n",
       "      <td>None</td>\n",
       "      <td>None</td>\n",
       "      <td>...</td>\n",
       "      <td>10.0</td>\n",
       "      <td>NaN</td>\n",
       "      <td>NaN</td>\n",
       "      <td>{588D3E9B-7CBE-48D5-94BF-0DB57D0E0442}</td>\n",
       "      <td>STREET-13760</td>\n",
       "      <td>NaN</td>\n",
       "      <td>NaN</td>\n",
       "      <td>None</td>\n",
       "      <td>706.800143</td>\n",
       "      <td>MULTILINESTRING ((2312049.540 1843770.847, 231...</td>\n",
       "    </tr>\n",
       "    <tr>\n",
       "      <th>2215</th>\n",
       "      <td>13765</td>\n",
       "      <td>NaN</td>\n",
       "      <td>NaN</td>\n",
       "      <td>NaN</td>\n",
       "      <td>NaN</td>\n",
       "      <td>SUNNY CT</td>\n",
       "      <td>None</td>\n",
       "      <td>None</td>\n",
       "      <td>None</td>\n",
       "      <td>None</td>\n",
       "      <td>...</td>\n",
       "      <td>7.0</td>\n",
       "      <td>NaN</td>\n",
       "      <td>NaN</td>\n",
       "      <td>{2F896E18-E40F-4BD6-81D2-5DDD91482100}</td>\n",
       "      <td>STREET-13765</td>\n",
       "      <td>NaN</td>\n",
       "      <td>NaN</td>\n",
       "      <td>None</td>\n",
       "      <td>173.316937</td>\n",
       "      <td>MULTILINESTRING ((2312699.813 1843557.137, 231...</td>\n",
       "    </tr>\n",
       "    <tr>\n",
       "      <th>2216</th>\n",
       "      <td>13770</td>\n",
       "      <td>NaN</td>\n",
       "      <td>NaN</td>\n",
       "      <td>NaN</td>\n",
       "      <td>NaN</td>\n",
       "      <td>SOUTHVIEW AVE</td>\n",
       "      <td>None</td>\n",
       "      <td>None</td>\n",
       "      <td>None</td>\n",
       "      <td>None</td>\n",
       "      <td>...</td>\n",
       "      <td>10.0</td>\n",
       "      <td>NaN</td>\n",
       "      <td>NaN</td>\n",
       "      <td>{4BAB6FC8-B24E-49A0-B852-9AF25FD43BF2}</td>\n",
       "      <td>STREET-13770</td>\n",
       "      <td>NaN</td>\n",
       "      <td>NaN</td>\n",
       "      <td>None</td>\n",
       "      <td>221.456644</td>\n",
       "      <td>MULTILINESTRING ((2312699.813 1843557.137, 231...</td>\n",
       "    </tr>\n",
       "    <tr>\n",
       "      <th>2217</th>\n",
       "      <td>14125</td>\n",
       "      <td>NaN</td>\n",
       "      <td>NaN</td>\n",
       "      <td>NaN</td>\n",
       "      <td>NaN</td>\n",
       "      <td>ALICE ST</td>\n",
       "      <td>None</td>\n",
       "      <td>None</td>\n",
       "      <td>None</td>\n",
       "      <td>None</td>\n",
       "      <td>...</td>\n",
       "      <td>12.0</td>\n",
       "      <td>NaN</td>\n",
       "      <td>NaN</td>\n",
       "      <td>{737681F6-3046-4A97-B0DE-D5B3D23470DD}</td>\n",
       "      <td>STREET-14125</td>\n",
       "      <td>NaN</td>\n",
       "      <td>NaN</td>\n",
       "      <td>None</td>\n",
       "      <td>150.310493</td>\n",
       "      <td>MULTILINESTRING ((2312914.864 1843646.154, 231...</td>\n",
       "    </tr>\n",
       "  </tbody>\n",
       "</table>\n",
       "<p>2218 rows × 65 columns</p>\n",
       "</div>"
      ],
      "text/plain": [
       "     CENTERLINEID  FROMLEFT  TOLEFT  FROMRIGHT  TORIGHT       FULLNAME  \\\n",
       "0           02600       0.0     0.0        0.0      0.0        MAIN ST   \n",
       "1           01430       0.0     0.0        0.0      0.0       FIRST ST   \n",
       "2           02670     102.0   114.0      105.0    205.0        MAIN ST   \n",
       "3           02660     204.0   218.0      205.0    221.0        MAIN ST   \n",
       "4           02650     302.0   318.0      301.0    307.0        MAIN ST   \n",
       "...           ...       ...     ...        ...      ...            ...   \n",
       "2213        00301    1600.0  1756.0     1601.0   1751.0       THIRD ST   \n",
       "2214        13760       NaN     NaN        NaN      NaN  SOUTHVIEW AVE   \n",
       "2215        13765       NaN     NaN        NaN      NaN       SUNNY CT   \n",
       "2216        13770       NaN     NaN        NaN      NaN  SOUTHVIEW AVE   \n",
       "2217        14125       NaN     NaN        NaN      NaN       ALICE ST   \n",
       "\n",
       "     FEDROUTE FEDRTETYPE AFEDRTE AFEDRTETYPE  ... SLOPE OCI2017 OCI2014  \\\n",
       "0        None      Other    None        None  ...   NaN   58.92   71.66   \n",
       "1        None      Other    None        None  ...   NaN   90.93   98.96   \n",
       "2        None      Other    None        None  ...   NaN   71.70  100.00   \n",
       "3        None      Other    None        None  ...   NaN   71.70  100.00   \n",
       "4        None      Other    None        None  ...   NaN   91.97  100.00   \n",
       "...       ...        ...     ...         ...  ...   ...     ...     ...   \n",
       "2213     None      Other    None        None  ...   5.0     NaN     NaN   \n",
       "2214     None       None    None        None  ...  10.0     NaN     NaN   \n",
       "2215     None       None    None        None  ...   7.0     NaN     NaN   \n",
       "2216     None       None    None        None  ...  10.0     NaN     NaN   \n",
       "2217     None       None    None        None  ...  12.0     NaN     NaN   \n",
       "\n",
       "                                    GlobalID    FACILITYID OCI2019 OCI2020  \\\n",
       "0     {E10997BF-346F-493B-9078-ABF3BA07D894}  STREET-02600   96.08   96.08   \n",
       "1     {F2D06156-E244-4542-A0A7-9F47285F09AF}  STREET-01430   86.04   86.04   \n",
       "2     {BF94EEC2-9DBF-42FD-8BA0-31C170DEC8CB}  STREET-02670   80.02   80.02   \n",
       "3     {E4ADA45C-08D8-4C70-B30F-46E1097647A3}  STREET-02660   80.02   80.02   \n",
       "4     {D3CE1840-EC8C-4124-AAEF-4A67AB2B5415}  STREET-02650   95.17   95.17   \n",
       "...                                      ...           ...     ...     ...   \n",
       "2213  {CE44A217-E6DA-4168-A8A9-C28AD394A399}  STREET-00301     NaN     NaN   \n",
       "2214  {588D3E9B-7CBE-48D5-94BF-0DB57D0E0442}  STREET-13760     NaN     NaN   \n",
       "2215  {2F896E18-E40F-4BD6-81D2-5DDD91482100}  STREET-13765     NaN     NaN   \n",
       "2216  {4BAB6FC8-B24E-49A0-B852-9AF25FD43BF2}  STREET-13770     NaN     NaN   \n",
       "2217  {737681F6-3046-4A97-B0DE-D5B3D23470DD}  STREET-14125     NaN     NaN   \n",
       "\n",
       "       ADTID  SHAPE_Length                                           geometry  \n",
       "0     F19-05     87.664841  MULTILINESTRING ((2310851.729 1847250.622, 231...  \n",
       "1     G16-05    349.983212  MULTILINESTRING ((2310883.550 1849572.726, 231...  \n",
       "2     F17-12    230.721479  MULTILINESTRING ((2310883.464 1849564.375, 231...  \n",
       "3     F17-06    239.999980  MULTILINESTRING ((2310880.869 1849333.668, 231...  \n",
       "4     F17-07    240.667684  MULTILINESTRING ((2310878.196 1849093.683, 231...  \n",
       "...      ...           ...                                                ...  \n",
       "2213    None    756.596825  MULTILINESTRING ((2316177.219 1849043.781, 231...  \n",
       "2214    None    706.800143  MULTILINESTRING ((2312049.540 1843770.847, 231...  \n",
       "2215    None    173.316937  MULTILINESTRING ((2312699.813 1843557.137, 231...  \n",
       "2216    None    221.456644  MULTILINESTRING ((2312699.813 1843557.137, 231...  \n",
       "2217    None    150.310493  MULTILINESTRING ((2312914.864 1843646.154, 231...  \n",
       "\n",
       "[2218 rows x 65 columns]"
      ]
     },
     "execution_count": 38,
     "metadata": {},
     "output_type": "execute_result"
    }
   ],
   "source": [
    "roads"
   ]
  },
  {
   "cell_type": "code",
   "execution_count": 39,
   "id": "c868f1c6-c4d1-4f22-a07d-60e522dc9382",
   "metadata": {},
   "outputs": [
    {
     "data": {
      "text/plain": [
       "Index(['LANDUSECODE', 'LANDUSEDESC', 'BASEELEV', 'HEIGHT', 'LASTUPDATE',\n",
       "       'LASTEDITOR', 'SUBTYPECODE', 'SUBTYPEDESC', 'PARCELID', 'ADDRESS',\n",
       "       'LOCDESC', 'GlobalID', 'SHAPE_Length', 'SHAPE_Area', 'geometry'],\n",
       "      dtype='object')"
      ]
     },
     "execution_count": 39,
     "metadata": {},
     "output_type": "execute_result"
    }
   ],
   "source": [
    "zoning.columns"
   ]
  },
  {
   "cell_type": "code",
   "execution_count": 40,
   "id": "c5573dbc-9750-43d9-b738-2ea45d442b0c",
   "metadata": {},
   "outputs": [
    {
     "data": {
      "text/plain": [
       "array(['Auto-Urban Residential', 'University',\n",
       "       'Parks, Recreation, and Open Space',\n",
       "       'Auto-Urban Residential, Medium Density', 'Urban Commercial',\n",
       "       'Urban Residential, Medium Density', 'Urban Residential',\n",
       "       'Suburban Residential', 'Public and Semi-Public',\n",
       "       'Auto-Urban Commercial', 'Vacant', 'Auto-Urban Industrial',\n",
       "       'Agricultural', 'Research/Technology Park', '',\n",
       "       'Suburban Commercial'], dtype=object)"
      ]
     },
     "execution_count": 40,
     "metadata": {},
     "output_type": "execute_result"
    }
   ],
   "source": [
    "zoning['LANDUSEDESC'].unique()"
   ]
  },
  {
   "cell_type": "code",
   "execution_count": 41,
   "id": "39000fc1-bc15-42ff-8140-c7dca15d0304",
   "metadata": {},
   "outputs": [
    {
     "data": {
      "text/plain": [
       "array(['111', '750', '800', '109', '250', '115', '110', '120', '700',\n",
       "       '200', '11', '400', '900', '999', '0', '150', None], dtype=object)"
      ]
     },
     "execution_count": 41,
     "metadata": {},
     "output_type": "execute_result"
    }
   ],
   "source": [
    "zoning['LANDUSECODE'].unique()"
   ]
  },
  {
   "cell_type": "code",
   "execution_count": 42,
   "id": "b3bbe430-5a94-453e-a5a4-6421b573dbde",
   "metadata": {},
   "outputs": [],
   "source": [
    "# We can measure the distance between any parcel and a point near the center of downtown Moscow\n",
    "from shapely.geometry import Point\n",
    "parcels['Dwntn_dist'] = parcels.distance(Point(2.311e6, 1.849e6))"
   ]
  },
  {
   "cell_type": "markdown",
   "id": "888862c3-cee8-4bc4-9b87-8a2c7850d04a",
   "metadata": {
    "tags": []
   },
   "source": [
    "#### Visualizing the data\n",
    "I think each of the plots below is interesting.  Try commenting and uncommenting each one"
   ]
  },
  {
   "cell_type": "code",
   "execution_count": 52,
   "id": "b7607691-1387-4e20-930d-cfa47e3992dd",
   "metadata": {
    "tags": []
   },
   "outputs": [
    {
     "data": {
      "application/vnd.jupyter.widget-view+json": {
       "model_id": "c524b6ce638c4143b6620c3cc90621f8",
       "version_major": 2,
       "version_minor": 0
      },
      "text/plain": [
       "Canvas(toolbar=Toolbar(toolitems=[('Home', 'Reset original view', 'home', 'home'), ('Back', 'Back to previous …"
      ]
     },
     "metadata": {},
     "output_type": "display_data"
    },
    {
     "data": {
      "text/plain": [
       "<AxesSubplot:>"
      ]
     },
     "execution_count": 52,
     "metadata": {},
     "output_type": "execute_result"
    }
   ],
   "source": [
    "%matplotlib widget\n",
    "fig, ax = plt.subplots( figsize=(8,8) )\n",
    "\n",
    "# These are a few of the interesting plots to look at.\n",
    "#parcels.plot(column='Dwntn_dist', ax=ax, legend=True, vmax=5280);\n",
    "zoning.plot(column='LANDUSEDESC', ax=ax, legend=True, cmap='tab20')\n",
    "#parcels.plot(column= 'SaleYear', ax=ax, legend=True, vmin=1990)\n",
    "\n",
    "ax.set_xlim( city_limits.bounds.to_numpy()[0][::2] )\n",
    "ax.set_ylim( city_limits.bounds.to_numpy()[0][1::2] )\n",
    "\n",
    "roads.plot(ax=ax, color='gray')\n"
   ]
  },
  {
   "cell_type": "code",
   "execution_count": null,
   "id": "503a63fb-7da7-4a39-a953-aa34356c78eb",
   "metadata": {},
   "outputs": [],
   "source": []
  },
  {
   "cell_type": "markdown",
   "id": "9a0adbd0-ef1d-4d0d-bdfc-f43eefac496a",
   "metadata": {},
   "source": [
    "### Property sales over time\n",
    "Similar to the assignment from last week, we can look at the property sales as a function of time."
   ]
  },
  {
   "cell_type": "code",
   "execution_count": 46,
   "id": "f9122c77-a7eb-44b5-8842-4e9c6188e063",
   "metadata": {
    "tags": []
   },
   "outputs": [
    {
     "name": "stdout",
     "output_type": "stream",
     "text": [
      "0    20120925.0\n",
      "1    20120925.0\n",
      "2           0.0\n",
      "3    20190815.0\n",
      "Name: PM_DEEDCDT, dtype: object\n"
     ]
    }
   ],
   "source": [
    "import pandas as pd\n",
    "print( parcels['PM_DEEDCDT'].astype(str)[:4] )\n",
    "\n",
    "parcels['SaleDate'] = pd.to_datetime(\n",
    "    parcels['PM_DEEDCDT'], \n",
    "    errors='coerce', \n",
    "    format='%Y%m%d')\n"
   ]
  },
  {
   "cell_type": "code",
   "execution_count": 47,
   "id": "a9aa8268-4752-4ed8-bbdc-3fa9da2ae504",
   "metadata": {
    "tags": []
   },
   "outputs": [
    {
     "data": {
      "text/plain": [
       "0      2012-09-25\n",
       "1      2012-09-25\n",
       "2             NaT\n",
       "3      2019-08-15\n",
       "4      2019-08-15\n",
       "          ...    \n",
       "7389          NaT\n",
       "7390          NaT\n",
       "7391          NaT\n",
       "7392          NaT\n",
       "7393          NaT\n",
       "Name: SaleDate, Length: 7394, dtype: datetime64[ns]"
      ]
     },
     "execution_count": 47,
     "metadata": {},
     "output_type": "execute_result"
    }
   ],
   "source": [
    "parcels['SaleDate']"
   ]
  },
  {
   "cell_type": "code",
   "execution_count": 49,
   "id": "596b9caa-d2ba-4e79-9c36-ab5bb1d8ee5e",
   "metadata": {
    "tags": []
   },
   "outputs": [
    {
     "data": {
      "text/plain": [
       "array([2012., 2012.,   nan, ...,   nan,   nan,   nan])"
      ]
     },
     "execution_count": 49,
     "metadata": {},
     "output_type": "execute_result"
    }
   ],
   "source": [
    "dates = parcels['PM_DEEDCDT'].to_numpy() # Pull out all the sale dates (initially floats)\n",
    "yr = np.full( dates.shape, np.nan ) # initialize a variable full of nans\n",
    "\n",
    "for i in range(len(dates)): \n",
    "    if dates[i] > 0:\n",
    "        yr[i] = int( str(dates[i])[:4] )\n",
    "    else:\n",
    "        yr[i] = np.nan\n",
    "\n",
    "parcels['SaleYear'] = yr # Create a new column for the parcels data frame representing sale year\n",
    "yr"
   ]
  },
  {
   "cell_type": "code",
   "execution_count": 50,
   "id": "0b191054-8968-468b-95fc-818168d3dd24",
   "metadata": {},
   "outputs": [
    {
     "data": {
      "application/vnd.jupyter.widget-view+json": {
       "model_id": "1a2fad20bb664b8ea46b3f8e12cb25bb",
       "version_major": 2,
       "version_minor": 0
      },
      "text/plain": [
       "Canvas(toolbar=Toolbar(toolitems=[('Home', 'Reset original view', 'home', 'home'), ('Back', 'Back to previous …"
      ]
     },
     "metadata": {},
     "output_type": "display_data"
    }
   ],
   "source": [
    "bin_size = np.timedelta64(365, 'D')/12 # days\n",
    "fig, ax = plt.subplots()\n",
    "ax.hist(parcels['SaleDate'], bins=np.arange(np.datetime64('1990-01-01'), \n",
    "                                            np.datetime64('2022-01-01'), \n",
    "                                            bin_size ) )\n",
    "ylabel_text = 'Number of property sales in Moscow\\nper ' + str(bin_size.astype(int)) + ' days'\n",
    "ax.set_ylabel(ylabel_text)\n",
    "ax.set_xlim(np.datetime64('2000-01-01'), np.datetime64('2022-01-01') );\n",
    "#ax.set_xlim(np.datetime64('2010-12-15'), np.datetime64('2011-01-01') )\n",
    "\n",
    "# Note that the sales at the end of 2010 are anomalous, and are all recorded on the same day.\n",
    "# That's suspicious and Tim thinks that it must be some change in accounting or record keeping."
   ]
  },
  {
   "cell_type": "code",
   "execution_count": null,
   "id": "2879d473-3042-4ade-84d4-710316070305",
   "metadata": {},
   "outputs": [],
   "source": []
  },
  {
   "cell_type": "markdown",
   "id": "38c893b8-ffb6-4e1d-8086-58550738aae1",
   "metadata": {},
   "source": [
    "<div class=\"alert alert-block alert-warning\">\n",
    "\n",
    "## 3. Investing in downtown property\n",
    "You are the GIS consultant for a property investment company that specializes in\n",
    "downtown and higher-density properties.  Your company is considering Moscow real estate.\n",
    "You've heard about the boom in sales within the city, and your company would like to know how competitive\n",
    "property purchasing will be, or if they will be able to drive a hard bargin.\n",
    "\n",
    "Has the downtown property market heated up as much as within the city as a whole?\n",
    "Compare sale rates within two of the zoned downtown regions with those of the city as a whole.\n",
    "    \n",
    "Is there anything else in these data that you would like to share with your colleagues\n",
    "    that could help advise them as you consider this investment?\n",
    "</div>"
   ]
  },
  {
   "cell_type": "code",
   "execution_count": 127,
   "id": "897118f5-125a-48ff-b879-db093dbec33c",
   "metadata": {},
   "outputs": [],
   "source": [
    "mergeDf = parcels.merge(zoning, left_index = True, right_index = True) #mergind parcels and zoning dataframes"
   ]
  },
  {
   "cell_type": "code",
   "execution_count": 133,
   "id": "a3389d57-1bbc-4694-8faa-99a6900e75a5",
   "metadata": {},
   "outputs": [],
   "source": [
    "urban_residential = mergeDf['LANDUSEDESC'] == 'Urban Residential' #pulling out urban residential areas\n",
    "urban_res = mergeDf.loc[urban_residential]\n",
    "#urban_res"
   ]
  },
  {
   "cell_type": "code",
   "execution_count": 135,
   "id": "e1895a75-ed4c-4027-aa0d-6c0cc43e2375",
   "metadata": {},
   "outputs": [],
   "source": [
    "auto_urban_residential = mergeDf['LANDUSEDESC'] == 'Auto-Urban Residential' #pulling out auto-urban residentail areas\n",
    "auto_urban_res = mergeDf.loc[auto_urban_residential]\n",
    "#auto_urban_res"
   ]
  },
  {
   "cell_type": "code",
   "execution_count": 333,
   "id": "758b4885-d40f-468c-8070-6f43a931562e",
   "metadata": {},
   "outputs": [
    {
     "data": {
      "application/vnd.jupyter.widget-view+json": {
       "model_id": "eb8b9bff934844afafb07dd6445750df",
       "version_major": 2,
       "version_minor": 0
      },
      "text/plain": [
       "Canvas(toolbar=Toolbar(toolitems=[('Home', 'Reset original view', 'home', 'home'), ('Back', 'Back to previous …"
      ]
     },
     "metadata": {},
     "output_type": "display_data"
    },
    {
     "data": {
      "text/plain": [
       "Text(0.5, 1.0, 'Urban Residential Property Sales in Moscow per year')"
      ]
     },
     "execution_count": 333,
     "metadata": {},
     "output_type": "execute_result"
    }
   ],
   "source": [
    "#histogram plot of urban residential sales each year\n",
    "fig, ax = plt.subplots() \n",
    "ax.hist(urban_res ['SaleYear'], bins = 60)\n",
    "\n",
    "ylabel = ('Number of Property Sales')\n",
    "ax.set_ylabel(ylabel)\n",
    "ax.set_xlabel('Year')\n",
    "ax.set_title('Urban Residential Property Sales in Moscow per year')\n"
   ]
  },
  {
   "cell_type": "code",
   "execution_count": 145,
   "id": "fdbb6295-d649-4d3d-a797-44d81ed7a772",
   "metadata": {},
   "outputs": [],
   "source": [
    "plt.close() #closing each figure before running code again due to RunTime warning more than 20 figures have been opened"
   ]
  },
  {
   "cell_type": "code",
   "execution_count": 336,
   "id": "29fd762d-1489-4a88-bd3f-c9454b9a7346",
   "metadata": {},
   "outputs": [
    {
     "data": {
      "application/vnd.jupyter.widget-view+json": {
       "model_id": "877c701f9afc49d18192ea47c778d938",
       "version_major": 2,
       "version_minor": 0
      },
      "text/plain": [
       "Canvas(toolbar=Toolbar(toolitems=[('Home', 'Reset original view', 'home', 'home'), ('Back', 'Back to previous …"
      ]
     },
     "metadata": {},
     "output_type": "display_data"
    },
    {
     "data": {
      "text/plain": [
       "Text(0.5, 1.0, 'Number of Auto Residential Property Sales in Moscow each year')"
      ]
     },
     "execution_count": 336,
     "metadata": {},
     "output_type": "execute_result"
    }
   ],
   "source": [
    "#histogram plot of Auto-urban residential sales each year\n",
    "fig, ax = plt.subplots()\n",
    "ax.hist(auto_urban_res ['SaleYear'], bins = 60)\n",
    "\n",
    "ylabel = ('Number of Property Sales in Moscow')\n",
    "ax.set_ylabel(ylabel)\n",
    "ax.set_xlabel('Year')\n",
    "ax.set_title('Number of Auto Residential Property Sales in Moscow each year')"
   ]
  },
  {
   "cell_type": "code",
   "execution_count": 335,
   "id": "adc12329-c4c0-4f16-a503-eaab8d9ec274",
   "metadata": {},
   "outputs": [
    {
     "data": {
      "application/vnd.jupyter.widget-view+json": {
       "model_id": "8ec02575293b4cf38190f74e4accedea",
       "version_major": 2,
       "version_minor": 0
      },
      "text/plain": [
       "Canvas(toolbar=Toolbar(toolitems=[('Home', 'Reset original view', 'home', 'home'), ('Back', 'Back to previous …"
      ]
     },
     "metadata": {},
     "output_type": "display_data"
    },
    {
     "data": {
      "text/plain": [
       "Text(0.5, 1.0, 'Total Number of Property Sales in Moscow each year')"
      ]
     },
     "execution_count": 335,
     "metadata": {},
     "output_type": "execute_result"
    }
   ],
   "source": [
    "##histogram plot of total property sales each year\n",
    "fig, ax = plt.subplots()\n",
    "ax.hist(mergeDf ['SaleYear'], bins = 60)\n",
    "\n",
    "ylabel = ('Number of Property Sales')\n",
    "ax.set_ylabel(ylabel)\n",
    "ax.set_xlabel('Year')\n",
    "ax.set_title('Total Number of Property Sales in Moscow each year')"
   ]
  },
  {
   "cell_type": "markdown",
   "id": "b24bdac5-c99c-41cb-ba35-230c9ae22293",
   "metadata": {},
   "source": [
    "Property sales in Moscow peaked in 2020, and seems to have decreased since then. Urban property sales have decrease to a little above 10 sales this year. Auto-urban property sales have a bit over 150 sales this year. Total property sales have dereased to a bit less than 400 sales this year. \n",
    "\n",
    "It could be difficult/expensive to buy property because many people sold property last year and are likely to not sell again.  "
   ]
  },
  {
   "cell_type": "code",
   "execution_count": null,
   "id": "bb7cc5dd-a26a-4479-9884-297721a13e56",
   "metadata": {},
   "outputs": [],
   "source": []
  },
  {
   "cell_type": "code",
   "execution_count": 338,
   "id": "1f5b164a-1ae5-4cd8-9c14-ba3b7f6230c9",
   "metadata": {},
   "outputs": [
    {
     "data": {
      "application/vnd.jupyter.widget-view+json": {
       "model_id": "85fbebbc45354abfa8c8803162c12786",
       "version_major": 2,
       "version_minor": 0
      },
      "text/plain": [
       "Canvas(toolbar=Toolbar(toolitems=[('Home', 'Reset original view', 'home', 'home'), ('Back', 'Back to previous …"
      ]
     },
     "metadata": {},
     "output_type": "display_data"
    },
    {
     "data": {
      "text/plain": [
       "(array([1.000e+00, 1.000e+00, 0.000e+00, 1.000e+00, 5.000e+00, 6.800e+01,\n",
       "        1.410e+02, 3.430e+02, 1.123e+03, 2.018e+03]),\n",
       " array([1906. , 1917.5, 1929. , 1940.5, 1952. , 1963.5, 1975. , 1986.5,\n",
       "        1998. , 2009.5, 2021. ]),\n",
       " <BarContainer object of 10 artists>)"
      ]
     },
     "execution_count": 338,
     "metadata": {},
     "output_type": "execute_result"
    }
   ],
   "source": [
    "#trying to plot all three histogram plots as subplots\n",
    "\n",
    "plt.subplots(3, 1) #plt.subplots(number of rows, number of col, index) #no graph shows when this line reads: plt.subplots(3, 1 ,1)\n",
    "plt.hist(urban_res ['SaleYear'])\n",
    "\n",
    "plt.subplot(3, 1, 2) \n",
    "plt.hist(auto_urban_res ['SaleYear'])\n",
    "\n",
    "plt.subplot(3, 1, 3 )\n",
    "plt.hist(mergeDf ['SaleYear'])\n"
   ]
  },
  {
   "cell_type": "code",
   "execution_count": 323,
   "id": "7bc215b5-ae07-4221-82f1-55d41eddab44",
   "metadata": {},
   "outputs": [],
   "source": [
    "plt.close()"
   ]
  },
  {
   "cell_type": "code",
   "execution_count": 292,
   "id": "e372bbee-0ea5-4fd1-a71d-312401354d60",
   "metadata": {},
   "outputs": [
    {
     "name": "stderr",
     "output_type": "stream",
     "text": [
      "C:\\Users\\12087\\AppData\\Local\\Temp/ipykernel_19936/2301461603.py:12: MatplotlibDeprecationWarning: Passing the sharex parameter of subplots() positionally is deprecated since Matplotlib 3.3; the parameter will become keyword-only two minor releases later.\n",
      "  plt.subplots(3, 1, 2)\n"
     ]
    },
    {
     "data": {
      "application/vnd.jupyter.widget-view+json": {
       "model_id": "6c2555598ecd46ddac48a72251c5fda8",
       "version_major": 2,
       "version_minor": 0
      },
      "text/plain": [
       "Canvas(toolbar=Toolbar(toolitems=[('Home', 'Reset original view', 'home', 'home'), ('Back', 'Back to previous …"
      ]
     },
     "metadata": {},
     "output_type": "display_data"
    },
    {
     "name": "stderr",
     "output_type": "stream",
     "text": [
      "C:\\Users\\12087\\AppData\\Local\\Temp/ipykernel_19936/2301461603.py:12: UserWarning: sharex argument to subplots() was an integer.  Did you intend to use subplot() (without 's')?\n",
      "  plt.subplots(3, 1, 2)\n"
     ]
    },
    {
     "ename": "ValueError",
     "evalue": "2 is not a valid value for sharex; supported values are 'all', 'row', 'col', 'none'",
     "output_type": "error",
     "traceback": [
      "\u001b[1;31m---------------------------------------------------------------------------\u001b[0m",
      "\u001b[1;31mValueError\u001b[0m                                Traceback (most recent call last)",
      "\u001b[1;32m~\\AppData\\Local\\Temp/ipykernel_19936/2301461603.py\u001b[0m in \u001b[0;36m<module>\u001b[1;34m\u001b[0m\n\u001b[0;32m     10\u001b[0m \u001b[0mplt\u001b[0m\u001b[1;33m.\u001b[0m\u001b[0mylabel\u001b[0m\u001b[1;33m(\u001b[0m\u001b[1;34m'ylabel'\u001b[0m\u001b[1;33m)\u001b[0m\u001b[1;33m\u001b[0m\u001b[1;33m\u001b[0m\u001b[0m\n\u001b[0;32m     11\u001b[0m \u001b[1;33m\u001b[0m\u001b[0m\n\u001b[1;32m---> 12\u001b[1;33m \u001b[0mplt\u001b[0m\u001b[1;33m.\u001b[0m\u001b[0msubplots\u001b[0m\u001b[1;33m(\u001b[0m\u001b[1;36m3\u001b[0m\u001b[1;33m,\u001b[0m \u001b[1;36m1\u001b[0m\u001b[1;33m,\u001b[0m \u001b[1;36m2\u001b[0m\u001b[1;33m)\u001b[0m\u001b[1;33m\u001b[0m\u001b[1;33m\u001b[0m\u001b[0m\n\u001b[0m\u001b[0;32m     13\u001b[0m \u001b[0max\u001b[0m\u001b[1;33m.\u001b[0m\u001b[0mhist\u001b[0m\u001b[1;33m(\u001b[0m\u001b[0mauto_urban_res\u001b[0m \u001b[1;33m[\u001b[0m\u001b[1;34m'SaleYear'\u001b[0m\u001b[1;33m]\u001b[0m\u001b[1;33m)\u001b[0m\u001b[1;33m\u001b[0m\u001b[1;33m\u001b[0m\u001b[0m\n\u001b[0;32m     14\u001b[0m \u001b[0mplt\u001b[0m\u001b[1;33m.\u001b[0m\u001b[0mtitle\u001b[0m\u001b[1;33m(\u001b[0m\u001b[1;34m'title'\u001b[0m\u001b[1;33m)\u001b[0m\u001b[1;33m\u001b[0m\u001b[1;33m\u001b[0m\u001b[0m\n",
      "\u001b[1;32m~\\Documents\\Anaconda\\envs\\GISenv21b\\lib\\site-packages\\matplotlib\\_api\\deprecation.py\u001b[0m in \u001b[0;36mwrapper\u001b[1;34m(*args, **kwargs)\u001b[0m\n\u001b[0;32m    469\u001b[0m                 \u001b[1;34m\"parameter will become keyword-only %(removal)s.\"\u001b[0m\u001b[1;33m,\u001b[0m\u001b[1;33m\u001b[0m\u001b[1;33m\u001b[0m\u001b[0m\n\u001b[0;32m    470\u001b[0m                 name=name, obj_type=f\"parameter of {func.__name__}()\")\n\u001b[1;32m--> 471\u001b[1;33m         \u001b[1;32mreturn\u001b[0m \u001b[0mfunc\u001b[0m\u001b[1;33m(\u001b[0m\u001b[1;33m*\u001b[0m\u001b[0margs\u001b[0m\u001b[1;33m,\u001b[0m \u001b[1;33m**\u001b[0m\u001b[0mkwargs\u001b[0m\u001b[1;33m)\u001b[0m\u001b[1;33m\u001b[0m\u001b[1;33m\u001b[0m\u001b[0m\n\u001b[0m\u001b[0;32m    472\u001b[0m \u001b[1;33m\u001b[0m\u001b[0m\n\u001b[0;32m    473\u001b[0m     \u001b[1;32mreturn\u001b[0m \u001b[0mwrapper\u001b[0m\u001b[1;33m\u001b[0m\u001b[1;33m\u001b[0m\u001b[0m\n",
      "\u001b[1;32m~\\Documents\\Anaconda\\envs\\GISenv21b\\lib\\site-packages\\matplotlib\\pyplot.py\u001b[0m in \u001b[0;36msubplots\u001b[1;34m(nrows, ncols, sharex, sharey, squeeze, subplot_kw, gridspec_kw, **fig_kw)\u001b[0m\n\u001b[0;32m   1438\u001b[0m     \"\"\"\n\u001b[0;32m   1439\u001b[0m     \u001b[0mfig\u001b[0m \u001b[1;33m=\u001b[0m \u001b[0mfigure\u001b[0m\u001b[1;33m(\u001b[0m\u001b[1;33m**\u001b[0m\u001b[0mfig_kw\u001b[0m\u001b[1;33m)\u001b[0m\u001b[1;33m\u001b[0m\u001b[1;33m\u001b[0m\u001b[0m\n\u001b[1;32m-> 1440\u001b[1;33m     axs = fig.subplots(nrows=nrows, ncols=ncols, sharex=sharex, sharey=sharey,\n\u001b[0m\u001b[0;32m   1441\u001b[0m                        \u001b[0msqueeze\u001b[0m\u001b[1;33m=\u001b[0m\u001b[0msqueeze\u001b[0m\u001b[1;33m,\u001b[0m \u001b[0msubplot_kw\u001b[0m\u001b[1;33m=\u001b[0m\u001b[0msubplot_kw\u001b[0m\u001b[1;33m,\u001b[0m\u001b[1;33m\u001b[0m\u001b[1;33m\u001b[0m\u001b[0m\n\u001b[0;32m   1442\u001b[0m                        gridspec_kw=gridspec_kw)\n",
      "\u001b[1;32m~\\Documents\\Anaconda\\envs\\GISenv21b\\lib\\site-packages\\matplotlib\\_api\\deprecation.py\u001b[0m in \u001b[0;36mwrapper\u001b[1;34m(*args, **kwargs)\u001b[0m\n\u001b[0;32m    469\u001b[0m                 \u001b[1;34m\"parameter will become keyword-only %(removal)s.\"\u001b[0m\u001b[1;33m,\u001b[0m\u001b[1;33m\u001b[0m\u001b[1;33m\u001b[0m\u001b[0m\n\u001b[0;32m    470\u001b[0m                 name=name, obj_type=f\"parameter of {func.__name__}()\")\n\u001b[1;32m--> 471\u001b[1;33m         \u001b[1;32mreturn\u001b[0m \u001b[0mfunc\u001b[0m\u001b[1;33m(\u001b[0m\u001b[1;33m*\u001b[0m\u001b[0margs\u001b[0m\u001b[1;33m,\u001b[0m \u001b[1;33m**\u001b[0m\u001b[0mkwargs\u001b[0m\u001b[1;33m)\u001b[0m\u001b[1;33m\u001b[0m\u001b[1;33m\u001b[0m\u001b[0m\n\u001b[0m\u001b[0;32m    472\u001b[0m \u001b[1;33m\u001b[0m\u001b[0m\n\u001b[0;32m    473\u001b[0m     \u001b[1;32mreturn\u001b[0m \u001b[0mwrapper\u001b[0m\u001b[1;33m\u001b[0m\u001b[1;33m\u001b[0m\u001b[0m\n",
      "\u001b[1;32m~\\Documents\\Anaconda\\envs\\GISenv21b\\lib\\site-packages\\matplotlib\\figure.py\u001b[0m in \u001b[0;36msubplots\u001b[1;34m(self, nrows, ncols, sharex, sharey, squeeze, subplot_kw, gridspec_kw)\u001b[0m\n\u001b[0;32m    909\u001b[0m             \u001b[0mgridspec_kw\u001b[0m \u001b[1;33m=\u001b[0m \u001b[1;33m{\u001b[0m\u001b[1;33m}\u001b[0m\u001b[1;33m\u001b[0m\u001b[1;33m\u001b[0m\u001b[0m\n\u001b[0;32m    910\u001b[0m         \u001b[0mgs\u001b[0m \u001b[1;33m=\u001b[0m \u001b[0mself\u001b[0m\u001b[1;33m.\u001b[0m\u001b[0madd_gridspec\u001b[0m\u001b[1;33m(\u001b[0m\u001b[0mnrows\u001b[0m\u001b[1;33m,\u001b[0m \u001b[0mncols\u001b[0m\u001b[1;33m,\u001b[0m \u001b[0mfigure\u001b[0m\u001b[1;33m=\u001b[0m\u001b[0mself\u001b[0m\u001b[1;33m,\u001b[0m \u001b[1;33m**\u001b[0m\u001b[0mgridspec_kw\u001b[0m\u001b[1;33m)\u001b[0m\u001b[1;33m\u001b[0m\u001b[1;33m\u001b[0m\u001b[0m\n\u001b[1;32m--> 911\u001b[1;33m         axs = gs.subplots(sharex=sharex, sharey=sharey, squeeze=squeeze,\n\u001b[0m\u001b[0;32m    912\u001b[0m                           subplot_kw=subplot_kw)\n\u001b[0;32m    913\u001b[0m         \u001b[1;32mreturn\u001b[0m \u001b[0maxs\u001b[0m\u001b[1;33m\u001b[0m\u001b[1;33m\u001b[0m\u001b[0m\n",
      "\u001b[1;32m~\\Documents\\Anaconda\\envs\\GISenv21b\\lib\\site-packages\\matplotlib\\gridspec.py\u001b[0m in \u001b[0;36msubplots\u001b[1;34m(self, sharex, sharey, squeeze, subplot_kw)\u001b[0m\n\u001b[0;32m    290\u001b[0m                 \u001b[1;34m\"sharex argument to subplots() was an integer.  Did you \"\u001b[0m\u001b[1;33m\u001b[0m\u001b[1;33m\u001b[0m\u001b[0m\n\u001b[0;32m    291\u001b[0m                 \"intend to use subplot() (without 's')?\")\n\u001b[1;32m--> 292\u001b[1;33m         _api.check_in_list([\"all\", \"row\", \"col\", \"none\"],\n\u001b[0m\u001b[0;32m    293\u001b[0m                            sharex=sharex, sharey=sharey)\n\u001b[0;32m    294\u001b[0m         \u001b[1;32mif\u001b[0m \u001b[0msubplot_kw\u001b[0m \u001b[1;32mis\u001b[0m \u001b[1;32mNone\u001b[0m\u001b[1;33m:\u001b[0m\u001b[1;33m\u001b[0m\u001b[1;33m\u001b[0m\u001b[0m\n",
      "\u001b[1;32m~\\Documents\\Anaconda\\envs\\GISenv21b\\lib\\site-packages\\matplotlib\\_api\\__init__.py\u001b[0m in \u001b[0;36mcheck_in_list\u001b[1;34m(_values, _print_supported_values, **kwargs)\u001b[0m\n\u001b[0;32m    124\u001b[0m         \u001b[1;32mif\u001b[0m \u001b[0mval\u001b[0m \u001b[1;32mnot\u001b[0m \u001b[1;32min\u001b[0m \u001b[0mvalues\u001b[0m\u001b[1;33m:\u001b[0m\u001b[1;33m\u001b[0m\u001b[1;33m\u001b[0m\u001b[0m\n\u001b[0;32m    125\u001b[0m             \u001b[1;32mif\u001b[0m \u001b[0m_print_supported_values\u001b[0m\u001b[1;33m:\u001b[0m\u001b[1;33m\u001b[0m\u001b[1;33m\u001b[0m\u001b[0m\n\u001b[1;32m--> 126\u001b[1;33m                 raise ValueError(\n\u001b[0m\u001b[0;32m    127\u001b[0m                     \u001b[1;34mf\"{val!r} is not a valid value for {key}; \"\u001b[0m\u001b[1;33m\u001b[0m\u001b[1;33m\u001b[0m\u001b[0m\n\u001b[0;32m    128\u001b[0m                     f\"supported values are {', '.join(map(repr, values))}\")\n",
      "\u001b[1;31mValueError\u001b[0m: 2 is not a valid value for sharex; supported values are 'all', 'row', 'col', 'none'"
     ]
    }
   ],
   "source": [
    "#followed syntax from: https://nickmccullum.com/python-visualization/subplots/\n",
    "import matplotlib.pyplot as plt\n",
    "import numpy as np\n",
    "\n",
    "\n",
    "plt.subplot(3, 1, 1)\n",
    "plt.plot() \n",
    "ax.hist(urban_res ['SaleYear'])\n",
    "plt.title('title')\n",
    "plt.xlabel('xlabel')\n",
    "plt.ylabel('ylabel')\n",
    "\n",
    "plt.subplots(3, 1, 2)\n",
    "ax.hist(auto_urban_res ['SaleYear'])\n",
    "plt.title('title')\n",
    "\n",
    "\n",
    "plt.subplots(3, 1, 3)\n",
    "ax.hist(mergeDf ['SaleYear'])\n",
    "plt.title('title')\n",
    "\n"
   ]
  },
  {
   "cell_type": "code",
   "execution_count": 294,
   "id": "e39c8101-104e-4c3b-9841-3cf920a0bba3",
   "metadata": {},
   "outputs": [
    {
     "name": "stderr",
     "output_type": "stream",
     "text": [
      "C:\\Users\\12087\\AppData\\Local\\Temp/ipykernel_19936/534169372.py:1: MatplotlibDeprecationWarning: Passing the sharex parameter of subplots() positionally is deprecated since Matplotlib 3.3; the parameter will become keyword-only two minor releases later.\n",
      "  f, (ax1, ax2, ax3) = plt.subplots(1, 2, 3, sharey=True)\n"
     ]
    },
    {
     "data": {
      "application/vnd.jupyter.widget-view+json": {
       "model_id": "67b3f0626a7c42e59f14da56a00a7157",
       "version_major": 2,
       "version_minor": 0
      },
      "text/plain": [
       "Canvas(toolbar=Toolbar(toolitems=[('Home', 'Reset original view', 'home', 'home'), ('Back', 'Back to previous …"
      ]
     },
     "metadata": {},
     "output_type": "display_data"
    },
    {
     "name": "stderr",
     "output_type": "stream",
     "text": [
      "C:\\Users\\12087\\AppData\\Local\\Temp/ipykernel_19936/534169372.py:1: UserWarning: sharex argument to subplots() was an integer.  Did you intend to use subplot() (without 's')?\n",
      "  f, (ax1, ax2, ax3) = plt.subplots(1, 2, 3, sharey=True)\n"
     ]
    },
    {
     "ename": "ValueError",
     "evalue": "3 is not a valid value for sharex; supported values are 'all', 'row', 'col', 'none'",
     "output_type": "error",
     "traceback": [
      "\u001b[1;31m---------------------------------------------------------------------------\u001b[0m",
      "\u001b[1;31mValueError\u001b[0m                                Traceback (most recent call last)",
      "\u001b[1;32m~\\AppData\\Local\\Temp/ipykernel_19936/534169372.py\u001b[0m in \u001b[0;36m<module>\u001b[1;34m\u001b[0m\n\u001b[1;32m----> 1\u001b[1;33m \u001b[0mf\u001b[0m\u001b[1;33m,\u001b[0m \u001b[1;33m(\u001b[0m\u001b[0max1\u001b[0m\u001b[1;33m,\u001b[0m \u001b[0max2\u001b[0m\u001b[1;33m,\u001b[0m \u001b[0max3\u001b[0m\u001b[1;33m)\u001b[0m \u001b[1;33m=\u001b[0m \u001b[0mplt\u001b[0m\u001b[1;33m.\u001b[0m\u001b[0msubplots\u001b[0m\u001b[1;33m(\u001b[0m\u001b[1;36m1\u001b[0m\u001b[1;33m,\u001b[0m \u001b[1;36m2\u001b[0m\u001b[1;33m,\u001b[0m \u001b[1;36m3\u001b[0m\u001b[1;33m,\u001b[0m \u001b[0msharey\u001b[0m\u001b[1;33m=\u001b[0m\u001b[1;32mTrue\u001b[0m\u001b[1;33m)\u001b[0m\u001b[1;33m\u001b[0m\u001b[1;33m\u001b[0m\u001b[0m\n\u001b[0m\u001b[0;32m      2\u001b[0m \u001b[0max1\u001b[0m\u001b[1;33m.\u001b[0m\u001b[0mhist\u001b[0m\u001b[1;33m(\u001b[0m\u001b[0murban_res\u001b[0m \u001b[1;33m[\u001b[0m\u001b[1;34m'SaleYear'\u001b[0m\u001b[1;33m]\u001b[0m\u001b[1;33m)\u001b[0m\u001b[1;33m\u001b[0m\u001b[1;33m\u001b[0m\u001b[0m\n\u001b[0;32m      3\u001b[0m \u001b[0max1\u001b[0m\u001b[1;33m.\u001b[0m\u001b[0mset_title\u001b[0m\u001b[1;33m(\u001b[0m\u001b[1;34m'title'\u001b[0m\u001b[1;33m)\u001b[0m\u001b[1;33m\u001b[0m\u001b[1;33m\u001b[0m\u001b[0m\n\u001b[0;32m      4\u001b[0m \u001b[1;33m\u001b[0m\u001b[0m\n\u001b[0;32m      5\u001b[0m \u001b[0max2\u001b[0m\u001b[1;33m.\u001b[0m\u001b[0mhist\u001b[0m\u001b[1;33m(\u001b[0m\u001b[0mauto_urban_res\u001b[0m \u001b[1;33m[\u001b[0m\u001b[1;34m'SaleYear'\u001b[0m\u001b[1;33m]\u001b[0m\u001b[1;33m)\u001b[0m\u001b[1;33m\u001b[0m\u001b[1;33m\u001b[0m\u001b[0m\n",
      "\u001b[1;32m~\\Documents\\Anaconda\\envs\\GISenv21b\\lib\\site-packages\\matplotlib\\_api\\deprecation.py\u001b[0m in \u001b[0;36mwrapper\u001b[1;34m(*args, **kwargs)\u001b[0m\n\u001b[0;32m    469\u001b[0m                 \u001b[1;34m\"parameter will become keyword-only %(removal)s.\"\u001b[0m\u001b[1;33m,\u001b[0m\u001b[1;33m\u001b[0m\u001b[1;33m\u001b[0m\u001b[0m\n\u001b[0;32m    470\u001b[0m                 name=name, obj_type=f\"parameter of {func.__name__}()\")\n\u001b[1;32m--> 471\u001b[1;33m         \u001b[1;32mreturn\u001b[0m \u001b[0mfunc\u001b[0m\u001b[1;33m(\u001b[0m\u001b[1;33m*\u001b[0m\u001b[0margs\u001b[0m\u001b[1;33m,\u001b[0m \u001b[1;33m**\u001b[0m\u001b[0mkwargs\u001b[0m\u001b[1;33m)\u001b[0m\u001b[1;33m\u001b[0m\u001b[1;33m\u001b[0m\u001b[0m\n\u001b[0m\u001b[0;32m    472\u001b[0m \u001b[1;33m\u001b[0m\u001b[0m\n\u001b[0;32m    473\u001b[0m     \u001b[1;32mreturn\u001b[0m \u001b[0mwrapper\u001b[0m\u001b[1;33m\u001b[0m\u001b[1;33m\u001b[0m\u001b[0m\n",
      "\u001b[1;32m~\\Documents\\Anaconda\\envs\\GISenv21b\\lib\\site-packages\\matplotlib\\pyplot.py\u001b[0m in \u001b[0;36msubplots\u001b[1;34m(nrows, ncols, sharex, sharey, squeeze, subplot_kw, gridspec_kw, **fig_kw)\u001b[0m\n\u001b[0;32m   1438\u001b[0m     \"\"\"\n\u001b[0;32m   1439\u001b[0m     \u001b[0mfig\u001b[0m \u001b[1;33m=\u001b[0m \u001b[0mfigure\u001b[0m\u001b[1;33m(\u001b[0m\u001b[1;33m**\u001b[0m\u001b[0mfig_kw\u001b[0m\u001b[1;33m)\u001b[0m\u001b[1;33m\u001b[0m\u001b[1;33m\u001b[0m\u001b[0m\n\u001b[1;32m-> 1440\u001b[1;33m     axs = fig.subplots(nrows=nrows, ncols=ncols, sharex=sharex, sharey=sharey,\n\u001b[0m\u001b[0;32m   1441\u001b[0m                        \u001b[0msqueeze\u001b[0m\u001b[1;33m=\u001b[0m\u001b[0msqueeze\u001b[0m\u001b[1;33m,\u001b[0m \u001b[0msubplot_kw\u001b[0m\u001b[1;33m=\u001b[0m\u001b[0msubplot_kw\u001b[0m\u001b[1;33m,\u001b[0m\u001b[1;33m\u001b[0m\u001b[1;33m\u001b[0m\u001b[0m\n\u001b[0;32m   1442\u001b[0m                        gridspec_kw=gridspec_kw)\n",
      "\u001b[1;32m~\\Documents\\Anaconda\\envs\\GISenv21b\\lib\\site-packages\\matplotlib\\_api\\deprecation.py\u001b[0m in \u001b[0;36mwrapper\u001b[1;34m(*args, **kwargs)\u001b[0m\n\u001b[0;32m    469\u001b[0m                 \u001b[1;34m\"parameter will become keyword-only %(removal)s.\"\u001b[0m\u001b[1;33m,\u001b[0m\u001b[1;33m\u001b[0m\u001b[1;33m\u001b[0m\u001b[0m\n\u001b[0;32m    470\u001b[0m                 name=name, obj_type=f\"parameter of {func.__name__}()\")\n\u001b[1;32m--> 471\u001b[1;33m         \u001b[1;32mreturn\u001b[0m \u001b[0mfunc\u001b[0m\u001b[1;33m(\u001b[0m\u001b[1;33m*\u001b[0m\u001b[0margs\u001b[0m\u001b[1;33m,\u001b[0m \u001b[1;33m**\u001b[0m\u001b[0mkwargs\u001b[0m\u001b[1;33m)\u001b[0m\u001b[1;33m\u001b[0m\u001b[1;33m\u001b[0m\u001b[0m\n\u001b[0m\u001b[0;32m    472\u001b[0m \u001b[1;33m\u001b[0m\u001b[0m\n\u001b[0;32m    473\u001b[0m     \u001b[1;32mreturn\u001b[0m \u001b[0mwrapper\u001b[0m\u001b[1;33m\u001b[0m\u001b[1;33m\u001b[0m\u001b[0m\n",
      "\u001b[1;32m~\\Documents\\Anaconda\\envs\\GISenv21b\\lib\\site-packages\\matplotlib\\figure.py\u001b[0m in \u001b[0;36msubplots\u001b[1;34m(self, nrows, ncols, sharex, sharey, squeeze, subplot_kw, gridspec_kw)\u001b[0m\n\u001b[0;32m    909\u001b[0m             \u001b[0mgridspec_kw\u001b[0m \u001b[1;33m=\u001b[0m \u001b[1;33m{\u001b[0m\u001b[1;33m}\u001b[0m\u001b[1;33m\u001b[0m\u001b[1;33m\u001b[0m\u001b[0m\n\u001b[0;32m    910\u001b[0m         \u001b[0mgs\u001b[0m \u001b[1;33m=\u001b[0m \u001b[0mself\u001b[0m\u001b[1;33m.\u001b[0m\u001b[0madd_gridspec\u001b[0m\u001b[1;33m(\u001b[0m\u001b[0mnrows\u001b[0m\u001b[1;33m,\u001b[0m \u001b[0mncols\u001b[0m\u001b[1;33m,\u001b[0m \u001b[0mfigure\u001b[0m\u001b[1;33m=\u001b[0m\u001b[0mself\u001b[0m\u001b[1;33m,\u001b[0m \u001b[1;33m**\u001b[0m\u001b[0mgridspec_kw\u001b[0m\u001b[1;33m)\u001b[0m\u001b[1;33m\u001b[0m\u001b[1;33m\u001b[0m\u001b[0m\n\u001b[1;32m--> 911\u001b[1;33m         axs = gs.subplots(sharex=sharex, sharey=sharey, squeeze=squeeze,\n\u001b[0m\u001b[0;32m    912\u001b[0m                           subplot_kw=subplot_kw)\n\u001b[0;32m    913\u001b[0m         \u001b[1;32mreturn\u001b[0m \u001b[0maxs\u001b[0m\u001b[1;33m\u001b[0m\u001b[1;33m\u001b[0m\u001b[0m\n",
      "\u001b[1;32m~\\Documents\\Anaconda\\envs\\GISenv21b\\lib\\site-packages\\matplotlib\\gridspec.py\u001b[0m in \u001b[0;36msubplots\u001b[1;34m(self, sharex, sharey, squeeze, subplot_kw)\u001b[0m\n\u001b[0;32m    290\u001b[0m                 \u001b[1;34m\"sharex argument to subplots() was an integer.  Did you \"\u001b[0m\u001b[1;33m\u001b[0m\u001b[1;33m\u001b[0m\u001b[0m\n\u001b[0;32m    291\u001b[0m                 \"intend to use subplot() (without 's')?\")\n\u001b[1;32m--> 292\u001b[1;33m         _api.check_in_list([\"all\", \"row\", \"col\", \"none\"],\n\u001b[0m\u001b[0;32m    293\u001b[0m                            sharex=sharex, sharey=sharey)\n\u001b[0;32m    294\u001b[0m         \u001b[1;32mif\u001b[0m \u001b[0msubplot_kw\u001b[0m \u001b[1;32mis\u001b[0m \u001b[1;32mNone\u001b[0m\u001b[1;33m:\u001b[0m\u001b[1;33m\u001b[0m\u001b[1;33m\u001b[0m\u001b[0m\n",
      "\u001b[1;32m~\\Documents\\Anaconda\\envs\\GISenv21b\\lib\\site-packages\\matplotlib\\_api\\__init__.py\u001b[0m in \u001b[0;36mcheck_in_list\u001b[1;34m(_values, _print_supported_values, **kwargs)\u001b[0m\n\u001b[0;32m    124\u001b[0m         \u001b[1;32mif\u001b[0m \u001b[0mval\u001b[0m \u001b[1;32mnot\u001b[0m \u001b[1;32min\u001b[0m \u001b[0mvalues\u001b[0m\u001b[1;33m:\u001b[0m\u001b[1;33m\u001b[0m\u001b[1;33m\u001b[0m\u001b[0m\n\u001b[0;32m    125\u001b[0m             \u001b[1;32mif\u001b[0m \u001b[0m_print_supported_values\u001b[0m\u001b[1;33m:\u001b[0m\u001b[1;33m\u001b[0m\u001b[1;33m\u001b[0m\u001b[0m\n\u001b[1;32m--> 126\u001b[1;33m                 raise ValueError(\n\u001b[0m\u001b[0;32m    127\u001b[0m                     \u001b[1;34mf\"{val!r} is not a valid value for {key}; \"\u001b[0m\u001b[1;33m\u001b[0m\u001b[1;33m\u001b[0m\u001b[0m\n\u001b[0;32m    128\u001b[0m                     f\"supported values are {', '.join(map(repr, values))}\")\n",
      "\u001b[1;31mValueError\u001b[0m: 3 is not a valid value for sharex; supported values are 'all', 'row', 'col', 'none'"
     ]
    }
   ],
   "source": [
    "#followed syntax from: https://matplotlib.org/stable/api/_as_gen/matplotlib.pyplot.subplots.html\n",
    "f, (ax1, ax2, ax3) = plt.subplots(1, 2, 3, sharey=True)\n",
    "ax1.hist(urban_res ['SaleYear'])\n",
    "ax1.set_title('title')\n",
    "\n",
    "ax2.hist(auto_urban_res ['SaleYear'])\n",
    "\n",
    "ax3.ax.hist(mergeDf ['SaleYear'])"
   ]
  },
  {
   "cell_type": "code",
   "execution_count": null,
   "id": "ebd2d396-85b1-4c6c-a587-6c0083f7de4b",
   "metadata": {},
   "outputs": [],
   "source": []
  },
  {
   "cell_type": "markdown",
   "id": "ace97372-6cee-4ffd-9efa-8dd0a927a30d",
   "metadata": {},
   "source": [
    "<div class=\"alert alert-block alert-warning\">\n",
    "\n",
    "## 4. Find, plot, work with data of your own\n",
    "Find a spatial, vector dataset of your choosing (by googling, from another class, \n",
    "    or from a research project of yours). This could be climate data, geologic units,\n",
    "    census data, ecological units, demographic data, etc. Download or copy this dataset\n",
    "    into the current directory, plot it, and use geopandas to draw on the attributes \n",
    "    of that data (even just lengths, areas, etc) and tell me something about that data.\n",
    "</div>"
   ]
  },
  {
   "cell_type": "code",
   "execution_count": 95,
   "id": "9aa5b7c7-cb2a-4b03-9d06-5ad1087b4a7e",
   "metadata": {},
   "outputs": [
    {
     "name": "stdout",
     "output_type": "stream",
     "text": [
      "..\\..\\..\\datasets\\fire20_1\\fire20_1.gdb\n"
     ]
    }
   ],
   "source": [
    "fire_gdb_path = datasets_dir / 'fire20_1' / 'fire20_1.gdb' #writing pathway to file \n",
    "print(fire_gdb_path)"
   ]
  },
  {
   "cell_type": "code",
   "execution_count": 96,
   "id": "36308327-5753-4e9b-94a1-14c72fffb926",
   "metadata": {},
   "outputs": [
    {
     "data": {
      "text/plain": [
       "['firep20_1', 'rxburn20_1', 'Non_RXFire_Legacy13_2']"
      ]
     },
     "execution_count": 96,
     "metadata": {},
     "output_type": "execute_result"
    }
   ],
   "source": [
    "fire_gdb = str(fire_gdb_path)\n",
    "\n",
    "fiona.listlayers(fire_gdb)\n"
   ]
  },
  {
   "cell_type": "code",
   "execution_count": 97,
   "id": "847e31b2-776c-4ca1-8c7a-dfcbcaa2f2a4",
   "metadata": {},
   "outputs": [
    {
     "name": "stderr",
     "output_type": "stream",
     "text": [
      "C:\\Users\\12087\\Documents\\Anaconda\\envs\\GISenv21b\\lib\\site-packages\\geopandas\\geodataframe.py:577: RuntimeWarning: Sequential read of iterator was interrupted. Resetting iterator. This can negatively impact the performance.\n",
      "  for feature in features_lst:\n"
     ]
    }
   ],
   "source": [
    "fire = gpd.read_file(fire_gdb, layer = 'firep20_1') #reading in wildfire layer\n",
    "#during online research on this error I came to the conclusion that I can ignore it becuase it does not seeem to affect the data"
   ]
  },
  {
   "cell_type": "code",
   "execution_count": 98,
   "id": "fe370104-1f69-4a38-8365-e6e6d3abc3e2",
   "metadata": {},
   "outputs": [
    {
     "data": {
      "text/html": [
       "<div>\n",
       "<style scoped>\n",
       "    .dataframe tbody tr th:only-of-type {\n",
       "        vertical-align: middle;\n",
       "    }\n",
       "\n",
       "    .dataframe tbody tr th {\n",
       "        vertical-align: top;\n",
       "    }\n",
       "\n",
       "    .dataframe thead th {\n",
       "        text-align: right;\n",
       "    }\n",
       "</style>\n",
       "<table border=\"1\" class=\"dataframe\">\n",
       "  <thead>\n",
       "    <tr style=\"text-align: right;\">\n",
       "      <th></th>\n",
       "      <th>YEAR_</th>\n",
       "      <th>STATE</th>\n",
       "      <th>AGENCY</th>\n",
       "      <th>UNIT_ID</th>\n",
       "      <th>TREATMENT_ID</th>\n",
       "      <th>TREATMENT_NAME</th>\n",
       "      <th>TREATMENT_TYPE</th>\n",
       "      <th>START_DATE</th>\n",
       "      <th>END_DATE</th>\n",
       "      <th>TREATED_AC</th>\n",
       "      <th>GIS_ACRES</th>\n",
       "      <th>RX_CONSUM</th>\n",
       "      <th>PRE_CON_CLASS</th>\n",
       "      <th>POST_CON_CLASS</th>\n",
       "      <th>Shape_Length</th>\n",
       "      <th>Shape_Area</th>\n",
       "      <th>geometry</th>\n",
       "    </tr>\n",
       "  </thead>\n",
       "  <tbody>\n",
       "    <tr>\n",
       "      <th>0</th>\n",
       "      <td>2020</td>\n",
       "      <td>CA</td>\n",
       "      <td>CDF</td>\n",
       "      <td>AEU</td>\n",
       "      <td>10509</td>\n",
       "      <td>Jan 31 2020 Broadcast</td>\n",
       "      <td>3.0</td>\n",
       "      <td>2020-01-31T00:00:00+00:00</td>\n",
       "      <td>2020-01-31T00:00:00+00:00</td>\n",
       "      <td>15.0</td>\n",
       "      <td>15.047045</td>\n",
       "      <td>NaN</td>\n",
       "      <td>NaN</td>\n",
       "      <td>NaN</td>\n",
       "      <td>1365.887529</td>\n",
       "      <td>6.089322e+04</td>\n",
       "      <td>MULTIPOLYGON (((-45261.902 81865.442, -45248.3...</td>\n",
       "    </tr>\n",
       "    <tr>\n",
       "      <th>1</th>\n",
       "      <td>2020</td>\n",
       "      <td>CA</td>\n",
       "      <td>PVT</td>\n",
       "      <td>AEU</td>\n",
       "      <td>10572</td>\n",
       "      <td>2020 Fuels Reduction</td>\n",
       "      <td>3.0</td>\n",
       "      <td>2020-02-13T00:00:00+00:00</td>\n",
       "      <td>2020-02-13T00:00:00+00:00</td>\n",
       "      <td>22.3</td>\n",
       "      <td>36.739716</td>\n",
       "      <td>NaN</td>\n",
       "      <td>NaN</td>\n",
       "      <td>NaN</td>\n",
       "      <td>2681.610336</td>\n",
       "      <td>1.486803e+05</td>\n",
       "      <td>MULTIPOLYGON (((-57222.192 98500.043, -57231.6...</td>\n",
       "    </tr>\n",
       "    <tr>\n",
       "      <th>2</th>\n",
       "      <td>2020</td>\n",
       "      <td>CA</td>\n",
       "      <td>CDF</td>\n",
       "      <td>AEU</td>\n",
       "      <td>10630</td>\n",
       "      <td>Feb 2020 Broadcast</td>\n",
       "      <td>3.0</td>\n",
       "      <td>2020-02-13T00:00:00+00:00</td>\n",
       "      <td>2020-02-18T00:00:00+00:00</td>\n",
       "      <td>22.4</td>\n",
       "      <td>38.839848</td>\n",
       "      <td>NaN</td>\n",
       "      <td>NaN</td>\n",
       "      <td>NaN</td>\n",
       "      <td>3918.219956</td>\n",
       "      <td>1.571792e+05</td>\n",
       "      <td>MULTIPOLYGON (((-49821.237 54143.575, -49815.4...</td>\n",
       "    </tr>\n",
       "    <tr>\n",
       "      <th>3</th>\n",
       "      <td>2020</td>\n",
       "      <td>CA</td>\n",
       "      <td>CDF</td>\n",
       "      <td>AEU</td>\n",
       "      <td>10639</td>\n",
       "      <td>Feb 2020 Broadcast</td>\n",
       "      <td>3.0</td>\n",
       "      <td>2020-02-11T00:00:00+00:00</td>\n",
       "      <td>2020-02-20T00:00:00+00:00</td>\n",
       "      <td>75.5</td>\n",
       "      <td>75.502464</td>\n",
       "      <td>NaN</td>\n",
       "      <td>NaN</td>\n",
       "      <td>NaN</td>\n",
       "      <td>3918.834462</td>\n",
       "      <td>3.055300e+05</td>\n",
       "      <td>MULTIPOLYGON (((-47052.539 80922.773, -47052.5...</td>\n",
       "    </tr>\n",
       "    <tr>\n",
       "      <th>4</th>\n",
       "      <td>2020</td>\n",
       "      <td>CA</td>\n",
       "      <td>CDF</td>\n",
       "      <td>AEU</td>\n",
       "      <td>10780</td>\n",
       "      <td>Mar 3 2020 Broadcast</td>\n",
       "      <td>3.0</td>\n",
       "      <td>2020-03-03T00:00:00+00:00</td>\n",
       "      <td>2020-03-03T00:00:00+00:00</td>\n",
       "      <td>61.8</td>\n",
       "      <td>61.773609</td>\n",
       "      <td>NaN</td>\n",
       "      <td>NaN</td>\n",
       "      <td>NaN</td>\n",
       "      <td>2769.034316</td>\n",
       "      <td>2.499805e+05</td>\n",
       "      <td>MULTIPOLYGON (((-47591.189 80696.956, -47590.2...</td>\n",
       "    </tr>\n",
       "    <tr>\n",
       "      <th>...</th>\n",
       "      <td>...</td>\n",
       "      <td>...</td>\n",
       "      <td>...</td>\n",
       "      <td>...</td>\n",
       "      <td>...</td>\n",
       "      <td>...</td>\n",
       "      <td>...</td>\n",
       "      <td>...</td>\n",
       "      <td>...</td>\n",
       "      <td>...</td>\n",
       "      <td>...</td>\n",
       "      <td>...</td>\n",
       "      <td>...</td>\n",
       "      <td>...</td>\n",
       "      <td>...</td>\n",
       "      <td>...</td>\n",
       "      <td>...</td>\n",
       "    </tr>\n",
       "    <tr>\n",
       "      <th>6407</th>\n",
       "      <td>2019</td>\n",
       "      <td>CA</td>\n",
       "      <td>CDF</td>\n",
       "      <td>BEU</td>\n",
       "      <td>9011</td>\n",
       "      <td>Rock Springs VMP</td>\n",
       "      <td>3.0</td>\n",
       "      <td>2019-06-17T00:00:00+00:00</td>\n",
       "      <td>2019-06-17T00:00:00+00:00</td>\n",
       "      <td>6.0</td>\n",
       "      <td>4410.436035</td>\n",
       "      <td>NaN</td>\n",
       "      <td>NaN</td>\n",
       "      <td>NaN</td>\n",
       "      <td>43918.799708</td>\n",
       "      <td>1.784839e+07</td>\n",
       "      <td>MULTIPOLYGON (((-83812.469 -167644.628, -83812...</td>\n",
       "    </tr>\n",
       "    <tr>\n",
       "      <th>6408</th>\n",
       "      <td>2019</td>\n",
       "      <td>CA</td>\n",
       "      <td>CDF</td>\n",
       "      <td>BEU</td>\n",
       "      <td>9011</td>\n",
       "      <td>Rock Springs VMP</td>\n",
       "      <td>3.0</td>\n",
       "      <td>2019-11-14T00:00:00+00:00</td>\n",
       "      <td>2019-11-19T00:00:00+00:00</td>\n",
       "      <td>4404.0</td>\n",
       "      <td>4410.436035</td>\n",
       "      <td>NaN</td>\n",
       "      <td>NaN</td>\n",
       "      <td>NaN</td>\n",
       "      <td>43918.799708</td>\n",
       "      <td>1.784839e+07</td>\n",
       "      <td>MULTIPOLYGON (((-83812.469 -167644.628, -83812...</td>\n",
       "    </tr>\n",
       "    <tr>\n",
       "      <th>6409</th>\n",
       "      <td>2019</td>\n",
       "      <td>CA</td>\n",
       "      <td>OTH</td>\n",
       "      <td>BEU</td>\n",
       "      <td>9874</td>\n",
       "      <td>Impact Burn</td>\n",
       "      <td>3.0</td>\n",
       "      <td>2019-05-01T00:00:00+00:00</td>\n",
       "      <td>2019-06-01T00:00:00+00:00</td>\n",
       "      <td>1728.0</td>\n",
       "      <td>1728.423584</td>\n",
       "      <td>NaN</td>\n",
       "      <td>NaN</td>\n",
       "      <td>NaN</td>\n",
       "      <td>12837.895799</td>\n",
       "      <td>6.994679e+06</td>\n",
       "      <td>MULTIPOLYGON (((-68525.876 -241585.362, -68522...</td>\n",
       "    </tr>\n",
       "    <tr>\n",
       "      <th>6410</th>\n",
       "      <td>2019</td>\n",
       "      <td>CA</td>\n",
       "      <td>CDF</td>\n",
       "      <td>SLU</td>\n",
       "      <td>10270</td>\n",
       "      <td>Webster Burning</td>\n",
       "      <td>3.0</td>\n",
       "      <td>2019-11-12T00:00:00+00:00</td>\n",
       "      <td>2019-12-31T00:00:00+00:00</td>\n",
       "      <td>131.0</td>\n",
       "      <td>131.035889</td>\n",
       "      <td>NaN</td>\n",
       "      <td>NaN</td>\n",
       "      <td>NaN</td>\n",
       "      <td>6110.293336</td>\n",
       "      <td>5.302832e+05</td>\n",
       "      <td>MULTIPOLYGON (((-48329.776 -282952.083, -48320...</td>\n",
       "    </tr>\n",
       "    <tr>\n",
       "      <th>6411</th>\n",
       "      <td>2019</td>\n",
       "      <td>CA</td>\n",
       "      <td>CDF</td>\n",
       "      <td>BEU</td>\n",
       "      <td>9969</td>\n",
       "      <td>2019 Church Ranch VMP</td>\n",
       "      <td>3.0</td>\n",
       "      <td>2019-07-29T00:00:00+00:00</td>\n",
       "      <td>2019-08-20T00:00:00+00:00</td>\n",
       "      <td>365.0</td>\n",
       "      <td>365.818207</td>\n",
       "      <td>NaN</td>\n",
       "      <td>NaN</td>\n",
       "      <td>NaN</td>\n",
       "      <td>7046.382422</td>\n",
       "      <td>1.480413e+06</td>\n",
       "      <td>MULTIPOLYGON (((-138297.766 -134044.365, -1382...</td>\n",
       "    </tr>\n",
       "  </tbody>\n",
       "</table>\n",
       "<p>6412 rows × 17 columns</p>\n",
       "</div>"
      ],
      "text/plain": [
       "     YEAR_ STATE AGENCY UNIT_ID TREATMENT_ID          TREATMENT_NAME  \\\n",
       "0     2020    CA    CDF     AEU        10509   Jan 31 2020 Broadcast   \n",
       "1     2020    CA    PVT     AEU        10572    2020 Fuels Reduction   \n",
       "2     2020    CA    CDF     AEU        10630      Feb 2020 Broadcast   \n",
       "3     2020    CA    CDF     AEU        10639      Feb 2020 Broadcast   \n",
       "4     2020    CA    CDF     AEU        10780    Mar 3 2020 Broadcast   \n",
       "...    ...   ...    ...     ...          ...                     ...   \n",
       "6407  2019    CA    CDF     BEU         9011        Rock Springs VMP   \n",
       "6408  2019    CA    CDF     BEU         9011        Rock Springs VMP   \n",
       "6409  2019    CA    OTH     BEU         9874             Impact Burn   \n",
       "6410  2019    CA    CDF     SLU        10270         Webster Burning   \n",
       "6411  2019    CA    CDF     BEU         9969  2019 Church Ranch VMP    \n",
       "\n",
       "      TREATMENT_TYPE                 START_DATE                   END_DATE  \\\n",
       "0                3.0  2020-01-31T00:00:00+00:00  2020-01-31T00:00:00+00:00   \n",
       "1                3.0  2020-02-13T00:00:00+00:00  2020-02-13T00:00:00+00:00   \n",
       "2                3.0  2020-02-13T00:00:00+00:00  2020-02-18T00:00:00+00:00   \n",
       "3                3.0  2020-02-11T00:00:00+00:00  2020-02-20T00:00:00+00:00   \n",
       "4                3.0  2020-03-03T00:00:00+00:00  2020-03-03T00:00:00+00:00   \n",
       "...              ...                        ...                        ...   \n",
       "6407             3.0  2019-06-17T00:00:00+00:00  2019-06-17T00:00:00+00:00   \n",
       "6408             3.0  2019-11-14T00:00:00+00:00  2019-11-19T00:00:00+00:00   \n",
       "6409             3.0  2019-05-01T00:00:00+00:00  2019-06-01T00:00:00+00:00   \n",
       "6410             3.0  2019-11-12T00:00:00+00:00  2019-12-31T00:00:00+00:00   \n",
       "6411             3.0  2019-07-29T00:00:00+00:00  2019-08-20T00:00:00+00:00   \n",
       "\n",
       "      TREATED_AC    GIS_ACRES  RX_CONSUM  PRE_CON_CLASS  POST_CON_CLASS  \\\n",
       "0           15.0    15.047045        NaN            NaN             NaN   \n",
       "1           22.3    36.739716        NaN            NaN             NaN   \n",
       "2           22.4    38.839848        NaN            NaN             NaN   \n",
       "3           75.5    75.502464        NaN            NaN             NaN   \n",
       "4           61.8    61.773609        NaN            NaN             NaN   \n",
       "...          ...          ...        ...            ...             ...   \n",
       "6407         6.0  4410.436035        NaN            NaN             NaN   \n",
       "6408      4404.0  4410.436035        NaN            NaN             NaN   \n",
       "6409      1728.0  1728.423584        NaN            NaN             NaN   \n",
       "6410       131.0   131.035889        NaN            NaN             NaN   \n",
       "6411       365.0   365.818207        NaN            NaN             NaN   \n",
       "\n",
       "      Shape_Length    Shape_Area  \\\n",
       "0      1365.887529  6.089322e+04   \n",
       "1      2681.610336  1.486803e+05   \n",
       "2      3918.219956  1.571792e+05   \n",
       "3      3918.834462  3.055300e+05   \n",
       "4      2769.034316  2.499805e+05   \n",
       "...            ...           ...   \n",
       "6407  43918.799708  1.784839e+07   \n",
       "6408  43918.799708  1.784839e+07   \n",
       "6409  12837.895799  6.994679e+06   \n",
       "6410   6110.293336  5.302832e+05   \n",
       "6411   7046.382422  1.480413e+06   \n",
       "\n",
       "                                               geometry  \n",
       "0     MULTIPOLYGON (((-45261.902 81865.442, -45248.3...  \n",
       "1     MULTIPOLYGON (((-57222.192 98500.043, -57231.6...  \n",
       "2     MULTIPOLYGON (((-49821.237 54143.575, -49815.4...  \n",
       "3     MULTIPOLYGON (((-47052.539 80922.773, -47052.5...  \n",
       "4     MULTIPOLYGON (((-47591.189 80696.956, -47590.2...  \n",
       "...                                                 ...  \n",
       "6407  MULTIPOLYGON (((-83812.469 -167644.628, -83812...  \n",
       "6408  MULTIPOLYGON (((-83812.469 -167644.628, -83812...  \n",
       "6409  MULTIPOLYGON (((-68525.876 -241585.362, -68522...  \n",
       "6410  MULTIPOLYGON (((-48329.776 -282952.083, -48320...  \n",
       "6411  MULTIPOLYGON (((-138297.766 -134044.365, -1382...  \n",
       "\n",
       "[6412 rows x 17 columns]"
      ]
     },
     "execution_count": 98,
     "metadata": {},
     "output_type": "execute_result"
    }
   ],
   "source": [
    "prescribed_burn = gpd.read_file(fire_gdb, layer = 'rxburn20_1') #reading in prescribed burn layer\n",
    "prescribed_burn"
   ]
  },
  {
   "cell_type": "code",
   "execution_count": 99,
   "id": "9cb5c9dd-9d90-4215-8cf7-2f06f298c6d3",
   "metadata": {},
   "outputs": [
    {
     "data": {
      "text/plain": [
       "<Projected CRS: EPSG:3310>\n",
       "Name: NAD83 / California Albers\n",
       "Axis Info [cartesian]:\n",
       "- X[east]: Easting (metre)\n",
       "- Y[north]: Northing (metre)\n",
       "Area of Use:\n",
       "- name: United States (USA) - California.\n",
       "- bounds: (-124.45, 32.53, -114.12, 42.01)\n",
       "Coordinate Operation:\n",
       "- name: California Albers\n",
       "- method: Albers Equal Area\n",
       "Datum: North American Datum 1983\n",
       "- Ellipsoid: GRS 1980\n",
       "- Prime Meridian: Greenwich"
      ]
     },
     "execution_count": 99,
     "metadata": {},
     "output_type": "execute_result"
    }
   ],
   "source": [
    "fire.crs #checking the coordinate system "
   ]
  },
  {
   "cell_type": "code",
   "execution_count": 111,
   "id": "363cc40f-a337-4e02-bdea-a18884c93a33",
   "metadata": {},
   "outputs": [
    {
     "data": {
      "text/plain": [
       "[Text(0.5, 1.0, 'California Fire Perimeters through 2020')]"
      ]
     },
     "execution_count": 111,
     "metadata": {},
     "output_type": "execute_result"
    },
    {
     "data": {
      "image/png": "[encoded data removed]",
      "text/plain": [
       "<Figure size 576x576 with 1 Axes>"
      ]
     },
     "metadata": {
      "needs_background": "light"
     },
     "output_type": "display_data"
    }
   ],
   "source": [
    "fig, ax = plt.subplots(figsize = (8, 8) ) ##ploting the wildfire polygons \n",
    "\n",
    "fire.plot(ax = ax, \n",
    "          label = 'Wild Fires',\n",
    "         legend = True);\n",
    "prescribed_burn.plot(ax =ax,\n",
    "                     label = 'Prescribed Burns',\n",
    "                     legend= True,\n",
    "                     color = 'red',\n",
    "                    zorder = 1 )\n",
    "ax.set(title = 'California Fire Perimeters through 2020')\n",
    "\n",
    "#not sure why the legend is not showing up on the plot"
   ]
  },
  {
   "cell_type": "code",
   "execution_count": 179,
   "id": "c8715b54-a2b4-4179-a4fe-521ff5d194c1",
   "metadata": {},
   "outputs": [],
   "source": [
    "plt.close() #closing each figure before running code again due to RunTime warning more than 20 figures have been opened"
   ]
  },
  {
   "cell_type": "code",
   "execution_count": 112,
   "id": "6e4f98cb-7f35-457a-b85d-9f1b2bef7b5f",
   "metadata": {},
   "outputs": [
    {
     "data": {
      "text/html": [
       "<div>\n",
       "<style scoped>\n",
       "    .dataframe tbody tr th:only-of-type {\n",
       "        vertical-align: middle;\n",
       "    }\n",
       "\n",
       "    .dataframe tbody tr th {\n",
       "        vertical-align: top;\n",
       "    }\n",
       "\n",
       "    .dataframe thead th {\n",
       "        text-align: right;\n",
       "    }\n",
       "</style>\n",
       "<table border=\"1\" class=\"dataframe\">\n",
       "  <thead>\n",
       "    <tr style=\"text-align: right;\">\n",
       "      <th></th>\n",
       "      <th>YEAR_</th>\n",
       "      <th>STATE</th>\n",
       "      <th>AGENCY</th>\n",
       "      <th>UNIT_ID</th>\n",
       "      <th>FIRE_NAME</th>\n",
       "      <th>INC_NUM</th>\n",
       "      <th>ALARM_DATE</th>\n",
       "      <th>CONT_DATE</th>\n",
       "      <th>CAUSE</th>\n",
       "      <th>COMMENTS</th>\n",
       "      <th>REPORT_AC</th>\n",
       "      <th>GIS_ACRES</th>\n",
       "      <th>C_METHOD</th>\n",
       "      <th>OBJECTIVE</th>\n",
       "      <th>FIRE_NUM</th>\n",
       "      <th>Shape_Length</th>\n",
       "      <th>Shape_Area</th>\n",
       "      <th>geometry</th>\n",
       "    </tr>\n",
       "  </thead>\n",
       "  <tbody>\n",
       "    <tr>\n",
       "      <th>0</th>\n",
       "      <td>2020</td>\n",
       "      <td>CA</td>\n",
       "      <td>CDF</td>\n",
       "      <td>NEU</td>\n",
       "      <td>NELSON</td>\n",
       "      <td>00013212</td>\n",
       "      <td>2020-06-18T00:00:00+00:00</td>\n",
       "      <td>2020-06-23T00:00:00+00:00</td>\n",
       "      <td>11.0</td>\n",
       "      <td></td>\n",
       "      <td>110.0</td>\n",
       "      <td>109.602501</td>\n",
       "      <td>1.0</td>\n",
       "      <td>1.0</td>\n",
       "      <td>None</td>\n",
       "      <td>3252.523280</td>\n",
       "      <td>4.435447e+05</td>\n",
       "      <td>MULTIPOLYGON (((-116841.251 97942.565, -116836...</td>\n",
       "    </tr>\n",
       "    <tr>\n",
       "      <th>1</th>\n",
       "      <td>2020</td>\n",
       "      <td>CA</td>\n",
       "      <td>CDF</td>\n",
       "      <td>NEU</td>\n",
       "      <td>AMORUSO</td>\n",
       "      <td>00011799</td>\n",
       "      <td>2020-06-01T00:00:00+00:00</td>\n",
       "      <td>2020-06-04T00:00:00+00:00</td>\n",
       "      <td>2.0</td>\n",
       "      <td></td>\n",
       "      <td>670.0</td>\n",
       "      <td>685.585022</td>\n",
       "      <td>1.0</td>\n",
       "      <td>1.0</td>\n",
       "      <td>None</td>\n",
       "      <td>9653.760308</td>\n",
       "      <td>2.774464e+06</td>\n",
       "      <td>MULTIPOLYGON (((-117328.400 90212.407, -117321...</td>\n",
       "    </tr>\n",
       "    <tr>\n",
       "      <th>2</th>\n",
       "      <td>2020</td>\n",
       "      <td>CA</td>\n",
       "      <td>CDF</td>\n",
       "      <td>NEU</td>\n",
       "      <td>ATHENS</td>\n",
       "      <td>00018493</td>\n",
       "      <td>2020-08-10T00:00:00+00:00</td>\n",
       "      <td>2020-03-01T00:00:00+00:00</td>\n",
       "      <td>14.0</td>\n",
       "      <td></td>\n",
       "      <td>26.0</td>\n",
       "      <td>27.300480</td>\n",
       "      <td>1.0</td>\n",
       "      <td>1.0</td>\n",
       "      <td>None</td>\n",
       "      <td>1649.643235</td>\n",
       "      <td>1.104811e+05</td>\n",
       "      <td>MULTIPOLYGON (((-115605.059 92988.787, -115585...</td>\n",
       "    </tr>\n",
       "    <tr>\n",
       "      <th>3</th>\n",
       "      <td>2020</td>\n",
       "      <td>CA</td>\n",
       "      <td>CDF</td>\n",
       "      <td>NEU</td>\n",
       "      <td>FLEMING</td>\n",
       "      <td>00007619</td>\n",
       "      <td>2020-03-31T00:00:00+00:00</td>\n",
       "      <td>2020-04-01T00:00:00+00:00</td>\n",
       "      <td>9.0</td>\n",
       "      <td></td>\n",
       "      <td>13.0</td>\n",
       "      <td>12.931550</td>\n",
       "      <td>1.0</td>\n",
       "      <td>1.0</td>\n",
       "      <td>None</td>\n",
       "      <td>1577.155857</td>\n",
       "      <td>5.233211e+04</td>\n",
       "      <td>MULTIPOLYGON (((-110213.270 105975.579, -11020...</td>\n",
       "    </tr>\n",
       "    <tr>\n",
       "      <th>4</th>\n",
       "      <td>2020</td>\n",
       "      <td>CA</td>\n",
       "      <td>CDF</td>\n",
       "      <td>NEU</td>\n",
       "      <td>MELANESE</td>\n",
       "      <td>00008471</td>\n",
       "      <td>2020-04-14T00:00:00+00:00</td>\n",
       "      <td>2020-04-19T00:00:00+00:00</td>\n",
       "      <td>18.0</td>\n",
       "      <td></td>\n",
       "      <td>10.3</td>\n",
       "      <td>10.315960</td>\n",
       "      <td>1.0</td>\n",
       "      <td>1.0</td>\n",
       "      <td>None</td>\n",
       "      <td>1035.787625</td>\n",
       "      <td>4.174722e+04</td>\n",
       "      <td>MULTIPOLYGON (((-111793.600 164243.615, -11177...</td>\n",
       "    </tr>\n",
       "    <tr>\n",
       "      <th>...</th>\n",
       "      <td>...</td>\n",
       "      <td>...</td>\n",
       "      <td>...</td>\n",
       "      <td>...</td>\n",
       "      <td>...</td>\n",
       "      <td>...</td>\n",
       "      <td>...</td>\n",
       "      <td>...</td>\n",
       "      <td>...</td>\n",
       "      <td>...</td>\n",
       "      <td>...</td>\n",
       "      <td>...</td>\n",
       "      <td>...</td>\n",
       "      <td>...</td>\n",
       "      <td>...</td>\n",
       "      <td>...</td>\n",
       "      <td>...</td>\n",
       "      <td>...</td>\n",
       "    </tr>\n",
       "    <tr>\n",
       "      <th>21313</th>\n",
       "      <td>2019</td>\n",
       "      <td>CA</td>\n",
       "      <td>CCO</td>\n",
       "      <td>LAC</td>\n",
       "      <td>MUREAU</td>\n",
       "      <td>None</td>\n",
       "      <td>2019-10-30T00:00:00+00:00</td>\n",
       "      <td>2019-10-30T00:00:00+00:00</td>\n",
       "      <td>NaN</td>\n",
       "      <td>None</td>\n",
       "      <td>NaN</td>\n",
       "      <td>6.297734</td>\n",
       "      <td>NaN</td>\n",
       "      <td>1.0</td>\n",
       "      <td>None</td>\n",
       "      <td>741.886109</td>\n",
       "      <td>2.548602e+04</td>\n",
       "      <td>MULTIPOLYGON (((122180.088 -428557.696, 122181...</td>\n",
       "    </tr>\n",
       "    <tr>\n",
       "      <th>21314</th>\n",
       "      <td>2019</td>\n",
       "      <td>CA</td>\n",
       "      <td>LRA</td>\n",
       "      <td>None</td>\n",
       "      <td>OAK</td>\n",
       "      <td>None</td>\n",
       "      <td>2019-10-28T00:00:00+00:00</td>\n",
       "      <td>2019-10-28T00:00:00+00:00</td>\n",
       "      <td>14.0</td>\n",
       "      <td>NPS#596 Rapid ROS in light grassy 1yr old fuels</td>\n",
       "      <td>NaN</td>\n",
       "      <td>8.482671</td>\n",
       "      <td>8.0</td>\n",
       "      <td>1.0</td>\n",
       "      <td>None</td>\n",
       "      <td>1004.069271</td>\n",
       "      <td>3.432815e+04</td>\n",
       "      <td>MULTIPOLYGON (((120221.043 -428836.863, 120220...</td>\n",
       "    </tr>\n",
       "    <tr>\n",
       "      <th>21315</th>\n",
       "      <td>2019</td>\n",
       "      <td>CA</td>\n",
       "      <td>LRA</td>\n",
       "      <td>LDF</td>\n",
       "      <td>BARHAM</td>\n",
       "      <td>00000845</td>\n",
       "      <td>2019-11-09T00:00:00+00:00</td>\n",
       "      <td>2019-11-10T00:00:00+00:00</td>\n",
       "      <td>14.0</td>\n",
       "      <td>LACFD 0845</td>\n",
       "      <td>NaN</td>\n",
       "      <td>64.888229</td>\n",
       "      <td>8.0</td>\n",
       "      <td>1.0</td>\n",
       "      <td>None</td>\n",
       "      <td>3383.890106</td>\n",
       "      <td>2.625933e+05</td>\n",
       "      <td>MULTIPOLYGON (((153212.742 -428811.823, 153216...</td>\n",
       "    </tr>\n",
       "    <tr>\n",
       "      <th>21316</th>\n",
       "      <td>2019</td>\n",
       "      <td>CA</td>\n",
       "      <td>NPS</td>\n",
       "      <td>MNP</td>\n",
       "      <td>STAR</td>\n",
       "      <td>00013598</td>\n",
       "      <td>None</td>\n",
       "      <td>None</td>\n",
       "      <td>14.0</td>\n",
       "      <td>None</td>\n",
       "      <td>NaN</td>\n",
       "      <td>66.587181</td>\n",
       "      <td>8.0</td>\n",
       "      <td>1.0</td>\n",
       "      <td>None</td>\n",
       "      <td>3897.065019</td>\n",
       "      <td>2.694688e+05</td>\n",
       "      <td>MULTIPOLYGON (((409025.711 -295687.235, 409021...</td>\n",
       "    </tr>\n",
       "    <tr>\n",
       "      <th>21317</th>\n",
       "      <td>2019</td>\n",
       "      <td>CA</td>\n",
       "      <td>LRA</td>\n",
       "      <td>LDF</td>\n",
       "      <td>SADDLE RIDGE</td>\n",
       "      <td>00001582</td>\n",
       "      <td>2019-10-10T00:00:00+00:00</td>\n",
       "      <td>2019-10-31T00:00:00+00:00</td>\n",
       "      <td>14.0</td>\n",
       "      <td>shape from GEOMAC, dat from CAL FIRE web</td>\n",
       "      <td>8799.0</td>\n",
       "      <td>8799.325195</td>\n",
       "      <td>7.0</td>\n",
       "      <td>1.0</td>\n",
       "      <td>None</td>\n",
       "      <td>71393.089537</td>\n",
       "      <td>3.560961e+07</td>\n",
       "      <td>MULTIPOLYGON (((132094.329 -414240.303, 132019...</td>\n",
       "    </tr>\n",
       "  </tbody>\n",
       "</table>\n",
       "<p>21318 rows × 18 columns</p>\n",
       "</div>"
      ],
      "text/plain": [
       "      YEAR_ STATE AGENCY UNIT_ID     FIRE_NAME   INC_NUM  \\\n",
       "0      2020    CA    CDF     NEU        NELSON  00013212   \n",
       "1      2020    CA    CDF     NEU       AMORUSO  00011799   \n",
       "2      2020    CA    CDF     NEU        ATHENS  00018493   \n",
       "3      2020    CA    CDF     NEU       FLEMING  00007619   \n",
       "4      2020    CA    CDF     NEU      MELANESE  00008471   \n",
       "...     ...   ...    ...     ...           ...       ...   \n",
       "21313  2019    CA    CCO     LAC        MUREAU      None   \n",
       "21314  2019    CA    LRA    None           OAK      None   \n",
       "21315  2019    CA    LRA     LDF        BARHAM  00000845   \n",
       "21316  2019    CA    NPS     MNP          STAR  00013598   \n",
       "21317  2019    CA    LRA     LDF  SADDLE RIDGE  00001582   \n",
       "\n",
       "                      ALARM_DATE                  CONT_DATE  CAUSE  \\\n",
       "0      2020-06-18T00:00:00+00:00  2020-06-23T00:00:00+00:00   11.0   \n",
       "1      2020-06-01T00:00:00+00:00  2020-06-04T00:00:00+00:00    2.0   \n",
       "2      2020-08-10T00:00:00+00:00  2020-03-01T00:00:00+00:00   14.0   \n",
       "3      2020-03-31T00:00:00+00:00  2020-04-01T00:00:00+00:00    9.0   \n",
       "4      2020-04-14T00:00:00+00:00  2020-04-19T00:00:00+00:00   18.0   \n",
       "...                          ...                        ...    ...   \n",
       "21313  2019-10-30T00:00:00+00:00  2019-10-30T00:00:00+00:00    NaN   \n",
       "21314  2019-10-28T00:00:00+00:00  2019-10-28T00:00:00+00:00   14.0   \n",
       "21315  2019-11-09T00:00:00+00:00  2019-11-10T00:00:00+00:00   14.0   \n",
       "21316                       None                       None   14.0   \n",
       "21317  2019-10-10T00:00:00+00:00  2019-10-31T00:00:00+00:00   14.0   \n",
       "\n",
       "                                              COMMENTS  REPORT_AC  \\\n",
       "0                                                           110.0   \n",
       "1                                                           670.0   \n",
       "2                                                            26.0   \n",
       "3                                                            13.0   \n",
       "4                                                            10.3   \n",
       "...                                                ...        ...   \n",
       "21313                                             None        NaN   \n",
       "21314  NPS#596 Rapid ROS in light grassy 1yr old fuels        NaN   \n",
       "21315                                       LACFD 0845        NaN   \n",
       "21316                                             None        NaN   \n",
       "21317         shape from GEOMAC, dat from CAL FIRE web     8799.0   \n",
       "\n",
       "         GIS_ACRES  C_METHOD  OBJECTIVE FIRE_NUM  Shape_Length    Shape_Area  \\\n",
       "0       109.602501       1.0        1.0     None   3252.523280  4.435447e+05   \n",
       "1       685.585022       1.0        1.0     None   9653.760308  2.774464e+06   \n",
       "2        27.300480       1.0        1.0     None   1649.643235  1.104811e+05   \n",
       "3        12.931550       1.0        1.0     None   1577.155857  5.233211e+04   \n",
       "4        10.315960       1.0        1.0     None   1035.787625  4.174722e+04   \n",
       "...            ...       ...        ...      ...           ...           ...   \n",
       "21313     6.297734       NaN        1.0     None    741.886109  2.548602e+04   \n",
       "21314     8.482671       8.0        1.0     None   1004.069271  3.432815e+04   \n",
       "21315    64.888229       8.0        1.0     None   3383.890106  2.625933e+05   \n",
       "21316    66.587181       8.0        1.0     None   3897.065019  2.694688e+05   \n",
       "21317  8799.325195       7.0        1.0     None  71393.089537  3.560961e+07   \n",
       "\n",
       "                                                geometry  \n",
       "0      MULTIPOLYGON (((-116841.251 97942.565, -116836...  \n",
       "1      MULTIPOLYGON (((-117328.400 90212.407, -117321...  \n",
       "2      MULTIPOLYGON (((-115605.059 92988.787, -115585...  \n",
       "3      MULTIPOLYGON (((-110213.270 105975.579, -11020...  \n",
       "4      MULTIPOLYGON (((-111793.600 164243.615, -11177...  \n",
       "...                                                  ...  \n",
       "21313  MULTIPOLYGON (((122180.088 -428557.696, 122181...  \n",
       "21314  MULTIPOLYGON (((120221.043 -428836.863, 120220...  \n",
       "21315  MULTIPOLYGON (((153212.742 -428811.823, 153216...  \n",
       "21316  MULTIPOLYGON (((409025.711 -295687.235, 409021...  \n",
       "21317  MULTIPOLYGON (((132094.329 -414240.303, 132019...  \n",
       "\n",
       "[21318 rows x 18 columns]"
      ]
     },
     "execution_count": 112,
     "metadata": {},
     "output_type": "execute_result"
    }
   ],
   "source": [
    "fire"
   ]
  },
  {
   "cell_type": "code",
   "execution_count": null,
   "id": "67914cf5-7d35-42fb-b0a7-519de9720cf4",
   "metadata": {},
   "outputs": [],
   "source": []
  },
  {
   "cell_type": "code",
   "execution_count": null,
   "id": "583ba8e2-cc20-466b-a83a-8cb5e02e319c",
   "metadata": {},
   "outputs": [],
   "source": []
  },
  {
   "cell_type": "code",
   "execution_count": 113,
   "id": "dcf16edd-698a-4b67-afdf-bae1130979d5",
   "metadata": {},
   "outputs": [
    {
     "data": {
      "text/plain": [
       "40007829.090682626"
      ]
     },
     "execution_count": 113,
     "metadata": {},
     "output_type": "execute_result"
    }
   ],
   "source": [
    "total_acres = fire['GIS_ACRES'].sum() #total acres burned due to wildfires\n",
    "total_acres"
   ]
  },
  {
   "cell_type": "code",
   "execution_count": 114,
   "id": "d42ca9db-6098-496c-bec6-059f29a57d38",
   "metadata": {},
   "outputs": [
    {
     "data": {
      "text/plain": [
       "1796396.9859081358"
      ]
     },
     "execution_count": 114,
     "metadata": {},
     "output_type": "execute_result"
    }
   ],
   "source": [
    "rx_burn_acres = prescribed_burn['GIS_ACRES'].sum() #total treated acres \n",
    "rx_burn_acres"
   ]
  },
  {
   "cell_type": "code",
   "execution_count": 115,
   "id": "b1c0b81e-dcac-4740-b0e8-9d76187419f3",
   "metadata": {},
   "outputs": [
    {
     "name": "stdout",
     "output_type": "stream",
     "text": [
      "Wildfires burned a total of 40007829  acres in CA through the year 2020\n",
      "1796397 is the total acrage treated with prescribed burns through the year 2020\n"
     ]
    }
   ],
   "source": [
    "print('Wildfires burned a total of', round(total_acres), ' acres in CA through the year 2020')\n",
    "print(round(rx_burn_acres),'is the total acrage treated with prescribed burns through the year 2020')"
   ]
  },
  {
   "cell_type": "markdown",
   "id": "7ec7669a-5783-4e94-8886-3b9de585b663",
   "metadata": {},
   "source": [
    "Fire data was retrieved from: https://frap.fire.ca.gov/mapping/gis-data/\n",
    "\n",
    "Note: This is a multi-agency statewide database of fire history. For CAL FIRE, timber fires 10 acres and greater, and grass fires 300 acres or greater are included. For the USFS, there is a 10 acre minimum for fires since 1950. "
   ]
  }
 ],
 "metadata": {
  "kernelspec": {
   "display_name": "Python [conda env:GISenv21b]",
   "language": "python",
   "name": "conda-env-GISenv21b-py"
  },
  "language_info": {
   "codemirror_mode": {
    "name": "ipython",
    "version": 3
   },
   "file_extension": ".py",
   "mimetype": "text/x-python",
   "name": "python",
   "nbconvert_exporter": "python",
   "pygments_lexer": "ipython3",
   "version": "3.9.6"
  }
 },
 "nbformat": 4,
 "nbformat_minor": 5
}

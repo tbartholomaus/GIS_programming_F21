{
 "cells": [
  {
   "cell_type": "markdown",
   "id": "b14b20c6-4f6d-4d35-98c0-095d4b9c01c3",
   "metadata": {},
   "source": [
    "# Assignment 04\n"
   ]
  },
  {
   "cell_type": "code",
   "execution_count": null,
   "id": "b38efdc7-7f92-4a40-9178-7c0f61cfc5fd",
   "metadata": {},
   "outputs": [],
   "source": []
  },
  {
   "cell_type": "code",
   "execution_count": 1,
   "id": "f4a70078-b2c0-4a6b-b270-7575dbcd8eda",
   "metadata": {},
   "outputs": [],
   "source": [
    "import numpy as np\n",
    "import matplotlib.pyplot as plt\n",
    "from pathlib import Path\n",
    "\n",
    "import geopandas as gpd"
   ]
  },
  {
   "cell_type": "code",
   "execution_count": 3,
   "id": "f036393c-ec90-4fec-a144-de07755f16fc",
   "metadata": {},
   "outputs": [],
   "source": [
    "datasets_dir = Path('../../../datasets')\n",
    "# ls ../../"
   ]
  },
  {
   "cell_type": "code",
   "execution_count": 4,
   "id": "2e77bc7a-41dc-4ac4-baea-5bbe28e4a040",
   "metadata": {},
   "outputs": [
    {
     "data": {
      "text/plain": [
       "WindowsPath('../../../datasets')"
      ]
     },
     "execution_count": 4,
     "metadata": {},
     "output_type": "execute_result"
    }
   ],
   "source": [
    "datasets_dir"
   ]
  },
  {
   "cell_type": "code",
   "execution_count": 5,
   "id": "bc2dd580-ad80-4615-8a26-9df0b18b916d",
   "metadata": {},
   "outputs": [
    {
     "name": "stdout",
     "output_type": "stream",
     "text": [
      "..\\..\\..\\datasets\\moscow\\moscow_vectors\\Moscow.gdb\n",
      "<class 'pathlib.WindowsPath'>\n"
     ]
    }
   ],
   "source": [
    "moscow_gdb_path = datasets_dir / 'moscow' / 'moscow_vectors' / 'Moscow.gdb'\n",
    "print(moscow_gdb_path)\n",
    "print(type(moscow_gdb_path))"
   ]
  },
  {
   "cell_type": "code",
   "execution_count": null,
   "id": "554bb916-a1c5-4319-9395-a7a499f227b4",
   "metadata": {},
   "outputs": [],
   "source": []
  },
  {
   "cell_type": "code",
   "execution_count": 6,
   "id": "659e9eeb-782d-4df6-b335-943ed6a38203",
   "metadata": {},
   "outputs": [
    {
     "data": {
      "text/plain": [
       "['Moscow_Zoning',\n",
       " 'Centerlines',\n",
       " 'Moscow_Parks',\n",
       " 'Moscow_City_Limit',\n",
       " 'Parcels']"
      ]
     },
     "execution_count": 6,
     "metadata": {},
     "output_type": "execute_result"
    }
   ],
   "source": [
    "import fiona\n",
    "moscow_gdb = str(moscow_gdb_path)\n",
    "\n",
    "fiona.listlayers(moscow_gdb)"
   ]
  },
  {
   "cell_type": "code",
   "execution_count": 7,
   "id": "749b5581-d9ea-48e2-8949-e6acb8e8d685",
   "metadata": {},
   "outputs": [],
   "source": [
    "parcels = gpd.read_file(moscow_gdb, layer='Parcels')\n",
    "roads = gpd.read_file(moscow_gdb, layer='Centerlines')\n",
    "zoning = gpd.read_file(moscow_gdb, layer='Moscow_Zoning')\n",
    "city_limits = gpd.read_file(moscow_gdb, layer='Moscow_City_Limit')\n",
    "parks = gpd.read_file(moscow_gdb, layer='Moscow_Parks')\n"
   ]
  },
  {
   "cell_type": "code",
   "execution_count": 7,
   "id": "994b45f8-6c0c-4f15-8580-e97c5586b077",
   "metadata": {},
   "outputs": [
    {
     "data": {
      "text/plain": [
       "Index(['LABEL', 'PM_PAR_14', 'PM_MAIL_NM', 'PM_MAIL_A1', 'PM_MAIL_A2',\n",
       "       'PM_MAIL_CT', 'PM_MAIL_ST', 'PM_MAIL_ZP', 'PM_PROP_AD', 'PM_DEEDCDT',\n",
       "       'PM_DEEDRF1', 'PM_DEEDRF2', 'PM_DEEDRF3', 'PM_DEEDRF4', 'PM_DEEDRF5',\n",
       "       'PM_TAX_AMT', 'PM_PV_AREA', 'PM_PV_NBHD', 'PM_PV_ACRE', 'PM_TOT_VAL',\n",
       "       'PM_IMP_VAL', 'PM_LND_VAL', 'PM_EX_VAL', 'PM_NET_VAL', 'PM_CATS',\n",
       "       'LG_LINE_1', 'LG_LINE_2', 'LG_LINE_3', 'LG_LINE_4', 'LG_LINE_5',\n",
       "       'LG_LINE_6', 'PM_PARC_CD', 'GlobalID', 'Shape_Length', 'Shape_Area',\n",
       "       'geometry'],\n",
       "      dtype='object')"
      ]
     },
     "execution_count": 7,
     "metadata": {},
     "output_type": "execute_result"
    }
   ],
   "source": [
    "parcels.columns"
   ]
  },
  {
   "cell_type": "code",
   "execution_count": 24,
   "id": "368235ba-2084-4571-af67-913df9bd16f3",
   "metadata": {},
   "outputs": [
    {
     "data": {
      "text/html": [
       "<div>\n",
       "<style scoped>\n",
       "    .dataframe tbody tr th:only-of-type {\n",
       "        vertical-align: middle;\n",
       "    }\n",
       "\n",
       "    .dataframe tbody tr th {\n",
       "        vertical-align: top;\n",
       "    }\n",
       "\n",
       "    .dataframe thead th {\n",
       "        text-align: right;\n",
       "    }\n",
       "</style>\n",
       "<table border=\"1\" class=\"dataframe\">\n",
       "  <thead>\n",
       "    <tr style=\"text-align: right;\">\n",
       "      <th></th>\n",
       "      <th>LABEL</th>\n",
       "      <th>PM_PAR_14</th>\n",
       "      <th>PM_MAIL_NM</th>\n",
       "      <th>PM_MAIL_A1</th>\n",
       "      <th>PM_MAIL_A2</th>\n",
       "      <th>PM_MAIL_CT</th>\n",
       "      <th>PM_MAIL_ST</th>\n",
       "      <th>PM_MAIL_ZP</th>\n",
       "      <th>PM_PROP_AD</th>\n",
       "      <th>PM_DEEDCDT</th>\n",
       "      <th>...</th>\n",
       "      <th>LG_LINE_3</th>\n",
       "      <th>LG_LINE_4</th>\n",
       "      <th>LG_LINE_5</th>\n",
       "      <th>LG_LINE_6</th>\n",
       "      <th>PM_PARC_CD</th>\n",
       "      <th>GlobalID</th>\n",
       "      <th>Shape_Length</th>\n",
       "      <th>Shape_Area</th>\n",
       "      <th>geometry</th>\n",
       "      <th>Dwntn_dist</th>\n",
       "    </tr>\n",
       "  </thead>\n",
       "  <tbody>\n",
       "    <tr>\n",
       "      <th>0</th>\n",
       "      <td>3725</td>\n",
       "      <td>RP39N05W203725</td>\n",
       "      <td>TATKINMAH LLC</td>\n",
       "      <td>709 E F ST</td>\n",
       "      <td></td>\n",
       "      <td>MOSCOW</td>\n",
       "      <td>ID</td>\n",
       "      <td>83843.0</td>\n",
       "      <td></td>\n",
       "      <td>20120925.0</td>\n",
       "      <td>...</td>\n",
       "      <td></td>\n",
       "      <td></td>\n",
       "      <td></td>\n",
       "      <td></td>\n",
       "      <td></td>\n",
       "      <td>{675E76EB-B256-413D-8A70-F5AA303470C6}</td>\n",
       "      <td>8233.556159</td>\n",
       "      <td>1.269041e+06</td>\n",
       "      <td>MULTIPOLYGON (((2310895.129 1842403.524, 23110...</td>\n",
       "      <td>6469.785647</td>\n",
       "    </tr>\n",
       "    <tr>\n",
       "      <th>1</th>\n",
       "      <td>004J</td>\n",
       "      <td>RP39N05W20004J</td>\n",
       "      <td>LARSON-FOUNTAIN SKY RANCH LLC</td>\n",
       "      <td>709 E F ST</td>\n",
       "      <td></td>\n",
       "      <td>MOSCOW</td>\n",
       "      <td>ID</td>\n",
       "      <td>83843.0</td>\n",
       "      <td></td>\n",
       "      <td>20120925.0</td>\n",
       "      <td>...</td>\n",
       "      <td></td>\n",
       "      <td></td>\n",
       "      <td></td>\n",
       "      <td></td>\n",
       "      <td>WH</td>\n",
       "      <td>{313D5239-DF58-4258-A360-D61913D27224}</td>\n",
       "      <td>1125.939702</td>\n",
       "      <td>2.429704e+04</td>\n",
       "      <td>MULTIPOLYGON (((2311059.420 1842229.329, 23110...</td>\n",
       "      <td>6765.448761</td>\n",
       "    </tr>\n",
       "    <tr>\n",
       "      <th>2</th>\n",
       "      <td>014A</td>\n",
       "      <td>RPM0496000014A</td>\n",
       "      <td>REGAN, MAUREEN M TAYLOR</td>\n",
       "      <td>1810 LORIEN LN</td>\n",
       "      <td></td>\n",
       "      <td>MOSCOW</td>\n",
       "      <td>ID</td>\n",
       "      <td>83843.0</td>\n",
       "      <td>1810 LORIEN</td>\n",
       "      <td>0.0</td>\n",
       "      <td>...</td>\n",
       "      <td>INDIAN HILLS 6TH ADD</td>\n",
       "      <td>BLK 2 LOT 2</td>\n",
       "      <td></td>\n",
       "      <td></td>\n",
       "      <td></td>\n",
       "      <td>{5F7EE3E4-836A-4402-905D-5CC5BF65658A}</td>\n",
       "      <td>573.162810</td>\n",
       "      <td>1.652831e+04</td>\n",
       "      <td>MULTIPOLYGON (((2313927.891 1843762.528, 23140...</td>\n",
       "      <td>6000.304578</td>\n",
       "    </tr>\n",
       "    <tr>\n",
       "      <th>3</th>\n",
       "      <td>0RRD</td>\n",
       "      <td>RPM03400010RRD</td>\n",
       "      <td>PAR HAWAII, LLC</td>\n",
       "      <td>825 TOWN AND COUNTRY LN</td>\n",
       "      <td>STE 1500</td>\n",
       "      <td>HOUSTON</td>\n",
       "      <td>TX</td>\n",
       "      <td>77024.0</td>\n",
       "      <td>328 N MAIN</td>\n",
       "      <td>20190815.0</td>\n",
       "      <td>...</td>\n",
       "      <td>TAX #1912 OF RR LOT &amp; LOT A</td>\n",
       "      <td></td>\n",
       "      <td></td>\n",
       "      <td></td>\n",
       "      <td>LD</td>\n",
       "      <td>{49B94C50-6895-4EB5-8934-98D9F5C77F7D}</td>\n",
       "      <td>323.999960</td>\n",
       "      <td>4.624991e+03</td>\n",
       "      <td>MULTIPOLYGON (((2310936.696 1850758.583, 23109...</td>\n",
       "      <td>1757.771345</td>\n",
       "    </tr>\n",
       "    <tr>\n",
       "      <th>4</th>\n",
       "      <td>0RRA</td>\n",
       "      <td>RPM03400010RRA</td>\n",
       "      <td>PAR HAWAII, LLC</td>\n",
       "      <td>825 TOWN AND COUNTRY LN</td>\n",
       "      <td>STE 1500</td>\n",
       "      <td>HOUSTON</td>\n",
       "      <td>TX</td>\n",
       "      <td>77024.0</td>\n",
       "      <td>340 N MAIN</td>\n",
       "      <td>20190815.0</td>\n",
       "      <td>...</td>\n",
       "      <td></td>\n",
       "      <td></td>\n",
       "      <td></td>\n",
       "      <td></td>\n",
       "      <td>CC</td>\n",
       "      <td>{5EFD3778-A96A-4346-AC9B-A82DC91728BA}</td>\n",
       "      <td>491.400684</td>\n",
       "      <td>1.440471e+04</td>\n",
       "      <td>MULTIPOLYGON (((2310938.447 1850916.273, 23110...</td>\n",
       "      <td>1794.771252</td>\n",
       "    </tr>\n",
       "    <tr>\n",
       "      <th>...</th>\n",
       "      <td>...</td>\n",
       "      <td>...</td>\n",
       "      <td>...</td>\n",
       "      <td>...</td>\n",
       "      <td>...</td>\n",
       "      <td>...</td>\n",
       "      <td>...</td>\n",
       "      <td>...</td>\n",
       "      <td>...</td>\n",
       "      <td>...</td>\n",
       "      <td>...</td>\n",
       "      <td>...</td>\n",
       "      <td>...</td>\n",
       "      <td>...</td>\n",
       "      <td>...</td>\n",
       "      <td>...</td>\n",
       "      <td>...</td>\n",
       "      <td>...</td>\n",
       "      <td>...</td>\n",
       "      <td>...</td>\n",
       "      <td>...</td>\n",
       "    </tr>\n",
       "    <tr>\n",
       "      <th>7389</th>\n",
       "      <td>001A</td>\n",
       "      <td></td>\n",
       "      <td></td>\n",
       "      <td></td>\n",
       "      <td></td>\n",
       "      <td></td>\n",
       "      <td></td>\n",
       "      <td>0.0</td>\n",
       "      <td></td>\n",
       "      <td>0.0</td>\n",
       "      <td>...</td>\n",
       "      <td></td>\n",
       "      <td></td>\n",
       "      <td></td>\n",
       "      <td></td>\n",
       "      <td></td>\n",
       "      <td>{DDB9C6E2-6E3D-4370-B643-0C722869EC44}</td>\n",
       "      <td>695.039466</td>\n",
       "      <td>2.551610e+04</td>\n",
       "      <td>MULTIPOLYGON (((2309810.585 1844883.291, 23097...</td>\n",
       "      <td>4147.105067</td>\n",
       "    </tr>\n",
       "    <tr>\n",
       "      <th>7390</th>\n",
       "      <td>0030</td>\n",
       "      <td></td>\n",
       "      <td></td>\n",
       "      <td></td>\n",
       "      <td></td>\n",
       "      <td></td>\n",
       "      <td></td>\n",
       "      <td>0.0</td>\n",
       "      <td></td>\n",
       "      <td>0.0</td>\n",
       "      <td>...</td>\n",
       "      <td></td>\n",
       "      <td></td>\n",
       "      <td></td>\n",
       "      <td></td>\n",
       "      <td></td>\n",
       "      <td>{37E0E4F2-77E7-4903-92F8-3E9487209E21}</td>\n",
       "      <td>92.921933</td>\n",
       "      <td>1.012760e+00</td>\n",
       "      <td>MULTIPOLYGON (((2309630.922 1844876.652, 23096...</td>\n",
       "      <td>4300.483728</td>\n",
       "    </tr>\n",
       "    <tr>\n",
       "      <th>7391</th>\n",
       "      <td>00A0</td>\n",
       "      <td></td>\n",
       "      <td></td>\n",
       "      <td></td>\n",
       "      <td></td>\n",
       "      <td></td>\n",
       "      <td></td>\n",
       "      <td>0.0</td>\n",
       "      <td></td>\n",
       "      <td>0.0</td>\n",
       "      <td>...</td>\n",
       "      <td></td>\n",
       "      <td></td>\n",
       "      <td></td>\n",
       "      <td></td>\n",
       "      <td></td>\n",
       "      <td>{D203C489-A119-45FD-962A-6BDADB28E531}</td>\n",
       "      <td>680.544153</td>\n",
       "      <td>7.253377e+03</td>\n",
       "      <td>MULTIPOLYGON (((2309722.005 1844975.767, 23097...</td>\n",
       "      <td>4195.665303</td>\n",
       "    </tr>\n",
       "    <tr>\n",
       "      <th>7392</th>\n",
       "      <td>0040</td>\n",
       "      <td></td>\n",
       "      <td></td>\n",
       "      <td></td>\n",
       "      <td></td>\n",
       "      <td></td>\n",
       "      <td></td>\n",
       "      <td>0.0</td>\n",
       "      <td></td>\n",
       "      <td>0.0</td>\n",
       "      <td>...</td>\n",
       "      <td></td>\n",
       "      <td></td>\n",
       "      <td></td>\n",
       "      <td></td>\n",
       "      <td></td>\n",
       "      <td>{6430BCBC-C88D-4FBE-8C77-CC244F5EF331}</td>\n",
       "      <td>140.856588</td>\n",
       "      <td>9.707514e+02</td>\n",
       "      <td>MULTIPOLYGON (((2309711.261 1844923.808, 23096...</td>\n",
       "      <td>4225.741560</td>\n",
       "    </tr>\n",
       "    <tr>\n",
       "      <th>7393</th>\n",
       "      <td></td>\n",
       "      <td></td>\n",
       "      <td></td>\n",
       "      <td></td>\n",
       "      <td></td>\n",
       "      <td></td>\n",
       "      <td></td>\n",
       "      <td>0.0</td>\n",
       "      <td></td>\n",
       "      <td>0.0</td>\n",
       "      <td>...</td>\n",
       "      <td></td>\n",
       "      <td></td>\n",
       "      <td></td>\n",
       "      <td></td>\n",
       "      <td></td>\n",
       "      <td>{926C8BF8-3CCA-4897-A9B8-9D0A7549628D}</td>\n",
       "      <td>719.781786</td>\n",
       "      <td>1.401243e+04</td>\n",
       "      <td>MULTIPOLYGON (((2315750.007 1843514.088, 23157...</td>\n",
       "      <td>7006.483509</td>\n",
       "    </tr>\n",
       "  </tbody>\n",
       "</table>\n",
       "<p>7394 rows × 37 columns</p>\n",
       "</div>"
      ],
      "text/plain": [
       "     LABEL       PM_PAR_14                     PM_MAIL_NM  \\\n",
       "0     3725  RP39N05W203725                  TATKINMAH LLC   \n",
       "1     004J  RP39N05W20004J  LARSON-FOUNTAIN SKY RANCH LLC   \n",
       "2     014A  RPM0496000014A        REGAN, MAUREEN M TAYLOR   \n",
       "3     0RRD  RPM03400010RRD                PAR HAWAII, LLC   \n",
       "4     0RRA  RPM03400010RRA                PAR HAWAII, LLC   \n",
       "...    ...             ...                            ...   \n",
       "7389  001A                                                  \n",
       "7390  0030                                                  \n",
       "7391  00A0                                                  \n",
       "7392  0040                                                  \n",
       "7393                                                        \n",
       "\n",
       "                   PM_MAIL_A1 PM_MAIL_A2 PM_MAIL_CT PM_MAIL_ST  PM_MAIL_ZP  \\\n",
       "0                  709 E F ST                MOSCOW         ID     83843.0   \n",
       "1                  709 E F ST                MOSCOW         ID     83843.0   \n",
       "2              1810 LORIEN LN                MOSCOW         ID     83843.0   \n",
       "3     825 TOWN AND COUNTRY LN   STE 1500    HOUSTON         TX     77024.0   \n",
       "4     825 TOWN AND COUNTRY LN   STE 1500    HOUSTON         TX     77024.0   \n",
       "...                       ...        ...        ...        ...         ...   \n",
       "7389                                                                   0.0   \n",
       "7390                                                                   0.0   \n",
       "7391                                                                   0.0   \n",
       "7392                                                                   0.0   \n",
       "7393                                                                   0.0   \n",
       "\n",
       "       PM_PROP_AD  PM_DEEDCDT  ...                    LG_LINE_3    LG_LINE_4  \\\n",
       "0                  20120925.0  ...                                             \n",
       "1                  20120925.0  ...                                             \n",
       "2     1810 LORIEN         0.0  ...         INDIAN HILLS 6TH ADD  BLK 2 LOT 2   \n",
       "3      328 N MAIN  20190815.0  ...  TAX #1912 OF RR LOT & LOT A                \n",
       "4      340 N MAIN  20190815.0  ...                                             \n",
       "...           ...         ...  ...                          ...          ...   \n",
       "7389                      0.0  ...                                             \n",
       "7390                      0.0  ...                                             \n",
       "7391                      0.0  ...                                             \n",
       "7392                      0.0  ...                                             \n",
       "7393                      0.0  ...                                             \n",
       "\n",
       "     LG_LINE_5 LG_LINE_6 PM_PARC_CD                                GlobalID  \\\n",
       "0                                    {675E76EB-B256-413D-8A70-F5AA303470C6}   \n",
       "1                                WH  {313D5239-DF58-4258-A360-D61913D27224}   \n",
       "2                                    {5F7EE3E4-836A-4402-905D-5CC5BF65658A}   \n",
       "3                                LD  {49B94C50-6895-4EB5-8934-98D9F5C77F7D}   \n",
       "4                                CC  {5EFD3778-A96A-4346-AC9B-A82DC91728BA}   \n",
       "...        ...       ...        ...                                     ...   \n",
       "7389                                 {DDB9C6E2-6E3D-4370-B643-0C722869EC44}   \n",
       "7390                                 {37E0E4F2-77E7-4903-92F8-3E9487209E21}   \n",
       "7391                                 {D203C489-A119-45FD-962A-6BDADB28E531}   \n",
       "7392                                 {6430BCBC-C88D-4FBE-8C77-CC244F5EF331}   \n",
       "7393                                 {926C8BF8-3CCA-4897-A9B8-9D0A7549628D}   \n",
       "\n",
       "      Shape_Length    Shape_Area  \\\n",
       "0      8233.556159  1.269041e+06   \n",
       "1      1125.939702  2.429704e+04   \n",
       "2       573.162810  1.652831e+04   \n",
       "3       323.999960  4.624991e+03   \n",
       "4       491.400684  1.440471e+04   \n",
       "...            ...           ...   \n",
       "7389    695.039466  2.551610e+04   \n",
       "7390     92.921933  1.012760e+00   \n",
       "7391    680.544153  7.253377e+03   \n",
       "7392    140.856588  9.707514e+02   \n",
       "7393    719.781786  1.401243e+04   \n",
       "\n",
       "                                               geometry   Dwntn_dist  \n",
       "0     MULTIPOLYGON (((2310895.129 1842403.524, 23110...  6469.785647  \n",
       "1     MULTIPOLYGON (((2311059.420 1842229.329, 23110...  6765.448761  \n",
       "2     MULTIPOLYGON (((2313927.891 1843762.528, 23140...  6000.304578  \n",
       "3     MULTIPOLYGON (((2310936.696 1850758.583, 23109...  1757.771345  \n",
       "4     MULTIPOLYGON (((2310938.447 1850916.273, 23110...  1794.771252  \n",
       "...                                                 ...          ...  \n",
       "7389  MULTIPOLYGON (((2309810.585 1844883.291, 23097...  4147.105067  \n",
       "7390  MULTIPOLYGON (((2309630.922 1844876.652, 23096...  4300.483728  \n",
       "7391  MULTIPOLYGON (((2309722.005 1844975.767, 23097...  4195.665303  \n",
       "7392  MULTIPOLYGON (((2309711.261 1844923.808, 23096...  4225.741560  \n",
       "7393  MULTIPOLYGON (((2315750.007 1843514.088, 23157...  7006.483509  \n",
       "\n",
       "[7394 rows x 37 columns]"
      ]
     },
     "execution_count": 24,
     "metadata": {},
     "output_type": "execute_result"
    }
   ],
   "source": [
    "parcels"
   ]
  },
  {
   "cell_type": "markdown",
   "id": "533f554b-1fcd-4e89-aecd-749742abdd50",
   "metadata": {},
   "source": [
    "### Shapely geometries\n",
    "Behind the scenes, geopandas is reading in vector data, storing the attribute tables as `pandas` dataframes,\n",
    "and storing the vector geometry as `shapely` geometries.\n",
    "\n",
    "\n",
    "### Reading:\n",
    "To become more familiar with vector operations in geopandas/shapely, \n",
    "read this introduction to shapely geometries carefully, \n",
    "and reproduce/experiment with the code in this reading from within a blank notebook:\n",
    "https://towardsdatascience.com/geospatial-adventures-step-1-shapely-e911e4f86361\n",
    "\n",
    "Read this page for a more comprehensive description of `shapely` geometries: \n",
    "https://autogis-site.readthedocs.io/en/latest/notebooks/L1/geometric-objects.html\n",
    "\n",
    "Scroll through the `shapely` user manual (https://shapely.readthedocs.io/en/stable/manual.html), \n",
    "reviewing the different functions that shapely includes.  `geopandas` allows all of these functions to be\n",
    "executed, [directly through `geopandas`, without explicit call to `shapely`](https://geopandas.org/docs/user_guide/geometric_manipulations.html).  `shapely` is just running\n",
    "quietly under the hood.  Pay specific attention to the \"Spatial Analysis Methods\" of the manual."
   ]
  },
  {
   "cell_type": "code",
   "execution_count": 8,
   "id": "a805a90a-a722-41bd-b340-ac15e6531723",
   "metadata": {},
   "outputs": [
    {
     "name": "stdout",
     "output_type": "stream",
     "text": [
      "Line area = 0.0\n",
      "Line length = 2.8284271247461903\n"
     ]
    }
   ],
   "source": [
    "from shapely.geometry import LineString , MultiPolygon, Polygon, box\n",
    "line = LineString([(0, 0), (1, 1), (2, 0)])\n",
    "print('Line area =', line.area)\n",
    "print('Line length =', line.length)"
   ]
  },
  {
   "cell_type": "code",
   "execution_count": 9,
   "id": "91dda482-8e26-41bd-b40b-732e714cd6f9",
   "metadata": {},
   "outputs": [
    {
     "data": {
      "image/svg+xml": [
       "<svg xmlns=\"http://www.w3.org/2000/svg\" xmlns:xlink=\"http://www.w3.org/1999/xlink\" width=\"100.0\" height=\"100.0\" viewBox=\"-0.08 -0.08 2.16 1.1600000000000001\" preserveAspectRatio=\"xMinYMin meet\"><g transform=\"matrix(1,0,0,-1,0,1.0)\"><polyline fill=\"none\" stroke=\"#66cc99\" stroke-width=\"0.0432\" points=\"0.0,0.0 1.0,1.0 2.0,0.0\" opacity=\"0.8\" /></g></svg>"
      ],
      "text/plain": [
       "<shapely.geometry.linestring.LineString at 0x273b7742760>"
      ]
     },
     "execution_count": 9,
     "metadata": {},
     "output_type": "execute_result"
    }
   ],
   "source": [
    "line"
   ]
  },
  {
   "cell_type": "code",
   "execution_count": 10,
   "id": "92ea295d-9a77-4bf6-9718-0b3cd9979e88",
   "metadata": {},
   "outputs": [
    {
     "data": {
      "text/plain": [
       "shapely.geometry.linestring.LineString"
      ]
     },
     "execution_count": 10,
     "metadata": {},
     "output_type": "execute_result"
    }
   ],
   "source": [
    "type(line)"
   ]
  },
  {
   "cell_type": "code",
   "execution_count": 11,
   "id": "50696400-bd30-4071-8e44-6535e41c37cc",
   "metadata": {
    "tags": []
   },
   "outputs": [
    {
     "name": "stdout",
     "output_type": "stream",
     "text": [
      "[(0.0, 0.0), (1.0, 1.0), (2.0, 0.0)]\n",
      "(2.0, 0.0)\n"
     ]
    }
   ],
   "source": [
    "print( list(line.coords) )\n",
    "print( line.coords[2] )"
   ]
  },
  {
   "cell_type": "markdown",
   "id": "aa3bf992-2366-47e0-bc24-0d49657b6e92",
   "metadata": {
    "tags": []
   },
   "source": [
    "<div class=\"alert alert-block alert-warning\">\n",
    "\n",
    "## 1. Shapely geometries\n",
    "What `shapely` geometry are each of the parcels in the Moscow parcels layer? What `shapely` geometry are their centroids?\n",
    "    \n",
    "Find the Kenworthy Theater within the parcels database (hint: the name field for its mailing address, \n",
    "    PM_MAIL_NM, is \"KENWORTHY PERFORMING ARTS CTR\").\n",
    "What are the coordinates for the corners of its parcel?    \n",
    "</div>\n"
   ]
  },
  {
   "cell_type": "code",
   "execution_count": 30,
   "id": "291f89be-8ae4-4981-8e6c-aa435511154f",
   "metadata": {
    "tags": []
   },
   "outputs": [
    {
     "name": "stdout",
     "output_type": "stream",
     "text": [
      "0       MultiPolygon\n",
      "1       MultiPolygon\n",
      "2       MultiPolygon\n",
      "3       MultiPolygon\n",
      "4       MultiPolygon\n",
      "            ...     \n",
      "7389    MultiPolygon\n",
      "7390    MultiPolygon\n",
      "7391    MultiPolygon\n",
      "7392    MultiPolygon\n",
      "7393    MultiPolygon\n",
      "Length: 7394, dtype: object 0       POINT (2312316.563 1841855.854)\n",
      "1       POINT (2310889.377 1842183.675)\n",
      "2       POINT (2314032.262 1843722.904)\n",
      "3       POINT (2310999.398 1850776.387)\n",
      "4       POINT (2310997.470 1850854.715)\n",
      "                     ...               \n",
      "7389    POINT (2309827.633 1844939.828)\n",
      "7390    POINT (2309631.082 1844892.130)\n",
      "7391    POINT (2309678.033 1844935.229)\n",
      "7392    POINT (2309702.081 1844949.559)\n",
      "7393    POINT (2315761.545 1843658.201)\n",
      "Length: 7394, dtype: geometry\n"
     ]
    }
   ],
   "source": [
    "parcels.geom_type\n",
    "parcels.centroid\n",
    "\n",
    "print(parcels.geom_type , parcels.centroid)\n",
    "\n"
   ]
  },
  {
   "cell_type": "code",
   "execution_count": 42,
   "id": "6578c122-dfc4-4998-92e5-337d35346d8d",
   "metadata": {},
   "outputs": [
    {
     "data": {
      "text/plain": [
       "<geopandas.plotting.GeoplotAccessor object at 0x00000273B8ABBB80>"
      ]
     },
     "execution_count": 42,
     "metadata": {},
     "output_type": "execute_result"
    }
   ],
   "source": [
    "parcels.plot"
   ]
  },
  {
   "cell_type": "code",
   "execution_count": null,
   "id": "ecb25e49-ed01-49ab-a9cc-d230b17f17a2",
   "metadata": {},
   "outputs": [],
   "source": []
  },
  {
   "cell_type": "code",
   "execution_count": 9,
   "id": "d224b669-c414-42d4-ba6a-3ea39181ec21",
   "metadata": {},
   "outputs": [
    {
     "data": {
      "text/html": [
       "<div>\n",
       "<style scoped>\n",
       "    .dataframe tbody tr th:only-of-type {\n",
       "        vertical-align: middle;\n",
       "    }\n",
       "\n",
       "    .dataframe tbody tr th {\n",
       "        vertical-align: top;\n",
       "    }\n",
       "\n",
       "    .dataframe thead th {\n",
       "        text-align: right;\n",
       "    }\n",
       "</style>\n",
       "<table border=\"1\" class=\"dataframe\">\n",
       "  <thead>\n",
       "    <tr style=\"text-align: right;\">\n",
       "      <th></th>\n",
       "      <th>LABEL</th>\n",
       "      <th>PM_PAR_14</th>\n",
       "      <th>PM_MAIL_NM</th>\n",
       "      <th>PM_MAIL_A1</th>\n",
       "      <th>PM_MAIL_A2</th>\n",
       "      <th>PM_MAIL_CT</th>\n",
       "      <th>PM_MAIL_ST</th>\n",
       "      <th>PM_MAIL_ZP</th>\n",
       "      <th>PM_PROP_AD</th>\n",
       "      <th>PM_DEEDCDT</th>\n",
       "      <th>...</th>\n",
       "      <th>LG_LINE_2</th>\n",
       "      <th>LG_LINE_3</th>\n",
       "      <th>LG_LINE_4</th>\n",
       "      <th>LG_LINE_5</th>\n",
       "      <th>LG_LINE_6</th>\n",
       "      <th>PM_PARC_CD</th>\n",
       "      <th>GlobalID</th>\n",
       "      <th>Shape_Length</th>\n",
       "      <th>Shape_Area</th>\n",
       "      <th>geometry</th>\n",
       "    </tr>\n",
       "  </thead>\n",
       "  <tbody>\n",
       "    <tr>\n",
       "      <th>1359</th>\n",
       "      <td>002B</td>\n",
       "      <td>RPM0001005002B</td>\n",
       "      <td>KENWORTHY PERFORMING ARTS CTR</td>\n",
       "      <td>508 S MAIN</td>\n",
       "      <td></td>\n",
       "      <td>MOSCOW</td>\n",
       "      <td>ID</td>\n",
       "      <td>83843.0</td>\n",
       "      <td>508 S MAIN</td>\n",
       "      <td>20010202.0</td>\n",
       "      <td>...</td>\n",
       "      <td>BLK 5 LOT 2, N 1/2 OF LOT 3</td>\n",
       "      <td>EXEMPT</td>\n",
       "      <td></td>\n",
       "      <td></td>\n",
       "      <td></td>\n",
       "      <td>C</td>\n",
       "      <td>{A4FB5B11-A87D-453A-ABD6-8BC607A17A20}</td>\n",
       "      <td>369.999919</td>\n",
       "      <td>7499.997375</td>\n",
       "      <td>MULTIPOLYGON (((2311036.946 1848531.880, 23110...</td>\n",
       "    </tr>\n",
       "  </tbody>\n",
       "</table>\n",
       "<p>1 rows × 36 columns</p>\n",
       "</div>"
      ],
      "text/plain": [
       "     LABEL       PM_PAR_14                     PM_MAIL_NM  PM_MAIL_A1  \\\n",
       "1359  002B  RPM0001005002B  KENWORTHY PERFORMING ARTS CTR  508 S MAIN   \n",
       "\n",
       "     PM_MAIL_A2 PM_MAIL_CT PM_MAIL_ST  PM_MAIL_ZP  PM_PROP_AD  PM_DEEDCDT  \\\n",
       "1359                MOSCOW         ID     83843.0  508 S MAIN  20010202.0   \n",
       "\n",
       "      ...                    LG_LINE_2 LG_LINE_3 LG_LINE_4 LG_LINE_5  \\\n",
       "1359  ...  BLK 5 LOT 2, N 1/2 OF LOT 3    EXEMPT                       \n",
       "\n",
       "     LG_LINE_6  PM_PARC_CD                                GlobalID  \\\n",
       "1359                     C  {A4FB5B11-A87D-453A-ABD6-8BC607A17A20}   \n",
       "\n",
       "      Shape_Length   Shape_Area  \\\n",
       "1359    369.999919  7499.997375   \n",
       "\n",
       "                                               geometry  \n",
       "1359  MULTIPOLYGON (((2311036.946 1848531.880, 23110...  \n",
       "\n",
       "[1 rows x 36 columns]"
      ]
     },
     "execution_count": 9,
     "metadata": {},
     "output_type": "execute_result"
    }
   ],
   "source": [
    "ken = parcels.loc[parcels['PM_MAIL_NM'] == 'KENWORTHY PERFORMING ARTS CTR']\n",
    "ken"
   ]
  },
  {
   "cell_type": "code",
   "execution_count": 96,
   "id": "146c268f-dd85-4186-9343-837e6fd008ef",
   "metadata": {},
   "outputs": [
    {
     "data": {
      "text/html": [
       "<div>\n",
       "<style scoped>\n",
       "    .dataframe tbody tr th:only-of-type {\n",
       "        vertical-align: middle;\n",
       "    }\n",
       "\n",
       "    .dataframe tbody tr th {\n",
       "        vertical-align: top;\n",
       "    }\n",
       "\n",
       "    .dataframe thead th {\n",
       "        text-align: right;\n",
       "    }\n",
       "</style>\n",
       "<table border=\"1\" class=\"dataframe\">\n",
       "  <thead>\n",
       "    <tr style=\"text-align: right;\">\n",
       "      <th></th>\n",
       "      <th>minx</th>\n",
       "      <th>miny</th>\n",
       "      <th>maxx</th>\n",
       "      <th>maxy</th>\n",
       "    </tr>\n",
       "  </thead>\n",
       "  <tbody>\n",
       "    <tr>\n",
       "      <th>1359</th>\n",
       "      <td>2.310911e+06</td>\n",
       "      <td>1.848472e+06</td>\n",
       "      <td>2.311037e+06</td>\n",
       "      <td>1.848533e+06</td>\n",
       "    </tr>\n",
       "  </tbody>\n",
       "</table>\n",
       "</div>"
      ],
      "text/plain": [
       "              minx          miny          maxx          maxy\n",
       "1359  2.310911e+06  1.848472e+06  2.311037e+06  1.848533e+06"
      ]
     },
     "execution_count": 96,
     "metadata": {},
     "output_type": "execute_result"
    }
   ],
   "source": [
    "ken.bounds"
   ]
  },
  {
   "cell_type": "code",
   "execution_count": 104,
   "id": "00779b6b-9715-4ac0-bf01-aa71769c5d96",
   "metadata": {},
   "outputs": [
    {
     "name": "stdout",
     "output_type": "stream",
     "text": [
      "POLYGON ((2311037 1848472, 2311037 1848533, 2310911 1848533, 2310911 1848472, 2311037 1848472))\n"
     ]
    },
    {
     "data": {
      "image/svg+xml": [
       "<svg xmlns=\"http://www.w3.org/2000/svg\" xmlns:xlink=\"http://www.w3.org/1999/xlink\" width=\"136.0800000000745\" height=\"100.0\" viewBox=\"2310905.96 1848466.96 136.0800000000745 71.0800000000745\" preserveAspectRatio=\"xMinYMin meet\"><g transform=\"matrix(1,0,0,-1,0,3697005.0)\"><path fill-rule=\"evenodd\" fill=\"#66cc99\" stroke=\"#555555\" stroke-width=\"2.0\" opacity=\"0.6\" d=\"M 2311037.0,1848472.0 L 2311037.0,1848533.0 L 2310911.0,1848533.0 L 2310911.0,1848472.0 L 2311037.0,1848472.0 z\" /></g></svg>"
      ],
      "text/plain": [
       "<shapely.geometry.polygon.Polygon at 0x273b97c7d60>"
      ]
     },
     "execution_count": 104,
     "metadata": {},
     "output_type": "execute_result"
    }
   ],
   "source": [
    "x1 = 2.310911e+06\n",
    "y1 = 1.848472e+06\n",
    "x2 = 2.311037e+06\n",
    "y2 = 1.848533e+06\n",
    "\n",
    "#test = box(minx=x1, miny=y1, maxx=x2, maxy=y2)\n",
    "#print(test)\n",
    "#test"
   ]
  },
  {
   "cell_type": "code",
   "execution_count": null,
   "id": "fb40de9f-2cc3-4fe5-ba7f-2f67841f5e1e",
   "metadata": {},
   "outputs": [],
   "source": []
  },
  {
   "cell_type": "code",
   "execution_count": null,
   "id": "ad2dffbb-5697-41ce-84a0-3a6b7f9d3538",
   "metadata": {},
   "outputs": [],
   "source": []
  },
  {
   "cell_type": "code",
   "execution_count": 10,
   "id": "7ce56df3-ba09-4ae1-a5ed-67c032f129b8",
   "metadata": {},
   "outputs": [
    {
     "name": "stdout",
     "output_type": "stream",
     "text": [
      "FACILITYID                                               PR-E17-G\n",
      "NAME                                                Ghormley Park\n",
      "SUBTYPEFIELD                                                    0\n",
      "FEATURECODE                                                      \n",
      "FULLADDR                                              504 Home St\n",
      "OPERDAYS                                                         \n",
      "OPERHOURS                                                        \n",
      "PARKAREA                                                     7.34\n",
      "PARKURL         https://www.ci.moscow.id.us/parks-rec/parks/Pa...\n",
      "NUMPARKING                                                    0.0\n",
      "RESTROOM                                                      Yes\n",
      "ADACOMPLY                                                        \n",
      "CAMPING                                                        No\n",
      "SWIMMING                                                       No\n",
      "HIKING                                                         No\n",
      "FISHING                                                        No\n",
      "PICNIC                                                        Yes\n",
      "BOATING                                                        No\n",
      "HUNTING                                                        No\n",
      "ROADCYCLE                                                      No\n",
      "MTBCYCLE                                                       No\n",
      "PLAYGROUND                                                    Yes\n",
      "GOLF                                                           No\n",
      "SKI                                                            No\n",
      "SOCCER                                                         No\n",
      "BASEBALL                                                       No\n",
      "BASKETBALL                                                     No\n",
      "STATUS                                                  Developed\n",
      "CLASS                                                 Special Use\n",
      "OWNEDBY                                                         1\n",
      "MAINTBY                                                         1\n",
      "NOTES                                                        City\n",
      "PARKINDEX                                                       G\n",
      "GlobalID                   {916FA34F-34F0-444B-9718-3B7DA79FA21E}\n",
      "geometry              POINT (2308973.479299717 1848631.093892366)\n",
      "Name: 2, dtype: object\n"
     ]
    },
    {
     "data": {
      "text/plain": [
       "<AxesSubplot:>"
      ]
     },
     "execution_count": 10,
     "metadata": {},
     "output_type": "execute_result"
    },
    {
     "data": {
      "image/png": "[encoded data removed]",
      "text/plain": [
       "<Figure size 432x288 with 1 Axes>"
      ]
     },
     "metadata": {
      "needs_background": "light"
     },
     "output_type": "display_data"
    }
   ],
   "source": [
    "i = 2 # Look at one park, for example\n",
    "print(parks.iloc[i])\n",
    "\n",
    "buffer_radius = 200 # What are the units for this?\n",
    "\n",
    "buffered_park = parks.iloc[i:i+1].buffer(buffer_radius) # Careful!  I'm not sure why this is, but geopandas requires a slice here, not a single index\n",
    "    #If you use just one index, it seems to remove all the geopandas properties of the data\n",
    "buffered_park.plot()\n",
    "\n"
   ]
  },
  {
   "cell_type": "markdown",
   "id": "f7205e5e-a333-49db-9006-2471cf7b791b",
   "metadata": {},
   "source": [
    "<div class=\"alert alert-block alert-warning\">\n",
    "\n",
    "## 2. Identifying Moscow residents underserved by city parks.\n",
    "You're an urban planner consulting with the City of Moscow.  The city is interested in increasing the number of parks\n",
    "    within the city, and better designing those parks to meet the needs of those who are currently underserved\n",
    "    by the city's existing parks.  The city wants to begin the planning process by reaching out to these currently\n",
    "    underserved residents, but first the city needs to know who they are.\n",
    "    \n",
    "The city asks you to produce a list of all resident addresses within the city limits whose property is at least 1000 feet\n",
    "    from a current park.\n",
    "    \n",
    "To properly address the letters and questionaires that the city will be sending out, the city would like this list\n",
    "    of residents as a csv file, with each property address on a separate line (property addresses are represented within\n",
    "    the parcels database by the field name \"PM_PROP_AD\").  Produce this file and a map of the underserved parcels.\n",
    "    \n",
    "\n",
    "\n",
    "</div>"
   ]
  },
  {
   "cell_type": "code",
   "execution_count": null,
   "id": "2b62216e-f518-4c05-9dc5-63d8bc44db60",
   "metadata": {},
   "outputs": [],
   "source": []
  },
  {
   "cell_type": "code",
   "execution_count": 11,
   "id": "5dfbb270-4722-481d-9966-4c9724a725dc",
   "metadata": {},
   "outputs": [
    {
     "data": {
      "application/vnd.jupyter.widget-view+json": {
       "model_id": "0dc702cc9d174d64b9be5d55f298f415",
       "version_major": 2,
       "version_minor": 0
      },
      "text/plain": [
       "Canvas(toolbar=Toolbar(toolitems=[('Home', 'Reset original view', 'home', 'home'), ('Back', 'Back to previous …"
      ]
     },
     "metadata": {},
     "output_type": "display_data"
    },
    {
     "data": {
      "text/plain": [
       "(1837691.7277759165, 1858582.946164012)"
      ]
     },
     "execution_count": 11,
     "metadata": {},
     "output_type": "execute_result"
    }
   ],
   "source": [
    "%matplotlib widget\n",
    "\n",
    "fig, ax = plt.subplots()\n",
    "parks.buffer(buffer_radius).plot(ax=ax, color='g')\n",
    "# city_limits.plot(ax=ax, color=None, edgecolor='r')\n",
    "roads.plot(ax=ax)\n",
    "\n",
    "ax.set_xlim( city_limits.bounds.to_numpy()[0][::2] )\n",
    "ax.set_ylim( city_limits.bounds.to_numpy()[0][1::2] )"
   ]
  },
  {
   "cell_type": "code",
   "execution_count": null,
   "id": "4ea3d8b2-6f0c-46f4-b8a1-89d69be35bc5",
   "metadata": {},
   "outputs": [],
   "source": []
  },
  {
   "cell_type": "code",
   "execution_count": 18,
   "id": "84e478e0-bb7e-422c-ba4a-96c43c3cc5aa",
   "metadata": {
    "tags": []
   },
   "outputs": [
    {
     "data": {
      "text/html": [
       "<div>\n",
       "<style scoped>\n",
       "    .dataframe tbody tr th:only-of-type {\n",
       "        vertical-align: middle;\n",
       "    }\n",
       "\n",
       "    .dataframe tbody tr th {\n",
       "        vertical-align: top;\n",
       "    }\n",
       "\n",
       "    .dataframe thead th {\n",
       "        text-align: right;\n",
       "    }\n",
       "</style>\n",
       "<table border=\"1\" class=\"dataframe\">\n",
       "  <thead>\n",
       "    <tr style=\"text-align: right;\">\n",
       "      <th></th>\n",
       "      <th>CENTERLINEID</th>\n",
       "      <th>FROMLEFT</th>\n",
       "      <th>TOLEFT</th>\n",
       "      <th>FROMRIGHT</th>\n",
       "      <th>TORIGHT</th>\n",
       "      <th>FULLNAME</th>\n",
       "      <th>FEDROUTE</th>\n",
       "      <th>FEDRTETYPE</th>\n",
       "      <th>AFEDRTE</th>\n",
       "      <th>AFEDRTETYPE</th>\n",
       "      <th>...</th>\n",
       "      <th>SLOPE</th>\n",
       "      <th>OCI2017</th>\n",
       "      <th>OCI2014</th>\n",
       "      <th>GlobalID</th>\n",
       "      <th>FACILITYID</th>\n",
       "      <th>OCI2019</th>\n",
       "      <th>OCI2020</th>\n",
       "      <th>ADTID</th>\n",
       "      <th>SHAPE_Length</th>\n",
       "      <th>geometry</th>\n",
       "    </tr>\n",
       "  </thead>\n",
       "  <tbody>\n",
       "    <tr>\n",
       "      <th>0</th>\n",
       "      <td>02600</td>\n",
       "      <td>0.0</td>\n",
       "      <td>0.0</td>\n",
       "      <td>0.0</td>\n",
       "      <td>0.0</td>\n",
       "      <td>MAIN ST</td>\n",
       "      <td>None</td>\n",
       "      <td>Other</td>\n",
       "      <td>None</td>\n",
       "      <td>None</td>\n",
       "      <td>...</td>\n",
       "      <td>NaN</td>\n",
       "      <td>58.92</td>\n",
       "      <td>71.66</td>\n",
       "      <td>{E10997BF-346F-493B-9078-ABF3BA07D894}</td>\n",
       "      <td>STREET-02600</td>\n",
       "      <td>96.08</td>\n",
       "      <td>96.08</td>\n",
       "      <td>F19-05</td>\n",
       "      <td>87.664841</td>\n",
       "      <td>MULTILINESTRING ((2310851.729 1847250.622, 231...</td>\n",
       "    </tr>\n",
       "    <tr>\n",
       "      <th>1</th>\n",
       "      <td>01430</td>\n",
       "      <td>0.0</td>\n",
       "      <td>0.0</td>\n",
       "      <td>0.0</td>\n",
       "      <td>0.0</td>\n",
       "      <td>FIRST ST</td>\n",
       "      <td>None</td>\n",
       "      <td>Other</td>\n",
       "      <td>None</td>\n",
       "      <td>None</td>\n",
       "      <td>...</td>\n",
       "      <td>NaN</td>\n",
       "      <td>90.93</td>\n",
       "      <td>98.96</td>\n",
       "      <td>{F2D06156-E244-4542-A0A7-9F47285F09AF}</td>\n",
       "      <td>STREET-01430</td>\n",
       "      <td>86.04</td>\n",
       "      <td>86.04</td>\n",
       "      <td>G16-05</td>\n",
       "      <td>349.983212</td>\n",
       "      <td>MULTILINESTRING ((2310883.550 1849572.726, 231...</td>\n",
       "    </tr>\n",
       "    <tr>\n",
       "      <th>2</th>\n",
       "      <td>02670</td>\n",
       "      <td>102.0</td>\n",
       "      <td>114.0</td>\n",
       "      <td>105.0</td>\n",
       "      <td>205.0</td>\n",
       "      <td>MAIN ST</td>\n",
       "      <td>None</td>\n",
       "      <td>Other</td>\n",
       "      <td>None</td>\n",
       "      <td>None</td>\n",
       "      <td>...</td>\n",
       "      <td>NaN</td>\n",
       "      <td>71.70</td>\n",
       "      <td>100.00</td>\n",
       "      <td>{BF94EEC2-9DBF-42FD-8BA0-31C170DEC8CB}</td>\n",
       "      <td>STREET-02670</td>\n",
       "      <td>80.02</td>\n",
       "      <td>80.02</td>\n",
       "      <td>F17-12</td>\n",
       "      <td>230.721479</td>\n",
       "      <td>MULTILINESTRING ((2310883.464 1849564.375, 231...</td>\n",
       "    </tr>\n",
       "    <tr>\n",
       "      <th>3</th>\n",
       "      <td>02660</td>\n",
       "      <td>204.0</td>\n",
       "      <td>218.0</td>\n",
       "      <td>205.0</td>\n",
       "      <td>221.0</td>\n",
       "      <td>MAIN ST</td>\n",
       "      <td>None</td>\n",
       "      <td>Other</td>\n",
       "      <td>None</td>\n",
       "      <td>None</td>\n",
       "      <td>...</td>\n",
       "      <td>NaN</td>\n",
       "      <td>71.70</td>\n",
       "      <td>100.00</td>\n",
       "      <td>{E4ADA45C-08D8-4C70-B30F-46E1097647A3}</td>\n",
       "      <td>STREET-02660</td>\n",
       "      <td>80.02</td>\n",
       "      <td>80.02</td>\n",
       "      <td>F17-06</td>\n",
       "      <td>239.999980</td>\n",
       "      <td>MULTILINESTRING ((2310880.869 1849333.668, 231...</td>\n",
       "    </tr>\n",
       "    <tr>\n",
       "      <th>4</th>\n",
       "      <td>02650</td>\n",
       "      <td>302.0</td>\n",
       "      <td>318.0</td>\n",
       "      <td>301.0</td>\n",
       "      <td>307.0</td>\n",
       "      <td>MAIN ST</td>\n",
       "      <td>None</td>\n",
       "      <td>Other</td>\n",
       "      <td>None</td>\n",
       "      <td>None</td>\n",
       "      <td>...</td>\n",
       "      <td>NaN</td>\n",
       "      <td>91.97</td>\n",
       "      <td>100.00</td>\n",
       "      <td>{D3CE1840-EC8C-4124-AAEF-4A67AB2B5415}</td>\n",
       "      <td>STREET-02650</td>\n",
       "      <td>95.17</td>\n",
       "      <td>95.17</td>\n",
       "      <td>F17-07</td>\n",
       "      <td>240.667684</td>\n",
       "      <td>MULTILINESTRING ((2310878.196 1849093.683, 231...</td>\n",
       "    </tr>\n",
       "    <tr>\n",
       "      <th>...</th>\n",
       "      <td>...</td>\n",
       "      <td>...</td>\n",
       "      <td>...</td>\n",
       "      <td>...</td>\n",
       "      <td>...</td>\n",
       "      <td>...</td>\n",
       "      <td>...</td>\n",
       "      <td>...</td>\n",
       "      <td>...</td>\n",
       "      <td>...</td>\n",
       "      <td>...</td>\n",
       "      <td>...</td>\n",
       "      <td>...</td>\n",
       "      <td>...</td>\n",
       "      <td>...</td>\n",
       "      <td>...</td>\n",
       "      <td>...</td>\n",
       "      <td>...</td>\n",
       "      <td>...</td>\n",
       "      <td>...</td>\n",
       "      <td>...</td>\n",
       "    </tr>\n",
       "    <tr>\n",
       "      <th>2213</th>\n",
       "      <td>00301</td>\n",
       "      <td>1600.0</td>\n",
       "      <td>1756.0</td>\n",
       "      <td>1601.0</td>\n",
       "      <td>1751.0</td>\n",
       "      <td>THIRD ST</td>\n",
       "      <td>None</td>\n",
       "      <td>Other</td>\n",
       "      <td>None</td>\n",
       "      <td>None</td>\n",
       "      <td>...</td>\n",
       "      <td>5.0</td>\n",
       "      <td>NaN</td>\n",
       "      <td>NaN</td>\n",
       "      <td>{CE44A217-E6DA-4168-A8A9-C28AD394A399}</td>\n",
       "      <td>STREET-00301</td>\n",
       "      <td>NaN</td>\n",
       "      <td>NaN</td>\n",
       "      <td>None</td>\n",
       "      <td>756.596825</td>\n",
       "      <td>MULTILINESTRING ((2316177.219 1849043.781, 231...</td>\n",
       "    </tr>\n",
       "    <tr>\n",
       "      <th>2214</th>\n",
       "      <td>13760</td>\n",
       "      <td>NaN</td>\n",
       "      <td>NaN</td>\n",
       "      <td>NaN</td>\n",
       "      <td>NaN</td>\n",
       "      <td>SOUTHVIEW AVE</td>\n",
       "      <td>None</td>\n",
       "      <td>None</td>\n",
       "      <td>None</td>\n",
       "      <td>None</td>\n",
       "      <td>...</td>\n",
       "      <td>10.0</td>\n",
       "      <td>NaN</td>\n",
       "      <td>NaN</td>\n",
       "      <td>{588D3E9B-7CBE-48D5-94BF-0DB57D0E0442}</td>\n",
       "      <td>STREET-13760</td>\n",
       "      <td>NaN</td>\n",
       "      <td>NaN</td>\n",
       "      <td>None</td>\n",
       "      <td>706.800143</td>\n",
       "      <td>MULTILINESTRING ((2312049.540 1843770.847, 231...</td>\n",
       "    </tr>\n",
       "    <tr>\n",
       "      <th>2215</th>\n",
       "      <td>13765</td>\n",
       "      <td>NaN</td>\n",
       "      <td>NaN</td>\n",
       "      <td>NaN</td>\n",
       "      <td>NaN</td>\n",
       "      <td>SUNNY CT</td>\n",
       "      <td>None</td>\n",
       "      <td>None</td>\n",
       "      <td>None</td>\n",
       "      <td>None</td>\n",
       "      <td>...</td>\n",
       "      <td>7.0</td>\n",
       "      <td>NaN</td>\n",
       "      <td>NaN</td>\n",
       "      <td>{2F896E18-E40F-4BD6-81D2-5DDD91482100}</td>\n",
       "      <td>STREET-13765</td>\n",
       "      <td>NaN</td>\n",
       "      <td>NaN</td>\n",
       "      <td>None</td>\n",
       "      <td>173.316937</td>\n",
       "      <td>MULTILINESTRING ((2312699.813 1843557.137, 231...</td>\n",
       "    </tr>\n",
       "    <tr>\n",
       "      <th>2216</th>\n",
       "      <td>13770</td>\n",
       "      <td>NaN</td>\n",
       "      <td>NaN</td>\n",
       "      <td>NaN</td>\n",
       "      <td>NaN</td>\n",
       "      <td>SOUTHVIEW AVE</td>\n",
       "      <td>None</td>\n",
       "      <td>None</td>\n",
       "      <td>None</td>\n",
       "      <td>None</td>\n",
       "      <td>...</td>\n",
       "      <td>10.0</td>\n",
       "      <td>NaN</td>\n",
       "      <td>NaN</td>\n",
       "      <td>{4BAB6FC8-B24E-49A0-B852-9AF25FD43BF2}</td>\n",
       "      <td>STREET-13770</td>\n",
       "      <td>NaN</td>\n",
       "      <td>NaN</td>\n",
       "      <td>None</td>\n",
       "      <td>221.456644</td>\n",
       "      <td>MULTILINESTRING ((2312699.813 1843557.137, 231...</td>\n",
       "    </tr>\n",
       "    <tr>\n",
       "      <th>2217</th>\n",
       "      <td>14125</td>\n",
       "      <td>NaN</td>\n",
       "      <td>NaN</td>\n",
       "      <td>NaN</td>\n",
       "      <td>NaN</td>\n",
       "      <td>ALICE ST</td>\n",
       "      <td>None</td>\n",
       "      <td>None</td>\n",
       "      <td>None</td>\n",
       "      <td>None</td>\n",
       "      <td>...</td>\n",
       "      <td>12.0</td>\n",
       "      <td>NaN</td>\n",
       "      <td>NaN</td>\n",
       "      <td>{737681F6-3046-4A97-B0DE-D5B3D23470DD}</td>\n",
       "      <td>STREET-14125</td>\n",
       "      <td>NaN</td>\n",
       "      <td>NaN</td>\n",
       "      <td>None</td>\n",
       "      <td>150.310493</td>\n",
       "      <td>MULTILINESTRING ((2312914.864 1843646.154, 231...</td>\n",
       "    </tr>\n",
       "  </tbody>\n",
       "</table>\n",
       "<p>2218 rows × 65 columns</p>\n",
       "</div>"
      ],
      "text/plain": [
       "     CENTERLINEID  FROMLEFT  TOLEFT  FROMRIGHT  TORIGHT       FULLNAME  \\\n",
       "0           02600       0.0     0.0        0.0      0.0        MAIN ST   \n",
       "1           01430       0.0     0.0        0.0      0.0       FIRST ST   \n",
       "2           02670     102.0   114.0      105.0    205.0        MAIN ST   \n",
       "3           02660     204.0   218.0      205.0    221.0        MAIN ST   \n",
       "4           02650     302.0   318.0      301.0    307.0        MAIN ST   \n",
       "...           ...       ...     ...        ...      ...            ...   \n",
       "2213        00301    1600.0  1756.0     1601.0   1751.0       THIRD ST   \n",
       "2214        13760       NaN     NaN        NaN      NaN  SOUTHVIEW AVE   \n",
       "2215        13765       NaN     NaN        NaN      NaN       SUNNY CT   \n",
       "2216        13770       NaN     NaN        NaN      NaN  SOUTHVIEW AVE   \n",
       "2217        14125       NaN     NaN        NaN      NaN       ALICE ST   \n",
       "\n",
       "     FEDROUTE FEDRTETYPE AFEDRTE AFEDRTETYPE  ... SLOPE OCI2017 OCI2014  \\\n",
       "0        None      Other    None        None  ...   NaN   58.92   71.66   \n",
       "1        None      Other    None        None  ...   NaN   90.93   98.96   \n",
       "2        None      Other    None        None  ...   NaN   71.70  100.00   \n",
       "3        None      Other    None        None  ...   NaN   71.70  100.00   \n",
       "4        None      Other    None        None  ...   NaN   91.97  100.00   \n",
       "...       ...        ...     ...         ...  ...   ...     ...     ...   \n",
       "2213     None      Other    None        None  ...   5.0     NaN     NaN   \n",
       "2214     None       None    None        None  ...  10.0     NaN     NaN   \n",
       "2215     None       None    None        None  ...   7.0     NaN     NaN   \n",
       "2216     None       None    None        None  ...  10.0     NaN     NaN   \n",
       "2217     None       None    None        None  ...  12.0     NaN     NaN   \n",
       "\n",
       "                                    GlobalID    FACILITYID OCI2019 OCI2020  \\\n",
       "0     {E10997BF-346F-493B-9078-ABF3BA07D894}  STREET-02600   96.08   96.08   \n",
       "1     {F2D06156-E244-4542-A0A7-9F47285F09AF}  STREET-01430   86.04   86.04   \n",
       "2     {BF94EEC2-9DBF-42FD-8BA0-31C170DEC8CB}  STREET-02670   80.02   80.02   \n",
       "3     {E4ADA45C-08D8-4C70-B30F-46E1097647A3}  STREET-02660   80.02   80.02   \n",
       "4     {D3CE1840-EC8C-4124-AAEF-4A67AB2B5415}  STREET-02650   95.17   95.17   \n",
       "...                                      ...           ...     ...     ...   \n",
       "2213  {CE44A217-E6DA-4168-A8A9-C28AD394A399}  STREET-00301     NaN     NaN   \n",
       "2214  {588D3E9B-7CBE-48D5-94BF-0DB57D0E0442}  STREET-13760     NaN     NaN   \n",
       "2215  {2F896E18-E40F-4BD6-81D2-5DDD91482100}  STREET-13765     NaN     NaN   \n",
       "2216  {4BAB6FC8-B24E-49A0-B852-9AF25FD43BF2}  STREET-13770     NaN     NaN   \n",
       "2217  {737681F6-3046-4A97-B0DE-D5B3D23470DD}  STREET-14125     NaN     NaN   \n",
       "\n",
       "       ADTID  SHAPE_Length                                           geometry  \n",
       "0     F19-05     87.664841  MULTILINESTRING ((2310851.729 1847250.622, 231...  \n",
       "1     G16-05    349.983212  MULTILINESTRING ((2310883.550 1849572.726, 231...  \n",
       "2     F17-12    230.721479  MULTILINESTRING ((2310883.464 1849564.375, 231...  \n",
       "3     F17-06    239.999980  MULTILINESTRING ((2310880.869 1849333.668, 231...  \n",
       "4     F17-07    240.667684  MULTILINESTRING ((2310878.196 1849093.683, 231...  \n",
       "...      ...           ...                                                ...  \n",
       "2213    None    756.596825  MULTILINESTRING ((2316177.219 1849043.781, 231...  \n",
       "2214    None    706.800143  MULTILINESTRING ((2312049.540 1843770.847, 231...  \n",
       "2215    None    173.316937  MULTILINESTRING ((2312699.813 1843557.137, 231...  \n",
       "2216    None    221.456644  MULTILINESTRING ((2312699.813 1843557.137, 231...  \n",
       "2217    None    150.310493  MULTILINESTRING ((2312914.864 1843646.154, 231...  \n",
       "\n",
       "[2218 rows x 65 columns]"
      ]
     },
     "execution_count": 18,
     "metadata": {},
     "output_type": "execute_result"
    }
   ],
   "source": [
    "roads"
   ]
  },
  {
   "cell_type": "code",
   "execution_count": 105,
   "id": "c868f1c6-c4d1-4f22-a07d-60e522dc9382",
   "metadata": {},
   "outputs": [
    {
     "data": {
      "text/plain": [
       "Index(['LANDUSECODE', 'LANDUSEDESC', 'BASEELEV', 'HEIGHT', 'LASTUPDATE',\n",
       "       'LASTEDITOR', 'SUBTYPECODE', 'SUBTYPEDESC', 'PARCELID', 'ADDRESS',\n",
       "       'LOCDESC', 'GlobalID', 'SHAPE_Length', 'SHAPE_Area', 'geometry'],\n",
       "      dtype='object')"
      ]
     },
     "execution_count": 105,
     "metadata": {},
     "output_type": "execute_result"
    }
   ],
   "source": [
    "zoning.columns"
   ]
  },
  {
   "cell_type": "code",
   "execution_count": 12,
   "id": "c5573dbc-9750-43d9-b738-2ea45d442b0c",
   "metadata": {},
   "outputs": [
    {
     "data": {
      "text/plain": [
       "array(['Auto-Urban Residential', 'University',\n",
       "       'Parks, Recreation, and Open Space',\n",
       "       'Auto-Urban Residential, Medium Density', 'Urban Commercial',\n",
       "       'Urban Residential, Medium Density', 'Urban Residential',\n",
       "       'Suburban Residential', 'Public and Semi-Public',\n",
       "       'Auto-Urban Commercial', 'Vacant', 'Auto-Urban Industrial',\n",
       "       'Agricultural', 'Research/Technology Park', '',\n",
       "       'Suburban Commercial'], dtype=object)"
      ]
     },
     "execution_count": 12,
     "metadata": {},
     "output_type": "execute_result"
    }
   ],
   "source": [
    "zoning['LANDUSEDESC'].unique()"
   ]
  },
  {
   "cell_type": "code",
   "execution_count": 13,
   "id": "39000fc1-bc15-42ff-8140-c7dca15d0304",
   "metadata": {},
   "outputs": [
    {
     "data": {
      "text/plain": [
       "array(['111', '750', '800', '109', '250', '115', '110', '120', '700',\n",
       "       '200', '11', '400', '900', '999', '0', '150', None], dtype=object)"
      ]
     },
     "execution_count": 13,
     "metadata": {},
     "output_type": "execute_result"
    }
   ],
   "source": [
    "zoning['LANDUSECODE'].unique()"
   ]
  },
  {
   "cell_type": "code",
   "execution_count": 14,
   "id": "b3bbe430-5a94-453e-a5a4-6421b573dbde",
   "metadata": {},
   "outputs": [],
   "source": [
    "# We can measure the distance between any parcel and a point near the center of downtown Moscow\n",
    "from shapely.geometry import Point\n",
    "parcels['Dwntn_dist'] = parcels.distance(Point(2.311e6, 1.849e6))"
   ]
  },
  {
   "cell_type": "markdown",
   "id": "888862c3-cee8-4bc4-9b87-8a2c7850d04a",
   "metadata": {},
   "source": [
    "#### Visualizing the data\n",
    "I think each of the plots below is interesting.  Try commenting and uncommenting each one"
   ]
  },
  {
   "cell_type": "code",
   "execution_count": 16,
   "id": "b7607691-1387-4e20-930d-cfa47e3992dd",
   "metadata": {
    "tags": []
   },
   "outputs": [
    {
     "data": {
      "application/vnd.jupyter.widget-view+json": {
       "model_id": "1a8cf2cf9bfb4288ab0d3ba02152197a",
       "version_major": 2,
       "version_minor": 0
      },
      "text/plain": [
       "Canvas(toolbar=Toolbar(toolitems=[('Home', 'Reset original view', 'home', 'home'), ('Back', 'Back to previous …"
      ]
     },
     "metadata": {},
     "output_type": "display_data"
    },
    {
     "ename": "KeyError",
     "evalue": "'SaleYear'",
     "output_type": "error",
     "traceback": [
      "\u001b[1;31m---------------------------------------------------------------------------\u001b[0m",
      "\u001b[1;31mKeyError\u001b[0m                                  Traceback (most recent call last)",
      "\u001b[1;32mC:\\python\\envs\\GISenv21b\\lib\\site-packages\\pandas\\core\\indexes\\base.py\u001b[0m in \u001b[0;36mget_loc\u001b[1;34m(self, key, method, tolerance)\u001b[0m\n\u001b[0;32m   3360\u001b[0m             \u001b[1;32mtry\u001b[0m\u001b[1;33m:\u001b[0m\u001b[1;33m\u001b[0m\u001b[1;33m\u001b[0m\u001b[0m\n\u001b[1;32m-> 3361\u001b[1;33m                 \u001b[1;32mreturn\u001b[0m \u001b[0mself\u001b[0m\u001b[1;33m.\u001b[0m\u001b[0m_engine\u001b[0m\u001b[1;33m.\u001b[0m\u001b[0mget_loc\u001b[0m\u001b[1;33m(\u001b[0m\u001b[0mcasted_key\u001b[0m\u001b[1;33m)\u001b[0m\u001b[1;33m\u001b[0m\u001b[1;33m\u001b[0m\u001b[0m\n\u001b[0m\u001b[0;32m   3362\u001b[0m             \u001b[1;32mexcept\u001b[0m \u001b[0mKeyError\u001b[0m \u001b[1;32mas\u001b[0m \u001b[0merr\u001b[0m\u001b[1;33m:\u001b[0m\u001b[1;33m\u001b[0m\u001b[1;33m\u001b[0m\u001b[0m\n",
      "\u001b[1;32mC:\\python\\envs\\GISenv21b\\lib\\site-packages\\pandas\\_libs\\index.pyx\u001b[0m in \u001b[0;36mpandas._libs.index.IndexEngine.get_loc\u001b[1;34m()\u001b[0m\n",
      "\u001b[1;32mC:\\python\\envs\\GISenv21b\\lib\\site-packages\\pandas\\_libs\\index.pyx\u001b[0m in \u001b[0;36mpandas._libs.index.IndexEngine.get_loc\u001b[1;34m()\u001b[0m\n",
      "\u001b[1;32mpandas\\_libs\\hashtable_class_helper.pxi\u001b[0m in \u001b[0;36mpandas._libs.hashtable.PyObjectHashTable.get_item\u001b[1;34m()\u001b[0m\n",
      "\u001b[1;32mpandas\\_libs\\hashtable_class_helper.pxi\u001b[0m in \u001b[0;36mpandas._libs.hashtable.PyObjectHashTable.get_item\u001b[1;34m()\u001b[0m\n",
      "\u001b[1;31mKeyError\u001b[0m: 'SaleYear'",
      "\nThe above exception was the direct cause of the following exception:\n",
      "\u001b[1;31mKeyError\u001b[0m                                  Traceback (most recent call last)",
      "\u001b[1;32mC:\\Users\\DANIEL~1\\AppData\\Local\\Temp/ipykernel_17076/1927639684.py\u001b[0m in \u001b[0;36m<module>\u001b[1;34m\u001b[0m\n\u001b[0;32m      5\u001b[0m \u001b[1;31m# parcels.plot(column='Dwntn_dist', ax=ax, legend=True, vmax=5280);\u001b[0m\u001b[1;33m\u001b[0m\u001b[1;33m\u001b[0m\u001b[1;33m\u001b[0m\u001b[0m\n\u001b[0;32m      6\u001b[0m \u001b[1;31m#zoning.plot(column='LANDUSEDESC', ax=ax, legend=True, cmap='tab20')\u001b[0m\u001b[1;33m\u001b[0m\u001b[1;33m\u001b[0m\u001b[1;33m\u001b[0m\u001b[0m\n\u001b[1;32m----> 7\u001b[1;33m \u001b[0mparcels\u001b[0m\u001b[1;33m.\u001b[0m\u001b[0mplot\u001b[0m\u001b[1;33m(\u001b[0m\u001b[0mcolumn\u001b[0m\u001b[1;33m=\u001b[0m \u001b[1;34m'SaleYear'\u001b[0m\u001b[1;33m,\u001b[0m \u001b[0max\u001b[0m\u001b[1;33m=\u001b[0m\u001b[0max\u001b[0m\u001b[1;33m,\u001b[0m \u001b[0mlegend\u001b[0m\u001b[1;33m=\u001b[0m\u001b[1;32mTrue\u001b[0m\u001b[1;33m,\u001b[0m \u001b[0mvmin\u001b[0m\u001b[1;33m=\u001b[0m\u001b[1;36m1990\u001b[0m\u001b[1;33m)\u001b[0m\u001b[1;33m\u001b[0m\u001b[1;33m\u001b[0m\u001b[0m\n\u001b[0m\u001b[0;32m      8\u001b[0m \u001b[1;33m\u001b[0m\u001b[0m\n\u001b[0;32m      9\u001b[0m \u001b[0max\u001b[0m\u001b[1;33m.\u001b[0m\u001b[0mset_xlim\u001b[0m\u001b[1;33m(\u001b[0m \u001b[0mcity_limits\u001b[0m\u001b[1;33m.\u001b[0m\u001b[0mbounds\u001b[0m\u001b[1;33m.\u001b[0m\u001b[0mto_numpy\u001b[0m\u001b[1;33m(\u001b[0m\u001b[1;33m)\u001b[0m\u001b[1;33m[\u001b[0m\u001b[1;36m0\u001b[0m\u001b[1;33m]\u001b[0m\u001b[1;33m[\u001b[0m\u001b[1;33m:\u001b[0m\u001b[1;33m:\u001b[0m\u001b[1;36m2\u001b[0m\u001b[1;33m]\u001b[0m \u001b[1;33m)\u001b[0m\u001b[1;33m\u001b[0m\u001b[1;33m\u001b[0m\u001b[0m\n",
      "\u001b[1;32mC:\\python\\envs\\GISenv21b\\lib\\site-packages\\geopandas\\plotting.py\u001b[0m in \u001b[0;36m__call__\u001b[1;34m(self, *args, **kwargs)\u001b[0m\n\u001b[0;32m    923\u001b[0m             \u001b[0mkind\u001b[0m \u001b[1;33m=\u001b[0m \u001b[0mkwargs\u001b[0m\u001b[1;33m.\u001b[0m\u001b[0mpop\u001b[0m\u001b[1;33m(\u001b[0m\u001b[1;34m\"kind\"\u001b[0m\u001b[1;33m,\u001b[0m \u001b[1;34m\"geo\"\u001b[0m\u001b[1;33m)\u001b[0m\u001b[1;33m\u001b[0m\u001b[1;33m\u001b[0m\u001b[0m\n\u001b[0;32m    924\u001b[0m             \u001b[1;32mif\u001b[0m \u001b[0mkind\u001b[0m \u001b[1;33m==\u001b[0m \u001b[1;34m\"geo\"\u001b[0m\u001b[1;33m:\u001b[0m\u001b[1;33m\u001b[0m\u001b[1;33m\u001b[0m\u001b[0m\n\u001b[1;32m--> 925\u001b[1;33m                 \u001b[1;32mreturn\u001b[0m \u001b[0mplot_dataframe\u001b[0m\u001b[1;33m(\u001b[0m\u001b[0mdata\u001b[0m\u001b[1;33m,\u001b[0m \u001b[1;33m*\u001b[0m\u001b[0margs\u001b[0m\u001b[1;33m,\u001b[0m \u001b[1;33m**\u001b[0m\u001b[0mkwargs\u001b[0m\u001b[1;33m)\u001b[0m\u001b[1;33m\u001b[0m\u001b[1;33m\u001b[0m\u001b[0m\n\u001b[0m\u001b[0;32m    926\u001b[0m             \u001b[1;32mif\u001b[0m \u001b[0mkind\u001b[0m \u001b[1;32min\u001b[0m \u001b[0mself\u001b[0m\u001b[1;33m.\u001b[0m\u001b[0m_pandas_kinds\u001b[0m\u001b[1;33m:\u001b[0m\u001b[1;33m\u001b[0m\u001b[1;33m\u001b[0m\u001b[0m\n\u001b[0;32m    927\u001b[0m                 \u001b[1;31m# Access pandas plots\u001b[0m\u001b[1;33m\u001b[0m\u001b[1;33m\u001b[0m\u001b[1;33m\u001b[0m\u001b[0m\n",
      "\u001b[1;32mC:\\python\\envs\\GISenv21b\\lib\\site-packages\\geopandas\\plotting.py\u001b[0m in \u001b[0;36mplot_dataframe\u001b[1;34m(df, column, cmap, color, ax, cax, categorical, legend, scheme, k, vmin, vmax, markersize, figsize, legend_kwds, categories, classification_kwds, missing_kwds, aspect, **style_kwds)\u001b[0m\n\u001b[0;32m    711\u001b[0m                 \u001b[0mvalues\u001b[0m \u001b[1;33m=\u001b[0m \u001b[0mvalues\u001b[0m\u001b[1;33m.\u001b[0m\u001b[0mreindex\u001b[0m\u001b[1;33m(\u001b[0m\u001b[0mdf\u001b[0m\u001b[1;33m.\u001b[0m\u001b[0mindex\u001b[0m\u001b[1;33m)\u001b[0m\u001b[1;33m\u001b[0m\u001b[1;33m\u001b[0m\u001b[0m\n\u001b[0;32m    712\u001b[0m     \u001b[1;32melse\u001b[0m\u001b[1;33m:\u001b[0m\u001b[1;33m\u001b[0m\u001b[1;33m\u001b[0m\u001b[0m\n\u001b[1;32m--> 713\u001b[1;33m         \u001b[0mvalues\u001b[0m \u001b[1;33m=\u001b[0m \u001b[0mdf\u001b[0m\u001b[1;33m[\u001b[0m\u001b[0mcolumn\u001b[0m\u001b[1;33m]\u001b[0m\u001b[1;33m\u001b[0m\u001b[1;33m\u001b[0m\u001b[0m\n\u001b[0m\u001b[0;32m    714\u001b[0m \u001b[1;33m\u001b[0m\u001b[0m\n\u001b[0;32m    715\u001b[0m     \u001b[1;32mif\u001b[0m \u001b[0mpd\u001b[0m\u001b[1;33m.\u001b[0m\u001b[0mapi\u001b[0m\u001b[1;33m.\u001b[0m\u001b[0mtypes\u001b[0m\u001b[1;33m.\u001b[0m\u001b[0mis_categorical_dtype\u001b[0m\u001b[1;33m(\u001b[0m\u001b[0mvalues\u001b[0m\u001b[1;33m.\u001b[0m\u001b[0mdtype\u001b[0m\u001b[1;33m)\u001b[0m\u001b[1;33m:\u001b[0m\u001b[1;33m\u001b[0m\u001b[1;33m\u001b[0m\u001b[0m\n",
      "\u001b[1;32mC:\\python\\envs\\GISenv21b\\lib\\site-packages\\geopandas\\geodataframe.py\u001b[0m in \u001b[0;36m__getitem__\u001b[1;34m(self, key)\u001b[0m\n\u001b[0;32m   1297\u001b[0m         \u001b[0mGeoDataFrame\u001b[0m\u001b[1;33m.\u001b[0m\u001b[1;33m\u001b[0m\u001b[1;33m\u001b[0m\u001b[0m\n\u001b[0;32m   1298\u001b[0m         \"\"\"\n\u001b[1;32m-> 1299\u001b[1;33m         \u001b[0mresult\u001b[0m \u001b[1;33m=\u001b[0m \u001b[0msuper\u001b[0m\u001b[1;33m(\u001b[0m\u001b[0mGeoDataFrame\u001b[0m\u001b[1;33m,\u001b[0m \u001b[0mself\u001b[0m\u001b[1;33m)\u001b[0m\u001b[1;33m.\u001b[0m\u001b[0m__getitem__\u001b[0m\u001b[1;33m(\u001b[0m\u001b[0mkey\u001b[0m\u001b[1;33m)\u001b[0m\u001b[1;33m\u001b[0m\u001b[1;33m\u001b[0m\u001b[0m\n\u001b[0m\u001b[0;32m   1300\u001b[0m         \u001b[0mgeo_col\u001b[0m \u001b[1;33m=\u001b[0m \u001b[0mself\u001b[0m\u001b[1;33m.\u001b[0m\u001b[0m_geometry_column_name\u001b[0m\u001b[1;33m\u001b[0m\u001b[1;33m\u001b[0m\u001b[0m\n\u001b[0;32m   1301\u001b[0m         \u001b[1;32mif\u001b[0m \u001b[0misinstance\u001b[0m\u001b[1;33m(\u001b[0m\u001b[0mresult\u001b[0m\u001b[1;33m,\u001b[0m \u001b[0mSeries\u001b[0m\u001b[1;33m)\u001b[0m \u001b[1;32mand\u001b[0m \u001b[0misinstance\u001b[0m\u001b[1;33m(\u001b[0m\u001b[0mresult\u001b[0m\u001b[1;33m.\u001b[0m\u001b[0mdtype\u001b[0m\u001b[1;33m,\u001b[0m \u001b[0mGeometryDtype\u001b[0m\u001b[1;33m)\u001b[0m\u001b[1;33m:\u001b[0m\u001b[1;33m\u001b[0m\u001b[1;33m\u001b[0m\u001b[0m\n",
      "\u001b[1;32mC:\\python\\envs\\GISenv21b\\lib\\site-packages\\pandas\\core\\frame.py\u001b[0m in \u001b[0;36m__getitem__\u001b[1;34m(self, key)\u001b[0m\n\u001b[0;32m   3453\u001b[0m             \u001b[1;32mif\u001b[0m \u001b[0mself\u001b[0m\u001b[1;33m.\u001b[0m\u001b[0mcolumns\u001b[0m\u001b[1;33m.\u001b[0m\u001b[0mnlevels\u001b[0m \u001b[1;33m>\u001b[0m \u001b[1;36m1\u001b[0m\u001b[1;33m:\u001b[0m\u001b[1;33m\u001b[0m\u001b[1;33m\u001b[0m\u001b[0m\n\u001b[0;32m   3454\u001b[0m                 \u001b[1;32mreturn\u001b[0m \u001b[0mself\u001b[0m\u001b[1;33m.\u001b[0m\u001b[0m_getitem_multilevel\u001b[0m\u001b[1;33m(\u001b[0m\u001b[0mkey\u001b[0m\u001b[1;33m)\u001b[0m\u001b[1;33m\u001b[0m\u001b[1;33m\u001b[0m\u001b[0m\n\u001b[1;32m-> 3455\u001b[1;33m             \u001b[0mindexer\u001b[0m \u001b[1;33m=\u001b[0m \u001b[0mself\u001b[0m\u001b[1;33m.\u001b[0m\u001b[0mcolumns\u001b[0m\u001b[1;33m.\u001b[0m\u001b[0mget_loc\u001b[0m\u001b[1;33m(\u001b[0m\u001b[0mkey\u001b[0m\u001b[1;33m)\u001b[0m\u001b[1;33m\u001b[0m\u001b[1;33m\u001b[0m\u001b[0m\n\u001b[0m\u001b[0;32m   3456\u001b[0m             \u001b[1;32mif\u001b[0m \u001b[0mis_integer\u001b[0m\u001b[1;33m(\u001b[0m\u001b[0mindexer\u001b[0m\u001b[1;33m)\u001b[0m\u001b[1;33m:\u001b[0m\u001b[1;33m\u001b[0m\u001b[1;33m\u001b[0m\u001b[0m\n\u001b[0;32m   3457\u001b[0m                 \u001b[0mindexer\u001b[0m \u001b[1;33m=\u001b[0m \u001b[1;33m[\u001b[0m\u001b[0mindexer\u001b[0m\u001b[1;33m]\u001b[0m\u001b[1;33m\u001b[0m\u001b[1;33m\u001b[0m\u001b[0m\n",
      "\u001b[1;32mC:\\python\\envs\\GISenv21b\\lib\\site-packages\\pandas\\core\\indexes\\base.py\u001b[0m in \u001b[0;36mget_loc\u001b[1;34m(self, key, method, tolerance)\u001b[0m\n\u001b[0;32m   3361\u001b[0m                 \u001b[1;32mreturn\u001b[0m \u001b[0mself\u001b[0m\u001b[1;33m.\u001b[0m\u001b[0m_engine\u001b[0m\u001b[1;33m.\u001b[0m\u001b[0mget_loc\u001b[0m\u001b[1;33m(\u001b[0m\u001b[0mcasted_key\u001b[0m\u001b[1;33m)\u001b[0m\u001b[1;33m\u001b[0m\u001b[1;33m\u001b[0m\u001b[0m\n\u001b[0;32m   3362\u001b[0m             \u001b[1;32mexcept\u001b[0m \u001b[0mKeyError\u001b[0m \u001b[1;32mas\u001b[0m \u001b[0merr\u001b[0m\u001b[1;33m:\u001b[0m\u001b[1;33m\u001b[0m\u001b[1;33m\u001b[0m\u001b[0m\n\u001b[1;32m-> 3363\u001b[1;33m                 \u001b[1;32mraise\u001b[0m \u001b[0mKeyError\u001b[0m\u001b[1;33m(\u001b[0m\u001b[0mkey\u001b[0m\u001b[1;33m)\u001b[0m \u001b[1;32mfrom\u001b[0m \u001b[0merr\u001b[0m\u001b[1;33m\u001b[0m\u001b[1;33m\u001b[0m\u001b[0m\n\u001b[0m\u001b[0;32m   3364\u001b[0m \u001b[1;33m\u001b[0m\u001b[0m\n\u001b[0;32m   3365\u001b[0m         \u001b[1;32mif\u001b[0m \u001b[0mis_scalar\u001b[0m\u001b[1;33m(\u001b[0m\u001b[0mkey\u001b[0m\u001b[1;33m)\u001b[0m \u001b[1;32mand\u001b[0m \u001b[0misna\u001b[0m\u001b[1;33m(\u001b[0m\u001b[0mkey\u001b[0m\u001b[1;33m)\u001b[0m \u001b[1;32mand\u001b[0m \u001b[1;32mnot\u001b[0m \u001b[0mself\u001b[0m\u001b[1;33m.\u001b[0m\u001b[0mhasnans\u001b[0m\u001b[1;33m:\u001b[0m\u001b[1;33m\u001b[0m\u001b[1;33m\u001b[0m\u001b[0m\n",
      "\u001b[1;31mKeyError\u001b[0m: 'SaleYear'"
     ]
    }
   ],
   "source": [
    "%matplotlib widget\n",
    "fig, ax = plt.subplots( figsize=(8,8) )\n",
    "\n",
    "# These are a few of the interesting plots to look at.\n",
    "# parcels.plot(column='Dwntn_dist', ax=ax, legend=True, vmax=5280);\n",
    "#zoning.plot(column='LANDUSEDESC', ax=ax, legend=True, cmap='tab20')\n",
    "#parcels.plot(column= 'SaleYear', ax=ax, legend=True, vmin=1990)\n",
    "\n",
    "ax.set_xlim( city_limits.bounds.to_numpy()[0][::2] )\n",
    "ax.set_ylim( city_limits.bounds.to_numpy()[0][1::2] )\n",
    "\n",
    "roads.plot(ax=ax, color='gray')\n"
   ]
  },
  {
   "cell_type": "code",
   "execution_count": null,
   "id": "503a63fb-7da7-4a39-a953-aa34356c78eb",
   "metadata": {},
   "outputs": [],
   "source": []
  },
  {
   "cell_type": "markdown",
   "id": "9a0adbd0-ef1d-4d0d-bdfc-f43eefac496a",
   "metadata": {},
   "source": [
    "### Property sales over time\n",
    "Similar to the assignment from last week, we can look at the property sales as a function of time."
   ]
  },
  {
   "cell_type": "code",
   "execution_count": null,
   "id": "f9122c77-a7eb-44b5-8842-4e9c6188e063",
   "metadata": {
    "tags": []
   },
   "outputs": [],
   "source": [
    "import pandas as pd\n",
    "print( parcels['PM_DEEDCDT'].astype(str)[:4] )\n",
    "\n",
    "parcels['SaleDate'] = pd.to_datetime(\n",
    "    parcels['PM_DEEDCDT'], \n",
    "    errors='coerce', \n",
    "    format='%Y%m%d')\n"
   ]
  },
  {
   "cell_type": "code",
   "execution_count": null,
   "id": "a9aa8268-4752-4ed8-bbdc-3fa9da2ae504",
   "metadata": {
    "tags": []
   },
   "outputs": [],
   "source": [
    "parcels['SaleDate']"
   ]
  },
  {
   "cell_type": "code",
   "execution_count": null,
   "id": "596b9caa-d2ba-4e79-9c36-ab5bb1d8ee5e",
   "metadata": {
    "tags": []
   },
   "outputs": [],
   "source": [
    "dates = parcels['PM_DEEDCDT'].to_numpy() # Pull out all the sale dates (initially floats)\n",
    "yr = np.full( dates.shape, np.nan ) # initialize a variable full of nans\n",
    "\n",
    "for i in range(len(dates)): \n",
    "    if dates[i] > 0:\n",
    "        yr[i] = int( str(dates[i])[:4] )\n",
    "    else:\n",
    "        yr[i] = np.nan\n",
    "\n",
    "parcels['SaleYear'] = yr # Create a new column for the parcels data frame representing sale year\n"
   ]
  },
  {
   "cell_type": "code",
   "execution_count": null,
   "id": "0b191054-8968-468b-95fc-818168d3dd24",
   "metadata": {},
   "outputs": [],
   "source": [
    "bin_size = np.timedelta64(365, 'D')/12 # days\n",
    "fig, ax = plt.subplots()\n",
    "ax.hist(parcels['SaleDate'], bins=np.arange(np.datetime64('1990-01-01'), \n",
    "                                            np.datetime64('2022-01-01'), \n",
    "                                            bin_size ) )\n",
    "ylabel_text = 'Number of property sales in Moscow\\nper ' + str(bin_size.astype(int)) + ' days'\n",
    "ax.set_ylabel(ylabel_text)\n",
    "ax.set_xlim(np.datetime64('2000-01-01'), np.datetime64('2022-01-01') );\n",
    "# ax.set_xlim(np.datetime64('2010-12-15'), np.datetime64('2011-01-01') )\n",
    "\n",
    "# Note that the sales at the end of 2010 are anomalous, and are all recorded on the same day.\n",
    "# That's suspicious and Tim thinks that it must be some change in accounting or record keeping."
   ]
  },
  {
   "cell_type": "code",
   "execution_count": null,
   "id": "2879d473-3042-4ade-84d4-710316070305",
   "metadata": {},
   "outputs": [],
   "source": []
  },
  {
   "cell_type": "code",
   "execution_count": null,
   "id": "e8d34e19-eca3-4bef-a8c8-fd0b2a29291c",
   "metadata": {},
   "outputs": [],
   "source": []
  },
  {
   "cell_type": "code",
   "execution_count": null,
   "id": "7e440059-dbf3-48b7-8712-530c5cdcf08e",
   "metadata": {},
   "outputs": [],
   "source": []
  },
  {
   "cell_type": "markdown",
   "id": "38c893b8-ffb6-4e1d-8086-58550738aae1",
   "metadata": {},
   "source": [
    "<div class=\"alert alert-block alert-warning\">\n",
    "\n",
    "## 3. Investing in downtown property\n",
    "You are the GIS consultant for a property investment company that specializes in\n",
    "downtown and higher-density properties.  Your company is considering Moscow real estate.\n",
    "You've heard about the boom in sales within the city, and your company would like to know how competitive\n",
    "property purchasing will be, or if they will be able to drive a hard bargin.\n",
    "\n",
    "Has the downtown property market heated up as much as within the city as a whole?\n",
    "Compare sale rates within two of the zoned downtown regions with those of the city as a whole.\n",
    "    \n",
    "Is there anything else in these data that you would like to share with your colleagues\n",
    "    that could help advise them as you consider this investment?\n",
    "</div>"
   ]
  },
  {
   "cell_type": "code",
   "execution_count": null,
   "id": "05af443a-5298-4f8d-bc5c-bab21766867f",
   "metadata": {},
   "outputs": [],
   "source": []
  },
  {
   "cell_type": "code",
   "execution_count": null,
   "id": "dd47c505-6dc3-4260-96d4-63d9a339a7a4",
   "metadata": {},
   "outputs": [],
   "source": []
  },
  {
   "cell_type": "code",
   "execution_count": null,
   "id": "ffc07ba7-d10c-4558-a6ef-eaedf9ceb381",
   "metadata": {},
   "outputs": [],
   "source": []
  },
  {
   "cell_type": "markdown",
   "id": "ace97372-6cee-4ffd-9efa-8dd0a927a30d",
   "metadata": {},
   "source": [
    "<div class=\"alert alert-block alert-warning\">\n",
    "\n",
    "## 4. Find, plot, work with data of your own\n",
    "Find a spatial, vector dataset of your choosing (by googling, from another class, \n",
    "    or from a research project of yours). This could be climate data, geologic units,\n",
    "    census data, ecological units, demographic data, etc. Download or copy this dataset\n",
    "    into the current directory, plot it, and use geopandas to draw on the attributes \n",
    "    of that data (even just lengths, areas, etc) and tell me something about that data.\n",
    "</div>"
   ]
  },
  {
   "cell_type": "code",
   "execution_count": null,
   "id": "9aa5b7c7-cb2a-4b03-9d06-5ad1087b4a7e",
   "metadata": {},
   "outputs": [],
   "source": []
  },
  {
   "cell_type": "code",
   "execution_count": null,
   "id": "36308327-5753-4e9b-94a1-14c72fffb926",
   "metadata": {},
   "outputs": [],
   "source": []
  },
  {
   "cell_type": "code",
   "execution_count": null,
   "id": "847e31b2-776c-4ca1-8c7a-dfcbcaa2f2a4",
   "metadata": {},
   "outputs": [],
   "source": []
  }
 ],
 "metadata": {
  "kernelspec": {
   "display_name": "Python [conda env:GISenv21b] *",
   "language": "python",
   "name": "conda-env-GISenv21b-py"
  },
  "language_info": {
   "codemirror_mode": {
    "name": "ipython",
    "version": 3
   },
   "file_extension": ".py",
   "mimetype": "text/x-python",
   "name": "python",
   "nbconvert_exporter": "python",
   "pygments_lexer": "ipython3",
   "version": "3.9.6"
  }
 },
 "nbformat": 4,
 "nbformat_minor": 5
}

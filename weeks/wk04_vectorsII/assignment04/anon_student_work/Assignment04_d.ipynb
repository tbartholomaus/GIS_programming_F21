{
 "cells": [
  {
   "cell_type": "markdown",
   "id": "b14b20c6-4f6d-4d35-98c0-095d4b9c01c3",
   "metadata": {},
   "source": [
    "# Assignment 04\n"
   ]
  },
  {
   "cell_type": "code",
   "execution_count": null,
   "id": "b38efdc7-7f92-4a40-9178-7c0f61cfc5fd",
   "metadata": {},
   "outputs": [],
   "source": []
  },
  {
   "cell_type": "code",
   "execution_count": 1,
   "id": "f4a70078-b2c0-4a6b-b270-7575dbcd8eda",
   "metadata": {},
   "outputs": [],
   "source": [
    "import numpy as np\n",
    "import matplotlib.pyplot as plt\n",
    "from pathlib import Path\n",
    "\n",
    "import geopandas as gpd"
   ]
  },
  {
   "cell_type": "code",
   "execution_count": 2,
   "id": "f036393c-ec90-4fec-a144-de07755f16fc",
   "metadata": {},
   "outputs": [],
   "source": [
    "datasets_dir = Path('../../../datasets')\n",
    "# ls ../../"
   ]
  },
  {
   "cell_type": "code",
   "execution_count": 3,
   "id": "2e77bc7a-41dc-4ac4-baea-5bbe28e4a040",
   "metadata": {},
   "outputs": [
    {
     "data": {
      "text/plain": [
       "WindowsPath('../../../datasets')"
      ]
     },
     "execution_count": 3,
     "metadata": {},
     "output_type": "execute_result"
    }
   ],
   "source": [
    "datasets_dir"
   ]
  },
  {
   "cell_type": "code",
   "execution_count": 4,
   "id": "bc2dd580-ad80-4615-8a26-9df0b18b916d",
   "metadata": {},
   "outputs": [
    {
     "name": "stdout",
     "output_type": "stream",
     "text": [
      "..\\..\\..\\datasets\\moscow\\moscow_vectors\\Moscow.gdb\n",
      "<class 'pathlib.WindowsPath'>\n"
     ]
    }
   ],
   "source": [
    "moscow_gdb_path = datasets_dir / 'moscow' / 'moscow_vectors' / 'Moscow.gdb'\n",
    "print(moscow_gdb_path)\n",
    "print(type(moscow_gdb_path))"
   ]
  },
  {
   "cell_type": "code",
   "execution_count": null,
   "id": "554bb916-a1c5-4319-9395-a7a499f227b4",
   "metadata": {},
   "outputs": [],
   "source": []
  },
  {
   "cell_type": "code",
   "execution_count": 5,
   "id": "659e9eeb-782d-4df6-b335-943ed6a38203",
   "metadata": {},
   "outputs": [
    {
     "data": {
      "text/plain": [
       "['Moscow_Zoning',\n",
       " 'Centerlines',\n",
       " 'Moscow_Parks',\n",
       " 'Moscow_City_Limit',\n",
       " 'Parcels']"
      ]
     },
     "execution_count": 5,
     "metadata": {},
     "output_type": "execute_result"
    }
   ],
   "source": [
    "import fiona\n",
    "moscow_gdb = str(moscow_gdb_path)\n",
    "\n",
    "fiona.listlayers(moscow_gdb)"
   ]
  },
  {
   "cell_type": "code",
   "execution_count": 6,
   "id": "749b5581-d9ea-48e2-8949-e6acb8e8d685",
   "metadata": {},
   "outputs": [],
   "source": [
    "parcels = gpd.read_file(moscow_gdb, layer='Parcels')\n",
    "roads = gpd.read_file(moscow_gdb, layer='Centerlines')\n",
    "zoning = gpd.read_file(moscow_gdb, layer='Moscow_Zoning')\n",
    "city_limits = gpd.read_file(moscow_gdb, layer='Moscow_City_Limit')\n",
    "parks = gpd.read_file(moscow_gdb, layer='Moscow_Parks')\n"
   ]
  },
  {
   "cell_type": "code",
   "execution_count": 7,
   "id": "994b45f8-6c0c-4f15-8580-e97c5586b077",
   "metadata": {},
   "outputs": [
    {
     "data": {
      "text/plain": [
       "Index(['LABEL', 'PM_PAR_14', 'PM_MAIL_NM', 'PM_MAIL_A1', 'PM_MAIL_A2',\n",
       "       'PM_MAIL_CT', 'PM_MAIL_ST', 'PM_MAIL_ZP', 'PM_PROP_AD', 'PM_DEEDCDT',\n",
       "       'PM_DEEDRF1', 'PM_DEEDRF2', 'PM_DEEDRF3', 'PM_DEEDRF4', 'PM_DEEDRF5',\n",
       "       'PM_TAX_AMT', 'PM_PV_AREA', 'PM_PV_NBHD', 'PM_PV_ACRE', 'PM_TOT_VAL',\n",
       "       'PM_IMP_VAL', 'PM_LND_VAL', 'PM_EX_VAL', 'PM_NET_VAL', 'PM_CATS',\n",
       "       'LG_LINE_1', 'LG_LINE_2', 'LG_LINE_3', 'LG_LINE_4', 'LG_LINE_5',\n",
       "       'LG_LINE_6', 'PM_PARC_CD', 'GlobalID', 'Shape_Length', 'Shape_Area',\n",
       "       'geometry'],\n",
       "      dtype='object')"
      ]
     },
     "execution_count": 7,
     "metadata": {},
     "output_type": "execute_result"
    }
   ],
   "source": [
    "parcels.columns"
   ]
  },
  {
   "cell_type": "markdown",
   "id": "533f554b-1fcd-4e89-aecd-749742abdd50",
   "metadata": {},
   "source": [
    "### Shapely geometries\n",
    "Behind the scenes, geopandas is reading in vector data, storing the attribute tables as `pandas` dataframes,\n",
    "and storing the vector geometry as `shapely` geometries.\n",
    "\n",
    "\n",
    "### Reading:\n",
    "To become more familiar with vector operations in geopandas/shapely, \n",
    "read this introduction to shapely geometries carefully, \n",
    "and reproduce/experiment with the code in this reading from within a blank notebook:\n",
    "https://towardsdatascience.com/geospatial-adventures-step-1-shapely-e911e4f86361\n",
    "\n",
    "Read this page for a more comprehensive description of `shapely` geometries: \n",
    "https://autogis-site.readthedocs.io/en/latest/notebooks/L1/geometric-objects.html\n",
    "\n",
    "Scroll through the `shapely` user manual (https://shapely.readthedocs.io/en/stable/manual.html), \n",
    "reviewing the different functions that shapely includes.  `geopandas` allows all of these functions to be\n",
    "executed, [directly through `geopandas`, without explicit call to `shapely`](https://geopandas.org/docs/user_guide/geometric_manipulations.html).  `shapely` is just running\n",
    "quietly under the hood.  Pay specific attention to the \"Spatial Analysis Methods\" of the manual."
   ]
  },
  {
   "cell_type": "code",
   "execution_count": 8,
   "id": "a805a90a-a722-41bd-b340-ac15e6531723",
   "metadata": {},
   "outputs": [
    {
     "name": "stdout",
     "output_type": "stream",
     "text": [
      "Line area = 0.0\n",
      "Line length = 2.8284271247461903\n"
     ]
    }
   ],
   "source": [
    "from shapely.geometry import LineString\n",
    "line = LineString([(0, 0), (1, 1), (2, 0)])\n",
    "print('Line area =', line.area)\n",
    "print('Line length =', line.length)"
   ]
  },
  {
   "cell_type": "code",
   "execution_count": 9,
   "id": "91dda482-8e26-41bd-b40b-732e714cd6f9",
   "metadata": {},
   "outputs": [
    {
     "data": {
      "image/svg+xml": [
       "<svg xmlns=\"http://www.w3.org/2000/svg\" xmlns:xlink=\"http://www.w3.org/1999/xlink\" width=\"100.0\" height=\"100.0\" viewBox=\"-0.08 -0.08 2.16 1.1600000000000001\" preserveAspectRatio=\"xMinYMin meet\"><g transform=\"matrix(1,0,0,-1,0,1.0)\"><polyline fill=\"none\" stroke=\"#66cc99\" stroke-width=\"0.0432\" points=\"0.0,0.0 1.0,1.0 2.0,0.0\" opacity=\"0.8\" /></g></svg>"
      ],
      "text/plain": [
       "<shapely.geometry.linestring.LineString at 0x1b0942de2b0>"
      ]
     },
     "execution_count": 9,
     "metadata": {},
     "output_type": "execute_result"
    }
   ],
   "source": [
    "line"
   ]
  },
  {
   "cell_type": "code",
   "execution_count": 10,
   "id": "92ea295d-9a77-4bf6-9718-0b3cd9979e88",
   "metadata": {},
   "outputs": [
    {
     "data": {
      "text/plain": [
       "shapely.geometry.linestring.LineString"
      ]
     },
     "execution_count": 10,
     "metadata": {},
     "output_type": "execute_result"
    }
   ],
   "source": [
    "type(line)"
   ]
  },
  {
   "cell_type": "code",
   "execution_count": 11,
   "id": "50696400-bd30-4071-8e44-6535e41c37cc",
   "metadata": {},
   "outputs": [
    {
     "name": "stdout",
     "output_type": "stream",
     "text": [
      "[(0.0, 0.0), (1.0, 1.0), (2.0, 0.0)]\n",
      "(2.0, 0.0)\n"
     ]
    }
   ],
   "source": [
    "print( list(line.coords) )\n",
    "print( line.coords[2] )"
   ]
  },
  {
   "cell_type": "markdown",
   "id": "aa3bf992-2366-47e0-bc24-0d49657b6e92",
   "metadata": {},
   "source": [
    "<div class=\"alert alert-block alert-warning\">\n",
    "\n",
    "## 1. Shapely geometries\n",
    "What `shapely` geometry are each of the parcels in the Moscow parcels layer? What `shapely` geometry are their centroids?\n",
    "    \n",
    "Find the Kenworthy Theater within the parcels database (hint: the name field for its mailing address, \n",
    "    PM_MAIL_NM, is \"KENWORTHY PERFORMING ARTS CTR\").\n",
    "What are the coordinates for the corners of its parcel?    \n",
    "</div>\n"
   ]
  },
  {
   "cell_type": "code",
   "execution_count": 12,
   "id": "291f89be-8ae4-4981-8e6c-aa435511154f",
   "metadata": {},
   "outputs": [
    {
     "data": {
      "text/plain": [
       "shapely.geometry.multipolygon.MultiPolygon"
      ]
     },
     "execution_count": 12,
     "metadata": {},
     "output_type": "execute_result"
    }
   ],
   "source": [
    "import pandas as pd\n",
    "parcel_geom = pd.unique([type(x) for x in parcels['geometry']])[0] # Check data type for all elements in the geometry column; Identify unique types\n",
    "parcel_geom"
   ]
  },
  {
   "cell_type": "code",
   "execution_count": 13,
   "id": "ee1175cf-d596-4ee6-9bc0-d61459521256",
   "metadata": {},
   "outputs": [
    {
     "data": {
      "text/plain": [
       "shapely.geometry.point.Point"
      ]
     },
     "execution_count": 13,
     "metadata": {},
     "output_type": "execute_result"
    }
   ],
   "source": [
    "centroids = pd.unique([type(x.centroid) for x in parcels['geometry']])[0] # Determine geometries of all parcel centroids\n",
    "centroids"
   ]
  },
  {
   "cell_type": "code",
   "execution_count": 14,
   "id": "895a4e83-55f8-4720-95de-030c3f44bfaa",
   "metadata": {},
   "outputs": [
    {
     "data": {
      "text/plain": [
       "[(2311036.9459081627, 1848531.879651986),\n",
       " (2311036.277274329, 1848471.8833809048),\n",
       " (2310911.285070244, 1848473.2760946527),\n",
       " (2310911.9537040778, 1848533.2723657414),\n",
       " (2311036.9459081627, 1848531.879651986)]"
      ]
     },
     "execution_count": 14,
     "metadata": {},
     "output_type": "execute_result"
    }
   ],
   "source": [
    "ken_theater = parcels[parcels['PM_MAIL_NM']=='KENWORTHY PERFORMING ARTS CTR'] # Create new gdf of the Kenworthy Center\n",
    "list(ken_theater['geometry'][1359][0].exterior.coords) # Determine the coordinates for all corners of the Kenworthy parcel"
   ]
  },
  {
   "cell_type": "code",
   "execution_count": 15,
   "id": "7ce56df3-ba09-4ae1-a5ed-67c032f129b8",
   "metadata": {},
   "outputs": [
    {
     "name": "stdout",
     "output_type": "stream",
     "text": [
      "FACILITYID                                               PR-E17-G\n",
      "NAME                                                Ghormley Park\n",
      "SUBTYPEFIELD                                                    0\n",
      "FEATURECODE                                                      \n",
      "FULLADDR                                              504 Home St\n",
      "OPERDAYS                                                         \n",
      "OPERHOURS                                                        \n",
      "PARKAREA                                                     7.34\n",
      "PARKURL         https://www.ci.moscow.id.us/parks-rec/parks/Pa...\n",
      "NUMPARKING                                                    0.0\n",
      "RESTROOM                                                      Yes\n",
      "ADACOMPLY                                                        \n",
      "CAMPING                                                        No\n",
      "SWIMMING                                                       No\n",
      "HIKING                                                         No\n",
      "FISHING                                                        No\n",
      "PICNIC                                                        Yes\n",
      "BOATING                                                        No\n",
      "HUNTING                                                        No\n",
      "ROADCYCLE                                                      No\n",
      "MTBCYCLE                                                       No\n",
      "PLAYGROUND                                                    Yes\n",
      "GOLF                                                           No\n",
      "SKI                                                            No\n",
      "SOCCER                                                         No\n",
      "BASEBALL                                                       No\n",
      "BASKETBALL                                                     No\n",
      "STATUS                                                  Developed\n",
      "CLASS                                                 Special Use\n",
      "OWNEDBY                                                         1\n",
      "MAINTBY                                                         1\n",
      "NOTES                                                        City\n",
      "PARKINDEX                                                       G\n",
      "GlobalID                   {916FA34F-34F0-444B-9718-3B7DA79FA21E}\n",
      "geometry              POINT (2308973.479299717 1848631.093892366)\n",
      "Name: 2, dtype: object\n"
     ]
    },
    {
     "data": {
      "text/plain": [
       "<AxesSubplot:>"
      ]
     },
     "execution_count": 15,
     "metadata": {},
     "output_type": "execute_result"
    },
    {
     "data": {
      "image/png": "[encoded data removed]",
      "text/plain": [
       "<Figure size 432x288 with 1 Axes>"
      ]
     },
     "metadata": {
      "needs_background": "light"
     },
     "output_type": "display_data"
    }
   ],
   "source": [
    "i = 2 # Look at one park, for example\n",
    "print(parks.iloc[i])\n",
    "\n",
    "buffer_radius = 200 # What are the units for this?\n",
    "\n",
    "buffered_park = parks.iloc[i:i+1].buffer(buffer_radius) # Careful!  I'm not sure why this is, but geopandas requires a slice here, not a single index\n",
    "    #If you use just one index, it seems to remove all the geopandas properties of the data\n",
    "buffered_park.plot()\n",
    "\n"
   ]
  },
  {
   "cell_type": "markdown",
   "id": "5185b185-c275-40bb-9384-f884cf6b9de1",
   "metadata": {},
   "source": []
  },
  {
   "cell_type": "markdown",
   "id": "971f3ad1-2a87-45e4-bd5d-d901e0751f15",
   "metadata": {},
   "source": [
    "<div class=\"alert alert-block alert-warning\">\n",
    "\n",
    "## 2. Identifying Moscow residents underserved by city parks.\n",
    "You're an urban planner consulting with the City of Moscow.  The city is interested in increasing the number of parks\n",
    "    within the city, and better designing those parks to meet the needs of those who are currently underserved\n",
    "    by the city's existing parks.  The city wants to begin the planning process by reaching out to these currently\n",
    "    underserved residents, but first the city needs to know who they are.\n",
    "    \n",
    "The city asks you to produce a list of all resident addresses within the city limits whose property is at least 1000 feet\n",
    "    from a current park.\n",
    "    \n",
    "To properly address the letters and questionaires that the city will be sending out, the city would like this list\n",
    "    of residents as a csv file, with each property address on a separate line (property addresses are represented within\n",
    "    the parcels database by the field name \"PM_PROP_AD\").  Produce this file and a map of the underserved parcels.\n",
    "    \n",
    "\n",
    "\n",
    "</div>\n"
   ]
  },
  {
   "cell_type": "code",
   "execution_count": null,
   "id": "2b62216e-f518-4c05-9dc5-63d8bc44db60",
   "metadata": {},
   "outputs": [],
   "source": []
  },
  {
   "cell_type": "code",
   "execution_count": 16,
   "id": "ea930448-079a-4663-a825-9f14b4d8d901",
   "metadata": {},
   "outputs": [
    {
     "data": {
      "text/html": [
       "<div>\n",
       "<style scoped>\n",
       "    .dataframe tbody tr th:only-of-type {\n",
       "        vertical-align: middle;\n",
       "    }\n",
       "\n",
       "    .dataframe tbody tr th {\n",
       "        vertical-align: top;\n",
       "    }\n",
       "\n",
       "    .dataframe thead th {\n",
       "        text-align: right;\n",
       "    }\n",
       "</style>\n",
       "<table border=\"1\" class=\"dataframe\">\n",
       "  <thead>\n",
       "    <tr style=\"text-align: right;\">\n",
       "      <th></th>\n",
       "      <th>Unnamed: 0</th>\n",
       "      <th>PM_PROP_AD</th>\n",
       "    </tr>\n",
       "  </thead>\n",
       "  <tbody>\n",
       "    <tr>\n",
       "      <th>0</th>\n",
       "      <td>3</td>\n",
       "      <td>328 N MAIN</td>\n",
       "    </tr>\n",
       "    <tr>\n",
       "      <th>1</th>\n",
       "      <td>4</td>\n",
       "      <td>340 N MAIN</td>\n",
       "    </tr>\n",
       "    <tr>\n",
       "      <th>2</th>\n",
       "      <td>9</td>\n",
       "      <td>227 N JEFFERSON</td>\n",
       "    </tr>\n",
       "    <tr>\n",
       "      <th>3</th>\n",
       "      <td>10</td>\n",
       "      <td>203 N JEFFERSON</td>\n",
       "    </tr>\n",
       "    <tr>\n",
       "      <th>4</th>\n",
       "      <td>12</td>\n",
       "      <td></td>\n",
       "    </tr>\n",
       "    <tr>\n",
       "      <th>...</th>\n",
       "      <td>...</td>\n",
       "      <td>...</td>\n",
       "    </tr>\n",
       "    <tr>\n",
       "      <th>2874</th>\n",
       "      <td>7387</td>\n",
       "      <td></td>\n",
       "    </tr>\n",
       "    <tr>\n",
       "      <th>2875</th>\n",
       "      <td>7389</td>\n",
       "      <td></td>\n",
       "    </tr>\n",
       "    <tr>\n",
       "      <th>2876</th>\n",
       "      <td>7390</td>\n",
       "      <td></td>\n",
       "    </tr>\n",
       "    <tr>\n",
       "      <th>2877</th>\n",
       "      <td>7391</td>\n",
       "      <td></td>\n",
       "    </tr>\n",
       "    <tr>\n",
       "      <th>2878</th>\n",
       "      <td>7392</td>\n",
       "      <td></td>\n",
       "    </tr>\n",
       "  </tbody>\n",
       "</table>\n",
       "<p>2879 rows × 2 columns</p>\n",
       "</div>"
      ],
      "text/plain": [
       "      Unnamed: 0       PM_PROP_AD\n",
       "0              3       328 N MAIN\n",
       "1              4       340 N MAIN\n",
       "2              9  227 N JEFFERSON\n",
       "3             10  203 N JEFFERSON\n",
       "4             12                 \n",
       "...          ...              ...\n",
       "2874        7387                 \n",
       "2875        7389                 \n",
       "2876        7390                 \n",
       "2877        7391                 \n",
       "2878        7392                 \n",
       "\n",
       "[2879 rows x 2 columns]"
      ]
     },
     "execution_count": 16,
     "metadata": {},
     "output_type": "execute_result"
    }
   ],
   "source": [
    "parcel_centroids = parcels['geometry'].centroid # Create Geoseries of parcel centroids\n",
    "citylim_centroids = gpd.clip(parcel_centroids,city_limits) # Clip all parcel centroids located in the city limits\n",
    "\n",
    "all_park_dists = [] # List for storing parcel centroid distances to all Moscow parks\n",
    "\n",
    "for i in citylim_centroids.index: # Need to keep and iterate through original indicies of parcels gdf\n",
    "    for x in range(len(parks['geometry'])): # Iterate through all Moscow parks\n",
    "        all_distances = citylim_centroids[i].distance(parks['geometry'][x]) # Calculate distance between each parcel centroid and all Moscow parks\n",
    "        all_park_dists.append(all_distances) # Append all distances to all_park_dists list\n",
    "                                                      \n",
    "parcel_dist_to_park = [all_park_dists[x:x+len(parks['geometry'])] for x in range(0,len(all_park_dists),len(parks['geometry']))]             \n",
    "# Create nested listed of park distances for each parcel centroid\n",
    "\n",
    "parceldist_df = pd.DataFrame({'Dists to Parks' : parcel_dist_to_park},index=citylim_centroids.index) #Create new Pandas df, matching park distance lists to original index\n",
    "\n",
    "within_1000 = [] # List for storing boolean results from if statement below\n",
    "\n",
    "for i in parceldist_df.index: # Iterate through original indicies\n",
    "    if min(parceldist_df['Dists to Parks'][i]) >= 1000: # If the min value in a park distance list is greater than 1000, append no to within_1000 list for that iteration\n",
    "        within_1000.append('No')\n",
    "    elif min(parceldist_df['Dists to Parks'][i]) <= 1000: # If the min value in a park distance list is less than 1000, append yes to within_1000 list for that iteration\n",
    "        within_1000.append('Yes')\n",
    "\n",
    "parceldist_df['Within 1000 feet'] = within_1000 # Create new column in parceldist_df with boolean results from if statement\n",
    "orig_indicies = parceldist_df.index[parceldist_df['Within 1000 feet'] == 'No'].tolist() # Create a list of original indicies that are not within 1000 feet of a park\n",
    "addresses = parcels.iloc[orig_indicies]['PM_PROP_AD'] # Index parcels gdf with the original indicies and return a Series of corresponding addresses\n",
    "addresses.to_csv('resident_addresses.csv') # Write the addresses to a CSV format\n",
    "pd.read_csv('resident_addresses.csv') # Read resident_addresses CSV; some parcels don't have addresses\n"
   ]
  },
  {
   "cell_type": "code",
   "execution_count": 17,
   "id": "68764c88-1285-4542-8cd1-47bc85b39769",
   "metadata": {},
   "outputs": [],
   "source": [
    "park_buffers = gpd.GeoDataFrame(gpd.clip(parks,city_limits).buffer(1000),columns=['geometry']) # Clip all parks in Moscow city limits and apply a 1000 ft buffer to all\n",
    "city_parcels = gpd.overlay(city_limits,parcels, how='intersection') # Return the intersections between the city_limits and parcels gdfs\n",
    "res_addresses = gpd.overlay(city_parcels,park_buffers, how='symmetric_difference')['PM_PROP_AD'] \n",
    "# Determine the symmetric difference between city_parcels and park_buffers, then call the remaining addresses"
   ]
  },
  {
   "cell_type": "code",
   "execution_count": 18,
   "id": "0122d7f3-d18b-4b5c-9ff6-906fe583c42e",
   "metadata": {},
   "outputs": [
    {
     "data": {
      "application/vnd.jupyter.widget-view+json": {
       "model_id": "decaf0363c1d471e88448803114010c5",
       "version_major": 2,
       "version_minor": 0
      },
      "text/plain": [
       "Canvas(toolbar=Toolbar(toolitems=[('Home', 'Reset original view', 'home', 'home'), ('Back', 'Back to previous …"
      ]
     },
     "metadata": {},
     "output_type": "display_data"
    }
   ],
   "source": [
    "%matplotlib widget\n",
    "fig,(ax1,ax2) = plt.subplots(1,2,figsize=(10,5))\n",
    "\n",
    "gpd.clip(parks,city_limits).plot(ax=ax1,color='red',label='Parks') # Plot park locations within Moscow city limits\n",
    "parcels.iloc[orig_indicies].plot(ax=ax1,color='blue',label='Parcels') # Plot underserved parcels; label not generating in legend?\n",
    "ax1.set_title(\"Parcels Underserved by Moscow Parks\\n(My Initial Method)\",weight='bold')\n",
    "ax1.set_xlabel('Easting (ft)')\n",
    "ax1.set_ylabel('Northing (ft)')\n",
    "ax1.legend()\n",
    "\n",
    "gpd.overlay(city_parcels,park_buffers, how='symmetric_difference').plot(ax=ax2,color='blue',label='Parcels') # Overlay Method (discovered after my intial method)\n",
    "gpd.clip(parks,city_limits).plot(ax=ax2,color='red',label='Parks')\n",
    "ax2.set_title(\"Parcels Underserved by Moscow Parks\\n(Overlay Method)\",weight='bold')\n",
    "ax2.set_xlabel('Easting (ft)')\n",
    "ax2.set_ylabel('Northing (ft)')\n",
    "ax2.legend()\n",
    "\n",
    "plt.tight_layout()"
   ]
  },
  {
   "cell_type": "code",
   "execution_count": null,
   "id": "91c71c93-936c-40a0-8e54-50911aad54fb",
   "metadata": {},
   "outputs": [],
   "source": []
  },
  {
   "cell_type": "code",
   "execution_count": 19,
   "id": "5dfbb270-4722-481d-9966-4c9724a725dc",
   "metadata": {},
   "outputs": [
    {
     "data": {
      "application/vnd.jupyter.widget-view+json": {
       "model_id": "22f17cc42f5c427fba717f15b537c6f5",
       "version_major": 2,
       "version_minor": 0
      },
      "text/plain": [
       "Canvas(toolbar=Toolbar(toolitems=[('Home', 'Reset original view', 'home', 'home'), ('Back', 'Back to previous …"
      ]
     },
     "metadata": {},
     "output_type": "display_data"
    },
    {
     "data": {
      "text/plain": [
       "(1837691.7277759165, 1858582.946164012)"
      ]
     },
     "execution_count": 19,
     "metadata": {},
     "output_type": "execute_result"
    }
   ],
   "source": [
    "%matplotlib widget\n",
    "\n",
    "fig, ax = plt.subplots()\n",
    "parks.buffer(buffer_radius).plot(ax=ax, color='g')\n",
    "# city_limits.plot(ax=ax, color=None, edgecolor='r')\n",
    "roads.plot(ax=ax)\n",
    "\n",
    "ax.set_xlim( city_limits.bounds.to_numpy()[0][::2] )\n",
    "ax.set_ylim( city_limits.bounds.to_numpy()[0][1::2] )"
   ]
  },
  {
   "cell_type": "code",
   "execution_count": null,
   "id": "4ea3d8b2-6f0c-46f4-b8a1-89d69be35bc5",
   "metadata": {},
   "outputs": [],
   "source": []
  },
  {
   "cell_type": "code",
   "execution_count": 20,
   "id": "84e478e0-bb7e-422c-ba4a-96c43c3cc5aa",
   "metadata": {
    "tags": []
   },
   "outputs": [
    {
     "data": {
      "text/html": [
       "<div>\n",
       "<style scoped>\n",
       "    .dataframe tbody tr th:only-of-type {\n",
       "        vertical-align: middle;\n",
       "    }\n",
       "\n",
       "    .dataframe tbody tr th {\n",
       "        vertical-align: top;\n",
       "    }\n",
       "\n",
       "    .dataframe thead th {\n",
       "        text-align: right;\n",
       "    }\n",
       "</style>\n",
       "<table border=\"1\" class=\"dataframe\">\n",
       "  <thead>\n",
       "    <tr style=\"text-align: right;\">\n",
       "      <th></th>\n",
       "      <th>CENTERLINEID</th>\n",
       "      <th>FROMLEFT</th>\n",
       "      <th>TOLEFT</th>\n",
       "      <th>FROMRIGHT</th>\n",
       "      <th>TORIGHT</th>\n",
       "      <th>FULLNAME</th>\n",
       "      <th>FEDROUTE</th>\n",
       "      <th>FEDRTETYPE</th>\n",
       "      <th>AFEDRTE</th>\n",
       "      <th>AFEDRTETYPE</th>\n",
       "      <th>...</th>\n",
       "      <th>SLOPE</th>\n",
       "      <th>OCI2017</th>\n",
       "      <th>OCI2014</th>\n",
       "      <th>GlobalID</th>\n",
       "      <th>FACILITYID</th>\n",
       "      <th>OCI2019</th>\n",
       "      <th>OCI2020</th>\n",
       "      <th>ADTID</th>\n",
       "      <th>SHAPE_Length</th>\n",
       "      <th>geometry</th>\n",
       "    </tr>\n",
       "  </thead>\n",
       "  <tbody>\n",
       "    <tr>\n",
       "      <th>0</th>\n",
       "      <td>02600</td>\n",
       "      <td>0.0</td>\n",
       "      <td>0.0</td>\n",
       "      <td>0.0</td>\n",
       "      <td>0.0</td>\n",
       "      <td>MAIN ST</td>\n",
       "      <td>None</td>\n",
       "      <td>Other</td>\n",
       "      <td>None</td>\n",
       "      <td>None</td>\n",
       "      <td>...</td>\n",
       "      <td>NaN</td>\n",
       "      <td>58.92</td>\n",
       "      <td>71.66</td>\n",
       "      <td>{E10997BF-346F-493B-9078-ABF3BA07D894}</td>\n",
       "      <td>STREET-02600</td>\n",
       "      <td>96.08</td>\n",
       "      <td>96.08</td>\n",
       "      <td>F19-05</td>\n",
       "      <td>87.664841</td>\n",
       "      <td>MULTILINESTRING ((2310851.729 1847250.622, 231...</td>\n",
       "    </tr>\n",
       "    <tr>\n",
       "      <th>1</th>\n",
       "      <td>01430</td>\n",
       "      <td>0.0</td>\n",
       "      <td>0.0</td>\n",
       "      <td>0.0</td>\n",
       "      <td>0.0</td>\n",
       "      <td>FIRST ST</td>\n",
       "      <td>None</td>\n",
       "      <td>Other</td>\n",
       "      <td>None</td>\n",
       "      <td>None</td>\n",
       "      <td>...</td>\n",
       "      <td>NaN</td>\n",
       "      <td>90.93</td>\n",
       "      <td>98.96</td>\n",
       "      <td>{F2D06156-E244-4542-A0A7-9F47285F09AF}</td>\n",
       "      <td>STREET-01430</td>\n",
       "      <td>86.04</td>\n",
       "      <td>86.04</td>\n",
       "      <td>G16-05</td>\n",
       "      <td>349.983212</td>\n",
       "      <td>MULTILINESTRING ((2310883.550 1849572.726, 231...</td>\n",
       "    </tr>\n",
       "    <tr>\n",
       "      <th>2</th>\n",
       "      <td>02670</td>\n",
       "      <td>102.0</td>\n",
       "      <td>114.0</td>\n",
       "      <td>105.0</td>\n",
       "      <td>205.0</td>\n",
       "      <td>MAIN ST</td>\n",
       "      <td>None</td>\n",
       "      <td>Other</td>\n",
       "      <td>None</td>\n",
       "      <td>None</td>\n",
       "      <td>...</td>\n",
       "      <td>NaN</td>\n",
       "      <td>71.70</td>\n",
       "      <td>100.00</td>\n",
       "      <td>{BF94EEC2-9DBF-42FD-8BA0-31C170DEC8CB}</td>\n",
       "      <td>STREET-02670</td>\n",
       "      <td>80.02</td>\n",
       "      <td>80.02</td>\n",
       "      <td>F17-12</td>\n",
       "      <td>230.721479</td>\n",
       "      <td>MULTILINESTRING ((2310883.464 1849564.375, 231...</td>\n",
       "    </tr>\n",
       "    <tr>\n",
       "      <th>3</th>\n",
       "      <td>02660</td>\n",
       "      <td>204.0</td>\n",
       "      <td>218.0</td>\n",
       "      <td>205.0</td>\n",
       "      <td>221.0</td>\n",
       "      <td>MAIN ST</td>\n",
       "      <td>None</td>\n",
       "      <td>Other</td>\n",
       "      <td>None</td>\n",
       "      <td>None</td>\n",
       "      <td>...</td>\n",
       "      <td>NaN</td>\n",
       "      <td>71.70</td>\n",
       "      <td>100.00</td>\n",
       "      <td>{E4ADA45C-08D8-4C70-B30F-46E1097647A3}</td>\n",
       "      <td>STREET-02660</td>\n",
       "      <td>80.02</td>\n",
       "      <td>80.02</td>\n",
       "      <td>F17-06</td>\n",
       "      <td>239.999980</td>\n",
       "      <td>MULTILINESTRING ((2310880.869 1849333.668, 231...</td>\n",
       "    </tr>\n",
       "    <tr>\n",
       "      <th>4</th>\n",
       "      <td>02650</td>\n",
       "      <td>302.0</td>\n",
       "      <td>318.0</td>\n",
       "      <td>301.0</td>\n",
       "      <td>307.0</td>\n",
       "      <td>MAIN ST</td>\n",
       "      <td>None</td>\n",
       "      <td>Other</td>\n",
       "      <td>None</td>\n",
       "      <td>None</td>\n",
       "      <td>...</td>\n",
       "      <td>NaN</td>\n",
       "      <td>91.97</td>\n",
       "      <td>100.00</td>\n",
       "      <td>{D3CE1840-EC8C-4124-AAEF-4A67AB2B5415}</td>\n",
       "      <td>STREET-02650</td>\n",
       "      <td>95.17</td>\n",
       "      <td>95.17</td>\n",
       "      <td>F17-07</td>\n",
       "      <td>240.667684</td>\n",
       "      <td>MULTILINESTRING ((2310878.196 1849093.683, 231...</td>\n",
       "    </tr>\n",
       "    <tr>\n",
       "      <th>...</th>\n",
       "      <td>...</td>\n",
       "      <td>...</td>\n",
       "      <td>...</td>\n",
       "      <td>...</td>\n",
       "      <td>...</td>\n",
       "      <td>...</td>\n",
       "      <td>...</td>\n",
       "      <td>...</td>\n",
       "      <td>...</td>\n",
       "      <td>...</td>\n",
       "      <td>...</td>\n",
       "      <td>...</td>\n",
       "      <td>...</td>\n",
       "      <td>...</td>\n",
       "      <td>...</td>\n",
       "      <td>...</td>\n",
       "      <td>...</td>\n",
       "      <td>...</td>\n",
       "      <td>...</td>\n",
       "      <td>...</td>\n",
       "      <td>...</td>\n",
       "    </tr>\n",
       "    <tr>\n",
       "      <th>2213</th>\n",
       "      <td>00301</td>\n",
       "      <td>1600.0</td>\n",
       "      <td>1756.0</td>\n",
       "      <td>1601.0</td>\n",
       "      <td>1751.0</td>\n",
       "      <td>THIRD ST</td>\n",
       "      <td>None</td>\n",
       "      <td>Other</td>\n",
       "      <td>None</td>\n",
       "      <td>None</td>\n",
       "      <td>...</td>\n",
       "      <td>5.0</td>\n",
       "      <td>NaN</td>\n",
       "      <td>NaN</td>\n",
       "      <td>{CE44A217-E6DA-4168-A8A9-C28AD394A399}</td>\n",
       "      <td>STREET-00301</td>\n",
       "      <td>NaN</td>\n",
       "      <td>NaN</td>\n",
       "      <td>None</td>\n",
       "      <td>756.596825</td>\n",
       "      <td>MULTILINESTRING ((2316177.219 1849043.781, 231...</td>\n",
       "    </tr>\n",
       "    <tr>\n",
       "      <th>2214</th>\n",
       "      <td>13760</td>\n",
       "      <td>NaN</td>\n",
       "      <td>NaN</td>\n",
       "      <td>NaN</td>\n",
       "      <td>NaN</td>\n",
       "      <td>SOUTHVIEW AVE</td>\n",
       "      <td>None</td>\n",
       "      <td>None</td>\n",
       "      <td>None</td>\n",
       "      <td>None</td>\n",
       "      <td>...</td>\n",
       "      <td>10.0</td>\n",
       "      <td>NaN</td>\n",
       "      <td>NaN</td>\n",
       "      <td>{588D3E9B-7CBE-48D5-94BF-0DB57D0E0442}</td>\n",
       "      <td>STREET-13760</td>\n",
       "      <td>NaN</td>\n",
       "      <td>NaN</td>\n",
       "      <td>None</td>\n",
       "      <td>706.800143</td>\n",
       "      <td>MULTILINESTRING ((2312049.540 1843770.847, 231...</td>\n",
       "    </tr>\n",
       "    <tr>\n",
       "      <th>2215</th>\n",
       "      <td>13765</td>\n",
       "      <td>NaN</td>\n",
       "      <td>NaN</td>\n",
       "      <td>NaN</td>\n",
       "      <td>NaN</td>\n",
       "      <td>SUNNY CT</td>\n",
       "      <td>None</td>\n",
       "      <td>None</td>\n",
       "      <td>None</td>\n",
       "      <td>None</td>\n",
       "      <td>...</td>\n",
       "      <td>7.0</td>\n",
       "      <td>NaN</td>\n",
       "      <td>NaN</td>\n",
       "      <td>{2F896E18-E40F-4BD6-81D2-5DDD91482100}</td>\n",
       "      <td>STREET-13765</td>\n",
       "      <td>NaN</td>\n",
       "      <td>NaN</td>\n",
       "      <td>None</td>\n",
       "      <td>173.316937</td>\n",
       "      <td>MULTILINESTRING ((2312699.813 1843557.137, 231...</td>\n",
       "    </tr>\n",
       "    <tr>\n",
       "      <th>2216</th>\n",
       "      <td>13770</td>\n",
       "      <td>NaN</td>\n",
       "      <td>NaN</td>\n",
       "      <td>NaN</td>\n",
       "      <td>NaN</td>\n",
       "      <td>SOUTHVIEW AVE</td>\n",
       "      <td>None</td>\n",
       "      <td>None</td>\n",
       "      <td>None</td>\n",
       "      <td>None</td>\n",
       "      <td>...</td>\n",
       "      <td>10.0</td>\n",
       "      <td>NaN</td>\n",
       "      <td>NaN</td>\n",
       "      <td>{4BAB6FC8-B24E-49A0-B852-9AF25FD43BF2}</td>\n",
       "      <td>STREET-13770</td>\n",
       "      <td>NaN</td>\n",
       "      <td>NaN</td>\n",
       "      <td>None</td>\n",
       "      <td>221.456644</td>\n",
       "      <td>MULTILINESTRING ((2312699.813 1843557.137, 231...</td>\n",
       "    </tr>\n",
       "    <tr>\n",
       "      <th>2217</th>\n",
       "      <td>14125</td>\n",
       "      <td>NaN</td>\n",
       "      <td>NaN</td>\n",
       "      <td>NaN</td>\n",
       "      <td>NaN</td>\n",
       "      <td>ALICE ST</td>\n",
       "      <td>None</td>\n",
       "      <td>None</td>\n",
       "      <td>None</td>\n",
       "      <td>None</td>\n",
       "      <td>...</td>\n",
       "      <td>12.0</td>\n",
       "      <td>NaN</td>\n",
       "      <td>NaN</td>\n",
       "      <td>{737681F6-3046-4A97-B0DE-D5B3D23470DD}</td>\n",
       "      <td>STREET-14125</td>\n",
       "      <td>NaN</td>\n",
       "      <td>NaN</td>\n",
       "      <td>None</td>\n",
       "      <td>150.310493</td>\n",
       "      <td>MULTILINESTRING ((2312914.864 1843646.154, 231...</td>\n",
       "    </tr>\n",
       "  </tbody>\n",
       "</table>\n",
       "<p>2218 rows × 65 columns</p>\n",
       "</div>"
      ],
      "text/plain": [
       "     CENTERLINEID  FROMLEFT  TOLEFT  FROMRIGHT  TORIGHT       FULLNAME  \\\n",
       "0           02600       0.0     0.0        0.0      0.0        MAIN ST   \n",
       "1           01430       0.0     0.0        0.0      0.0       FIRST ST   \n",
       "2           02670     102.0   114.0      105.0    205.0        MAIN ST   \n",
       "3           02660     204.0   218.0      205.0    221.0        MAIN ST   \n",
       "4           02650     302.0   318.0      301.0    307.0        MAIN ST   \n",
       "...           ...       ...     ...        ...      ...            ...   \n",
       "2213        00301    1600.0  1756.0     1601.0   1751.0       THIRD ST   \n",
       "2214        13760       NaN     NaN        NaN      NaN  SOUTHVIEW AVE   \n",
       "2215        13765       NaN     NaN        NaN      NaN       SUNNY CT   \n",
       "2216        13770       NaN     NaN        NaN      NaN  SOUTHVIEW AVE   \n",
       "2217        14125       NaN     NaN        NaN      NaN       ALICE ST   \n",
       "\n",
       "     FEDROUTE FEDRTETYPE AFEDRTE AFEDRTETYPE  ... SLOPE OCI2017 OCI2014  \\\n",
       "0        None      Other    None        None  ...   NaN   58.92   71.66   \n",
       "1        None      Other    None        None  ...   NaN   90.93   98.96   \n",
       "2        None      Other    None        None  ...   NaN   71.70  100.00   \n",
       "3        None      Other    None        None  ...   NaN   71.70  100.00   \n",
       "4        None      Other    None        None  ...   NaN   91.97  100.00   \n",
       "...       ...        ...     ...         ...  ...   ...     ...     ...   \n",
       "2213     None      Other    None        None  ...   5.0     NaN     NaN   \n",
       "2214     None       None    None        None  ...  10.0     NaN     NaN   \n",
       "2215     None       None    None        None  ...   7.0     NaN     NaN   \n",
       "2216     None       None    None        None  ...  10.0     NaN     NaN   \n",
       "2217     None       None    None        None  ...  12.0     NaN     NaN   \n",
       "\n",
       "                                    GlobalID    FACILITYID OCI2019 OCI2020  \\\n",
       "0     {E10997BF-346F-493B-9078-ABF3BA07D894}  STREET-02600   96.08   96.08   \n",
       "1     {F2D06156-E244-4542-A0A7-9F47285F09AF}  STREET-01430   86.04   86.04   \n",
       "2     {BF94EEC2-9DBF-42FD-8BA0-31C170DEC8CB}  STREET-02670   80.02   80.02   \n",
       "3     {E4ADA45C-08D8-4C70-B30F-46E1097647A3}  STREET-02660   80.02   80.02   \n",
       "4     {D3CE1840-EC8C-4124-AAEF-4A67AB2B5415}  STREET-02650   95.17   95.17   \n",
       "...                                      ...           ...     ...     ...   \n",
       "2213  {CE44A217-E6DA-4168-A8A9-C28AD394A399}  STREET-00301     NaN     NaN   \n",
       "2214  {588D3E9B-7CBE-48D5-94BF-0DB57D0E0442}  STREET-13760     NaN     NaN   \n",
       "2215  {2F896E18-E40F-4BD6-81D2-5DDD91482100}  STREET-13765     NaN     NaN   \n",
       "2216  {4BAB6FC8-B24E-49A0-B852-9AF25FD43BF2}  STREET-13770     NaN     NaN   \n",
       "2217  {737681F6-3046-4A97-B0DE-D5B3D23470DD}  STREET-14125     NaN     NaN   \n",
       "\n",
       "       ADTID  SHAPE_Length                                           geometry  \n",
       "0     F19-05     87.664841  MULTILINESTRING ((2310851.729 1847250.622, 231...  \n",
       "1     G16-05    349.983212  MULTILINESTRING ((2310883.550 1849572.726, 231...  \n",
       "2     F17-12    230.721479  MULTILINESTRING ((2310883.464 1849564.375, 231...  \n",
       "3     F17-06    239.999980  MULTILINESTRING ((2310880.869 1849333.668, 231...  \n",
       "4     F17-07    240.667684  MULTILINESTRING ((2310878.196 1849093.683, 231...  \n",
       "...      ...           ...                                                ...  \n",
       "2213    None    756.596825  MULTILINESTRING ((2316177.219 1849043.781, 231...  \n",
       "2214    None    706.800143  MULTILINESTRING ((2312049.540 1843770.847, 231...  \n",
       "2215    None    173.316937  MULTILINESTRING ((2312699.813 1843557.137, 231...  \n",
       "2216    None    221.456644  MULTILINESTRING ((2312699.813 1843557.137, 231...  \n",
       "2217    None    150.310493  MULTILINESTRING ((2312914.864 1843646.154, 231...  \n",
       "\n",
       "[2218 rows x 65 columns]"
      ]
     },
     "execution_count": 20,
     "metadata": {},
     "output_type": "execute_result"
    }
   ],
   "source": [
    "roads"
   ]
  },
  {
   "cell_type": "code",
   "execution_count": 21,
   "id": "c868f1c6-c4d1-4f22-a07d-60e522dc9382",
   "metadata": {},
   "outputs": [
    {
     "data": {
      "text/plain": [
       "Index(['LANDUSECODE', 'LANDUSEDESC', 'BASEELEV', 'HEIGHT', 'LASTUPDATE',\n",
       "       'LASTEDITOR', 'SUBTYPECODE', 'SUBTYPEDESC', 'PARCELID', 'ADDRESS',\n",
       "       'LOCDESC', 'GlobalID', 'SHAPE_Length', 'SHAPE_Area', 'geometry'],\n",
       "      dtype='object')"
      ]
     },
     "execution_count": 21,
     "metadata": {},
     "output_type": "execute_result"
    }
   ],
   "source": [
    "zoning.columns"
   ]
  },
  {
   "cell_type": "code",
   "execution_count": 22,
   "id": "c5573dbc-9750-43d9-b738-2ea45d442b0c",
   "metadata": {},
   "outputs": [
    {
     "data": {
      "text/plain": [
       "array(['Auto-Urban Residential', 'University',\n",
       "       'Parks, Recreation, and Open Space',\n",
       "       'Auto-Urban Residential, Medium Density', 'Urban Commercial',\n",
       "       'Urban Residential, Medium Density', 'Urban Residential',\n",
       "       'Suburban Residential', 'Public and Semi-Public',\n",
       "       'Auto-Urban Commercial', 'Vacant', 'Auto-Urban Industrial',\n",
       "       'Agricultural', 'Research/Technology Park', '',\n",
       "       'Suburban Commercial'], dtype=object)"
      ]
     },
     "execution_count": 22,
     "metadata": {},
     "output_type": "execute_result"
    }
   ],
   "source": [
    "zoning['LANDUSEDESC'].unique()"
   ]
  },
  {
   "cell_type": "code",
   "execution_count": 23,
   "id": "39000fc1-bc15-42ff-8140-c7dca15d0304",
   "metadata": {},
   "outputs": [
    {
     "data": {
      "text/plain": [
       "array(['111', '750', '800', '109', '250', '115', '110', '120', '700',\n",
       "       '200', '11', '400', '900', '999', '0', '150', None], dtype=object)"
      ]
     },
     "execution_count": 23,
     "metadata": {},
     "output_type": "execute_result"
    }
   ],
   "source": [
    "zoning['LANDUSECODE'].unique()"
   ]
  },
  {
   "cell_type": "code",
   "execution_count": 24,
   "id": "b3bbe430-5a94-453e-a5a4-6421b573dbde",
   "metadata": {},
   "outputs": [],
   "source": [
    "# We can measure the distance between any parcel and a point near the center of downtown Moscow\n",
    "from shapely.geometry import Point\n",
    "parcels['Dwntn_dist'] = parcels.distance(Point(2.311e6, 1.849e6))"
   ]
  },
  {
   "cell_type": "markdown",
   "id": "888862c3-cee8-4bc4-9b87-8a2c7850d04a",
   "metadata": {},
   "source": [
    "#### Visualizing the data\n",
    "I think each of the plots below is interesting.  Try commenting and uncommenting each one"
   ]
  },
  {
   "cell_type": "code",
   "execution_count": 25,
   "id": "b7607691-1387-4e20-930d-cfa47e3992dd",
   "metadata": {
    "tags": []
   },
   "outputs": [
    {
     "data": {
      "application/vnd.jupyter.widget-view+json": {
       "model_id": "55d33274b81148f4b74c443ebfad8606",
       "version_major": 2,
       "version_minor": 0
      },
      "text/plain": [
       "Canvas(toolbar=Toolbar(toolitems=[('Home', 'Reset original view', 'home', 'home'), ('Back', 'Back to previous …"
      ]
     },
     "metadata": {},
     "output_type": "display_data"
    },
    {
     "data": {
      "text/plain": [
       "<AxesSubplot:>"
      ]
     },
     "execution_count": 25,
     "metadata": {},
     "output_type": "execute_result"
    }
   ],
   "source": [
    "%matplotlib widget\n",
    "fig, ax = plt.subplots( figsize=(8,8) )\n",
    "\n",
    "# These are a few of the interesting plots to look at.\n",
    "#parcels.plot(column='Dwntn_dist', ax=ax, legend=True, vmax=5280);\n",
    "zoning.plot(column='LANDUSEDESC', ax=ax, legend=True, cmap='tab20')\n",
    "#parcels.plot(column= 'SaleYear', ax=ax, legend=True, vmin=1990)\n",
    "\n",
    "ax.set_xlim( city_limits.bounds.to_numpy()[0][::2] )\n",
    "ax.set_ylim( city_limits.bounds.to_numpy()[0][1::2] )\n",
    "\n",
    "roads.plot(ax=ax, color='gray')\n"
   ]
  },
  {
   "cell_type": "code",
   "execution_count": null,
   "id": "503a63fb-7da7-4a39-a953-aa34356c78eb",
   "metadata": {},
   "outputs": [],
   "source": []
  },
  {
   "cell_type": "markdown",
   "id": "9a0adbd0-ef1d-4d0d-bdfc-f43eefac496a",
   "metadata": {},
   "source": [
    "### Property sales over time\n",
    "Similar to the assignment from last week, we can look at the property sales as a function of time."
   ]
  },
  {
   "cell_type": "code",
   "execution_count": 26,
   "id": "f9122c77-a7eb-44b5-8842-4e9c6188e063",
   "metadata": {
    "tags": []
   },
   "outputs": [
    {
     "name": "stdout",
     "output_type": "stream",
     "text": [
      "0    20120925.0\n",
      "1    20120925.0\n",
      "2           0.0\n",
      "3    20190815.0\n",
      "Name: PM_DEEDCDT, dtype: object\n"
     ]
    }
   ],
   "source": [
    "import pandas as pd\n",
    "print( parcels['PM_DEEDCDT'].astype(str)[:4] )\n",
    "\n",
    "parcels['SaleDate'] = pd.to_datetime(\n",
    "    parcels['PM_DEEDCDT'], \n",
    "    errors='coerce', \n",
    "    format='%Y%m%d')\n"
   ]
  },
  {
   "cell_type": "code",
   "execution_count": 27,
   "id": "a9aa8268-4752-4ed8-bbdc-3fa9da2ae504",
   "metadata": {
    "tags": []
   },
   "outputs": [
    {
     "data": {
      "text/plain": [
       "0      2012-09-25\n",
       "1      2012-09-25\n",
       "2             NaT\n",
       "3      2019-08-15\n",
       "4      2019-08-15\n",
       "          ...    \n",
       "7389          NaT\n",
       "7390          NaT\n",
       "7391          NaT\n",
       "7392          NaT\n",
       "7393          NaT\n",
       "Name: SaleDate, Length: 7394, dtype: datetime64[ns]"
      ]
     },
     "execution_count": 27,
     "metadata": {},
     "output_type": "execute_result"
    }
   ],
   "source": [
    "parcels['SaleDate']"
   ]
  },
  {
   "cell_type": "code",
   "execution_count": 28,
   "id": "596b9caa-d2ba-4e79-9c36-ab5bb1d8ee5e",
   "metadata": {
    "tags": []
   },
   "outputs": [],
   "source": [
    "dates = parcels['PM_DEEDCDT'].to_numpy() # Pull out all the sale dates (initially floats)\n",
    "yr = np.full( dates.shape, np.nan ) # initialize a variable full of nans\n",
    "\n",
    "for i in range(len(dates)): \n",
    "    if dates[i] > 0:\n",
    "        yr[i] = int( str(dates[i])[:4] )\n",
    "    else:\n",
    "        yr[i] = np.nan\n",
    "\n",
    "parcels['SaleYear'] = yr # Create a new column for the parcels data frame representing sale year\n"
   ]
  },
  {
   "cell_type": "code",
   "execution_count": 29,
   "id": "0b191054-8968-468b-95fc-818168d3dd24",
   "metadata": {},
   "outputs": [
    {
     "data": {
      "application/vnd.jupyter.widget-view+json": {
       "model_id": "ec02593544654b29b1359bf43289ac34",
       "version_major": 2,
       "version_minor": 0
      },
      "text/plain": [
       "Canvas(toolbar=Toolbar(toolitems=[('Home', 'Reset original view', 'home', 'home'), ('Back', 'Back to previous …"
      ]
     },
     "metadata": {},
     "output_type": "display_data"
    }
   ],
   "source": [
    "bin_size = np.timedelta64(365, 'D')/12 # days\n",
    "fig, ax = plt.subplots()\n",
    "ax.hist(parcels['SaleDate'], bins=np.arange(np.datetime64('1990-01-01'), \n",
    "                                            np.datetime64('2022-01-01'), \n",
    "                                            bin_size ) )\n",
    "ylabel_text = 'Number of property sales in Moscow\\nper ' + str(bin_size.astype(int)) + ' days'\n",
    "ax.set_ylabel(ylabel_text)\n",
    "ax.set_xlim(np.datetime64('2000-01-01'), np.datetime64('2022-01-01') );\n",
    "# ax.set_xlim(np.datetime64('2010-12-15'), np.datetime64('2011-01-01') )\n",
    "\n",
    "# Note that the sales at the end of 2010 are anomalous, and are all recorded on the same day.\n",
    "# That's suspicious and Tim thinks that it must be some change in accounting or record keeping."
   ]
  },
  {
   "cell_type": "markdown",
   "id": "38c893b8-ffb6-4e1d-8086-58550738aae1",
   "metadata": {},
   "source": [
    "<div class=\"alert alert-block alert-warning\">\n",
    "\n",
    "## 3. Investing in downtown property\n",
    "You are the GIS consultant for a property investment company that specializes in\n",
    "downtown and higher-density properties.  Your company is considering Moscow real estate.\n",
    "You've heard about the boom in sales within the city, and your company would like to know how competitive\n",
    "property purchasing will be, or if they will be able to drive a hard bargin.\n",
    "\n",
    "Has the downtown property market heated up as much as within the city as a whole?\n",
    "Compare sale rates within two of the zoned downtown regions with those of the city as a whole.\n",
    "    \n",
    "Is there anything else in these data that you would like to share with your colleagues\n",
    "    that could help advise them as you consider this investment?\n",
    "</div>"
   ]
  },
  {
   "cell_type": "code",
   "execution_count": 30,
   "id": "05af443a-5298-4f8d-bc5c-bab21766867f",
   "metadata": {},
   "outputs": [
    {
     "data": {
      "application/vnd.jupyter.widget-view+json": {
       "model_id": "9bd6d7e3f51a4469afdd374836199f87",
       "version_major": 2,
       "version_minor": 0
      },
      "text/plain": [
       "Canvas(toolbar=Toolbar(toolitems=[('Home', 'Reset original view', 'home', 'home'), ('Back', 'Back to previous …"
      ]
     },
     "metadata": {},
     "output_type": "display_data"
    }
   ],
   "source": [
    "urb_res = zoning[zoning['LANDUSEDESC']=='Urban Residential, Medium Density'] # Create new gdfs for zoned downtown regions\n",
    "auto_urb_res = zoning[zoning['LANDUSEDESC']=='Auto-Urban Residential, Medium Density']\n",
    "\n",
    "urb_res_parcels = gpd.overlay(parcels,urb_res, how='intersection') # Create new gdfs of zone intersections with parcels to access SaleDate\n",
    "auto_urb_res_parcels = gpd.overlay(parcels,auto_urb_res, how='intersection')\n",
    "\n",
    "fig,(ax1,ax2,ax3) = plt.subplots(1,3,figsize=(11.5,5))\n",
    "\n",
    "# Plot 3 histograms of property sales over time; one for Moscow; one for each of the zoned downtown regions\n",
    "ax1.hist(parcels['SaleDate'], bins=np.arange(np.datetime64('1990-01-01'), np.datetime64('2022-01-01'),bin_size))\n",
    "ax1.set_title('In Moscow')\n",
    "\n",
    "ax2.hist(urb_res_parcels['SaleDate'], bins=np.arange(np.datetime64('1990-01-01'), np.datetime64('2022-01-01'), bin_size))\n",
    "ax2.set_title('In Urban Residential,\\nMedium Density Zone')\n",
    "\n",
    "ax3.hist(auto_urb_res_parcels['SaleDate'], bins=np.arange(np.datetime64('1990-01-01'), np.datetime64('2022-01-01'), bin_size))\n",
    "ax3.set_title('In Auto-Urban Residential,\\nMedium Density Zone')\n",
    "\n",
    "for ax in (ax1,ax2,ax3): # Loop through axes objects for iterable plot formatting\n",
    "    ax.set_ylabel('Number of property sales per ' + str(bin_size.astype(int)) + ' days')\n",
    "    ax.set_xlim(np.datetime64('2000-01-01'), np.datetime64('2022-01-01'))\n",
    "    ax.set_xlabel('Year')\n",
    "    \n",
    "plt.tight_layout()"
   ]
  },
  {
   "cell_type": "markdown",
   "id": "ace97372-6cee-4ffd-9efa-8dd0a927a30d",
   "metadata": {},
   "source": [
    "<div class=\"alert alert-block alert-warning\">\n",
    "\n",
    "## 4. Find, plot, work with data of your own\n",
    "Find a spatial, vector dataset of your choosing (by googling, from another class, \n",
    "    or from a research project of yours). This could be climate data, geologic units,\n",
    "    census data, ecological units, demographic data, etc. Download or copy this dataset\n",
    "    into the current directory, plot it, and use geopandas to draw on the attributes \n",
    "    of that data (even just lengths, areas, etc) and tell me something about that data.\n",
    "</div>"
   ]
  },
  {
   "cell_type": "code",
   "execution_count": null,
   "id": "9aa5b7c7-cb2a-4b03-9d06-5ad1087b4a7e",
   "metadata": {},
   "outputs": [],
   "source": [
    "states = gpd.read_file('cb_2018_us_state_500k.geojson') # Census gdf of US\n",
    "idaho = states[states['NAME']=='Idaho'] # Create new gdf of just Idaho\n",
    "idaho_proj = idaho.to_crs(epsg=parcels.crs.to_epsg()) # Project idaho gdf to the parcels gdf EPSG\n",
    "\n",
    "ws_watersheds = gpd.read_file('Wild_and_Scenic_Watersheds.geojson') # Load IDWR Wild and Scenic Watersheds GeoJSON\n",
    "ws_watersheds['Centroid'] = ws_watersheds['geometry'].centroid # Create centroid column for annotations later on\n",
    "ws_watersheds"
   ]
  },
  {
   "cell_type": "code",
   "execution_count": 32,
   "id": "36308327-5753-4e9b-94a1-14c72fffb926",
   "metadata": {},
   "outputs": [
    {
     "data": {
      "text/plain": [
       "<Geographic 2D CRS: EPSG:4326>\n",
       "Name: WGS 84\n",
       "Axis Info [ellipsoidal]:\n",
       "- Lat[north]: Geodetic latitude (degree)\n",
       "- Lon[east]: Geodetic longitude (degree)\n",
       "Area of Use:\n",
       "- name: World.\n",
       "- bounds: (-180.0, -90.0, 180.0, 90.0)\n",
       "Datum: World Geodetic System 1984\n",
       "- Ellipsoid: WGS 84\n",
       "- Prime Meridian: Greenwich"
      ]
     },
     "execution_count": 32,
     "metadata": {},
     "output_type": "execute_result"
    }
   ],
   "source": [
    "ws_watersheds.crs # Data came in a geographic coordinate system"
   ]
  },
  {
   "cell_type": "code",
   "execution_count": 33,
   "id": "847e31b2-776c-4ca1-8c7a-dfcbcaa2f2a4",
   "metadata": {},
   "outputs": [
    {
     "data": {
      "text/html": [
       "<div>\n",
       "<style scoped>\n",
       "    .dataframe tbody tr th:only-of-type {\n",
       "        vertical-align: middle;\n",
       "    }\n",
       "\n",
       "    .dataframe tbody tr th {\n",
       "        vertical-align: top;\n",
       "    }\n",
       "\n",
       "    .dataframe thead th {\n",
       "        text-align: right;\n",
       "    }\n",
       "</style>\n",
       "<table border=\"1\" class=\"dataframe\">\n",
       "  <thead>\n",
       "    <tr style=\"text-align: right;\">\n",
       "      <th></th>\n",
       "      <th>FID</th>\n",
       "      <th>NAME</th>\n",
       "      <th>Shape_Leng</th>\n",
       "      <th>Shape_Area</th>\n",
       "      <th>DisName</th>\n",
       "      <th>AreaID</th>\n",
       "      <th>geometry</th>\n",
       "      <th>Centroid</th>\n",
       "      <th>Shape_Area_mi2</th>\n",
       "    </tr>\n",
       "  </thead>\n",
       "  <tbody>\n",
       "    <tr>\n",
       "      <th>0</th>\n",
       "      <td>0</td>\n",
       "      <td>Battle Creek</td>\n",
       "      <td>2.135606e+05</td>\n",
       "      <td>6.824519e+08</td>\n",
       "      <td>Battle Creek</td>\n",
       "      <td>60</td>\n",
       "      <td>POLYGON ((2456475.772 393266.845, 2456404.534 ...</td>\n",
       "      <td>POINT (-116.38725 42.46551)</td>\n",
       "      <td>24.479593</td>\n",
       "    </tr>\n",
       "    <tr>\n",
       "      <th>1</th>\n",
       "      <td>1</td>\n",
       "      <td>Big Jacks Creek</td>\n",
       "      <td>1.648467e+05</td>\n",
       "      <td>3.606025e+08</td>\n",
       "      <td>Big Jacks Creek</td>\n",
       "      <td>61</td>\n",
       "      <td>POLYGON ((2552562.044 393876.664, 2552528.976 ...</td>\n",
       "      <td>POINT (-116.09647 42.55649)</td>\n",
       "      <td>12.934835</td>\n",
       "    </tr>\n",
       "    <tr>\n",
       "      <th>2</th>\n",
       "      <td>2</td>\n",
       "      <td>Bruneau River</td>\n",
       "      <td>3.257480e+05</td>\n",
       "      <td>2.399888e+09</td>\n",
       "      <td>Bruneau River</td>\n",
       "      <td>62</td>\n",
       "      <td>POLYGON ((2635806.786 398475.871, 2635752.985 ...</td>\n",
       "      <td>POINT (-115.42582 42.37295)</td>\n",
       "      <td>86.084144</td>\n",
       "    </tr>\n",
       "    <tr>\n",
       "      <th>3</th>\n",
       "      <td>3</td>\n",
       "      <td>Cottonwood Creek</td>\n",
       "      <td>3.152853e+04</td>\n",
       "      <td>2.930482e+07</td>\n",
       "      <td>Cottonwood Creek</td>\n",
       "      <td>63</td>\n",
       "      <td>POLYGON ((2536993.925 321320.366, 2536847.264 ...</td>\n",
       "      <td>POINT (-116.10561 42.48768)</td>\n",
       "      <td>1.051166</td>\n",
       "    </tr>\n",
       "    <tr>\n",
       "      <th>4</th>\n",
       "      <td>4</td>\n",
       "      <td>Deep Creek</td>\n",
       "      <td>2.176621e+05</td>\n",
       "      <td>9.673446e+08</td>\n",
       "      <td>Deep Creek</td>\n",
       "      <td>64</td>\n",
       "      <td>POLYGON ((2361355.636 379151.298, 2361325.982 ...</td>\n",
       "      <td>POINT (-116.65727 42.50236)</td>\n",
       "      <td>34.698713</td>\n",
       "    </tr>\n",
       "    <tr>\n",
       "      <th>5</th>\n",
       "      <td>5</td>\n",
       "      <td>Dickshooter Creek</td>\n",
       "      <td>6.649627e+04</td>\n",
       "      <td>1.973720e+08</td>\n",
       "      <td>Dickshooter Creek</td>\n",
       "      <td>65</td>\n",
       "      <td>POLYGON ((2435267.569 294863.732, 2435022.778 ...</td>\n",
       "      <td>POINT (-116.50100 42.39985)</td>\n",
       "      <td>7.079748</td>\n",
       "    </tr>\n",
       "    <tr>\n",
       "      <th>6</th>\n",
       "      <td>6</td>\n",
       "      <td>Duncan Creek</td>\n",
       "      <td>5.752395e+04</td>\n",
       "      <td>6.889608e+07</td>\n",
       "      <td>Duncan Creek</td>\n",
       "      <td>66</td>\n",
       "      <td>POLYGON ((2553224.689 327073.393, 2553176.268 ...</td>\n",
       "      <td>POINT (-116.05615 42.47882)</td>\n",
       "      <td>2.471307</td>\n",
       "    </tr>\n",
       "    <tr>\n",
       "      <th>7</th>\n",
       "      <td>7</td>\n",
       "      <td>Jarbidge River</td>\n",
       "      <td>1.410966e+05</td>\n",
       "      <td>6.972195e+08</td>\n",
       "      <td>Jarbidge River</td>\n",
       "      <td>67</td>\n",
       "      <td>POLYGON ((2652288.845 241654.502, 2652149.339 ...</td>\n",
       "      <td>POINT (-115.48184 42.12045)</td>\n",
       "      <td>25.009308</td>\n",
       "    </tr>\n",
       "    <tr>\n",
       "      <th>8</th>\n",
       "      <td>8</td>\n",
       "      <td>Little Jacks Creek</td>\n",
       "      <td>7.608313e+04</td>\n",
       "      <td>1.876183e+08</td>\n",
       "      <td>Little Jacks Creek</td>\n",
       "      <td>68</td>\n",
       "      <td>POLYGON ((2523039.446 375026.946, 2522903.732 ...</td>\n",
       "      <td>POINT (-116.20286 42.63177)</td>\n",
       "      <td>6.729881</td>\n",
       "    </tr>\n",
       "    <tr>\n",
       "      <th>9</th>\n",
       "      <td>9</td>\n",
       "      <td>Lochsa R</td>\n",
       "      <td>4.218119e+05</td>\n",
       "      <td>3.058236e+09</td>\n",
       "      <td>Lochsa River</td>\n",
       "      <td>48</td>\n",
       "      <td>POLYGON ((2888677.370 1851342.943, 2888544.823...</td>\n",
       "      <td>POINT (-114.96165 46.41163)</td>\n",
       "      <td>109.699135</td>\n",
       "    </tr>\n",
       "    <tr>\n",
       "      <th>10</th>\n",
       "      <td>10</td>\n",
       "      <td>Mid Fk Clearwater R</td>\n",
       "      <td>1.187513e+05</td>\n",
       "      <td>5.575739e+08</td>\n",
       "      <td>Middle Fork Clearwater River</td>\n",
       "      <td>49</td>\n",
       "      <td>POLYGON ((2590801.750 1670057.568, 2590749.196...</td>\n",
       "      <td>POINT (-115.79332 46.10075)</td>\n",
       "      <td>20.000213</td>\n",
       "    </tr>\n",
       "    <tr>\n",
       "      <th>11</th>\n",
       "      <td>11</td>\n",
       "      <td>Mid Fk Salmon R</td>\n",
       "      <td>5.436731e+05</td>\n",
       "      <td>7.447378e+09</td>\n",
       "      <td>Middle Fork Salmon River</td>\n",
       "      <td>50</td>\n",
       "      <td>POLYGON ((2753281.850 1325006.816, 2753240.284...</td>\n",
       "      <td>POINT (-114.96274 44.80686)</td>\n",
       "      <td>267.137915</td>\n",
       "    </tr>\n",
       "    <tr>\n",
       "      <th>12</th>\n",
       "      <td>12</td>\n",
       "      <td>N Fork Owyhee River</td>\n",
       "      <td>1.140891e+05</td>\n",
       "      <td>2.728691e+08</td>\n",
       "      <td>N Fork Owyhee River</td>\n",
       "      <td>69</td>\n",
       "      <td>POLYGON ((2307673.674 394740.446, 2307607.347 ...</td>\n",
       "      <td>POINT (-116.87519 42.61885)</td>\n",
       "      <td>9.787833</td>\n",
       "    </tr>\n",
       "    <tr>\n",
       "      <th>13</th>\n",
       "      <td>13</td>\n",
       "      <td>Owyhee River</td>\n",
       "      <td>3.917463e+05</td>\n",
       "      <td>2.209112e+09</td>\n",
       "      <td>Owyhee River</td>\n",
       "      <td>70</td>\n",
       "      <td>POLYGON ((2487018.836 320133.615, 2486844.697 ...</td>\n",
       "      <td>POINT (-116.37981 42.20591)</td>\n",
       "      <td>79.240973</td>\n",
       "    </tr>\n",
       "    <tr>\n",
       "      <th>14</th>\n",
       "      <td>14</td>\n",
       "      <td>Rapid R</td>\n",
       "      <td>8.559167e+04</td>\n",
       "      <td>2.799804e+08</td>\n",
       "      <td>Rapid River</td>\n",
       "      <td>53</td>\n",
       "      <td>POLYGON ((2455499.521 1346783.947, 2455209.000...</td>\n",
       "      <td>POINT (-116.48305 45.24631)</td>\n",
       "      <td>10.042915</td>\n",
       "    </tr>\n",
       "    <tr>\n",
       "      <th>15</th>\n",
       "      <td>15</td>\n",
       "      <td>Red Canyon</td>\n",
       "      <td>6.351409e+04</td>\n",
       "      <td>1.336125e+08</td>\n",
       "      <td>Red Canyon</td>\n",
       "      <td>71</td>\n",
       "      <td>POLYGON ((2321485.204 287170.823, 2321443.614 ...</td>\n",
       "      <td>POINT (-116.87100 42.36532)</td>\n",
       "      <td>4.792691</td>\n",
       "    </tr>\n",
       "    <tr>\n",
       "      <th>16</th>\n",
       "      <td>16</td>\n",
       "      <td>Salmon  R excluding Mid F</td>\n",
       "      <td>1.606569e+06</td>\n",
       "      <td>2.394139e+10</td>\n",
       "      <td>Salmon River Excluding Middle Fork</td>\n",
       "      <td>51</td>\n",
       "      <td>POLYGON ((2810758.128 1509229.427, 2810738.296...</td>\n",
       "      <td>POINT (-114.50940 44.84330)</td>\n",
       "      <td>858.779210</td>\n",
       "    </tr>\n",
       "    <tr>\n",
       "      <th>17</th>\n",
       "      <td>17</td>\n",
       "      <td>Selway R</td>\n",
       "      <td>5.181763e+05</td>\n",
       "      <td>5.204626e+09</td>\n",
       "      <td>Selway River</td>\n",
       "      <td>52</td>\n",
       "      <td>POLYGON ((2889865.232 1719536.410, 2889609.154...</td>\n",
       "      <td>POINT (-114.91361 45.98099)</td>\n",
       "      <td>186.690283</td>\n",
       "    </tr>\n",
       "    <tr>\n",
       "      <th>18</th>\n",
       "      <td>18</td>\n",
       "      <td>Sheep Creek</td>\n",
       "      <td>2.138754e+05</td>\n",
       "      <td>1.376048e+09</td>\n",
       "      <td>Sheep Creek</td>\n",
       "      <td>72</td>\n",
       "      <td>POLYGON ((2663700.421 304234.899, 2663458.616 ...</td>\n",
       "      <td>POINT (-115.86245 42.23727)</td>\n",
       "      <td>49.358944</td>\n",
       "    </tr>\n",
       "    <tr>\n",
       "      <th>19</th>\n",
       "      <td>19</td>\n",
       "      <td>South Fork Owyhee River</td>\n",
       "      <td>1.532835e+05</td>\n",
       "      <td>8.680537e+08</td>\n",
       "      <td>South Fork Owyhee River</td>\n",
       "      <td>73</td>\n",
       "      <td>MULTIPOLYGON (((2471390.594 123119.657, 247131...</td>\n",
       "      <td>POINT (-116.81770 42.10117)</td>\n",
       "      <td>31.137142</td>\n",
       "    </tr>\n",
       "    <tr>\n",
       "      <th>20</th>\n",
       "      <td>20</td>\n",
       "      <td>St Joe River</td>\n",
       "      <td>1.959012e+05</td>\n",
       "      <td>1.221948e+09</td>\n",
       "      <td>St Joe River</td>\n",
       "      <td>74</td>\n",
       "      <td>POLYGON ((2662235.858 2057594.377, 2662218.994...</td>\n",
       "      <td>POINT (-115.45381 47.13621)</td>\n",
       "      <td>43.831349</td>\n",
       "    </tr>\n",
       "    <tr>\n",
       "      <th>21</th>\n",
       "      <td>21</td>\n",
       "      <td>West Fork Bruneau River</td>\n",
       "      <td>1.214774e+05</td>\n",
       "      <td>2.790494e+08</td>\n",
       "      <td>West Fork Bruneau River</td>\n",
       "      <td>75</td>\n",
       "      <td>POLYGON ((2646547.180 242457.879, 2646219.274 ...</td>\n",
       "      <td>POINT (-115.67408 42.14480)</td>\n",
       "      <td>10.009520</td>\n",
       "    </tr>\n",
       "    <tr>\n",
       "      <th>22</th>\n",
       "      <td>22</td>\n",
       "      <td>Wickahoney Creek</td>\n",
       "      <td>7.161735e+04</td>\n",
       "      <td>1.510963e+08</td>\n",
       "      <td>Wickahoney Creek</td>\n",
       "      <td>76</td>\n",
       "      <td>POLYGON ((2557351.909 333086.586, 2557315.321 ...</td>\n",
       "      <td>POINT (-115.98278 42.48047)</td>\n",
       "      <td>5.419835</td>\n",
       "    </tr>\n",
       "  </tbody>\n",
       "</table>\n",
       "</div>"
      ],
      "text/plain": [
       "    FID                       NAME    Shape_Leng    Shape_Area  \\\n",
       "0     0               Battle Creek  2.135606e+05  6.824519e+08   \n",
       "1     1            Big Jacks Creek  1.648467e+05  3.606025e+08   \n",
       "2     2              Bruneau River  3.257480e+05  2.399888e+09   \n",
       "3     3           Cottonwood Creek  3.152853e+04  2.930482e+07   \n",
       "4     4                 Deep Creek  2.176621e+05  9.673446e+08   \n",
       "5     5          Dickshooter Creek  6.649627e+04  1.973720e+08   \n",
       "6     6               Duncan Creek  5.752395e+04  6.889608e+07   \n",
       "7     7             Jarbidge River  1.410966e+05  6.972195e+08   \n",
       "8     8         Little Jacks Creek  7.608313e+04  1.876183e+08   \n",
       "9     9                   Lochsa R  4.218119e+05  3.058236e+09   \n",
       "10   10        Mid Fk Clearwater R  1.187513e+05  5.575739e+08   \n",
       "11   11            Mid Fk Salmon R  5.436731e+05  7.447378e+09   \n",
       "12   12        N Fork Owyhee River  1.140891e+05  2.728691e+08   \n",
       "13   13               Owyhee River  3.917463e+05  2.209112e+09   \n",
       "14   14                    Rapid R  8.559167e+04  2.799804e+08   \n",
       "15   15                 Red Canyon  6.351409e+04  1.336125e+08   \n",
       "16   16  Salmon  R excluding Mid F  1.606569e+06  2.394139e+10   \n",
       "17   17                   Selway R  5.181763e+05  5.204626e+09   \n",
       "18   18                Sheep Creek  2.138754e+05  1.376048e+09   \n",
       "19   19    South Fork Owyhee River  1.532835e+05  8.680537e+08   \n",
       "20   20               St Joe River  1.959012e+05  1.221948e+09   \n",
       "21   21    West Fork Bruneau River  1.214774e+05  2.790494e+08   \n",
       "22   22           Wickahoney Creek  7.161735e+04  1.510963e+08   \n",
       "\n",
       "                               DisName  AreaID  \\\n",
       "0                         Battle Creek      60   \n",
       "1                      Big Jacks Creek      61   \n",
       "2                        Bruneau River      62   \n",
       "3                     Cottonwood Creek      63   \n",
       "4                           Deep Creek      64   \n",
       "5                    Dickshooter Creek      65   \n",
       "6                         Duncan Creek      66   \n",
       "7                       Jarbidge River      67   \n",
       "8                   Little Jacks Creek      68   \n",
       "9                         Lochsa River      48   \n",
       "10        Middle Fork Clearwater River      49   \n",
       "11            Middle Fork Salmon River      50   \n",
       "12                 N Fork Owyhee River      69   \n",
       "13                        Owyhee River      70   \n",
       "14                         Rapid River      53   \n",
       "15                          Red Canyon      71   \n",
       "16  Salmon River Excluding Middle Fork      51   \n",
       "17                        Selway River      52   \n",
       "18                         Sheep Creek      72   \n",
       "19             South Fork Owyhee River      73   \n",
       "20                        St Joe River      74   \n",
       "21             West Fork Bruneau River      75   \n",
       "22                    Wickahoney Creek      76   \n",
       "\n",
       "                                             geometry  \\\n",
       "0   POLYGON ((2456475.772 393266.845, 2456404.534 ...   \n",
       "1   POLYGON ((2552562.044 393876.664, 2552528.976 ...   \n",
       "2   POLYGON ((2635806.786 398475.871, 2635752.985 ...   \n",
       "3   POLYGON ((2536993.925 321320.366, 2536847.264 ...   \n",
       "4   POLYGON ((2361355.636 379151.298, 2361325.982 ...   \n",
       "5   POLYGON ((2435267.569 294863.732, 2435022.778 ...   \n",
       "6   POLYGON ((2553224.689 327073.393, 2553176.268 ...   \n",
       "7   POLYGON ((2652288.845 241654.502, 2652149.339 ...   \n",
       "8   POLYGON ((2523039.446 375026.946, 2522903.732 ...   \n",
       "9   POLYGON ((2888677.370 1851342.943, 2888544.823...   \n",
       "10  POLYGON ((2590801.750 1670057.568, 2590749.196...   \n",
       "11  POLYGON ((2753281.850 1325006.816, 2753240.284...   \n",
       "12  POLYGON ((2307673.674 394740.446, 2307607.347 ...   \n",
       "13  POLYGON ((2487018.836 320133.615, 2486844.697 ...   \n",
       "14  POLYGON ((2455499.521 1346783.947, 2455209.000...   \n",
       "15  POLYGON ((2321485.204 287170.823, 2321443.614 ...   \n",
       "16  POLYGON ((2810758.128 1509229.427, 2810738.296...   \n",
       "17  POLYGON ((2889865.232 1719536.410, 2889609.154...   \n",
       "18  POLYGON ((2663700.421 304234.899, 2663458.616 ...   \n",
       "19  MULTIPOLYGON (((2471390.594 123119.657, 247131...   \n",
       "20  POLYGON ((2662235.858 2057594.377, 2662218.994...   \n",
       "21  POLYGON ((2646547.180 242457.879, 2646219.274 ...   \n",
       "22  POLYGON ((2557351.909 333086.586, 2557315.321 ...   \n",
       "\n",
       "                       Centroid  Shape_Area_mi2  \n",
       "0   POINT (-116.38725 42.46551)       24.479593  \n",
       "1   POINT (-116.09647 42.55649)       12.934835  \n",
       "2   POINT (-115.42582 42.37295)       86.084144  \n",
       "3   POINT (-116.10561 42.48768)        1.051166  \n",
       "4   POINT (-116.65727 42.50236)       34.698713  \n",
       "5   POINT (-116.50100 42.39985)        7.079748  \n",
       "6   POINT (-116.05615 42.47882)        2.471307  \n",
       "7   POINT (-115.48184 42.12045)       25.009308  \n",
       "8   POINT (-116.20286 42.63177)        6.729881  \n",
       "9   POINT (-114.96165 46.41163)      109.699135  \n",
       "10  POINT (-115.79332 46.10075)       20.000213  \n",
       "11  POINT (-114.96274 44.80686)      267.137915  \n",
       "12  POINT (-116.87519 42.61885)        9.787833  \n",
       "13  POINT (-116.37981 42.20591)       79.240973  \n",
       "14  POINT (-116.48305 45.24631)       10.042915  \n",
       "15  POINT (-116.87100 42.36532)        4.792691  \n",
       "16  POINT (-114.50940 44.84330)      858.779210  \n",
       "17  POINT (-114.91361 45.98099)      186.690283  \n",
       "18  POINT (-115.86245 42.23727)       49.358944  \n",
       "19  POINT (-116.81770 42.10117)       31.137142  \n",
       "20  POINT (-115.45381 47.13621)       43.831349  \n",
       "21  POINT (-115.67408 42.14480)       10.009520  \n",
       "22  POINT (-115.98278 42.48047)        5.419835  "
      ]
     },
     "execution_count": 33,
     "metadata": {},
     "output_type": "execute_result"
    }
   ],
   "source": [
    "proj_watersheds = ws_watersheds.to_crs(epsg=parcels.crs.to_epsg()) # Project watersheds dataset to the parcels gdf EPSG\n",
    "proj_watersheds['Shape_Area_mi2'] = proj_watersheds['Shape_Area']/27878400 # Add an area column in mi2 for better readability\n",
    "proj_watersheds"
   ]
  },
  {
   "cell_type": "code",
   "execution_count": 34,
   "id": "b61f7722-6110-4fc9-8965-04e8155c8ff6",
   "metadata": {},
   "outputs": [
    {
     "name": "stdout",
     "output_type": "stream",
     "text": [
      "0     7.344259e+09\n",
      "1     3.881317e+09\n",
      "2     2.584103e+10\n",
      "3     3.154180e+08\n",
      "4     1.040853e+10\n",
      "5     2.123890e+09\n",
      "6     7.415739e+08\n",
      "7     7.507107e+09\n",
      "8     2.019296e+09\n",
      "9     3.293906e+10\n",
      "10    6.002833e+09\n",
      "11    8.021231e+10\n",
      "12    2.935686e+09\n",
      "13    2.377345e+10\n",
      "14    3.013112e+09\n",
      "15    1.437471e+09\n",
      "16    2.579254e+11\n",
      "17    5.605820e+10\n",
      "18    1.481291e+10\n",
      "19    9.339167e+09\n",
      "20    1.315790e+10\n",
      "21    3.004244e+09\n",
      "22    1.626419e+09\n",
      "dtype: float64\n",
      "0     7.005828e+05\n",
      "1     5.408249e+05\n",
      "2     1.068902e+06\n",
      "3     1.034375e+05\n",
      "4     7.139798e+05\n",
      "5     2.181324e+05\n",
      "6     1.887248e+05\n",
      "7     4.629836e+05\n",
      "8     2.496036e+05\n",
      "9     1.384325e+06\n",
      "10    3.896415e+05\n",
      "11    1.784229e+06\n",
      "12    3.742144e+05\n",
      "13    1.285084e+06\n",
      "14    2.807858e+05\n",
      "15    2.083272e+05\n",
      "16    5.272971e+06\n",
      "17    1.700591e+06\n",
      "18    7.017233e+05\n",
      "19    5.027829e+05\n",
      "20    6.428403e+05\n",
      "21    3.985865e+05\n",
      "22    2.349670e+05\n",
      "dtype: float64\n"
     ]
    }
   ],
   "source": [
    "print(proj_watersheds.area) # Area in ft2\n",
    "print(proj_watersheds.length) # Length in ft"
   ]
  },
  {
   "cell_type": "code",
   "execution_count": 35,
   "id": "c3ae65be-507f-489e-94a9-bb44345b5be5",
   "metadata": {},
   "outputs": [
    {
     "data": {
      "application/vnd.jupyter.widget-view+json": {
       "model_id": "18a4b708905944dc9ae46a1eb844059e",
       "version_major": 2,
       "version_minor": 0
      },
      "text/plain": [
       "Canvas(toolbar=Toolbar(toolitems=[('Home', 'Reset original view', 'home', 'home'), ('Back', 'Back to previous …"
      ]
     },
     "metadata": {},
     "output_type": "display_data"
    }
   ],
   "source": [
    "fig,(ax1,ax2) = plt.subplots(1,2,figsize=(8,5))\n",
    "\n",
    "ws_watersheds.plot(ax=ax1) # Plot watersheds in the original geographic coordinate system\n",
    "idaho['geometry'].exterior.plot(ax=ax1,color='black',lw=.5) # Plot outline of Idaho (GCS)\n",
    "\n",
    "ax1.set_title(\"Idaho's Wild\\nand Scenic Watersheds\",weight='bold')\n",
    "ax1.set_xlabel('Longitude (\\u00b0E)')\n",
    "ax1.set_ylabel('Latitude (\\u00b0W)')\n",
    "\n",
    "for i, label in enumerate(ws_watersheds['NAME']): # Create annotations for each watershed; it's messy, not sure how to fix this\n",
    "    ax1.annotate(label,(ws_watersheds['Centroid'][i].x,ws_watersheds['Centroid'][i].y),size=5)\n",
    "\n",
    "proj_watersheds.plot(ax=ax2,column='Shape_Area_mi2',cmap='autumn_r',legend=True,legend_kwds={'label': \"Watershed Area (mi\\u00b2)\"},vmin=0,vmax=900)\n",
    "# Plot the areas of the projected watersheds\n",
    "idaho_proj['geometry'].exterior.plot(ax=ax2,color='black',lw=.5) # Plot outline of Idaho (Projected)\n",
    "\n",
    "ax2.set_title(\"Area of Idaho's\\nWild and Scenic Watersheds\",weight='bold',pad=12)\n",
    "ax2.set_xlabel('Easting (ft)')\n",
    "ax2.set_ylabel('Northing (ft)')\n",
    "\n",
    "plt.tight_layout()"
   ]
  },
  {
   "cell_type": "code",
   "execution_count": null,
   "id": "4e388e6e-cb33-49d1-bc62-78b6da3df535",
   "metadata": {},
   "outputs": [],
   "source": []
  }
 ],
 "metadata": {
  "kernelspec": {
   "display_name": "Python [conda env:GISenv21b]",
   "language": "python",
   "name": "conda-env-GISenv21b-py"
  },
  "language_info": {
   "codemirror_mode": {
    "name": "ipython",
    "version": 3
   },
   "file_extension": ".py",
   "mimetype": "text/x-python",
   "name": "python",
   "nbconvert_exporter": "python",
   "pygments_lexer": "ipython3",
   "version": "3.9.6"
  }
 },
 "nbformat": 4,
 "nbformat_minor": 5
}

{
 "cells": [
  {
   "cell_type": "markdown",
   "id": "2b433b47",
   "metadata": {},
   "source": [
    "# Assignment 04\n"
   ]
  },
  {
   "cell_type": "code",
   "execution_count": null,
   "id": "428cafa9",
   "metadata": {},
   "outputs": [],
   "source": []
  },
  {
   "cell_type": "code",
   "execution_count": 1,
   "id": "49befc50",
   "metadata": {},
   "outputs": [],
   "source": [
    "import numpy as np\r\n",
    "import matplotlib.pyplot as plt\r\n",
    "from pathlib import Path\r\n",
    "\r\n",
    "import geopandas as gpd"
   ]
  },
  {
   "cell_type": "code",
   "execution_count": 2,
   "id": "7bb475d5",
   "metadata": {},
   "outputs": [],
   "source": [
    "datasets_dir = Path('blahblah/GIS_programming_F21/datasets')\r\n",
    "# ls ../../"
   ]
  },
  {
   "cell_type": "code",
   "execution_count": 3,
   "id": "05d0d353",
   "metadata": {},
   "outputs": [
    {
     "data": {
      "text/plain": [
       "WindowsPath('C:/Users/kayla/GIS_programming_F21/datasets')"
      ]
     },
     "execution_count": 3,
     "metadata": {},
     "output_type": "execute_result"
    }
   ],
   "source": [
    "datasets_dir"
   ]
  },
  {
   "cell_type": "code",
   "execution_count": 4,
   "id": "08f5f460",
   "metadata": {},
   "outputs": [
    {
     "name": "stdout",
     "output_type": "stream",
     "text": [
      "C:\\Users\\kayla\\GIS_programming_F21\\datasets\\moscow\\moscow_vectors\\Moscow.gdb\n",
      "<class 'pathlib.WindowsPath'>\n"
     ]
    }
   ],
   "source": [
    "moscow_gdb_path = datasets_dir / 'moscow' / 'moscow_vectors' / 'Moscow.gdb'\r\n",
    "print(moscow_gdb_path)\r\n",
    "print(type(moscow_gdb_path))"
   ]
  },
  {
   "cell_type": "code",
   "execution_count": null,
   "id": "96bde1a6",
   "metadata": {},
   "outputs": [],
   "source": []
  },
  {
   "cell_type": "code",
   "execution_count": 5,
   "id": "b529dc2c",
   "metadata": {},
   "outputs": [
    {
     "data": {
      "text/plain": [
       "['Moscow_Zoning',\n",
       " 'Centerlines',\n",
       " 'Moscow_Parks',\n",
       " 'Moscow_City_Limit',\n",
       " 'Parcels']"
      ]
     },
     "execution_count": 5,
     "metadata": {},
     "output_type": "execute_result"
    }
   ],
   "source": [
    "import fiona\r\n",
    "moscow_gdb = str(moscow_gdb_path)\r\n",
    "\r\n",
    "fiona.listlayers(moscow_gdb)"
   ]
  },
  {
   "cell_type": "code",
   "execution_count": 6,
   "id": "6e97744b",
   "metadata": {},
   "outputs": [],
   "source": [
    "parcels = gpd.read_file(moscow_gdb, layer='Parcels')\r\n",
    "roads = gpd.read_file(moscow_gdb, layer='Centerlines')\r\n",
    "zoning = gpd.read_file(moscow_gdb, layer='Moscow_Zoning')\r\n",
    "city_limits = gpd.read_file(moscow_gdb, layer='Moscow_City_Limit')\r\n",
    "parks = gpd.read_file(moscow_gdb, layer='Moscow_Parks')\r\n"
   ]
  },
  {
   "cell_type": "code",
   "execution_count": 7,
   "id": "9da48c7c",
   "metadata": {},
   "outputs": [
    {
     "data": {
      "text/plain": [
       "Index(['LABEL', 'PM_PAR_14', 'PM_MAIL_NM', 'PM_MAIL_A1', 'PM_MAIL_A2',\n",
       "       'PM_MAIL_CT', 'PM_MAIL_ST', 'PM_MAIL_ZP', 'PM_PROP_AD', 'PM_DEEDCDT',\n",
       "       'PM_DEEDRF1', 'PM_DEEDRF2', 'PM_DEEDRF3', 'PM_DEEDRF4', 'PM_DEEDRF5',\n",
       "       'PM_TAX_AMT', 'PM_PV_AREA', 'PM_PV_NBHD', 'PM_PV_ACRE', 'PM_TOT_VAL',\n",
       "       'PM_IMP_VAL', 'PM_LND_VAL', 'PM_EX_VAL', 'PM_NET_VAL', 'PM_CATS',\n",
       "       'LG_LINE_1', 'LG_LINE_2', 'LG_LINE_3', 'LG_LINE_4', 'LG_LINE_5',\n",
       "       'LG_LINE_6', 'PM_PARC_CD', 'GlobalID', 'Shape_Length', 'Shape_Area',\n",
       "       'geometry'],\n",
       "      dtype='object')"
      ]
     },
     "execution_count": 7,
     "metadata": {},
     "output_type": "execute_result"
    }
   ],
   "source": [
    "parcels.columns"
   ]
  },
  {
   "cell_type": "markdown",
   "id": "22174ea1",
   "metadata": {},
   "source": [
    "### Shapely geometries\n",
    "Behind the scenes, geopandas is reading in vector data, storing the attribute tables as `pandas` dataframes,\n",
    "and storing the vector geometry as `shapely` geometries.\n",
    "\n",
    "\n",
    "### Reading:\n",
    "To become more familiar with vector operations in geopandas/shapely, \n",
    "read this introduction to shapely geometries carefully, \n",
    "and reproduce/experiment with the code in this reading from within a blank notebook:\n",
    "https://towardsdatascience.com/geospatial-adventures-step-1-shapely-e911e4f86361\n",
    "\n",
    "Read this page for a more comprehensive description of `shapely` geometries: \n",
    "https://autogis-site.readthedocs.io/en/latest/notebooks/L1/geometric-objects.html\n",
    "\n",
    "Scroll through the `shapely` user manual (https://shapely.readthedocs.io/en/stable/manual.html), \n",
    "reviewing the different functions that shapely includes.  `geopandas` allows all of these functions to be\n",
    "executed, [directly through `geopandas`, without explicit call to `shapely`](https://geopandas.org/docs/user_guide/geometric_manipulations.html).  `shapely` is just running\n",
    "quietly under the hood.  Pay specific attention to the \"Spatial Analysis Methods\" of the manual."
   ]
  },
  {
   "cell_type": "code",
   "execution_count": 8,
   "id": "11487e54",
   "metadata": {},
   "outputs": [
    {
     "name": "stdout",
     "output_type": "stream",
     "text": [
      "Line area = 0.0\n",
      "Line length = 2.8284271247461903\n"
     ]
    }
   ],
   "source": [
    "from shapely.geometry import LineString\r\n",
    "line = LineString([(0, 0), (1, 1), (2, 0)])\r\n",
    "print('Line area =', line.area)\r\n",
    "print('Line length =', line.length)"
   ]
  },
  {
   "cell_type": "code",
   "execution_count": 9,
   "id": "6547780e",
   "metadata": {},
   "outputs": [
    {
     "data": {
      "image/svg+xml": [
       "<svg xmlns=\"http://www.w3.org/2000/svg\" xmlns:xlink=\"http://www.w3.org/1999/xlink\" width=\"100.0\" height=\"100.0\" viewBox=\"-0.08 -0.08 2.16 1.1600000000000001\" preserveAspectRatio=\"xMinYMin meet\"><g transform=\"matrix(1,0,0,-1,0,1.0)\"><polyline fill=\"none\" stroke=\"#66cc99\" stroke-width=\"0.0432\" points=\"0.0,0.0 1.0,1.0 2.0,0.0\" opacity=\"0.8\" /></g></svg>"
      ],
      "text/plain": [
       "<shapely.geometry.linestring.LineString at 0x1ff2084bd60>"
      ]
     },
     "execution_count": 9,
     "metadata": {},
     "output_type": "execute_result"
    }
   ],
   "source": [
    "line"
   ]
  },
  {
   "cell_type": "code",
   "execution_count": 10,
   "id": "e72bdef0",
   "metadata": {},
   "outputs": [
    {
     "data": {
      "text/plain": [
       "shapely.geometry.linestring.LineString"
      ]
     },
     "execution_count": 10,
     "metadata": {},
     "output_type": "execute_result"
    }
   ],
   "source": [
    "type(line)"
   ]
  },
  {
   "cell_type": "code",
   "execution_count": 11,
   "id": "5711d910",
   "metadata": {},
   "outputs": [
    {
     "name": "stdout",
     "output_type": "stream",
     "text": [
      "[(0.0, 0.0), (1.0, 1.0), (2.0, 0.0)]\n",
      "(2.0, 0.0)\n"
     ]
    }
   ],
   "source": [
    "print( list(line.coords) )\r\n",
    "print( line.coords[2] )"
   ]
  },
  {
   "cell_type": "markdown",
   "id": "09239674",
   "metadata": {},
   "source": [
    "<div class=\"alert alert-block alert-warning\">\n",
    "\n",
    "## 1. Shapely geometries\n",
    "What `shapely` geometry are each of the parcels in the Moscow parcels layer? What `shapely` geometry are their centroids?\n",
    "    \n",
    "Find the Kenworthy Theater within the parcels database (hint: the name field for its mailing address, \n",
    "    PM_MAIL_NM, is \"KENWORTHY PERFORMING ARTS CTR\").\n",
    "What are the coordinates for the corners of its parcel?    \n",
    "</div>\n"
   ]
  },
  {
   "cell_type": "code",
   "execution_count": 85,
   "id": "8397a4a8",
   "metadata": {},
   "outputs": [],
   "source": [
    "#parcels.geom_type\r\n",
    "#Multipolygon\r\n",
    "#not it..."
   ]
  },
  {
   "cell_type": "code",
   "execution_count": 20,
   "id": "c1f0818b",
   "metadata": {},
   "outputs": [],
   "source": [
    "#type(parcels.iloc[1]) #pandas.core.series.Series\r\n",
    "#not it..."
   ]
  },
  {
   "cell_type": "code",
   "execution_count": 13,
   "id": "58dd0b6e",
   "metadata": {},
   "outputs": [
    {
     "data": {
      "text/plain": [
       "shapely.geometry.point.Point"
      ]
     },
     "execution_count": 13,
     "metadata": {},
     "output_type": "execute_result"
    }
   ],
   "source": [
    "type(parcels.centroid.iloc[1]) #shapely.geometry.point.Point"
   ]
  },
  {
   "cell_type": "code",
   "execution_count": 39,
   "id": "0224cecc",
   "metadata": {},
   "outputs": [
    {
     "data": {
      "text/html": [
       "<div>\n",
       "<style scoped>\n",
       "    .dataframe tbody tr th:only-of-type {\n",
       "        vertical-align: middle;\n",
       "    }\n",
       "\n",
       "    .dataframe tbody tr th {\n",
       "        vertical-align: top;\n",
       "    }\n",
       "\n",
       "    .dataframe thead th {\n",
       "        text-align: right;\n",
       "    }\n",
       "</style>\n",
       "<table border=\"1\" class=\"dataframe\">\n",
       "  <thead>\n",
       "    <tr style=\"text-align: right;\">\n",
       "      <th></th>\n",
       "      <th>minx</th>\n",
       "      <th>miny</th>\n",
       "      <th>maxx</th>\n",
       "      <th>maxy</th>\n",
       "    </tr>\n",
       "  </thead>\n",
       "  <tbody>\n",
       "    <tr>\n",
       "      <th>1359</th>\n",
       "      <td>2.310911e+06</td>\n",
       "      <td>1.848472e+06</td>\n",
       "      <td>2.311037e+06</td>\n",
       "      <td>1.848533e+06</td>\n",
       "    </tr>\n",
       "  </tbody>\n",
       "</table>\n",
       "</div>"
      ],
      "text/plain": [
       "              minx          miny          maxx          maxy\n",
       "1359  2.310911e+06  1.848472e+06  2.311037e+06  1.848533e+06"
      ]
     },
     "execution_count": 39,
     "metadata": {},
     "output_type": "execute_result"
    }
   ],
   "source": [
    "kenworthy = parcels['PM_MAIL_NM'] == \"KENWORTHY PERFORMING ARTS CTR\"\r\n",
    "ken_bound = parcels.loc[kenworthy].bounds\r\n",
    "ken_bound"
   ]
  },
  {
   "cell_type": "code",
   "execution_count": 42,
   "id": "c018bfbb",
   "metadata": {},
   "outputs": [
    {
     "data": {
      "text/plain": [
       "minx    2.310911e+06\n",
       "miny    1.848472e+06\n",
       "maxx    2.311037e+06\n",
       "maxy    1.848533e+06\n",
       "Name: 1359, dtype: float64"
      ]
     },
     "execution_count": 42,
     "metadata": {},
     "output_type": "execute_result"
    }
   ],
   "source": [
    "kenbnd_series=ken_bound.iloc[0,:]\r\n",
    "kenbnd_series"
   ]
  },
  {
   "cell_type": "code",
   "execution_count": 46,
   "id": "af1c4a36",
   "metadata": {},
   "outputs": [
    {
     "name": "stdout",
     "output_type": "stream",
     "text": [
      "The coordinates for the corners of the Kenworthy Performing Arts Center parcel are POLYGON ((2310911.285070244 1848471.883380905, 2310911.285070244 1848533.272365741, 2311036.945908163 1848533.272365741, 2311036.945908163 1848471.883380905, 2310911.285070244 1848471.883380905))\n"
     ]
    }
   ],
   "source": [
    "from shapely.geometry import Polygon\r\n",
    "\r\n",
    "kenworthy_corners = Polygon([(kenbnd_series.minx,kenbnd_series.miny), \r\n",
    "    (kenbnd_series.minx,kenbnd_series.maxy), (kenbnd_series.maxx, kenbnd_series.maxy), \r\n",
    "    (kenbnd_series.maxx,kenbnd_series.miny)])\r\n",
    "print('The coordinates for the corners of the Kenworthy Performing Arts Center parcel are', kenworthy_corners)"
   ]
  },
  {
   "cell_type": "code",
   "execution_count": 49,
   "id": "cf55c92b",
   "metadata": {},
   "outputs": [],
   "source": [
    "#parks.crs"
   ]
  },
  {
   "cell_type": "code",
   "execution_count": 56,
   "id": "c772bf85",
   "metadata": {},
   "outputs": [],
   "source": [
    "i = 2 # Look at one park, for example\r\n",
    "#print(parks.iloc[i])\r\n",
    "\r\n",
    "buffer_radius = 1000 # What are the units for this?  ##feet\r\n",
    "\r\n",
    "#buffered_park = parks.iloc[i:i+1].buffer(buffer_radius) # Careful!  I'm not sure why this is, but geopandas requires a slice here, not a single index\r\n",
    "    #If you use just one index, it seems to remove all the geopandas properties of the data\r\n",
    "#buffered_park.plot()\r\n",
    "\r\n"
   ]
  },
  {
   "cell_type": "markdown",
   "id": "aff762d3",
   "metadata": {},
   "source": [
    "<div class=\"alert alert-block alert-warning\">\n",
    "\n",
    "## 2. Identifying Moscow residents underserved by city parks.\n",
    "You're an urban planner consulting with the City of Moscow.  The city is interested in increasing the number of parks\n",
    "    within the city, and better designing those parks to meet the needs of those who are currently underserved\n",
    "    by the city's existing parks.  The city wants to begin the planning process by reaching out to these currently\n",
    "    underserved residents, but first the city needs to know who they are.\n",
    "    \n",
    "The city asks you to produce a list of all resident addresses within the city limits whose property is at least 1000 feet\n",
    "    from a current park.\n",
    "    \n",
    "To properly address the letters and questionaires that the city will be sending out, the city would like this list\n",
    "    of residents as a csv file, with each property address on a separate line (property addresses are represented within\n",
    "    the parcels database by the field name \"PM_PROP_AD\").  Produce this file and a map of the underserved parcels.\n",
    "    \n",
    "\n",
    "\n",
    "</div>"
   ]
  },
  {
   "cell_type": "code",
   "execution_count": 57,
   "id": "e2304b8b",
   "metadata": {},
   "outputs": [
    {
     "data": {
      "application/vnd.jupyter.widget-view+json": {
       "model_id": "6ee06046004449ad8496f88bc01a5615",
       "version_major": 2,
       "version_minor": 0
      },
      "text/plain": [
       "Canvas(toolbar=Toolbar(toolitems=[('Home', 'Reset original view', 'home', 'home'), ('Back', 'Back to previous …"
      ]
     },
     "metadata": {},
     "output_type": "display_data"
    },
    {
     "data": {
      "text/plain": [
       "(1837691.7277759165, 1858582.946164012)"
      ]
     },
     "execution_count": 57,
     "metadata": {},
     "output_type": "execute_result"
    }
   ],
   "source": [
    "%matplotlib widget\r\n",
    "\r\n",
    "fig, ax = plt.subplots()\r\n",
    "parks.buffer(buffer_radius).plot(ax=ax, color='g')\r\n",
    "# city_limits.plot(ax=ax, color=None, edgecolor='r')\r\n",
    "roads.plot(ax=ax)\r\n",
    "\r\n",
    "ax.set_xlim( city_limits.bounds.to_numpy()[0][::2] )\r\n",
    "ax.set_ylim( city_limits.bounds.to_numpy()[0][1::2] )"
   ]
  },
  {
   "cell_type": "code",
   "execution_count": 68,
   "id": "4fd7a819",
   "metadata": {},
   "outputs": [],
   "source": [
    "import pandas as pd\r\n",
    "\r\n",
    "parkbuff1000 = parks.buffer(buffer_radius)\r\n",
    "parkbuff1000df = pd.DataFrame(parkbuff1000)"
   ]
  },
  {
   "cell_type": "code",
   "execution_count": null,
   "id": "6d6774dd",
   "metadata": {},
   "outputs": [],
   "source": [
    "#Stuck here, how do you turn polygon df to gdf? Issues with point_from_xy...\r\n",
    "parkbuff1000gdf = gpd.GeoDataFrame(parkbuff1000df, geometry=gpd.point_from_xy())"
   ]
  },
  {
   "cell_type": "code",
   "execution_count": null,
   "id": "b69973e0",
   "metadata": {},
   "outputs": [],
   "source": [
    "from geopandas.tools import overlay\r\n",
    "\r\n",
    "#create df of only parcels greater than 1000ft from a park, does not work with non-gdf\r\n",
    "parcels_nopark = overlay(parcels, parkbuff1000gdf, how =\"difference\")"
   ]
  },
  {
   "cell_type": "code",
   "execution_count": 88,
   "id": "8948f4e1",
   "metadata": {},
   "outputs": [],
   "source": [
    "#test to_csv using 'parcels'\r\n",
    "#parcels.PM_PROP_AD.to_csv('parceladd')"
   ]
  },
  {
   "cell_type": "code",
   "execution_count": null,
   "id": "815563ce",
   "metadata": {},
   "outputs": [],
   "source": [
    "parcels_nopark.PM_PROP_AD.to_csv('parcelsnopark')"
   ]
  },
  {
   "cell_type": "code",
   "execution_count": null,
   "id": "a4792f78",
   "metadata": {},
   "outputs": [],
   "source": []
  },
  {
   "cell_type": "code",
   "execution_count": 51,
   "id": "d659071c",
   "metadata": {
    "tags": []
   },
   "outputs": [
    {
     "data": {
      "text/html": [
       "<div>\n",
       "<style scoped>\n",
       "    .dataframe tbody tr th:only-of-type {\n",
       "        vertical-align: middle;\n",
       "    }\n",
       "\n",
       "    .dataframe tbody tr th {\n",
       "        vertical-align: top;\n",
       "    }\n",
       "\n",
       "    .dataframe thead th {\n",
       "        text-align: right;\n",
       "    }\n",
       "</style>\n",
       "<table border=\"1\" class=\"dataframe\">\n",
       "  <thead>\n",
       "    <tr style=\"text-align: right;\">\n",
       "      <th></th>\n",
       "      <th>CENTERLINEID</th>\n",
       "      <th>FROMLEFT</th>\n",
       "      <th>TOLEFT</th>\n",
       "      <th>FROMRIGHT</th>\n",
       "      <th>TORIGHT</th>\n",
       "      <th>FULLNAME</th>\n",
       "      <th>FEDROUTE</th>\n",
       "      <th>FEDRTETYPE</th>\n",
       "      <th>AFEDRTE</th>\n",
       "      <th>AFEDRTETYPE</th>\n",
       "      <th>...</th>\n",
       "      <th>SLOPE</th>\n",
       "      <th>OCI2017</th>\n",
       "      <th>OCI2014</th>\n",
       "      <th>GlobalID</th>\n",
       "      <th>FACILITYID</th>\n",
       "      <th>OCI2019</th>\n",
       "      <th>OCI2020</th>\n",
       "      <th>ADTID</th>\n",
       "      <th>SHAPE_Length</th>\n",
       "      <th>geometry</th>\n",
       "    </tr>\n",
       "  </thead>\n",
       "  <tbody>\n",
       "    <tr>\n",
       "      <th>0</th>\n",
       "      <td>02600</td>\n",
       "      <td>0.0</td>\n",
       "      <td>0.0</td>\n",
       "      <td>0.0</td>\n",
       "      <td>0.0</td>\n",
       "      <td>MAIN ST</td>\n",
       "      <td>None</td>\n",
       "      <td>Other</td>\n",
       "      <td>None</td>\n",
       "      <td>None</td>\n",
       "      <td>...</td>\n",
       "      <td>NaN</td>\n",
       "      <td>58.92</td>\n",
       "      <td>71.66</td>\n",
       "      <td>{E10997BF-346F-493B-9078-ABF3BA07D894}</td>\n",
       "      <td>STREET-02600</td>\n",
       "      <td>96.08</td>\n",
       "      <td>96.08</td>\n",
       "      <td>F19-05</td>\n",
       "      <td>87.664841</td>\n",
       "      <td>MULTILINESTRING ((2310851.729 1847250.622, 231...</td>\n",
       "    </tr>\n",
       "    <tr>\n",
       "      <th>1</th>\n",
       "      <td>01430</td>\n",
       "      <td>0.0</td>\n",
       "      <td>0.0</td>\n",
       "      <td>0.0</td>\n",
       "      <td>0.0</td>\n",
       "      <td>FIRST ST</td>\n",
       "      <td>None</td>\n",
       "      <td>Other</td>\n",
       "      <td>None</td>\n",
       "      <td>None</td>\n",
       "      <td>...</td>\n",
       "      <td>NaN</td>\n",
       "      <td>90.93</td>\n",
       "      <td>98.96</td>\n",
       "      <td>{F2D06156-E244-4542-A0A7-9F47285F09AF}</td>\n",
       "      <td>STREET-01430</td>\n",
       "      <td>86.04</td>\n",
       "      <td>86.04</td>\n",
       "      <td>G16-05</td>\n",
       "      <td>349.983212</td>\n",
       "      <td>MULTILINESTRING ((2310883.550 1849572.726, 231...</td>\n",
       "    </tr>\n",
       "    <tr>\n",
       "      <th>2</th>\n",
       "      <td>02670</td>\n",
       "      <td>102.0</td>\n",
       "      <td>114.0</td>\n",
       "      <td>105.0</td>\n",
       "      <td>205.0</td>\n",
       "      <td>MAIN ST</td>\n",
       "      <td>None</td>\n",
       "      <td>Other</td>\n",
       "      <td>None</td>\n",
       "      <td>None</td>\n",
       "      <td>...</td>\n",
       "      <td>NaN</td>\n",
       "      <td>71.70</td>\n",
       "      <td>100.00</td>\n",
       "      <td>{BF94EEC2-9DBF-42FD-8BA0-31C170DEC8CB}</td>\n",
       "      <td>STREET-02670</td>\n",
       "      <td>80.02</td>\n",
       "      <td>80.02</td>\n",
       "      <td>F17-12</td>\n",
       "      <td>230.721479</td>\n",
       "      <td>MULTILINESTRING ((2310883.464 1849564.375, 231...</td>\n",
       "    </tr>\n",
       "    <tr>\n",
       "      <th>3</th>\n",
       "      <td>02660</td>\n",
       "      <td>204.0</td>\n",
       "      <td>218.0</td>\n",
       "      <td>205.0</td>\n",
       "      <td>221.0</td>\n",
       "      <td>MAIN ST</td>\n",
       "      <td>None</td>\n",
       "      <td>Other</td>\n",
       "      <td>None</td>\n",
       "      <td>None</td>\n",
       "      <td>...</td>\n",
       "      <td>NaN</td>\n",
       "      <td>71.70</td>\n",
       "      <td>100.00</td>\n",
       "      <td>{E4ADA45C-08D8-4C70-B30F-46E1097647A3}</td>\n",
       "      <td>STREET-02660</td>\n",
       "      <td>80.02</td>\n",
       "      <td>80.02</td>\n",
       "      <td>F17-06</td>\n",
       "      <td>239.999980</td>\n",
       "      <td>MULTILINESTRING ((2310880.869 1849333.668, 231...</td>\n",
       "    </tr>\n",
       "    <tr>\n",
       "      <th>4</th>\n",
       "      <td>02650</td>\n",
       "      <td>302.0</td>\n",
       "      <td>318.0</td>\n",
       "      <td>301.0</td>\n",
       "      <td>307.0</td>\n",
       "      <td>MAIN ST</td>\n",
       "      <td>None</td>\n",
       "      <td>Other</td>\n",
       "      <td>None</td>\n",
       "      <td>None</td>\n",
       "      <td>...</td>\n",
       "      <td>NaN</td>\n",
       "      <td>91.97</td>\n",
       "      <td>100.00</td>\n",
       "      <td>{D3CE1840-EC8C-4124-AAEF-4A67AB2B5415}</td>\n",
       "      <td>STREET-02650</td>\n",
       "      <td>95.17</td>\n",
       "      <td>95.17</td>\n",
       "      <td>F17-07</td>\n",
       "      <td>240.667684</td>\n",
       "      <td>MULTILINESTRING ((2310878.196 1849093.683, 231...</td>\n",
       "    </tr>\n",
       "    <tr>\n",
       "      <th>...</th>\n",
       "      <td>...</td>\n",
       "      <td>...</td>\n",
       "      <td>...</td>\n",
       "      <td>...</td>\n",
       "      <td>...</td>\n",
       "      <td>...</td>\n",
       "      <td>...</td>\n",
       "      <td>...</td>\n",
       "      <td>...</td>\n",
       "      <td>...</td>\n",
       "      <td>...</td>\n",
       "      <td>...</td>\n",
       "      <td>...</td>\n",
       "      <td>...</td>\n",
       "      <td>...</td>\n",
       "      <td>...</td>\n",
       "      <td>...</td>\n",
       "      <td>...</td>\n",
       "      <td>...</td>\n",
       "      <td>...</td>\n",
       "      <td>...</td>\n",
       "    </tr>\n",
       "    <tr>\n",
       "      <th>2213</th>\n",
       "      <td>00301</td>\n",
       "      <td>1600.0</td>\n",
       "      <td>1756.0</td>\n",
       "      <td>1601.0</td>\n",
       "      <td>1751.0</td>\n",
       "      <td>THIRD ST</td>\n",
       "      <td>None</td>\n",
       "      <td>Other</td>\n",
       "      <td>None</td>\n",
       "      <td>None</td>\n",
       "      <td>...</td>\n",
       "      <td>5.0</td>\n",
       "      <td>NaN</td>\n",
       "      <td>NaN</td>\n",
       "      <td>{CE44A217-E6DA-4168-A8A9-C28AD394A399}</td>\n",
       "      <td>STREET-00301</td>\n",
       "      <td>NaN</td>\n",
       "      <td>NaN</td>\n",
       "      <td>None</td>\n",
       "      <td>756.596825</td>\n",
       "      <td>MULTILINESTRING ((2316177.219 1849043.781, 231...</td>\n",
       "    </tr>\n",
       "    <tr>\n",
       "      <th>2214</th>\n",
       "      <td>13760</td>\n",
       "      <td>NaN</td>\n",
       "      <td>NaN</td>\n",
       "      <td>NaN</td>\n",
       "      <td>NaN</td>\n",
       "      <td>SOUTHVIEW AVE</td>\n",
       "      <td>None</td>\n",
       "      <td>None</td>\n",
       "      <td>None</td>\n",
       "      <td>None</td>\n",
       "      <td>...</td>\n",
       "      <td>10.0</td>\n",
       "      <td>NaN</td>\n",
       "      <td>NaN</td>\n",
       "      <td>{588D3E9B-7CBE-48D5-94BF-0DB57D0E0442}</td>\n",
       "      <td>STREET-13760</td>\n",
       "      <td>NaN</td>\n",
       "      <td>NaN</td>\n",
       "      <td>None</td>\n",
       "      <td>706.800143</td>\n",
       "      <td>MULTILINESTRING ((2312049.540 1843770.847, 231...</td>\n",
       "    </tr>\n",
       "    <tr>\n",
       "      <th>2215</th>\n",
       "      <td>13765</td>\n",
       "      <td>NaN</td>\n",
       "      <td>NaN</td>\n",
       "      <td>NaN</td>\n",
       "      <td>NaN</td>\n",
       "      <td>SUNNY CT</td>\n",
       "      <td>None</td>\n",
       "      <td>None</td>\n",
       "      <td>None</td>\n",
       "      <td>None</td>\n",
       "      <td>...</td>\n",
       "      <td>7.0</td>\n",
       "      <td>NaN</td>\n",
       "      <td>NaN</td>\n",
       "      <td>{2F896E18-E40F-4BD6-81D2-5DDD91482100}</td>\n",
       "      <td>STREET-13765</td>\n",
       "      <td>NaN</td>\n",
       "      <td>NaN</td>\n",
       "      <td>None</td>\n",
       "      <td>173.316937</td>\n",
       "      <td>MULTILINESTRING ((2312699.813 1843557.137, 231...</td>\n",
       "    </tr>\n",
       "    <tr>\n",
       "      <th>2216</th>\n",
       "      <td>13770</td>\n",
       "      <td>NaN</td>\n",
       "      <td>NaN</td>\n",
       "      <td>NaN</td>\n",
       "      <td>NaN</td>\n",
       "      <td>SOUTHVIEW AVE</td>\n",
       "      <td>None</td>\n",
       "      <td>None</td>\n",
       "      <td>None</td>\n",
       "      <td>None</td>\n",
       "      <td>...</td>\n",
       "      <td>10.0</td>\n",
       "      <td>NaN</td>\n",
       "      <td>NaN</td>\n",
       "      <td>{4BAB6FC8-B24E-49A0-B852-9AF25FD43BF2}</td>\n",
       "      <td>STREET-13770</td>\n",
       "      <td>NaN</td>\n",
       "      <td>NaN</td>\n",
       "      <td>None</td>\n",
       "      <td>221.456644</td>\n",
       "      <td>MULTILINESTRING ((2312699.813 1843557.137, 231...</td>\n",
       "    </tr>\n",
       "    <tr>\n",
       "      <th>2217</th>\n",
       "      <td>14125</td>\n",
       "      <td>NaN</td>\n",
       "      <td>NaN</td>\n",
       "      <td>NaN</td>\n",
       "      <td>NaN</td>\n",
       "      <td>ALICE ST</td>\n",
       "      <td>None</td>\n",
       "      <td>None</td>\n",
       "      <td>None</td>\n",
       "      <td>None</td>\n",
       "      <td>...</td>\n",
       "      <td>12.0</td>\n",
       "      <td>NaN</td>\n",
       "      <td>NaN</td>\n",
       "      <td>{737681F6-3046-4A97-B0DE-D5B3D23470DD}</td>\n",
       "      <td>STREET-14125</td>\n",
       "      <td>NaN</td>\n",
       "      <td>NaN</td>\n",
       "      <td>None</td>\n",
       "      <td>150.310493</td>\n",
       "      <td>MULTILINESTRING ((2312914.864 1843646.154, 231...</td>\n",
       "    </tr>\n",
       "  </tbody>\n",
       "</table>\n",
       "<p>2218 rows × 65 columns</p>\n",
       "</div>"
      ],
      "text/plain": [
       "     CENTERLINEID  FROMLEFT  TOLEFT  FROMRIGHT  TORIGHT       FULLNAME  \\\n",
       "0           02600       0.0     0.0        0.0      0.0        MAIN ST   \n",
       "1           01430       0.0     0.0        0.0      0.0       FIRST ST   \n",
       "2           02670     102.0   114.0      105.0    205.0        MAIN ST   \n",
       "3           02660     204.0   218.0      205.0    221.0        MAIN ST   \n",
       "4           02650     302.0   318.0      301.0    307.0        MAIN ST   \n",
       "...           ...       ...     ...        ...      ...            ...   \n",
       "2213        00301    1600.0  1756.0     1601.0   1751.0       THIRD ST   \n",
       "2214        13760       NaN     NaN        NaN      NaN  SOUTHVIEW AVE   \n",
       "2215        13765       NaN     NaN        NaN      NaN       SUNNY CT   \n",
       "2216        13770       NaN     NaN        NaN      NaN  SOUTHVIEW AVE   \n",
       "2217        14125       NaN     NaN        NaN      NaN       ALICE ST   \n",
       "\n",
       "     FEDROUTE FEDRTETYPE AFEDRTE AFEDRTETYPE  ... SLOPE OCI2017 OCI2014  \\\n",
       "0        None      Other    None        None  ...   NaN   58.92   71.66   \n",
       "1        None      Other    None        None  ...   NaN   90.93   98.96   \n",
       "2        None      Other    None        None  ...   NaN   71.70  100.00   \n",
       "3        None      Other    None        None  ...   NaN   71.70  100.00   \n",
       "4        None      Other    None        None  ...   NaN   91.97  100.00   \n",
       "...       ...        ...     ...         ...  ...   ...     ...     ...   \n",
       "2213     None      Other    None        None  ...   5.0     NaN     NaN   \n",
       "2214     None       None    None        None  ...  10.0     NaN     NaN   \n",
       "2215     None       None    None        None  ...   7.0     NaN     NaN   \n",
       "2216     None       None    None        None  ...  10.0     NaN     NaN   \n",
       "2217     None       None    None        None  ...  12.0     NaN     NaN   \n",
       "\n",
       "                                    GlobalID    FACILITYID OCI2019 OCI2020  \\\n",
       "0     {E10997BF-346F-493B-9078-ABF3BA07D894}  STREET-02600   96.08   96.08   \n",
       "1     {F2D06156-E244-4542-A0A7-9F47285F09AF}  STREET-01430   86.04   86.04   \n",
       "2     {BF94EEC2-9DBF-42FD-8BA0-31C170DEC8CB}  STREET-02670   80.02   80.02   \n",
       "3     {E4ADA45C-08D8-4C70-B30F-46E1097647A3}  STREET-02660   80.02   80.02   \n",
       "4     {D3CE1840-EC8C-4124-AAEF-4A67AB2B5415}  STREET-02650   95.17   95.17   \n",
       "...                                      ...           ...     ...     ...   \n",
       "2213  {CE44A217-E6DA-4168-A8A9-C28AD394A399}  STREET-00301     NaN     NaN   \n",
       "2214  {588D3E9B-7CBE-48D5-94BF-0DB57D0E0442}  STREET-13760     NaN     NaN   \n",
       "2215  {2F896E18-E40F-4BD6-81D2-5DDD91482100}  STREET-13765     NaN     NaN   \n",
       "2216  {4BAB6FC8-B24E-49A0-B852-9AF25FD43BF2}  STREET-13770     NaN     NaN   \n",
       "2217  {737681F6-3046-4A97-B0DE-D5B3D23470DD}  STREET-14125     NaN     NaN   \n",
       "\n",
       "       ADTID  SHAPE_Length                                           geometry  \n",
       "0     F19-05     87.664841  MULTILINESTRING ((2310851.729 1847250.622, 231...  \n",
       "1     G16-05    349.983212  MULTILINESTRING ((2310883.550 1849572.726, 231...  \n",
       "2     F17-12    230.721479  MULTILINESTRING ((2310883.464 1849564.375, 231...  \n",
       "3     F17-06    239.999980  MULTILINESTRING ((2310880.869 1849333.668, 231...  \n",
       "4     F17-07    240.667684  MULTILINESTRING ((2310878.196 1849093.683, 231...  \n",
       "...      ...           ...                                                ...  \n",
       "2213    None    756.596825  MULTILINESTRING ((2316177.219 1849043.781, 231...  \n",
       "2214    None    706.800143  MULTILINESTRING ((2312049.540 1843770.847, 231...  \n",
       "2215    None    173.316937  MULTILINESTRING ((2312699.813 1843557.137, 231...  \n",
       "2216    None    221.456644  MULTILINESTRING ((2312699.813 1843557.137, 231...  \n",
       "2217    None    150.310493  MULTILINESTRING ((2312914.864 1843646.154, 231...  \n",
       "\n",
       "[2218 rows x 65 columns]"
      ]
     },
     "execution_count": 51,
     "metadata": {},
     "output_type": "execute_result"
    }
   ],
   "source": [
    "roads"
   ]
  },
  {
   "cell_type": "code",
   "execution_count": 52,
   "id": "46fe12b5",
   "metadata": {},
   "outputs": [
    {
     "data": {
      "text/plain": [
       "Index(['LANDUSECODE', 'LANDUSEDESC', 'BASEELEV', 'HEIGHT', 'LASTUPDATE',\n",
       "       'LASTEDITOR', 'SUBTYPECODE', 'SUBTYPEDESC', 'PARCELID', 'ADDRESS',\n",
       "       'LOCDESC', 'GlobalID', 'SHAPE_Length', 'SHAPE_Area', 'geometry'],\n",
       "      dtype='object')"
      ]
     },
     "execution_count": 52,
     "metadata": {},
     "output_type": "execute_result"
    }
   ],
   "source": [
    "zoning.columns"
   ]
  },
  {
   "cell_type": "code",
   "execution_count": 53,
   "id": "239e6a93",
   "metadata": {},
   "outputs": [
    {
     "data": {
      "text/plain": [
       "array(['Auto-Urban Residential', 'University',\n",
       "       'Parks, Recreation, and Open Space',\n",
       "       'Auto-Urban Residential, Medium Density', 'Urban Commercial',\n",
       "       'Urban Residential, Medium Density', 'Urban Residential',\n",
       "       'Suburban Residential', 'Public and Semi-Public',\n",
       "       'Auto-Urban Commercial', 'Vacant', 'Auto-Urban Industrial',\n",
       "       'Agricultural', 'Research/Technology Park', '',\n",
       "       'Suburban Commercial'], dtype=object)"
      ]
     },
     "execution_count": 53,
     "metadata": {},
     "output_type": "execute_result"
    }
   ],
   "source": [
    "zoning['LANDUSEDESC'].unique()"
   ]
  },
  {
   "cell_type": "code",
   "execution_count": 54,
   "id": "ed846d50",
   "metadata": {},
   "outputs": [
    {
     "data": {
      "text/plain": [
       "array(['111', '750', '800', '109', '250', '115', '110', '120', '700',\n",
       "       '200', '11', '400', '900', '999', '0', '150', None], dtype=object)"
      ]
     },
     "execution_count": 54,
     "metadata": {},
     "output_type": "execute_result"
    }
   ],
   "source": [
    "zoning['LANDUSECODE'].unique()"
   ]
  },
  {
   "cell_type": "code",
   "execution_count": 80,
   "id": "988fdb96",
   "metadata": {},
   "outputs": [],
   "source": [
    "# We can measure the distance between any parcel and a point near the center of downtown Moscow\r\n",
    "from shapely.geometry import Point\r\n",
    "parcels['Dwntn_dist'] = parcels.distance(Point(2.311e6, 1.849e6))"
   ]
  },
  {
   "cell_type": "markdown",
   "id": "e27b090c",
   "metadata": {},
   "source": [
    "#### Visualizing the data\n",
    "I think each of the plots below is interesting.  Try commenting and uncommenting each one"
   ]
  },
  {
   "cell_type": "code",
   "execution_count": 98,
   "id": "6db95ae5",
   "metadata": {
    "tags": []
   },
   "outputs": [
    {
     "data": {
      "application/vnd.jupyter.widget-view+json": {
       "model_id": "bffd20791d254d94b707f9fa3a3ac46c",
       "version_major": 2,
       "version_minor": 0
      },
      "text/plain": [
       "Canvas(toolbar=Toolbar(toolitems=[('Home', 'Reset original view', 'home', 'home'), ('Back', 'Back to previous …"
      ]
     },
     "metadata": {},
     "output_type": "display_data"
    },
    {
     "data": {
      "text/plain": [
       "<AxesSubplot:>"
      ]
     },
     "execution_count": 98,
     "metadata": {},
     "output_type": "execute_result"
    }
   ],
   "source": [
    "%matplotlib widget\r\n",
    "fig, ax = plt.subplots( figsize=(8,8) )\r\n",
    "\r\n",
    "# These are a few of the interesting plots to look at.\r\n",
    "# parcels.plot(column='Dwntn_dist', ax=ax, legend=True, vmax=5280);\r\n",
    "zoning.plot(column='LANDUSEDESC', ax=ax, legend=True, cmap='tab20')\r\n",
    "# parcels.plot(column= 'SaleYear', ax=ax, legend=True, vmin=1990)\r\n",
    "\r\n",
    "ax.set_xlim( city_limits.bounds.to_numpy()[0][::2] )\r\n",
    "ax.set_ylim( city_limits.bounds.to_numpy()[0][1::2] )\r\n",
    "\r\n",
    "roads.plot(ax=ax, color='gray')\r\n"
   ]
  },
  {
   "cell_type": "code",
   "execution_count": null,
   "id": "33953f64",
   "metadata": {},
   "outputs": [],
   "source": []
  },
  {
   "cell_type": "markdown",
   "id": "a4b8c646",
   "metadata": {},
   "source": [
    "### Property sales over time\n",
    "Similar to the assignment from last week, we can look at the property sales as a function of time."
   ]
  },
  {
   "cell_type": "code",
   "execution_count": 94,
   "id": "779bd59e",
   "metadata": {
    "tags": []
   },
   "outputs": [
    {
     "name": "stdout",
     "output_type": "stream",
     "text": [
      "0    20120925.0\n",
      "1    20120925.0\n",
      "2           0.0\n",
      "3    20190815.0\n",
      "Name: PM_DEEDCDT, dtype: object\n"
     ]
    }
   ],
   "source": [
    "import pandas as pd\r\n",
    "print( parcels['PM_DEEDCDT'].astype(str)[:4] )\r\n",
    "\r\n",
    "parcels['SaleDate'] = pd.to_datetime(\r\n",
    "    parcels['PM_DEEDCDT'], \r\n",
    "    errors='coerce', \r\n",
    "    format='%Y%m%d')\r\n"
   ]
  },
  {
   "cell_type": "code",
   "execution_count": 95,
   "id": "9783c85d",
   "metadata": {
    "tags": []
   },
   "outputs": [
    {
     "data": {
      "text/plain": [
       "0      2012-09-25\n",
       "1      2012-09-25\n",
       "2             NaT\n",
       "3      2019-08-15\n",
       "4      2019-08-15\n",
       "          ...    \n",
       "7389          NaT\n",
       "7390          NaT\n",
       "7391          NaT\n",
       "7392          NaT\n",
       "7393          NaT\n",
       "Name: SaleDate, Length: 7394, dtype: datetime64[ns]"
      ]
     },
     "execution_count": 95,
     "metadata": {},
     "output_type": "execute_result"
    }
   ],
   "source": [
    "parcels['SaleDate']"
   ]
  },
  {
   "cell_type": "code",
   "execution_count": 96,
   "id": "e838c3be",
   "metadata": {
    "tags": []
   },
   "outputs": [],
   "source": [
    "dates = parcels['PM_DEEDCDT'].to_numpy() # Pull out all the sale dates (initially floats)\r\n",
    "yr = np.full( dates.shape, np.nan ) # initialize a variable full of nans\r\n",
    "\r\n",
    "for i in range(len(dates)): \r\n",
    "    if dates[i] > 0:\r\n",
    "        yr[i] = int( str(dates[i])[:4] )\r\n",
    "    else:\r\n",
    "        yr[i] = np.nan\r\n",
    "\r\n",
    "parcels['SaleYear'] = yr # Create a new column for the parcels data frame representing sale year\r\n"
   ]
  },
  {
   "cell_type": "code",
   "execution_count": 97,
   "id": "f047a51a",
   "metadata": {},
   "outputs": [
    {
     "data": {
      "application/vnd.jupyter.widget-view+json": {
       "model_id": "a1e03079f8a84ad6bbf5198498da74d2",
       "version_major": 2,
       "version_minor": 0
      },
      "text/plain": [
       "Canvas(toolbar=Toolbar(toolitems=[('Home', 'Reset original view', 'home', 'home'), ('Back', 'Back to previous …"
      ]
     },
     "metadata": {},
     "output_type": "display_data"
    }
   ],
   "source": [
    "bin_size = np.timedelta64(365, 'D')/12 # days\r\n",
    "fig, ax = plt.subplots()\r\n",
    "ax.hist(parcels['SaleDate'], bins=np.arange(np.datetime64('1990-01-01'), \r\n",
    "                                            np.datetime64('2022-01-01'), \r\n",
    "                                            bin_size ) )\r\n",
    "ylabel_text = 'Number of property sales in Moscow\\nper ' + str(bin_size.astype(int)) + ' days'\r\n",
    "ax.set_ylabel(ylabel_text)\r\n",
    "ax.set_xlim(np.datetime64('2000-01-01'), np.datetime64('2022-01-01') );\r\n",
    "# ax.set_xlim(np.datetime64('2010-12-15'), np.datetime64('2011-01-01') )\r\n",
    "\r\n",
    "# Note that the sales at the end of 2010 are anomalous, and are all recorded on the same day.\r\n",
    "# That's suspicious and Tim thinks that it must be some change in accounting or record keeping."
   ]
  },
  {
   "cell_type": "code",
   "execution_count": null,
   "id": "ed4dd842",
   "metadata": {},
   "outputs": [],
   "source": []
  },
  {
   "cell_type": "markdown",
   "id": "05ac813d",
   "metadata": {},
   "source": [
    "<div class=\"alert alert-block alert-warning\">\n",
    "\n",
    "## 3. Investing in downtown property\n",
    "You are the GIS consultant for a property investment company that specializes in\n",
    "downtown and higher-density properties.  Your company is considering Moscow real estate.\n",
    "You've heard about the boom in sales within the city, and your company would like to know how competitive\n",
    "property purchasing will be, or if they will be able to drive a hard bargin.\n",
    "\n",
    "Has the downtown property market heated up as much as within the city as a whole?\n",
    "Compare sale rates within two of the zoned downtown regions with those of the city as a whole.\n",
    "    \n",
    "Is there anything else in these data that you would like to share with your colleagues\n",
    "    that could help advise them as you consider this investment?\n",
    "</div>"
   ]
  },
  {
   "cell_type": "code",
   "execution_count": 115,
   "id": "8c9add6b",
   "metadata": {},
   "outputs": [
    {
     "data": {
      "text/plain": [
       "pandas.core.series.Series"
      ]
     },
     "execution_count": 115,
     "metadata": {},
     "output_type": "execute_result"
    }
   ],
   "source": [
    "urban_comm = zoning['LANDUSEDESC'] == \"Urban Commercial\"\r\n",
    "urban_res_med = zoning['LANDUSEDESC'] == \"Urban Residential, Medium Density\"\r\n",
    "type(urban_comm)"
   ]
  },
  {
   "cell_type": "code",
   "execution_count": 110,
   "id": "9725682f",
   "metadata": {},
   "outputs": [
    {
     "data": {
      "application/vnd.jupyter.widget-view+json": {
       "model_id": "17ec26b1696a4c4ab120993bad689019",
       "version_major": 2,
       "version_minor": 0
      },
      "text/plain": [
       "Canvas(toolbar=Toolbar(toolitems=[('Home', 'Reset original view', 'home', 'home'), ('Back', 'Back to previous …"
      ]
     },
     "metadata": {},
     "output_type": "display_data"
    },
    {
     "ename": "KeyError",
     "evalue": "'SaleDate'",
     "output_type": "error",
     "traceback": [
      "\u001b[1;31m---------------------------------------------------------------------------\u001b[0m",
      "\u001b[1;31mKeyError\u001b[0m                                  Traceback (most recent call last)",
      "\u001b[1;32m~\\AppData\\Local\\Temp/ipykernel_3572/3699718516.py\u001b[0m in \u001b[0;36m<module>\u001b[1;34m\u001b[0m\n\u001b[0;32m      4\u001b[0m                                             \u001b[0mnp\u001b[0m\u001b[1;33m.\u001b[0m\u001b[0mdatetime64\u001b[0m\u001b[1;33m(\u001b[0m\u001b[1;34m'2022-01-01'\u001b[0m\u001b[1;33m)\u001b[0m\u001b[1;33m,\u001b[0m\u001b[1;33m\u001b[0m\u001b[1;33m\u001b[0m\u001b[0m\n\u001b[0;32m      5\u001b[0m                                             bin_size ) )\n\u001b[1;32m----> 6\u001b[1;33m \u001b[0murban_comm\u001b[0m\u001b[1;33m[\u001b[0m\u001b[1;34m'SaleDate'\u001b[0m\u001b[1;33m]\u001b[0m\u001b[1;33m.\u001b[0m\u001b[0mplot\u001b[0m\u001b[1;33m(\u001b[0m\u001b[0max\u001b[0m\u001b[1;33m=\u001b[0m\u001b[0max\u001b[0m\u001b[1;33m,\u001b[0m \u001b[0mcolors\u001b[0m \u001b[1;33m=\u001b[0m\u001b[1;34m'black'\u001b[0m\u001b[1;33m)\u001b[0m\u001b[1;33m\u001b[0m\u001b[1;33m\u001b[0m\u001b[0m\n\u001b[0m\u001b[0;32m      7\u001b[0m \u001b[0murban_res_med\u001b[0m\u001b[1;33m[\u001b[0m\u001b[1;34m'SaleDate'\u001b[0m\u001b[1;33m]\u001b[0m\u001b[1;33m.\u001b[0m\u001b[0mplot\u001b[0m\u001b[1;33m(\u001b[0m\u001b[0max\u001b[0m\u001b[1;33m=\u001b[0m\u001b[0max\u001b[0m\u001b[1;33m,\u001b[0m \u001b[0mcolor\u001b[0m \u001b[1;33m=\u001b[0m \u001b[1;34m'magenta'\u001b[0m\u001b[1;33m)\u001b[0m\u001b[1;33m\u001b[0m\u001b[1;33m\u001b[0m\u001b[0m\n\u001b[0;32m      8\u001b[0m \u001b[0mylabel_text\u001b[0m \u001b[1;33m=\u001b[0m \u001b[1;34m'Number of property sales in Moscow\\nper '\u001b[0m \u001b[1;33m+\u001b[0m \u001b[0mstr\u001b[0m\u001b[1;33m(\u001b[0m\u001b[0mbin_size\u001b[0m\u001b[1;33m.\u001b[0m\u001b[0mastype\u001b[0m\u001b[1;33m(\u001b[0m\u001b[0mint\u001b[0m\u001b[1;33m)\u001b[0m\u001b[1;33m)\u001b[0m \u001b[1;33m+\u001b[0m \u001b[1;34m' days'\u001b[0m\u001b[1;33m\u001b[0m\u001b[1;33m\u001b[0m\u001b[0m\n",
      "\u001b[1;32m~\\.conda\\envs\\GISenv21b\\lib\\site-packages\\pandas\\core\\series.py\u001b[0m in \u001b[0;36m__getitem__\u001b[1;34m(self, key)\u001b[0m\n\u001b[0;32m    940\u001b[0m \u001b[1;33m\u001b[0m\u001b[0m\n\u001b[0;32m    941\u001b[0m         \u001b[1;32melif\u001b[0m \u001b[0mkey_is_scalar\u001b[0m\u001b[1;33m:\u001b[0m\u001b[1;33m\u001b[0m\u001b[1;33m\u001b[0m\u001b[0m\n\u001b[1;32m--> 942\u001b[1;33m             \u001b[1;32mreturn\u001b[0m \u001b[0mself\u001b[0m\u001b[1;33m.\u001b[0m\u001b[0m_get_value\u001b[0m\u001b[1;33m(\u001b[0m\u001b[0mkey\u001b[0m\u001b[1;33m)\u001b[0m\u001b[1;33m\u001b[0m\u001b[1;33m\u001b[0m\u001b[0m\n\u001b[0m\u001b[0;32m    943\u001b[0m \u001b[1;33m\u001b[0m\u001b[0m\n\u001b[0;32m    944\u001b[0m         \u001b[1;32mif\u001b[0m \u001b[0mis_hashable\u001b[0m\u001b[1;33m(\u001b[0m\u001b[0mkey\u001b[0m\u001b[1;33m)\u001b[0m\u001b[1;33m:\u001b[0m\u001b[1;33m\u001b[0m\u001b[1;33m\u001b[0m\u001b[0m\n",
      "\u001b[1;32m~\\.conda\\envs\\GISenv21b\\lib\\site-packages\\pandas\\core\\series.py\u001b[0m in \u001b[0;36m_get_value\u001b[1;34m(self, label, takeable)\u001b[0m\n\u001b[0;32m   1049\u001b[0m \u001b[1;33m\u001b[0m\u001b[0m\n\u001b[0;32m   1050\u001b[0m         \u001b[1;31m# Similar to Index.get_value, but we do not fall back to positional\u001b[0m\u001b[1;33m\u001b[0m\u001b[1;33m\u001b[0m\u001b[0m\n\u001b[1;32m-> 1051\u001b[1;33m         \u001b[0mloc\u001b[0m \u001b[1;33m=\u001b[0m \u001b[0mself\u001b[0m\u001b[1;33m.\u001b[0m\u001b[0mindex\u001b[0m\u001b[1;33m.\u001b[0m\u001b[0mget_loc\u001b[0m\u001b[1;33m(\u001b[0m\u001b[0mlabel\u001b[0m\u001b[1;33m)\u001b[0m\u001b[1;33m\u001b[0m\u001b[1;33m\u001b[0m\u001b[0m\n\u001b[0m\u001b[0;32m   1052\u001b[0m         \u001b[1;32mreturn\u001b[0m \u001b[0mself\u001b[0m\u001b[1;33m.\u001b[0m\u001b[0mindex\u001b[0m\u001b[1;33m.\u001b[0m\u001b[0m_get_values_for_loc\u001b[0m\u001b[1;33m(\u001b[0m\u001b[0mself\u001b[0m\u001b[1;33m,\u001b[0m \u001b[0mloc\u001b[0m\u001b[1;33m,\u001b[0m \u001b[0mlabel\u001b[0m\u001b[1;33m)\u001b[0m\u001b[1;33m\u001b[0m\u001b[1;33m\u001b[0m\u001b[0m\n\u001b[0;32m   1053\u001b[0m \u001b[1;33m\u001b[0m\u001b[0m\n",
      "\u001b[1;32m~\\.conda\\envs\\GISenv21b\\lib\\site-packages\\pandas\\core\\indexes\\range.py\u001b[0m in \u001b[0;36mget_loc\u001b[1;34m(self, key, method, tolerance)\u001b[0m\n\u001b[0;32m    386\u001b[0m                 \u001b[1;32mexcept\u001b[0m \u001b[0mValueError\u001b[0m \u001b[1;32mas\u001b[0m \u001b[0merr\u001b[0m\u001b[1;33m:\u001b[0m\u001b[1;33m\u001b[0m\u001b[1;33m\u001b[0m\u001b[0m\n\u001b[0;32m    387\u001b[0m                     \u001b[1;32mraise\u001b[0m \u001b[0mKeyError\u001b[0m\u001b[1;33m(\u001b[0m\u001b[0mkey\u001b[0m\u001b[1;33m)\u001b[0m \u001b[1;32mfrom\u001b[0m \u001b[0merr\u001b[0m\u001b[1;33m\u001b[0m\u001b[1;33m\u001b[0m\u001b[0m\n\u001b[1;32m--> 388\u001b[1;33m             \u001b[1;32mraise\u001b[0m \u001b[0mKeyError\u001b[0m\u001b[1;33m(\u001b[0m\u001b[0mkey\u001b[0m\u001b[1;33m)\u001b[0m\u001b[1;33m\u001b[0m\u001b[1;33m\u001b[0m\u001b[0m\n\u001b[0m\u001b[0;32m    389\u001b[0m         \u001b[1;32mreturn\u001b[0m \u001b[0msuper\u001b[0m\u001b[1;33m(\u001b[0m\u001b[1;33m)\u001b[0m\u001b[1;33m.\u001b[0m\u001b[0mget_loc\u001b[0m\u001b[1;33m(\u001b[0m\u001b[0mkey\u001b[0m\u001b[1;33m,\u001b[0m \u001b[0mmethod\u001b[0m\u001b[1;33m=\u001b[0m\u001b[0mmethod\u001b[0m\u001b[1;33m,\u001b[0m \u001b[0mtolerance\u001b[0m\u001b[1;33m=\u001b[0m\u001b[0mtolerance\u001b[0m\u001b[1;33m)\u001b[0m\u001b[1;33m\u001b[0m\u001b[1;33m\u001b[0m\u001b[0m\n\u001b[0;32m    390\u001b[0m \u001b[1;33m\u001b[0m\u001b[0m\n",
      "\u001b[1;31mKeyError\u001b[0m: 'SaleDate'"
     ]
    }
   ],
   "source": [
    "bin_size = np.timedelta64(365, 'D')/12 # days\r\n",
    "fig, ax = plt.subplots()\r\n",
    "ax.hist(parcels['SaleDate'], bins=np.arange(np.datetime64('1990-01-01'), \r\n",
    "                                            np.datetime64('2022-01-01'), \r\n",
    "                                            bin_size ) )\r\n",
    "urban_comm['SaleDate'].plot(ax=ax, colors ='black')\r\n",
    "urban_res_med['SaleDate'].plot(ax=ax, color = 'magenta')\r\n",
    "ylabel_text = 'Number of property sales in Moscow\\nper ' + str(bin_size.astype(int)) + ' days'\r\n",
    "ax.set_ylabel(ylabel_text)\r\n",
    "ax.set_xlim(np.datetime64('2000-01-01'), np.datetime64('2022-01-01') );"
   ]
  },
  {
   "cell_type": "markdown",
   "id": "53601b26",
   "metadata": {},
   "source": [
    "<div class=\"alert alert-block alert-warning\">\n",
    "\n",
    "## 4. Find, plot, work with data of your own\n",
    "Find a spatial, vector dataset of your choosing (by googling, from another class, \n",
    "    or from a research project of yours). This could be climate data, geologic units,\n",
    "    census data, ecological units, demographic data, etc. Download or copy this dataset\n",
    "    into the current directory, plot it, and use geopandas to draw on the attributes \n",
    "    of that data (even just lengths, areas, etc) and tell me something about that data.\n",
    "</div>"
   ]
  },
  {
   "cell_type": "code",
   "execution_count": null,
   "id": "781767b8",
   "metadata": {},
   "outputs": [],
   "source": []
  },
  {
   "cell_type": "code",
   "execution_count": null,
   "id": "db43c9d4",
   "metadata": {},
   "outputs": [],
   "source": []
  },
  {
   "cell_type": "code",
   "execution_count": null,
   "id": "2e2cc450",
   "metadata": {},
   "outputs": [],
   "source": []
  }
 ],
 "metadata": {
  "interpreter": {
   "hash": "6cc1732631c876ffc1dda5286854c32dbbf458e6cd8a4ac8647a458d1ef8ffff"
  },
  "kernelspec": {
   "display_name": "Python 3 (ipykernel)",
   "language": "python",
   "name": "python3"
  },
  "language_info": {
   "codemirror_mode": {
    "name": "ipython",
    "version": 3
   },
   "file_extension": ".py",
   "mimetype": "text/x-python",
   "name": "python",
   "nbconvert_exporter": "python",
   "pygments_lexer": "ipython3",
   "version": "3.9.7"
  }
 },
 "nbformat": 4,
 "nbformat_minor": 5
}

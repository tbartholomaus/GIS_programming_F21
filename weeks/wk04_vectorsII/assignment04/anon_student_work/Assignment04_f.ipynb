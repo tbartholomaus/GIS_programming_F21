{
 "cells": [
  {
   "cell_type": "markdown",
   "id": "b14b20c6-4f6d-4d35-98c0-095d4b9c01c3",
   "metadata": {},
   "source": [
    "# Assignment 04\n"
   ]
  },
  {
   "cell_type": "code",
   "execution_count": null,
   "id": "b38efdc7-7f92-4a40-9178-7c0f61cfc5fd",
   "metadata": {},
   "outputs": [],
   "source": []
  },
  {
   "cell_type": "code",
   "execution_count": 1,
   "id": "f4a70078-b2c0-4a6b-b270-7575dbcd8eda",
   "metadata": {},
   "outputs": [],
   "source": [
    "import numpy as np\n",
    "import matplotlib.pyplot as plt\n",
    "from pathlib import Path\n",
    "\n",
    "import geopandas as gpd"
   ]
  },
  {
   "cell_type": "code",
   "execution_count": 2,
   "id": "f036393c-ec90-4fec-a144-de07755f16fc",
   "metadata": {},
   "outputs": [],
   "source": [
    "datasets_dir = Path('../../../datasets')\n",
    "# ls ../../"
   ]
  },
  {
   "cell_type": "code",
   "execution_count": 3,
   "id": "2e77bc7a-41dc-4ac4-baea-5bbe28e4a040",
   "metadata": {},
   "outputs": [
    {
     "data": {
      "text/plain": [
       "WindowsPath('../../../datasets')"
      ]
     },
     "execution_count": 3,
     "metadata": {},
     "output_type": "execute_result"
    }
   ],
   "source": [
    "datasets_dir"
   ]
  },
  {
   "cell_type": "code",
   "execution_count": 4,
   "id": "bc2dd580-ad80-4615-8a26-9df0b18b916d",
   "metadata": {},
   "outputs": [
    {
     "name": "stdout",
     "output_type": "stream",
     "text": [
      "..\\..\\..\\datasets\\moscow\\moscow_vectors\\Moscow.gdb\n",
      "<class 'pathlib.WindowsPath'>\n"
     ]
    }
   ],
   "source": [
    "moscow_gdb_path = datasets_dir / 'moscow' / 'moscow_vectors' / 'Moscow.gdb'\n",
    "print(moscow_gdb_path)\n",
    "print(type(moscow_gdb_path))"
   ]
  },
  {
   "cell_type": "code",
   "execution_count": null,
   "id": "554bb916-a1c5-4319-9395-a7a499f227b4",
   "metadata": {},
   "outputs": [],
   "source": []
  },
  {
   "cell_type": "code",
   "execution_count": 5,
   "id": "659e9eeb-782d-4df6-b335-943ed6a38203",
   "metadata": {},
   "outputs": [
    {
     "data": {
      "text/plain": [
       "['Moscow_Zoning',\n",
       " 'Centerlines',\n",
       " 'Moscow_Parks',\n",
       " 'Moscow_City_Limit',\n",
       " 'Parcels']"
      ]
     },
     "execution_count": 5,
     "metadata": {},
     "output_type": "execute_result"
    }
   ],
   "source": [
    "import fiona\n",
    "moscow_gdb = str(moscow_gdb_path)\n",
    "\n",
    "fiona.listlayers(moscow_gdb)"
   ]
  },
  {
   "cell_type": "code",
   "execution_count": 6,
   "id": "749b5581-d9ea-48e2-8949-e6acb8e8d685",
   "metadata": {},
   "outputs": [],
   "source": [
    "parcels = gpd.read_file(moscow_gdb, layer='Parcels')\n",
    "roads = gpd.read_file(moscow_gdb, layer='Centerlines')\n",
    "zoning = gpd.read_file(moscow_gdb, layer='Moscow_Zoning')\n",
    "city_limits = gpd.read_file(moscow_gdb, layer='Moscow_City_Limit')\n",
    "parks = gpd.read_file(moscow_gdb, layer='Moscow_Parks')\n"
   ]
  },
  {
   "cell_type": "code",
   "execution_count": 7,
   "id": "994b45f8-6c0c-4f15-8580-e97c5586b077",
   "metadata": {},
   "outputs": [
    {
     "data": {
      "text/plain": [
       "Index(['LABEL', 'PM_PAR_14', 'PM_MAIL_NM', 'PM_MAIL_A1', 'PM_MAIL_A2',\n",
       "       'PM_MAIL_CT', 'PM_MAIL_ST', 'PM_MAIL_ZP', 'PM_PROP_AD', 'PM_DEEDCDT',\n",
       "       'PM_DEEDRF1', 'PM_DEEDRF2', 'PM_DEEDRF3', 'PM_DEEDRF4', 'PM_DEEDRF5',\n",
       "       'PM_TAX_AMT', 'PM_PV_AREA', 'PM_PV_NBHD', 'PM_PV_ACRE', 'PM_TOT_VAL',\n",
       "       'PM_IMP_VAL', 'PM_LND_VAL', 'PM_EX_VAL', 'PM_NET_VAL', 'PM_CATS',\n",
       "       'LG_LINE_1', 'LG_LINE_2', 'LG_LINE_3', 'LG_LINE_4', 'LG_LINE_5',\n",
       "       'LG_LINE_6', 'PM_PARC_CD', 'GlobalID', 'Shape_Length', 'Shape_Area',\n",
       "       'geometry'],\n",
       "      dtype='object')"
      ]
     },
     "execution_count": 7,
     "metadata": {},
     "output_type": "execute_result"
    }
   ],
   "source": [
    "parcels.columns"
   ]
  },
  {
   "cell_type": "code",
   "execution_count": 8,
   "id": "43baf244-ce0c-40a3-9465-0a0fd90522bd",
   "metadata": {
    "collapsed": true,
    "jupyter": {
     "outputs_hidden": true
    },
    "tags": []
   },
   "outputs": [
    {
     "data": {
      "text/html": [
       "<div>\n",
       "<style scoped>\n",
       "    .dataframe tbody tr th:only-of-type {\n",
       "        vertical-align: middle;\n",
       "    }\n",
       "\n",
       "    .dataframe tbody tr th {\n",
       "        vertical-align: top;\n",
       "    }\n",
       "\n",
       "    .dataframe thead th {\n",
       "        text-align: right;\n",
       "    }\n",
       "</style>\n",
       "<table border=\"1\" class=\"dataframe\">\n",
       "  <thead>\n",
       "    <tr style=\"text-align: right;\">\n",
       "      <th></th>\n",
       "      <th>LABEL</th>\n",
       "      <th>PM_PAR_14</th>\n",
       "      <th>PM_MAIL_NM</th>\n",
       "      <th>PM_MAIL_A1</th>\n",
       "      <th>PM_MAIL_A2</th>\n",
       "      <th>PM_MAIL_CT</th>\n",
       "      <th>PM_MAIL_ST</th>\n",
       "      <th>PM_MAIL_ZP</th>\n",
       "      <th>PM_PROP_AD</th>\n",
       "      <th>PM_DEEDCDT</th>\n",
       "      <th>...</th>\n",
       "      <th>LG_LINE_2</th>\n",
       "      <th>LG_LINE_3</th>\n",
       "      <th>LG_LINE_4</th>\n",
       "      <th>LG_LINE_5</th>\n",
       "      <th>LG_LINE_6</th>\n",
       "      <th>PM_PARC_CD</th>\n",
       "      <th>GlobalID</th>\n",
       "      <th>Shape_Length</th>\n",
       "      <th>Shape_Area</th>\n",
       "      <th>geometry</th>\n",
       "    </tr>\n",
       "  </thead>\n",
       "  <tbody>\n",
       "    <tr>\n",
       "      <th>0</th>\n",
       "      <td>3725</td>\n",
       "      <td>RP39N05W203725</td>\n",
       "      <td>TATKINMAH LLC</td>\n",
       "      <td>709 E F ST</td>\n",
       "      <td></td>\n",
       "      <td>MOSCOW</td>\n",
       "      <td>ID</td>\n",
       "      <td>83843.0</td>\n",
       "      <td></td>\n",
       "      <td>20120925.0</td>\n",
       "      <td>...</td>\n",
       "      <td>20  39  5</td>\n",
       "      <td></td>\n",
       "      <td></td>\n",
       "      <td></td>\n",
       "      <td></td>\n",
       "      <td></td>\n",
       "      <td>{675E76EB-B256-413D-8A70-F5AA303470C6}</td>\n",
       "      <td>8233.556159</td>\n",
       "      <td>1.269041e+06</td>\n",
       "      <td>MULTIPOLYGON (((2310895.129 1842403.524, 23110...</td>\n",
       "    </tr>\n",
       "    <tr>\n",
       "      <th>1</th>\n",
       "      <td>004J</td>\n",
       "      <td>RP39N05W20004J</td>\n",
       "      <td>LARSON-FOUNTAIN SKY RANCH LLC</td>\n",
       "      <td>709 E F ST</td>\n",
       "      <td></td>\n",
       "      <td>MOSCOW</td>\n",
       "      <td>ID</td>\n",
       "      <td>83843.0</td>\n",
       "      <td></td>\n",
       "      <td>20120925.0</td>\n",
       "      <td>...</td>\n",
       "      <td>20  39  5</td>\n",
       "      <td></td>\n",
       "      <td></td>\n",
       "      <td></td>\n",
       "      <td></td>\n",
       "      <td>WH</td>\n",
       "      <td>{313D5239-DF58-4258-A360-D61913D27224}</td>\n",
       "      <td>1125.939702</td>\n",
       "      <td>2.429704e+04</td>\n",
       "      <td>MULTIPOLYGON (((2311059.420 1842229.329, 23110...</td>\n",
       "    </tr>\n",
       "    <tr>\n",
       "      <th>2</th>\n",
       "      <td>014A</td>\n",
       "      <td>RPM0496000014A</td>\n",
       "      <td>REGAN, MAUREEN M TAYLOR</td>\n",
       "      <td>1810 LORIEN LN</td>\n",
       "      <td></td>\n",
       "      <td>MOSCOW</td>\n",
       "      <td>ID</td>\n",
       "      <td>83843.0</td>\n",
       "      <td>1810 LORIEN</td>\n",
       "      <td>0.0</td>\n",
       "      <td>...</td>\n",
       "      <td>LOT 14</td>\n",
       "      <td>INDIAN HILLS 6TH ADD</td>\n",
       "      <td>BLK 2 LOT 2</td>\n",
       "      <td></td>\n",
       "      <td></td>\n",
       "      <td></td>\n",
       "      <td>{5F7EE3E4-836A-4402-905D-5CC5BF65658A}</td>\n",
       "      <td>573.162810</td>\n",
       "      <td>1.652831e+04</td>\n",
       "      <td>MULTIPOLYGON (((2313927.891 1843762.528, 23140...</td>\n",
       "    </tr>\n",
       "    <tr>\n",
       "      <th>3</th>\n",
       "      <td>0RRD</td>\n",
       "      <td>RPM03400010RRD</td>\n",
       "      <td>PAR HAWAII, LLC</td>\n",
       "      <td>825 TOWN AND COUNTRY LN</td>\n",
       "      <td>STE 1500</td>\n",
       "      <td>HOUSTON</td>\n",
       "      <td>TX</td>\n",
       "      <td>77024.0</td>\n",
       "      <td>328 N MAIN</td>\n",
       "      <td>20190815.0</td>\n",
       "      <td>...</td>\n",
       "      <td>BLK 1</td>\n",
       "      <td>TAX #1912 OF RR LOT &amp; LOT A</td>\n",
       "      <td></td>\n",
       "      <td></td>\n",
       "      <td></td>\n",
       "      <td>LD</td>\n",
       "      <td>{49B94C50-6895-4EB5-8934-98D9F5C77F7D}</td>\n",
       "      <td>323.999960</td>\n",
       "      <td>4.624991e+03</td>\n",
       "      <td>MULTIPOLYGON (((2310936.696 1850758.583, 23109...</td>\n",
       "    </tr>\n",
       "    <tr>\n",
       "      <th>4</th>\n",
       "      <td>0RRA</td>\n",
       "      <td>RPM03400010RRA</td>\n",
       "      <td>PAR HAWAII, LLC</td>\n",
       "      <td>825 TOWN AND COUNTRY LN</td>\n",
       "      <td>STE 1500</td>\n",
       "      <td>HOUSTON</td>\n",
       "      <td>TX</td>\n",
       "      <td>77024.0</td>\n",
       "      <td>340 N MAIN</td>\n",
       "      <td>20190815.0</td>\n",
       "      <td>...</td>\n",
       "      <td>BLK 1 RR LOTS TAX #696</td>\n",
       "      <td></td>\n",
       "      <td></td>\n",
       "      <td></td>\n",
       "      <td></td>\n",
       "      <td>CC</td>\n",
       "      <td>{5EFD3778-A96A-4346-AC9B-A82DC91728BA}</td>\n",
       "      <td>491.400684</td>\n",
       "      <td>1.440471e+04</td>\n",
       "      <td>MULTIPOLYGON (((2310938.447 1850916.273, 23110...</td>\n",
       "    </tr>\n",
       "  </tbody>\n",
       "</table>\n",
       "<p>5 rows × 36 columns</p>\n",
       "</div>"
      ],
      "text/plain": [
       "  LABEL       PM_PAR_14                     PM_MAIL_NM  \\\n",
       "0  3725  RP39N05W203725                  TATKINMAH LLC   \n",
       "1  004J  RP39N05W20004J  LARSON-FOUNTAIN SKY RANCH LLC   \n",
       "2  014A  RPM0496000014A        REGAN, MAUREEN M TAYLOR   \n",
       "3  0RRD  RPM03400010RRD                PAR HAWAII, LLC   \n",
       "4  0RRA  RPM03400010RRA                PAR HAWAII, LLC   \n",
       "\n",
       "                PM_MAIL_A1 PM_MAIL_A2 PM_MAIL_CT PM_MAIL_ST  PM_MAIL_ZP  \\\n",
       "0               709 E F ST                MOSCOW         ID     83843.0   \n",
       "1               709 E F ST                MOSCOW         ID     83843.0   \n",
       "2           1810 LORIEN LN                MOSCOW         ID     83843.0   \n",
       "3  825 TOWN AND COUNTRY LN   STE 1500    HOUSTON         TX     77024.0   \n",
       "4  825 TOWN AND COUNTRY LN   STE 1500    HOUSTON         TX     77024.0   \n",
       "\n",
       "    PM_PROP_AD  PM_DEEDCDT  ...               LG_LINE_2  \\\n",
       "0               20120925.0  ...               20  39  5   \n",
       "1               20120925.0  ...               20  39  5   \n",
       "2  1810 LORIEN         0.0  ...                  LOT 14   \n",
       "3   328 N MAIN  20190815.0  ...                   BLK 1   \n",
       "4   340 N MAIN  20190815.0  ...  BLK 1 RR LOTS TAX #696   \n",
       "\n",
       "                     LG_LINE_3    LG_LINE_4 LG_LINE_5 LG_LINE_6  PM_PARC_CD  \\\n",
       "0                                                                             \n",
       "1                                                                        WH   \n",
       "2         INDIAN HILLS 6TH ADD  BLK 2 LOT 2                                   \n",
       "3  TAX #1912 OF RR LOT & LOT A                                           LD   \n",
       "4                                                                        CC   \n",
       "\n",
       "                                 GlobalID  Shape_Length    Shape_Area  \\\n",
       "0  {675E76EB-B256-413D-8A70-F5AA303470C6}   8233.556159  1.269041e+06   \n",
       "1  {313D5239-DF58-4258-A360-D61913D27224}   1125.939702  2.429704e+04   \n",
       "2  {5F7EE3E4-836A-4402-905D-5CC5BF65658A}    573.162810  1.652831e+04   \n",
       "3  {49B94C50-6895-4EB5-8934-98D9F5C77F7D}    323.999960  4.624991e+03   \n",
       "4  {5EFD3778-A96A-4346-AC9B-A82DC91728BA}    491.400684  1.440471e+04   \n",
       "\n",
       "                                            geometry  \n",
       "0  MULTIPOLYGON (((2310895.129 1842403.524, 23110...  \n",
       "1  MULTIPOLYGON (((2311059.420 1842229.329, 23110...  \n",
       "2  MULTIPOLYGON (((2313927.891 1843762.528, 23140...  \n",
       "3  MULTIPOLYGON (((2310936.696 1850758.583, 23109...  \n",
       "4  MULTIPOLYGON (((2310938.447 1850916.273, 23110...  \n",
       "\n",
       "[5 rows x 36 columns]"
      ]
     },
     "execution_count": 8,
     "metadata": {},
     "output_type": "execute_result"
    }
   ],
   "source": [
    "parcels.head()"
   ]
  },
  {
   "cell_type": "markdown",
   "id": "533f554b-1fcd-4e89-aecd-749742abdd50",
   "metadata": {},
   "source": [
    "### Shapely geometries\n",
    "Behind the scenes, geopandas is reading in vector data, storing the attribute tables as `pandas` dataframes,\n",
    "and storing the vector geometry as `shapely` geometries.\n",
    "\n",
    "\n",
    "### Reading:\n",
    "To become more familiar with vector operations in geopandas/shapely, \n",
    "read this introduction to shapely geometries carefully, \n",
    "and reproduce/experiment with the code in this reading from within a blank notebook:\n",
    "https://towardsdatascience.com/geospatial-adventures-step-1-shapely-e911e4f86361\n",
    "\n",
    "Read this page for a more comprehensive description of `shapely` geometries: \n",
    "https://autogis-site.readthedocs.io/en/latest/notebooks/L1/geometric-objects.html\n",
    "\n",
    "Scroll through the `shapely` user manual (https://shapely.readthedocs.io/en/stable/manual.html), \n",
    "reviewing the different functions that shapely includes.  `geopandas` allows all of these functions to be\n",
    "executed, [directly through `geopandas`, without explicit call to `shapely`](https://geopandas.org/docs/user_guide/geometric_manipulations.html).  `shapely` is just running\n",
    "quietly under the hood.  Pay specific attention to the \"Spatial Analysis Methods\" of the manual."
   ]
  },
  {
   "cell_type": "code",
   "execution_count": 9,
   "id": "a805a90a-a722-41bd-b340-ac15e6531723",
   "metadata": {},
   "outputs": [
    {
     "name": "stdout",
     "output_type": "stream",
     "text": [
      "Line area = 0.0\n",
      "Line length = 2.8284271247461903\n"
     ]
    }
   ],
   "source": [
    "from shapely.geometry import LineString\n",
    "line = LineString([(0, 0), (1, 1), (2, 0)])\n",
    "print('Line area =', line.area)\n",
    "print('Line length =', line.length)"
   ]
  },
  {
   "cell_type": "code",
   "execution_count": 10,
   "id": "91dda482-8e26-41bd-b40b-732e714cd6f9",
   "metadata": {},
   "outputs": [
    {
     "data": {
      "image/svg+xml": [
       "<svg xmlns=\"http://www.w3.org/2000/svg\" xmlns:xlink=\"http://www.w3.org/1999/xlink\" width=\"100.0\" height=\"100.0\" viewBox=\"-0.08 -0.08 2.16 1.1600000000000001\" preserveAspectRatio=\"xMinYMin meet\"><g transform=\"matrix(1,0,0,-1,0,1.0)\"><polyline fill=\"none\" stroke=\"#66cc99\" stroke-width=\"0.0432\" points=\"0.0,0.0 1.0,1.0 2.0,0.0\" opacity=\"0.8\" /></g></svg>"
      ],
      "text/plain": [
       "<shapely.geometry.linestring.LineString at 0x23bb5d6f790>"
      ]
     },
     "execution_count": 10,
     "metadata": {},
     "output_type": "execute_result"
    }
   ],
   "source": [
    "line"
   ]
  },
  {
   "cell_type": "code",
   "execution_count": 11,
   "id": "92ea295d-9a77-4bf6-9718-0b3cd9979e88",
   "metadata": {},
   "outputs": [
    {
     "data": {
      "text/plain": [
       "shapely.geometry.linestring.LineString"
      ]
     },
     "execution_count": 11,
     "metadata": {},
     "output_type": "execute_result"
    }
   ],
   "source": [
    "type(line)"
   ]
  },
  {
   "cell_type": "code",
   "execution_count": 12,
   "id": "50696400-bd30-4071-8e44-6535e41c37cc",
   "metadata": {},
   "outputs": [
    {
     "name": "stdout",
     "output_type": "stream",
     "text": [
      "[(0.0, 0.0), (1.0, 1.0), (2.0, 0.0)]\n",
      "(2.0, 0.0)\n"
     ]
    }
   ],
   "source": [
    "print( list(line.coords) )\n",
    "print( line.coords[2] )"
   ]
  },
  {
   "cell_type": "markdown",
   "id": "aa3bf992-2366-47e0-bc24-0d49657b6e92",
   "metadata": {},
   "source": [
    "<div class=\"alert alert-block alert-warning\">\n",
    "\n",
    "## 1. Shapely geometries\n",
    "What `shapely` geometry are each of the parcels in the Moscow parcels layer? What `shapely` geometry are their centroids?\n",
    "    \n",
    "Find the Kenworthy Theater within the parcels database (hint: the name field for its mailing address, \n",
    "    PM_MAIL_NM, is \"KENWORTHY PERFORMING ARTS CTR\").\n",
    "What are the coordinates for the corners of its parcel?    \n",
    "</div>\n"
   ]
  },
  {
   "cell_type": "markdown",
   "id": "9a642d96-411a-4df4-a26c-c6368d76ddeb",
   "metadata": {},
   "source": [
    "**investigating the data first. . .**"
   ]
  },
  {
   "cell_type": "code",
   "execution_count": 13,
   "id": "291f89be-8ae4-4981-8e6c-aa435511154f",
   "metadata": {},
   "outputs": [
    {
     "data": {
      "text/plain": [
       "geopandas.geodataframe.GeoDataFrame"
      ]
     },
     "execution_count": 13,
     "metadata": {},
     "output_type": "execute_result"
    }
   ],
   "source": [
    "type(parcels) "
   ]
  },
  {
   "cell_type": "code",
   "execution_count": 14,
   "id": "d0008a79-7854-493d-b759-c05fc76b27a8",
   "metadata": {},
   "outputs": [
    {
     "data": {
      "text/plain": [
       "geopandas.geoseries.GeoSeries"
      ]
     },
     "execution_count": 14,
     "metadata": {},
     "output_type": "execute_result"
    }
   ],
   "source": [
    "type(parcels.geometry)"
   ]
  },
  {
   "cell_type": "code",
   "execution_count": 15,
   "id": "c0ad7add-c0eb-4dc8-b9ec-9419d0f41294",
   "metadata": {
    "collapsed": true,
    "jupyter": {
     "outputs_hidden": true
    },
    "tags": []
   },
   "outputs": [
    {
     "data": {
      "text/html": [
       "<div>\n",
       "<style scoped>\n",
       "    .dataframe tbody tr th:only-of-type {\n",
       "        vertical-align: middle;\n",
       "    }\n",
       "\n",
       "    .dataframe tbody tr th {\n",
       "        vertical-align: top;\n",
       "    }\n",
       "\n",
       "    .dataframe thead th {\n",
       "        text-align: right;\n",
       "    }\n",
       "</style>\n",
       "<table border=\"1\" class=\"dataframe\">\n",
       "  <thead>\n",
       "    <tr style=\"text-align: right;\">\n",
       "      <th></th>\n",
       "      <th>LABEL</th>\n",
       "      <th>PM_PAR_14</th>\n",
       "      <th>PM_MAIL_NM</th>\n",
       "      <th>PM_MAIL_A1</th>\n",
       "      <th>PM_MAIL_A2</th>\n",
       "      <th>PM_MAIL_CT</th>\n",
       "      <th>PM_MAIL_ST</th>\n",
       "      <th>PM_MAIL_ZP</th>\n",
       "      <th>PM_PROP_AD</th>\n",
       "      <th>PM_DEEDCDT</th>\n",
       "      <th>...</th>\n",
       "      <th>LG_LINE_2</th>\n",
       "      <th>LG_LINE_3</th>\n",
       "      <th>LG_LINE_4</th>\n",
       "      <th>LG_LINE_5</th>\n",
       "      <th>LG_LINE_6</th>\n",
       "      <th>PM_PARC_CD</th>\n",
       "      <th>GlobalID</th>\n",
       "      <th>Shape_Length</th>\n",
       "      <th>Shape_Area</th>\n",
       "      <th>geometry</th>\n",
       "    </tr>\n",
       "  </thead>\n",
       "  <tbody>\n",
       "    <tr>\n",
       "      <th>0</th>\n",
       "      <td>3725</td>\n",
       "      <td>RP39N05W203725</td>\n",
       "      <td>TATKINMAH LLC</td>\n",
       "      <td>709 E F ST</td>\n",
       "      <td></td>\n",
       "      <td>MOSCOW</td>\n",
       "      <td>ID</td>\n",
       "      <td>83843.0</td>\n",
       "      <td></td>\n",
       "      <td>20120925.0</td>\n",
       "      <td>...</td>\n",
       "      <td>20  39  5</td>\n",
       "      <td></td>\n",
       "      <td></td>\n",
       "      <td></td>\n",
       "      <td></td>\n",
       "      <td></td>\n",
       "      <td>{675E76EB-B256-413D-8A70-F5AA303470C6}</td>\n",
       "      <td>8233.556159</td>\n",
       "      <td>1.269041e+06</td>\n",
       "      <td>MULTIPOLYGON (((2310895.129 1842403.524, 23110...</td>\n",
       "    </tr>\n",
       "    <tr>\n",
       "      <th>1</th>\n",
       "      <td>004J</td>\n",
       "      <td>RP39N05W20004J</td>\n",
       "      <td>LARSON-FOUNTAIN SKY RANCH LLC</td>\n",
       "      <td>709 E F ST</td>\n",
       "      <td></td>\n",
       "      <td>MOSCOW</td>\n",
       "      <td>ID</td>\n",
       "      <td>83843.0</td>\n",
       "      <td></td>\n",
       "      <td>20120925.0</td>\n",
       "      <td>...</td>\n",
       "      <td>20  39  5</td>\n",
       "      <td></td>\n",
       "      <td></td>\n",
       "      <td></td>\n",
       "      <td></td>\n",
       "      <td>WH</td>\n",
       "      <td>{313D5239-DF58-4258-A360-D61913D27224}</td>\n",
       "      <td>1125.939702</td>\n",
       "      <td>2.429704e+04</td>\n",
       "      <td>MULTIPOLYGON (((2311059.420 1842229.329, 23110...</td>\n",
       "    </tr>\n",
       "    <tr>\n",
       "      <th>2</th>\n",
       "      <td>014A</td>\n",
       "      <td>RPM0496000014A</td>\n",
       "      <td>REGAN, MAUREEN M TAYLOR</td>\n",
       "      <td>1810 LORIEN LN</td>\n",
       "      <td></td>\n",
       "      <td>MOSCOW</td>\n",
       "      <td>ID</td>\n",
       "      <td>83843.0</td>\n",
       "      <td>1810 LORIEN</td>\n",
       "      <td>0.0</td>\n",
       "      <td>...</td>\n",
       "      <td>LOT 14</td>\n",
       "      <td>INDIAN HILLS 6TH ADD</td>\n",
       "      <td>BLK 2 LOT 2</td>\n",
       "      <td></td>\n",
       "      <td></td>\n",
       "      <td></td>\n",
       "      <td>{5F7EE3E4-836A-4402-905D-5CC5BF65658A}</td>\n",
       "      <td>573.162810</td>\n",
       "      <td>1.652831e+04</td>\n",
       "      <td>MULTIPOLYGON (((2313927.891 1843762.528, 23140...</td>\n",
       "    </tr>\n",
       "    <tr>\n",
       "      <th>3</th>\n",
       "      <td>0RRD</td>\n",
       "      <td>RPM03400010RRD</td>\n",
       "      <td>PAR HAWAII, LLC</td>\n",
       "      <td>825 TOWN AND COUNTRY LN</td>\n",
       "      <td>STE 1500</td>\n",
       "      <td>HOUSTON</td>\n",
       "      <td>TX</td>\n",
       "      <td>77024.0</td>\n",
       "      <td>328 N MAIN</td>\n",
       "      <td>20190815.0</td>\n",
       "      <td>...</td>\n",
       "      <td>BLK 1</td>\n",
       "      <td>TAX #1912 OF RR LOT &amp; LOT A</td>\n",
       "      <td></td>\n",
       "      <td></td>\n",
       "      <td></td>\n",
       "      <td>LD</td>\n",
       "      <td>{49B94C50-6895-4EB5-8934-98D9F5C77F7D}</td>\n",
       "      <td>323.999960</td>\n",
       "      <td>4.624991e+03</td>\n",
       "      <td>MULTIPOLYGON (((2310936.696 1850758.583, 23109...</td>\n",
       "    </tr>\n",
       "    <tr>\n",
       "      <th>4</th>\n",
       "      <td>0RRA</td>\n",
       "      <td>RPM03400010RRA</td>\n",
       "      <td>PAR HAWAII, LLC</td>\n",
       "      <td>825 TOWN AND COUNTRY LN</td>\n",
       "      <td>STE 1500</td>\n",
       "      <td>HOUSTON</td>\n",
       "      <td>TX</td>\n",
       "      <td>77024.0</td>\n",
       "      <td>340 N MAIN</td>\n",
       "      <td>20190815.0</td>\n",
       "      <td>...</td>\n",
       "      <td>BLK 1 RR LOTS TAX #696</td>\n",
       "      <td></td>\n",
       "      <td></td>\n",
       "      <td></td>\n",
       "      <td></td>\n",
       "      <td>CC</td>\n",
       "      <td>{5EFD3778-A96A-4346-AC9B-A82DC91728BA}</td>\n",
       "      <td>491.400684</td>\n",
       "      <td>1.440471e+04</td>\n",
       "      <td>MULTIPOLYGON (((2310938.447 1850916.273, 23110...</td>\n",
       "    </tr>\n",
       "  </tbody>\n",
       "</table>\n",
       "<p>5 rows × 36 columns</p>\n",
       "</div>"
      ],
      "text/plain": [
       "  LABEL       PM_PAR_14                     PM_MAIL_NM  \\\n",
       "0  3725  RP39N05W203725                  TATKINMAH LLC   \n",
       "1  004J  RP39N05W20004J  LARSON-FOUNTAIN SKY RANCH LLC   \n",
       "2  014A  RPM0496000014A        REGAN, MAUREEN M TAYLOR   \n",
       "3  0RRD  RPM03400010RRD                PAR HAWAII, LLC   \n",
       "4  0RRA  RPM03400010RRA                PAR HAWAII, LLC   \n",
       "\n",
       "                PM_MAIL_A1 PM_MAIL_A2 PM_MAIL_CT PM_MAIL_ST  PM_MAIL_ZP  \\\n",
       "0               709 E F ST                MOSCOW         ID     83843.0   \n",
       "1               709 E F ST                MOSCOW         ID     83843.0   \n",
       "2           1810 LORIEN LN                MOSCOW         ID     83843.0   \n",
       "3  825 TOWN AND COUNTRY LN   STE 1500    HOUSTON         TX     77024.0   \n",
       "4  825 TOWN AND COUNTRY LN   STE 1500    HOUSTON         TX     77024.0   \n",
       "\n",
       "    PM_PROP_AD  PM_DEEDCDT  ...               LG_LINE_2  \\\n",
       "0               20120925.0  ...               20  39  5   \n",
       "1               20120925.0  ...               20  39  5   \n",
       "2  1810 LORIEN         0.0  ...                  LOT 14   \n",
       "3   328 N MAIN  20190815.0  ...                   BLK 1   \n",
       "4   340 N MAIN  20190815.0  ...  BLK 1 RR LOTS TAX #696   \n",
       "\n",
       "                     LG_LINE_3    LG_LINE_4 LG_LINE_5 LG_LINE_6  PM_PARC_CD  \\\n",
       "0                                                                             \n",
       "1                                                                        WH   \n",
       "2         INDIAN HILLS 6TH ADD  BLK 2 LOT 2                                   \n",
       "3  TAX #1912 OF RR LOT & LOT A                                           LD   \n",
       "4                                                                        CC   \n",
       "\n",
       "                                 GlobalID  Shape_Length    Shape_Area  \\\n",
       "0  {675E76EB-B256-413D-8A70-F5AA303470C6}   8233.556159  1.269041e+06   \n",
       "1  {313D5239-DF58-4258-A360-D61913D27224}   1125.939702  2.429704e+04   \n",
       "2  {5F7EE3E4-836A-4402-905D-5CC5BF65658A}    573.162810  1.652831e+04   \n",
       "3  {49B94C50-6895-4EB5-8934-98D9F5C77F7D}    323.999960  4.624991e+03   \n",
       "4  {5EFD3778-A96A-4346-AC9B-A82DC91728BA}    491.400684  1.440471e+04   \n",
       "\n",
       "                                            geometry  \n",
       "0  MULTIPOLYGON (((2310895.129 1842403.524, 23110...  \n",
       "1  MULTIPOLYGON (((2311059.420 1842229.329, 23110...  \n",
       "2  MULTIPOLYGON (((2313927.891 1843762.528, 23140...  \n",
       "3  MULTIPOLYGON (((2310936.696 1850758.583, 23109...  \n",
       "4  MULTIPOLYGON (((2310938.447 1850916.273, 23110...  \n",
       "\n",
       "[5 rows x 36 columns]"
      ]
     },
     "execution_count": 15,
     "metadata": {},
     "output_type": "execute_result"
    }
   ],
   "source": [
    "parcels.head()"
   ]
  },
  {
   "cell_type": "markdown",
   "id": "f13445ff-6f39-4fa8-8772-d72c5479e0b5",
   "metadata": {},
   "source": [
    "Because the GeoDataFrame contains only one GeoSeries, I don't have to specify the vector **parcels.geometry**. There is only one geometry type: MultiPolygon. https://geopandas.readthedocs.io/en/latest/docs/user_guide/data_structures.html"
   ]
  },
  {
   "cell_type": "code",
   "execution_count": 16,
   "id": "6e7a9334-ffe4-4ae0-8ad5-ed50d1e64197",
   "metadata": {
    "collapsed": true,
    "jupyter": {
     "outputs_hidden": true
    },
    "tags": []
   },
   "outputs": [
    {
     "data": {
      "text/plain": [
       "0       MultiPolygon\n",
       "1       MultiPolygon\n",
       "2       MultiPolygon\n",
       "3       MultiPolygon\n",
       "4       MultiPolygon\n",
       "            ...     \n",
       "7389    MultiPolygon\n",
       "7390    MultiPolygon\n",
       "7391    MultiPolygon\n",
       "7392    MultiPolygon\n",
       "7393    MultiPolygon\n",
       "Length: 7394, dtype: object"
      ]
     },
     "execution_count": 16,
     "metadata": {},
     "output_type": "execute_result"
    }
   ],
   "source": [
    "parcels.geom_type #method 1"
   ]
  },
  {
   "cell_type": "code",
   "execution_count": 17,
   "id": "18bc4e20-afe6-48d0-b9ba-df889b5b6cdf",
   "metadata": {
    "collapsed": true,
    "jupyter": {
     "outputs_hidden": true
    },
    "tags": []
   },
   "outputs": [
    {
     "data": {
      "text/plain": [
       "0       MultiPolygon\n",
       "1       MultiPolygon\n",
       "2       MultiPolygon\n",
       "3       MultiPolygon\n",
       "4       MultiPolygon\n",
       "            ...     \n",
       "7389    MultiPolygon\n",
       "7390    MultiPolygon\n",
       "7391    MultiPolygon\n",
       "7392    MultiPolygon\n",
       "7393    MultiPolygon\n",
       "Length: 7394, dtype: object"
      ]
     },
     "execution_count": 17,
     "metadata": {},
     "output_type": "execute_result"
    }
   ],
   "source": [
    "parcels.geometry.geom_type #method 2"
   ]
  },
  {
   "cell_type": "code",
   "execution_count": 18,
   "id": "ad2dffbb-5697-41ce-84a0-3a6b7f9d3538",
   "metadata": {
    "collapsed": true,
    "jupyter": {
     "outputs_hidden": true
    },
    "tags": []
   },
   "outputs": [
    {
     "data": {
      "text/plain": [
       "0       MULTIPOLYGON (((2310895.129 1842403.524, 23110...\n",
       "1       MULTIPOLYGON (((2311059.420 1842229.329, 23110...\n",
       "2       MULTIPOLYGON (((2313927.891 1843762.528, 23140...\n",
       "3       MULTIPOLYGON (((2310936.696 1850758.583, 23109...\n",
       "4       MULTIPOLYGON (((2310938.447 1850916.273, 23110...\n",
       "                              ...                        \n",
       "7389    MULTIPOLYGON (((2309810.585 1844883.291, 23097...\n",
       "7390    MULTIPOLYGON (((2309630.922 1844876.652, 23096...\n",
       "7391    MULTIPOLYGON (((2309722.005 1844975.767, 23097...\n",
       "7392    MULTIPOLYGON (((2309711.261 1844923.808, 23096...\n",
       "7393    MULTIPOLYGON (((2315750.007 1843514.088, 23157...\n",
       "Name: geometry, Length: 7394, dtype: geometry"
      ]
     },
     "execution_count": 18,
     "metadata": {},
     "output_type": "execute_result"
    }
   ],
   "source": [
    "parcels.geometry #method 3"
   ]
  },
  {
   "cell_type": "code",
   "execution_count": 19,
   "id": "8cc31a43-f4c4-4b65-9fc1-bdf2c3ff109c",
   "metadata": {},
   "outputs": [
    {
     "data": {
      "text/plain": [
       "pandas.core.series.Series"
      ]
     },
     "execution_count": 19,
     "metadata": {},
     "output_type": "execute_result"
    }
   ],
   "source": [
    "type(parcels.PM_MAIL_NM)"
   ]
  },
  {
   "cell_type": "code",
   "execution_count": 20,
   "id": "cdcbea27-6279-42b9-b32c-27f3448720e5",
   "metadata": {},
   "outputs": [],
   "source": [
    "from shapely.geometry import LineString, GeometryCollection, Point, Polygon"
   ]
  },
  {
   "cell_type": "code",
   "execution_count": null,
   "id": "bd81953c-e318-4a48-9057-22a1883443a2",
   "metadata": {},
   "outputs": [],
   "source": []
  },
  {
   "cell_type": "code",
   "execution_count": null,
   "id": "22be076e-a906-411c-8219-c95235f742e0",
   "metadata": {},
   "outputs": [],
   "source": []
  },
  {
   "cell_type": "markdown",
   "id": "a3cb775f-5c39-43d3-bd20-ed2dd0ba1b6a",
   "metadata": {},
   "source": [
    "**Approach 1:** select the object by name and print its coordinates (because it is a MultiPolygon, its geometric propeties are already defined and I should be able to use the .methods to return them)."
   ]
  },
  {
   "cell_type": "code",
   "execution_count": 21,
   "id": "be73d542-2725-4374-bba7-696e85de6069",
   "metadata": {},
   "outputs": [],
   "source": [
    "# parcels.set_index('PM_MAIL_NM', inplace=True)\n",
    "# ken= parcels.loc['KENWORTHY PERFORMING ARTS CTR']\n",
    "# type(ken)\n",
    "# ken\n",
    "\n",
    "# !!!!!doing it this way turns it into a pd.Series which prohibits use of gpd and shapely!!!!!"
   ]
  },
  {
   "cell_type": "code",
   "execution_count": 22,
   "id": "b273d95c-b132-4688-bf64-74b6b15a4a08",
   "metadata": {
    "tags": []
   },
   "outputs": [],
   "source": [
    "ken = parcels[parcels['PM_MAIL_NM']=='KENWORTHY PERFORMING ARTS CTR']"
   ]
  },
  {
   "cell_type": "code",
   "execution_count": 23,
   "id": "f3f4d7b3-13b5-4412-b9da-37687df52818",
   "metadata": {
    "tags": []
   },
   "outputs": [
    {
     "data": {
      "text/plain": [
       "geopandas.geodataframe.GeoDataFrame"
      ]
     },
     "execution_count": 23,
     "metadata": {},
     "output_type": "execute_result"
    }
   ],
   "source": [
    "type(ken)"
   ]
  },
  {
   "cell_type": "code",
   "execution_count": 24,
   "id": "b4cb4045-34b1-41c5-b17c-16c29ed401f2",
   "metadata": {
    "collapsed": true,
    "jupyter": {
     "outputs_hidden": true
    },
    "tags": []
   },
   "outputs": [
    {
     "data": {
      "text/html": [
       "<div>\n",
       "<style scoped>\n",
       "    .dataframe tbody tr th:only-of-type {\n",
       "        vertical-align: middle;\n",
       "    }\n",
       "\n",
       "    .dataframe tbody tr th {\n",
       "        vertical-align: top;\n",
       "    }\n",
       "\n",
       "    .dataframe thead th {\n",
       "        text-align: right;\n",
       "    }\n",
       "</style>\n",
       "<table border=\"1\" class=\"dataframe\">\n",
       "  <thead>\n",
       "    <tr style=\"text-align: right;\">\n",
       "      <th></th>\n",
       "      <th>LABEL</th>\n",
       "      <th>PM_PAR_14</th>\n",
       "      <th>PM_MAIL_NM</th>\n",
       "      <th>PM_MAIL_A1</th>\n",
       "      <th>PM_MAIL_A2</th>\n",
       "      <th>PM_MAIL_CT</th>\n",
       "      <th>PM_MAIL_ST</th>\n",
       "      <th>PM_MAIL_ZP</th>\n",
       "      <th>PM_PROP_AD</th>\n",
       "      <th>PM_DEEDCDT</th>\n",
       "      <th>...</th>\n",
       "      <th>LG_LINE_2</th>\n",
       "      <th>LG_LINE_3</th>\n",
       "      <th>LG_LINE_4</th>\n",
       "      <th>LG_LINE_5</th>\n",
       "      <th>LG_LINE_6</th>\n",
       "      <th>PM_PARC_CD</th>\n",
       "      <th>GlobalID</th>\n",
       "      <th>Shape_Length</th>\n",
       "      <th>Shape_Area</th>\n",
       "      <th>geometry</th>\n",
       "    </tr>\n",
       "  </thead>\n",
       "  <tbody>\n",
       "    <tr>\n",
       "      <th>1359</th>\n",
       "      <td>002B</td>\n",
       "      <td>RPM0001005002B</td>\n",
       "      <td>KENWORTHY PERFORMING ARTS CTR</td>\n",
       "      <td>508 S MAIN</td>\n",
       "      <td></td>\n",
       "      <td>MOSCOW</td>\n",
       "      <td>ID</td>\n",
       "      <td>83843.0</td>\n",
       "      <td>508 S MAIN</td>\n",
       "      <td>20010202.0</td>\n",
       "      <td>...</td>\n",
       "      <td>BLK 5 LOT 2, N 1/2 OF LOT 3</td>\n",
       "      <td>EXEMPT</td>\n",
       "      <td></td>\n",
       "      <td></td>\n",
       "      <td></td>\n",
       "      <td>C</td>\n",
       "      <td>{A4FB5B11-A87D-453A-ABD6-8BC607A17A20}</td>\n",
       "      <td>369.999919</td>\n",
       "      <td>7499.997375</td>\n",
       "      <td>MULTIPOLYGON (((2311036.946 1848531.880, 23110...</td>\n",
       "    </tr>\n",
       "  </tbody>\n",
       "</table>\n",
       "<p>1 rows × 36 columns</p>\n",
       "</div>"
      ],
      "text/plain": [
       "     LABEL       PM_PAR_14                     PM_MAIL_NM  PM_MAIL_A1  \\\n",
       "1359  002B  RPM0001005002B  KENWORTHY PERFORMING ARTS CTR  508 S MAIN   \n",
       "\n",
       "     PM_MAIL_A2 PM_MAIL_CT PM_MAIL_ST  PM_MAIL_ZP  PM_PROP_AD  PM_DEEDCDT  \\\n",
       "1359                MOSCOW         ID     83843.0  508 S MAIN  20010202.0   \n",
       "\n",
       "      ...                    LG_LINE_2 LG_LINE_3 LG_LINE_4 LG_LINE_5  \\\n",
       "1359  ...  BLK 5 LOT 2, N 1/2 OF LOT 3    EXEMPT                       \n",
       "\n",
       "     LG_LINE_6  PM_PARC_CD                                GlobalID  \\\n",
       "1359                     C  {A4FB5B11-A87D-453A-ABD6-8BC607A17A20}   \n",
       "\n",
       "      Shape_Length   Shape_Area  \\\n",
       "1359    369.999919  7499.997375   \n",
       "\n",
       "                                               geometry  \n",
       "1359  MULTIPOLYGON (((2311036.946 1848531.880, 23110...  \n",
       "\n",
       "[1 rows x 36 columns]"
      ]
     },
     "execution_count": 24,
     "metadata": {},
     "output_type": "execute_result"
    }
   ],
   "source": [
    "ken"
   ]
  },
  {
   "cell_type": "code",
   "execution_count": 25,
   "id": "b8e355f1-acc7-496d-89dc-f823288734cb",
   "metadata": {},
   "outputs": [
    {
     "name": "stdout",
     "output_type": "stream",
     "text": [
      "1359    MULTIPOLYGON (((2311036.946 1848531.880, 23110...\n",
      "Name: geometry, dtype: geometry\n"
     ]
    }
   ],
   "source": [
    "print(ken.geometry)"
   ]
  },
  {
   "cell_type": "code",
   "execution_count": 26,
   "id": "3cd8269f-3c8c-4da1-9340-4477b05e70fe",
   "metadata": {},
   "outputs": [
    {
     "name": "stdout",
     "output_type": "stream",
     "text": [
      "1359    None\n",
      "dtype: geometry\n"
     ]
    }
   ],
   "source": [
    "print(ken.exterior)"
   ]
  },
  {
   "cell_type": "code",
   "execution_count": 27,
   "id": "ca6dfe04-fa8a-4695-b165-f42613cbf3da",
   "metadata": {},
   "outputs": [
    {
     "name": "stdout",
     "output_type": "stream",
     "text": [
      "[<shapely.geometry.multipolygon.MultiPolygon object at 0x0000023BB321FE80>]\n"
     ]
    }
   ],
   "source": [
    "print(list(ken.geometry))"
   ]
  },
  {
   "cell_type": "markdown",
   "id": "6669a186-4323-47eb-8e00-e7570892c8a2",
   "metadata": {},
   "source": [
    "Well, those methods are useless."
   ]
  },
  {
   "cell_type": "markdown",
   "id": "5c84bbc4-e183-452f-9f93-4a2de422eedd",
   "metadata": {},
   "source": [
    "**Approach 3:** this is the brute-force, but somehow simpler, way of doing what was attempted in Approach 2. Since there was no obvious/intuitive way to get the results."
   ]
  },
  {
   "cell_type": "code",
   "execution_count": 28,
   "id": "22f3913a-a351-4502-90e5-c8c114ac2371",
   "metadata": {},
   "outputs": [
    {
     "data": {
      "text/html": [
       "<div>\n",
       "<style scoped>\n",
       "    .dataframe tbody tr th:only-of-type {\n",
       "        vertical-align: middle;\n",
       "    }\n",
       "\n",
       "    .dataframe tbody tr th {\n",
       "        vertical-align: top;\n",
       "    }\n",
       "\n",
       "    .dataframe thead th {\n",
       "        text-align: right;\n",
       "    }\n",
       "</style>\n",
       "<table border=\"1\" class=\"dataframe\">\n",
       "  <thead>\n",
       "    <tr style=\"text-align: right;\">\n",
       "      <th></th>\n",
       "      <th>minx</th>\n",
       "      <th>miny</th>\n",
       "      <th>maxx</th>\n",
       "      <th>maxy</th>\n",
       "    </tr>\n",
       "  </thead>\n",
       "  <tbody>\n",
       "    <tr>\n",
       "      <th>1359</th>\n",
       "      <td>2.310911e+06</td>\n",
       "      <td>1.848472e+06</td>\n",
       "      <td>2.311037e+06</td>\n",
       "      <td>1.848533e+06</td>\n",
       "    </tr>\n",
       "  </tbody>\n",
       "</table>\n",
       "</div>"
      ],
      "text/plain": [
       "              minx          miny          maxx          maxy\n",
       "1359  2.310911e+06  1.848472e+06  2.311037e+06  1.848533e+06"
      ]
     },
     "execution_count": 28,
     "metadata": {},
     "output_type": "execute_result"
    }
   ],
   "source": [
    "ken.bounds"
   ]
  },
  {
   "cell_type": "code",
   "execution_count": 29,
   "id": "ef3e8d75-285f-4551-a448-c9787ff60355",
   "metadata": {},
   "outputs": [
    {
     "data": {
      "text/plain": [
       "array([2310911.28507024, 1848471.8833809 , 2311036.94590816,\n",
       "       1848533.27236574])"
      ]
     },
     "execution_count": 29,
     "metadata": {},
     "output_type": "execute_result"
    }
   ],
   "source": [
    "ken.total_bounds"
   ]
  },
  {
   "cell_type": "code",
   "execution_count": 30,
   "id": "7a8c70d4-0a56-4efa-9ddc-9800323dd944",
   "metadata": {},
   "outputs": [],
   "source": [
    "kv = ken.total_bounds"
   ]
  },
  {
   "cell_type": "code",
   "execution_count": 31,
   "id": "37dc2a75-99e4-48f7-84e0-0fce75a29061",
   "metadata": {},
   "outputs": [],
   "source": [
    "ken_poly = Polygon([\n",
    "    (kv[0],kv[1]),\n",
    "    (kv[2],kv[1]),\n",
    "    (kv[2],kv[3]),\n",
    "    (kv[0],kv[3])\n",
    "])"
   ]
  },
  {
   "cell_type": "code",
   "execution_count": 32,
   "id": "6c2c7f54-f390-4a89-8c39-3294159beb91",
   "metadata": {},
   "outputs": [
    {
     "data": {
      "image/svg+xml": [
       "<svg xmlns=\"http://www.w3.org/2000/svg\" xmlns:xlink=\"http://www.w3.org/1999/xlink\" width=\"135.71370495203882\" height=\"100.0\" viewBox=\"2310906.2586367275 1848466.856947388 135.71370495203882 71.44185187015682\" preserveAspectRatio=\"xMinYMin meet\"><g transform=\"matrix(1,0,0,-1,0,3697005.155746646)\"><path fill-rule=\"evenodd\" fill=\"#66cc99\" stroke=\"#555555\" stroke-width=\"2.0\" opacity=\"0.6\" d=\"M 2310911.285070244,1848471.8833809048 L 2311036.9459081627,1848471.8833809048 L 2311036.9459081627,1848533.2723657414 L 2310911.285070244,1848533.2723657414 L 2310911.285070244,1848471.8833809048 z\" /></g></svg>"
      ],
      "text/plain": [
       "<shapely.geometry.polygon.Polygon at 0x23bb5dbab50>"
      ]
     },
     "execution_count": 32,
     "metadata": {},
     "output_type": "execute_result"
    }
   ],
   "source": [
    "ken_poly"
   ]
  },
  {
   "cell_type": "code",
   "execution_count": 33,
   "id": "dbed5b9b-e552-4d86-af36-aab49e5bd8c0",
   "metadata": {},
   "outputs": [
    {
     "data": {
      "text/plain": [
       "(array('d', [2310911.285070244, 2311036.9459081627, 2311036.9459081627, 2310911.285070244, 2310911.285070244]),\n",
       " array('d', [1848471.8833809048, 1848471.8833809048, 1848533.2723657414, 1848533.2723657414, 1848471.8833809048]))"
      ]
     },
     "execution_count": 33,
     "metadata": {},
     "output_type": "execute_result"
    }
   ],
   "source": [
    "ken_poly.exterior.coords.xy"
   ]
  },
  {
   "cell_type": "markdown",
   "id": "05709c3a-fb83-47f3-ac96-06370b9b1a55",
   "metadata": {},
   "source": [
    "**Finally, to return the (cleanish) coordinates.** I could go one more step and name 4 points from these vertices."
   ]
  },
  {
   "cell_type": "code",
   "execution_count": 34,
   "id": "a907b750-aecd-46de-8aad-e21188630675",
   "metadata": {},
   "outputs": [
    {
     "name": "stdout",
     "output_type": "stream",
     "text": [
      "LINEARRING (2310911.285070244 1848471.883380905, 2311036.945908163 1848471.883380905, 2311036.945908163 1848533.272365741, 2310911.285070244 1848533.272365741, 2310911.285070244 1848471.883380905)\n"
     ]
    }
   ],
   "source": [
    "print(ken_poly.exterior)"
   ]
  },
  {
   "cell_type": "markdown",
   "id": "7fa957d9-f1d3-4c05-a631-eb3998d48593",
   "metadata": {},
   "source": [
    "**Can just ignore now:**\n",
    "\n",
    "**Approach 2:** because the GeoSeries geometry is special, I should be able to index the coordinates and put them in an array. Might have to convert to a regular polygon first.\n",
    "https://gis.stackexchange.com/questions/287306/list-all-polygon-vertices-coordinates-using-geopandas\n",
    "\n",
    "https://stackoverflow.com/questions/64099107/convert-multipolygon-geometry-into-list\n",
    "\n",
    "https://gis.stackexchange.com/questions/180142/converting-shapely-multipolygon-to-polygon-technique-doesnt-always-work\n",
    "\n"
   ]
  },
  {
   "cell_type": "code",
   "execution_count": 35,
   "id": "e5fa55b4-ed79-4ca7-acad-b090b19bb61f",
   "metadata": {
    "collapsed": true,
    "jupyter": {
     "outputs_hidden": true
    },
    "tags": []
   },
   "outputs": [
    {
     "ename": "AttributeError",
     "evalue": "'GeoSeries' object has no attribute 'coords'",
     "output_type": "error",
     "traceback": [
      "\u001b[1;31m---------------------------------------------------------------------------\u001b[0m",
      "\u001b[1;31mAttributeError\u001b[0m                            Traceback (most recent call last)",
      "\u001b[1;32m~\\AppData\\Local\\Temp/ipykernel_5624/4120307790.py\u001b[0m in \u001b[0;36m<module>\u001b[1;34m\u001b[0m\n\u001b[1;32m----> 1\u001b[1;33m \u001b[0mken_coordslist\u001b[0m \u001b[1;33m=\u001b[0m \u001b[1;33m[\u001b[0m\u001b[0mken\u001b[0m\u001b[1;33m.\u001b[0m\u001b[0mexterior\u001b[0m\u001b[1;33m.\u001b[0m\u001b[0mcoords\u001b[0m \u001b[1;32mfor\u001b[0m \u001b[0mpoly\u001b[0m \u001b[1;32min\u001b[0m \u001b[0mlist\u001b[0m\u001b[1;33m(\u001b[0m\u001b[0mken\u001b[0m\u001b[1;33m.\u001b[0m\u001b[0mgeometry\u001b[0m\u001b[1;33m)\u001b[0m\u001b[1;33m]\u001b[0m\u001b[1;33m\u001b[0m\u001b[1;33m\u001b[0m\u001b[0m\n\u001b[0m",
      "\u001b[1;32m~\\AppData\\Local\\Temp/ipykernel_5624/4120307790.py\u001b[0m in \u001b[0;36m<listcomp>\u001b[1;34m(.0)\u001b[0m\n\u001b[1;32m----> 1\u001b[1;33m \u001b[0mken_coordslist\u001b[0m \u001b[1;33m=\u001b[0m \u001b[1;33m[\u001b[0m\u001b[0mken\u001b[0m\u001b[1;33m.\u001b[0m\u001b[0mexterior\u001b[0m\u001b[1;33m.\u001b[0m\u001b[0mcoords\u001b[0m \u001b[1;32mfor\u001b[0m \u001b[0mpoly\u001b[0m \u001b[1;32min\u001b[0m \u001b[0mlist\u001b[0m\u001b[1;33m(\u001b[0m\u001b[0mken\u001b[0m\u001b[1;33m.\u001b[0m\u001b[0mgeometry\u001b[0m\u001b[1;33m)\u001b[0m\u001b[1;33m]\u001b[0m\u001b[1;33m\u001b[0m\u001b[1;33m\u001b[0m\u001b[0m\n\u001b[0m",
      "\u001b[1;32m~\\.conda\\envs\\GISenv21b\\lib\\site-packages\\pandas\\core\\generic.py\u001b[0m in \u001b[0;36m__getattr__\u001b[1;34m(self, name)\u001b[0m\n\u001b[0;32m   5485\u001b[0m         ):\n\u001b[0;32m   5486\u001b[0m             \u001b[1;32mreturn\u001b[0m \u001b[0mself\u001b[0m\u001b[1;33m[\u001b[0m\u001b[0mname\u001b[0m\u001b[1;33m]\u001b[0m\u001b[1;33m\u001b[0m\u001b[1;33m\u001b[0m\u001b[0m\n\u001b[1;32m-> 5487\u001b[1;33m         \u001b[1;32mreturn\u001b[0m \u001b[0mobject\u001b[0m\u001b[1;33m.\u001b[0m\u001b[0m__getattribute__\u001b[0m\u001b[1;33m(\u001b[0m\u001b[0mself\u001b[0m\u001b[1;33m,\u001b[0m \u001b[0mname\u001b[0m\u001b[1;33m)\u001b[0m\u001b[1;33m\u001b[0m\u001b[1;33m\u001b[0m\u001b[0m\n\u001b[0m\u001b[0;32m   5488\u001b[0m \u001b[1;33m\u001b[0m\u001b[0m\n\u001b[0;32m   5489\u001b[0m     \u001b[1;32mdef\u001b[0m \u001b[0m__setattr__\u001b[0m\u001b[1;33m(\u001b[0m\u001b[0mself\u001b[0m\u001b[1;33m,\u001b[0m \u001b[0mname\u001b[0m\u001b[1;33m:\u001b[0m \u001b[0mstr\u001b[0m\u001b[1;33m,\u001b[0m \u001b[0mvalue\u001b[0m\u001b[1;33m)\u001b[0m \u001b[1;33m->\u001b[0m \u001b[1;32mNone\u001b[0m\u001b[1;33m:\u001b[0m\u001b[1;33m\u001b[0m\u001b[1;33m\u001b[0m\u001b[0m\n",
      "\u001b[1;31mAttributeError\u001b[0m: 'GeoSeries' object has no attribute 'coords'"
     ]
    }
   ],
   "source": [
    "ken_coordslist = [ken.exterior.coords for poly in list(ken.geometry)]"
   ]
  },
  {
   "cell_type": "code",
   "execution_count": null,
   "id": "bca04ecb-215a-4b81-93a7-6ebe7b0fc68e",
   "metadata": {},
   "outputs": [],
   "source": []
  },
  {
   "cell_type": "code",
   "execution_count": null,
   "id": "7cd0b3b3-a939-410d-8ead-c6660d78f5b0",
   "metadata": {
    "tags": []
   },
   "outputs": [],
   "source": [
    "vertices = [list(ken.exterior.coords) for x in ken.geometry]"
   ]
  },
  {
   "cell_type": "code",
   "execution_count": null,
   "id": "886b7dbf-6589-4559-a11b-00219a86f32e",
   "metadata": {},
   "outputs": [],
   "source": []
  },
  {
   "cell_type": "code",
   "execution_count": null,
   "id": "e3b51f08-9be0-413b-bb79-87306c9f1706",
   "metadata": {
    "tags": []
   },
   "outputs": [],
   "source": [
    "v = list[i for i in ken.geometry]\n",
    "x,y = v[0].exterior.coords.xy\n",
    "coords = np.dstack((x,y)).tolist()"
   ]
  },
  {
   "cell_type": "markdown",
   "id": "9e2848e2-4335-42a0-a214-b87fa8dc11a5",
   "metadata": {},
   "source": [
    "**Question 1, part b.**"
   ]
  },
  {
   "cell_type": "code",
   "execution_count": 36,
   "id": "7ce56df3-ba09-4ae1-a5ed-67c032f129b8",
   "metadata": {
    "tags": []
   },
   "outputs": [
    {
     "name": "stdout",
     "output_type": "stream",
     "text": [
      "FACILITYID                                               PR-E17-G\n",
      "NAME                                                Ghormley Park\n",
      "SUBTYPEFIELD                                                    0\n",
      "FEATURECODE                                                      \n",
      "FULLADDR                                              504 Home St\n",
      "OPERDAYS                                                         \n",
      "OPERHOURS                                                        \n",
      "PARKAREA                                                     7.34\n",
      "PARKURL         https://www.ci.moscow.id.us/parks-rec/parks/Pa...\n",
      "NUMPARKING                                                    0.0\n",
      "RESTROOM                                                      Yes\n",
      "ADACOMPLY                                                        \n",
      "CAMPING                                                        No\n",
      "SWIMMING                                                       No\n",
      "HIKING                                                         No\n",
      "FISHING                                                        No\n",
      "PICNIC                                                        Yes\n",
      "BOATING                                                        No\n",
      "HUNTING                                                        No\n",
      "ROADCYCLE                                                      No\n",
      "MTBCYCLE                                                       No\n",
      "PLAYGROUND                                                    Yes\n",
      "GOLF                                                           No\n",
      "SKI                                                            No\n",
      "SOCCER                                                         No\n",
      "BASEBALL                                                       No\n",
      "BASKETBALL                                                     No\n",
      "STATUS                                                  Developed\n",
      "CLASS                                                 Special Use\n",
      "OWNEDBY                                                         1\n",
      "MAINTBY                                                         1\n",
      "NOTES                                                        City\n",
      "PARKINDEX                                                       G\n",
      "GlobalID                   {916FA34F-34F0-444B-9718-3B7DA79FA21E}\n",
      "geometry              POINT (2308973.479299717 1848631.093892366)\n",
      "Name: 2, dtype: object\n"
     ]
    },
    {
     "data": {
      "text/plain": [
       "<AxesSubplot:>"
      ]
     },
     "execution_count": 36,
     "metadata": {},
     "output_type": "execute_result"
    },
    {
     "data": {
      "image/png": "[encoded data removed]",
      "text/plain": [
       "<Figure size 432x288 with 1 Axes>"
      ]
     },
     "metadata": {
      "needs_background": "light"
     },
     "output_type": "display_data"
    }
   ],
   "source": [
    "i = 2 # Look at one park, for example\n",
    "print(parks.iloc[i])\n",
    "\n",
    "buffer_radius = 200 # What are the units for this?\n",
    "\n",
    "buffered_park = parks.iloc[i:i+1].buffer(buffer_radius) # Careful!  I'm not sure why this is, but geopandas requires a slice here, not a single index\n",
    "    #If you use just one index, it seems to remove all the geopandas properties of the data\n",
    "buffered_park.plot()\n",
    "\n"
   ]
  },
  {
   "cell_type": "code",
   "execution_count": 37,
   "id": "8693d8da-b3b2-4c9e-8b18-3d3df7decdff",
   "metadata": {
    "tags": []
   },
   "outputs": [
    {
     "data": {
      "text/plain": [
       "2    125461.939622\n",
       "dtype: float64"
      ]
     },
     "execution_count": 37,
     "metadata": {},
     "output_type": "execute_result"
    }
   ],
   "source": [
    "buffered_park.area"
   ]
  },
  {
   "cell_type": "code",
   "execution_count": 38,
   "id": "478976f2-22ba-41f4-9d5d-666e7dc3c41d",
   "metadata": {},
   "outputs": [],
   "source": [
    "from numpy import pi"
   ]
  },
  {
   "cell_type": "code",
   "execution_count": 39,
   "id": "aaeb6516-1c8a-4a75-b300-146a0324c252",
   "metadata": {},
   "outputs": [],
   "source": [
    "bpa = pi*200**2"
   ]
  },
  {
   "cell_type": "code",
   "execution_count": 40,
   "id": "aafeb2a5-2596-4a61-a4df-3f946bf16385",
   "metadata": {},
   "outputs": [
    {
     "data": {
      "text/plain": [
       "125663.70614359173"
      ]
     },
     "execution_count": 40,
     "metadata": {},
     "output_type": "execute_result"
    }
   ],
   "source": [
    "bpa"
   ]
  },
  {
   "cell_type": "code",
   "execution_count": 41,
   "id": "ffca1e53-3b89-4158-8e03-60bde673e44d",
   "metadata": {},
   "outputs": [
    {
     "data": {
      "text/plain": [
       "2    201.766522\n",
       "dtype: float64"
      ]
     },
     "execution_count": 41,
     "metadata": {},
     "output_type": "execute_result"
    }
   ],
   "source": [
    "bpa-buffered_park.area"
   ]
  },
  {
   "cell_type": "code",
   "execution_count": 42,
   "id": "6139ef4b-6f01-472b-8699-ca33d4580e08",
   "metadata": {
    "tags": []
   },
   "outputs": [
    {
     "data": {
      "text/plain": [
       "<Projected CRS: EPSG:2243>\n",
       "Name: NAD83 / Idaho West (ftUS)\n",
       "Axis Info [cartesian]:\n",
       "- X[east]: Easting (US survey foot)\n",
       "- Y[north]: Northing (US survey foot)\n",
       "Area of Use:\n",
       "- name: United States (USA) - Idaho - counties of Ada; Adams; Benewah; Boise; Bonner; Boundary; Canyon; Clearwater; Elmore; Gem; Idaho; Kootenai; Latah; Lewis; Nez Perce; Owyhee; Payette; Shoshone; Valley; Washington.\n",
       "- bounds: (-117.24, 41.99, -114.32, 49.01)\n",
       "Coordinate Operation:\n",
       "- name: SPCS83 Idaho West zone (US Survey feet)\n",
       "- method: Transverse Mercator\n",
       "Datum: North American Datum 1983\n",
       "- Ellipsoid: GRS 1980\n",
       "- Prime Meridian: Greenwich"
      ]
     },
     "execution_count": 42,
     "metadata": {},
     "output_type": "execute_result"
    }
   ],
   "source": [
    "parcels.crs"
   ]
  },
  {
   "cell_type": "markdown",
   "id": "ae015bc0-d803-400d-9dc0-75ac5b536895",
   "metadata": {},
   "source": [
    "According to the CRS, the units are feet and shapely derives units from the data it is used on. However, the expected area is smaller by almost 202 sqft. . ."
   ]
  },
  {
   "cell_type": "code",
   "execution_count": 43,
   "id": "11e22385-3514-419b-a239-95dd21f13d8c",
   "metadata": {},
   "outputs": [
    {
     "data": {
      "text/plain": [
       "3.141592653589793"
      ]
     },
     "execution_count": 43,
     "metadata": {},
     "output_type": "execute_result"
    }
   ],
   "source": [
    "pi"
   ]
  },
  {
   "cell_type": "code",
   "execution_count": 44,
   "id": "bd878696-a3d0-406b-af3c-57c6472e1775",
   "metadata": {},
   "outputs": [
    {
     "data": {
      "text/plain": [
       "2    3.136548\n",
       "dtype: float64"
      ]
     },
     "execution_count": 44,
     "metadata": {},
     "output_type": "execute_result"
    }
   ],
   "source": [
    "buffered_park.area/200**2"
   ]
  },
  {
   "cell_type": "markdown",
   "id": "33bc2dac-f556-4ebf-abac-b7e32e5aa8b6",
   "metadata": {},
   "source": [
    ". . .because of the precision of pi in gpd!"
   ]
  },
  {
   "cell_type": "markdown",
   "id": "f7205e5e-a333-49db-9006-2471cf7b791b",
   "metadata": {},
   "source": [
    "<div class=\"alert alert-block alert-warning\">\n",
    "\n",
    "## 2. Identifying Moscow residents underserved by city parks.\n",
    "You're an urban planner consulting with the City of Moscow.  The city is interested in increasing the number of parks\n",
    "    within the city, and better designing those parks to meet the needs of those who are currently underserved\n",
    "    by the city's existing parks.  The city wants to begin the planning process by reaching out to these currently\n",
    "    underserved residents, but first the city needs to know who they are.\n",
    "    \n",
    "The city asks you to produce a list of all resident addresses within the city limits whose property is at least 1000 feet\n",
    "    from a current park.\n",
    "    \n",
    "To properly address the letters and questionaires that the city will be sending out, the city would like this list\n",
    "    of residents as a csv file, with each property address on a separate line (property addresses are represented within\n",
    "    the parcels database by the field name \"PM_PROP_AD\").  Produce this file and a map of the underserved parcels.\n",
    "    \n",
    "\n",
    "\n",
    "</div>"
   ]
  },
  {
   "cell_type": "code",
   "execution_count": 45,
   "id": "2bd8a2e0-0e2b-44e5-b524-cbd22fa91d7e",
   "metadata": {},
   "outputs": [],
   "source": [
    "from geopandas.tools import sjoin # have this ready just in case"
   ]
  },
  {
   "cell_type": "code",
   "execution_count": 46,
   "id": "339fd1b5-7a8e-499f-b37c-79ee5460f02c",
   "metadata": {
    "tags": []
   },
   "outputs": [],
   "source": [
    "zoning.set_index('LANDUSECODE', inplace=True)"
   ]
  },
  {
   "cell_type": "code",
   "execution_count": 47,
   "id": "59026eb2-1252-4e7b-936a-5672f66c59d4",
   "metadata": {
    "collapsed": true,
    "jupyter": {
     "outputs_hidden": true
    },
    "tags": []
   },
   "outputs": [
    {
     "data": {
      "text/html": [
       "<div>\n",
       "<style scoped>\n",
       "    .dataframe tbody tr th:only-of-type {\n",
       "        vertical-align: middle;\n",
       "    }\n",
       "\n",
       "    .dataframe tbody tr th {\n",
       "        vertical-align: top;\n",
       "    }\n",
       "\n",
       "    .dataframe thead th {\n",
       "        text-align: right;\n",
       "    }\n",
       "</style>\n",
       "<table border=\"1\" class=\"dataframe\">\n",
       "  <thead>\n",
       "    <tr style=\"text-align: right;\">\n",
       "      <th></th>\n",
       "      <th>LANDUSEDESC</th>\n",
       "      <th>BASEELEV</th>\n",
       "      <th>HEIGHT</th>\n",
       "      <th>LASTUPDATE</th>\n",
       "      <th>LASTEDITOR</th>\n",
       "      <th>SUBTYPECODE</th>\n",
       "      <th>SUBTYPEDESC</th>\n",
       "      <th>PARCELID</th>\n",
       "      <th>ADDRESS</th>\n",
       "      <th>LOCDESC</th>\n",
       "      <th>GlobalID</th>\n",
       "      <th>SHAPE_Length</th>\n",
       "      <th>SHAPE_Area</th>\n",
       "      <th>geometry</th>\n",
       "    </tr>\n",
       "    <tr>\n",
       "      <th>LANDUSECODE</th>\n",
       "      <th></th>\n",
       "      <th></th>\n",
       "      <th></th>\n",
       "      <th></th>\n",
       "      <th></th>\n",
       "      <th></th>\n",
       "      <th></th>\n",
       "      <th></th>\n",
       "      <th></th>\n",
       "      <th></th>\n",
       "      <th></th>\n",
       "      <th></th>\n",
       "      <th></th>\n",
       "      <th></th>\n",
       "    </tr>\n",
       "  </thead>\n",
       "  <tbody>\n",
       "    <tr>\n",
       "      <th>111</th>\n",
       "      <td>Auto-Urban Residential</td>\n",
       "      <td>None</td>\n",
       "      <td>None</td>\n",
       "      <td>2017-01-01T00:00:00+00:00</td>\n",
       "      <td>None</td>\n",
       "      <td>None</td>\n",
       "      <td>Single Family Residential</td>\n",
       "      <td>RPM11000010040</td>\n",
       "      <td>856 N Garfield St</td>\n",
       "      <td></td>\n",
       "      <td>{D1CDFE80-F20E-4A7F-A6FE-61F956BA3ABF}</td>\n",
       "      <td>1259.873360</td>\n",
       "      <td>72225.370599</td>\n",
       "      <td>MULTIPOLYGON Z (((2314900.119 1852432.172 0.00...</td>\n",
       "    </tr>\n",
       "    <tr>\n",
       "      <th>750</th>\n",
       "      <td>University</td>\n",
       "      <td>None</td>\n",
       "      <td>None</td>\n",
       "      <td>2017-01-01T00:00:00+00:00</td>\n",
       "      <td>None</td>\n",
       "      <td>None</td>\n",
       "      <td>Public Parking</td>\n",
       "      <td>RPM1110002001A</td>\n",
       "      <td>725 W Sixth St LOT 15</td>\n",
       "      <td></td>\n",
       "      <td>{037ACFD7-39A7-4F64-85F1-4CD9B4B556E0}</td>\n",
       "      <td>495.250762</td>\n",
       "      <td>14883.271878</td>\n",
       "      <td>MULTIPOLYGON Z (((2308808.447 1848161.226 0.00...</td>\n",
       "    </tr>\n",
       "    <tr>\n",
       "      <th>750</th>\n",
       "      <td>University</td>\n",
       "      <td>None</td>\n",
       "      <td>None</td>\n",
       "      <td>2017-01-01T00:00:00+00:00</td>\n",
       "      <td>None</td>\n",
       "      <td>None</td>\n",
       "      <td>Public Parking</td>\n",
       "      <td>RPM11100010050</td>\n",
       "      <td>618 Ash St LOT 16</td>\n",
       "      <td></td>\n",
       "      <td>{8EA5F61E-2673-4CFF-BB74-E88A6E7CD452}</td>\n",
       "      <td>320.000003</td>\n",
       "      <td>4800.000103</td>\n",
       "      <td>MULTIPOLYGON Z (((2308964.486 1847976.075 0.00...</td>\n",
       "    </tr>\n",
       "    <tr>\n",
       "      <th>750</th>\n",
       "      <td>University</td>\n",
       "      <td>None</td>\n",
       "      <td>None</td>\n",
       "      <td>2017-01-01T00:00:00+00:00</td>\n",
       "      <td>None</td>\n",
       "      <td>None</td>\n",
       "      <td>Public Parking</td>\n",
       "      <td>RPM1110001006A</td>\n",
       "      <td>622 Ash St LOT 16</td>\n",
       "      <td></td>\n",
       "      <td>{4847C34D-9D8D-4131-95EE-3B094B4A77DB}</td>\n",
       "      <td>440.000004</td>\n",
       "      <td>12000.000546</td>\n",
       "      <td>MULTIPOLYGON Z (((2308962.799 1847876.089 0.00...</td>\n",
       "    </tr>\n",
       "    <tr>\n",
       "      <th>750</th>\n",
       "      <td>University</td>\n",
       "      <td>None</td>\n",
       "      <td>None</td>\n",
       "      <td>2017-01-01T00:00:00+00:00</td>\n",
       "      <td>None</td>\n",
       "      <td>None</td>\n",
       "      <td>Public Parking</td>\n",
       "      <td>RPM1110001009A</td>\n",
       "      <td>630 Ash St LOT 16</td>\n",
       "      <td></td>\n",
       "      <td>{83339838-B907-4C77-B2D1-20BE22846523}</td>\n",
       "      <td>346.905350</td>\n",
       "      <td>6397.201123</td>\n",
       "      <td>MULTIPOLYGON Z (((2308842.478 1847858.117 0.00...</td>\n",
       "    </tr>\n",
       "  </tbody>\n",
       "</table>\n",
       "</div>"
      ],
      "text/plain": [
       "                        LANDUSEDESC BASEELEV HEIGHT  \\\n",
       "LANDUSECODE                                           \n",
       "111          Auto-Urban Residential     None   None   \n",
       "750                      University     None   None   \n",
       "750                      University     None   None   \n",
       "750                      University     None   None   \n",
       "750                      University     None   None   \n",
       "\n",
       "                            LASTUPDATE LASTEDITOR SUBTYPECODE  \\\n",
       "LANDUSECODE                                                     \n",
       "111          2017-01-01T00:00:00+00:00       None        None   \n",
       "750          2017-01-01T00:00:00+00:00       None        None   \n",
       "750          2017-01-01T00:00:00+00:00       None        None   \n",
       "750          2017-01-01T00:00:00+00:00       None        None   \n",
       "750          2017-01-01T00:00:00+00:00       None        None   \n",
       "\n",
       "                           SUBTYPEDESC        PARCELID                ADDRESS  \\\n",
       "LANDUSECODE                                                                     \n",
       "111          Single Family Residential  RPM11000010040      856 N Garfield St   \n",
       "750                     Public Parking  RPM1110002001A  725 W Sixth St LOT 15   \n",
       "750                     Public Parking  RPM11100010050      618 Ash St LOT 16   \n",
       "750                     Public Parking  RPM1110001006A      622 Ash St LOT 16   \n",
       "750                     Public Parking  RPM1110001009A      630 Ash St LOT 16   \n",
       "\n",
       "            LOCDESC                                GlobalID  SHAPE_Length  \\\n",
       "LANDUSECODE                                                                 \n",
       "111                  {D1CDFE80-F20E-4A7F-A6FE-61F956BA3ABF}   1259.873360   \n",
       "750                  {037ACFD7-39A7-4F64-85F1-4CD9B4B556E0}    495.250762   \n",
       "750                  {8EA5F61E-2673-4CFF-BB74-E88A6E7CD452}    320.000003   \n",
       "750                  {4847C34D-9D8D-4131-95EE-3B094B4A77DB}    440.000004   \n",
       "750                  {83339838-B907-4C77-B2D1-20BE22846523}    346.905350   \n",
       "\n",
       "               SHAPE_Area                                           geometry  \n",
       "LANDUSECODE                                                                   \n",
       "111          72225.370599  MULTIPOLYGON Z (((2314900.119 1852432.172 0.00...  \n",
       "750          14883.271878  MULTIPOLYGON Z (((2308808.447 1848161.226 0.00...  \n",
       "750           4800.000103  MULTIPOLYGON Z (((2308964.486 1847976.075 0.00...  \n",
       "750          12000.000546  MULTIPOLYGON Z (((2308962.799 1847876.089 0.00...  \n",
       "750           6397.201123  MULTIPOLYGON Z (((2308842.478 1847858.117 0.00...  "
      ]
     },
     "execution_count": 47,
     "metadata": {},
     "output_type": "execute_result"
    }
   ],
   "source": [
    "zoning.head()"
   ]
  },
  {
   "cell_type": "code",
   "execution_count": 48,
   "id": "4be93b0e-9352-4064-a78f-d616de2a4dca",
   "metadata": {
    "tags": []
   },
   "outputs": [],
   "source": [
    "ResidentZones=zoning.loc[['109','110','111','115','120']]"
   ]
  },
  {
   "cell_type": "code",
   "execution_count": 49,
   "id": "8b6efd66-5e5c-45b3-883c-d1f3b43d6095",
   "metadata": {},
   "outputs": [
    {
     "data": {
      "text/plain": [
       "geopandas.geodataframe.GeoDataFrame"
      ]
     },
     "execution_count": 49,
     "metadata": {},
     "output_type": "execute_result"
    }
   ],
   "source": [
    "type(ResidentZones)"
   ]
  },
  {
   "cell_type": "code",
   "execution_count": 50,
   "id": "3d9b3afc-e2f5-492d-8588-212481e1149a",
   "metadata": {
    "collapsed": true,
    "jupyter": {
     "outputs_hidden": true
    },
    "tags": []
   },
   "outputs": [
    {
     "data": {
      "text/html": [
       "<div>\n",
       "<style scoped>\n",
       "    .dataframe tbody tr th:only-of-type {\n",
       "        vertical-align: middle;\n",
       "    }\n",
       "\n",
       "    .dataframe tbody tr th {\n",
       "        vertical-align: top;\n",
       "    }\n",
       "\n",
       "    .dataframe thead th {\n",
       "        text-align: right;\n",
       "    }\n",
       "</style>\n",
       "<table border=\"1\" class=\"dataframe\">\n",
       "  <thead>\n",
       "    <tr style=\"text-align: right;\">\n",
       "      <th></th>\n",
       "      <th>LANDUSEDESC</th>\n",
       "      <th>BASEELEV</th>\n",
       "      <th>HEIGHT</th>\n",
       "      <th>LASTUPDATE</th>\n",
       "      <th>LASTEDITOR</th>\n",
       "      <th>SUBTYPECODE</th>\n",
       "      <th>SUBTYPEDESC</th>\n",
       "      <th>PARCELID</th>\n",
       "      <th>ADDRESS</th>\n",
       "      <th>LOCDESC</th>\n",
       "      <th>GlobalID</th>\n",
       "      <th>SHAPE_Length</th>\n",
       "      <th>SHAPE_Area</th>\n",
       "      <th>geometry</th>\n",
       "    </tr>\n",
       "    <tr>\n",
       "      <th>LANDUSECODE</th>\n",
       "      <th></th>\n",
       "      <th></th>\n",
       "      <th></th>\n",
       "      <th></th>\n",
       "      <th></th>\n",
       "      <th></th>\n",
       "      <th></th>\n",
       "      <th></th>\n",
       "      <th></th>\n",
       "      <th></th>\n",
       "      <th></th>\n",
       "      <th></th>\n",
       "      <th></th>\n",
       "      <th></th>\n",
       "    </tr>\n",
       "  </thead>\n",
       "  <tbody>\n",
       "    <tr>\n",
       "      <th>109</th>\n",
       "      <td>Auto-Urban Residential, Medium Density</td>\n",
       "      <td>None</td>\n",
       "      <td>None</td>\n",
       "      <td>2017-01-01T00:00:00+00:00</td>\n",
       "      <td>None</td>\n",
       "      <td>None</td>\n",
       "      <td>Single Family Residential</td>\n",
       "      <td>RPM12100350010</td>\n",
       "      <td>805 Kenneth St</td>\n",
       "      <td></td>\n",
       "      <td>{AA6B3D19-67C4-4247-BB76-B23BE8E99AF5}</td>\n",
       "      <td>438.000005</td>\n",
       "      <td>11880.000296</td>\n",
       "      <td>MULTIPOLYGON Z (((2313592.600 1845924.555 0.00...</td>\n",
       "    </tr>\n",
       "    <tr>\n",
       "      <th>109</th>\n",
       "      <td>Auto-Urban Residential, Medium Density</td>\n",
       "      <td>None</td>\n",
       "      <td>None</td>\n",
       "      <td>2017-01-01T00:00:00+00:00</td>\n",
       "      <td>None</td>\n",
       "      <td>None</td>\n",
       "      <td>Single Family Residential</td>\n",
       "      <td>RPM12100340010</td>\n",
       "      <td>813 Kenneth St</td>\n",
       "      <td></td>\n",
       "      <td>{7A920C4D-9603-449C-92A6-3DF90B4A06BE}</td>\n",
       "      <td>672.000044</td>\n",
       "      <td>23463.004853</td>\n",
       "      <td>MULTIPOLYGON Z (((2313690.180 1845806.368 0.00...</td>\n",
       "    </tr>\n",
       "    <tr>\n",
       "      <th>109</th>\n",
       "      <td>Auto-Urban Residential, Medium Density</td>\n",
       "      <td>None</td>\n",
       "      <td>None</td>\n",
       "      <td>2017-01-01T00:00:00+00:00</td>\n",
       "      <td>None</td>\n",
       "      <td>None</td>\n",
       "      <td>Single Family Residential</td>\n",
       "      <td>RPM1210035002A</td>\n",
       "      <td>1214 Lynn Ave</td>\n",
       "      <td></td>\n",
       "      <td>{CDA1949C-D66D-4857-BBAE-6C0EFEF1B173}</td>\n",
       "      <td>860.077664</td>\n",
       "      <td>28633.004533</td>\n",
       "      <td>MULTIPOLYGON Z (((2313588.772 1845607.578 0.00...</td>\n",
       "    </tr>\n",
       "    <tr>\n",
       "      <th>109</th>\n",
       "      <td>Auto-Urban Residential, Medium Density</td>\n",
       "      <td>None</td>\n",
       "      <td>None</td>\n",
       "      <td>2017-01-01T00:00:00+00:00</td>\n",
       "      <td>None</td>\n",
       "      <td>None</td>\n",
       "      <td>Single Family Residential</td>\n",
       "      <td>RPM12100340020</td>\n",
       "      <td>808 White Ave</td>\n",
       "      <td></td>\n",
       "      <td>{69D86FFC-7E45-4D8F-884B-853ED31E6BA3}</td>\n",
       "      <td>597.999992</td>\n",
       "      <td>19799.999927</td>\n",
       "      <td>MULTIPOLYGON Z (((2313588.772 1845607.578 0.00...</td>\n",
       "    </tr>\n",
       "    <tr>\n",
       "      <th>109</th>\n",
       "      <td>Auto-Urban Residential, Medium Density</td>\n",
       "      <td>None</td>\n",
       "      <td>None</td>\n",
       "      <td>2017-01-01T00:00:00+00:00</td>\n",
       "      <td>None</td>\n",
       "      <td>None</td>\n",
       "      <td>Single Family Residential</td>\n",
       "      <td>RPM12500000120</td>\n",
       "      <td>835 Kenneth St</td>\n",
       "      <td></td>\n",
       "      <td>{6B409E36-5D20-4B1E-9E2D-9077D6996007}</td>\n",
       "      <td>462.141555</td>\n",
       "      <td>12822.639461</td>\n",
       "      <td>MULTIPOLYGON Z (((2313889.456 1845910.890 0.00...</td>\n",
       "    </tr>\n",
       "  </tbody>\n",
       "</table>\n",
       "</div>"
      ],
      "text/plain": [
       "                                        LANDUSEDESC BASEELEV HEIGHT  \\\n",
       "LANDUSECODE                                                           \n",
       "109          Auto-Urban Residential, Medium Density     None   None   \n",
       "109          Auto-Urban Residential, Medium Density     None   None   \n",
       "109          Auto-Urban Residential, Medium Density     None   None   \n",
       "109          Auto-Urban Residential, Medium Density     None   None   \n",
       "109          Auto-Urban Residential, Medium Density     None   None   \n",
       "\n",
       "                            LASTUPDATE LASTEDITOR SUBTYPECODE  \\\n",
       "LANDUSECODE                                                     \n",
       "109          2017-01-01T00:00:00+00:00       None        None   \n",
       "109          2017-01-01T00:00:00+00:00       None        None   \n",
       "109          2017-01-01T00:00:00+00:00       None        None   \n",
       "109          2017-01-01T00:00:00+00:00       None        None   \n",
       "109          2017-01-01T00:00:00+00:00       None        None   \n",
       "\n",
       "                           SUBTYPEDESC        PARCELID         ADDRESS  \\\n",
       "LANDUSECODE                                                              \n",
       "109          Single Family Residential  RPM12100350010  805 Kenneth St   \n",
       "109          Single Family Residential  RPM12100340010  813 Kenneth St   \n",
       "109          Single Family Residential  RPM1210035002A   1214 Lynn Ave   \n",
       "109          Single Family Residential  RPM12100340020   808 White Ave   \n",
       "109          Single Family Residential  RPM12500000120  835 Kenneth St   \n",
       "\n",
       "            LOCDESC                                GlobalID  SHAPE_Length  \\\n",
       "LANDUSECODE                                                                 \n",
       "109                  {AA6B3D19-67C4-4247-BB76-B23BE8E99AF5}    438.000005   \n",
       "109                  {7A920C4D-9603-449C-92A6-3DF90B4A06BE}    672.000044   \n",
       "109                  {CDA1949C-D66D-4857-BBAE-6C0EFEF1B173}    860.077664   \n",
       "109                  {69D86FFC-7E45-4D8F-884B-853ED31E6BA3}    597.999992   \n",
       "109                  {6B409E36-5D20-4B1E-9E2D-9077D6996007}    462.141555   \n",
       "\n",
       "               SHAPE_Area                                           geometry  \n",
       "LANDUSECODE                                                                   \n",
       "109          11880.000296  MULTIPOLYGON Z (((2313592.600 1845924.555 0.00...  \n",
       "109          23463.004853  MULTIPOLYGON Z (((2313690.180 1845806.368 0.00...  \n",
       "109          28633.004533  MULTIPOLYGON Z (((2313588.772 1845607.578 0.00...  \n",
       "109          19799.999927  MULTIPOLYGON Z (((2313588.772 1845607.578 0.00...  \n",
       "109          12822.639461  MULTIPOLYGON Z (((2313889.456 1845910.890 0.00...  "
      ]
     },
     "execution_count": 50,
     "metadata": {},
     "output_type": "execute_result"
    }
   ],
   "source": [
    "ResidentZones.head()"
   ]
  },
  {
   "cell_type": "code",
   "execution_count": null,
   "id": "78211a64-0164-4056-aaec-86cc8a4c1abf",
   "metadata": {},
   "outputs": [],
   "source": []
  },
  {
   "cell_type": "code",
   "execution_count": null,
   "id": "4d36cab2-85db-43a5-acba-5f3767df37d5",
   "metadata": {},
   "outputs": [],
   "source": []
  },
  {
   "cell_type": "code",
   "execution_count": null,
   "id": "2b62216e-f518-4c05-9dc5-63d8bc44db60",
   "metadata": {
    "tags": []
   },
   "outputs": [],
   "source": []
  },
  {
   "cell_type": "code",
   "execution_count": null,
   "id": "d22f77ae-1147-42e2-a0a5-d259cd611e1a",
   "metadata": {},
   "outputs": [],
   "source": []
  },
  {
   "cell_type": "code",
   "execution_count": null,
   "id": "599572b8-4176-41b8-894a-b9d777553914",
   "metadata": {},
   "outputs": [],
   "source": []
  },
  {
   "cell_type": "code",
   "execution_count": 51,
   "id": "5dfbb270-4722-481d-9966-4c9724a725dc",
   "metadata": {},
   "outputs": [
    {
     "data": {
      "text/plain": [
       "(1837691.7277759165, 1858582.946164012)"
      ]
     },
     "execution_count": 51,
     "metadata": {},
     "output_type": "execute_result"
    },
    {
     "data": {
      "image/png": "[encoded data removed]",
      "text/plain": [
       "<Figure size 432x288 with 1 Axes>"
      ]
     },
     "metadata": {
      "needs_background": "light"
     },
     "output_type": "display_data"
    }
   ],
   "source": [
    "# %matplotlib widget #\n",
    "# Map preview of all relevant data; needs refining\n",
    "\n",
    "BufferRadius = 1000 \n",
    "\n",
    "fig, ax = plt.subplots()\n",
    "parks.buffer(BufferRadius).plot(ax=ax, color='g', alpha = 1)\n",
    "#city_limits.plot(ax=ax, color=None, edgecolor='r') # color=None defaults to fill solid blue\n",
    "city_limits.plot(ax=ax, facecolor='none', edgecolor='r', lw=1.5) \n",
    "ResidentZones.plot(ax=ax, facecolor='blue', edgecolor='gray', alpha = 0.5, lw=0.5)\n",
    "#roads.plot(ax=ax)\n",
    "\n",
    "ax.set_xlim( city_limits.bounds.to_numpy()[0][::2] )\n",
    "ax.set_ylim( city_limits.bounds.to_numpy()[0][1::2] )"
   ]
  },
  {
   "cell_type": "markdown",
   "id": "b1ebccaf-f1af-4df5-b3d4-e58e0a46eab3",
   "metadata": {},
   "source": [
    "**Approach 1:** Now just get those light blue areas within city limits! \n",
    "  \n",
    "    * intersection of parcels and ResidentZones as ResidentNames\n",
    "    * clip of ResidentNames and city_limits as CityResidents\n",
    "    * clip of CityResidents and parks.buffer() as CityParks --misleading name, I know\n",
    "    * difference overlay CityResidents and CityParks\n",
    "\n",
    "Plot a tidy map and write a tidy mailing list .csv"
   ]
  },
  {
   "cell_type": "code",
   "execution_count": 56,
   "id": "14f0dd95-2487-4ca4-ad84-b581fc8f912c",
   "metadata": {},
   "outputs": [
    {
     "name": "stderr",
     "output_type": "stream",
     "text": [
      "C:\\Users\\q\\AppData\\Local\\Temp/ipykernel_5624/2373259037.py:2: UserWarning: `keep_geom_type=True` in overlay resulted in 2 dropped geometries of different geometry types than df1 has. Set `keep_geom_type=False` to retain all geometries\n",
      "  ResidentNames = gpd.overlay(parcels, ResidentZones, how='intersection')\n"
     ]
    }
   ],
   "source": [
    "#BufferRadius = 1000\n",
    "ResidentNames = gpd.overlay(parcels, ResidentZones, how='intersection')"
   ]
  },
  {
   "cell_type": "code",
   "execution_count": 57,
   "id": "9eae1da3-c31f-4515-afa2-ebd3ba61355b",
   "metadata": {},
   "outputs": [],
   "source": [
    "CityResidents = gpd.clip(ResidentNames, city_limits)"
   ]
  },
  {
   "cell_type": "code",
   "execution_count": 67,
   "id": "abb6e173-22a7-4b2d-a5f7-f6f538c25a01",
   "metadata": {
    "tags": []
   },
   "outputs": [],
   "source": [
    "ParkProximity = parks.buffer(BufferRadius)"
   ]
  },
  {
   "cell_type": "code",
   "execution_count": 77,
   "id": "2b5d2117-359c-4d23-a0af-3a83849bdc29",
   "metadata": {},
   "outputs": [],
   "source": [
    "CityParks = gpd.clip(CityResidents, parks.buffer(BufferRadius))"
   ]
  },
  {
   "cell_type": "code",
   "execution_count": 65,
   "id": "1295ad0c-f4be-4efa-be0f-61f233e4a9df",
   "metadata": {
    "tags": []
   },
   "outputs": [],
   "source": [
    "### old attempt ### CityParks = gpd.clip(parks, city_limits)"
   ]
  },
  {
   "cell_type": "code",
   "execution_count": 76,
   "id": "68a56bd0-419c-456c-be0e-eb97779d5fd1",
   "metadata": {
    "collapsed": true,
    "jupyter": {
     "outputs_hidden": true
    },
    "tags": []
   },
   "outputs": [
    {
     "data": {
      "text/plain": [
       "<AxesSubplot:>"
      ]
     },
     "execution_count": 76,
     "metadata": {},
     "output_type": "execute_result"
    },
    {
     "data": {
      "image/png": "[encoded data removed]",
      "text/plain": [
       "<Figure size 432x288 with 1 Axes>"
      ]
     },
     "metadata": {
      "needs_background": "light"
     },
     "output_type": "display_data"
    }
   ],
   "source": [
    "CityParks.plot()"
   ]
  },
  {
   "cell_type": "code",
   "execution_count": 74,
   "id": "88249440-1a6f-4cf2-8044-11e96b7ffa1d",
   "metadata": {
    "collapsed": true,
    "jupyter": {
     "outputs_hidden": true
    },
    "tags": []
   },
   "outputs": [
    {
     "data": {
      "text/plain": [
       "<AxesSubplot:>"
      ]
     },
     "execution_count": 74,
     "metadata": {},
     "output_type": "execute_result"
    },
    {
     "data": {
      "image/png": "[encoded data removed]",
      "text/plain": [
       "<Figure size 432x288 with 1 Axes>"
      ]
     },
     "metadata": {
      "needs_background": "light"
     },
     "output_type": "display_data"
    }
   ],
   "source": [
    "CityResidents.plot()"
   ]
  },
  {
   "cell_type": "code",
   "execution_count": 78,
   "id": "488f3d76-be68-4489-814c-00d81e6d2e41",
   "metadata": {},
   "outputs": [],
   "source": [
    "underserved = gpd.overlay(CityResidents, CityParks, how = 'difference')"
   ]
  },
  {
   "cell_type": "code",
   "execution_count": 79,
   "id": "0aa63b45-5e83-45ba-8ed7-f88993db1f85",
   "metadata": {},
   "outputs": [
    {
     "data": {
      "text/plain": [
       "<AxesSubplot:>"
      ]
     },
     "execution_count": 79,
     "metadata": {},
     "output_type": "execute_result"
    },
    {
     "data": {
      "image/png": "[encoded data removed]",
      "text/plain": [
       "<Figure size 432x288 with 1 Axes>"
      ]
     },
     "metadata": {
      "needs_background": "light"
     },
     "output_type": "display_data"
    }
   ],
   "source": [
    "underserved.plot() # yep"
   ]
  },
  {
   "cell_type": "code",
   "execution_count": 145,
   "id": "741edb6d-79bc-42c5-9cbd-04a23a21d8eb",
   "metadata": {
    "tags": []
   },
   "outputs": [
    {
     "data": {
      "application/vnd.jupyter.widget-view+json": {
       "model_id": "8a6582aa6f8a49bd8d65977f07bfa9fa",
       "version_major": 2,
       "version_minor": 0
      },
      "text/plain": [
       "Canvas(toolbar=Toolbar(toolitems=[('Home', 'Reset original view', 'home', 'home'), ('Back', 'Back to previous …"
      ]
     },
     "metadata": {},
     "output_type": "display_data"
    },
    {
     "data": {
      "text/plain": [
       "(1837691.7277759165, 1858582.946164012)"
      ]
     },
     "execution_count": 145,
     "metadata": {},
     "output_type": "execute_result"
    }
   ],
   "source": [
    "fig, ax = plt.subplots(figsize=(9,9))\n",
    "underserved.plot(ax=ax, color = 'blue', label = 'Underserved Residents')\n",
    "city_limits.plot(ax=ax, facecolor='none', edgecolor='red', lw=1.5, label = 'Moscow City Limits')\n",
    "CityParks.plot(ax=ax, color='g', label = '1000ft radius from City Parks', alpha = 0.35, )\n",
    "roads.plot(ax=ax, color= 'gray', alpha = 0.5, label = 'Roads')\n",
    "ax.set_title('Locations of Underserved Moscow Residents\\n (Blue) Within City Limits', fontsize = 'x-large', family = 'serif')\n",
    "#plt.legend(loc=\"upper left\") #legend needs more troubleshooting\n",
    "#plt.legend([underserved, CityParks, city_limits])\n",
    "#plt.legend([underserved, CityParks, city_limits],['Underserved Residents','1000 ft radius from City Parks', 'City Limits'])\n",
    "ax.set_xlim( city_limits.bounds.to_numpy()[0][::2] )\n",
    "ax.set_ylim( city_limits.bounds.to_numpy()[0][1::2] )"
   ]
  },
  {
   "cell_type": "code",
   "execution_count": 87,
   "id": "bb868b2f-040f-447e-bd1b-fb94919cda0d",
   "metadata": {},
   "outputs": [
    {
     "data": {
      "text/plain": [
       "Index(['LABEL', 'PM_PAR_14', 'PM_MAIL_NM', 'PM_MAIL_A1', 'PM_MAIL_A2',\n",
       "       'PM_MAIL_CT', 'PM_MAIL_ST', 'PM_MAIL_ZP', 'PM_PROP_AD', 'PM_DEEDCDT',\n",
       "       'PM_DEEDRF1', 'PM_DEEDRF2', 'PM_DEEDRF3', 'PM_DEEDRF4', 'PM_DEEDRF5',\n",
       "       'PM_TAX_AMT', 'PM_PV_AREA', 'PM_PV_NBHD', 'PM_PV_ACRE', 'PM_TOT_VAL',\n",
       "       'PM_IMP_VAL', 'PM_LND_VAL', 'PM_EX_VAL', 'PM_NET_VAL', 'PM_CATS',\n",
       "       'LG_LINE_1', 'LG_LINE_2', 'LG_LINE_3', 'LG_LINE_4', 'LG_LINE_5',\n",
       "       'LG_LINE_6', 'PM_PARC_CD', 'GlobalID_1', 'Shape_Length', 'Shape_Area',\n",
       "       'LANDUSEDESC', 'BASEELEV', 'HEIGHT', 'LASTUPDATE', 'LASTEDITOR',\n",
       "       'SUBTYPECODE', 'SUBTYPEDESC', 'PARCELID', 'ADDRESS', 'LOCDESC',\n",
       "       'GlobalID_2', 'SHAPE_Length', 'SHAPE_Area', 'geometry'],\n",
       "      dtype='object')"
      ]
     },
     "execution_count": 87,
     "metadata": {},
     "output_type": "execute_result"
    }
   ],
   "source": [
    "underserved.columns"
   ]
  },
  {
   "cell_type": "code",
   "execution_count": 91,
   "id": "ce3706ef-0901-41c8-865b-ab90dbf8f97e",
   "metadata": {
    "collapsed": true,
    "jupyter": {
     "outputs_hidden": true
    },
    "tags": []
   },
   "outputs": [
    {
     "data": {
      "text/html": [
       "<div>\n",
       "<style scoped>\n",
       "    .dataframe tbody tr th:only-of-type {\n",
       "        vertical-align: middle;\n",
       "    }\n",
       "\n",
       "    .dataframe tbody tr th {\n",
       "        vertical-align: top;\n",
       "    }\n",
       "\n",
       "    .dataframe thead th {\n",
       "        text-align: right;\n",
       "    }\n",
       "</style>\n",
       "<table border=\"1\" class=\"dataframe\">\n",
       "  <thead>\n",
       "    <tr style=\"text-align: right;\">\n",
       "      <th></th>\n",
       "      <th>LABEL</th>\n",
       "      <th>PM_PAR_14</th>\n",
       "      <th>PM_MAIL_NM</th>\n",
       "      <th>PM_MAIL_A1</th>\n",
       "      <th>PM_MAIL_A2</th>\n",
       "      <th>PM_MAIL_CT</th>\n",
       "      <th>PM_MAIL_ST</th>\n",
       "      <th>PM_MAIL_ZP</th>\n",
       "      <th>PM_PROP_AD</th>\n",
       "      <th>PM_DEEDCDT</th>\n",
       "      <th>...</th>\n",
       "      <th>LASTEDITOR</th>\n",
       "      <th>SUBTYPECODE</th>\n",
       "      <th>SUBTYPEDESC</th>\n",
       "      <th>PARCELID</th>\n",
       "      <th>ADDRESS</th>\n",
       "      <th>LOCDESC</th>\n",
       "      <th>GlobalID_2</th>\n",
       "      <th>SHAPE_Length</th>\n",
       "      <th>SHAPE_Area</th>\n",
       "      <th>geometry</th>\n",
       "    </tr>\n",
       "  </thead>\n",
       "  <tbody>\n",
       "    <tr>\n",
       "      <th>0</th>\n",
       "      <td>3725</td>\n",
       "      <td>RP39N05W203725</td>\n",
       "      <td>TATKINMAH LLC</td>\n",
       "      <td>709 E F ST</td>\n",
       "      <td></td>\n",
       "      <td>MOSCOW</td>\n",
       "      <td>ID</td>\n",
       "      <td>83843.0</td>\n",
       "      <td></td>\n",
       "      <td>20120925.0</td>\n",
       "      <td>...</td>\n",
       "      <td>None</td>\n",
       "      <td>None</td>\n",
       "      <td>Single Family Residential</td>\n",
       "      <td>RPM00000190010</td>\n",
       "      <td>2016 Main St</td>\n",
       "      <td></td>\n",
       "      <td>{A4FB52A4-E1CE-4235-9BEF-8EDF025F69D6}</td>\n",
       "      <td>317.708891</td>\n",
       "      <td>6257.095467</td>\n",
       "      <td>POLYGON Z ((2310762.450 1842514.509 0.000, 231...</td>\n",
       "    </tr>\n",
       "    <tr>\n",
       "      <th>1</th>\n",
       "      <td>3040</td>\n",
       "      <td>RPM00000203040</td>\n",
       "      <td>TATKINMAH LLC</td>\n",
       "      <td>709 E F STREET</td>\n",
       "      <td></td>\n",
       "      <td>MOSCOW</td>\n",
       "      <td>ID</td>\n",
       "      <td>83843.0</td>\n",
       "      <td></td>\n",
       "      <td>20120925.0</td>\n",
       "      <td>...</td>\n",
       "      <td>None</td>\n",
       "      <td>None</td>\n",
       "      <td>Single Family Residential</td>\n",
       "      <td>RPM00000190010</td>\n",
       "      <td>2016 Main St</td>\n",
       "      <td></td>\n",
       "      <td>{A4FB52A4-E1CE-4235-9BEF-8EDF025F69D6}</td>\n",
       "      <td>317.708891</td>\n",
       "      <td>6257.095467</td>\n",
       "      <td>POLYGON Z ((2310767.544 1842532.973 0.000, 231...</td>\n",
       "    </tr>\n",
       "    <tr>\n",
       "      <th>2</th>\n",
       "      <td>0010</td>\n",
       "      <td>RPM00000190010</td>\n",
       "      <td>TATKINMAH LLC</td>\n",
       "      <td>709 E F ST</td>\n",
       "      <td></td>\n",
       "      <td>MOSCOW</td>\n",
       "      <td>ID</td>\n",
       "      <td>83843.0</td>\n",
       "      <td>2016 S MAIN</td>\n",
       "      <td>20120925.0</td>\n",
       "      <td>...</td>\n",
       "      <td>None</td>\n",
       "      <td>None</td>\n",
       "      <td>Single Family Residential</td>\n",
       "      <td>RPM00000190010</td>\n",
       "      <td>2016 Main St</td>\n",
       "      <td></td>\n",
       "      <td>{A4FB52A4-E1CE-4235-9BEF-8EDF025F69D6}</td>\n",
       "      <td>317.708891</td>\n",
       "      <td>6257.095467</td>\n",
       "      <td>POLYGON Z ((2310762.839 1842532.869 0.000, 231...</td>\n",
       "    </tr>\n",
       "    <tr>\n",
       "      <th>23</th>\n",
       "      <td>0RRA</td>\n",
       "      <td>RPM03400010RRA</td>\n",
       "      <td>PAR HAWAII, LLC</td>\n",
       "      <td>825 TOWN AND COUNTRY LN</td>\n",
       "      <td>STE 1500</td>\n",
       "      <td>HOUSTON</td>\n",
       "      <td>TX</td>\n",
       "      <td>77024.0</td>\n",
       "      <td>340 N MAIN</td>\n",
       "      <td>20190815.0</td>\n",
       "      <td>...</td>\n",
       "      <td>None</td>\n",
       "      <td>None</td>\n",
       "      <td>Single Family Residential</td>\n",
       "      <td>RPM03400010RRB</td>\n",
       "      <td>111 E D St</td>\n",
       "      <td></td>\n",
       "      <td>{9EA5CB9E-4735-4CE5-AD7B-27B255587812}</td>\n",
       "      <td>287.879565</td>\n",
       "      <td>4518.246690</td>\n",
       "      <td>POLYGON Z ((2311056.308 1850903.063 0.000, 231...</td>\n",
       "    </tr>\n",
       "    <tr>\n",
       "      <th>24</th>\n",
       "      <td>014A</td>\n",
       "      <td>RPM0340001014A</td>\n",
       "      <td>RATHBUN, BARBRA E</td>\n",
       "      <td>329 N WASHINGTON ST</td>\n",
       "      <td></td>\n",
       "      <td>MOSCOW</td>\n",
       "      <td>ID</td>\n",
       "      <td>83843.0</td>\n",
       "      <td>329 N WASHINGTON</td>\n",
       "      <td>20000127.0</td>\n",
       "      <td>...</td>\n",
       "      <td>None</td>\n",
       "      <td>None</td>\n",
       "      <td>Single Family Residential</td>\n",
       "      <td>RPM03400010RRB</td>\n",
       "      <td>111 E D St</td>\n",
       "      <td></td>\n",
       "      <td>{9EA5CB9E-4735-4CE5-AD7B-27B255587812}</td>\n",
       "      <td>287.879565</td>\n",
       "      <td>4518.246690</td>\n",
       "      <td>POLYGON Z ((2311082.421 1850823.059 0.000, 231...</td>\n",
       "    </tr>\n",
       "    <tr>\n",
       "      <th>25</th>\n",
       "      <td>0RRB</td>\n",
       "      <td>RPM03400010RRB</td>\n",
       "      <td>PAR HAWAII, LLC</td>\n",
       "      <td>825 TOWN AND COUNTRY LN</td>\n",
       "      <td>STE 1500</td>\n",
       "      <td>HOUSTON</td>\n",
       "      <td>TX</td>\n",
       "      <td>77024.0</td>\n",
       "      <td>111 E D</td>\n",
       "      <td>20190815.0</td>\n",
       "      <td>...</td>\n",
       "      <td>None</td>\n",
       "      <td>None</td>\n",
       "      <td>Single Family Residential</td>\n",
       "      <td>RPM03400010RRB</td>\n",
       "      <td>111 E D St</td>\n",
       "      <td></td>\n",
       "      <td>{9EA5CB9E-4735-4CE5-AD7B-27B255587812}</td>\n",
       "      <td>287.879565</td>\n",
       "      <td>4518.246690</td>\n",
       "      <td>POLYGON Z ((2311096.734 1850837.846 0.000, 231...</td>\n",
       "    </tr>\n",
       "    <tr>\n",
       "      <th>32</th>\n",
       "      <td>015A</td>\n",
       "      <td>RPM0240004015A</td>\n",
       "      <td>CHURCH, CHRISTIAN SCIENCE</td>\n",
       "      <td>PO BOX 9726</td>\n",
       "      <td></td>\n",
       "      <td>MOSCOW</td>\n",
       "      <td>ID</td>\n",
       "      <td>83843.0</td>\n",
       "      <td>1573 E 3RD</td>\n",
       "      <td>20090420.0</td>\n",
       "      <td>...</td>\n",
       "      <td>None</td>\n",
       "      <td>None</td>\n",
       "      <td>Multi-Family Residential</td>\n",
       "      <td>RPM02400040100</td>\n",
       "      <td>1549 E Third St</td>\n",
       "      <td></td>\n",
       "      <td>{999A81A0-BDA5-4363-902F-84FBE62BAA6C}</td>\n",
       "      <td>499.486383</td>\n",
       "      <td>15509.141427</td>\n",
       "      <td>POLYGON Z ((2316146.889 1848991.434 0.000, 231...</td>\n",
       "    </tr>\n",
       "    <tr>\n",
       "      <th>35</th>\n",
       "      <td>0140</td>\n",
       "      <td>RPM02400040140</td>\n",
       "      <td>FREI, HERBERT A</td>\n",
       "      <td>1572 DOGWOOD CT</td>\n",
       "      <td></td>\n",
       "      <td>MOSCOW</td>\n",
       "      <td>ID</td>\n",
       "      <td>83843.0</td>\n",
       "      <td>1572 DOGWOOD</td>\n",
       "      <td>20080314.0</td>\n",
       "      <td>...</td>\n",
       "      <td>None</td>\n",
       "      <td>None</td>\n",
       "      <td>Multi-Family Residential</td>\n",
       "      <td>RPM02400040100</td>\n",
       "      <td>1549 E Third St</td>\n",
       "      <td></td>\n",
       "      <td>{999A81A0-BDA5-4363-902F-84FBE62BAA6C}</td>\n",
       "      <td>499.486383</td>\n",
       "      <td>15509.141427</td>\n",
       "      <td>POLYGON Z ((2316146.348 1848898.536 0.000, 231...</td>\n",
       "    </tr>\n",
       "    <tr>\n",
       "      <th>36</th>\n",
       "      <td>007B</td>\n",
       "      <td>RPM0340003007B</td>\n",
       "      <td>SISCHO, WILLIAM M</td>\n",
       "      <td>227 N JEFFERSON ST</td>\n",
       "      <td></td>\n",
       "      <td>MOSCOW</td>\n",
       "      <td>ID</td>\n",
       "      <td>83843.0</td>\n",
       "      <td>227 N JEFFERSON</td>\n",
       "      <td>20070618.0</td>\n",
       "      <td>...</td>\n",
       "      <td>None</td>\n",
       "      <td>None</td>\n",
       "      <td>Single Family Residential</td>\n",
       "      <td>RPM0340003010C</td>\n",
       "      <td>E C St</td>\n",
       "      <td></td>\n",
       "      <td>{0A50D3A4-942C-4058-A62C-42225A6CD437}</td>\n",
       "      <td>360.000024</td>\n",
       "      <td>7200.001582</td>\n",
       "      <td>POLYGON Z ((2311426.401 1850278.775 0.000, 231...</td>\n",
       "    </tr>\n",
       "    <tr>\n",
       "      <th>37</th>\n",
       "      <td>010C</td>\n",
       "      <td>RPM0340003010C</td>\n",
       "      <td>RICH, JOHN A</td>\n",
       "      <td>1118 PINECREST ROAD</td>\n",
       "      <td></td>\n",
       "      <td>MOSCOW</td>\n",
       "      <td>ID</td>\n",
       "      <td>83843.0</td>\n",
       "      <td></td>\n",
       "      <td>19830606.0</td>\n",
       "      <td>...</td>\n",
       "      <td>None</td>\n",
       "      <td>None</td>\n",
       "      <td>Single Family Residential</td>\n",
       "      <td>RPM0340003010C</td>\n",
       "      <td>E C St</td>\n",
       "      <td></td>\n",
       "      <td>{0A50D3A4-942C-4058-A62C-42225A6CD437}</td>\n",
       "      <td>360.000024</td>\n",
       "      <td>7200.001582</td>\n",
       "      <td>POLYGON Z ((2311475.976 1850290.268 0.000, 231...</td>\n",
       "    </tr>\n",
       "    <tr>\n",
       "      <th>38</th>\n",
       "      <td>007B</td>\n",
       "      <td>RPM0340003007B</td>\n",
       "      <td>SISCHO, WILLIAM M</td>\n",
       "      <td>227 N JEFFERSON ST</td>\n",
       "      <td></td>\n",
       "      <td>MOSCOW</td>\n",
       "      <td>ID</td>\n",
       "      <td>83843.0</td>\n",
       "      <td>227 N JEFFERSON</td>\n",
       "      <td>20070618.0</td>\n",
       "      <td>...</td>\n",
       "      <td>None</td>\n",
       "      <td>None</td>\n",
       "      <td>Single Family Residential</td>\n",
       "      <td>RPM0340003007B</td>\n",
       "      <td>227 N Jefferson St</td>\n",
       "      <td></td>\n",
       "      <td>{60334D59-DB2A-49CA-95FC-E778A226F4D5}</td>\n",
       "      <td>490.000040</td>\n",
       "      <td>15000.002439</td>\n",
       "      <td>POLYGON Z ((2311425.069 1850158.783 0.000, 231...</td>\n",
       "    </tr>\n",
       "    <tr>\n",
       "      <th>39</th>\n",
       "      <td>006B</td>\n",
       "      <td>RPM0340003006B</td>\n",
       "      <td>WEGARS, PRISCILLA S</td>\n",
       "      <td>735 E 6TH STREET</td>\n",
       "      <td></td>\n",
       "      <td>MOSCOW</td>\n",
       "      <td>ID</td>\n",
       "      <td>83843.0</td>\n",
       "      <td>222 N WASHINGTON</td>\n",
       "      <td>19950223.0</td>\n",
       "      <td>...</td>\n",
       "      <td>None</td>\n",
       "      <td>None</td>\n",
       "      <td>Single Family Residential</td>\n",
       "      <td>RPM0340003007B</td>\n",
       "      <td>227 N Jefferson St</td>\n",
       "      <td></td>\n",
       "      <td>{60334D59-DB2A-49CA-95FC-E778A226F4D5}</td>\n",
       "      <td>490.000040</td>\n",
       "      <td>15000.002439</td>\n",
       "      <td>POLYGON Z ((2311425.203 1850170.824 0.000, 231...</td>\n",
       "    </tr>\n",
       "    <tr>\n",
       "      <th>40</th>\n",
       "      <td>007B</td>\n",
       "      <td>RPM0340003007B</td>\n",
       "      <td>SISCHO, WILLIAM M</td>\n",
       "      <td>227 N JEFFERSON ST</td>\n",
       "      <td></td>\n",
       "      <td>MOSCOW</td>\n",
       "      <td>ID</td>\n",
       "      <td>83843.0</td>\n",
       "      <td>227 N JEFFERSON</td>\n",
       "      <td>20070618.0</td>\n",
       "      <td>...</td>\n",
       "      <td>None</td>\n",
       "      <td>None</td>\n",
       "      <td>Single Family Residential</td>\n",
       "      <td>RPM0340003006J</td>\n",
       "      <td>203 N Jefferson St</td>\n",
       "      <td></td>\n",
       "      <td>{54D51E89-034F-4BF9-9F3F-4B9A64BDC5CC}</td>\n",
       "      <td>729.999971</td>\n",
       "      <td>23700.000077</td>\n",
       "      <td>POLYGON Z ((2311538.823 1850102.280 0.000, 231...</td>\n",
       "    </tr>\n",
       "    <tr>\n",
       "      <th>41</th>\n",
       "      <td>006J</td>\n",
       "      <td>RPM0340003006J</td>\n",
       "      <td>VANDER PLOEG, JAMES</td>\n",
       "      <td>203 N JEFFERSON ST</td>\n",
       "      <td></td>\n",
       "      <td>MOSCOW</td>\n",
       "      <td>ID</td>\n",
       "      <td>83843.0</td>\n",
       "      <td>203 N JEFFERSON</td>\n",
       "      <td>20181004.0</td>\n",
       "      <td>...</td>\n",
       "      <td>None</td>\n",
       "      <td>None</td>\n",
       "      <td>Single Family Residential</td>\n",
       "      <td>RPM0340003006J</td>\n",
       "      <td>203 N Jefferson St</td>\n",
       "      <td></td>\n",
       "      <td>{54D51E89-034F-4BF9-9F3F-4B9A64BDC5CC}</td>\n",
       "      <td>729.999971</td>\n",
       "      <td>23700.000077</td>\n",
       "      <td>POLYGON Z ((2311536.841 1849929.570 0.000, 231...</td>\n",
       "    </tr>\n",
       "    <tr>\n",
       "      <th>42</th>\n",
       "      <td>006F</td>\n",
       "      <td>RPM0340003006F</td>\n",
       "      <td>LEW, ROGER T</td>\n",
       "      <td>216 E A ST</td>\n",
       "      <td></td>\n",
       "      <td>MOSCOW</td>\n",
       "      <td>ID</td>\n",
       "      <td>83843.0</td>\n",
       "      <td>216 E A</td>\n",
       "      <td>20100224.0</td>\n",
       "      <td>...</td>\n",
       "      <td>None</td>\n",
       "      <td>None</td>\n",
       "      <td>Single Family Residential</td>\n",
       "      <td>RPM0340003006J</td>\n",
       "      <td>203 N Jefferson St</td>\n",
       "      <td></td>\n",
       "      <td>{54D51E89-034F-4BF9-9F3F-4B9A64BDC5CC}</td>\n",
       "      <td>729.999971</td>\n",
       "      <td>23700.000077</td>\n",
       "      <td>POLYGON Z ((2311413.455 1850070.948 0.000, 231...</td>\n",
       "    </tr>\n",
       "    <tr>\n",
       "      <th>43</th>\n",
       "      <td>006H</td>\n",
       "      <td>RPM0340003006H</td>\n",
       "      <td>BARR-JORGENSEN, STEVEN W</td>\n",
       "      <td>204 E A ST APT 1</td>\n",
       "      <td></td>\n",
       "      <td>MOSCOW</td>\n",
       "      <td>ID</td>\n",
       "      <td>83843.0</td>\n",
       "      <td>204 E A</td>\n",
       "      <td>19900531.0</td>\n",
       "      <td>...</td>\n",
       "      <td>None</td>\n",
       "      <td>None</td>\n",
       "      <td>Single Family Residential</td>\n",
       "      <td>RPM0340003006J</td>\n",
       "      <td>203 N Jefferson St</td>\n",
       "      <td></td>\n",
       "      <td>{54D51E89-034F-4BF9-9F3F-4B9A64BDC5CC}</td>\n",
       "      <td>729.999971</td>\n",
       "      <td>23700.000077</td>\n",
       "      <td>POLYGON Z ((2311414.143 1850130.944 0.000, 231...</td>\n",
       "    </tr>\n",
       "    <tr>\n",
       "      <th>44</th>\n",
       "      <td>006B</td>\n",
       "      <td>RPM0340003006B</td>\n",
       "      <td>WEGARS, PRISCILLA S</td>\n",
       "      <td>735 E 6TH STREET</td>\n",
       "      <td></td>\n",
       "      <td>MOSCOW</td>\n",
       "      <td>ID</td>\n",
       "      <td>83843.0</td>\n",
       "      <td>222 N WASHINGTON</td>\n",
       "      <td>19950223.0</td>\n",
       "      <td>...</td>\n",
       "      <td>None</td>\n",
       "      <td>None</td>\n",
       "      <td>Single Family Residential</td>\n",
       "      <td>RPM0340003006J</td>\n",
       "      <td>203 N Jefferson St</td>\n",
       "      <td></td>\n",
       "      <td>{54D51E89-034F-4BF9-9F3F-4B9A64BDC5CC}</td>\n",
       "      <td>729.999971</td>\n",
       "      <td>23700.000077</td>\n",
       "      <td>POLYGON Z ((2311425.069 1850158.783 0.000, 231...</td>\n",
       "    </tr>\n",
       "    <tr>\n",
       "      <th>45</th>\n",
       "      <td>007B</td>\n",
       "      <td>RPM0340003007B</td>\n",
       "      <td>SISCHO, WILLIAM M</td>\n",
       "      <td>227 N JEFFERSON ST</td>\n",
       "      <td></td>\n",
       "      <td>MOSCOW</td>\n",
       "      <td>ID</td>\n",
       "      <td>83843.0</td>\n",
       "      <td>227 N JEFFERSON</td>\n",
       "      <td>20070618.0</td>\n",
       "      <td>...</td>\n",
       "      <td>None</td>\n",
       "      <td>None</td>\n",
       "      <td>Duplex-Townhome Residential</td>\n",
       "      <td>RPM0340003010B</td>\n",
       "      <td>229 E C St</td>\n",
       "      <td></td>\n",
       "      <td>{C71EDF4B-662E-48A5-BF95-05F76AED5664}</td>\n",
       "      <td>369.999978</td>\n",
       "      <td>7799.998834</td>\n",
       "      <td>POLYGON Z ((2311475.976 1850290.268 0.000, 231...</td>\n",
       "    </tr>\n",
       "    <tr>\n",
       "      <th>46</th>\n",
       "      <td>010B</td>\n",
       "      <td>RPM0340003010B</td>\n",
       "      <td>POTTER, DAVID OR/</td>\n",
       "      <td>1009 TOLO TRAIL</td>\n",
       "      <td></td>\n",
       "      <td>MOSCOW</td>\n",
       "      <td>ID</td>\n",
       "      <td>83843.0</td>\n",
       "      <td>229 E C</td>\n",
       "      <td>19911003.0</td>\n",
       "      <td>...</td>\n",
       "      <td>None</td>\n",
       "      <td>None</td>\n",
       "      <td>Duplex-Townhome Residential</td>\n",
       "      <td>RPM0340003010B</td>\n",
       "      <td>229 E C St</td>\n",
       "      <td></td>\n",
       "      <td>{C71EDF4B-662E-48A5-BF95-05F76AED5664}</td>\n",
       "      <td>369.999978</td>\n",
       "      <td>7799.998834</td>\n",
       "      <td>POLYGON Z ((2311540.972 1850289.546 0.000, 231...</td>\n",
       "    </tr>\n",
       "    <tr>\n",
       "      <th>47</th>\n",
       "      <td>010C</td>\n",
       "      <td>RPM0340003010C</td>\n",
       "      <td>RICH, JOHN A</td>\n",
       "      <td>1118 PINECREST ROAD</td>\n",
       "      <td></td>\n",
       "      <td>MOSCOW</td>\n",
       "      <td>ID</td>\n",
       "      <td>83843.0</td>\n",
       "      <td></td>\n",
       "      <td>19830606.0</td>\n",
       "      <td>...</td>\n",
       "      <td>None</td>\n",
       "      <td>None</td>\n",
       "      <td>Duplex-Townhome Residential</td>\n",
       "      <td>RPM0340003010B</td>\n",
       "      <td>229 E C St</td>\n",
       "      <td></td>\n",
       "      <td>{C71EDF4B-662E-48A5-BF95-05F76AED5664}</td>\n",
       "      <td>369.999978</td>\n",
       "      <td>7799.998834</td>\n",
       "      <td>POLYGON Z ((2311487.729 1850398.079 0.000, 231...</td>\n",
       "    </tr>\n",
       "  </tbody>\n",
       "</table>\n",
       "<p>20 rows × 49 columns</p>\n",
       "</div>"
      ],
      "text/plain": [
       "   LABEL       PM_PAR_14                 PM_MAIL_NM               PM_MAIL_A1  \\\n",
       "0   3725  RP39N05W203725              TATKINMAH LLC               709 E F ST   \n",
       "1   3040  RPM00000203040              TATKINMAH LLC           709 E F STREET   \n",
       "2   0010  RPM00000190010              TATKINMAH LLC               709 E F ST   \n",
       "23  0RRA  RPM03400010RRA            PAR HAWAII, LLC  825 TOWN AND COUNTRY LN   \n",
       "24  014A  RPM0340001014A          RATHBUN, BARBRA E      329 N WASHINGTON ST   \n",
       "25  0RRB  RPM03400010RRB            PAR HAWAII, LLC  825 TOWN AND COUNTRY LN   \n",
       "32  015A  RPM0240004015A  CHURCH, CHRISTIAN SCIENCE              PO BOX 9726   \n",
       "35  0140  RPM02400040140            FREI, HERBERT A          1572 DOGWOOD CT   \n",
       "36  007B  RPM0340003007B          SISCHO, WILLIAM M       227 N JEFFERSON ST   \n",
       "37  010C  RPM0340003010C               RICH, JOHN A      1118 PINECREST ROAD   \n",
       "38  007B  RPM0340003007B          SISCHO, WILLIAM M       227 N JEFFERSON ST   \n",
       "39  006B  RPM0340003006B        WEGARS, PRISCILLA S         735 E 6TH STREET   \n",
       "40  007B  RPM0340003007B          SISCHO, WILLIAM M       227 N JEFFERSON ST   \n",
       "41  006J  RPM0340003006J        VANDER PLOEG, JAMES       203 N JEFFERSON ST   \n",
       "42  006F  RPM0340003006F               LEW, ROGER T               216 E A ST   \n",
       "43  006H  RPM0340003006H   BARR-JORGENSEN, STEVEN W         204 E A ST APT 1   \n",
       "44  006B  RPM0340003006B        WEGARS, PRISCILLA S         735 E 6TH STREET   \n",
       "45  007B  RPM0340003007B          SISCHO, WILLIAM M       227 N JEFFERSON ST   \n",
       "46  010B  RPM0340003010B          POTTER, DAVID OR/          1009 TOLO TRAIL   \n",
       "47  010C  RPM0340003010C               RICH, JOHN A      1118 PINECREST ROAD   \n",
       "\n",
       "   PM_MAIL_A2 PM_MAIL_CT PM_MAIL_ST  PM_MAIL_ZP        PM_PROP_AD  PM_DEEDCDT  \\\n",
       "0                 MOSCOW         ID     83843.0                    20120925.0   \n",
       "1                 MOSCOW         ID     83843.0                    20120925.0   \n",
       "2                 MOSCOW         ID     83843.0       2016 S MAIN  20120925.0   \n",
       "23   STE 1500    HOUSTON         TX     77024.0        340 N MAIN  20190815.0   \n",
       "24                MOSCOW         ID     83843.0  329 N WASHINGTON  20000127.0   \n",
       "25   STE 1500    HOUSTON         TX     77024.0           111 E D  20190815.0   \n",
       "32                MOSCOW         ID     83843.0        1573 E 3RD  20090420.0   \n",
       "35                MOSCOW         ID     83843.0      1572 DOGWOOD  20080314.0   \n",
       "36                MOSCOW         ID     83843.0   227 N JEFFERSON  20070618.0   \n",
       "37                MOSCOW         ID     83843.0                    19830606.0   \n",
       "38                MOSCOW         ID     83843.0   227 N JEFFERSON  20070618.0   \n",
       "39                MOSCOW         ID     83843.0  222 N WASHINGTON  19950223.0   \n",
       "40                MOSCOW         ID     83843.0   227 N JEFFERSON  20070618.0   \n",
       "41                MOSCOW         ID     83843.0   203 N JEFFERSON  20181004.0   \n",
       "42                MOSCOW         ID     83843.0           216 E A  20100224.0   \n",
       "43                MOSCOW         ID     83843.0           204 E A  19900531.0   \n",
       "44                MOSCOW         ID     83843.0  222 N WASHINGTON  19950223.0   \n",
       "45                MOSCOW         ID     83843.0   227 N JEFFERSON  20070618.0   \n",
       "46                MOSCOW         ID     83843.0           229 E C  19911003.0   \n",
       "47                MOSCOW         ID     83843.0                    19830606.0   \n",
       "\n",
       "    ... LASTEDITOR SUBTYPECODE                  SUBTYPEDESC        PARCELID  \\\n",
       "0   ...       None        None    Single Family Residential  RPM00000190010   \n",
       "1   ...       None        None    Single Family Residential  RPM00000190010   \n",
       "2   ...       None        None    Single Family Residential  RPM00000190010   \n",
       "23  ...       None        None    Single Family Residential  RPM03400010RRB   \n",
       "24  ...       None        None    Single Family Residential  RPM03400010RRB   \n",
       "25  ...       None        None    Single Family Residential  RPM03400010RRB   \n",
       "32  ...       None        None     Multi-Family Residential  RPM02400040100   \n",
       "35  ...       None        None     Multi-Family Residential  RPM02400040100   \n",
       "36  ...       None        None    Single Family Residential  RPM0340003010C   \n",
       "37  ...       None        None    Single Family Residential  RPM0340003010C   \n",
       "38  ...       None        None    Single Family Residential  RPM0340003007B   \n",
       "39  ...       None        None    Single Family Residential  RPM0340003007B   \n",
       "40  ...       None        None    Single Family Residential  RPM0340003006J   \n",
       "41  ...       None        None    Single Family Residential  RPM0340003006J   \n",
       "42  ...       None        None    Single Family Residential  RPM0340003006J   \n",
       "43  ...       None        None    Single Family Residential  RPM0340003006J   \n",
       "44  ...       None        None    Single Family Residential  RPM0340003006J   \n",
       "45  ...       None        None  Duplex-Townhome Residential  RPM0340003010B   \n",
       "46  ...       None        None  Duplex-Townhome Residential  RPM0340003010B   \n",
       "47  ...       None        None  Duplex-Townhome Residential  RPM0340003010B   \n",
       "\n",
       "               ADDRESS  LOCDESC                              GlobalID_2  \\\n",
       "0         2016 Main St           {A4FB52A4-E1CE-4235-9BEF-8EDF025F69D6}   \n",
       "1         2016 Main St           {A4FB52A4-E1CE-4235-9BEF-8EDF025F69D6}   \n",
       "2         2016 Main St           {A4FB52A4-E1CE-4235-9BEF-8EDF025F69D6}   \n",
       "23          111 E D St           {9EA5CB9E-4735-4CE5-AD7B-27B255587812}   \n",
       "24          111 E D St           {9EA5CB9E-4735-4CE5-AD7B-27B255587812}   \n",
       "25          111 E D St           {9EA5CB9E-4735-4CE5-AD7B-27B255587812}   \n",
       "32     1549 E Third St           {999A81A0-BDA5-4363-902F-84FBE62BAA6C}   \n",
       "35     1549 E Third St           {999A81A0-BDA5-4363-902F-84FBE62BAA6C}   \n",
       "36              E C St           {0A50D3A4-942C-4058-A62C-42225A6CD437}   \n",
       "37              E C St           {0A50D3A4-942C-4058-A62C-42225A6CD437}   \n",
       "38  227 N Jefferson St           {60334D59-DB2A-49CA-95FC-E778A226F4D5}   \n",
       "39  227 N Jefferson St           {60334D59-DB2A-49CA-95FC-E778A226F4D5}   \n",
       "40  203 N Jefferson St           {54D51E89-034F-4BF9-9F3F-4B9A64BDC5CC}   \n",
       "41  203 N Jefferson St           {54D51E89-034F-4BF9-9F3F-4B9A64BDC5CC}   \n",
       "42  203 N Jefferson St           {54D51E89-034F-4BF9-9F3F-4B9A64BDC5CC}   \n",
       "43  203 N Jefferson St           {54D51E89-034F-4BF9-9F3F-4B9A64BDC5CC}   \n",
       "44  203 N Jefferson St           {54D51E89-034F-4BF9-9F3F-4B9A64BDC5CC}   \n",
       "45          229 E C St           {C71EDF4B-662E-48A5-BF95-05F76AED5664}   \n",
       "46          229 E C St           {C71EDF4B-662E-48A5-BF95-05F76AED5664}   \n",
       "47          229 E C St           {C71EDF4B-662E-48A5-BF95-05F76AED5664}   \n",
       "\n",
       "    SHAPE_Length    SHAPE_Area  \\\n",
       "0     317.708891   6257.095467   \n",
       "1     317.708891   6257.095467   \n",
       "2     317.708891   6257.095467   \n",
       "23    287.879565   4518.246690   \n",
       "24    287.879565   4518.246690   \n",
       "25    287.879565   4518.246690   \n",
       "32    499.486383  15509.141427   \n",
       "35    499.486383  15509.141427   \n",
       "36    360.000024   7200.001582   \n",
       "37    360.000024   7200.001582   \n",
       "38    490.000040  15000.002439   \n",
       "39    490.000040  15000.002439   \n",
       "40    729.999971  23700.000077   \n",
       "41    729.999971  23700.000077   \n",
       "42    729.999971  23700.000077   \n",
       "43    729.999971  23700.000077   \n",
       "44    729.999971  23700.000077   \n",
       "45    369.999978   7799.998834   \n",
       "46    369.999978   7799.998834   \n",
       "47    369.999978   7799.998834   \n",
       "\n",
       "                                             geometry  \n",
       "0   POLYGON Z ((2310762.450 1842514.509 0.000, 231...  \n",
       "1   POLYGON Z ((2310767.544 1842532.973 0.000, 231...  \n",
       "2   POLYGON Z ((2310762.839 1842532.869 0.000, 231...  \n",
       "23  POLYGON Z ((2311056.308 1850903.063 0.000, 231...  \n",
       "24  POLYGON Z ((2311082.421 1850823.059 0.000, 231...  \n",
       "25  POLYGON Z ((2311096.734 1850837.846 0.000, 231...  \n",
       "32  POLYGON Z ((2316146.889 1848991.434 0.000, 231...  \n",
       "35  POLYGON Z ((2316146.348 1848898.536 0.000, 231...  \n",
       "36  POLYGON Z ((2311426.401 1850278.775 0.000, 231...  \n",
       "37  POLYGON Z ((2311475.976 1850290.268 0.000, 231...  \n",
       "38  POLYGON Z ((2311425.069 1850158.783 0.000, 231...  \n",
       "39  POLYGON Z ((2311425.203 1850170.824 0.000, 231...  \n",
       "40  POLYGON Z ((2311538.823 1850102.280 0.000, 231...  \n",
       "41  POLYGON Z ((2311536.841 1849929.570 0.000, 231...  \n",
       "42  POLYGON Z ((2311413.455 1850070.948 0.000, 231...  \n",
       "43  POLYGON Z ((2311414.143 1850130.944 0.000, 231...  \n",
       "44  POLYGON Z ((2311425.069 1850158.783 0.000, 231...  \n",
       "45  POLYGON Z ((2311475.976 1850290.268 0.000, 231...  \n",
       "46  POLYGON Z ((2311540.972 1850289.546 0.000, 231...  \n",
       "47  POLYGON Z ((2311487.729 1850398.079 0.000, 231...  \n",
       "\n",
       "[20 rows x 49 columns]"
      ]
     },
     "execution_count": 91,
     "metadata": {},
     "output_type": "execute_result"
    }
   ],
   "source": [
    "underserved.head(20)    # 'PM_MAIL_NM' for Resident Names, 'PM_MAIL_A1' (and _A2, technically) as mailing address\n",
    "                        # 'Address' does not have unique values and values do not match PM_MAIL_A1\n",
    "                        # there are business/other organizations operating in residential zones"
   ]
  },
  {
   "cell_type": "code",
   "execution_count": 120,
   "id": "db8b94f6-ebc6-4003-b670-e5ae5befd06f",
   "metadata": {},
   "outputs": [],
   "source": [
    "mailinglist = underserved[['PM_MAIL_NM','PM_MAIL_A1']]"
   ]
  },
  {
   "cell_type": "code",
   "execution_count": 114,
   "id": "24ccdf4c-b2fc-47ae-8a7e-5c22761cf415",
   "metadata": {
    "tags": []
   },
   "outputs": [
    {
     "data": {
      "text/plain": [
       "pandas.core.frame.DataFrame"
      ]
     },
     "execution_count": 114,
     "metadata": {},
     "output_type": "execute_result"
    }
   ],
   "source": [
    "mailinglist"
   ]
  },
  {
   "cell_type": "code",
   "execution_count": 110,
   "id": "9bd798b6-cfc5-4b17-a56e-acccc21c5ba9",
   "metadata": {},
   "outputs": [
    {
     "data": {
      "text/plain": [
       "2443"
      ]
     },
     "execution_count": 110,
     "metadata": {},
     "output_type": "execute_result"
    }
   ],
   "source": [
    "len(mailinglist['PM_MAIL_NM'].unique())"
   ]
  },
  {
   "cell_type": "code",
   "execution_count": 111,
   "id": "8cc13602-e49c-4f18-9fb5-ea530d7c6830",
   "metadata": {},
   "outputs": [
    {
     "data": {
      "text/plain": [
       "2311"
      ]
     },
     "execution_count": 111,
     "metadata": {},
     "output_type": "execute_result"
    }
   ],
   "source": [
    "len(mailinglist['PM_MAIL_A1'].unique()) # mail by unique address to prevent spamming 132 folks"
   ]
  },
  {
   "cell_type": "code",
   "execution_count": 121,
   "id": "706d1b69-4e40-47e8-a2a2-e238ef9a1208",
   "metadata": {},
   "outputs": [],
   "source": [
    "mailinglist = mailinglist.drop_duplicates(subset='PM_MAIL_A1')"
   ]
  },
  {
   "cell_type": "code",
   "execution_count": 123,
   "id": "4dd2c3ca-54d7-4ae6-b60d-5e1b5b345644",
   "metadata": {},
   "outputs": [
    {
     "data": {
      "text/plain": [
       "2311"
      ]
     },
     "execution_count": 123,
     "metadata": {},
     "output_type": "execute_result"
    }
   ],
   "source": [
    "len(mailinglist)"
   ]
  },
  {
   "cell_type": "code",
   "execution_count": 124,
   "id": "84294dba-cac2-4191-a56c-08cfbb20d17b",
   "metadata": {
    "collapsed": true,
    "jupyter": {
     "outputs_hidden": true
    },
    "tags": []
   },
   "outputs": [
    {
     "data": {
      "text/html": [
       "<div>\n",
       "<style scoped>\n",
       "    .dataframe tbody tr th:only-of-type {\n",
       "        vertical-align: middle;\n",
       "    }\n",
       "\n",
       "    .dataframe tbody tr th {\n",
       "        vertical-align: top;\n",
       "    }\n",
       "\n",
       "    .dataframe thead th {\n",
       "        text-align: right;\n",
       "    }\n",
       "</style>\n",
       "<table border=\"1\" class=\"dataframe\">\n",
       "  <thead>\n",
       "    <tr style=\"text-align: right;\">\n",
       "      <th></th>\n",
       "      <th>PM_MAIL_NM</th>\n",
       "      <th>PM_MAIL_A1</th>\n",
       "    </tr>\n",
       "  </thead>\n",
       "  <tbody>\n",
       "    <tr>\n",
       "      <th>0</th>\n",
       "      <td>TATKINMAH LLC</td>\n",
       "      <td>709 E F ST</td>\n",
       "    </tr>\n",
       "    <tr>\n",
       "      <th>1</th>\n",
       "      <td>TATKINMAH LLC</td>\n",
       "      <td>709 E F STREET</td>\n",
       "    </tr>\n",
       "    <tr>\n",
       "      <th>23</th>\n",
       "      <td>PAR HAWAII, LLC</td>\n",
       "      <td>825 TOWN AND COUNTRY LN</td>\n",
       "    </tr>\n",
       "    <tr>\n",
       "      <th>24</th>\n",
       "      <td>RATHBUN, BARBRA E</td>\n",
       "      <td>329 N WASHINGTON ST</td>\n",
       "    </tr>\n",
       "    <tr>\n",
       "      <th>32</th>\n",
       "      <td>CHURCH, CHRISTIAN SCIENCE</td>\n",
       "      <td>PO BOX 9726</td>\n",
       "    </tr>\n",
       "    <tr>\n",
       "      <th>...</th>\n",
       "      <td>...</td>\n",
       "      <td>...</td>\n",
       "    </tr>\n",
       "    <tr>\n",
       "      <th>11069</th>\n",
       "      <td>KELLAS, JOHN J JR</td>\n",
       "      <td>420 SUNSET DRIVE</td>\n",
       "    </tr>\n",
       "    <tr>\n",
       "      <th>11073</th>\n",
       "      <td>KOCHAN, ELIZABETH L</td>\n",
       "      <td>1107 VIRGINIA AVE</td>\n",
       "    </tr>\n",
       "    <tr>\n",
       "      <th>11086</th>\n",
       "      <td>PHI KAPPA TAU CORPORATION</td>\n",
       "      <td>1630 HWY 99</td>\n",
       "    </tr>\n",
       "    <tr>\n",
       "      <th>11142</th>\n",
       "      <td>KUNTZ CONSTRUCTION LLC</td>\n",
       "      <td>PO BOX 8650</td>\n",
       "    </tr>\n",
       "    <tr>\n",
       "      <th>11159</th>\n",
       "      <td>ARCTIC TURNAGAIN, LLC</td>\n",
       "      <td>47 COMSTOCK RD</td>\n",
       "    </tr>\n",
       "  </tbody>\n",
       "</table>\n",
       "<p>2311 rows × 2 columns</p>\n",
       "</div>"
      ],
      "text/plain": [
       "                      PM_MAIL_NM               PM_MAIL_A1\n",
       "0                  TATKINMAH LLC               709 E F ST\n",
       "1                  TATKINMAH LLC           709 E F STREET\n",
       "23               PAR HAWAII, LLC  825 TOWN AND COUNTRY LN\n",
       "24             RATHBUN, BARBRA E      329 N WASHINGTON ST\n",
       "32     CHURCH, CHRISTIAN SCIENCE              PO BOX 9726\n",
       "...                          ...                      ...\n",
       "11069          KELLAS, JOHN J JR         420 SUNSET DRIVE\n",
       "11073        KOCHAN, ELIZABETH L        1107 VIRGINIA AVE\n",
       "11086  PHI KAPPA TAU CORPORATION              1630 HWY 99\n",
       "11142     KUNTZ CONSTRUCTION LLC              PO BOX 8650\n",
       "11159      ARCTIC TURNAGAIN, LLC           47 COMSTOCK RD\n",
       "\n",
       "[2311 rows x 2 columns]"
      ]
     },
     "execution_count": 124,
     "metadata": {},
     "output_type": "execute_result"
    }
   ],
   "source": [
    "mailinglist"
   ]
  },
  {
   "cell_type": "code",
   "execution_count": 125,
   "id": "34e5491b-a852-46b9-b656-2250ef569c89",
   "metadata": {},
   "outputs": [],
   "source": [
    "mailinglist = mailinglist.drop_duplicates(subset='PM_MAIL_NM')"
   ]
  },
  {
   "cell_type": "code",
   "execution_count": 126,
   "id": "a84674af-c34e-48af-be40-93cf67d5b4a3",
   "metadata": {},
   "outputs": [
    {
     "data": {
      "text/plain": [
       "2267"
      ]
     },
     "execution_count": 126,
     "metadata": {},
     "output_type": "execute_result"
    }
   ],
   "source": [
    "len(mailinglist) # turns out there are names with variations of the same addresses, so I've decided to drop those too\n",
    "                    # which results in sacrifice any different residents with the same name, oh well"
   ]
  },
  {
   "cell_type": "code",
   "execution_count": 127,
   "id": "9f4199f9-7584-4156-9da0-3e5d81d4c10f",
   "metadata": {
    "collapsed": true,
    "jupyter": {
     "outputs_hidden": true
    },
    "tags": []
   },
   "outputs": [
    {
     "data": {
      "text/html": [
       "<div>\n",
       "<style scoped>\n",
       "    .dataframe tbody tr th:only-of-type {\n",
       "        vertical-align: middle;\n",
       "    }\n",
       "\n",
       "    .dataframe tbody tr th {\n",
       "        vertical-align: top;\n",
       "    }\n",
       "\n",
       "    .dataframe thead th {\n",
       "        text-align: right;\n",
       "    }\n",
       "</style>\n",
       "<table border=\"1\" class=\"dataframe\">\n",
       "  <thead>\n",
       "    <tr style=\"text-align: right;\">\n",
       "      <th></th>\n",
       "      <th>PM_MAIL_NM</th>\n",
       "      <th>PM_MAIL_A1</th>\n",
       "    </tr>\n",
       "  </thead>\n",
       "  <tbody>\n",
       "    <tr>\n",
       "      <th>0</th>\n",
       "      <td>TATKINMAH LLC</td>\n",
       "      <td>709 E F ST</td>\n",
       "    </tr>\n",
       "    <tr>\n",
       "      <th>23</th>\n",
       "      <td>PAR HAWAII, LLC</td>\n",
       "      <td>825 TOWN AND COUNTRY LN</td>\n",
       "    </tr>\n",
       "    <tr>\n",
       "      <th>24</th>\n",
       "      <td>RATHBUN, BARBRA E</td>\n",
       "      <td>329 N WASHINGTON ST</td>\n",
       "    </tr>\n",
       "    <tr>\n",
       "      <th>32</th>\n",
       "      <td>CHURCH, CHRISTIAN SCIENCE</td>\n",
       "      <td>PO BOX 9726</td>\n",
       "    </tr>\n",
       "    <tr>\n",
       "      <th>35</th>\n",
       "      <td>FREI, HERBERT A</td>\n",
       "      <td>1572 DOGWOOD CT</td>\n",
       "    </tr>\n",
       "    <tr>\n",
       "      <th>...</th>\n",
       "      <td>...</td>\n",
       "      <td>...</td>\n",
       "    </tr>\n",
       "    <tr>\n",
       "      <th>11069</th>\n",
       "      <td>KELLAS, JOHN J JR</td>\n",
       "      <td>420 SUNSET DRIVE</td>\n",
       "    </tr>\n",
       "    <tr>\n",
       "      <th>11073</th>\n",
       "      <td>KOCHAN, ELIZABETH L</td>\n",
       "      <td>1107 VIRGINIA AVE</td>\n",
       "    </tr>\n",
       "    <tr>\n",
       "      <th>11086</th>\n",
       "      <td>PHI KAPPA TAU CORPORATION</td>\n",
       "      <td>1630 HWY 99</td>\n",
       "    </tr>\n",
       "    <tr>\n",
       "      <th>11142</th>\n",
       "      <td>KUNTZ CONSTRUCTION LLC</td>\n",
       "      <td>PO BOX 8650</td>\n",
       "    </tr>\n",
       "    <tr>\n",
       "      <th>11159</th>\n",
       "      <td>ARCTIC TURNAGAIN, LLC</td>\n",
       "      <td>47 COMSTOCK RD</td>\n",
       "    </tr>\n",
       "  </tbody>\n",
       "</table>\n",
       "<p>2267 rows × 2 columns</p>\n",
       "</div>"
      ],
      "text/plain": [
       "                      PM_MAIL_NM               PM_MAIL_A1\n",
       "0                  TATKINMAH LLC               709 E F ST\n",
       "23               PAR HAWAII, LLC  825 TOWN AND COUNTRY LN\n",
       "24             RATHBUN, BARBRA E      329 N WASHINGTON ST\n",
       "32     CHURCH, CHRISTIAN SCIENCE              PO BOX 9726\n",
       "35               FREI, HERBERT A          1572 DOGWOOD CT\n",
       "...                          ...                      ...\n",
       "11069          KELLAS, JOHN J JR         420 SUNSET DRIVE\n",
       "11073        KOCHAN, ELIZABETH L        1107 VIRGINIA AVE\n",
       "11086  PHI KAPPA TAU CORPORATION              1630 HWY 99\n",
       "11142     KUNTZ CONSTRUCTION LLC              PO BOX 8650\n",
       "11159      ARCTIC TURNAGAIN, LLC           47 COMSTOCK RD\n",
       "\n",
       "[2267 rows x 2 columns]"
      ]
     },
     "execution_count": 127,
     "metadata": {},
     "output_type": "execute_result"
    }
   ],
   "source": [
    "mailinglist # safe to assume this is cleaned enough, the NA/NULL values are gone too\n",
    "# other considerations: for easy printing create a column for names and addresses as they would appear on an envelope\n",
    "# take out the non-residents"
   ]
  },
  {
   "cell_type": "markdown",
   "id": "cc8bfd47-1426-4d23-9742-fb895abd9fd8",
   "metadata": {},
   "source": [
    "**lastly create the .csv**"
   ]
  },
  {
   "cell_type": "code",
   "execution_count": 131,
   "id": "921835e8-07db-48ef-b4af-1d9de410e87f",
   "metadata": {
    "tags": []
   },
   "outputs": [],
   "source": [
    "mailinglist.to_csv('mailout.csv') # put in cwd otherwise use (path_or_buf='')"
   ]
  },
  {
   "cell_type": "markdown",
   "id": "85800d05-d932-4b14-9bac-a3bb503fb733",
   "metadata": {},
   "source": [
    "<div class=\"alert alert-block alert-info\"> <i> Tim's code for reference. . . </i> </div>"
   ]
  },
  {
   "cell_type": "code",
   "execution_count": null,
   "id": "84e478e0-bb7e-422c-ba4a-96c43c3cc5aa",
   "metadata": {
    "tags": []
   },
   "outputs": [],
   "source": [
    "roads"
   ]
  },
  {
   "cell_type": "code",
   "execution_count": null,
   "id": "c868f1c6-c4d1-4f22-a07d-60e522dc9382",
   "metadata": {},
   "outputs": [],
   "source": [
    "zoning.columns"
   ]
  },
  {
   "cell_type": "code",
   "execution_count": 92,
   "id": "c5573dbc-9750-43d9-b738-2ea45d442b0c",
   "metadata": {},
   "outputs": [
    {
     "data": {
      "text/plain": [
       "array(['Auto-Urban Residential', 'University',\n",
       "       'Parks, Recreation, and Open Space',\n",
       "       'Auto-Urban Residential, Medium Density', 'Urban Commercial',\n",
       "       'Urban Residential, Medium Density', 'Urban Residential',\n",
       "       'Suburban Residential', 'Public and Semi-Public',\n",
       "       'Auto-Urban Commercial', 'Vacant', 'Auto-Urban Industrial',\n",
       "       'Agricultural', 'Research/Technology Park', '',\n",
       "       'Suburban Commercial'], dtype=object)"
      ]
     },
     "execution_count": 92,
     "metadata": {},
     "output_type": "execute_result"
    }
   ],
   "source": [
    "zoning['LANDUSEDESC'].unique()"
   ]
  },
  {
   "cell_type": "code",
   "execution_count": null,
   "id": "39000fc1-bc15-42ff-8140-c7dca15d0304",
   "metadata": {},
   "outputs": [],
   "source": [
    "zoning['LANDUSECODE'].unique()"
   ]
  },
  {
   "cell_type": "code",
   "execution_count": null,
   "id": "b3bbe430-5a94-453e-a5a4-6421b573dbde",
   "metadata": {},
   "outputs": [],
   "source": [
    "# We can measure the distance between any parcel and a point near the center of downtown Moscow\n",
    "from shapely.geometry import Point\n",
    "parcels['Dwntn_dist'] = parcels.distance(Point(2.311e6, 1.849e6))"
   ]
  },
  {
   "cell_type": "markdown",
   "id": "888862c3-cee8-4bc4-9b87-8a2c7850d04a",
   "metadata": {
    "tags": []
   },
   "source": [
    "#### Visualizing the data\n",
    "I think each of the plots below is interesting.  Try commenting and uncommenting each one"
   ]
  },
  {
   "cell_type": "code",
   "execution_count": 138,
   "id": "b7607691-1387-4e20-930d-cfa47e3992dd",
   "metadata": {
    "collapsed": true,
    "jupyter": {
     "outputs_hidden": true,
     "source_hidden": true
    },
    "tags": []
   },
   "outputs": [
    {
     "data": {
      "application/vnd.jupyter.widget-view+json": {
       "model_id": "dd845f747e2c4f91ba6b9a52eb06f816",
       "version_major": 2,
       "version_minor": 0
      },
      "text/plain": [
       "Canvas(toolbar=Toolbar(toolitems=[('Home', 'Reset original view', 'home', 'home'), ('Back', 'Back to previous …"
      ]
     },
     "metadata": {},
     "output_type": "display_data"
    },
    {
     "data": {
      "text/plain": [
       "<AxesSubplot:>"
      ]
     },
     "execution_count": 138,
     "metadata": {},
     "output_type": "execute_result"
    }
   ],
   "source": [
    "%matplotlib widget\n",
    "fig, ax = plt.subplots( figsize=(8,8) )\n",
    "\n",
    "# These are a few of the interesting plots to look at.\n",
    "#parcels.plot(column='Dwntn_dist', ax=ax, legend=True, vmax=5280); # column not in gdf\n",
    "zoning.plot(column='LANDUSEDESC', ax=ax, legend=True, cmap='tab20')\n",
    "#parcels.plot(column= 'SaleYear', ax=ax, legend=True, vmin=1990) # column not in gdf, use PM_DEEDCDT with converted date\n",
    "\n",
    "ax.set_xlim( city_limits.bounds.to_numpy()[0][::2] )\n",
    "ax.set_ylim( city_limits.bounds.to_numpy()[0][1::2] )\n",
    "\n",
    "roads.plot(ax=ax, color='gray')\n"
   ]
  },
  {
   "cell_type": "code",
   "execution_count": null,
   "id": "503a63fb-7da7-4a39-a953-aa34356c78eb",
   "metadata": {},
   "outputs": [],
   "source": []
  },
  {
   "cell_type": "markdown",
   "id": "9a0adbd0-ef1d-4d0d-bdfc-f43eefac496a",
   "metadata": {},
   "source": [
    "### Property sales over time\n",
    "Similar to the assignment from last week, we can look at the property sales as a function of time."
   ]
  },
  {
   "cell_type": "code",
   "execution_count": null,
   "id": "f9122c77-a7eb-44b5-8842-4e9c6188e063",
   "metadata": {
    "tags": []
   },
   "outputs": [],
   "source": [
    "import pandas as pd\n",
    "print( parcels['PM_DEEDCDT'].astype(str)[:4] )\n",
    "\n",
    "parcels['SaleDate'] = pd.to_datetime(\n",
    "    parcels['PM_DEEDCDT'], \n",
    "    errors='coerce', \n",
    "    format='%Y%m%d')\n"
   ]
  },
  {
   "cell_type": "code",
   "execution_count": null,
   "id": "a9aa8268-4752-4ed8-bbdc-3fa9da2ae504",
   "metadata": {
    "tags": []
   },
   "outputs": [],
   "source": [
    "parcels['SaleDate']"
   ]
  },
  {
   "cell_type": "code",
   "execution_count": null,
   "id": "596b9caa-d2ba-4e79-9c36-ab5bb1d8ee5e",
   "metadata": {
    "tags": []
   },
   "outputs": [],
   "source": [
    "dates = parcels['PM_DEEDCDT'].to_numpy() # Pull out all the sale dates (initially floats)\n",
    "yr = np.full( dates.shape, np.nan ) # initialize a variable full of nans\n",
    "\n",
    "for i in range(len(dates)): \n",
    "    if dates[i] > 0:\n",
    "        yr[i] = int( str(dates[i])[:4] )\n",
    "    else:\n",
    "        yr[i] = np.nan\n",
    "\n",
    "parcels['SaleYear'] = yr # Create a new column for the parcels data frame representing sale year\n"
   ]
  },
  {
   "cell_type": "code",
   "execution_count": null,
   "id": "0b191054-8968-468b-95fc-818168d3dd24",
   "metadata": {},
   "outputs": [],
   "source": [
    "bin_size = np.timedelta64(365, 'D')/12 # days\n",
    "fig, ax = plt.subplots()\n",
    "ax.hist(parcels['SaleDate'], bins=np.arange(np.datetime64('1990-01-01'), \n",
    "                                            np.datetime64('2022-01-01'), \n",
    "                                            bin_size ) )\n",
    "ylabel_text = 'Number of property sales in Moscow\\nper ' + str(bin_size.astype(int)) + ' days'\n",
    "ax.set_ylabel(ylabel_text)\n",
    "ax.set_xlim(np.datetime64('2000-01-01'), np.datetime64('2022-01-01') );\n",
    "# ax.set_xlim(np.datetime64('2010-12-15'), np.datetime64('2011-01-01') )\n",
    "\n",
    "# Note that the sales at the end of 2010 are anomalous, and are all recorded on the same day.\n",
    "# That's suspicious and Tim thinks that it must be some change in accounting or record keeping."
   ]
  },
  {
   "cell_type": "markdown",
   "id": "d17284f2-8db0-4d03-96ae-fee94d772b5c",
   "metadata": {
    "tags": []
   },
   "source": [
    "<div class=\"alert alert-block alert-info\"> <i> . . .End of Tim's reference code. </i> </div>"
   ]
  },
  {
   "cell_type": "markdown",
   "id": "38c893b8-ffb6-4e1d-8086-58550738aae1",
   "metadata": {},
   "source": [
    "<div class=\"alert alert-block alert-warning\">\n",
    "\n",
    "## 3. Investing in downtown property\n",
    "You are the GIS consultant for a property investment company that specializes in\n",
    "downtown and higher-density properties.  Your company is considering Moscow real estate.\n",
    "You've heard about the boom in sales within the city, and your company would like to know how competitive\n",
    "property purchasing will be, or if they will be able to drive a hard bargin.\n",
    "\n",
    "Has the downtown property market heated up as much as within the city as a whole?\n",
    "Compare sale rates within two of the zoned downtown regions with those of the city as a whole.\n",
    "    \n",
    "Is there anything else in these data that you would like to share with your colleagues\n",
    "    that could help advise them as you consider this investment?\n",
    "</div>"
   ]
  },
  {
   "cell_type": "code",
   "execution_count": null,
   "id": "2879d473-3042-4ade-84d4-710316070305",
   "metadata": {},
   "outputs": [],
   "source": []
  },
  {
   "cell_type": "markdown",
   "id": "ace97372-6cee-4ffd-9efa-8dd0a927a30d",
   "metadata": {},
   "source": [
    "<div class=\"alert alert-block alert-warning\">\n",
    "\n",
    "## 4. Find, plot, work with data of your own\n",
    "Find a spatial, vector dataset of your choosing (by googling, from another class, \n",
    "    or from a research project of yours). This could be climate data, geologic units,\n",
    "    census data, ecological units, demographic data, etc. Download or copy this dataset\n",
    "    into the current directory, plot it, and use geopandas to draw on the attributes \n",
    "    of that data (even just lengths, areas, etc) and tell me something about that data.\n",
    "</div>"
   ]
  },
  {
   "cell_type": "code",
   "execution_count": null,
   "id": "9aa5b7c7-cb2a-4b03-9d06-5ad1087b4a7e",
   "metadata": {},
   "outputs": [],
   "source": []
  },
  {
   "cell_type": "code",
   "execution_count": null,
   "id": "36308327-5753-4e9b-94a1-14c72fffb926",
   "metadata": {},
   "outputs": [],
   "source": []
  },
  {
   "cell_type": "code",
   "execution_count": null,
   "id": "847e31b2-776c-4ca1-8c7a-dfcbcaa2f2a4",
   "metadata": {},
   "outputs": [],
   "source": []
  }
 ],
 "metadata": {
  "kernelspec": {
   "display_name": "Python [conda env:.conda-GISenv21b] *",
   "language": "python",
   "name": "conda-env-.conda-GISenv21b-py"
  },
  "language_info": {
   "codemirror_mode": {
    "name": "ipython",
    "version": 3
   },
   "file_extension": ".py",
   "mimetype": "text/x-python",
   "name": "python",
   "nbconvert_exporter": "python",
   "pygments_lexer": "ipython3",
   "version": "3.9.6"
  }
 },
 "nbformat": 4,
 "nbformat_minor": 5
}

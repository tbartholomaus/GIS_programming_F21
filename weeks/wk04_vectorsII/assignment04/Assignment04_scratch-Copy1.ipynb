{
 "cells": [
  {
   "cell_type": "markdown",
   "id": "b14b20c6-4f6d-4d35-98c0-095d4b9c01c3",
   "metadata": {},
   "source": [
    "# Assignment 4\n",
    "\n"
   ]
  },
  {
   "cell_type": "code",
   "execution_count": null,
   "id": "b38efdc7-7f92-4a40-9178-7c0f61cfc5fd",
   "metadata": {},
   "outputs": [],
   "source": []
  },
  {
   "cell_type": "code",
   "execution_count": 1,
   "id": "f4a70078-b2c0-4a6b-b270-7575dbcd8eda",
   "metadata": {},
   "outputs": [],
   "source": [
    "import numpy as np\n",
    "import matplotlib.pyplot as plt\n",
    "from pathlib import Path\n",
    "\n",
    "import geopandas as gpd"
   ]
  },
  {
   "cell_type": "code",
   "execution_count": 2,
   "id": "f036393c-ec90-4fec-a144-de07755f16fc",
   "metadata": {},
   "outputs": [],
   "source": [
    "datasets_dir = Path('../../../datasets')\n",
    "# ls ../../"
   ]
  },
  {
   "cell_type": "code",
   "execution_count": 3,
   "id": "2e77bc7a-41dc-4ac4-baea-5bbe28e4a040",
   "metadata": {},
   "outputs": [
    {
     "data": {
      "text/plain": [
       "PosixPath('../../../datasets')"
      ]
     },
     "execution_count": 3,
     "metadata": {},
     "output_type": "execute_result"
    }
   ],
   "source": [
    "datasets_dir"
   ]
  },
  {
   "cell_type": "code",
   "execution_count": 4,
   "id": "bc2dd580-ad80-4615-8a26-9df0b18b916d",
   "metadata": {},
   "outputs": [
    {
     "name": "stdout",
     "output_type": "stream",
     "text": [
      "../../../datasets/moscow/moscow_vectors/Moscow.gdb\n",
      "<class 'pathlib.PosixPath'>\n"
     ]
    }
   ],
   "source": [
    "moscow_gdb_path = datasets_dir / 'moscow' / 'moscow_vectors' / 'Moscow.gdb'\n",
    "print(moscow_gdb_path)\n",
    "print(type(moscow_gdb_path))"
   ]
  },
  {
   "cell_type": "code",
   "execution_count": null,
   "id": "554bb916-a1c5-4319-9395-a7a499f227b4",
   "metadata": {},
   "outputs": [],
   "source": []
  },
  {
   "cell_type": "code",
   "execution_count": 5,
   "id": "659e9eeb-782d-4df6-b335-943ed6a38203",
   "metadata": {},
   "outputs": [
    {
     "data": {
      "text/plain": [
       "['Moscow_Zoning',\n",
       " 'Centerlines',\n",
       " 'Moscow_Parks',\n",
       " 'Moscow_City_Limit',\n",
       " 'Parcels']"
      ]
     },
     "execution_count": 5,
     "metadata": {},
     "output_type": "execute_result"
    }
   ],
   "source": [
    "import fiona\n",
    "moscow_gdb = str(moscow_gdb_path)\n",
    "\n",
    "fiona.listlayers(moscow_gdb)"
   ]
  },
  {
   "cell_type": "code",
   "execution_count": 6,
   "id": "749b5581-d9ea-48e2-8949-e6acb8e8d685",
   "metadata": {},
   "outputs": [],
   "source": [
    "parcels = gpd.read_file(moscow_gdb, layer='Parcels')\n",
    "roads = gpd.read_file(moscow_gdb, layer='Centerlines')\n",
    "zoning = gpd.read_file(moscow_gdb, layer='Moscow_Zoning')\n",
    "city_limits = gpd.read_file(moscow_gdb, layer='Moscow_City_Limit')\n",
    "parks = gpd.read_file(moscow_gdb, layer='Moscow_Parks')\n"
   ]
  },
  {
   "cell_type": "code",
   "execution_count": 7,
   "id": "994b45f8-6c0c-4f15-8580-e97c5586b077",
   "metadata": {},
   "outputs": [
    {
     "data": {
      "text/plain": [
       "Index(['LABEL', 'PM_PAR_14', 'PM_MAIL_NM', 'PM_MAIL_A1', 'PM_MAIL_A2',\n",
       "       'PM_MAIL_CT', 'PM_MAIL_ST', 'PM_MAIL_ZP', 'PM_PROP_AD', 'PM_DEEDCDT',\n",
       "       'PM_DEEDRF1', 'PM_DEEDRF2', 'PM_DEEDRF3', 'PM_DEEDRF4', 'PM_DEEDRF5',\n",
       "       'PM_TAX_AMT', 'PM_PV_AREA', 'PM_PV_NBHD', 'PM_PV_ACRE', 'PM_TOT_VAL',\n",
       "       'PM_IMP_VAL', 'PM_LND_VAL', 'PM_EX_VAL', 'PM_NET_VAL', 'PM_CATS',\n",
       "       'LG_LINE_1', 'LG_LINE_2', 'LG_LINE_3', 'LG_LINE_4', 'LG_LINE_5',\n",
       "       'LG_LINE_6', 'PM_PARC_CD', 'GlobalID', 'Shape_Length', 'Shape_Area',\n",
       "       'geometry'],\n",
       "      dtype='object')"
      ]
     },
     "execution_count": 7,
     "metadata": {},
     "output_type": "execute_result"
    }
   ],
   "source": [
    "parcels.columns"
   ]
  },
  {
   "cell_type": "markdown",
   "id": "533f554b-1fcd-4e89-aecd-749742abdd50",
   "metadata": {},
   "source": [
    "### Shapely geometries\n",
    "Behind the scenes, geopandas is reading in vector data, storing the attribute tables as `pandas` dataframes,\n",
    "and storing the vector geometry as `shapely` geometries.\n",
    "\n",
    "\n",
    "### Reading:\n",
    "To become more familiar with vector operations in geopandas/shapely, \n",
    "read this introduction to shapely geometries carefully, \n",
    "and reproduce/experiment with the code in this reading from within a blank notebook:\n",
    "https://towardsdatascience.com/geospatial-adventures-step-1-shapely-e911e4f86361\n",
    "\n",
    "Read this page for a more comprehensive description of `shapely` geometries: \n",
    "https://autogis-site.readthedocs.io/en/latest/notebooks/L1/geometric-objects.html\n",
    "\n",
    "Scroll through the `shapely` user manual (https://shapely.readthedocs.io/en/stable/manual.html), \n",
    "reviewing the different functions that shapely includes.  `geopandas` allows all of these functions to be\n",
    "executed, [directly through `geopandas`, without explicit call to `shapely`](https://geopandas.org/docs/user_guide/geometric_manipulations.html).  `shapely` is just running\n",
    "quietly under the hood.  Pay specific attention to the \"Spatial Analysis Methods\" of the manual."
   ]
  },
  {
   "cell_type": "code",
   "execution_count": 8,
   "id": "a805a90a-a722-41bd-b340-ac15e6531723",
   "metadata": {},
   "outputs": [
    {
     "name": "stdout",
     "output_type": "stream",
     "text": [
      "Line area = 0.0\n",
      "Line length = 2.8284271247461903\n"
     ]
    }
   ],
   "source": [
    "from shapely.geometry import LineString\n",
    "line = LineString([(0, 0), (1, 1), (2, 0)])\n",
    "print('Line area =', line.area)\n",
    "print('Line length =', line.length)"
   ]
  },
  {
   "cell_type": "code",
   "execution_count": 9,
   "id": "91dda482-8e26-41bd-b40b-732e714cd6f9",
   "metadata": {},
   "outputs": [
    {
     "data": {
      "image/svg+xml": [
       "<svg xmlns=\"http://www.w3.org/2000/svg\" xmlns:xlink=\"http://www.w3.org/1999/xlink\" width=\"100.0\" height=\"100.0\" viewBox=\"-0.08 -0.08 2.16 1.1600000000000001\" preserveAspectRatio=\"xMinYMin meet\"><g transform=\"matrix(1,0,0,-1,0,1.0)\"><polyline fill=\"none\" stroke=\"#66cc99\" stroke-width=\"0.0432\" points=\"0.0,0.0 1.0,1.0 2.0,0.0\" opacity=\"0.8\" /></g></svg>"
      ],
      "text/plain": [
       "<shapely.geometry.linestring.LineString at 0x13d1c3d60>"
      ]
     },
     "execution_count": 9,
     "metadata": {},
     "output_type": "execute_result"
    }
   ],
   "source": [
    "line"
   ]
  },
  {
   "cell_type": "code",
   "execution_count": 10,
   "id": "92ea295d-9a77-4bf6-9718-0b3cd9979e88",
   "metadata": {},
   "outputs": [
    {
     "data": {
      "text/plain": [
       "shapely.geometry.linestring.LineString"
      ]
     },
     "execution_count": 10,
     "metadata": {},
     "output_type": "execute_result"
    }
   ],
   "source": [
    "type(line)"
   ]
  },
  {
   "cell_type": "code",
   "execution_count": 11,
   "id": "50696400-bd30-4071-8e44-6535e41c37cc",
   "metadata": {},
   "outputs": [
    {
     "name": "stdout",
     "output_type": "stream",
     "text": [
      "[(0.0, 0.0), (1.0, 1.0), (2.0, 0.0)]\n",
      "(2.0, 0.0)\n"
     ]
    }
   ],
   "source": [
    "print( list(line.coords) )\n",
    "print( line.coords[2] )"
   ]
  },
  {
   "cell_type": "markdown",
   "id": "aa3bf992-2366-47e0-bc24-0d49657b6e92",
   "metadata": {},
   "source": [
    "<div class=\"alert alert-block alert-warning\">\n",
    "\n",
    "## Shapely geometries\n",
    "What `shapely` geometry are each of the parcels in the Moscow parcels layer? What `shapely` geometry are their centroids?\n",
    "    \n",
    "Find the Kenworthy Theater within the parcels database (hint: the name field for its mailing address, \n",
    "    PM_MAIL_NM, is \"KENWORTHY PERFORMING ARTS CTR\").\n",
    "What are the coordinates for the corners of its parcel?    \n",
    "</div>\n"
   ]
  },
  {
   "cell_type": "code",
   "execution_count": 21,
   "id": "291f89be-8ae4-4981-8e6c-aa435511154f",
   "metadata": {},
   "outputs": [
    {
     "data": {
      "text/plain": [
       "0       MULTIPOLYGON (((2310895.129 1842403.524, 23110...\n",
       "1       MULTIPOLYGON (((2311059.420 1842229.329, 23110...\n",
       "2       MULTIPOLYGON (((2313927.891 1843762.528, 23140...\n",
       "3       MULTIPOLYGON (((2310936.696 1850758.583, 23109...\n",
       "4       MULTIPOLYGON (((2310938.447 1850916.273, 23110...\n",
       "                              ...                        \n",
       "7389    MULTIPOLYGON (((2309810.585 1844883.291, 23097...\n",
       "7390    MULTIPOLYGON (((2309630.922 1844876.652, 23096...\n",
       "7391    MULTIPOLYGON (((2309722.005 1844975.767, 23097...\n",
       "7392    MULTIPOLYGON (((2309711.261 1844923.808, 23096...\n",
       "7393    MULTIPOLYGON (((2315750.007 1843514.088, 23157...\n",
       "Name: geometry, Length: 7394, dtype: geometry"
      ]
     },
     "execution_count": 21,
     "metadata": {},
     "output_type": "execute_result"
    }
   ],
   "source": [
    "parcels.geometry"
   ]
  },
  {
   "cell_type": "code",
   "execution_count": 50,
   "id": "de129176-6dd5-47ce-8a13-078c101d3347",
   "metadata": {},
   "outputs": [
    {
     "data": {
      "text/plain": [
       "(array([1359]),)"
      ]
     },
     "execution_count": 50,
     "metadata": {},
     "output_type": "execute_result"
    }
   ],
   "source": [
    "np.where(parcels.PM_MAIL_NM == 'KENWORTHY PERFORMING ARTS CTR')"
   ]
  },
  {
   "cell_type": "code",
   "execution_count": 47,
   "id": "0f725e99-579d-4747-b047-4eabce2982f3",
   "metadata": {},
   "outputs": [
    {
     "data": {
      "text/plain": [
       "LABEL                                                        002B\n",
       "PM_PAR_14                                          RPM0001005002B\n",
       "PM_MAIL_NM                          KENWORTHY PERFORMING ARTS CTR\n",
       "PM_MAIL_A1                                             508 S MAIN\n",
       "PM_MAIL_A2                                                       \n",
       "PM_MAIL_CT                                                 MOSCOW\n",
       "PM_MAIL_ST                                                     ID\n",
       "PM_MAIL_ZP                                                83843.0\n",
       "PM_PROP_AD                                             508 S MAIN\n",
       "PM_DEEDCDT                                             20010202.0\n",
       "PM_DEEDRF1                                                 455001\n",
       "PM_DEEDRF2                                                 448268\n",
       "PM_DEEDRF3                                                       \n",
       "PM_DEEDRF4                                                       \n",
       "PM_DEEDRF5                                                       \n",
       "PM_TAX_AMT                                                    0.0\n",
       "PM_PV_AREA                                                    0.0\n",
       "PM_PV_NBHD                                                    0.0\n",
       "PM_PV_ACRE                                                    0.0\n",
       "PM_TOT_VAL                                                    0.0\n",
       "PM_IMP_VAL                                                    0.0\n",
       "PM_LND_VAL                                                    0.0\n",
       "PM_EX_VAL                                                     0.0\n",
       "PM_NET_VAL                                                    0.0\n",
       "PM_CATS                                                      |81|\n",
       "LG_LINE_1                                         MOSCOW ORIGINAL\n",
       "LG_LINE_2                             BLK 5 LOT 2, N 1/2 OF LOT 3\n",
       "LG_LINE_3                                                  EXEMPT\n",
       "LG_LINE_4                                                        \n",
       "LG_LINE_5                                                        \n",
       "LG_LINE_6                                                        \n",
       "PM_PARC_CD                                                      C\n",
       "GlobalID                   {A4FB5B11-A87D-453A-ABD6-8BC607A17A20}\n",
       "Shape_Length                                           369.999919\n",
       "Shape_Area                                            7499.997375\n",
       "geometry        (POLYGON ((2311036.945908163 1848531.879651986...\n",
       "Name: 1359, dtype: object"
      ]
     },
     "execution_count": 47,
     "metadata": {},
     "output_type": "execute_result"
    }
   ],
   "source": [
    "\n",
    "parcels.geometry[1360]\n",
    "parcels.iloc[1359]"
   ]
  },
  {
   "cell_type": "code",
   "execution_count": 19,
   "id": "bd34bd04-14a1-4cd2-a898-b0fd8609beb3",
   "metadata": {},
   "outputs": [
    {
     "data": {
      "text/plain": [
       "0       POINT (2312316.563 1841855.854)\n",
       "1       POINT (2310889.377 1842183.675)\n",
       "2       POINT (2314032.262 1843722.904)\n",
       "3       POINT (2310999.398 1850776.387)\n",
       "4       POINT (2310997.470 1850854.715)\n",
       "                     ...               \n",
       "7389    POINT (2309827.633 1844939.828)\n",
       "7390    POINT (2309631.082 1844892.130)\n",
       "7391    POINT (2309678.033 1844935.229)\n",
       "7392    POINT (2309702.081 1844949.559)\n",
       "7393    POINT (2315761.545 1843658.201)\n",
       "Length: 7394, dtype: geometry"
      ]
     },
     "execution_count": 19,
     "metadata": {},
     "output_type": "execute_result"
    }
   ],
   "source": [
    "parcels.centroid"
   ]
  },
  {
   "cell_type": "markdown",
   "id": "9a0adbd0-ef1d-4d0d-bdfc-f43eefac496a",
   "metadata": {},
   "source": [
    "## Property sales over time"
   ]
  },
  {
   "cell_type": "code",
   "execution_count": 51,
   "id": "f9122c77-a7eb-44b5-8842-4e9c6188e063",
   "metadata": {
    "tags": []
   },
   "outputs": [
    {
     "name": "stdout",
     "output_type": "stream",
     "text": [
      "0    20120925.0\n",
      "1    20120925.0\n",
      "2           0.0\n",
      "3    20190815.0\n",
      "Name: PM_DEEDCDT, dtype: object\n"
     ]
    }
   ],
   "source": [
    "import pandas as pd\n",
    "print( parcels['PM_DEEDCDT'].astype(str)[:4] )\n",
    "\n",
    "parcels['SaleDate'] = pd.to_datetime(\n",
    "    parcels['PM_DEEDCDT'], \n",
    "    errors='coerce', \n",
    "    format='%Y%m%d')\n",
    "\n",
    "\n"
   ]
  },
  {
   "cell_type": "code",
   "execution_count": 52,
   "id": "a9aa8268-4752-4ed8-bbdc-3fa9da2ae504",
   "metadata": {
    "tags": []
   },
   "outputs": [
    {
     "data": {
      "text/plain": [
       "0      2012-09-25\n",
       "1      2012-09-25\n",
       "2             NaT\n",
       "3      2019-08-15\n",
       "4      2019-08-15\n",
       "          ...    \n",
       "7389          NaT\n",
       "7390          NaT\n",
       "7391          NaT\n",
       "7392          NaT\n",
       "7393          NaT\n",
       "Name: SaleDate, Length: 7394, dtype: datetime64[ns]"
      ]
     },
     "execution_count": 52,
     "metadata": {},
     "output_type": "execute_result"
    }
   ],
   "source": [
    "parcels['SaleDate']"
   ]
  },
  {
   "cell_type": "code",
   "execution_count": 53,
   "id": "596b9caa-d2ba-4e79-9c36-ab5bb1d8ee5e",
   "metadata": {
    "tags": []
   },
   "outputs": [],
   "source": [
    "dates = parcels['PM_DEEDCDT'].to_numpy()\n",
    "yr = np.full( dates.shape, np.nan )\n",
    "\n",
    "for i in range(len(dates)):\n",
    "    if dates[i] > 0:\n",
    "        yr[i] = int( str(dates[i])[:4] )\n",
    "#         print(date)\n",
    "    else:\n",
    "        yr[i] = np.nan\n",
    "#     print(date)\n",
    "# np.datetime_as_string(parcels['SaleDate'])\n",
    "\n",
    "parcels['SaleYear'] = yr\n",
    "# parcels['SaleYear'] = parcels['SaleDate'].to_numpy().astype('M8[Y]')"
   ]
  },
  {
   "cell_type": "code",
   "execution_count": 67,
   "id": "0b191054-8968-468b-95fc-818168d3dd24",
   "metadata": {},
   "outputs": [
    {
     "data": {
      "image/png": "[encoded data removed]",
      "text/plain": [
       "<Figure size 432x288 with 1 Axes>"
      ]
     },
     "metadata": {
      "needs_background": "light"
     },
     "output_type": "display_data"
    }
   ],
   "source": [
    "bin_size = np.timedelta64(365, 'D')/12 # days\n",
    "fig, ax = plt.subplots()\n",
    "ax.hist(parcels['SaleDate'], bins=np.arange(np.datetime64('1990-01-01'), \n",
    "                                            np.datetime64('2022-01-01'), \n",
    "                                            bin_size ) )\n",
    "ylabel_text = 'Number of property sales in Moscow\\nper ' + str(bin_size.astype(int)) + ' days'\n",
    "ax.set_ylabel(ylabel_text)\n",
    "ax.set_xlim(np.datetime64('2000-01-01'), np.datetime64('2022-01-01') );\n",
    "# ax.set_xlim(np.datetime64('2010-12-15'), np.datetime64('2011-01-01') )\n",
    "\n",
    "# Note that the sales at the end of 2010 are anomalous, and are all recorded on the same day.\n",
    "# That's suspicious and Tim thinks that it must be some change in accounting or record keeping."
   ]
  },
  {
   "cell_type": "code",
   "execution_count": null,
   "id": "6ae57669-d893-4bd8-a383-5fad78cb210f",
   "metadata": {},
   "outputs": [],
   "source": []
  },
  {
   "cell_type": "code",
   "execution_count": null,
   "id": "df5c2292-b37c-4585-93c0-6013f65c3402",
   "metadata": {},
   "outputs": [],
   "source": []
  },
  {
   "cell_type": "code",
   "execution_count": null,
   "id": "476fb3c4-759b-4ea5-825d-05323f218e18",
   "metadata": {},
   "outputs": [],
   "source": []
  },
  {
   "cell_type": "code",
   "execution_count": null,
   "id": "e7f9710b-c7f9-4dbe-b39c-948cb3496430",
   "metadata": {},
   "outputs": [],
   "source": [
    "# parcels['SaleDate'].to_numpy().astype('M8[Y]')"
   ]
  },
  {
   "cell_type": "code",
   "execution_count": null,
   "id": "2056518f-1056-4bb0-abe8-fd4e8234fbba",
   "metadata": {},
   "outputs": [],
   "source": [
    "# [np.datetime64(i,'Y') for i in parcels['SaleYear'][:2]]\n"
   ]
  },
  {
   "cell_type": "code",
   "execution_count": null,
   "id": "eaafa7ce-91c8-4bc4-b801-3912be2718f6",
   "metadata": {
    "tags": []
   },
   "outputs": [],
   "source": [
    "parcels['SaleYear'][:2].astype('float64')"
   ]
  },
  {
   "cell_type": "code",
   "execution_count": null,
   "id": "39f2471e-5cb8-454c-9c6f-420d4e0894af",
   "metadata": {},
   "outputs": [],
   "source": []
  },
  {
   "cell_type": "code",
   "execution_count": null,
   "id": "ad2dffbb-5697-41ce-84a0-3a6b7f9d3538",
   "metadata": {},
   "outputs": [],
   "source": []
  },
  {
   "cell_type": "code",
   "execution_count": null,
   "id": "67470a2e-5b12-4e8d-9553-2f2779576483",
   "metadata": {},
   "outputs": [],
   "source": [
    "parks[1]"
   ]
  },
  {
   "cell_type": "code",
   "execution_count": null,
   "id": "7ce56df3-ba09-4ae1-a5ed-67c032f129b8",
   "metadata": {},
   "outputs": [],
   "source": [
    "buffer_radius = 1000\n",
    "\n",
    "for i in range( len(parks) ):\n",
    "\n",
    "    buffered_park = parks.iloc[i:i+1].buffer(buffer_radius) # Careful!  I'm not sure why this is, but geopandas requires a slice here, not a single index\n",
    "    # .buffer(buffer_radius) # Buffer in native dimensions, feet\n",
    "    overlapping_parcels = parcels.overlaps(buffered_park.geometry.to_numpy()[0]) \n",
    "    # buffered_park.plot()\n",
    "\n"
   ]
  },
  {
   "cell_type": "markdown",
   "id": "f7205e5e-a333-49db-9006-2471cf7b791b",
   "metadata": {},
   "source": [
    "<div class=\"alert alert-block alert-warning\">\n",
    "\n",
    "## Identifying Moscow residents underserved by city parks.\n",
    "You're an urban planner consulting with the City of Moscow.  The city is interested in increasing the number of parks\n",
    "    within the city, and better designing those parks to meet the needs of those who are currently underserved\n",
    "    by the city's existing parks.  The city wants to begin the planning process by reaching out to these currently\n",
    "    underserved residents, but first the city needs to know who they are.\n",
    "    \n",
    "The city asks you to produce a list of all resident addresses within the city limits whose property is at least 1000 feet\n",
    "    from a current park.\n",
    "    \n",
    "To properly address the letters and questionaires that the city will be sending out, the city would like this list\n",
    "    of residents as a csv file, with each property address on a separate line (property addresses are represented within\n",
    "    the parcels database by the field name \"PM_PROP_AD\").  Produce this file and a map of the underserved parcels.\n",
    "    \n",
    "\n",
    "\n",
    "</div>"
   ]
  },
  {
   "cell_type": "code",
   "execution_count": null,
   "id": "8aef442c-81fe-4552-a11d-1602560e10fb",
   "metadata": {},
   "outputs": [],
   "source": [
    "sum(overlapping_parcels)"
   ]
  },
  {
   "cell_type": "code",
   "execution_count": null,
   "id": "2b62216e-f518-4c05-9dc5-63d8bc44db60",
   "metadata": {},
   "outputs": [],
   "source": [
    "buffered_park.geometry.to_numpy()[0]"
   ]
  },
  {
   "cell_type": "code",
   "execution_count": 12,
   "id": "5dfbb270-4722-481d-9966-4c9724a725dc",
   "metadata": {},
   "outputs": [
    {
     "data": {
      "application/vnd.jupyter.widget-view+json": {
       "model_id": "17a4f4af548a40fbbbc265140850c984",
       "version_major": 2,
       "version_minor": 0
      },
      "text/plain": [
       "Canvas(toolbar=Toolbar(toolitems=[('Home', 'Reset original view', 'home', 'home'), ('Back', 'Back to previous …"
      ]
     },
     "metadata": {},
     "output_type": "display_data"
    },
    {
     "data": {
      "text/plain": [
       "(1837691.7277759165, 1858582.946164012)"
      ]
     },
     "execution_count": 12,
     "metadata": {},
     "output_type": "execute_result"
    }
   ],
   "source": [
    "%matplotlib widget\n",
    "\n",
    "fig, ax = plt.subplots()\n",
    "parks.buffer(1000).plot(ax=ax, color='g')\n",
    "# city_limits.plot(ax=ax, color=None, edgecolor='r')\n",
    "roads.plot(ax=ax)\n",
    "\n",
    "ax.set_xlim( city_limits.bounds.to_numpy()[0][::2] )\n",
    "ax.set_ylim( city_limits.bounds.to_numpy()[0][1::2] )"
   ]
  },
  {
   "cell_type": "code",
   "execution_count": null,
   "id": "f7632c0f-81a7-4f77-a82c-00343fdb8421",
   "metadata": {},
   "outputs": [],
   "source": [
    "parcels.centroid"
   ]
  },
  {
   "cell_type": "code",
   "execution_count": null,
   "id": "4ea3d8b2-6f0c-46f4-b8a1-89d69be35bc5",
   "metadata": {},
   "outputs": [],
   "source": []
  },
  {
   "cell_type": "code",
   "execution_count": null,
   "id": "63aaa816-6619-4b2c-aca1-2425ac636c95",
   "metadata": {},
   "outputs": [],
   "source": []
  },
  {
   "cell_type": "code",
   "execution_count": null,
   "id": "84e478e0-bb7e-422c-ba4a-96c43c3cc5aa",
   "metadata": {
    "tags": []
   },
   "outputs": [],
   "source": [
    "roads"
   ]
  },
  {
   "cell_type": "code",
   "execution_count": null,
   "id": "c868f1c6-c4d1-4f22-a07d-60e522dc9382",
   "metadata": {},
   "outputs": [],
   "source": [
    "zoning.columns"
   ]
  },
  {
   "cell_type": "code",
   "execution_count": null,
   "id": "b3bbe430-5a94-453e-a5a4-6421b573dbde",
   "metadata": {},
   "outputs": [],
   "source": [
    "from shapely.geometry import Polygon, LineString, Point\n",
    "parcels['Dwntn_dist'] = parcels.distance(Point(2.311e6, 1.85e6))"
   ]
  },
  {
   "cell_type": "code",
   "execution_count": null,
   "id": "632773b4-c74c-481c-aded-d2908413ac0a",
   "metadata": {},
   "outputs": [],
   "source": [
    "city_limits.bounds\n"
   ]
  },
  {
   "cell_type": "code",
   "execution_count": null,
   "id": "280d488a-d4db-44ed-babf-33b2488095b6",
   "metadata": {},
   "outputs": [],
   "source": [
    "parcels"
   ]
  },
  {
   "cell_type": "code",
   "execution_count": null,
   "id": "b7607691-1387-4e20-930d-cfa47e3992dd",
   "metadata": {
    "tags": []
   },
   "outputs": [],
   "source": [
    "%matplotlib widget\n",
    "fig, ax = plt.subplots( figsize=(8,8) )\n",
    "# parcels.plot(column='Val_per_foot', ax=ax, legend=True, vmax=200);\n",
    "# parcels.plot(column='PM_TOT_VAL', ax=ax, legend=True, vmax=400000);\n",
    "# parcels.plot(column='PM_IMP_VAL', ax=ax, legend=True, vmin=150000, vmax=600000);\n",
    "\n",
    "# parcels.plot(column='Dwntn_dist', ax=ax, legend=True, vmax=5280);\n",
    "zoning.plot(column='LANDUSECODE', ax=ax)\n",
    "\n",
    "# parcels.plot(column= 'SaleYear', ax=ax, legend=True, vmin=1990)\n",
    "\n",
    "ax.set_xlim( city_limits.bounds.to_numpy()[0][::2] )\n",
    "ax.set_ylim( city_limits.bounds.to_numpy()[0][1::2] )\n",
    "\n",
    "roads.plot(ax=ax, color='gray')"
   ]
  },
  {
   "cell_type": "code",
   "execution_count": null,
   "id": "7f62054d-5610-4398-900d-f6da714c3116",
   "metadata": {},
   "outputs": [],
   "source": [
    "city_limits.bounds\n",
    "# ax.set_xlim( city_limits.bounds.to_numpy()[0][:] )\n",
    "city_limits.bounds.to_numpy()[0][:]\n"
   ]
  },
  {
   "cell_type": "markdown",
   "id": "a1ff24b8-a2e9-4be6-b71b-cc56543c6bd6",
   "metadata": {},
   "source": [
    "<div class=\"alert alert-block alert-warning\">\n",
    "\n",
    "### How long ago did 50% of the properties change hands?\n",
    "As in, fill in the blank: \"Half of properties in the Moscow area have been sold within _____ years.\"\n",
    "</div>"
   ]
  },
  {
   "cell_type": "code",
   "execution_count": null,
   "id": "c8a1c618-b450-4c92-aab3-ee5383a978e7",
   "metadata": {},
   "outputs": [],
   "source": []
  },
  {
   "cell_type": "markdown",
   "id": "38c893b8-ffb6-4e1d-8086-58550738aae1",
   "metadata": {},
   "source": [
    "<div class=\"alert alert-block alert-warning\">\n",
    "\n",
    "### Investing in downtown property\n",
    "You are the GIS consultant for a property investment company that specializes in\n",
    "downtown and higher-density properties.  Your company is considering Moscow real estate.\n",
    "You've heard about the boom in sales within the city, and your company would like to know how competitive\n",
    "property purchasing will be, or if they will be able to drive a hard bargin.\n",
    "\n",
    "Has the downtown property market heated up as much as the city as a whole?\n",
    "Compare sale rates within the \"Urban Commercial\" zoned regions and \n",
    "\"Urban Residential, Medium Density\" zoned regions with those of the city as a whole.\n",
    "    \n",
    "Is there anything else in these data that you would like to share with your colleagues\n",
    "    that could help advise them as you consider this investment?\n",
    "</div>"
   ]
  },
  {
   "cell_type": "code",
   "execution_count": null,
   "id": "05af443a-5298-4f8d-bc5c-bab21766867f",
   "metadata": {},
   "outputs": [],
   "source": []
  },
  {
   "cell_type": "code",
   "execution_count": null,
   "id": "e34fd39b-2937-4ebf-864c-3e44e4ca9547",
   "metadata": {},
   "outputs": [],
   "source": [
    "fig, ax = plt.subplots()\n",
    "ax.hist(parcels['Val_per_foot'].to_numpy(), bins=np.arange(0, 200, 10) )\n"
   ]
  },
  {
   "cell_type": "markdown",
   "id": "ace97372-6cee-4ffd-9efa-8dd0a927a30d",
   "metadata": {},
   "source": [
    "<div class=\"alert alert-block alert-warning\">\n",
    "\n",
    "### Find, plot, work with data\n",
    "Find a spatial, vector dataset either online (by googling, from another class, or from a research project of yours), \n",
    "download or copy it into the current directory, plot it,\n",
    "and use geopandas to draw on the attributes of that data (even just lengths, areas, etc) and tell me something about that data.\n",
    "</div>"
   ]
  },
  {
   "cell_type": "code",
   "execution_count": null,
   "id": "9aa5b7c7-cb2a-4b03-9d06-5ad1087b4a7e",
   "metadata": {},
   "outputs": [],
   "source": []
  },
  {
   "cell_type": "markdown",
   "id": "3d295c80-afe1-41ca-a689-e67c9b7edb79",
   "metadata": {},
   "source": [
    "### Bandit violating parole?"
   ]
  },
  {
   "cell_type": "code",
   "execution_count": null,
   "id": "36308327-5753-4e9b-94a1-14c72fffb926",
   "metadata": {},
   "outputs": [],
   "source": []
  },
  {
   "cell_type": "markdown",
   "id": "45449be5-198d-4ec8-bc8b-012f41471fc2",
   "metadata": {},
   "source": [
    "### Auto-transform the CRS? - good for functions"
   ]
  },
  {
   "cell_type": "code",
   "execution_count": null,
   "id": "847e31b2-776c-4ca1-8c7a-dfcbcaa2f2a4",
   "metadata": {},
   "outputs": [],
   "source": []
  },
  {
   "cell_type": "markdown",
   "id": "54213203-a7af-4cf2-ac5a-57e4a306d877",
   "metadata": {},
   "source": [
    "### Parcels close to schools and parks?"
   ]
  },
  {
   "cell_type": "code",
   "execution_count": null,
   "id": "19652754-ae6d-453d-ae5a-9cea460275a2",
   "metadata": {},
   "outputs": [],
   "source": []
  },
  {
   "cell_type": "code",
   "execution_count": null,
   "id": "d5be55cd-b346-4ac2-ad56-b9afc99dc105",
   "metadata": {},
   "outputs": [],
   "source": []
  },
  {
   "cell_type": "raw",
   "id": "5a8f8fe8-b4cc-48c3-9fc3-487128f677a3",
   "metadata": {},
   "source": [
    "# Assignment for week 04\n",
    "Vector Intro, Geopandas, CRS, Projections\n",
    "\n",
    "## Reading and Tutorials \n",
    "Inspired/following assignment from Dave Shean (https://github.com/UW-GDA/gda_course_2021/blob/master/modules/04_Vector1_Geopandas_CRS_Proj/)\n",
    "\n",
    "\n",
    "## Overview\n",
    "This week, we are going to cover several fundamental geospatial data concepts, including coordinate systems, projections/transformations, vector geometries (points, lines, polygons) and basic geometry operations (intersect, buffer, etc). We will also begin using the GeoPandas package (https://geopandas.readthedocs.io/en/latest/).\n"
   ]
  },
  {
   "cell_type": "code",
   "execution_count": null,
   "id": "cb827de0-2095-41a5-9fd6-01cc141e2c1a",
   "metadata": {},
   "outputs": [],
   "source": [
    "\n",
    "\n"
   ]
  }
 ],
 "metadata": {
  "kernelspec": {
   "display_name": "Python [conda env:GISenv21b] *",
   "language": "python",
   "name": "conda-env-GISenv21b-py"
  },
  "language_info": {
   "codemirror_mode": {
    "name": "ipython",
    "version": 3
   },
   "file_extension": ".py",
   "mimetype": "text/x-python",
   "name": "python",
   "nbconvert_exporter": "python",
   "pygments_lexer": "ipython3",
   "version": "3.9.6"
  }
 },
 "nbformat": 4,
 "nbformat_minor": 5
}

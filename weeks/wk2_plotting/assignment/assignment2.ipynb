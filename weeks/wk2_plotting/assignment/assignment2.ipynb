{
 "cells": [
  {
   "cell_type": "markdown",
   "id": "43058c75-e24d-4dc1-9e92-b237c62ab0ed",
   "metadata": {},
   "source": [
    "# Assignment for week 02\n",
    "\n",
    "## Reading and Tutorials \n",
    "Inspired/following assignment from Dave Shean (https://github.com/UW-GDA/gda_course_2021/tree/master/modules/03_NumPy_Pandas_Matplotlib)\n",
    "\n",
    "This week we are reviewing core Python modules: NumPy, Pandas, and Matplotlib. These are essential for the rest of the course and future data science endeavors (geospatial and otherwise). Most of the geospatial modules we use are built on these packages, so you must be comfortable with the underlying functionality. This review will ensure that we have a common baseline and set of references moving forward. **If you are relatively new to Python and these modules, it is critical that you spend extra time with self-study this week.** \n",
    "\n",
    "Again, this is intended to be an individual study. Tailor to your needs, and adjust emphasis so you are best using your time outside of class. Even if you’ve been using these tools for many years, it can still valuable to review, as you will inevitably learn (or re-learn) some new tricks and develop a better grasp of more complex concepts. \n",
    "\n",
    "As with the previous homework assignments, don’t wait until Thursday morning to start.  This material will be much more useful if broken up over several sessions throughout the week - try an hour or two a day. Again, if this is new, please dedicate the time to explore interactively, don't just skim rendered versions on the web.\n",
    "\n",
    "### Python Data Science Handbook: NumPy, Pandas and Matplotlib (~2-6 hours)\n",
    "* Review the following sections of Jake Vanderplas’ “Python Data Science Handbook”\n",
    "https://jakevdp.github.io/PythonDataScienceHandbook/. Follow the same process of `git cloning` that you've done previously. Get through what you can, but if you're feeling overwhelmed or pressed for time, try to at least work through the first half of each section, which should cover most basic functionality.  \n",
    "   * **2. Introduction to NumPy**\n",
    "      * Can skip section on Structured Arrays (we'll use Pandas)\n",
    "   * **3. Data Manipulation with Pandas**\n",
    "      * If new to Pandas, can skip section on Hierarchical Indexing, Pivot Tables and High-performance Pandas\n",
    "   * **4. Visualization with Matplotlib**  \n",
    "      * Skip the section on \"Geographic Data with Basemap\" as this is largely outdated in 2021\n",
    "      * Can skip Customizing Matplotlib: Configurations and Stylesheets\n",
    "* Work through some of the interactive examples, and explore new concepts (don't just shift-Enter as quickly as possible)\n",
    "* The section on Machine Learning with Scikit-Learn is also great, but not required for this course\n",
    "\n",
    "### (Optional) Matplotlib Doc\n",
    "* https://matplotlib.org/3.1.1/tutorials/introductory/usage.html\n",
    "   * Can skip the \"interactive\" mode\n",
    "* https://github.com/matplotlib/cheatsheets\n",
    "\n",
    "## Other Resources\n",
    "* Feel free to search for \"learn NumPy\" or \"learn Pandas\" as there are many excellent resources on the web\n",
    "* Below are the \"quickstart\" versions offered by each project:\n",
    "  * https://numpy.org/doc/stable/user/quickstart.html\n",
    "  * https://pandas.pydata.org/pandas-docs/stable/user_guide/10min.html\n",
    "  * https://pandas.pydata.org/Pandas_Cheat_Sheet.pdf\n",
    "  * https://matplotlib.org/tutorials/introductory/pyplot.html\n"
   ]
  },
  {
   "cell_type": "code",
   "execution_count": null,
   "id": "9777536b-33e6-462b-a9bd-9b36bf41f6a4",
   "metadata": {},
   "outputs": [],
   "source": [
    "import numpy as np"
   ]
  },
  {
   "cell_type": "markdown",
   "id": "1e979d19-3709-4f17-b680-75aeb8dc95ce",
   "metadata": {
    "tags": []
   },
   "source": [
    "## Problem 1: Identifying leap years\n",
    "In the Gregorian calendar, a year is a _leap year_ if it is divisible by 4,\n",
    "with the exception that years divisible by 100 are _not_ leap years unless they are\n",
    "also divisible by 400.\n",
    "\n",
    "#### Write a Python program that determines if `year` is a leap year.\n",
    "\n",
    "For this exercise, you'll find the Python modulo operator useful.\n",
    "This operator, `%` in python, returns the remainder of division.\n",
    "``` python\n",
    "3 % 4 = 3\n",
    "11 % 5 = 1\n",
    "```"
   ]
  },
  {
   "cell_type": "code",
   "execution_count": null,
   "id": "ed95fb33-4bb7-4c78-b29a-909d99544a9c",
   "metadata": {},
   "outputs": [],
   "source": [
    "year = 2021 # here, I'm starting with one example of a year, but you should test your code with any number of different years."
   ]
  },
  {
   "cell_type": "code",
   "execution_count": null,
   "id": "237d40da-a1fa-4d77-8472-18ec81c7f8ae",
   "metadata": {},
   "outputs": [],
   "source": []
  },
  {
   "cell_type": "markdown",
   "id": "a5e4a09d-51ea-44d1-9d4e-4db39d789ae8",
   "metadata": {},
   "source": [
    "## Pandas for tabular data and Matplotlib for plotting"
   ]
  },
  {
   "cell_type": "markdown",
   "id": "06006a11-d4b3-4fae-897a-2f8ed1e253f2",
   "metadata": {},
   "source": [
    "Below is a line overlying a DEM of the northwestern region.\n",
    "The elevations approximately along the location of this line are shown in the csv file `NW_elev_profile.csv`\n",
    "\n",
    "This profile starts in the Pacific Ocean, passes near Mt. St. Helens and Mt. Adams, \n",
    "crosses the Columbia Plateau, the Palouse near Moscow, the Bitterroot Mountains, and then the Little Belt Mountains of Montana.\n",
    "![Topographic profile through the US Northwest](../profile_location.png \"Profile location\")"
   ]
  },
  {
   "cell_type": "code",
   "execution_count": null,
   "id": "b26b754a-af71-4d91-bf4f-3b7c73057c41",
   "metadata": {},
   "outputs": [],
   "source": [
    "import pandas as pd\n",
    "import matplotlib.pyplot as plt\n",
    "df = pd.read_csv('NW_elev_profile.csv')\n",
    "df"
   ]
  },
  {
   "cell_type": "code",
   "execution_count": null,
   "id": "90c4423a-918d-490a-9f18-14fead7cfaa0",
   "metadata": {},
   "outputs": [],
   "source": [
    "df.describe()"
   ]
  },
  {
   "cell_type": "markdown",
   "id": "8c096822-cb3a-4511-824f-f518f840236f",
   "metadata": {},
   "source": [
    "#### At about what degree of latitude does this line pass?"
   ]
  },
  {
   "cell_type": "code",
   "execution_count": null,
   "id": "17b7af35-b523-4aff-9920-a39437629593",
   "metadata": {},
   "outputs": [],
   "source": []
  },
  {
   "cell_type": "code",
   "execution_count": null,
   "id": "fad49c09-32ea-4bb9-ada5-4a20e5cc9fe6",
   "metadata": {},
   "outputs": [],
   "source": [
    "df.dtypes"
   ]
  },
  {
   "cell_type": "code",
   "execution_count": null,
   "id": "659e300c-66b2-4f95-ad92-323429b62eae",
   "metadata": {},
   "outputs": [],
   "source": [
    "dist = df['Distance (m)'].to_numpy() # m\n",
    "elev = df['Elevation (m)'].to_numpy() # m"
   ]
  },
  {
   "cell_type": "code",
   "execution_count": null,
   "id": "06bd4df5-28fc-4032-92dc-2c71b8895762",
   "metadata": {},
   "outputs": [],
   "source": [
    "%matplotlib inline\n",
    "fig, ax = plt.subplots()\n",
    "\n",
    "ax.plot(dist, elev)\n",
    "ax.set_xlabel('dist')\n",
    "ax.set_title('a plot title')"
   ]
  },
  {
   "cell_type": "markdown",
   "id": "3c0b9754-f0bd-42d5-a506-c77b84faed59",
   "metadata": {},
   "source": [
    "#### Improve on the plot above by using more methods of the `ax` object to modify the axes of the figure and its labels.\n",
    "Recall the general guidance for nice plots:\n",
    "- Both axes have labels\n",
    "- The units of the quantities being plotted are identified (in SI, not imperial units)\n",
    "- The plot has a title\n",
    "- If multiple groupings or types of data are plotted together, then the plot has a legend to identify which is which\n",
    "- The fonts on the plot have sufficient size and with sizes that are proportional to their value or importance.\n",
    "- The figure will ideally be understandable when printed in black and white.\n",
    "- Color can be aesthetic, but must also convey meaning.  Color, or any other plot elements, should not distract from the meaning of your plot.\n",
    "\n",
    "\n",
    "\n",
    "#### Also, use the matplotlib text() function to add annotations to the plot identifying mountain ranges and valleys\n",
    "See https://matplotlib.org/stable/api/_as_gen/matplotlib.pyplot.text.html"
   ]
  },
  {
   "cell_type": "code",
   "execution_count": null,
   "id": "c0775f14-afc5-4518-be9c-ae93a5139d71",
   "metadata": {},
   "outputs": [],
   "source": []
  },
  {
   "cell_type": "markdown",
   "id": "452727c0-0545-405a-a325-37b64516250e",
   "metadata": {},
   "source": [
    "Recall that slope can be described as a \"rise over run\", \n",
    "in which case the units are a dimensionless ratio (that could also be described as a percent slope).\n",
    "In this case, a landform slope that is 10 degrees has a slope of 0.18, or 18%.\n",
    "\n",
    "This \"rise over run\" can be practically calculated as a change in elevation divided by a \n",
    "change in position (or distance).  So that the $\\textrm{slope} = \\frac{\\Delta z}{\\Delta x}$,\n",
    "where $z$ is the elevation and $x$ is the position.\n",
    "\n",
    "The Columbia River is at about 2900th value within the csv dataset.\n",
    "#### What is the distance between this location along the profile and the location at the 3000th value of the dataset?\n",
    "#### What is the elevation difference between the Columbia River and the 3000th value?"
   ]
  },
  {
   "cell_type": "code",
   "execution_count": null,
   "id": "3be58e7c-96d0-4b5e-b9a3-2ac307cce4a1",
   "metadata": {},
   "outputs": [],
   "source": []
  },
  {
   "cell_type": "markdown",
   "id": "0c59666b-56c0-4d50-a73b-c858fe9d49a3",
   "metadata": {},
   "source": [
    "What does the function `np.diff()` do?  What is the typical horizontal resolution of this elevation profile?"
   ]
  },
  {
   "cell_type": "code",
   "execution_count": null,
   "id": "5ed7bce4-21fa-4d7f-af79-abdbaadefc82",
   "metadata": {},
   "outputs": [],
   "source": []
  },
  {
   "cell_type": "markdown",
   "id": "6d30b5c7-2e71-4487-b132-0646c6fcd156",
   "metadata": {},
   "source": [
    "#### Calculate the topographic slopes as a function of distance along the profile.  Plot these slopes as a secondary y-axis on a plot of the elevations\n",
    "See https://www.google.com/search?q=matplotlib+plot+two+y+axes"
   ]
  },
  {
   "cell_type": "code",
   "execution_count": null,
   "id": "98f806ae-7f1d-4527-beb4-896a98dca63c",
   "metadata": {},
   "outputs": [],
   "source": [
    "%matplotlib inline\n",
    "fig, ax = plt.subplots()\n",
    "\n",
    "ax.plot(dist, elev)\n",
    "ax.set_xlabel('dist')\n",
    "ax.set_title('a plot title')\n",
    "ax2 = ax.twinx()\n",
    "ax2.plot(dist[3:-2], np.abs( (elev[:-5] - elev[5:])/1510 ), 'C01')"
   ]
  },
  {
   "cell_type": "markdown",
   "id": "f1e8232c-580b-4f79-a341-48860c55ead2",
   "metadata": {},
   "source": [
    "#### Bonus: calculate the slopes over different _windows_ to better capture the broad trends versus the details of each mountain side?\n",
    "If you calculate the slopes over 10 km windows, what does that look like?\n",
    "\n",
    "Are there are any locations where the slopes are not particularly steep, but the elevations are high?  Where?\n",
    "\n",
    "Scatterplot the slope vs. the elevation"
   ]
  },
  {
   "cell_type": "markdown",
   "id": "1de02daa-09c9-4c2c-8404-b01b19fe7403",
   "metadata": {},
   "source": [
    "## Problem 3: Census Apportionment\n",
    "The 2020 census data is being released, so we now have an amazing wealth of geospatial data to work with.\n",
    "This problem works with state and regional population and its changes since 1910.  This data is especially important\n",
    "because it dictates which states gain and lose Representatives in the House of Representatives\n",
    "(https://www.census.gov/library/visualizations/2021/dec/2020-apportionment-map.html).\n",
    "\n",
    "Data downloaded Sept 11, 2021 from https://www.census.gov/data/tables/time-series/dec/popchange-data-text.html"
   ]
  },
  {
   "cell_type": "code",
   "execution_count": null,
   "id": "a921b28a-2b6c-4077-a248-17d8896f56ce",
   "metadata": {},
   "outputs": [],
   "source": [
    "data = pd.read_csv('assignment/apportionment.csv', thousands=',')\n",
    "    # Note, I needed to use the `thousands` argument for the data file, because there were commas in the \"Resident Population\" field"
   ]
  },
  {
   "cell_type": "code",
   "execution_count": null,
   "id": "bc963ffc-9f33-4c5f-800b-e687ad854f3d",
   "metadata": {},
   "outputs": [],
   "source": [
    "data.head()"
   ]
  },
  {
   "cell_type": "code",
   "execution_count": null,
   "id": "84347675-1de2-4038-b022-6ba51eca5af1",
   "metadata": {},
   "outputs": [],
   "source": [
    "data.tail()"
   ]
  },
  {
   "cell_type": "code",
   "execution_count": null,
   "id": "792fe1c4-789f-43f7-9dd5-3c938a6ef95f",
   "metadata": {},
   "outputs": [],
   "source": [
    "data.describe()"
   ]
  },
  {
   "cell_type": "code",
   "execution_count": null,
   "id": "0b1a3dc2-ddd0-4bf0-805a-98c96fc29df6",
   "metadata": {},
   "outputs": [],
   "source": [
    "data.iloc[682]\n",
    "data.loc[682]"
   ]
  },
  {
   "cell_type": "markdown",
   "id": "4f4fc383-04b9-4eee-b2a4-4d646aee30df",
   "metadata": {},
   "source": [
    "We can use what's known as \"boolean indexing\" to identify those indices that match a certain criteria."
   ]
  },
  {
   "cell_type": "code",
   "execution_count": null,
   "id": "304775cf-b17c-48e9-a244-417dd30045e1",
   "metadata": {},
   "outputs": [],
   "source": [
    "print(data['Name'] == 'West Region')\n",
    "selected = data['Name'] == 'West Region' # Create a boolean record of the indices that match our criteria\n",
    "\n",
    "print(sum(selected)) # Sums up all the booleans, as though True was 1, and False was 0.\n",
    "    # This reveals there are 12 records that match our criteria\n",
    "    \n",
    "idx = np.where(selected) # The function np.where() is a very powerful and useful function that returns the\n",
    "                            # indices where a boolean value is true.\n",
    "                            # Here, I am creating a variable of indices where a criteria defined above is met."
   ]
  },
  {
   "cell_type": "code",
   "execution_count": null,
   "id": "a5bc5119-0b9e-49cd-ae0b-0fe19b27e1c1",
   "metadata": {},
   "outputs": [],
   "source": [
    "data.iloc[idx] # .iloc is used to identify entries of a dataframe based on their indices, so is perfectly suited for our variable idx."
   ]
  },
  {
   "cell_type": "code",
   "execution_count": null,
   "id": "b3728b6e-8bfd-4202-b787-efa6f8b3b321",
   "metadata": {},
   "outputs": [],
   "source": [
    "plt.plot(data.iloc[idx]['Year'], data.iloc[idx]['Resident Population'])"
   ]
  },
  {
   "cell_type": "markdown",
   "id": "2055d82c-f486-480d-ba6c-e88a277cf2d7",
   "metadata": {},
   "source": [
    "### In 2020, which state had the lowest population density?"
   ]
  },
  {
   "cell_type": "code",
   "execution_count": null,
   "id": "3231ec57-078b-4e37-81ae-7ffc4ed4b115",
   "metadata": {},
   "outputs": [],
   "source": []
  },
  {
   "cell_type": "markdown",
   "id": "968f470f-a623-4d76-bf4f-1c6953f365db",
   "metadata": {},
   "source": [
    "### Plot the population of each region, as a function of time\n",
    "Do so without just making 4 nearly-identical calls to `plot`"
   ]
  },
  {
   "cell_type": "code",
   "execution_count": null,
   "id": "807789a6-683d-4838-ae9d-100216ee6bb7",
   "metadata": {},
   "outputs": [],
   "source": []
  },
  {
   "cell_type": "markdown",
   "id": "618a7c32-4657-49bc-bed5-3cdad1cae498",
   "metadata": {},
   "source": [
    "### Identifying the most and least represented state residents\n",
    "The field \"Average Apportionment Population Per Representative\" identifies the average number of state residents\n",
    "that is represented by a single Representative.  Sort the states according to their rank following the 2020 census,\n",
    "starting with the state with the greatest representation per resident and ending with the state whose residents are\n",
    "least represented in the House of Representatives"
   ]
  },
  {
   "cell_type": "code",
   "execution_count": null,
   "id": "b20e972a-28e9-4b6d-8370-29e640789ab5",
   "metadata": {},
   "outputs": [],
   "source": []
  },
  {
   "cell_type": "code",
   "execution_count": null,
   "id": "8ea12c8f-b791-4431-bb7c-2803e63f5afd",
   "metadata": {},
   "outputs": [],
   "source": []
  },
  {
   "cell_type": "markdown",
   "id": "06f06011-8030-453d-8554-e5972e1ebccf",
   "metadata": {},
   "source": [
    "### Extra Credit\n",
    "Create a plot that shows the proportion of Representatives for the different regions as a function of time.  I'm picturing something using a \"stackplot\", as in https://matplotlib.org/stable/gallery/lines_bars_and_markers/stackplot_demo.html#sphx-glr-gallery-lines-bars-and-markers-stackplot-demo-py"
   ]
  },
  {
   "cell_type": "code",
   "execution_count": null,
   "id": "106f1c7f-9204-438f-8489-0f56db553457",
   "metadata": {},
   "outputs": [],
   "source": []
  },
  {
   "cell_type": "markdown",
   "id": "14a8f07e-3d6b-428f-a51b-0885da5cb274",
   "metadata": {},
   "source": [
    "In each decade what state, and what region, experienced the greatest amount of overall growth, and the greatest amount of growth as a percent of its prior population?"
   ]
  },
  {
   "cell_type": "code",
   "execution_count": null,
   "id": "835e0e28-ab0a-4269-9046-575720a2a58c",
   "metadata": {},
   "outputs": [],
   "source": []
  },
  {
   "cell_type": "code",
   "execution_count": null,
   "id": "5b2031e5-3f07-40bc-8da3-cc19702fc704",
   "metadata": {},
   "outputs": [],
   "source": []
  }
 ],
 "metadata": {
  "kernelspec": {
   "display_name": "Python [conda env:GISenv21b] *",
   "language": "python",
   "name": "conda-env-GISenv21b-py"
  },
  "language_info": {
   "codemirror_mode": {
    "name": "ipython",
    "version": 3
   },
   "file_extension": ".py",
   "mimetype": "text/x-python",
   "name": "python",
   "nbconvert_exporter": "python",
   "pygments_lexer": "ipython3",
   "version": "3.9.6"
  }
 },
 "nbformat": 4,
 "nbformat_minor": 5
}

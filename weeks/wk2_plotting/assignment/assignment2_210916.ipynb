{
 "cells": [
  {
   "cell_type": "markdown",
   "id": "43058c75-e24d-4dc1-9e92-b237c62ab0ed",
   "metadata": {},
   "source": [
    "# Assignment for week 02\n",
    "\n",
    "## Reading and Tutorials \n",
    "Inspired/following assignment from Dave Shean (https://github.com/UW-GDA/gda_course_2021/tree/master/modules/03_NumPy_Pandas_Matplotlib)\n",
    "\n",
    "This week we are reviewing core Python modules: NumPy, Pandas, and Matplotlib. These are essential for the rest of the course and future data science endeavors (geospatial and otherwise). Most of the geospatial modules we use are built on these packages, so you must be comfortable with the underlying functionality. This review will ensure that we have a common baseline and set of references moving forward. **If you are relatively new to Python and these modules, it is critical that you spend extra time with self-study this week.** \n",
    "\n",
    "Again, this is intended to be an individual study. Tailor to your needs, and adjust emphasis so you are best using your time outside of class. Even if you’ve been using these tools for many years, it can still valuable to review, as you will inevitably learn (or re-learn) some new tricks and develop a better grasp of more complex concepts. \n",
    "\n",
    "As with the previous homework assignments, don’t wait until Thursday morning to start.  This material will be much more useful if broken up over several sessions throughout the week - try an hour or two a day. Again, if this is new, please dedicate the time to explore interactively, don't just skim rendered versions on the web.\n",
    "\n",
    "### Python Data Science Handbook: NumPy, Pandas and Matplotlib (~2-6 hours)\n",
    "* Review the following sections of Jake Vanderplas’ “Python Data Science Handbook”\n",
    "https://jakevdp.github.io/PythonDataScienceHandbook/. Follow the same process of `git cloning` that you've done previously. Get through what you can, but if you're feeling overwhelmed or pressed for time, try to at least work through the first half of each section, which should cover most basic functionality.  \n",
    "   * **2. Introduction to NumPy**\n",
    "      * Can skip section on Structured Arrays (we'll use Pandas)\n",
    "   * **3. Data Manipulation with Pandas**\n",
    "      * If new to Pandas, can skip section on Hierarchical Indexing, Pivot Tables and High-performance Pandas\n",
    "   * **4. Visualization with Matplotlib**  \n",
    "      * Skip the section on \"Geographic Data with Basemap\" as this is largely outdated in 2021\n",
    "      * Can skip Customizing Matplotlib: Configurations and Stylesheets\n",
    "* Work through some of the interactive examples, and explore new concepts (don't just shift-Enter as quickly as possible)\n",
    "* The section on Machine Learning with Scikit-Learn is also great, but not required for this course\n",
    "\n",
    "### (Optional) Matplotlib Doc\n",
    "* https://matplotlib.org/3.1.1/tutorials/introductory/usage.html\n",
    "   * Can skip the \"interactive\" mode\n",
    "* https://github.com/matplotlib/cheatsheets\n",
    "\n",
    "## Other Resources\n",
    "* Feel free to search for \"learn NumPy\" or \"learn Pandas\" as there are many excellent resources on the web\n",
    "* Below are the \"quickstart\" versions offered by each project:\n",
    "  * https://numpy.org/doc/stable/user/quickstart.html\n",
    "  * https://pandas.pydata.org/pandas-docs/stable/user_guide/10min.html\n",
    "  * https://pandas.pydata.org/Pandas_Cheat_Sheet.pdf\n",
    "  * https://matplotlib.org/tutorials/introductory/pyplot.html\n"
   ]
  },
  {
   "cell_type": "code",
   "execution_count": 2,
   "id": "9777536b-33e6-462b-a9bd-9b36bf41f6a4",
   "metadata": {},
   "outputs": [],
   "source": [
    "import numpy as np"
   ]
  },
  {
   "cell_type": "markdown",
   "id": "1e979d19-3709-4f17-b680-75aeb8dc95ce",
   "metadata": {
    "tags": []
   },
   "source": [
    "## Problem 1: Identifying leap years\n",
    "In the Gregorian calendar, a year is a _leap year_ if it is divisible by 4,\n",
    "with the exception that years divisible by 100 are _not_ leap years unless they are\n",
    "also divisible by 400.\n",
    "\n",
    "#### Write a Python program that determines if `year` is a leap year.\n",
    "\n",
    "For this exercise, you'll find the Python modulo operator useful.\n",
    "This operator, `%` in python, returns the remainder of division.\n",
    "``` python\n",
    "3 % 4 = 3\n",
    "11 % 5 = 1\n",
    "```"
   ]
  },
  {
   "cell_type": "code",
   "execution_count": 3,
   "id": "ed95fb33-4bb7-4c78-b29a-909d99544a9c",
   "metadata": {},
   "outputs": [],
   "source": [
    "year = 2021 # here, I'm starting with one example of a year, but you should test your code with any number of different years."
   ]
  },
  {
   "cell_type": "code",
   "execution_count": null,
   "id": "237d40da-a1fa-4d77-8472-18ec81c7f8ae",
   "metadata": {},
   "outputs": [],
   "source": []
  },
  {
   "cell_type": "markdown",
   "id": "a5e4a09d-51ea-44d1-9d4e-4db39d789ae8",
   "metadata": {},
   "source": [
    "## Pandas for tabular data and Matplotlib for plotting"
   ]
  },
  {
   "cell_type": "markdown",
   "id": "06006a11-d4b3-4fae-897a-2f8ed1e253f2",
   "metadata": {},
   "source": [
    "Below is a line overlying a DEM of the northwestern region.\n",
    "The elevations approximately along the location of this line are shown in the csv file `NW_elev_profile.csv`\n",
    "\n",
    "This profile starts in the Pacific Ocean, passes near Mt. St. Helens and Mt. Adams, \n",
    "crosses the Columbia Plateau, the Palouse near Moscow, the Bitterroot Mountains, and then the Little Belt Mountains of Montana.\n",
    "![Topographic profile through the US Northwest](../profile_location.png \"Profile location\")"
   ]
  },
  {
   "cell_type": "code",
   "execution_count": 4,
   "id": "b26b754a-af71-4d91-bf4f-3b7c73057c41",
   "metadata": {},
   "outputs": [
    {
     "data": {
      "text/html": [
       "<div>\n",
       "<style scoped>\n",
       "    .dataframe tbody tr th:only-of-type {\n",
       "        vertical-align: middle;\n",
       "    }\n",
       "\n",
       "    .dataframe tbody tr th {\n",
       "        vertical-align: top;\n",
       "    }\n",
       "\n",
       "    .dataframe thead th {\n",
       "        text-align: right;\n",
       "    }\n",
       "</style>\n",
       "<table border=\"1\" class=\"dataframe\">\n",
       "  <thead>\n",
       "    <tr style=\"text-align: right;\">\n",
       "      <th></th>\n",
       "      <th>Distance (m)</th>\n",
       "      <th>Longitude (deg)</th>\n",
       "      <th>Latitude (deg)</th>\n",
       "      <th>Elevation (m)</th>\n",
       "    </tr>\n",
       "  </thead>\n",
       "  <tbody>\n",
       "    <tr>\n",
       "      <th>0</th>\n",
       "      <td>0.000000e+00</td>\n",
       "      <td>-124.754693</td>\n",
       "      <td>45.919424</td>\n",
       "      <td>0</td>\n",
       "    </tr>\n",
       "    <tr>\n",
       "      <th>1</th>\n",
       "      <td>1.513149e+02</td>\n",
       "      <td>-124.752609</td>\n",
       "      <td>45.919508</td>\n",
       "      <td>0</td>\n",
       "    </tr>\n",
       "    <tr>\n",
       "      <th>2</th>\n",
       "      <td>3.026298e+02</td>\n",
       "      <td>-124.750526</td>\n",
       "      <td>45.919591</td>\n",
       "      <td>0</td>\n",
       "    </tr>\n",
       "    <tr>\n",
       "      <th>3</th>\n",
       "      <td>4.539447e+02</td>\n",
       "      <td>-124.748442</td>\n",
       "      <td>45.919674</td>\n",
       "      <td>0</td>\n",
       "    </tr>\n",
       "    <tr>\n",
       "      <th>4</th>\n",
       "      <td>6.052596e+02</td>\n",
       "      <td>-124.746359</td>\n",
       "      <td>45.919758</td>\n",
       "      <td>0</td>\n",
       "    </tr>\n",
       "    <tr>\n",
       "      <th>...</th>\n",
       "      <td>...</td>\n",
       "      <td>...</td>\n",
       "      <td>...</td>\n",
       "      <td>...</td>\n",
       "    </tr>\n",
       "    <tr>\n",
       "      <th>9426</th>\n",
       "      <td>1.426294e+06</td>\n",
       "      <td>-105.116006</td>\n",
       "      <td>46.705287</td>\n",
       "      <td>747</td>\n",
       "    </tr>\n",
       "    <tr>\n",
       "      <th>9427</th>\n",
       "      <td>1.426446e+06</td>\n",
       "      <td>-105.113922</td>\n",
       "      <td>46.705370</td>\n",
       "      <td>746</td>\n",
       "    </tr>\n",
       "    <tr>\n",
       "      <th>9428</th>\n",
       "      <td>1.426597e+06</td>\n",
       "      <td>-105.111839</td>\n",
       "      <td>46.705453</td>\n",
       "      <td>745</td>\n",
       "    </tr>\n",
       "    <tr>\n",
       "      <th>9429</th>\n",
       "      <td>1.426748e+06</td>\n",
       "      <td>-105.109755</td>\n",
       "      <td>46.705537</td>\n",
       "      <td>746</td>\n",
       "    </tr>\n",
       "    <tr>\n",
       "      <th>9430</th>\n",
       "      <td>1.426748e+06</td>\n",
       "      <td>-105.109755</td>\n",
       "      <td>46.705537</td>\n",
       "      <td>746</td>\n",
       "    </tr>\n",
       "  </tbody>\n",
       "</table>\n",
       "<p>9431 rows × 4 columns</p>\n",
       "</div>"
      ],
      "text/plain": [
       "      Distance (m)  Longitude (deg)  Latitude (deg)  Elevation (m)\n",
       "0     0.000000e+00      -124.754693       45.919424              0\n",
       "1     1.513149e+02      -124.752609       45.919508              0\n",
       "2     3.026298e+02      -124.750526       45.919591              0\n",
       "3     4.539447e+02      -124.748442       45.919674              0\n",
       "4     6.052596e+02      -124.746359       45.919758              0\n",
       "...            ...              ...             ...            ...\n",
       "9426  1.426294e+06      -105.116006       46.705287            747\n",
       "9427  1.426446e+06      -105.113922       46.705370            746\n",
       "9428  1.426597e+06      -105.111839       46.705453            745\n",
       "9429  1.426748e+06      -105.109755       46.705537            746\n",
       "9430  1.426748e+06      -105.109755       46.705537            746\n",
       "\n",
       "[9431 rows x 4 columns]"
      ]
     },
     "execution_count": 4,
     "metadata": {},
     "output_type": "execute_result"
    }
   ],
   "source": [
    "import pandas as pd\n",
    "import matplotlib.pyplot as plt\n",
    "df = pd.read_csv('../NW_elev_profile.csv')\n",
    "df"
   ]
  },
  {
   "cell_type": "code",
   "execution_count": 5,
   "id": "90c4423a-918d-490a-9f18-14fead7cfaa0",
   "metadata": {},
   "outputs": [
    {
     "data": {
      "text/html": [
       "<div>\n",
       "<style scoped>\n",
       "    .dataframe tbody tr th:only-of-type {\n",
       "        vertical-align: middle;\n",
       "    }\n",
       "\n",
       "    .dataframe tbody tr th {\n",
       "        vertical-align: top;\n",
       "    }\n",
       "\n",
       "    .dataframe thead th {\n",
       "        text-align: right;\n",
       "    }\n",
       "</style>\n",
       "<table border=\"1\" class=\"dataframe\">\n",
       "  <thead>\n",
       "    <tr style=\"text-align: right;\">\n",
       "      <th></th>\n",
       "      <th>Distance (m)</th>\n",
       "      <th>Longitude (deg)</th>\n",
       "      <th>Latitude (deg)</th>\n",
       "      <th>Elevation (m)</th>\n",
       "    </tr>\n",
       "  </thead>\n",
       "  <tbody>\n",
       "    <tr>\n",
       "      <th>count</th>\n",
       "      <td>9.431000e+03</td>\n",
       "      <td>9431.000000</td>\n",
       "      <td>9431.000000</td>\n",
       "      <td>9431.000000</td>\n",
       "    </tr>\n",
       "    <tr>\n",
       "      <th>mean</th>\n",
       "      <td>7.134498e+05</td>\n",
       "      <td>-114.931183</td>\n",
       "      <td>46.312522</td>\n",
       "      <td>1052.104125</td>\n",
       "    </tr>\n",
       "    <tr>\n",
       "      <th>std</th>\n",
       "      <td>4.119759e+05</td>\n",
       "      <td>5.672508</td>\n",
       "      <td>0.226991</td>\n",
       "      <td>599.064793</td>\n",
       "    </tr>\n",
       "    <tr>\n",
       "      <th>min</th>\n",
       "      <td>0.000000e+00</td>\n",
       "      <td>-124.754693</td>\n",
       "      <td>45.919424</td>\n",
       "      <td>0.000000</td>\n",
       "    </tr>\n",
       "    <tr>\n",
       "      <th>25%</th>\n",
       "      <td>3.567249e+05</td>\n",
       "      <td>-119.842938</td>\n",
       "      <td>46.115973</td>\n",
       "      <td>661.000000</td>\n",
       "    </tr>\n",
       "    <tr>\n",
       "      <th>50%</th>\n",
       "      <td>7.134498e+05</td>\n",
       "      <td>-114.931182</td>\n",
       "      <td>46.312522</td>\n",
       "      <td>961.000000</td>\n",
       "    </tr>\n",
       "    <tr>\n",
       "      <th>75%</th>\n",
       "      <td>1.070175e+06</td>\n",
       "      <td>-110.019427</td>\n",
       "      <td>46.509071</td>\n",
       "      <td>1434.000000</td>\n",
       "    </tr>\n",
       "    <tr>\n",
       "      <th>max</th>\n",
       "      <td>1.426748e+06</td>\n",
       "      <td>-105.109755</td>\n",
       "      <td>46.705537</td>\n",
       "      <td>2790.000000</td>\n",
       "    </tr>\n",
       "  </tbody>\n",
       "</table>\n",
       "</div>"
      ],
      "text/plain": [
       "       Distance (m)  Longitude (deg)  Latitude (deg)  Elevation (m)\n",
       "count  9.431000e+03      9431.000000     9431.000000    9431.000000\n",
       "mean   7.134498e+05      -114.931183       46.312522    1052.104125\n",
       "std    4.119759e+05         5.672508        0.226991     599.064793\n",
       "min    0.000000e+00      -124.754693       45.919424       0.000000\n",
       "25%    3.567249e+05      -119.842938       46.115973     661.000000\n",
       "50%    7.134498e+05      -114.931182       46.312522     961.000000\n",
       "75%    1.070175e+06      -110.019427       46.509071    1434.000000\n",
       "max    1.426748e+06      -105.109755       46.705537    2790.000000"
      ]
     },
     "execution_count": 5,
     "metadata": {},
     "output_type": "execute_result"
    }
   ],
   "source": [
    "df.describe()"
   ]
  },
  {
   "cell_type": "markdown",
   "id": "8c096822-cb3a-4511-824f-f518f840236f",
   "metadata": {},
   "source": [
    "#### At about what degree of latitude does this line pass?"
   ]
  },
  {
   "cell_type": "code",
   "execution_count": null,
   "id": "17b7af35-b523-4aff-9920-a39437629593",
   "metadata": {},
   "outputs": [],
   "source": []
  },
  {
   "cell_type": "code",
   "execution_count": 5,
   "id": "fad49c09-32ea-4bb9-ada5-4a20e5cc9fe6",
   "metadata": {},
   "outputs": [
    {
     "data": {
      "text/plain": [
       "Distance (m)       float64\n",
       "Longitude (deg)    float64\n",
       "Latitude (deg)     float64\n",
       "Elevation (m)        int64\n",
       "dtype: object"
      ]
     },
     "execution_count": 5,
     "metadata": {},
     "output_type": "execute_result"
    }
   ],
   "source": [
    "df.dtypes"
   ]
  },
  {
   "cell_type": "code",
   "execution_count": 7,
   "id": "659e300c-66b2-4f95-ad92-323429b62eae",
   "metadata": {},
   "outputs": [],
   "source": [
    "dist = df['Distance (m)'].to_numpy() # m\n",
    "elev = df['Elevation (m)'].to_numpy() # m"
   ]
  },
  {
   "cell_type": "code",
   "execution_count": 7,
   "id": "06bd4df5-28fc-4032-92dc-2c71b8895762",
   "metadata": {},
   "outputs": [
    {
     "data": {
      "text/plain": [
       "Text(0.5, 1.0, 'a plot title')"
      ]
     },
     "execution_count": 7,
     "metadata": {},
     "output_type": "execute_result"
    },
    {
     "data": {
      "image/png": "[encoded data removed]",
      "text/plain": [
       "<Figure size 432x288 with 1 Axes>"
      ]
     },
     "metadata": {
      "needs_background": "light"
     },
     "output_type": "display_data"
    }
   ],
   "source": [
    "%matplotlib inline\n",
    "fig, ax = plt.subplots()\n",
    "\n",
    "ax.plot(dist, elev)\n",
    "ax.set_xlabel('dist')\n",
    "ax.set_title('a plot title')"
   ]
  },
  {
   "cell_type": "markdown",
   "id": "3c0b9754-f0bd-42d5-a506-c77b84faed59",
   "metadata": {},
   "source": [
    "#### Improve on the plot above by using more methods of the `ax` object to modify the axes of the figure and its labels.\n",
    "Recall the general guidance for nice plots:\n",
    "- Both axes have labels\n",
    "- The units of the quantities being plotted are identified (in SI, not imperial units)\n",
    "- The plot has a title\n",
    "- If multiple groupings or types of data are plotted together, then the plot has a legend to identify which is which\n",
    "- The fonts on the plot have sufficient size and with sizes that are proportional to their value or importance.\n",
    "- The figure will ideally be understandable when printed in black and white.\n",
    "- Color can be aesthetic, but must also convey meaning.  Color, or any other plot elements, should not distract from the meaning of your plot.\n",
    "\n",
    "\n",
    "\n",
    "#### Also, use the matplotlib text() function to add annotations to the plot identifying mountain ranges and valleys\n",
    "See https://matplotlib.org/stable/api/_as_gen/matplotlib.pyplot.text.html"
   ]
  },
  {
   "cell_type": "code",
   "execution_count": null,
   "id": "c0775f14-afc5-4518-be9c-ae93a5139d71",
   "metadata": {},
   "outputs": [],
   "source": []
  },
  {
   "cell_type": "markdown",
   "id": "452727c0-0545-405a-a325-37b64516250e",
   "metadata": {},
   "source": [
    "Recall that slope can be described as a \"rise over run\", \n",
    "in which case the units are a dimensionless ratio (that could also be described as a percent slope).\n",
    "In this case, a landform slope that is 10 degrees has a slope of 0.18, or 18%.\n",
    "\n",
    "This \"rise over run\" can be practically calculated as a change in elevation divided by a \n",
    "change in position (or distance).  So that the $\\textrm{slope} = \\frac{\\Delta z}{\\Delta x}$,\n",
    "where $z$ is the elevation and $x$ is the position.\n",
    "\n",
    "The Columbia River is at about 2900th value within the csv dataset.\n",
    "#### What is the distance between this location along the profile and the location at the 3000th value of the dataset?\n",
    "#### What is the elevation difference between the Columbia River and the 3000th value?"
   ]
  },
  {
   "cell_type": "code",
   "execution_count": null,
   "id": "3be58e7c-96d0-4b5e-b9a3-2ac307cce4a1",
   "metadata": {},
   "outputs": [],
   "source": []
  },
  {
   "cell_type": "markdown",
   "id": "0c59666b-56c0-4d50-a73b-c858fe9d49a3",
   "metadata": {},
   "source": [
    "What does the function `np.diff()` do?  What is the typical horizontal resolution of this elevation profile?"
   ]
  },
  {
   "cell_type": "code",
   "execution_count": null,
   "id": "5ed7bce4-21fa-4d7f-af79-abdbaadefc82",
   "metadata": {},
   "outputs": [],
   "source": []
  },
  {
   "cell_type": "markdown",
   "id": "6d30b5c7-2e71-4487-b132-0646c6fcd156",
   "metadata": {},
   "source": [
    "#### Calculate the topographic slopes as a function of distance along the profile.  Plot these slopes as a secondary y-axis on a plot of the elevations\n",
    "See https://www.google.com/search?q=matplotlib+plot+two+y+axes"
   ]
  },
  {
   "cell_type": "code",
   "execution_count": 8,
   "id": "864be2ff-f0e4-4e83-b230-fe84946cf5e9",
   "metadata": {},
   "outputs": [],
   "source": [
    "run = np.diff(dist)\n",
    "rise = np.diff(elev)\n",
    "slope = rise[:-1]/run[:-1]"
   ]
  },
  {
   "cell_type": "code",
   "execution_count": 9,
   "id": "e5605883-666a-4346-9060-aa164c0ebbe7",
   "metadata": {},
   "outputs": [
    {
     "data": {
      "text/plain": [
       "array([ 0.        ,  0.        ,  0.        , ..., -0.00660873,\n",
       "       -0.00660873,  0.00660873])"
      ]
     },
     "execution_count": 9,
     "metadata": {},
     "output_type": "execute_result"
    }
   ],
   "source": [
    "slope"
   ]
  },
  {
   "cell_type": "code",
   "execution_count": 17,
   "id": "33fe67a3-8df9-4754-a68c-af128fa3ac78",
   "metadata": {},
   "outputs": [],
   "source": [
    "averaging_distance = 10 * 1000 # m\n",
    "\n",
    "dist_resolution = np.median( np.diff(dist) )\n",
    "offset = np.round( averaging_distance / dist_resolution ).astype('int')\n",
    "\n",
    "rise_offset = elev[offset:] - elev[:-offset]\n",
    "run_offset = dist[offset:] - dist[:-offset] # < in this line, Tim had made a typo and put \"elev\" instead of \"dist\"\n",
    "\n",
    "average_slope = rise_offset / run_offset # [] dimensionless ratio\n",
    "dist_offset = int(offset/2)\n"
   ]
  },
  {
   "cell_type": "code",
   "execution_count": 19,
   "id": "98f806ae-7f1d-4527-beb4-896a98dca63c",
   "metadata": {},
   "outputs": [
    {
     "data": {
      "text/plain": [
       "<matplotlib.legend.Legend at 0x142a7c880>"
      ]
     },
     "execution_count": 19,
     "metadata": {},
     "output_type": "execute_result"
    },
    {
     "data": {
      "image/png": "[encoded data removed]",
      "text/plain": [
       "<Figure size 864x216 with 2 Axes>"
      ]
     },
     "metadata": {
      "needs_background": "light"
     },
     "output_type": "display_data"
    }
   ],
   "source": [
    "%matplotlib inline\n",
    "fig, ax = plt.subplots( figsize=(12,3) )\n",
    "\n",
    "ax.plot(dist, elev, label='Elevation')\n",
    "ax.set_xlabel('dist')\n",
    "# ax.set_title('a plot title')\n",
    "\n",
    "ax2 = ax.twinx()\n",
    "ax2.plot(dist[dist_offset : -dist_offset], np.abs(average_slope), color='red', linewidth=1, label='Slope')\n",
    "# ax2.plot(dist[3:-2], np.abs( (elev[:-5] - elev[5:])/(5*151) ), 'C01')\n",
    "\n",
    "fig.legend()"
   ]
  },
  {
   "cell_type": "code",
   "execution_count": 66,
   "id": "51c148db-f2a5-4698-94a4-76261fdb6afe",
   "metadata": {},
   "outputs": [
    {
     "data": {
      "text/plain": [
       "(array([6.000e+00, 1.300e+01, 2.380e+02, 2.021e+03, 6.569e+03, 3.720e+02,\n",
       "        1.010e+02, 2.900e+01, 1.100e+01, 5.000e+00]),\n",
       " array([-0.00586663, -0.00444376, -0.00302089, -0.00159802, -0.00017516,\n",
       "         0.00124771,  0.00267058,  0.00409345,  0.00551631,  0.00693918,\n",
       "         0.00836205]),\n",
       " <BarContainer object of 10 artists>)"
      ]
     },
     "execution_count": 66,
     "metadata": {},
     "output_type": "execute_result"
    },
    {
     "data": {
      "image/png": "[encoded data removed]",
      "text/plain": [
       "<Figure size 432x288 with 1 Axes>"
      ]
     },
     "metadata": {
      "needs_background": "light"
     },
     "output_type": "display_data"
    }
   ],
   "source": [
    "plt.hist(average_slope)"
   ]
  },
  {
   "cell_type": "code",
   "execution_count": null,
   "id": "063db442-7c21-4cc1-aa78-b8d825182caf",
   "metadata": {},
   "outputs": [],
   "source": []
  },
  {
   "cell_type": "markdown",
   "id": "f1e8232c-580b-4f79-a341-48860c55ead2",
   "metadata": {},
   "source": [
    "#### Bonus: calculate the slopes over different _windows_ to better capture the broad trends versus the details of each mountain side?\n",
    "If you calculate the slopes over 10 km windows, what does that look like?\n",
    "\n",
    "Are there are any locations where the slopes are not particularly steep, but the elevations are high?  Where?\n",
    "\n",
    "Scatterplot the slope vs. the elevation"
   ]
  },
  {
   "cell_type": "markdown",
   "id": "1de02daa-09c9-4c2c-8404-b01b19fe7403",
   "metadata": {},
   "source": [
    "## Problem 3: Census Apportionment\n",
    "The 2020 census data is being released, so we now have an amazing wealth of geospatial data to work with.\n",
    "This problem works with state and regional population and its changes since 1910.  This data is especially important\n",
    "because it dictates which states gain and lose Representatives in the House of Representatives\n",
    "(https://www.census.gov/library/visualizations/2021/dec/2020-apportionment-map.html).\n",
    "\n",
    "Data downloaded Sept 11, 2021 from https://www.census.gov/data/tables/time-series/dec/popchange-data-text.html"
   ]
  },
  {
   "cell_type": "code",
   "execution_count": null,
   "id": "a921b28a-2b6c-4077-a248-17d8896f56ce",
   "metadata": {},
   "outputs": [],
   "source": [
    "data = pd.read_csv('assignment/apportionment.csv', thousands=',')\n",
    "    # Note, I needed to use the `thousands` argument for the data file, because there were commas in the \"Resident Population\" field"
   ]
  },
  {
   "cell_type": "code",
   "execution_count": null,
   "id": "bc963ffc-9f33-4c5f-800b-e687ad854f3d",
   "metadata": {},
   "outputs": [],
   "source": [
    "data.head()"
   ]
  },
  {
   "cell_type": "code",
   "execution_count": null,
   "id": "84347675-1de2-4038-b022-6ba51eca5af1",
   "metadata": {},
   "outputs": [],
   "source": [
    "data.tail()"
   ]
  },
  {
   "cell_type": "code",
   "execution_count": null,
   "id": "792fe1c4-789f-43f7-9dd5-3c938a6ef95f",
   "metadata": {},
   "outputs": [],
   "source": [
    "data.describe()"
   ]
  },
  {
   "cell_type": "code",
   "execution_count": null,
   "id": "0b1a3dc2-ddd0-4bf0-805a-98c96fc29df6",
   "metadata": {},
   "outputs": [],
   "source": [
    "data.iloc[682]\n",
    "data.loc[682]"
   ]
  },
  {
   "cell_type": "markdown",
   "id": "4f4fc383-04b9-4eee-b2a4-4d646aee30df",
   "metadata": {},
   "source": [
    "We can use what's known as \"boolean indexing\" to identify those indices that match a certain criteria."
   ]
  },
  {
   "cell_type": "code",
   "execution_count": null,
   "id": "304775cf-b17c-48e9-a244-417dd30045e1",
   "metadata": {},
   "outputs": [],
   "source": [
    "print(data['Name'] == 'West Region')\n",
    "selected = data['Name'] == 'West Region' # Create a boolean record of the indices that match our criteria\n",
    "\n",
    "print(sum(selected)) # Sums up all the booleans, as though True was 1, and False was 0.\n",
    "    # This reveals there are 12 records that match our criteria\n",
    "    \n",
    "idx = np.where(selected) # The function np.where() is a very powerful and useful function that returns the\n",
    "                            # indices where a boolean value is true.\n",
    "                            # Here, I am creating a variable of indices where a criteria defined above is met."
   ]
  },
  {
   "cell_type": "code",
   "execution_count": null,
   "id": "a5bc5119-0b9e-49cd-ae0b-0fe19b27e1c1",
   "metadata": {},
   "outputs": [],
   "source": [
    "data.iloc[idx] # .iloc is used to identify entries of a dataframe based on their indices, so is perfectly suited for our variable idx."
   ]
  },
  {
   "cell_type": "code",
   "execution_count": null,
   "id": "b3728b6e-8bfd-4202-b787-efa6f8b3b321",
   "metadata": {},
   "outputs": [],
   "source": [
    "plt.plot(data.iloc[idx]['Year'], data.iloc[idx]['Resident Population'])"
   ]
  },
  {
   "cell_type": "markdown",
   "id": "2055d82c-f486-480d-ba6c-e88a277cf2d7",
   "metadata": {},
   "source": [
    "### In 2020, which state had the lowest population density?"
   ]
  },
  {
   "cell_type": "code",
   "execution_count": null,
   "id": "3231ec57-078b-4e37-81ae-7ffc4ed4b115",
   "metadata": {},
   "outputs": [],
   "source": []
  },
  {
   "cell_type": "markdown",
   "id": "968f470f-a623-4d76-bf4f-1c6953f365db",
   "metadata": {},
   "source": [
    "### Plot the population of each region, as a function of time\n",
    "Do so without just making 4 nearly-identical calls to `plot`"
   ]
  },
  {
   "cell_type": "code",
   "execution_count": null,
   "id": "807789a6-683d-4838-ae9d-100216ee6bb7",
   "metadata": {},
   "outputs": [],
   "source": []
  },
  {
   "cell_type": "markdown",
   "id": "618a7c32-4657-49bc-bed5-3cdad1cae498",
   "metadata": {},
   "source": [
    "### Identifying the most and least represented state residents\n",
    "The field \"Average Apportionment Population Per Representative\" identifies the average number of state residents\n",
    "that is represented by a single Representative.  Sort the states according to their rank following the 2020 census,\n",
    "starting with the state with the greatest representation per resident and ending with the state whose residents are\n",
    "least represented in the House of Representatives"
   ]
  },
  {
   "cell_type": "code",
   "execution_count": null,
   "id": "b20e972a-28e9-4b6d-8370-29e640789ab5",
   "metadata": {},
   "outputs": [],
   "source": []
  },
  {
   "cell_type": "code",
   "execution_count": null,
   "id": "8ea12c8f-b791-4431-bb7c-2803e63f5afd",
   "metadata": {},
   "outputs": [],
   "source": []
  },
  {
   "cell_type": "markdown",
   "id": "06f06011-8030-453d-8554-e5972e1ebccf",
   "metadata": {},
   "source": [
    "### Extra Credit\n",
    "Create a plot that shows the proportion of Representatives for the different regions as a function of time.  I'm picturing something using a \"stackplot\", as in https://matplotlib.org/stable/gallery/lines_bars_and_markers/stackplot_demo.html#sphx-glr-gallery-lines-bars-and-markers-stackplot-demo-py"
   ]
  },
  {
   "cell_type": "code",
   "execution_count": null,
   "id": "106f1c7f-9204-438f-8489-0f56db553457",
   "metadata": {},
   "outputs": [],
   "source": []
  },
  {
   "cell_type": "markdown",
   "id": "14a8f07e-3d6b-428f-a51b-0885da5cb274",
   "metadata": {},
   "source": [
    "In each decade what state, and what region, experienced the greatest amount of overall growth, and the greatest amount of growth as a percent of its prior population?"
   ]
  },
  {
   "cell_type": "code",
   "execution_count": null,
   "id": "835e0e28-ab0a-4269-9046-575720a2a58c",
   "metadata": {},
   "outputs": [],
   "source": []
  },
  {
   "cell_type": "code",
   "execution_count": null,
   "id": "5b2031e5-3f07-40bc-8da3-cc19702fc704",
   "metadata": {},
   "outputs": [],
   "source": []
  }
 ],
 "metadata": {
  "kernelspec": {
   "display_name": "Python [conda env:GISenv21b] *",
   "language": "python",
   "name": "conda-env-GISenv21b-py"
  },
  "language_info": {
   "codemirror_mode": {
    "name": "ipython",
    "version": 3
   },
   "file_extension": ".py",
   "mimetype": "text/x-python",
   "name": "python",
   "nbconvert_exporter": "python",
   "pygments_lexer": "ipython3",
   "version": "3.9.6"
  }
 },
 "nbformat": 4,
 "nbformat_minor": 5
}

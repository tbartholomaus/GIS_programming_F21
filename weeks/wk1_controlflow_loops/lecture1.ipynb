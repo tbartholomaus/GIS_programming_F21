{
 "cells": [
  {
   "cell_type": "markdown",
   "id": "0b9a87a1-b4c0-4381-b8ef-bb607c7e30ca",
   "metadata": {},
   "source": [
    "# Lecture 1"
   ]
  },
  {
   "cell_type": "markdown",
   "id": "c96d4826-46f5-4d38-abeb-bf60c6f05b23",
   "metadata": {},
   "source": [
    "+ navigating your computer from the terminal\n",
    "+ cloning a git repo\n",
    "    + `git clone` the repository to the current directory\n",
    "    + `git pull` to update your cloned directory to incorporate any changes\n",
    "+ Adding a console to a notebook\n",
    "+ Learning goals: loops and if statements\n"
   ]
  },
  {
   "cell_type": "markdown",
   "id": "03cc73a6-3046-468c-9a0f-7d40716b5dc8",
   "metadata": {},
   "source": [
    "We can iterate with an index, in this case, and very commonly `i`"
   ]
  },
  {
   "cell_type": "code",
   "execution_count": null,
   "id": "002a4278-5bfa-4e7c-a5f3-c00e7b848c21",
   "metadata": {},
   "outputs": [],
   "source": [
    "for i in range(4):\n",
    "    print(i)"
   ]
  },
  {
   "cell_type": "markdown",
   "id": "d19770d2-694d-4be6-a0d1-b0c4bf40bfbb",
   "metadata": {},
   "source": [
    "But most often, it is more readable to iterate over values:"
   ]
  },
  {
   "cell_type": "code",
   "execution_count": null,
   "id": "1d85dd8b-99de-40a0-8d7c-5a1d463087f1",
   "metadata": {},
   "outputs": [],
   "source": [
    "for word in ('cool', 'powerful', 'readable'):\n",
    "    print('Python is %s' % word)"
   ]
  },
  {
   "cell_type": "markdown",
   "id": "ff28329c-1e04-4b66-85a5-359f375948df",
   "metadata": {},
   "source": [
    "Or, we can combine the two cases, in one of the most common lines of python I ever write:"
   ]
  },
  {
   "cell_type": "code",
   "execution_count": null,
   "id": "f51b9641-d25b-44e8-b3f1-d0e95dbc2635",
   "metadata": {},
   "outputs": [],
   "source": [
    "adjectives = ('cool', 'powerful', 'readable')\n",
    "for i in range(len(adjectives)):\n",
    "    print('Python is %s' % adjectives[i])"
   ]
  },
  {
   "cell_type": "markdown",
   "id": "cb50640f-c822-44f2-8d57-cfb5bb03d572",
   "metadata": {},
   "source": [
    "This format above is especially useful when you have a lot of variables that are all the same length, \n",
    "and you want to operate on each one in the same manner, or at the same time."
   ]
  },
  {
   "cell_type": "markdown",
   "id": "e2f58a3b-2b77-4803-b61d-7295070766d8",
   "metadata": {},
   "source": [
    "## Examples of for loop"
   ]
  },
  {
   "cell_type": "code",
   "execution_count": null,
   "id": "885c607b-8e19-45c1-914a-9496dfb24eda",
   "metadata": {},
   "outputs": [],
   "source": [
    "import numpy as np\n",
    "x = np.arange(0,20,2)"
   ]
  },
  {
   "cell_type": "code",
   "execution_count": null,
   "id": "bbdb8ef5-a660-4d7d-9862-4d518fc587e0",
   "metadata": {},
   "outputs": [],
   "source": [
    "#types\n",
    "type(x)\n"
   ]
  },
  {
   "cell_type": "code",
   "execution_count": null,
   "id": "8775a0cc-11e7-4535-88af-f7766c9e7490",
   "metadata": {},
   "outputs": [],
   "source": [
    "type(x[2])"
   ]
  },
  {
   "cell_type": "markdown",
   "id": "576c86db-b844-489e-8b2f-ec73ae29fa25",
   "metadata": {},
   "source": [
    "Add 0.7 to each value in an array"
   ]
  },
  {
   "cell_type": "code",
   "execution_count": null,
   "id": "70967ef4-1524-41c0-b585-3a04ac0cf57d",
   "metadata": {},
   "outputs": [],
   "source": []
  },
  {
   "cell_type": "markdown",
   "id": "5ada4fee-eb39-41a9-9b02-95c3bea4191e",
   "metadata": {},
   "source": [
    "Use %%timeit to time a cell\n"
   ]
  },
  {
   "cell_type": "code",
   "execution_count": null,
   "id": "dc56d3bb-9dfa-4ac5-b0d5-95bae9496532",
   "metadata": {},
   "outputs": [],
   "source": []
  },
  {
   "cell_type": "markdown",
   "id": "00d77d93-607b-47aa-8b17-160059b290fe",
   "metadata": {},
   "source": [
    "Vectorize the operation"
   ]
  },
  {
   "cell_type": "code",
   "execution_count": null,
   "id": "a1c4d0e6-af85-4637-8944-849c07bb368d",
   "metadata": {},
   "outputs": [],
   "source": []
  },
  {
   "cell_type": "markdown",
   "id": "5880c7e9-74bc-4f42-8549-1cf44434df86",
   "metadata": {},
   "source": [
    "if statements"
   ]
  },
  {
   "cell_type": "code",
   "execution_count": null,
   "id": "219a811b-962e-4565-921b-d17617abb0a5",
   "metadata": {},
   "outputs": [],
   "source": []
  },
  {
   "cell_type": "markdown",
   "id": "091e5bad-b7b4-43e2-abfe-b1bec244086f",
   "metadata": {},
   "source": [
    "while loops"
   ]
  },
  {
   "cell_type": "code",
   "execution_count": null,
   "id": "f905100b-c123-44a9-846c-d8181596d1f9",
   "metadata": {},
   "outputs": [],
   "source": []
  },
  {
   "cell_type": "markdown",
   "id": "7d180af0-63c2-4d0e-90b6-a0ea4ad5680b",
   "metadata": {},
   "source": [
    "## In class exercise: Folding paper to the moon\n",
    "You have an exceptionally large piece of paper.  This paper is 0.1 mm thick.\n",
    "How many times would you have to fold it to get a stack of folded paper that\n",
    "could reach from the surface of the Earth to the Moon?\n",
    "\n",
    "Assume that you have unbounded strength, and that you can fold any stack of paper exactly back on itself!"
   ]
  },
  {
   "cell_type": "code",
   "execution_count": null,
   "id": "9b7c0952-bd7e-40db-a185-ed4e7a564123",
   "metadata": {},
   "outputs": [],
   "source": []
  },
  {
   "cell_type": "raw",
   "id": "e99f1a36-ee21-42fe-b579-9222ecd928fa",
   "metadata": {},
   "source": [
    "import geopandas as gpd"
   ]
  },
  {
   "cell_type": "raw",
   "id": "6c8e8830-b8d1-438f-906e-6d0939a8a909",
   "metadata": {
    "tags": []
   },
   "source": [
    "inst = gpd.read_file('lecture_data/Instruments.shp')\n",
    "inst.head()"
   ]
  },
  {
   "cell_type": "raw",
   "id": "30299ae0-2609-43fd-9f22-a641a05f2a52",
   "metadata": {},
   "source": [
    "inst.crs"
   ]
  },
  {
   "cell_type": "raw",
   "id": "a2dee137-2369-460c-ba51-2a8c01cd3469",
   "metadata": {},
   "source": [
    "inst.shape\n",
    "inst.plot()"
   ]
  },
  {
   "cell_type": "raw",
   "id": "b2dbeabb-d760-4bc7-baec-e8a734f536c1",
   "metadata": {
    "jupyter": {
     "outputs_hidden": true
    },
    "tags": []
   },
   "source": [
    "help(inst)"
   ]
  },
  {
   "cell_type": "raw",
   "id": "e7743d0c-efc2-4749-a0c8-34cf153e20c6",
   "metadata": {},
   "source": [
    "inst.geometry[2]"
   ]
  },
  {
   "cell_type": "raw",
   "id": "299b5509-5a6b-47f3-b6cb-cec99eb9bb9d",
   "metadata": {},
   "source": [
    "inst.iloc[2]"
   ]
  },
  {
   "cell_type": "code",
   "execution_count": null,
   "id": "a6c05f44-9388-4618-997f-25cc883a14dc",
   "metadata": {},
   "outputs": [],
   "source": []
  }
 ],
 "metadata": {
  "kernelspec": {
   "display_name": "Python [conda env:GISenv21b] *",
   "language": "python",
   "name": "conda-env-GISenv21b-py"
  },
  "language_info": {
   "codemirror_mode": {
    "name": "ipython",
    "version": 3
   },
   "file_extension": ".py",
   "mimetype": "text/x-python",
   "name": "python",
   "nbconvert_exporter": "python",
   "pygments_lexer": "ipython3",
   "version": "3.9.6"
  }
 },
 "nbformat": 4,
 "nbformat_minor": 5
}

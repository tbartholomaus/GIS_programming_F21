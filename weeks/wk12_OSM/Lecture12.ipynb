{
 "cells": [
  {
   "cell_type": "markdown",
   "id": "e0f0966b-2e82-43b4-b99b-519364bb4345",
   "metadata": {},
   "source": [
    "# Lecture 12: Open Street Map\n",
    "\n",
    "https://www.openstreetmap.org/#map=13/46.7271/-117.0055\n",
    "\n",
    "In Open Street Map, all features consist of either Nodes, Ways, and Relations.\n",
    "\n",
    "Nodes, Ways, and Relations, all have IDs: \n",
    "https://towardsdatascience.com/loading-data-from-openstreetmap-with-python-and-the-overpass-api-513882a27fd0\n",
    "\n",
    "\n",
    "\n",
    "### `osmnx`: a module for analyzing streets in python\n",
    "https://geoffboeing.com/2016/11/osmnx-python-street-networks/\n",
    "\n",
    "https://osmnx.readthedocs.io/en/stable/\n",
    "\n",
    "One of the best ways to learn code: by example\n",
    "https://github.com/gboeing/osmnx-examples/tree/main/notebooks\n",
    "\n",
    "\n",
    "\n",
    "\n"
   ]
  },
  {
   "cell_type": "code",
   "execution_count": null,
   "id": "18859065-e731-4c7f-b253-ea33e480497e",
   "metadata": {},
   "outputs": [],
   "source": [
    "import osmnx as ox"
   ]
  },
  {
   "cell_type": "code",
   "execution_count": null,
   "id": "5a731a50-cb53-488d-91ad-4160d1a5bc71",
   "metadata": {},
   "outputs": [],
   "source": [
    "place = 'Moscow, Idaho'\n",
    "G = ox.graph_from_place(place)\n",
    "fig, ax = ox.plot_graph(G)"
   ]
  },
  {
   "cell_type": "code",
   "execution_count": null,
   "id": "68ff7205-0a35-4a7d-a0bf-6004a034ef31",
   "metadata": {},
   "outputs": [],
   "source": [
    "# Specify what kind of streets/routes/graph you want to work with, using network_type\n",
    "G = ox.graph_from_place(place, network_type='drive')\n",
    "fig, ax = ox.plot_graph(G)"
   ]
  },
  {
   "cell_type": "markdown",
   "id": "458a5d22-92af-4e49-98f6-02a77a677e2b",
   "metadata": {},
   "source": [
    "### Visually compare 1 square mile of street networks"
   ]
  },
  {
   "cell_type": "code",
   "execution_count": null,
   "id": "033707f7-8b0a-464b-9258-a5936e9e2980",
   "metadata": {},
   "outputs": [],
   "source": [
    "home_of_vandals = 'University of Idaho, USA'\n",
    "fig, ax = ox.plot_figure_ground(address=home_of_vandals, network_type='walk')"
   ]
  },
  {
   "cell_type": "code",
   "execution_count": null,
   "id": "9f4aac4f-d827-48bb-8b2b-eba4c5b8ffb6",
   "metadata": {},
   "outputs": [],
   "source": [
    "other_school = 'Washington State University'\n",
    "fig, ax = ox.plot_figure_ground(address=other_school, network_type='walk')"
   ]
  },
  {
   "cell_type": "markdown",
   "id": "f73aa4ae-d79d-4bb0-86f1-06fddd0d265e",
   "metadata": {},
   "source": [
    "### Getting quantitative values out of osmnx:"
   ]
  },
  {
   "cell_type": "code",
   "execution_count": null,
   "id": "cb18568b-7e46-46a3-9853-1d3fd7535568",
   "metadata": {},
   "outputs": [],
   "source": [
    "outline = ox.geocode_to_gdf(place)\n",
    "ax = outlines.plot()"
   ]
  },
  {
   "cell_type": "markdown",
   "id": "a9740b18-4ece-4caf-a646-63d3d32cbd2e",
   "metadata": {},
   "source": [
    "### What data type is `outlines`? Where have we seen this before?"
   ]
  },
  {
   "cell_type": "code",
   "execution_count": null,
   "id": "9e883d77-6bbd-47ef-9ab6-0b43b76f4480",
   "metadata": {},
   "outputs": [],
   "source": []
  },
  {
   "cell_type": "code",
   "execution_count": null,
   "id": "08d935e2-72f2-45c1-aad5-d8fc908b5256",
   "metadata": {},
   "outputs": [],
   "source": [
    "outline_proj = ox.project_gdf(outline)\n",
    "ax = outline_proj.plot()"
   ]
  },
  {
   "cell_type": "code",
   "execution_count": null,
   "id": "fc499b36-88bf-4627-bd74-3a095f8b01b0",
   "metadata": {},
   "outputs": [],
   "source": [
    "outline_proj.area"
   ]
  },
  {
   "cell_type": "code",
   "execution_count": null,
   "id": "1a238fc0-7a5a-498b-821a-51f1b8209916",
   "metadata": {},
   "outputs": [],
   "source": [
    "# What is the convex outline that encloses the place?\n",
    "outline_proj.unary_union.convex_hull.area"
   ]
  },
  {
   "cell_type": "code",
   "execution_count": null,
   "id": "89a36fb9-fc77-4aca-abba-1484242c589e",
   "metadata": {},
   "outputs": [],
   "source": []
  },
  {
   "cell_type": "code",
   "execution_count": null,
   "id": "f50bec75-8cdf-4c30-b1d7-74ee204edb9c",
   "metadata": {},
   "outputs": [],
   "source": [
    "nodes, edges = ox.graph_to_gdfs(G_proj)"
   ]
  },
  {
   "cell_type": "code",
   "execution_count": null,
   "id": "ca58fb17-9054-45c2-a93a-a6257f36fd00",
   "metadata": {},
   "outputs": [],
   "source": [
    "nodes"
   ]
  },
  {
   "cell_type": "code",
   "execution_count": null,
   "id": "c0860a62-4752-4e52-b4ac-893fa013466b",
   "metadata": {},
   "outputs": [],
   "source": [
    "edges"
   ]
  },
  {
   "cell_type": "code",
   "execution_count": null,
   "id": "da27d96a-ab15-4a8d-a00c-11d36cebc1f4",
   "metadata": {},
   "outputs": [],
   "source": []
  },
  {
   "cell_type": "code",
   "execution_count": null,
   "id": "89f8e209-0389-4659-a304-5937f32890a0",
   "metadata": {},
   "outputs": [],
   "source": [
    "# what sized area does our network cover in square meters?\n",
    "print(place)\n",
    "print(ox.project_gdf( ox.geocode_to_gdf(place) ).area)\n",
    "\n",
    "G_proj = ox.project_graph(G)\n",
    "nodes_proj = ox.graph_to_gdfs(G_proj, edges=False)\n",
    "#     # nodes_proj = ox.graph_to_gdfs(G, edges=False)\n",
    "#     print(nodes_proj)\n",
    "graph_area_sm = # define the area of the city in square meters\n",
    "print('Area in square kilometers:', graph_area_sm/1e6)\n",
    "\n",
    "stats = ox.basic_stats(G_proj, area=graph_area_m)\n",
    "print(stats)"
   ]
  },
  {
   "cell_type": "code",
   "execution_count": null,
   "id": "81a541a5-88f2-4bb9-ac9b-aa28374d5a0f",
   "metadata": {},
   "outputs": [],
   "source": []
  },
  {
   "cell_type": "code",
   "execution_count": null,
   "id": "3615ed00-fb6e-4e97-9f9d-442a1dbb3984",
   "metadata": {},
   "outputs": [],
   "source": []
  },
  {
   "cell_type": "code",
   "execution_count": null,
   "id": "5dcb9fbb-c9ae-4d77-a630-f4a34ab94d22",
   "metadata": {},
   "outputs": [],
   "source": []
  },
  {
   "cell_type": "markdown",
   "id": "5589e84f-77ff-4971-91f0-e0e3219f23b1",
   "metadata": {},
   "source": [
    "### Do Moscow, Pullman, Troy, or Deary have the greatest length of streets, and street density?"
   ]
  },
  {
   "cell_type": "code",
   "execution_count": null,
   "id": "75b13029-b026-4436-973a-43d4fd58fa8c",
   "metadata": {},
   "outputs": [],
   "source": []
  },
  {
   "cell_type": "code",
   "execution_count": null,
   "id": "52c3a658-5ce5-4c30-ba92-0c9a7754d56e",
   "metadata": {},
   "outputs": [],
   "source": []
  },
  {
   "cell_type": "markdown",
   "id": "8d755cec-6560-4054-9198-efdd8f014f4d",
   "metadata": {},
   "source": [
    "### Find the center (i.e., centroid of each city)"
   ]
  },
  {
   "cell_type": "code",
   "execution_count": null,
   "id": "ff3a8418-4f4c-4bc4-9680-a018b59ea02f",
   "metadata": {},
   "outputs": [],
   "source": []
  },
  {
   "cell_type": "code",
   "execution_count": null,
   "id": "48a77304-1072-4bff-936c-13969dafccac",
   "metadata": {},
   "outputs": [],
   "source": []
  },
  {
   "cell_type": "markdown",
   "id": "812c5750-1023-4c60-a654-e56aaf9030c6",
   "metadata": {},
   "source": [
    "### Create a rectangle (a shapely polygon) with dimensions of 1 km by 1km, centered on the centroid of each city"
   ]
  },
  {
   "cell_type": "code",
   "execution_count": null,
   "id": "b1c08cf7-f07e-4fb5-8cbc-9351e675c455",
   "metadata": {},
   "outputs": [],
   "source": []
  },
  {
   "cell_type": "code",
   "execution_count": null,
   "id": "e502a0f1-cc9f-4cf8-8d84-8ab7357908bc",
   "metadata": {},
   "outputs": [],
   "source": []
  },
  {
   "cell_type": "markdown",
   "id": "e0e5cbb9-ec13-4260-add7-0768af42d36e",
   "metadata": {},
   "source": [
    "### Within your 1 square km square, centered in the middle of the city, which city has the greatest street density?"
   ]
  },
  {
   "cell_type": "code",
   "execution_count": null,
   "id": "c8d13f56-c535-4416-96c8-005ab8f88211",
   "metadata": {},
   "outputs": [],
   "source": []
  },
  {
   "cell_type": "code",
   "execution_count": null,
   "id": "98d306e9-87fd-4710-a740-dc4e142211e7",
   "metadata": {},
   "outputs": [],
   "source": []
  },
  {
   "cell_type": "markdown",
   "id": "7aeebaa2-347e-489d-ab37-d469f3e6a533",
   "metadata": {},
   "source": [
    "### Starting in the center of Boise, how does street density change as you move west or south?"
   ]
  },
  {
   "cell_type": "code",
   "execution_count": null,
   "id": "16417a31-c52f-4c2c-a7e2-c35baf71971d",
   "metadata": {},
   "outputs": [],
   "source": []
  },
  {
   "cell_type": "code",
   "execution_count": null,
   "id": "ae5b43e1-8ddf-47b4-b8e9-cb9a83035d0d",
   "metadata": {},
   "outputs": [],
   "source": []
  }
 ],
 "metadata": {
  "kernelspec": {
   "display_name": "Python [conda env:GISenv21b] *",
   "language": "python",
   "name": "conda-env-GISenv21b-py"
  },
  "language_info": {
   "codemirror_mode": {
    "name": "ipython",
    "version": 3
   },
   "file_extension": ".py",
   "mimetype": "text/x-python",
   "name": "python",
   "nbconvert_exporter": "python",
   "pygments_lexer": "ipython3",
   "version": "3.9.6"
  }
 },
 "nbformat": 4,
 "nbformat_minor": 5
}

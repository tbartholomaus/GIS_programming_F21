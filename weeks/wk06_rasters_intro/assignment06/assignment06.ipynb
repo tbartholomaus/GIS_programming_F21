{
 "cells": [
  {
   "cell_type": "markdown",
   "id": "52cd9c6a-0094-4952-b3d5-9b6bc54c2d12",
   "metadata": {},
   "source": [
    "# Week 06: Raster and DEM Intro, rasterio and richdem\n",
    "\n",
    "This reading material inspired by a similar course offered by David Shean, of UW.\n",
    "https://github.com/UW-GDA/gda_course_2021\n",
    "\n",
    "## Overview\n",
    "This week, we are going to cover raster basics.  We will introduce and use `rasterio` and `richdem` to process, analyze and visualize DEMs of Moscow and the Palouse.\n",
    "\n",
    "## Reading and Tutorials\n",
    "Please review the following material (especially if you have limited GIS or remote sensing experience), and come to lecture/lab with questions on topics that are unclear, so we can discuss together.  There is some overlap in content, but different presentation of the essential material, so hopefully one or more will work for you:\n",
    "\n",
    "### Raster basics\n",
    "* ESRI Documentation (~15 min)\n",
    "    * https://desktop.arcgis.com/en/arcmap/latest/manage-data/raster-and-images/what-is-raster-data.htm\n",
    "    * https://desktop.arcgis.com/en/arcmap/latest/manage-data/raster-and-images/cell-size-of-raster-data.htm\n",
    "    * https://desktop.arcgis.com/en/arcmap/latest/manage-data/raster-and-images/raster-bands.htm\n",
    "* Data Carpentry Introduction to Raster Data (~15 min)\n",
    "    * https://datacarpentry.org/organization-geospatial/01-intro-raster-data/index.html\n",
    "\n",
    "### Rasterio\n",
    "* https://rasterio.readthedocs.io/en/latest/quickstart.html\n",
    "* Automating GIS Processes\n",
    "    * [Reading raster files with Rasterio](https://automating-gis-processes.github.io/site/notebooks/Raster/reading-raster.html)\n",
    "    * [Visualizing raster layers](https://automating-gis-processes.github.io/site/notebooks/Raster/plotting-raster.html)\n",
    "    * [Masking / clipping raster](https://automating-gis-processes.github.io/site/notebooks/Raster/clipping-raster.html)\n",
    "    * [Raster map algebra](https://automating-gis-processes.github.io/site/notebooks/Raster/raster-map-algebra.html)\n",
    "\n",
    "\n",
    "##### As you have time...  if not this week, then next...\n",
    "### Multispectral Image and Landsat background \n",
    "* EarthLab Section 5: https://www.earthdatascience.org/courses/use-data-open-source-python/multispectral-remote-sensing/\n",
    "    * Suggested (can skim/read, no need for interactive):\n",
    "        * Chapter 7: Introduction to Multispectral Remote Sensing Data in Python\n",
    "        * Chapter 9: Work with Landsat Remote Sensing Data in Python\n",
    "        * Chapter 11: Calculate Vegetation Indices in Python\n",
    "    * Optional:\n",
    "        * Chapter 8\n",
    "        * Chapter 10\n",
    "* https://landsat.gsfc.nasa.gov/landsat-8/landsat-8-overview\n",
    "\n",
    "\n",
    "### Optional only: GDAL\n",
    "* Parts 1, 2 and 4 of Rob Simmons' \"A Gentle Introduction to GDAL\":\n",
    "    * https://medium.com/planet-stories/a-gentle-introduction-to-gdal-part-1-a3253eb96082\n",
    "    * https://medium.com/planet-stories/a-gentle-introduction-to-gdal-part-2-map-projections-gdalwarp-e05173bd710a\n",
    "    * https://medium.com/planet-stories/a-gentle-introduction-to-gdal-part-4-working-with-satellite-data-d3835b5e2971\n",
    "* Optional optional\n",
    "    * https://live.osgeo.org/en/quickstart/gdal_quickstart.html\n",
    "    * https://trac.osgeo.org/gdal/wiki/UserDocs/RasterProcTutorial\n"
   ]
  },
  {
   "cell_type": "code",
   "execution_count": null,
   "id": "0d9e0f5a-11bf-4faf-a924-df2b30d745d8",
   "metadata": {},
   "outputs": [],
   "source": [
    "\n",
    "import numpy as np\n",
    "import matplotlib.pyplot as plt\n",
    "from pathlib import Path\n",
    "\n",
    "import rasterio as rio\n",
    "import rasterio.plot # Necessary to use rio.plot.show()\n",
    "import richdem as rd"
   ]
  },
  {
   "cell_type": "code",
   "execution_count": null,
   "id": "12a66e73-be44-45dc-9ca4-b463221633a5",
   "metadata": {},
   "outputs": [],
   "source": [
    "Path('.')\n",
    "\n",
    "# if Path('../../datasets')\n",
    "datasets_dir = Path('../../datasets')\n",
    "print(datasets_dir / 'moscow')\n"
   ]
  },
  {
   "cell_type": "code",
   "execution_count": null,
   "id": "bf3332b7-b217-4463-a3b7-d45d76d21604",
   "metadata": {},
   "outputs": [],
   "source": [
    "elev_rio = rio.open(datasets_dir / 'moscow' / 'moscow_lidar_elevation' / 'City_of_Moscow_LiDAR.vrt')\n",
    "# elev_rio = rio.open(datasets_dir / 'moscow' / 'palouse' / 'palouse_hills.tif')\n",
    "\n",
    "# # Another option, for reading right into richdem\n",
    "# elev_rd = rd.LoadGDAL('../../datasets/moscow/moscow_lidar_elevation/City_of_Moscow_LiDAR.vrt')"
   ]
  },
  {
   "cell_type": "code",
   "execution_count": null,
   "id": "e4d5bc7a-5b71-4c3a-b3fb-28b4e48a20f0",
   "metadata": {},
   "outputs": [],
   "source": [
    "elev_rio"
   ]
  },
  {
   "cell_type": "markdown",
   "id": "a58fc8fc-11ca-4aef-aa35-2e0f04c45a58",
   "metadata": {},
   "source": [
    "Let's get some basic data about this dataset"
   ]
  },
  {
   "cell_type": "code",
   "execution_count": null,
   "id": "386eeaa8-65a8-46a4-96d1-e292f292f452",
   "metadata": {},
   "outputs": [],
   "source": [
    "elev_rio.meta # We could also have used: elev_rio.profile"
   ]
  },
  {
   "cell_type": "markdown",
   "id": "fdd43ef1-3475-4a43-bd62-812a069eda76",
   "metadata": {},
   "source": [
    "We use the `read` function to read in the data that is contained within our raster.\n",
    "We also need to give the band number of the data (many datasets can contain multiple bands).\n",
    "The number of bands in a raster is identified by the `count` above."
   ]
  },
  {
   "cell_type": "markdown",
   "id": "8fe3fe60-2e7a-4d0e-98a9-1aaf425de6b9",
   "metadata": {},
   "source": [
    "<div class=\"alert alert-block alert-warning\">\n",
    "\n",
    "Do you know an example of a raster dataset with multiple bands?  Google for it if necessary.\n",
    "    </div>"
   ]
  },
  {
   "cell_type": "markdown",
   "id": "7c37678e-24df-43ea-a3e0-ac201320f361",
   "metadata": {},
   "source": [
    "Because rasterio makes significant use of the open source geospatial tool, gdal (https://gdal.org/),\n",
    "the band numbers for reading raster data start at 1, not at 0, as they ought to in python.\n",
    "gdal is a part of a lot of different tools, in a lot of different programming languages, not just python, \n",
    "so this component of rasterio is pretty odd from the perspective of a pythonist(a/o)."
   ]
  },
  {
   "cell_type": "code",
   "execution_count": null,
   "id": "9c791ca4-be5f-4d98-9da4-b73ca7f6a97e",
   "metadata": {},
   "outputs": [],
   "source": [
    "elev = elev_rio.read(1)"
   ]
  },
  {
   "cell_type": "markdown",
   "id": "ff1e3964-e14d-45da-bc6c-06e7dc0c9900",
   "metadata": {},
   "source": [
    "The elevation data are in a rectangular grid, and can be viewed as a numpy array"
   ]
  },
  {
   "cell_type": "code",
   "execution_count": null,
   "id": "27828b1d-61ed-4345-8c6e-5dd2a99a9006",
   "metadata": {},
   "outputs": [],
   "source": [
    "print(type(elev))\n",
    "print()\n",
    "elev"
   ]
  },
  {
   "cell_type": "markdown",
   "id": "c984b06e-4fdc-4730-a264-74f8d06bddaa",
   "metadata": {},
   "source": [
    "Set the elevations less than -1000 m to np.nan."
   ]
  },
  {
   "cell_type": "code",
   "execution_count": null,
   "id": "82de8982-e072-418a-8670-3264ddc5d368",
   "metadata": {},
   "outputs": [],
   "source": [
    "elev[elev<-1000] = np.nan"
   ]
  },
  {
   "cell_type": "code",
   "execution_count": null,
   "id": "d79c4060-bbe7-424c-8c9a-154844e40e60",
   "metadata": {},
   "outputs": [],
   "source": [
    "elev # Confirm that the replacements took place\n"
   ]
  },
  {
   "cell_type": "markdown",
   "id": "bdd0be00-3e2d-4b68-bc7c-ee72f6f05c67",
   "metadata": {},
   "source": [
    "<div class=\"alert alert-block alert-warning\">\n",
    "\n",
    "What are the units of these elevations?  You'll have to refer to the pdf documentation that came with this elevation dataset.\n",
    "\n",
    "What is the size/shape of this elevation dataset?\n",
    "</div>"
   ]
  },
  {
   "cell_type": "markdown",
   "id": "d7005a81-e5d5-4f20-9b63-e9c5b4dbf6fb",
   "metadata": {},
   "source": [
    "Read the rasterio manual section on Georeferencing: https://rasterio.readthedocs.io/en/latest/topics/georeferencing.html\n",
    "\n",
    "<div class=\"alert alert-block alert-warning\">\n",
    "\n",
    "What are the two metadata components that allow us to place a grid of data in space?\n",
    "Describe in your own language what their purpose is and how they are represented.\n",
    "</div>"
   ]
  },
  {
   "cell_type": "code",
   "execution_count": null,
   "id": "33fd6b17-5f5c-48e6-bd0e-105336d4a4fc",
   "metadata": {},
   "outputs": [],
   "source": [
    "# dir(elev_rio)\n",
    "# elev_rio.units\n",
    "print(elev_rio.crs)\n",
    "\n",
    "elev_rio.transform # The `transform` orients the raster grid in space relative to the crs.\n",
    "    # The crs contains the units and identifies where the (0, 0) point of the grid ought to be in space."
   ]
  },
  {
   "cell_type": "markdown",
   "id": "ae66df49-6fac-4943-94d7-15a883678f0d",
   "metadata": {},
   "source": [
    "We see above that this dataset has a Coordinate Reference System EPSG code of 6340.\n",
    "That is enough information to transform different kinds of data to ensure that they are in the same coordinate\n",
    "reference system and therefore can be plotted and analyzed together.  Hypothetically, you could then \n",
    "look up this epsg to get more information about it, e.g., https://epsg.org/.\n",
    "\n",
    "But we can get more information about the crs by relying on its \"Well Known Text\", or `wkt`."
   ]
  },
  {
   "cell_type": "code",
   "execution_count": null,
   "id": "790bc96c-3fee-4e0f-a737-3c1a54026232",
   "metadata": {},
   "outputs": [],
   "source": [
    "elev_rio.crs"
   ]
  },
  {
   "cell_type": "code",
   "execution_count": null,
   "id": "2c9260c9-ea8c-47dc-8cd5-ee3dbc7473b0",
   "metadata": {},
   "outputs": [],
   "source": [
    "elev_rio.crs.wkt"
   ]
  },
  {
   "cell_type": "markdown",
   "id": "821b63f1-823f-43f5-af9a-fd8419961b8b",
   "metadata": {},
   "source": [
    "<div class=\"alert alert-block alert-warning\">\n",
    "\n",
    "What reference frame and what units are the horizontal coordinates in?\n",
    "</div>"
   ]
  },
  {
   "cell_type": "code",
   "execution_count": null,
   "id": "517d89b5-7b92-42df-a53c-d4ddb96f4f21",
   "metadata": {},
   "outputs": [],
   "source": []
  },
  {
   "cell_type": "code",
   "execution_count": null,
   "id": "06920bcc-48de-4ca6-a79a-ff960d688d52",
   "metadata": {},
   "outputs": [],
   "source": [
    "# Let's use one of rasterio's convenient functions to look at the data\n",
    "rio.plot.show(elev_rio)"
   ]
  },
  {
   "cell_type": "markdown",
   "id": "61d45506-5f86-4dc3-b4af-865b468c1d5e",
   "metadata": {},
   "source": [
    "We can use the `transform` field to pull some important information about the raster data, critically, including the \n",
    "x and y locations of the raster.\n"
   ]
  },
  {
   "cell_type": "code",
   "execution_count": null,
   "id": "a823b2b6-b25f-4b65-ba58-71eb0036cca6",
   "metadata": {},
   "outputs": [],
   "source": [
    "dx = elev_rio.transform[0] # grid resolution in Easting (x)\n",
    "rast_x = elev_rio.transform[2] + dx * np.arange(elev_rio.width)\n",
    "dy = elev_rio.transform[4] # grid resolution in Northing (y)\n",
    "rast_y = elev_rio.transform[5] + dy * np.arange(elev_rio.height)\n"
   ]
  },
  {
   "cell_type": "code",
   "execution_count": null,
   "id": "a7c8340a-7e07-4efe-ad7f-e5f1080e4d7e",
   "metadata": {},
   "outputs": [],
   "source": [
    "dx # grid resolution in Easting (x)"
   ]
  },
  {
   "cell_type": "markdown",
   "id": "ebe4a0af-17c9-4099-ae16-6ba195434103",
   "metadata": {},
   "source": [
    "Plot the data using basic matplotlib functions, which also allows more customization,\n",
    "including adding a colorbar"
   ]
  },
  {
   "cell_type": "markdown",
   "id": "c1e92645-258c-43d2-a2b9-e6a820c74f6a",
   "metadata": {},
   "source": [
    "<div class=\"alert alert-block alert-warning\">\n",
    "How many data points is this dataset?\n",
    "    \n",
    "A dataset this large can bog down even a fast computer, when plotting.\n",
    "    In the cell below, what is the purpose of the `stride` variable?\n",
    "What happens as you decrease `stride` towards `1` and keep re-running the cell?  Why?\n",
    "</div>"
   ]
  },
  {
   "cell_type": "code",
   "execution_count": null,
   "id": "c8a28f06-0e2c-4ad3-bbfd-54fb1217b147",
   "metadata": {},
   "outputs": [],
   "source": [
    "stride = 50\n",
    "\n",
    "fig, ax = plt.subplots()\n",
    "elev_ax = ax.pcolormesh(rast_x[::stride], rast_y[::stride], elev[::stride, ::stride], shading='auto')\n",
    "plt.colorbar(elev_ax, ax=ax)"
   ]
  },
  {
   "cell_type": "markdown",
   "id": "e4bb1b4f-62a3-46aa-8cfb-f3140c47c261",
   "metadata": {},
   "source": [
    "### Prep the data for richdem, to analyze the slopes of the DEM"
   ]
  },
  {
   "cell_type": "code",
   "execution_count": null,
   "id": "8d58b2d9-c4c4-4fb9-a9af-6287ef45f3b2",
   "metadata": {},
   "outputs": [],
   "source": [
    "elev_rd = rd.rdarray(elev, no_data=np.nan) # Need to turn the elevations from a numpy array to an rdarray to handle the np.nan values\n",
    "elev_rd.projection = 'EPSG:6340'\n",
    "# Be careful!  The richdem geotransform has a different configuration than the rasterio transform.\n",
    "    # The geotransform must be a tuple.\n",
    "elev_rd.geotransform = (elev_rio.transform[2],\n",
    "                        elev_rio.transform[0],\n",
    "                        elev_rio.transform[1],\n",
    "                        elev_rio.transform[5],\n",
    "                        elev_rio.transform[3],\n",
    "                        elev_rio.transform[4])"
   ]
  },
  {
   "cell_type": "code",
   "execution_count": null,
   "id": "e095009b-404a-4d0a-a61a-b44170271ff0",
   "metadata": {},
   "outputs": [],
   "source": [
    "# slope = rd.TerrainAttribute(elev_rd, attrib='slope_riserun')\n",
    "slope = rd.TerrainAttribute(elev_rd, attrib='slope_degrees')"
   ]
  },
  {
   "cell_type": "code",
   "execution_count": null,
   "id": "e2fabf06-5648-4221-acd2-8f97c435f31d",
   "metadata": {},
   "outputs": [],
   "source": [
    "# Return information about the richdem geotransform, to ensure that it looks right\n",
    "print(elev_rd.geotransform)"
   ]
  },
  {
   "cell_type": "code",
   "execution_count": null,
   "id": "4bd7474c-8661-4aad-88a8-f91798f7c01a",
   "metadata": {},
   "outputs": [],
   "source": [
    "# When you just create `slope`, it is an rdarray, but without any transform information\n",
    "rd.rdShow(slope)"
   ]
  },
  {
   "cell_type": "code",
   "execution_count": null,
   "id": "a734b6e7-3b6e-48ac-81b2-c640ab90a8c2",
   "metadata": {},
   "outputs": [],
   "source": []
  },
  {
   "cell_type": "markdown",
   "id": "d8673bf9-d12e-4c17-84b1-80fc08b2c674",
   "metadata": {},
   "source": [
    "<div class=\"alert alert-block alert-warning\">\n",
    "\n",
    "### View the \"typical\" slopes\n",
    "Flatten the slopes array into a 1D array (google \"flatten array numpy\") and then plot the slopes as a histogram\n",
    "(google \"histogram matplotlib\").  What is the median slope?  What are the 2nd and 98th percentile slopes\n",
    "    (see `np.percentile`)\n",
    "What is the maximum slope and where is it? (see the documentation for `np.argmax`)  Can you plot the location\n",
    "    of this maximum slope on the slope map itself?\n",
    "    \n",
    "</div>\n"
   ]
  },
  {
   "cell_type": "code",
   "execution_count": null,
   "id": "86015104-5297-470c-ad86-bf9e03a03cbc",
   "metadata": {},
   "outputs": [],
   "source": []
  },
  {
   "cell_type": "code",
   "execution_count": null,
   "id": "36f669d0-2307-4636-891c-bf1a0edbf616",
   "metadata": {},
   "outputs": [],
   "source": [
    "# In addition to the raw data itself, these are the other two critical elements that allow any GIS\n",
    "#     (including these python modules) to interpret the data geospatially\n",
    "slope.projection = 'EPSG:6340'\n",
    "slope.geotransform = elev_rd.geotransform # Here, use the geotransform of the original data to be the geotransform of the new raster\n"
   ]
  },
  {
   "cell_type": "markdown",
   "id": "4faa1247-24aa-4dbb-8212-f635bb178cd6",
   "metadata": {},
   "source": [
    "<div class=\"alert alert-block alert-warning\">\n",
    "\n",
    "### Save the slope map as a geotiff\n",
    "Note that richdem has a function called SaveGDAL that can save a file as a geotiff, \n",
    "    provided that it has appropriate projection and transform metadata.\n",
    "    \n",
    "Open the new geotiff, along with the original geotiff, in ArcMap, ArcGIS Pro, or QGIS, to confirm that both rasters appear appropriately.\n",
    "    </div>"
   ]
  },
  {
   "cell_type": "code",
   "execution_count": null,
   "id": "c0fda291-e3ef-4bb0-a987-4ae4b8aff320",
   "metadata": {},
   "outputs": [],
   "source": []
  },
  {
   "cell_type": "code",
   "execution_count": null,
   "id": "41efae0b-b840-4386-8c62-a5d67702f978",
   "metadata": {},
   "outputs": [],
   "source": []
  }
 ],
 "metadata": {
  "kernelspec": {
   "display_name": "Python [conda env:GISenv21b] *",
   "language": "python",
   "name": "conda-env-GISenv21b-py"
  },
  "language_info": {
   "codemirror_mode": {
    "name": "ipython",
    "version": 3
   },
   "file_extension": ".py",
   "mimetype": "text/x-python",
   "name": "python",
   "nbconvert_exporter": "python",
   "pygments_lexer": "ipython3",
   "version": "3.9.6"
  }
 },
 "nbformat": 4,
 "nbformat_minor": 5
}

{
 "cells": [
  {
   "cell_type": "markdown",
   "id": "modified-forestry",
   "metadata": {},
   "source": [
    "# This is the first assignment"
   ]
  },
  {
   "cell_type": "markdown",
   "id": "chicken-right",
   "metadata": {},
   "source": [
    "In this assignment, I ask that you apply some of what you've learned from the first tutorials to complete cells.\n",
    "\n",
    "You should name your variables something intuitive and descriptive.\n",
    "However, there are some rules that restrict what you can use.\n",
    "* Variable names are case-sensitive: `a` and `A` are different variables.\n",
    "* Variable names can contain any letter, the underscore character (\"\\_\"), and any digits...\n",
    "* but your variable must not start with a digit.\n",
    "* A variable must not include any of the 30 or so reserved keywords, that carry specific meaning in the python programming language, (e.g., \"if\" or \"import\").\n",
    "\n",
    "Additionally, stylistically, there are some best practice suggestions for variable names:\n",
    "* Variable names should be meaningful (`area` is better than `a`), ...\n",
    "* but not be too long (`the_area_of_the_triangle` is too long and unweildy)\n",
    "* Don't use variables that look like 0s and 1s, like O, l, or I.\n",
    "* Variable names `i`, `j`, and `k` are usually used as integer counters for use within loops."
   ]
  },
  {
   "cell_type": "markdown",
   "id": "disabled-myrtle",
   "metadata": {},
   "source": [
    "We'll frequently start any python program or notebook with a cell that imports the necessary modules.\n",
    "Here we'll import numpy."
   ]
  },
  {
   "cell_type": "code",
   "execution_count": 2,
   "id": "fifteen-member",
   "metadata": {},
   "outputs": [],
   "source": [
    "import numpy as np\n"
   ]
  },
  {
   "cell_type": "markdown",
   "id": "cheap-dutch",
   "metadata": {},
   "source": [
    "## 1. Surface area and volume of a sphere\n",
    "Below, write a block of code that starts with defining a radius, and then ends with a `print` statement\n",
    "that states the surface area and volume of a sphere with this radius.  Your cell block should consist of\n",
    "individual lines that calculate the surface area and volume, and then end with a line that prints output."
   ]
  },
  {
   "cell_type": "code",
   "execution_count": null,
   "id": "simplified-composition",
   "metadata": {},
   "outputs": [],
   "source": [
    "radius = \n"
   ]
  },
  {
   "cell_type": "markdown",
   "id": "short-following",
   "metadata": {},
   "source": [
    "## 2. Numpy to find the areas of several triangles\n",
    "The numpy module is specifically designed to work with collections of numbers, \n",
    "so that they can all be acted on at once.  One example of that is below:"
   ]
  },
  {
   "cell_type": "code",
   "execution_count": 9,
   "id": "headed-kelly",
   "metadata": {},
   "outputs": [
    {
     "name": "stdout",
     "output_type": "stream",
     "text": [
      "The circle areas in units of square meters are [ 12.56637061  38.48451001  54.62884049 113.09733553]\n"
     ]
    }
   ],
   "source": [
    "radii = np.array([2, 3.5, 4.17, 6]) # m  < here I'm using a comment to indicate what the units are of my radii\n",
    "areas_of_circles = np.pi * radii ** 2\n",
    "print('The circle areas in units of square meters are ' + str(areas_of_circles))"
   ]
  },
  {
   "cell_type": "markdown",
   "id": "distant-authentication",
   "metadata": {},
   "source": [
    "Below, write a cell of code that calculates the areas of several triangles.\n",
    "The 1st triangle has a base length of 2 m and a height of 1 m.\n",
    "The 2nd triangle has a base length of 0.6 m and a height of 3 m.\n",
    "The 3rd triangle has a base length of 1.3 m and a height of 0.82 m.\n",
    "\n",
    "Use the `np.array` function to define one variable for all of the base dimensions, and another variable for all of the height dimensions."
   ]
  },
  {
   "cell_type": "code",
   "execution_count": null,
   "id": "found-rendering",
   "metadata": {},
   "outputs": [],
   "source": []
  },
  {
   "cell_type": "code",
   "execution_count": null,
   "id": "forbidden-malta",
   "metadata": {},
   "outputs": [],
   "source": []
  }
 ],
 "metadata": {
  "kernelspec": {
   "display_name": "Python 3",
   "language": "python",
   "name": "python3"
  },
  "language_info": {
   "codemirror_mode": {
    "name": "ipython",
    "version": 3
   },
   "file_extension": ".py",
   "mimetype": "text/x-python",
   "name": "python",
   "nbconvert_exporter": "python",
   "pygments_lexer": "ipython3",
   "version": "3.7.9"
  }
 },
 "nbformat": 4,
 "nbformat_minor": 5
}

{
 "cells": [
  {
   "cell_type": "markdown",
   "id": "modified-forestry",
   "metadata": {},
   "source": [
    "# This is the zeroth assignment"
   ]
  },
  {
   "cell_type": "markdown",
   "id": "chicken-right",
   "metadata": {},
   "source": [
    "In this assignment, I ask that you apply some of what you've learned from the first tutorials to complete cells.\n",
    "\n",
    "You should name your variables something intuitive and descriptive.\n",
    "However, there are some rules that restrict what you can use.\n",
    "* Variable names are case-sensitive: `a` and `A` are different variables.\n",
    "* Variable names can contain any letter, the underscore character (\"\\_\"), and any digits...\n",
    "* but your variable must not start with a digit.\n",
    "* A variable must not include any of the 30 or so reserved keywords, that carry specific meaning in the python programming language, (e.g., \"if\" or \"import\").\n",
    "\n",
    "Additionally, stylistically, there are some best practice suggestions for variable names:\n",
    "* Variable names should be meaningful (`area` is better than `a`), ...\n",
    "* but not be too long (`the_area_of_the_triangle` is too long and unweildy)\n",
    "* Don't use variables that look like 0s and 1s, like O, l, or I.\n",
    "* Variable names `i`, `j`, and `k` are usually used as integer counters for use within loops."
   ]
  },
  {
   "cell_type": "markdown",
   "id": "disabled-myrtle",
   "metadata": {},
   "source": [
    "We'll frequently start any python program or notebook with a cell that imports the necessary modules.\n",
    "Here we'll import numpy."
   ]
  },
  {
   "cell_type": "code",
   "execution_count": null,
   "id": "b7fda51a-b187-42cb-a892-814a48b14ca0",
   "metadata": {},
   "outputs": [],
   "source": [
    "import numpy"
   ]
  },
  {
   "cell_type": "markdown",
   "id": "1203202a-0f84-447b-9499-007673b5fd8c",
   "metadata": {},
   "source": [
    "Numpy allows you to easily create an array of numbers, as below"
   ]
  },
  {
   "cell_type": "code",
   "execution_count": null,
   "id": "7a0cfc15-1674-4a00-b0d5-626a185e27b7",
   "metadata": {},
   "outputs": [],
   "source": [
    "numpy.arange(9)"
   ]
  },
  {
   "cell_type": "markdown",
   "id": "e74b532c-5d09-479c-8734-432810a44da9",
   "metadata": {},
   "source": [
    "However, numpy, and many other modules are often imported using a kind of shorthand, to save a few keystrokes.  \n",
    "Numpy is almost always abbreviated as `np`, and the same command as above can be used as below."
   ]
  },
  {
   "cell_type": "code",
   "execution_count": null,
   "id": "fifteen-member",
   "metadata": {},
   "outputs": [],
   "source": [
    "import numpy as np\n",
    "np.arange(9)"
   ]
  },
  {
   "cell_type": "markdown",
   "id": "cheap-dutch",
   "metadata": {},
   "source": [
    "## 1. Surface area and volume of a sphere\n",
    "Below, write a block of code that starts with defining a radius, and then ends with a `print` statement\n",
    "that states the surface area and volume of a sphere with this radius.  Your cell block should consist of\n",
    "individual lines that calculate the surface area and volume, and then end with a line that prints output."
   ]
  },
  {
   "cell_type": "code",
   "execution_count": null,
   "id": "simplified-composition",
   "metadata": {},
   "outputs": [],
   "source": [
    "# Complete this cell\n",
    "radius = \n"
   ]
  },
  {
   "cell_type": "markdown",
   "id": "short-following",
   "metadata": {},
   "source": [
    "## 2. Numpy to find the areas of several triangles\n",
    "The numpy module is specifically designed to work with collections of numbers, \n",
    "so that they can all be acted on at once.  One example of that is below:"
   ]
  },
  {
   "cell_type": "code",
   "execution_count": null,
   "id": "headed-kelly",
   "metadata": {},
   "outputs": [],
   "source": [
    "radii = np.array([2, 3.5, 4.17, 6]) # m  < here I'm using a comment to indicate what the units are of my radii\n",
    "areas_of_circles = np.pi * radii ** 2\n",
    "print('The circle areas in units of square meters are ' + str(areas_of_circles))"
   ]
  },
  {
   "cell_type": "markdown",
   "id": "distant-authentication",
   "metadata": {},
   "source": [
    "Below, write a cell of code that calculates the areas of several triangles.\n",
    "The 1st triangle has a base length of 2 m and a height of 1 m.\n",
    "The 2nd triangle has a base length of 0.6 m and a height of 3 m.\n",
    "The 3rd triangle has a base length of 1.3 m and a height of 0.82 m.\n",
    "\n",
    "Use the `np.array` function to define one variable for all three of the base dimensions, and another variable for all of the height dimensions."
   ]
  },
  {
   "cell_type": "code",
   "execution_count": null,
   "id": "found-rendering",
   "metadata": {},
   "outputs": [],
   "source": [
    "# Complete this cell\n"
   ]
  },
  {
   "cell_type": "markdown",
   "id": "2056e256-0116-4848-940d-94c2314dfc37",
   "metadata": {},
   "source": [
    "## 3. Indexing and slicing\n",
    "In python, variables can have a lot of elements contained within them.  We identify these elements of a variable by their indices.\n",
    "In this way, an elements index represents its count within a list or collection (here, I'm using these words in their non-pythonic senses).\n",
    "*Be careful- in python, we index starting at 0!*\n",
    "\n",
    "So in the word \"Apple\", the 0th letter is \"A\", the 1st is \"p\", ...\n",
    "\n",
    "Let's see that in python:"
   ]
  },
  {
   "cell_type": "code",
   "execution_count": null,
   "id": "871156a8-e9bc-4e9a-aa87-f4192c121c8c",
   "metadata": {},
   "outputs": [],
   "source": [
    "word = \"Apple\"\n",
    "print(word + \" is a type \" + str(type(word))) "
   ]
  },
  {
   "cell_type": "markdown",
   "id": "7f19dfaf-37c9-47ad-8216-c79ef112808a",
   "metadata": {},
   "source": [
    "Note that here, the output of `type` is not actually a string, but we have to turn it into a string in order to `print` it"
   ]
  },
  {
   "cell_type": "code",
   "execution_count": null,
   "id": "6f561413-10e8-4e3e-82ae-2de8a9a15bf0",
   "metadata": {},
   "outputs": [],
   "source": [
    "word[0]"
   ]
  },
  {
   "cell_type": "code",
   "execution_count": null,
   "id": "975e3057-1e4e-4132-aeb5-bbb302278695",
   "metadata": {},
   "outputs": [],
   "source": [
    "list_of_nums = [3, 5, 9, 13.7]\n",
    "list_of_nums[3]"
   ]
  },
  {
   "cell_type": "markdown",
   "id": "1189e2e7-aa59-49a9-9185-29149112c3a5",
   "metadata": {},
   "source": [
    "While the first item in a set is identified with index `0`, the last item is identified with index `-1`"
   ]
  },
  {
   "cell_type": "code",
   "execution_count": null,
   "id": "61f87251-d52e-453c-ba29-26c3d6d1e487",
   "metadata": {},
   "outputs": [],
   "source": [
    "list_of_nums[-1]"
   ]
  },
  {
   "cell_type": "markdown",
   "id": "444aa417-ce88-450f-a29b-babff4b5c618",
   "metadata": {},
   "source": [
    "In a couple of sentences, _what do the following three cells do?  Add a markdown cell beneath each one._\n",
    "\n",
    "These kinds of actions on a variable, always enclosed in square braces, are called slices."
   ]
  },
  {
   "cell_type": "code",
   "execution_count": null,
   "id": "e55aeeb1-b006-47ba-95af-82e655a09123",
   "metadata": {},
   "outputs": [],
   "source": [
    "list_of_nums[:3]"
   ]
  },
  {
   "cell_type": "code",
   "execution_count": null,
   "id": "c27f96aa-763d-4635-b866-1a33db7b3568",
   "metadata": {},
   "outputs": [],
   "source": [
    "list_of_nums[:-1]"
   ]
  },
  {
   "cell_type": "code",
   "execution_count": null,
   "id": "63af6915-005d-4479-b367-75233d6ba898",
   "metadata": {},
   "outputs": [],
   "source": [
    "list_of_nums[2:]"
   ]
  },
  {
   "cell_type": "markdown",
   "id": "4d20fcfd-3833-4fb2-81b0-1775bee8e64b",
   "metadata": {},
   "source": [
    "Slicing is formally done using the syntax `[start:stop:stride]`, but any of these elements can be neglected.\n",
    "\n",
    "_In the cell below, slice the `list_of_nums` so that it returns `[5, 13.7]`"
   ]
  },
  {
   "cell_type": "code",
   "execution_count": null,
   "id": "e3663c52-0622-4374-8c48-d9983f062f33",
   "metadata": {},
   "outputs": [],
   "source": [
    "# Complete this cell\n"
   ]
  },
  {
   "cell_type": "markdown",
   "id": "a17055dd-81ab-4f85-83fe-0fb30bf753a1",
   "metadata": {},
   "source": [
    "_Form the word \"Leap\" without spelling it out, using the variable `word` defined above_\n",
    "\n",
    "Check out what the method `capitalize` can do for you."
   ]
  },
  {
   "cell_type": "code",
   "execution_count": null,
   "id": "9afc301a-c38d-4f36-b157-a3462eaa0dbf",
   "metadata": {},
   "outputs": [],
   "source": [
    "# Complete this cell\n",
    "\n"
   ]
  },
  {
   "cell_type": "code",
   "execution_count": null,
   "id": "3b3615eb-5d9d-43b0-a892-2d291c53bd61",
   "metadata": {},
   "outputs": [],
   "source": []
  }
 ],
 "metadata": {
  "kernelspec": {
   "display_name": "Python 3 (ipykernel)",
   "language": "python",
   "name": "python3"
  },
  "language_info": {
   "codemirror_mode": {
    "name": "ipython",
    "version": 3
   },
   "file_extension": ".py",
   "mimetype": "text/x-python",
   "name": "python",
   "nbconvert_exporter": "python",
   "pygments_lexer": "ipython3",
   "version": "3.9.6"
  }
 },
 "nbformat": 4,
 "nbformat_minor": 5
}

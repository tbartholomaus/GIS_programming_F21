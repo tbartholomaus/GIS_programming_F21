{
 "cells": [
  {
   "cell_type": "markdown",
   "id": "ab46e5d0-5f61-433d-b737-8d964f4287f5",
   "metadata": {},
   "source": [
    "# Lecture 11"
   ]
  },
  {
   "cell_type": "code",
   "execution_count": null,
   "id": "7c0a9495-e4a8-4aa6-a6df-2a1b29d6ed6f",
   "metadata": {},
   "outputs": [],
   "source": []
  },
  {
   "cell_type": "markdown",
   "id": "1fbbcef7-e7b8-4edb-b7e3-afff740341ed",
   "metadata": {},
   "source": [
    "## In class: GEE exercise"
   ]
  },
  {
   "cell_type": "code",
   "execution_count": null,
   "id": "df51ad29-1bd6-4c4b-9dc9-ae6386890e0e",
   "metadata": {},
   "outputs": [],
   "source": [
    "import numpy as np\n",
    "import ee\n",
    "ee.Initialize()"
   ]
  },
  {
   "cell_type": "markdown",
   "id": "e86c39fa-300d-4920-b2db-59b7af4672a1",
   "metadata": {},
   "source": [
    "## Glacier velocities dataset\n",
    "Velocities here are derived from cross-correlating and tracking the motion of recognizable features in Landsat scenes\n",
    "\n",
    "https://developers.google.com/earth-engine/datasets/catalog/OSU_GIMP_ICE_VELOCITY_OPT#description\n",
    "\n",
    "Make a time series of speeds at Jakobshavn Isbrae"
   ]
  },
  {
   "cell_type": "code",
   "execution_count": null,
   "id": "c0964463-38dd-4122-8610-0fe56b35e37f",
   "metadata": {},
   "outputs": [],
   "source": [
    "vels = ee.ImageCollection(\"OSU/GIMP/ICE_VELOCITY_OPT\")"
   ]
  },
  {
   "cell_type": "code",
   "execution_count": null,
   "id": "146b3d43-7595-439d-90f0-6db90441d846",
   "metadata": {},
   "outputs": [],
   "source": [
    "vels.first().bandNames().getInfo()"
   ]
  },
  {
   "cell_type": "code",
   "execution_count": null,
   "id": "ab06bca1-851b-4553-94e5-85cab2ac79a0",
   "metadata": {},
   "outputs": [],
   "source": [
    "# Coords for Jakobshavn\n",
    "jak_term_lat, jak_term_lon = 69.127512, -49.513367\n",
    "\n",
    "jak_term_poi = ee.Geometry.Point(jak_term_lon, jak_term_lat)\n",
    "\n",
    "scale = 100\n",
    "jak_term_spd = vels.getRegion(jak_term_poi, scale).getInfo()\n"
   ]
  },
  {
   "cell_type": "code",
   "execution_count": null,
   "id": "d6832afe-ec92-4922-b076-d5cbeaafb2b6",
   "metadata": {
    "tags": []
   },
   "outputs": [],
   "source": []
  },
  {
   "cell_type": "code",
   "execution_count": null,
   "id": "4fff45dc-0358-45f8-8f89-c40a8a7bab61",
   "metadata": {},
   "outputs": [],
   "source": []
  },
  {
   "cell_type": "code",
   "execution_count": null,
   "id": "0275f3dd-5450-4d4b-a881-d9e8ddf8e02c",
   "metadata": {},
   "outputs": [],
   "source": []
  },
  {
   "cell_type": "markdown",
   "id": "f0b3c94f-dd0c-41c0-b687-3e9d8cf62c6d",
   "metadata": {},
   "source": [
    "## Introducing OSMnx"
   ]
  },
  {
   "cell_type": "markdown",
   "id": "79e7c242-e45a-4176-b1ce-bc402f14cefe",
   "metadata": {},
   "source": [
    "https://geoffboeing.com/2016/11/osmnx-python-street-networks/\n",
    "\n",
    "https://github.com/gboeing/osmnx-examples"
   ]
  },
  {
   "cell_type": "markdown",
   "id": "b7168dd9-f222-4118-8751-2da6b998a660",
   "metadata": {},
   "source": [
    "# How far can you travel in two hours from Moscow?\n",
    "https://github.com/gboeing/osmnx-examples/blob/main/notebooks/13-isolines-isochrones.ipynb\n"
   ]
  },
  {
   "cell_type": "code",
   "execution_count": null,
   "id": "b3b0a098-f0cd-48ef-bee5-d6ddc7d7f47e",
   "metadata": {},
   "outputs": [],
   "source": []
  }
 ],
 "metadata": {
  "kernelspec": {
   "display_name": "Python [conda env:GISenv21b] *",
   "language": "python",
   "name": "conda-env-GISenv21b-py"
  },
  "language_info": {
   "codemirror_mode": {
    "name": "ipython",
    "version": 3
   },
   "file_extension": ".py",
   "mimetype": "text/x-python",
   "name": "python",
   "nbconvert_exporter": "python",
   "pygments_lexer": "ipython3",
   "version": "3.9.6"
  }
 },
 "nbformat": 4,
 "nbformat_minor": 5
}

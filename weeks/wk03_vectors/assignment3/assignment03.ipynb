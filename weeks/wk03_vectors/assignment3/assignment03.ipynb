{
 "cells": [
  {
   "cell_type": "markdown",
   "id": "8c9374a0",
   "metadata": {},
   "source": [
    "# Assignment for week 03\n",
    "Vector Intro, Geopandas, CRS, Projections\n",
    "\n",
    "## Reading and Tutorials \n",
    "Inspired/following assignment from Dave Shean (https://github.com/UW-GDA/gda_course_2021/blob/master/modules/04_Vector1_Geopandas_CRS_Proj/)\n",
    "\n",
    "\n",
    "## Overview\n",
    "This week, we are going to cover several fundamental geospatial data concepts, including coordinate systems, projections/transformations, vector geometries (points, lines, polygons) and basic geometry operations (intersect, buffer, etc). We will also begin using the GeoPandas package (https://geopandas.readthedocs.io/en/latest/).\n",
    "\n",
    ">“GeoPandas is an open source project to make working with geospatial data in python easier. GeoPandas extends the datatypes used by pandas to allow spatial operations on geometric types. Geometric operations are performed by shapely. Geopandas further depends on fiona for file access and descartes and matplotlib for plotting.”\n",
    "\n",
    "We will revisit vector data and cover more advanced processing, analysis and visualization in a few weeks, after the Raster Intro module. \n",
    "\n",
    "## Reading and Tutorials\n",
    "Please read the following material before class on Thursday (especially important if you have limited GIS experience), and come with questions on topics that are unclear, so we can discuss together. There is some overlap in content, but they offer different presentations of essential material, so hopefully one or more will work for you, and some repetition will help solidify.\n",
    "\n",
    "* [Data Carpentry Introduction to Geospatial Concepts](https://datacarpentry.org/organization-geospatial/): \n",
    "    * Section 2: Introduction to Vector Data (~10 min)\n",
    "    * Section 3: Coordinate Reference Systems (~15 min)\n",
    "* [Vector Geohackweek tutorial](https://geohackweek.github.io/vector/): first 4 sections (~30-45 min)\n",
    "    * Introduction\n",
    "    * Geospatial Concepts\n",
    "    * Encodings, Formats and Libraries\n",
    "    * GeoPandas Introduction\n",
    "    * *Note: If you prefer an instructor explaining, here is a recording of this tutorial by Emilio Mayorga:* https://www.youtube.com/watch?v=t3PMTnhl1eY&feature=youtu.be\n",
    "* [Earth Lab Intermediate Earth Data Science Textbook](https://www.earthdatascience.org/courses/use-data-open-source-python/intro-vector-data-python/spatial-data-vector-shapefiles/intro-to-coordinate-reference-systems-python/)\n",
    "    * Section 2, Chapter 2: all sections (~30-60 min)\n",
    "        * Can review on website or download data for interactive exploration\n",
    "        * Lesson 1. GIS in Python: Introduction to Vector Format Spatial Data - Points, Lines and Polygons\n",
    "        * Lesson 2. GIS in Python: Intro to Coordinate Reference Systems in Python\n",
    "        * Lesson 3. Geographic vs projected coordinate reference systems - GIS in Python\n",
    "        * Lesson 4. Understand EPSG, WKT and Other CRS Definition Styles\n",
    "\n",
    "## Other Resources\n",
    "\n",
    "### Official documentation:\n",
    "* GeoPandas: http://geopandas.org/index.html\n",
    "* Shapely: https://shapely.readthedocs.io/en/stable/manual.html\n",
    "\n",
    "### Other good resources:\n",
    "* https://automating-gis-processes.github.io/site/lessons/L1/Intro-Python-GIS.html\n",
    "* https://automating-gis-processes.github.io/site/lessons/L2/overview.html\n",
    "* https://github.com/Automating-GIS-processes/CSC/blob/master/source/notebooks/L1/geometric-objects.ipynb\n",
    "* http://darribas.org/gds15/content/labs/lab_03.html\n",
    "* https://geohackweek.github.io/visualization/03-cartopy/\n",
    "* https://www.w3.org/2015/spatial/wiki/Coordinate_Reference_Systems\n",
    "* https://github.com/geopandas/geopandas/tree/master/examples\n",
    "\n",
    "\n",
    "\n"
   ]
  },
  {
   "cell_type": "markdown",
   "id": "c82ee8d3-12a8-4488-951a-777b3be539db",
   "metadata": {},
   "source": [
    "## Let's begin by looking at some glacier data from Tim's research"
   ]
  },
  {
   "cell_type": "code",
   "execution_count": null,
   "id": "4e392646-7cf8-43c3-915e-c19ec70594ef",
   "metadata": {},
   "outputs": [],
   "source": [
    "import numpy as np\n",
    "import matplotlib.pyplot as plt\n",
    "\n",
    "import geopandas as gpd\n"
   ]
  },
  {
   "cell_type": "markdown",
   "id": "cac91bef-0d80-457b-84d1-b2c3444bd456",
   "metadata": {},
   "source": [
    "Let's use geopandas to look at some geophysical instruments that Tim installed for one of his projects at Turner Glacier, in the St. Elias Range of Alaska."
   ]
  },
  {
   "cell_type": "code",
   "execution_count": null,
   "id": "ace9ff7b-d774-4b54-b079-de09221410eb",
   "metadata": {
    "tags": []
   },
   "outputs": [],
   "source": [
    "inst = gpd.read_file('../instruments/Instruments.shp')\n",
    "inst"
   ]
  },
  {
   "cell_type": "code",
   "execution_count": null,
   "id": "7c5fe126-d497-415c-a75a-09237f87a39e",
   "metadata": {},
   "outputs": [],
   "source": [
    "inst.plot()"
   ]
  },
  {
   "cell_type": "code",
   "execution_count": null,
   "id": "ca4e8851-e9d0-417c-a579-70ca943287e7",
   "metadata": {},
   "outputs": [],
   "source": [
    "# Map only the seismic sites using tan squares\n",
    "inst[ inst['inst_type']=='Seismic' ].plot(marker='s', color='tan')"
   ]
  },
  {
   "cell_type": "code",
   "execution_count": null,
   "id": "ce53170a-0700-4e2b-828c-7beff53b6a41",
   "metadata": {},
   "outputs": [],
   "source": []
  },
  {
   "cell_type": "markdown",
   "id": "e55f0009-af41-4b8b-8156-02f3bd7d13e8",
   "metadata": {},
   "source": [
    "The CRS is the coordinate reference frame for the geospatial data.  It is identified by an EPSG code."
   ]
  },
  {
   "cell_type": "code",
   "execution_count": null,
   "id": "30eebf1e-dcc5-4432-aa90-edce384cb1c0",
   "metadata": {},
   "outputs": [],
   "source": [
    "inst.crs"
   ]
  },
  {
   "cell_type": "code",
   "execution_count": null,
   "id": "99bc63d2-a85e-4705-9a87-520079626806",
   "metadata": {
    "tags": []
   },
   "outputs": [],
   "source": [
    "# Save the CRS of the instrument Geodataframe\n",
    "instrument_crs = inst.crs.to_epsg()"
   ]
  },
  {
   "cell_type": "markdown",
   "id": "84065667-dba7-462d-9bb9-7b6cb352087b",
   "metadata": {},
   "source": [
    "<div class=\"alert alert-block alert-warning\">\n",
    "\n",
    "### 1. Subsetting and rewriting data\n",
    "It turns out that the \"Landing For Camera\" is at the wrong location and is therefore not a useful part of this dataset.\n",
    "Make a new version of the file titled \"Instruments_2109\" that doesn't include this coordinate, and save the file to the directory \"Instruments.\"\n",
    "    \n",
    "Also, shapefile is a legacy data format from the 1990s, and is obsolete. There are many limitations: http://switchfromshapefile.org/\n",
    "\n",
    "Better options these days are Geopackage (GPKG) when spatial index is required, and simple GeoJSON for other cases. Both are supported by any respectable GIS (including QGIS, ArcGIS, etc)\n",
    "    \n",
    "For this exercise, let's use geopackage.  Save the new Instruments_2109 as a geopackage (Instruments_2109.gpkg). \n",
    "Read the geopandas documentation to learn about writing files.\n",
    "    \n",
    "</div>"
   ]
  },
  {
   "cell_type": "code",
   "execution_count": null,
   "id": "cde7b36e-8c5c-4e2b-afc2-54e89af8045e",
   "metadata": {},
   "outputs": [],
   "source": []
  },
  {
   "cell_type": "markdown",
   "id": "fb3bd45b-c679-40eb-91b3-f2ad06f8146f",
   "metadata": {},
   "source": [
    "## Working with polygons\n",
    "The Randolph Glacier Inventory (RGI) is a global catalog of glacier outlines: https://www.glims.org/RGI/\n",
    "\n",
    "Metadata for these outlines are here: https://www.glims.org/RGI/00_rgi60_TechnicalNote.pdf\n",
    "\n",
    "Let's read in the RGI glacier outlines for southern Alaska.  This is a subset of the complete set of RGI Alaska Glaciers \n",
    "(those outside of northern Alaska or the Alaska Range) that was necessary because the complete archive was over 100 MB, too large for github."
   ]
  },
  {
   "cell_type": "code",
   "execution_count": null,
   "id": "0ef0a5a6-1791-45d5-b1ed-dfe8e01fe308",
   "metadata": {
    "tags": []
   },
   "outputs": [],
   "source": [
    "glaciers = gpd.read_file('../01_rgi60_Alaska/rgi60_southern_alaska.shp')#01_rgi60_Alaska/01_rgi60_Alaska.shp')\n",
    "glaciers"
   ]
  },
  {
   "cell_type": "markdown",
   "id": "4cac6141-4fbf-44a2-b828-0769449e514f",
   "metadata": {
    "tags": []
   },
   "source": [
    "+ Within these data Slope is the mean slope of DEM cells found within the glacier.\n",
    "+ Aspect is the orientation of the glacier surface.\n",
    "+ Lmax is the glacier length in meters.\n",
    "+ TermType describes whether the glacier is is land, marine, or lake-terminating.\n",
    "+ Name is the name of the glacier."
   ]
  },
  {
   "cell_type": "code",
   "execution_count": null,
   "id": "6471e485-6d77-4189-a57e-517a658a2aef",
   "metadata": {},
   "outputs": [],
   "source": [
    "glaciers.describe()"
   ]
  },
  {
   "cell_type": "code",
   "execution_count": null,
   "id": "20f3bdf2-d7c5-4d0c-8168-e497da11f0b4",
   "metadata": {},
   "outputs": [],
   "source": [
    "fig, ax = plt.subplots() # Create new figure (fig) and axes (ax) objects that we can use to plot into, as we have using matplotlib\n",
    "glaciers.plot(ax=ax) # Note here that we are now plotting within the axes object we just created"
   ]
  },
  {
   "cell_type": "code",
   "execution_count": null,
   "id": "6bd0c588-6c47-4f80-86d7-05f3bf647b96",
   "metadata": {},
   "outputs": [],
   "source": [
    "# Plot the distribution of glacier lengths\n",
    "fig, ax = plt.subplots()\n",
    "ax.hist(glaciers['Lmax'], bins=np.arange(0, 4000, 100) ) # Make a histogram with specified bin boundaries"
   ]
  },
  {
   "cell_type": "code",
   "execution_count": null,
   "id": "67be461f-23eb-476e-bffc-9e34524ec79e",
   "metadata": {},
   "outputs": [],
   "source": []
  },
  {
   "cell_type": "code",
   "execution_count": null,
   "id": "c7c02916-e3bb-4c6f-9b1d-05a45a92b618",
   "metadata": {},
   "outputs": [],
   "source": []
  },
  {
   "cell_type": "code",
   "execution_count": null,
   "id": "14972944-5f54-4f8d-b84d-d482e6c47614",
   "metadata": {},
   "outputs": [],
   "source": []
  },
  {
   "cell_type": "markdown",
   "id": "b50810a8-035d-43bd-b4ef-ae8d7440068d",
   "metadata": {},
   "source": [
    "<div class=\"alert alert-block alert-warning\">\n",
    "\n",
    "### 2. Glacier widths\n",
    "What is the distribution of mean glacier widths?\n",
    "Is there such a thing as a typical width?  Here, I use \"typical\" to indicate that some distribution has a central tendency, like a mean or median.\n",
    "You'll have to define a mean glacier width, which if you consider a glacier to be broadly rectangular, could be its area divided by its length.\n",
    "\n",
    "</div>"
   ]
  },
  {
   "cell_type": "code",
   "execution_count": null,
   "id": "74aefee8-11fe-423a-a876-ec28643b7f8f",
   "metadata": {},
   "outputs": [],
   "source": []
  },
  {
   "cell_type": "markdown",
   "id": "a5f48d53",
   "metadata": {},
   "source": [
    "<div class=\"alert alert-block alert-warning\">\n",
    "\n",
    "### 3. Comparing lengths of different glacier types\n",
    "\n",
    "Create a plot that indicates whether glaciers that end in the ocean tend to be longer or larger than glaciers that end on land.\n",
    "Is there evidence of a difference?\n",
    "Use a boxplot (https://matplotlib.org/stable/api/_as_gen/matplotlib.pyplot.boxplot.html) to make your comparison.\n",
    "</div>"
   ]
  },
  {
   "cell_type": "code",
   "execution_count": null,
   "id": "7e504791",
   "metadata": {},
   "outputs": [],
   "source": []
  },
  {
   "cell_type": "code",
   "execution_count": null,
   "id": "885c2da7-9101-4a61-b537-8020adf0a7de",
   "metadata": {},
   "outputs": [],
   "source": [
    "# Pull out just Turner Glacier from the entire \"Glaciers of Alaska\" dataset\n",
    "selected = glaciers['Name'] == \"Turner Glacier\"\n",
    "glaciers.loc[selected]"
   ]
  },
  {
   "cell_type": "code",
   "execution_count": null,
   "id": "09213377-ff49-43c5-b408-dc2b313bc0e9",
   "metadata": {},
   "outputs": [],
   "source": [
    "turner = glaciers.loc[selected] # Subset out just the Turner Glacier dataframe\n",
    "turner_utm = turner.to_crs(epsg=instrument_crs) # Create a new geodataframe for Turner Glacier in the UTM format\n",
    "turner_utm.plot()"
   ]
  },
  {
   "cell_type": "markdown",
   "id": "fd948089-906a-4ac7-870b-cbea6553934a",
   "metadata": {},
   "source": [
    "<div class=\"alert alert-block alert-warning\">\n",
    "\n",
    "### 4. Map of instrumentation at Turner Glacier\n",
    "\n",
    "Make a plot showing the different locations of instruments at Turner Glacier.  On the outline of Turner Glacier (projected in UTM),\n",
    "plot the different types of instruments (e.g., Seismic, sIPR, GNSS) using different colors and symbols.\n",
    "Use labels and a legend to identify each symbol style.  Label each instrument with its name.\n",
    "\n",
    "For your \"instruments,\" begin by reading in the new geopackage you created above, that doesn't have the \"Landing for Camera.\"\n",
    "    \n",
    "When you plot, you'll have to be certain to specify which \"axes object\" to plot each geodataframe into (i.e., using ax= arguments within plot commands), so that all geodataframes are plotted on the same figure.\n",
    "</div>"
   ]
  },
  {
   "cell_type": "code",
   "execution_count": null,
   "id": "b6022465-4ebe-4403-a3f0-6f8ba8765208",
   "metadata": {},
   "outputs": [],
   "source": []
  },
  {
   "cell_type": "markdown",
   "id": "37637fe9-7dad-4b12-b14c-f3e7192d0545",
   "metadata": {},
   "source": [
    "<div class=\"alert alert-block alert-warning\">\n",
    "With geopandas, you can return the area of an element, according to its \"geometry\" field using the attribute `.area`.  As in `glaciers.area`.\n",
    "What is the area of the element in the geodataframe `turner` and that in the geodataframe `turner_utm`.  Explain any difference between these two areas.\n",
    "What are the units of each area?  How do these areas compare with the \"Area\" field of the RGI catalog entry for Turner Glacier?\n",
    "</div>"
   ]
  },
  {
   "cell_type": "code",
   "execution_count": null,
   "id": "540c46ef-643e-44c7-bad1-910fe7c24d0d",
   "metadata": {},
   "outputs": [],
   "source": []
  },
  {
   "cell_type": "code",
   "execution_count": null,
   "id": "45be3968-a28b-4b14-a2a8-e530328a94ce",
   "metadata": {},
   "outputs": [],
   "source": []
  },
  {
   "cell_type": "code",
   "execution_count": null,
   "id": "d602f423-9f4a-4496-9f00-0a115eac84aa",
   "metadata": {},
   "outputs": [],
   "source": []
  },
  {
   "cell_type": "markdown",
   "id": "c19be577",
   "metadata": {},
   "source": [
    "## Exploring Moscow\n",
    "Last week, I got a geodatabase from one of the lead GIS analysts for the City of Moscow containing several important layers for the city and its planning.  Let's explore these layers."
   ]
  },
  {
   "cell_type": "code",
   "execution_count": null,
   "id": "2e126fd4-b479-4f3f-bc5f-1051abf41199",
   "metadata": {},
   "outputs": [],
   "source": [
    "import fiona\n",
    "moscow = '../Moscow.gdb'\n",
    "fiona.listlayers(moscow)"
   ]
  },
  {
   "cell_type": "code",
   "execution_count": null,
   "id": "6bb3b13f-2e96-4166-81c2-717829a0516f",
   "metadata": {},
   "outputs": [],
   "source": [
    "streets = gpd.read_file(moscow, layer='Centerlines')"
   ]
  },
  {
   "cell_type": "code",
   "execution_count": null,
   "id": "f236f36e-d6ab-4de9-aa8d-c58c3196bc5d",
   "metadata": {},
   "outputs": [],
   "source": [
    "streets.plot()"
   ]
  },
  {
   "cell_type": "code",
   "execution_count": null,
   "id": "16a5c348-4b64-4262-a048-5dc0daf87112",
   "metadata": {},
   "outputs": [],
   "source": [
    "streets.crs"
   ]
  },
  {
   "cell_type": "code",
   "execution_count": null,
   "id": "cda2de96-a805-4692-b52e-fd667809dbc2",
   "metadata": {},
   "outputs": [],
   "source": [
    "parcels = gpd.read_file(moscow, layer='Parcels')\n",
    "parcels"
   ]
  },
  {
   "cell_type": "code",
   "execution_count": null,
   "id": "5a965664-5850-4600-8216-62d9be5e9fcb",
   "metadata": {},
   "outputs": [],
   "source": [
    "parcels.columns"
   ]
  },
  {
   "cell_type": "markdown",
   "id": "f0b8f861-f74b-4278-800a-2baa5d785f3d",
   "metadata": {},
   "source": [
    "<div class=\"alert alert-block alert-warning\">\n",
    "\n",
    "### 5. Property sales\n",
    "Within the parcels layer, the column PM_DEEDCDT represents the date when a property was last sold.\n",
    "+ When was the last property sold, as of the date of this geodatabase?  \n",
    "+ Create a plot that shows sales per year as a function of time\n",
    "+ In what month are most sales carried out?\n",
    "</div>"
   ]
  },
  {
   "cell_type": "code",
   "execution_count": null,
   "id": "1741af80-8ac4-4654-a717-586ec4395fe2",
   "metadata": {},
   "outputs": [],
   "source": []
  },
  {
   "cell_type": "markdown",
   "id": "6f361567-ec0e-4b46-91f5-dd9b0c3053f6",
   "metadata": {},
   "source": [
    "<div class=\"alert alert-block alert-warning\">\n",
    "\n",
    "### 6. Public park area\n",
    "Within the Parks layer, there is a field that identifies the size of each park, in units of acres.\n",
    "\n",
    "On a map of the Moscow streets, bounded by the city limits, plot the location of each park, with the size of the park symbol scaled by the size of the park in acres.  Make the plot appealing.\n",
    "\n",
    "</div>"
   ]
  },
  {
   "cell_type": "code",
   "execution_count": null,
   "id": "cffd30c9-bf80-4f23-aa67-9693ba24d495",
   "metadata": {},
   "outputs": [],
   "source": []
  },
  {
   "cell_type": "code",
   "execution_count": null,
   "id": "313a7201-4e4a-4b32-aac1-dc4393de3d60",
   "metadata": {},
   "outputs": [],
   "source": []
  },
  {
   "cell_type": "code",
   "execution_count": null,
   "id": "fbf801cb-13a1-40c9-9bcc-2d34adf1d517",
   "metadata": {},
   "outputs": [],
   "source": []
  }
 ],
 "metadata": {
  "kernelspec": {
   "display_name": "Python [conda env:GISenv21b] *",
   "language": "python",
   "name": "conda-env-GISenv21b-py"
  },
  "language_info": {
   "codemirror_mode": {
    "name": "ipython",
    "version": 3
   },
   "file_extension": ".py",
   "mimetype": "text/x-python",
   "name": "python",
   "nbconvert_exporter": "python",
   "pygments_lexer": "ipython3",
   "version": "3.9.6"
  }
 },
 "nbformat": 4,
 "nbformat_minor": 5
}

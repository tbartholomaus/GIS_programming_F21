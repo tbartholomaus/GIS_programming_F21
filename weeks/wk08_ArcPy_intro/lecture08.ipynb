{
 "cells": [
  {
   "cell_type": "markdown",
   "id": "4837fa15-21d3-4512-80be-be1540a4df19",
   "metadata": {},
   "source": [
    "# Week 08: Intro to ArcPy"
   ]
  },
  {
   "cell_type": "markdown",
   "id": "d725d789-3a05-43b8-bec9-189cb134046d",
   "metadata": {},
   "source": [
    "## Projects"
   ]
  },
  {
   "cell_type": "markdown",
   "id": "7e63b70b-5e0a-4183-b4fc-7208fe363ec2",
   "metadata": {},
   "source": [
    "## Coming soon: Google Earth Engine and Open Street Map\n",
    "\n",
    "### Earth Engine:\n",
    "*An impressive collection of remote sensing and other geospatial data for us on the fly, with a python Application Programming Interface (API)*\n",
    "https://earthengine.google.com/\n",
    "https://developers.google.com/earth-engine/tutorials/community/intro-to-python-api-guiattard\n",
    "\n",
    "Please sign up this week.\n",
    "\n",
    "### OpenStreetMap\n",
    "*A global, free, set of community-sourced vectors, with an Application Programming Interface (API) that allows you to interface with it through python.*\n",
    "\n",
    "https://www.openstreetmap.org/\n"
   ]
  },
  {
   "cell_type": "code",
   "execution_count": null,
   "id": "92e3cce9-cf73-4396-ba3a-5c72f174ee6d",
   "metadata": {},
   "outputs": [],
   "source": []
  },
  {
   "cell_type": "code",
   "execution_count": null,
   "id": "7c71fc36-834c-47e8-b027-9c630c7b8dac",
   "metadata": {},
   "outputs": [],
   "source": [
    "https://www.youtube.com/watch?v=LIfLiNh7whs\n",
    "\n",
    "https://earthlab.colorado.edu/introduction-google-earth-engine-python-api"
   ]
  },
  {
   "cell_type": "code",
   "execution_count": null,
   "id": "6ba57e4e-9b55-4bbc-9756-3686417516eb",
   "metadata": {},
   "outputs": [],
   "source": []
  }
 ],
 "metadata": {
  "kernelspec": {
   "display_name": "Python [conda env:GISenv21b] *",
   "language": "python",
   "name": "conda-env-GISenv21b-py"
  },
  "language_info": {
   "codemirror_mode": {
    "name": "ipython",
    "version": 3
   },
   "file_extension": ".py",
   "mimetype": "text/x-python",
   "name": "python",
   "nbconvert_exporter": "python",
   "pygments_lexer": "ipython3",
   "version": "3.9.6"
  }
 },
 "nbformat": 4,
 "nbformat_minor": 5
}

{
 "cells": [
  {
   "cell_type": "markdown",
   "id": "c3126796-23de-4a83-8e46-993837f08fc1",
   "metadata": {},
   "source": [
    "# Lecture 05: Functions\n",
    "Learning goals:\n",
    "- creating functions\n",
    "- help for your functions (headers)\n"
   ]
  },
  {
   "cell_type": "code",
   "execution_count": null,
   "id": "b3098d7b-0a0d-4ff0-81b6-3683e309a406",
   "metadata": {},
   "outputs": [],
   "source": [
    "import numpy as np\n",
    "import matplotlib.pyplot as plt\n",
    "import geopandas as gpd\n",
    "from pathlib import Path\n",
    "# import fiona\n"
   ]
  },
  {
   "cell_type": "markdown",
   "id": "bcb50d01-4f95-4e26-be9a-fc539cfd9868",
   "metadata": {},
   "source": [
    "## Functions\n",
    "We've already been using a lot of functions defined within python and its modules.  Sometimes it's useful to create our own functions in order to make our code less repetitive.\n",
    "+ Functions begin with a `def` statement that names the function and identifies the input for the function within parentheses.\n",
    "+ The first line then ends with a colon `:`, just like a for loop or if statement.\n",
    "+ All subsequent lines must be indented to identify them as part of the function.\n",
    "+ The last line of the function ends with a `return` statement that tells the function what to return to the call, after the function is complete."
   ]
  },
  {
   "cell_type": "markdown",
   "id": "a70b4dec-6714-482b-bd64-70b5adc4e603",
   "metadata": {},
   "source": [
    "### Multiply two numbers together"
   ]
  },
  {
   "cell_type": "code",
   "execution_count": null,
   "id": "5430afc0-2c4a-417d-ab18-84e1993a0999",
   "metadata": {
    "tags": []
   },
   "outputs": [],
   "source": [
    "def multiply(x,y):\n",
    "    return x*y\n",
    "\n",
    "num1=15\n",
    "num2=5\n",
    "print(\"The product is: \",multiply(num1,num2))"
   ]
  },
  {
   "cell_type": "code",
   "execution_count": null,
   "id": "d88a30a2-3e5a-402e-8161-e895a6c752d6",
   "metadata": {},
   "outputs": [],
   "source": [
    "product = multiply(5,4)"
   ]
  },
  {
   "cell_type": "code",
   "execution_count": null,
   "id": "e6dce62e-8599-4711-a88b-0d74ccbb6cf0",
   "metadata": {},
   "outputs": [],
   "source": [
    "product"
   ]
  },
  {
   "cell_type": "markdown",
   "id": "997ac14f-b0e7-4ee9-9469-04b7a79fb914",
   "metadata": {},
   "source": [
    "A single function can return any number of outputs.  Just separate the outputs with commas.  Additional output will be caught (optionally) with commas when the function is called."
   ]
  },
  {
   "cell_type": "code",
   "execution_count": null,
   "id": "e38f5422-bb4a-4986-a102-74371fc0337a",
   "metadata": {},
   "outputs": [],
   "source": [
    "def multiply_complicated(x,y):\n",
    "    return x*y, x, y\n",
    "\n",
    "num1=15\n",
    "num2=5\n",
    "multiply_complicated(num1,num2)"
   ]
  },
  {
   "cell_type": "code",
   "execution_count": null,
   "id": "2ef7115b-75c9-44b0-92b1-cbd4d53d9f8c",
   "metadata": {},
   "outputs": [],
   "source": [
    "print(\"The product of\", multiply_complicated(num1,num2)[1], 'and', multiply_complicated(num1,num2)[2], 'is', multiply_complicated(num1,num2)[0])"
   ]
  },
  {
   "cell_type": "code",
   "execution_count": null,
   "id": "3e040a16-587f-4352-8452-20b801b2f363",
   "metadata": {},
   "outputs": [],
   "source": [
    "product, first, second = multiply_complicated(3,2)\n",
    "print(first, second, product)"
   ]
  },
  {
   "cell_type": "markdown",
   "id": "2e31fbf7-9f80-4df1-8929-8108412dffb1",
   "metadata": {},
   "source": [
    "Underscore `_`, or some other dummy output can be used to skip an output."
   ]
  },
  {
   "cell_type": "code",
   "execution_count": null,
   "id": "59a1880b-8c2d-48de-9992-f061137118fe",
   "metadata": {},
   "outputs": [],
   "source": [
    "_, junk, remember_me = multiply_complicated(4.5, 3.2)"
   ]
  },
  {
   "cell_type": "code",
   "execution_count": null,
   "id": "5eaab950-2224-47e6-92d5-542e43780f35",
   "metadata": {},
   "outputs": [],
   "source": [
    "remember_me"
   ]
  },
  {
   "cell_type": "markdown",
   "id": "c6567a0f-125a-43cb-aaba-1240a5ae6f49",
   "metadata": {},
   "source": [
    "## Remembering how to use a function: docstring"
   ]
  },
  {
   "cell_type": "code",
   "execution_count": null,
   "id": "e9add9b5-7b76-4343-9f29-a001dd34adcd",
   "metadata": {
    "tags": []
   },
   "outputs": [],
   "source": [
    "help(np.sin)"
   ]
  },
  {
   "cell_type": "code",
   "execution_count": null,
   "id": "294f24af-0bf8-430c-aa50-b5b60cfdd8cc",
   "metadata": {
    "tags": []
   },
   "outputs": [],
   "source": [
    "help(plt.plot)"
   ]
  },
  {
   "cell_type": "code",
   "execution_count": null,
   "id": "40c96e51-e41c-4c27-a164-25b8457b814f",
   "metadata": {},
   "outputs": [],
   "source": [
    "help(multiply_complicated)"
   ]
  },
  {
   "cell_type": "code",
   "execution_count": null,
   "id": "45cc7daf-99a3-434a-82f2-612d3a505b81",
   "metadata": {},
   "outputs": [],
   "source": [
    "def multiply_less_complicated(x,y):\n",
    "    \"\"\"\n",
    "    prod_of_x_and_y, x, y = multiply_less_complicated(x, y)\n",
    "    \n",
    "    Function to multiply two numbers (x, y) together, and return the product followed by the original two numbers\n",
    "    \"\"\"\n",
    "    return x*y, x, y\n"
   ]
  },
  {
   "cell_type": "code",
   "execution_count": null,
   "id": "3d2eaaf5-a471-45d9-9a79-849567f04bbe",
   "metadata": {},
   "outputs": [],
   "source": [
    "help(multiply_less_complicated)"
   ]
  },
  {
   "cell_type": "markdown",
   "id": "2fd855d8-1f5e-4eb5-8250-113b4ec155ed",
   "metadata": {},
   "source": [
    "## Positional, keyword, and optional arguments for functions\n",
    "If you mix nonkeyword (positional) arguments with keyword arguments, the positional arguments must come first, otherwise python won't know how to interpret your arguments.\n",
    "\n",
    "Remember the quadratic equation, $a x^2 + b x + c = 0$, has two solutions or roots.  These roots are $x = \\frac{-b \\pm \\sqrt{b^2 - 4ac} }{2a}$"
   ]
  },
  {
   "cell_type": "code",
   "execution_count": null,
   "id": "554adf31-7fdc-4abf-a2e4-af8018bfa00d",
   "metadata": {},
   "outputs": [],
   "source": [
    "def roots(a, b, c):\n",
    "    part = np.sqrt(b**2 - 4*a*c)\n",
    "    r1 = -b + part / (2*a)\n",
    "    r2 = -b - part / (2*a)\n",
    "    return r1, r2"
   ]
  },
  {
   "cell_type": "code",
   "execution_count": null,
   "id": "665fa48a-ee61-4651-af64-1104f44525a6",
   "metadata": {},
   "outputs": [],
   "source": [
    "roots(1, -1, -6)"
   ]
  },
  {
   "cell_type": "code",
   "execution_count": null,
   "id": "2593bfb8-be52-4faf-99b6-292f16a9619f",
   "metadata": {},
   "outputs": [],
   "source": [
    "roots(a=1, b=-1, c=-6)"
   ]
  },
  {
   "cell_type": "code",
   "execution_count": null,
   "id": "912635a0-a73e-4680-8748-c275076051bc",
   "metadata": {},
   "outputs": [],
   "source": [
    "roots(c=-6, a=1, b=-1)"
   ]
  },
  {
   "cell_type": "markdown",
   "id": "46ed9e1e-745d-471c-b049-c71b27eec04f",
   "metadata": {},
   "source": [
    "Sometimes it's handy to have default arguments for a function, in which case you can define that optional argument in the function definition.\n",
    "Optional arguments are always keyword arguments."
   ]
  },
  {
   "cell_type": "code",
   "execution_count": null,
   "id": "d4caa164-0ade-4ade-870b-584d2140d5c2",
   "metadata": {},
   "outputs": [],
   "source": [
    "def report_length(value, units='m'):\n",
    "    return 'The length is {:.2f} {}'.format(value, units)"
   ]
  },
  {
   "cell_type": "code",
   "execution_count": null,
   "id": "6b0b3e2b-d6cf-4b7c-b058-3715d6b55c05",
   "metadata": {},
   "outputs": [],
   "source": [
    "report_length(10.1579)"
   ]
  },
  {
   "cell_type": "code",
   "execution_count": null,
   "id": "73df072f-d3bc-4818-aa9b-16184cc39029",
   "metadata": {},
   "outputs": [],
   "source": [
    "report_length(34.2, 'ft')"
   ]
  },
  {
   "cell_type": "markdown",
   "id": "434f08a9-fe07-4dbb-97bd-80a3c95cb143",
   "metadata": {},
   "source": [
    "### Decimal degrees (D.D) and DD M.M\n",
    "Create a function that takes two numbers, lat and long, and returns two strings.  Assume that lat and long are in decimal degrees (like 46.73, -117.00 for Moscow).\n",
    "The two strings should be lat and long but in degrees and decimal minutes (like 46 43.8, -117 0.0 for Moscow)"
   ]
  },
  {
   "cell_type": "code",
   "execution_count": null,
   "id": "eb3a90c4-1544-448f-9464-53009276d176",
   "metadata": {},
   "outputs": [],
   "source": []
  },
  {
   "cell_type": "code",
   "execution_count": null,
   "id": "1cf43c88-4b47-4ced-b733-e4591ade9067",
   "metadata": {},
   "outputs": [],
   "source": []
  },
  {
   "cell_type": "markdown",
   "id": "2023468b-bb97-4d9d-988f-e3aba665c805",
   "metadata": {},
   "source": [
    "### Transforming a coordinate reference system\n",
    "Create a function that reads a vector dataset, and creates a csv file with the same name as the original dataset.\n",
    "The csv file should have one column for the coordinate name, two columns for the UTM Easting and Northing,\n",
    "two columns for the latitude and longitude in decimal degrees (like 46.73, -117.00 for Moscow),\n",
    "and two columns for the latitude and longitude in degrees and decimal minutes (like 46 43.8, -117 0.0 for Moscow).\n",
    "\n",
    "If you have extra time, write header info to the top of the csv file describing its contents.\n",
    "Test the function with both /GIS_programming_F21/datasets/glaciers/mystery_instruments and /GIS_programming_F21/datasets/glaciers/turner_instruments"
   ]
  },
  {
   "cell_type": "code",
   "execution_count": null,
   "id": "59e3f31d-82d6-40e5-9fb8-bc94ce0189b3",
   "metadata": {},
   "outputs": [],
   "source": []
  },
  {
   "cell_type": "code",
   "execution_count": null,
   "id": "7517cd2a-943f-4e6b-9a60-0274c9f95096",
   "metadata": {},
   "outputs": [],
   "source": []
  },
  {
   "cell_type": "code",
   "execution_count": null,
   "id": "3fa63806-15bb-4173-9f00-0d688e8fac95",
   "metadata": {},
   "outputs": [],
   "source": []
  }
 ],
 "metadata": {
  "kernelspec": {
   "display_name": "Python [conda env:GISenv21b] *",
   "language": "python",
   "name": "conda-env-GISenv21b-py"
  },
  "language_info": {
   "codemirror_mode": {
    "name": "ipython",
    "version": 3
   },
   "file_extension": ".py",
   "mimetype": "text/x-python",
   "name": "python",
   "nbconvert_exporter": "python",
   "pygments_lexer": "ipython3",
   "version": "3.9.6"
  }
 },
 "nbformat": 4,
 "nbformat_minor": 5
}

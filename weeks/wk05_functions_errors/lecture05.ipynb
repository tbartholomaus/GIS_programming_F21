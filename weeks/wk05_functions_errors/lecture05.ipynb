{
 "cells": [
  {
   "cell_type": "markdown",
   "id": "c3126796-23de-4a83-8e46-993837f08fc1",
   "metadata": {},
   "source": [
    "# Lecture 05: Functions\n",
    "Learning goals:\n",
    "- creating functions\n",
    "- help for your functions (headers)\n"
   ]
  },
  {
   "cell_type": "code",
   "execution_count": 1,
   "id": "b3098d7b-0a0d-4ff0-81b6-3683e309a406",
   "metadata": {},
   "outputs": [],
   "source": [
    "import numpy as np\n",
    "import matplotlib.pyplot as plt\n",
    "import geopandas as gpd\n",
    "from pathlib import Path\n",
    "# import fiona\n"
   ]
  },
  {
   "cell_type": "markdown",
   "id": "bcb50d01-4f95-4e26-be9a-fc539cfd9868",
   "metadata": {},
   "source": [
    "## Functions\n",
    "We've already been using a lot of functions defined within python and its modules.  Sometimes it's useful to create our own functions in order to make our code less repetitive.\n",
    "+ Functions begin with a `def` statement that names the function and identifies the input for the function within parentheses.\n",
    "+ The first line then ends with a colon `:`, just like a for loop or if statement.\n",
    "+ All subsequent lines must be indented to identify them as part of the function.\n",
    "+ The last line of the function ends with a `return` statement that tells the function what to return to the call, after the function is complete."
   ]
  },
  {
   "cell_type": "markdown",
   "id": "a70b4dec-6714-482b-bd64-70b5adc4e603",
   "metadata": {},
   "source": [
    "### Multiply two numbers together"
   ]
  },
  {
   "cell_type": "code",
   "execution_count": 2,
   "id": "5430afc0-2c4a-417d-ab18-84e1993a0999",
   "metadata": {
    "tags": []
   },
   "outputs": [
    {
     "name": "stdout",
     "output_type": "stream",
     "text": [
      "The product is:  75\n"
     ]
    }
   ],
   "source": [
    "def multiply(x,y):\n",
    "    return x*y\n",
    "\n",
    "num1=15\n",
    "num2=5\n",
    "print(\"The product is: \",multiply(num1,num2))"
   ]
  },
  {
   "cell_type": "code",
   "execution_count": 3,
   "id": "d88a30a2-3e5a-402e-8161-e895a6c752d6",
   "metadata": {},
   "outputs": [],
   "source": [
    "product = multiply(5,4)"
   ]
  },
  {
   "cell_type": "code",
   "execution_count": 4,
   "id": "e6dce62e-8599-4711-a88b-0d74ccbb6cf0",
   "metadata": {},
   "outputs": [
    {
     "data": {
      "text/plain": [
       "20"
      ]
     },
     "execution_count": 4,
     "metadata": {},
     "output_type": "execute_result"
    }
   ],
   "source": [
    "product"
   ]
  },
  {
   "cell_type": "markdown",
   "id": "997ac14f-b0e7-4ee9-9469-04b7a79fb914",
   "metadata": {},
   "source": [
    "A single function can return any number of outputs.  Just separate the outputs with commas.  Additional output will be caught (optionally) with commas when the function is called."
   ]
  },
  {
   "cell_type": "code",
   "execution_count": 7,
   "id": "e38f5422-bb4a-4986-a102-74371fc0337a",
   "metadata": {},
   "outputs": [
    {
     "data": {
      "text/plain": [
       "(75, 15, 5)"
      ]
     },
     "execution_count": 7,
     "metadata": {},
     "output_type": "execute_result"
    }
   ],
   "source": [
    "def multiply_complicated(x,y):\n",
    "    return x*y, x, y\n",
    "\n",
    "num1=15\n",
    "num2=5\n",
    "multiply_complicated(num1,num2)"
   ]
  },
  {
   "cell_type": "code",
   "execution_count": 8,
   "id": "2ef7115b-75c9-44b0-92b1-cbd4d53d9f8c",
   "metadata": {},
   "outputs": [
    {
     "name": "stdout",
     "output_type": "stream",
     "text": [
      "The product of 15 and 5 is 75\n"
     ]
    }
   ],
   "source": [
    "print(\"The product of\", multiply_complicated(num1,num2)[1], 'and', multiply_complicated(num1,num2)[2], 'is', multiply_complicated(num1,num2)[0])"
   ]
  },
  {
   "cell_type": "code",
   "execution_count": 9,
   "id": "3e040a16-587f-4352-8452-20b801b2f363",
   "metadata": {},
   "outputs": [
    {
     "name": "stdout",
     "output_type": "stream",
     "text": [
      "3 2 6\n"
     ]
    }
   ],
   "source": [
    "product, first, second = multiply_complicated(3,2)\n",
    "print(first, second, product)"
   ]
  },
  {
   "cell_type": "markdown",
   "id": "2e31fbf7-9f80-4df1-8929-8108412dffb1",
   "metadata": {},
   "source": [
    "Underscore `_`, or some other dummy output can be used to skip an output."
   ]
  },
  {
   "cell_type": "code",
   "execution_count": 11,
   "id": "59a1880b-8c2d-48de-9992-f061137118fe",
   "metadata": {},
   "outputs": [],
   "source": [
    "_, junk, remember_me = multiply_complicated(4.5, 3.2)"
   ]
  },
  {
   "cell_type": "code",
   "execution_count": 12,
   "id": "5eaab950-2224-47e6-92d5-542e43780f35",
   "metadata": {},
   "outputs": [
    {
     "data": {
      "text/plain": [
       "3.2"
      ]
     },
     "execution_count": 12,
     "metadata": {},
     "output_type": "execute_result"
    }
   ],
   "source": [
    "remember_me"
   ]
  },
  {
   "cell_type": "markdown",
   "id": "c6567a0f-125a-43cb-aaba-1240a5ae6f49",
   "metadata": {},
   "source": [
    "## Remembering how to use a function: docstring"
   ]
  },
  {
   "cell_type": "code",
   "execution_count": 13,
   "id": "e9add9b5-7b76-4343-9f29-a001dd34adcd",
   "metadata": {
    "collapsed": true,
    "jupyter": {
     "outputs_hidden": true
    },
    "tags": []
   },
   "outputs": [
    {
     "name": "stdout",
     "output_type": "stream",
     "text": [
      "Help on ufunc:\n",
      "\n",
      "sin = <ufunc 'sin'>\n",
      "    sin(x, /, out=None, *, where=True, casting='same_kind', order='K', dtype=None, subok=True[, signature, extobj])\n",
      "    \n",
      "    Trigonometric sine, element-wise.\n",
      "    \n",
      "    Parameters\n",
      "    ----------\n",
      "    x : array_like\n",
      "        Angle, in radians (:math:`2 \\pi` rad equals 360 degrees).\n",
      "    out : ndarray, None, or tuple of ndarray and None, optional\n",
      "        A location into which the result is stored. If provided, it must have\n",
      "        a shape that the inputs broadcast to. If not provided or None,\n",
      "        a freshly-allocated array is returned. A tuple (possible only as a\n",
      "        keyword argument) must have length equal to the number of outputs.\n",
      "    where : array_like, optional\n",
      "        This condition is broadcast over the input. At locations where the\n",
      "        condition is True, the `out` array will be set to the ufunc result.\n",
      "        Elsewhere, the `out` array will retain its original value.\n",
      "        Note that if an uninitialized `out` array is created via the default\n",
      "        ``out=None``, locations within it where the condition is False will\n",
      "        remain uninitialized.\n",
      "    **kwargs\n",
      "        For other keyword-only arguments, see the\n",
      "        :ref:`ufunc docs <ufuncs.kwargs>`.\n",
      "    \n",
      "    Returns\n",
      "    -------\n",
      "    y : array_like\n",
      "        The sine of each element of x.\n",
      "        This is a scalar if `x` is a scalar.\n",
      "    \n",
      "    See Also\n",
      "    --------\n",
      "    arcsin, sinh, cos\n",
      "    \n",
      "    Notes\n",
      "    -----\n",
      "    The sine is one of the fundamental functions of trigonometry (the\n",
      "    mathematical study of triangles).  Consider a circle of radius 1\n",
      "    centered on the origin.  A ray comes in from the :math:`+x` axis, makes\n",
      "    an angle at the origin (measured counter-clockwise from that axis), and\n",
      "    departs from the origin.  The :math:`y` coordinate of the outgoing\n",
      "    ray's intersection with the unit circle is the sine of that angle.  It\n",
      "    ranges from -1 for :math:`x=3\\pi / 2` to +1 for :math:`\\pi / 2.`  The\n",
      "    function has zeroes where the angle is a multiple of :math:`\\pi`.\n",
      "    Sines of angles between :math:`\\pi` and :math:`2\\pi` are negative.\n",
      "    The numerous properties of the sine and related functions are included\n",
      "    in any standard trigonometry text.\n",
      "    \n",
      "    Examples\n",
      "    --------\n",
      "    Print sine of one angle:\n",
      "    \n",
      "    >>> np.sin(np.pi/2.)\n",
      "    1.0\n",
      "    \n",
      "    Print sines of an array of angles given in degrees:\n",
      "    \n",
      "    >>> np.sin(np.array((0., 30., 45., 60., 90.)) * np.pi / 180. )\n",
      "    array([ 0.        ,  0.5       ,  0.70710678,  0.8660254 ,  1.        ])\n",
      "    \n",
      "    Plot the sine function:\n",
      "    \n",
      "    >>> import matplotlib.pylab as plt\n",
      "    >>> x = np.linspace(-np.pi, np.pi, 201)\n",
      "    >>> plt.plot(x, np.sin(x))\n",
      "    >>> plt.xlabel('Angle [rad]')\n",
      "    >>> plt.ylabel('sin(x)')\n",
      "    >>> plt.axis('tight')\n",
      "    >>> plt.show()\n",
      "\n"
     ]
    }
   ],
   "source": [
    "help(np.sin)"
   ]
  },
  {
   "cell_type": "code",
   "execution_count": 14,
   "id": "294f24af-0bf8-430c-aa50-b5b60cfdd8cc",
   "metadata": {
    "collapsed": true,
    "jupyter": {
     "outputs_hidden": true
    },
    "tags": []
   },
   "outputs": [
    {
     "name": "stdout",
     "output_type": "stream",
     "text": [
      "Help on function plot in module matplotlib.pyplot:\n",
      "\n",
      "plot(*args, scalex=True, scaley=True, data=None, **kwargs)\n",
      "    Plot y versus x as lines and/or markers.\n",
      "    \n",
      "    Call signatures::\n",
      "    \n",
      "        plot([x], y, [fmt], *, data=None, **kwargs)\n",
      "        plot([x], y, [fmt], [x2], y2, [fmt2], ..., **kwargs)\n",
      "    \n",
      "    The coordinates of the points or line nodes are given by *x*, *y*.\n",
      "    \n",
      "    The optional parameter *fmt* is a convenient way for defining basic\n",
      "    formatting like color, marker and linestyle. It's a shortcut string\n",
      "    notation described in the *Notes* section below.\n",
      "    \n",
      "    >>> plot(x, y)        # plot x and y using default line style and color\n",
      "    >>> plot(x, y, 'bo')  # plot x and y using blue circle markers\n",
      "    >>> plot(y)           # plot y using x as index array 0..N-1\n",
      "    >>> plot(y, 'r+')     # ditto, but with red plusses\n",
      "    \n",
      "    You can use `.Line2D` properties as keyword arguments for more\n",
      "    control on the appearance. Line properties and *fmt* can be mixed.\n",
      "    The following two calls yield identical results:\n",
      "    \n",
      "    >>> plot(x, y, 'go--', linewidth=2, markersize=12)\n",
      "    >>> plot(x, y, color='green', marker='o', linestyle='dashed',\n",
      "    ...      linewidth=2, markersize=12)\n",
      "    \n",
      "    When conflicting with *fmt*, keyword arguments take precedence.\n",
      "    \n",
      "    \n",
      "    **Plotting labelled data**\n",
      "    \n",
      "    There's a convenient way for plotting objects with labelled data (i.e.\n",
      "    data that can be accessed by index ``obj['y']``). Instead of giving\n",
      "    the data in *x* and *y*, you can provide the object in the *data*\n",
      "    parameter and just give the labels for *x* and *y*::\n",
      "    \n",
      "    >>> plot('xlabel', 'ylabel', data=obj)\n",
      "    \n",
      "    All indexable objects are supported. This could e.g. be a `dict`, a\n",
      "    `pandas.DataFrame` or a structured numpy array.\n",
      "    \n",
      "    \n",
      "    **Plotting multiple sets of data**\n",
      "    \n",
      "    There are various ways to plot multiple sets of data.\n",
      "    \n",
      "    - The most straight forward way is just to call `plot` multiple times.\n",
      "      Example:\n",
      "    \n",
      "      >>> plot(x1, y1, 'bo')\n",
      "      >>> plot(x2, y2, 'go')\n",
      "    \n",
      "    - If *x* and/or *y* are 2D arrays a separate data set will be drawn\n",
      "      for every column. If both *x* and *y* are 2D, they must have the\n",
      "      same shape. If only one of them is 2D with shape (N, m) the other\n",
      "      must have length N and will be used for every data set m.\n",
      "    \n",
      "      Example:\n",
      "    \n",
      "      >>> x = [1, 2, 3]\n",
      "      >>> y = np.array([[1, 2], [3, 4], [5, 6]])\n",
      "      >>> plot(x, y)\n",
      "    \n",
      "      is equivalent to:\n",
      "    \n",
      "      >>> for col in range(y.shape[1]):\n",
      "      ...     plot(x, y[:, col])\n",
      "    \n",
      "    - The third way is to specify multiple sets of *[x]*, *y*, *[fmt]*\n",
      "      groups::\n",
      "    \n",
      "      >>> plot(x1, y1, 'g^', x2, y2, 'g-')\n",
      "    \n",
      "      In this case, any additional keyword argument applies to all\n",
      "      datasets. Also this syntax cannot be combined with the *data*\n",
      "      parameter.\n",
      "    \n",
      "    By default, each line is assigned a different style specified by a\n",
      "    'style cycle'. The *fmt* and line property parameters are only\n",
      "    necessary if you want explicit deviations from these defaults.\n",
      "    Alternatively, you can also change the style cycle using\n",
      "    :rc:`axes.prop_cycle`.\n",
      "    \n",
      "    \n",
      "    Parameters\n",
      "    ----------\n",
      "    x, y : array-like or scalar\n",
      "        The horizontal / vertical coordinates of the data points.\n",
      "        *x* values are optional and default to ``range(len(y))``.\n",
      "    \n",
      "        Commonly, these parameters are 1D arrays.\n",
      "    \n",
      "        They can also be scalars, or two-dimensional (in that case, the\n",
      "        columns represent separate data sets).\n",
      "    \n",
      "        These arguments cannot be passed as keywords.\n",
      "    \n",
      "    fmt : str, optional\n",
      "        A format string, e.g. 'ro' for red circles. See the *Notes*\n",
      "        section for a full description of the format strings.\n",
      "    \n",
      "        Format strings are just an abbreviation for quickly setting\n",
      "        basic line properties. All of these and more can also be\n",
      "        controlled by keyword arguments.\n",
      "    \n",
      "        This argument cannot be passed as keyword.\n",
      "    \n",
      "    data : indexable object, optional\n",
      "        An object with labelled data. If given, provide the label names to\n",
      "        plot in *x* and *y*.\n",
      "    \n",
      "        .. note::\n",
      "            Technically there's a slight ambiguity in calls where the\n",
      "            second label is a valid *fmt*. ``plot('n', 'o', data=obj)``\n",
      "            could be ``plt(x, y)`` or ``plt(y, fmt)``. In such cases,\n",
      "            the former interpretation is chosen, but a warning is issued.\n",
      "            You may suppress the warning by adding an empty format string\n",
      "            ``plot('n', 'o', '', data=obj)``.\n",
      "    \n",
      "    Returns\n",
      "    -------\n",
      "    list of `.Line2D`\n",
      "        A list of lines representing the plotted data.\n",
      "    \n",
      "    Other Parameters\n",
      "    ----------------\n",
      "    scalex, scaley : bool, default: True\n",
      "        These parameters determine if the view limits are adapted to the\n",
      "        data limits. The values are passed on to `autoscale_view`.\n",
      "    \n",
      "    **kwargs : `.Line2D` properties, optional\n",
      "        *kwargs* are used to specify properties like a line label (for\n",
      "        auto legends), linewidth, antialiasing, marker face color.\n",
      "        Example::\n",
      "    \n",
      "        >>> plot([1, 2, 3], [1, 2, 3], 'go-', label='line 1', linewidth=2)\n",
      "        >>> plot([1, 2, 3], [1, 4, 9], 'rs', label='line 2')\n",
      "    \n",
      "        If you specify multiple lines with one plot call, the kwargs apply\n",
      "        to all those lines. In case the label object is iterable, each\n",
      "        element is used as labels for each set of data.\n",
      "    \n",
      "        Here is a list of available `.Line2D` properties:\n",
      "    \n",
      "        Properties:\n",
      "        agg_filter: a filter function, which takes a (m, n, 3) float array and a dpi value, and returns a (m, n, 3) array\n",
      "        alpha: scalar or None\n",
      "        animated: bool\n",
      "        antialiased or aa: bool\n",
      "        clip_box: `.Bbox`\n",
      "        clip_on: bool\n",
      "        clip_path: Patch or (Path, Transform) or None\n",
      "        color or c: color\n",
      "        contains: unknown\n",
      "        dash_capstyle: `.CapStyle` or {'butt', 'projecting', 'round'}\n",
      "        dash_joinstyle: `.JoinStyle` or {'miter', 'round', 'bevel'}\n",
      "        dashes: sequence of floats (on/off ink in points) or (None, None)\n",
      "        data: (2, N) array or two 1D arrays\n",
      "        drawstyle or ds: {'default', 'steps', 'steps-pre', 'steps-mid', 'steps-post'}, default: 'default'\n",
      "        figure: `.Figure`\n",
      "        fillstyle: {'full', 'left', 'right', 'bottom', 'top', 'none'}\n",
      "        gid: str\n",
      "        in_layout: bool\n",
      "        label: object\n",
      "        linestyle or ls: {'-', '--', '-.', ':', '', (offset, on-off-seq), ...}\n",
      "        linewidth or lw: float\n",
      "        marker: marker style string, `~.path.Path` or `~.markers.MarkerStyle`\n",
      "        markeredgecolor or mec: color\n",
      "        markeredgewidth or mew: float\n",
      "        markerfacecolor or mfc: color\n",
      "        markerfacecoloralt or mfcalt: color\n",
      "        markersize or ms: float\n",
      "        markevery: None or int or (int, int) or slice or list[int] or float or (float, float) or list[bool]\n",
      "        path_effects: `.AbstractPathEffect`\n",
      "        picker: float or callable[[Artist, Event], tuple[bool, dict]]\n",
      "        pickradius: float\n",
      "        rasterized: bool\n",
      "        sketch_params: (scale: float, length: float, randomness: float)\n",
      "        snap: bool or None\n",
      "        solid_capstyle: `.CapStyle` or {'butt', 'projecting', 'round'}\n",
      "        solid_joinstyle: `.JoinStyle` or {'miter', 'round', 'bevel'}\n",
      "        transform: `matplotlib.transforms.Transform`\n",
      "        url: str\n",
      "        visible: bool\n",
      "        xdata: 1D array\n",
      "        ydata: 1D array\n",
      "        zorder: float\n",
      "    \n",
      "    See Also\n",
      "    --------\n",
      "    scatter : XY scatter plot with markers of varying size and/or color (\n",
      "        sometimes also called bubble chart).\n",
      "    \n",
      "    Notes\n",
      "    -----\n",
      "    **Format Strings**\n",
      "    \n",
      "    A format string consists of a part for color, marker and line::\n",
      "    \n",
      "        fmt = '[marker][line][color]'\n",
      "    \n",
      "    Each of them is optional. If not provided, the value from the style\n",
      "    cycle is used. Exception: If ``line`` is given, but no ``marker``,\n",
      "    the data will be a line without markers.\n",
      "    \n",
      "    Other combinations such as ``[color][marker][line]`` are also\n",
      "    supported, but note that their parsing may be ambiguous.\n",
      "    \n",
      "    **Markers**\n",
      "    \n",
      "    =============   ===============================\n",
      "    character       description\n",
      "    =============   ===============================\n",
      "    ``'.'``         point marker\n",
      "    ``','``         pixel marker\n",
      "    ``'o'``         circle marker\n",
      "    ``'v'``         triangle_down marker\n",
      "    ``'^'``         triangle_up marker\n",
      "    ``'<'``         triangle_left marker\n",
      "    ``'>'``         triangle_right marker\n",
      "    ``'1'``         tri_down marker\n",
      "    ``'2'``         tri_up marker\n",
      "    ``'3'``         tri_left marker\n",
      "    ``'4'``         tri_right marker\n",
      "    ``'8'``         octagon marker\n",
      "    ``'s'``         square marker\n",
      "    ``'p'``         pentagon marker\n",
      "    ``'P'``         plus (filled) marker\n",
      "    ``'*'``         star marker\n",
      "    ``'h'``         hexagon1 marker\n",
      "    ``'H'``         hexagon2 marker\n",
      "    ``'+'``         plus marker\n",
      "    ``'x'``         x marker\n",
      "    ``'X'``         x (filled) marker\n",
      "    ``'D'``         diamond marker\n",
      "    ``'d'``         thin_diamond marker\n",
      "    ``'|'``         vline marker\n",
      "    ``'_'``         hline marker\n",
      "    =============   ===============================\n",
      "    \n",
      "    **Line Styles**\n",
      "    \n",
      "    =============    ===============================\n",
      "    character        description\n",
      "    =============    ===============================\n",
      "    ``'-'``          solid line style\n",
      "    ``'--'``         dashed line style\n",
      "    ``'-.'``         dash-dot line style\n",
      "    ``':'``          dotted line style\n",
      "    =============    ===============================\n",
      "    \n",
      "    Example format strings::\n",
      "    \n",
      "        'b'    # blue markers with default shape\n",
      "        'or'   # red circles\n",
      "        '-g'   # green solid line\n",
      "        '--'   # dashed line with default color\n",
      "        '^k:'  # black triangle_up markers connected by a dotted line\n",
      "    \n",
      "    **Colors**\n",
      "    \n",
      "    The supported color abbreviations are the single letter codes\n",
      "    \n",
      "    =============    ===============================\n",
      "    character        color\n",
      "    =============    ===============================\n",
      "    ``'b'``          blue\n",
      "    ``'g'``          green\n",
      "    ``'r'``          red\n",
      "    ``'c'``          cyan\n",
      "    ``'m'``          magenta\n",
      "    ``'y'``          yellow\n",
      "    ``'k'``          black\n",
      "    ``'w'``          white\n",
      "    =============    ===============================\n",
      "    \n",
      "    and the ``'CN'`` colors that index into the default property cycle.\n",
      "    \n",
      "    If the color is the only part of the format string, you can\n",
      "    additionally use any  `matplotlib.colors` spec, e.g. full names\n",
      "    (``'green'``) or hex strings (``'#008000'``).\n",
      "\n"
     ]
    }
   ],
   "source": [
    "help(plt.plot)"
   ]
  },
  {
   "cell_type": "code",
   "execution_count": null,
   "id": "7067d2a6-8e83-4bb2-97d9-61f5ae479682",
   "metadata": {},
   "outputs": [],
   "source": [
    "plt.plot("
   ]
  },
  {
   "cell_type": "code",
   "execution_count": null,
   "id": "38009fdf-a5d8-4700-8357-fa4d8f6c0830",
   "metadata": {},
   "outputs": [],
   "source": []
  },
  {
   "cell_type": "code",
   "execution_count": 15,
   "id": "40c96e51-e41c-4c27-a164-25b8457b814f",
   "metadata": {},
   "outputs": [
    {
     "name": "stdout",
     "output_type": "stream",
     "text": [
      "Help on function multiply_complicated in module __main__:\n",
      "\n",
      "multiply_complicated(x, y)\n",
      "\n"
     ]
    }
   ],
   "source": [
    "help(multiply_complicated)"
   ]
  },
  {
   "cell_type": "code",
   "execution_count": 16,
   "id": "45cc7daf-99a3-434a-82f2-612d3a505b81",
   "metadata": {},
   "outputs": [],
   "source": [
    "def multiply_less_complicated(x,y):\n",
    "    \"\"\"\n",
    "    prod_of_x_and_y, x, y = multiply_less_complicated(x, y)\n",
    "    \n",
    "    Function to multiply two numbers (x, y) together, and return the product followed by the original two numbers\n",
    "    \"\"\"\n",
    "    return x*y, x, y\n"
   ]
  },
  {
   "cell_type": "code",
   "execution_count": 17,
   "id": "3d2eaaf5-a471-45d9-9a79-849567f04bbe",
   "metadata": {},
   "outputs": [
    {
     "name": "stdout",
     "output_type": "stream",
     "text": [
      "Help on function multiply_less_complicated in module __main__:\n",
      "\n",
      "multiply_less_complicated(x, y)\n",
      "    prod_of_x_and_y, x, y = multiply_less_complicated(x, y)\n",
      "    \n",
      "    Function to multiply two numbers (x, y) together, and return the product followed by the original two numbers\n",
      "\n"
     ]
    }
   ],
   "source": [
    "help(multiply_less_complicated)"
   ]
  },
  {
   "cell_type": "markdown",
   "id": "2fd855d8-1f5e-4eb5-8250-113b4ec155ed",
   "metadata": {},
   "source": [
    "## Positional, keyword, and optional arguments for functions\n",
    "If you mix nonkeyword (positional) arguments with keyword arguments, the positional arguments must come first, otherwise python won't know how to interpret your arguments.\n",
    "\n",
    "Remember the quadratic equation, $a x^2 + b x + c = 0$, has two solutions or roots.  These roots are $x = \\frac{-b \\pm \\sqrt{b^2 - 4ac} }{2a}$"
   ]
  },
  {
   "cell_type": "code",
   "execution_count": 25,
   "id": "2f124aff-44f9-426d-8b10-b702d2cfdcbc",
   "metadata": {},
   "outputs": [
    {
     "name": "stdout",
     "output_type": "stream",
     "text": [
      "Help on function roots in module __main__:\n",
      "\n",
      "roots(a, b, c)\n",
      "    testing doctstring\n",
      "\n"
     ]
    }
   ],
   "source": [
    "help(roots)"
   ]
  },
  {
   "cell_type": "code",
   "execution_count": 26,
   "id": "554adf31-7fdc-4abf-a2e4-af8018bfa00d",
   "metadata": {},
   "outputs": [
    {
     "ename": "IndentationError",
     "evalue": "expected an indented block (2387581781.py, line 2)",
     "output_type": "error",
     "traceback": [
      "\u001b[0;36m  File \u001b[0;32m\"/var/folders/x4/_qy1pvxd5lg_685vzy608d200000gn/T/ipykernel_23789/2387581781.py\"\u001b[0;36m, line \u001b[0;32m2\u001b[0m\n\u001b[0;31m    \"\"\"\u001b[0m\n\u001b[0m    ^\u001b[0m\n\u001b[0;31mIndentationError\u001b[0m\u001b[0;31m:\u001b[0m expected an indented block\n"
     ]
    }
   ],
   "source": [
    "def roots(a, b, c):\n",
    "    \"\"\"\n",
    "    testing doctstring\n",
    "    \"\"\"\n",
    "    part = np.sqrt(b**2 - 4*a*c)\n",
    "    r1 = -b + part / (2*a)\n",
    "    r2 = -b - part / (2*a)\n",
    "    return r1, r2"
   ]
  },
  {
   "cell_type": "code",
   "execution_count": 19,
   "id": "ec0bcbad-1abe-47cf-bcc2-a1d4a4a42d05",
   "metadata": {},
   "outputs": [
    {
     "data": {
      "text/plain": [
       "(3.5, -1.5)"
      ]
     },
     "execution_count": 19,
     "metadata": {},
     "output_type": "execute_result"
    }
   ],
   "source": [
    "roots(1, -1, -6)"
   ]
  },
  {
   "cell_type": "code",
   "execution_count": 21,
   "id": "2593bfb8-be52-4faf-99b6-292f16a9619f",
   "metadata": {},
   "outputs": [],
   "source": [
    "r1, r2 = roots(a=1, b=-1, c=-6)"
   ]
  },
  {
   "cell_type": "code",
   "execution_count": 22,
   "id": "bfe3f491-842d-4801-8f62-e072390d6a87",
   "metadata": {},
   "outputs": [
    {
     "data": {
      "text/plain": [
       "3.5"
      ]
     },
     "execution_count": 22,
     "metadata": {},
     "output_type": "execute_result"
    }
   ],
   "source": [
    "r1"
   ]
  },
  {
   "cell_type": "code",
   "execution_count": 23,
   "id": "912635a0-a73e-4680-8748-c275076051bc",
   "metadata": {},
   "outputs": [
    {
     "data": {
      "text/plain": [
       "(3.5, -1.5)"
      ]
     },
     "execution_count": 23,
     "metadata": {},
     "output_type": "execute_result"
    }
   ],
   "source": [
    "roots(c=-6, a=1, b=-1)"
   ]
  },
  {
   "cell_type": "markdown",
   "id": "46ed9e1e-745d-471c-b049-c71b27eec04f",
   "metadata": {},
   "source": [
    "Sometimes it's handy to have default arguments for a function, in which case you can define that optional argument in the function definition.\n",
    "Optional arguments are always keyword arguments."
   ]
  },
  {
   "cell_type": "code",
   "execution_count": 40,
   "id": "d4caa164-0ade-4ade-870b-584d2140d5c2",
   "metadata": {},
   "outputs": [],
   "source": [
    "def report_length(value, units='m'):\n",
    "    return 'The length is {:.2f} {}'.format(value, units)"
   ]
  },
  {
   "cell_type": "code",
   "execution_count": 41,
   "id": "6b0b3e2b-d6cf-4b7c-b058-3715d6b55c05",
   "metadata": {},
   "outputs": [
    {
     "data": {
      "text/plain": [
       "'The length is 10.16 m'"
      ]
     },
     "execution_count": 41,
     "metadata": {},
     "output_type": "execute_result"
    }
   ],
   "source": [
    "report_length(10.1579)"
   ]
  },
  {
   "cell_type": "code",
   "execution_count": 42,
   "id": "73df072f-d3bc-4818-aa9b-16184cc39029",
   "metadata": {},
   "outputs": [
    {
     "data": {
      "text/plain": [
       "'The length is 34.20 ft'"
      ]
     },
     "execution_count": 42,
     "metadata": {},
     "output_type": "execute_result"
    }
   ],
   "source": [
    "report_length(34.2, 'ft')"
   ]
  },
  {
   "cell_type": "markdown",
   "id": "434f08a9-fe07-4dbb-97bd-80a3c95cb143",
   "metadata": {},
   "source": [
    "### Decimal degrees (D.D) and DD M.M\n",
    "Create a function that takes two numbers, lat and long, and returns two strings.  Assume that lat and long are in decimal degrees (like 46.73, -117.00 for Moscow).\n",
    "The two strings should be lat and long but in degrees and decimal minutes (like 46 43.8, -117 0.0 for Moscow)\n",
    "\n",
    "If you finish early, create an additional option for your function,\n",
    "that allows the user to specify whether the output should be degrees and\n",
    "decimal minutes, or degrees, minutes, and decimal seconds."
   ]
  },
  {
   "cell_type": "code",
   "execution_count": 45,
   "id": "eb3a90c4-1544-448f-9464-53009276d176",
   "metadata": {},
   "outputs": [
    {
     "data": {
      "text/plain": [
       "-47.0"
      ]
     },
     "execution_count": 45,
     "metadata": {},
     "output_type": "execute_result"
    }
   ],
   "source": [
    "lat = -46.73\n",
    "np.floor(lat)"
   ]
  },
  {
   "cell_type": "code",
   "execution_count": 46,
   "id": "1cf43c88-4b47-4ced-b733-e4591ade9067",
   "metadata": {},
   "outputs": [
    {
     "data": {
      "text/plain": [
       "'46 43.8'"
      ]
     },
     "execution_count": 46,
     "metadata": {},
     "output_type": "execute_result"
    }
   ],
   "source": [
    "str(46) + ' ' + str(43.8)"
   ]
  },
  {
   "cell_type": "markdown",
   "id": "2023468b-bb97-4d9d-988f-e3aba665c805",
   "metadata": {},
   "source": [
    "### Transforming a coordinate reference system\n",
    "Create a function that reads a vector dataset, and creates a csv file with the same name as the original dataset.\n",
    "The csv file should have one column for the coordinate name, two columns for the UTM Easting and Northing,\n",
    "two columns for the latitude and longitude in decimal degrees (like 46.73, -117.00 for Moscow),\n",
    "and two columns for the latitude and longitude in degrees and decimal minutes (like 46 43.8, -117 0.0 for Moscow).\n",
    "\n",
    "If you have extra time, write header info to the top of the csv file describing its contents.\n",
    "Test the function with both /GIS_programming_F21/datasets/glaciers/mystery_instruments and /GIS_programming_F21/datasets/glaciers/turner_instruments"
   ]
  },
  {
   "cell_type": "code",
   "execution_count": null,
   "id": "59e3f31d-82d6-40e5-9fb8-bc94ce0189b3",
   "metadata": {},
   "outputs": [],
   "source": []
  },
  {
   "cell_type": "code",
   "execution_count": null,
   "id": "7517cd2a-943f-4e6b-9a60-0274c9f95096",
   "metadata": {},
   "outputs": [],
   "source": []
  },
  {
   "cell_type": "code",
   "execution_count": null,
   "id": "3fa63806-15bb-4173-9f00-0d688e8fac95",
   "metadata": {},
   "outputs": [],
   "source": []
  }
 ],
 "metadata": {
  "kernelspec": {
   "display_name": "Python [conda env:GISenv21b] *",
   "language": "python",
   "name": "conda-env-GISenv21b-py"
  },
  "language_info": {
   "codemirror_mode": {
    "name": "ipython",
    "version": 3
   },
   "file_extension": ".py",
   "mimetype": "text/x-python",
   "name": "python",
   "nbconvert_exporter": "python",
   "pygments_lexer": "ipython3",
   "version": "3.9.6"
  }
 },
 "nbformat": 4,
 "nbformat_minor": 5
}

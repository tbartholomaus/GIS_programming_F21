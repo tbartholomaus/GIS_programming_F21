{
 "cells": [
  {
   "cell_type": "markdown",
   "id": "c3126796-23de-4a83-8e46-993837f08fc1",
   "metadata": {},
   "source": [
    "# Assignment 05, functions and errors\n",
    "Learning goals:\n",
    "- creating functions\n",
    "- help for your functions (headers)\n",
    "- error handling\n",
    "\n",
    "## Reading\n",
    "### Handling errors in your code\n",
    "At some point in the future, you may well be the most sophisticated Python user working on a team.\n",
    "At that point, you may be creating python functions for your team's use, and you'll have to anticipate\n",
    "that the GIS tools you create for your team are not always used as anticipated.  \n",
    "For example, you might write a function that anticipates input as a string, but the function\n",
    "is given a float.  For your function to be as useful as possible, your function should be able to\n",
    "handle this surprise without quitting.\n",
    "\n",
    "To handle errors in Python, a piece of code that have the potential to cause problems\n",
    "should be placed within a `try` and `except` block.  To learn how, read the following two articles:\n",
    "+ this handy, short, blog article: https://blog.devgenius.io/python-error-handling-8bed3f5b5769\n",
    "+ the section of the Python tutorial on errors and exceptions, https://docs.python.org/3/tutorial/errors.html, half way through section 8.3, until you get to \"A class in an except clause is compatible with an exception...\"\n",
    "\n",
    "\"Classes\" are special types of variables (or objects) within python that can have individual _methods_ or _attributes_ assigned "
   ]
  },
  {
   "cell_type": "code",
   "execution_count": null,
   "id": "a40d1189-d857-485c-bf62-1b030b29e5e8",
   "metadata": {},
   "outputs": [],
   "source": []
  },
  {
   "cell_type": "markdown",
   "id": "d4d198be-d886-4a1e-8cf9-99f23cfdcbd1",
   "metadata": {
    "tags": []
   },
   "source": [
    "## UTM zones\n",
    "There are 60 UTM zones around the world, each of which has a north or south version.  These zones typically span 6 degrees of longitude.\n",
    "Zone 1 covers longitude 180° to 174° W (aka -180° to -174° E); zone numbering increases eastward to zone 60, which covers longitude 174°E to 180°.\n",
    "Here in north central Idaho, we're in zone 11N.\n",
    "\n",
    "Different coordinate reference systems (CRSs) are identified with a unique EPSG code\n",
    "(https://en.wikipedia.org/wiki/EPSG_Geodetic_Parameter_Dataset)\n",
    "The formula to identify the appropriate EPSG for a UTM zone based on latitude and longitude is below \n",
    "(https://gis.stackexchange.com/questions/190198/how-to-get-appropriate-crs-for-a-position-specified-in-lat-lon-coordinates)."
   ]
  },
  {
   "cell_type": "code",
   "execution_count": 47,
   "id": "d0bf2c4f-6248-4d0e-8eb3-c3957e1a77f1",
   "metadata": {
    "tags": []
   },
   "outputs": [],
   "source": [
    "latitude = 58\n",
    "longitude = -134.3\n",
    "EPSG = int(  32700 - ((np.sign(latitude)+1)/2 * 100) +  (np.floor((180+longitude)/6) + 1)  )"
   ]
  },
  {
   "cell_type": "markdown",
   "id": "e0743bf2-c4fc-4e17-9eec-bd3730f14bfc",
   "metadata": {},
   "source": [
    "## Assignment\n",
    "Complete one of the two assignments below, either 1 or 2.  Include at least one example of \n",
    "using `try` and `except` statements to handle potentially faulty input to the function.\n",
    "Include a docstring for your function that explains the purpose of the function, and provides\n",
    "direction regarding how to use it"
   ]
  },
  {
   "cell_type": "markdown",
   "id": "2023468b-bb97-4d9d-988f-e3aba665c805",
   "metadata": {},
   "source": [
    "### 1. Sharing data points\n",
    "You're a field scientist working with collaborators from several different other universities and agencies.\n",
    "Next week, you're getting together with your collaborators to visit field sites and \n",
    "you know that many different scientists and field workers prerer to use different coordinate reference systems.\n",
    "You want to create a table of coordinates that you'll visit with your collaborators, and in a number of\n",
    "different coordinate reference systems so that everyone can just punch the coordinates into their GPS\n",
    "units, without having to do conversions out in the parking lot where you're all going to meet.\n",
    "You suspect that you'll have to do the same thing again several more times before the end of your project\n",
    "so you want to create a function that will do these conversions automatically, without having to repeat\n",
    "the same steps again and again.\n",
    "\n",
    "Create a function that reads a vector dataset, and create a csv file with the same name as the original dataset.\n",
    "The csv file should have one row for each site you want to visit, and seven columns in total:\n",
    "+ one column for the coordinate name,\n",
    "+ two columns for the UTM Easting and Northing,\n",
    "+ two columns for the latitude and longitude in decimal degrees (like 46.73, -117.00 for Moscow), and\n",
    "+ two columns for the latitude and longitude in degrees and decimal minutes (like 46 43.8, -117 0.0 for Moscow).\n",
    "\n",
    "Test the function with both `GIS_programming_F21/datasets/glaciers/mystery_instruments` and `GIS_programming_F21/datasets/glaciers/turner_instruments`.\n",
    "If you have extra time, learn how to and write header info to the top of the csv file describing its contents.\n"
   ]
  },
  {
   "cell_type": "code",
   "execution_count": null,
   "id": "7517cd2a-943f-4e6b-9a60-0274c9f95096",
   "metadata": {},
   "outputs": [],
   "source": []
  },
  {
   "cell_type": "code",
   "execution_count": null,
   "id": "ee7f3d39-f48a-4d7f-ba65-400e01b488bc",
   "metadata": {},
   "outputs": [],
   "source": []
  },
  {
   "cell_type": "markdown",
   "id": "47388f2a-5cb4-490e-bd04-298454529967",
   "metadata": {},
   "source": [
    "### or 2. Maintaining parole"
   ]
  },
  {
   "cell_type": "markdown",
   "id": "9103e408-55a8-4598-8764-9ac4d72cfa2f",
   "metadata": {},
   "source": [
    "You're a GIS specialist for Latah County. Five prisoners from the Latah County jail \n",
    "were recently released from county jail for good behavior but are on probation.\n",
    "A judge required, as a condition of their parole releases, that they stay within\n",
    "the limits of the City of Moscow for a period of two weeks.\n",
    "\n",
    "To assist with compliance\n",
    "monitoring, each parolee wears an ankle bracelet that tracks and logs their location \n",
    "each hour.  These files come from the monitoring software as csv files with times and\n",
    "locations.  In the past, a county employee manually read in each data file into an Arc\n",
    "project and looked at the locations visually to determine if they stayed within the city.\n",
    "You recently told this county employee that there's a better way.\n",
    "\n",
    "Write a python function that reads in one of these data files and returns with a\n",
    "printed statement as to whether the parolee complied with the terms of their release.\n",
    "The data files for parolees 117 through 121 are included in this assignment. I recommend\n",
    "that you use pandas to read each csv file as a dataframe."
   ]
  },
  {
   "cell_type": "code",
   "execution_count": null,
   "id": "3f7ea6c8-dfe7-4216-900e-5a7c90da0346",
   "metadata": {},
   "outputs": [],
   "source": []
  }
 ],
 "metadata": {
  "kernelspec": {
   "display_name": "Python [conda env:GISenv21b] *",
   "language": "python",
   "name": "conda-env-GISenv21b-py"
  },
  "language_info": {
   "codemirror_mode": {
    "name": "ipython",
    "version": 3
   },
   "file_extension": ".py",
   "mimetype": "text/x-python",
   "name": "python",
   "nbconvert_exporter": "python",
   "pygments_lexer": "ipython3",
   "version": "3.9.6"
  }
 },
 "nbformat": 4,
 "nbformat_minor": 5
}

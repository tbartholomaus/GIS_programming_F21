{
 "cells": [
  {
   "cell_type": "markdown",
   "id": "52cd9c6a-0094-4952-b3d5-9b6bc54c2d12",
   "metadata": {},
   "source": [
    "# Assignment 07: Working with DEMs (wrap up)\n",
    "\n",
    "\n",
    "Please begin by completing the reading from last week's assignment if you have not yet."
   ]
  },
  {
   "cell_type": "code",
   "execution_count": null,
   "id": "0d9e0f5a-11bf-4faf-a924-df2b30d745d8",
   "metadata": {},
   "outputs": [],
   "source": [
    "\n",
    "import numpy as np\n",
    "import matplotlib.pyplot as plt\n",
    "from pathlib import Path\n",
    "\n",
    "import rasterio as rio\n",
    "import rasterio.plot # Necessary to use rio.plot.show()\n",
    "import richdem as rd\n",
    "\n",
    "import geopandas as gpd\n",
    "import fiona\n"
   ]
  },
  {
   "cell_type": "code",
   "execution_count": null,
   "id": "10a31d44-5bef-417b-846b-0f42bc8d0250",
   "metadata": {},
   "outputs": [],
   "source": [
    "%matplotlib widget\n",
    "# %matplotlib inline"
   ]
  },
  {
   "cell_type": "code",
   "execution_count": null,
   "id": "12a66e73-be44-45dc-9ca4-b463221633a5",
   "metadata": {},
   "outputs": [],
   "source": [
    "# Find the datasets directory in a parent directory\n",
    "datasets_dir = Path('datasets')\n",
    "while not datasets_dir.exists(): # so long as `datasets` is not in the path datasets_dir ...\n",
    "    datasets_dir = '..' / datasets_dir # ... keep adding the parent directory to the datasets path\n",
    "\n",
    "lidar_dem_path = datasets_dir / 'moscow' / 'moscow_lidar_elevation' / 'City_of_Moscow_LiDAR.vrt'\n",
    "print(lidar_dem_path)"
   ]
  },
  {
   "cell_type": "code",
   "execution_count": null,
   "id": "bf3332b7-b217-4463-a3b7-d45d76d21604",
   "metadata": {},
   "outputs": [],
   "source": [
    "# elev_rio = rio.open(lidar_dem_path)\n",
    "elev_rio = rio.open(datasets_dir / 'regional_dems' / 'st_joe_headwaters.tif')#palouse_hills.tif')\n",
    "# elev_rio = rio.open('palouse_hills_re.tif')\n",
    "\n",
    "# # Another option, for reading right into richdem\n",
    "# elev_rd = rd.LoadGDAL('../../datasets/moscow/moscow_lidar_elevation/City_of_Moscow_LiDAR.vrt')"
   ]
  },
  {
   "cell_type": "code",
   "execution_count": null,
   "id": "c0f4ad4c-eae4-4933-a5c2-1edaa3ed15b1",
   "metadata": {},
   "outputs": [],
   "source": [
    "type(elev_rio)"
   ]
  },
  {
   "cell_type": "code",
   "execution_count": null,
   "id": "9c791ca4-be5f-4d98-9da4-b73ca7f6a97e",
   "metadata": {},
   "outputs": [],
   "source": [
    "elev = elev_rio.read(1)\n",
    "elev[elev<-1000] = np.nan"
   ]
  },
  {
   "cell_type": "code",
   "execution_count": null,
   "id": "a82a1a4f-d102-4e83-877f-914e89ea4aa2",
   "metadata": {},
   "outputs": [],
   "source": [
    "type(elev)"
   ]
  },
  {
   "cell_type": "code",
   "execution_count": null,
   "id": "8d6e6e43-70fe-4bb2-9712-63e8d99a0d3a",
   "metadata": {},
   "outputs": [],
   "source": [
    "# dir(elev_rio)\n",
    "# elev_rio.units\n",
    "print(elev_rio.crs)\n",
    "\n",
    "elev_rio.transform # The `transform` orients the raster grid in space relative to the crs.\n",
    "    # The crs contains the units and identifies where the (0, 0) point of the grid ought to be in space."
   ]
  },
  {
   "cell_type": "code",
   "execution_count": null,
   "id": "0483e63e-885e-45ef-bedc-0ff87b7fc898",
   "metadata": {},
   "outputs": [],
   "source": [
    "# Check that the cell size of the raster is 1/3 of an arc-second\n",
    "1/60/60/3"
   ]
  },
  {
   "cell_type": "code",
   "execution_count": null,
   "id": "a823b2b6-b25f-4b65-ba58-71eb0036cca6",
   "metadata": {},
   "outputs": [],
   "source": [
    "dx = elev_rio.transform[0] # grid resolution in Easting (x)\n",
    "rast_x = elev_rio.transform[2] + dx * np.arange(elev_rio.width)\n",
    "dy = elev_rio.transform[4] # grid resolution in Northing (y)\n",
    "rast_y = elev_rio.transform[5] + dy * np.arange(elev_rio.height)\n"
   ]
  },
  {
   "cell_type": "code",
   "execution_count": null,
   "id": "c8a28f06-0e2c-4ad3-bbfd-54fb1217b147",
   "metadata": {},
   "outputs": [],
   "source": [
    "fig, ax = plt.subplots()\n",
    "elev_ax = ax.pcolormesh(rast_x, rast_y, elev, shading='auto')\n",
    "plt.colorbar(elev_ax, ax=ax)\n"
   ]
  },
  {
   "cell_type": "markdown",
   "id": "e4bb1b4f-62a3-46aa-8cfb-f3140c47c261",
   "metadata": {},
   "source": [
    "### Prep the data for richdem, to analyze the slopes and aspects of the DEM"
   ]
  },
  {
   "cell_type": "code",
   "execution_count": null,
   "id": "8d58b2d9-c4c4-4fb9-a9af-6287ef45f3b2",
   "metadata": {},
   "outputs": [],
   "source": [
    "elev_rd = rd.rdarray(elev, no_data=np.nan) # Need to turn the elevations from a numpy array to an rdarray to handle the np.nan values\n",
    "elev_rd.projection = elev_rio.crs\n",
    "# Be careful!  The richdem geotransform has a different configuration than the rasterio transform.\n",
    "    # The geotransform must be a tuple.\n",
    "elev_rd.geotransform = (elev_rio.transform[2],\n",
    "                        elev_rio.transform[0],\n",
    "                        elev_rio.transform[1],\n",
    "                        elev_rio.transform[5],\n",
    "                        elev_rio.transform[3],\n",
    "                        elev_rio.transform[4])"
   ]
  },
  {
   "cell_type": "code",
   "execution_count": null,
   "id": "e095009b-404a-4d0a-a61a-b44170271ff0",
   "metadata": {},
   "outputs": [],
   "source": [
    "# slope = rd.TerrainAttribute(elev_rd, attrib='slope_riserun')\n",
    "slope = rd.TerrainAttribute(elev_rd, attrib='slope_degrees')"
   ]
  },
  {
   "cell_type": "markdown",
   "id": "e2094358-d524-4ee3-a026-02bf33d68dd1",
   "metadata": {
    "tags": []
   },
   "source": [
    "### Here's a simple function, direct from the rasterio documentation to transform a raster from one projection to another"
   ]
  },
  {
   "cell_type": "code",
   "execution_count": null,
   "id": "fd5a04d0-c9ef-46a8-8fc6-2cae4dabcca2",
   "metadata": {
    "tags": []
   },
   "outputs": [],
   "source": [
    "# Instructions from https://rasterio.readthedocs.io/en/latest/topics/reproject.html#reprojecting-a-geotiff-dataset\n",
    "\n",
    "def reproject_basic(input_file, output_file, dst_crs):\n",
    "    '''\n",
    "    Takes one raster file (input_file) and transforms it to a new crs identified by EPSG (as in dst_crs='EPSG:4326')\n",
    "    and saves it as a new raster (output_file).\n",
    "    '''\n",
    "    import numpy as np\n",
    "    import rasterio\n",
    "    from rasterio.warp import calculate_default_transform, reproject, Resampling\n",
    "    \n",
    "    #Read in the input_file and prep it to be warped\n",
    "    with rasterio.open(input_file) as src:\n",
    "        transform, width, height = calculate_default_transform(\n",
    "            src.crs, dst_crs, src.width, src.height, *src.bounds)\n",
    "        kwargs = src.meta.copy()\n",
    "        kwargs.update({\n",
    "            'crs': dst_crs,\n",
    "            'transform': transform,\n",
    "            'width': width,\n",
    "            'height': height\n",
    "        })\n",
    "        \n",
    "        # Write out the output, reprojected file\n",
    "        with rasterio.open(output_file, 'w', **kwargs) as dst:\n",
    "            for i in range(1, src.count + 1):\n",
    "                reproject(\n",
    "                    source=rasterio.band(src, i),\n",
    "                    destination=rasterio.band(dst, i),\n",
    "                    src_transform=src.transform,\n",
    "                    src_crs=src.crs,\n",
    "                    dst_transform=transform,\n",
    "                    dst_crs=dst_crs,\n",
    "                    resampling=Resampling.nearest)\n"
   ]
  },
  {
   "cell_type": "markdown",
   "id": "7603d7ea-d24d-437d-af39-47ca710af5d4",
   "metadata": {},
   "source": [
    "<div class=\"alert alert-block alert-warning\">\n",
    "\n",
    "### Find an appropriate projected coordinate system\n",
    "When you're working in a relatively small area (e.g., less than or equal to an entire state) a safe, \n",
    "    reliable coordinate system is Universal Transverse Mercator (UTM), with the appropriate zone.\n",
    "    Find the appropriate EPSG code for the correct UTM projection for Moscow, and assign this integer\n",
    "    to a variable named `EPSG`.\n",
    "</div>"
   ]
  },
  {
   "cell_type": "code",
   "execution_count": null,
   "id": "83185862-5716-440a-a525-67c4840f1c1e",
   "metadata": {},
   "outputs": [],
   "source": [
    "# Fill in this cell\n",
    "\n",
    "\n",
    "\n",
    "EPSG = "
   ]
  },
  {
   "cell_type": "code",
   "execution_count": null,
   "id": "8449469b-4d35-4b9b-8126-b80cc1367ddd",
   "metadata": {},
   "outputs": [],
   "source": [
    "reproject_basic(datasets_dir / 'regional_dems' / 'st_joe_headwaters.tif',#palouse_hills.tif',\n",
    "                'palouse_hills_' + str(EPSG) + '.tif', # this function will write in a new geotiff within the present directory\n",
    "                'EPSG: ' + str(EPSG) )"
   ]
  },
  {
   "cell_type": "markdown",
   "id": "6ee3ea50-5c87-406a-8144-8518615ef58d",
   "metadata": {},
   "source": [
    "### Read in the new, reprojected DEM"
   ]
  },
  {
   "cell_type": "code",
   "execution_count": null,
   "id": "5873828e-670b-42a3-b837-737f97c10a55",
   "metadata": {},
   "outputs": [],
   "source": [
    "elev_rio_reproject = rio.open('palouse_hills_' + str(EPSG) + '.tif')\n",
    "elev_reproject = elev_rio_reproject.read(1)\n",
    "elev_reproject[elev_reproject<-1000] = np.nan\n",
    "\n",
    "\n",
    "elev_rd_reproject = rd.rdarray(elev_reproject, no_data=np.nan) # Need to turn the elevations from a numpy array to an rdarray to handle the np.nan values\n",
    "elev_rd_reproject.projection = elev_rio_reproject.crs\n",
    "# Be careful!  The richdem geotransform has a different configuration than the rasterio transform.\n",
    "    # The geotransform must be a tuple.\n",
    "elev_rd_reproject.geotransform = (elev_rio_reproject.transform[2],\n",
    "                        elev_rio_reproject.transform[0],\n",
    "                        elev_rio_reproject.transform[1],\n",
    "                        elev_rio_reproject.transform[5],\n",
    "                        elev_rio_reproject.transform[3],\n",
    "                        elev_rio_reproject.transform[4])\n"
   ]
  },
  {
   "cell_type": "code",
   "execution_count": null,
   "id": "e2fabf06-5648-4221-acd2-8f97c435f31d",
   "metadata": {},
   "outputs": [],
   "source": [
    "# Return information about the richdem geotransform, to ensure that it looks right\n",
    "print(elev_rd_reproject.geotransform)"
   ]
  },
  {
   "cell_type": "code",
   "execution_count": null,
   "id": "4bd7474c-8661-4aad-88a8-f91798f7c01a",
   "metadata": {},
   "outputs": [],
   "source": [
    "slope_reproject = rd.TerrainAttribute(elev_rd_reproject, attrib='slope_degrees')\n",
    "rd.rdShow(slope_reproject)"
   ]
  },
  {
   "cell_type": "code",
   "execution_count": null,
   "id": "36f669d0-2307-4636-891c-bf1a0edbf616",
   "metadata": {},
   "outputs": [],
   "source": [
    "slope_reproject.projection = elev_rio_reproject.crs\n",
    "slope_reproject.geotransform = elev_rd_reproject.geotransform # Here, use the geotransform of the original data to be the geotransform of the new raster\n"
   ]
  },
  {
   "cell_type": "code",
   "execution_count": null,
   "id": "86015104-5297-470c-ad86-bf9e03a03cbc",
   "metadata": {},
   "outputs": [],
   "source": []
  },
  {
   "cell_type": "markdown",
   "id": "d8673bf9-d12e-4c17-84b1-80fc08b2c674",
   "metadata": {},
   "source": [
    "<div class=\"alert alert-block alert-warning\">\n",
    "\n",
    "### What are the maximum and median slopes of the broader Palouse DEM?\n",
    "How do these compare with the slopes of the City of Moscow LiDAR DEM?\n",
    "    \n",
    "</div>\n"
   ]
  },
  {
   "cell_type": "code",
   "execution_count": null,
   "id": "c0fda291-e3ef-4bb0-a987-4ae4b8aff320",
   "metadata": {},
   "outputs": [],
   "source": []
  },
  {
   "cell_type": "markdown",
   "id": "9f536fc8-61ab-4690-b9ea-fada287d428a",
   "metadata": {},
   "source": [
    "We can also use richdem to map the aspects of a DEM.  See https://richdem.readthedocs.io/en/latest/terrain_attributes.html"
   ]
  },
  {
   "cell_type": "markdown",
   "id": "74cceba8-b907-4d14-b6ea-60554d232643",
   "metadata": {},
   "source": [
    "<div class=\"alert alert-block alert-warning\">\n",
    "\n",
    "### What are the typical orientations of the Palouse hills in this elevation data?\n",
    "By \"typical orientations\" I mean the angle along which the ridge crest is oriented.  As in a hill/ridge with its crest\n",
    "    oriented \n",
    "    \n",
    "Hint: If a hill has a ridge crest that is trending NE-SW, like that in the center of the clipout below from the Palouse DEM, what is the aspect of most of the surface area for that hill?\n",
    "    \n",
    "Another hint: Making a histogram of the different aspects might be one way of achieving this goal, although almost certainly not the only way.\n",
    "    \n",
    "<img src=\"ridgecrest.png\" width=\"400\">\n",
    "</div>"
   ]
  },
  {
   "cell_type": "code",
   "execution_count": null,
   "id": "7eb51ec8-2bb1-4702-b7ec-fd2ba17ecf87",
   "metadata": {},
   "outputs": [],
   "source": []
  },
  {
   "cell_type": "markdown",
   "id": "3b41cc10-9a17-4d3a-8d42-7cea06eb3aeb",
   "metadata": {},
   "source": [
    "<div class=\"alert alert-block alert-warning\">\n",
    "\n",
    "### Are these orientations different than those for a random segment of mountain headwaters?\n",
    "Run an analysis similar to the above with the datasets/regional_dems/st_joe_headwaters.tif\n",
    "    \n",
    "\n",
    "<img src=\"st_joe.png\" width=\"400\">\n",
    "    \n",
    "\n",
    "Oftentimes, when we're comparing the distribution of dissimilar measurements, we can facilitate comparison by dividing the numbers of measurements, by the total number of measurements.\n",
    "    For example, if we're comparing the age distribution of students in GIS programming, with the age distribution of students in GEOL 101, Introduction to Physical Geology,\n",
    "    it may not be meaningful or useful to report that GEOL 101 has 30 twenty year olds, while GEOG 479 has 2 twenty year olds.  We can't tell if there's actually a difference,\n",
    "    just because there are so many more students in GEOL 101 than GEOG 479.  Is 30 twenty year olds actually different representation than 2 twenty year olds?  It's entirely plausible\n",
    "    that these classes have the same distribution of ages based on those numbers.  But if we divide 30 by 120 students enrolled in GEOL 101, and 2 by 8 students (imagine) enrolled in GEOG 479,\n",
    "    then we find that in fact, twenty year olds make up 25% of students in both classes.  This process of dividing a measurement or count by the number of members in a group is one example of a useful\n",
    "    statistical step known as \"normalization.\"\n",
    "    \n",
    "**Use normalization to compare the distribution of Palouse hill orientations with the orientation of mountain slopes in the upper St. Joe river basin on the same plot.**\n",
    "    \n",
    "**Write a few sentences interpretting your result.  Are these DEMs (USGS National Map 1/3 arc second DEMs) sufficient to quantitatively reveal differences in hillslope aspect?**\n",
    "\n",
    "    \n",
    "</div>"
   ]
  },
  {
   "cell_type": "code",
   "execution_count": null,
   "id": "d038dabf-e4ce-4d64-913f-8e291fdafa39",
   "metadata": {},
   "outputs": [],
   "source": []
  },
  {
   "cell_type": "code",
   "execution_count": null,
   "id": "30d81b2c-99c9-4327-9eb2-4a4d66b640fc",
   "metadata": {},
   "outputs": [],
   "source": []
  }
 ],
 "metadata": {
  "kernelspec": {
   "display_name": "Python [conda env:GISenv21b] *",
   "language": "python",
   "name": "conda-env-GISenv21b-py"
  },
  "language_info": {
   "codemirror_mode": {
    "name": "ipython",
    "version": 3
   },
   "file_extension": ".py",
   "mimetype": "text/x-python",
   "name": "python",
   "nbconvert_exporter": "python",
   "pygments_lexer": "ipython3",
   "version": "3.9.6"
  }
 },
 "nbformat": 4,
 "nbformat_minor": 5
}

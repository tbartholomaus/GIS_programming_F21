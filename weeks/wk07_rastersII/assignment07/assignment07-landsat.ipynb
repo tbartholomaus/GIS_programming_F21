{
 "cells": [
  {
   "cell_type": "markdown",
   "id": "52cd9c6a-0094-4952-b3d5-9b6bc54c2d12",
   "metadata": {},
   "source": [
    "# Assignment 07: Raster math and sampling rasters\n",
    "including working with multi-spectral imagery accessed from the cloud\n"
   ]
  },
  {
   "cell_type": "code",
   "execution_count": null,
   "id": "0d9e0f5a-11bf-4faf-a924-df2b30d745d8",
   "metadata": {},
   "outputs": [],
   "source": [
    "\n",
    "import numpy as np\n",
    "import matplotlib.pyplot as plt\n",
    "from pathlib import Path\n",
    "\n",
    "import rasterio as rio\n",
    "import rasterio.plot # Necessary to use rio.plot.show()\n",
    "\n",
    "import geopandas as gpd\n",
    "import fiona\n"
   ]
  },
  {
   "cell_type": "code",
   "execution_count": null,
   "id": "10a31d44-5bef-417b-846b-0f42bc8d0250",
   "metadata": {},
   "outputs": [],
   "source": [
    "%matplotlib widget\n",
    "# %matplotlib inline"
   ]
  },
  {
   "cell_type": "code",
   "execution_count": null,
   "id": "12a66e73-be44-45dc-9ca4-b463221633a5",
   "metadata": {},
   "outputs": [],
   "source": [
    "# Find the datasets directory in a parent directory\n",
    "datasets_dir = Path('datasets')\n",
    "while not datasets_dir.exists(): # so long as `datasets` is not in the path datasets_dir ...\n",
    "    datasets_dir = '..' / datasets_dir # ... keep adding the parent directory to the datasets path\n"
   ]
  },
  {
   "cell_type": "code",
   "execution_count": null,
   "id": "e615ebb9-551a-4815-b475-ea59370dd134",
   "metadata": {},
   "outputs": [],
   "source": []
  },
  {
   "cell_type": "markdown",
   "id": "e5603ee2-71ee-4e48-976a-9821f6701cae",
   "metadata": {},
   "source": [
    "## Working with satellite data\n",
    "One of the common, useful, land imaging satellites is the Landsat series of satellites, operated by the USGS and NASA.\n",
    "The successful Landsat program is now in its 8th version, with the 9th satellite launched last month, in September 2021.\n",
    "Landsat 9 will come online in several months, after testing is complete.\n",
    "\n",
    "The Landsat 8 satellite has a number of imagers (think: cameras) that are sensitive to light in different parts of the\n",
    "electromagnetic spectrum.  \"Parts\" in this sense are different bands of wavelengths or frequencies of light.\n",
    "The figure below ([from NASA and the USGS](https://www.usgs.gov/media/images/comparison-landsat-7-and-8-bands-sentinel-2)) compares the bands of Landsat 7, Landsat 8, and Sentinel-2 (a similar satellite operated by\n",
    "the European Space Agency).\n",
    "\n",
    "<img src=\"dmidS2LS7Comparison.png\" width=\"700\">\n",
    "\n",
    "We can use the fact that different surface reflect and emit light in different wavelengths to learn\n",
    "about what a surface is.\n",
    "\n",
    "We'll use these properties in this component of the assignment.\n",
    "\n",
    "#### Reading:\n",
    "For more on working with Landsat imagery, please check out https://geohackweek.github.io/raster/04-workingwithrasters/\n",
    "This is an awesome tutorial, and in part what this assignment is based on.\n",
    "\n",
    "Another resource is\n",
    "https://www.earthdatascience.org/courses/use-data-open-source-python/multispectral-remote-sensing/landsat-in-Python/.  \n",
    "However, this site leans on xarray, which I have not introduced in this class (despite its awesomeness).\n"
   ]
  },
  {
   "cell_type": "code",
   "execution_count": null,
   "id": "7958f99b-fe5f-4fb1-b5f7-c271a5072c5c",
   "metadata": {},
   "outputs": [],
   "source": []
  },
  {
   "cell_type": "code",
   "execution_count": null,
   "id": "a18ef188-d8aa-48fb-bf0f-fdbc80d34295",
   "metadata": {},
   "outputs": [],
   "source": [
    "print('Landsat on AWS:')\n",
    "\n",
    "# LC08_L1TP_043027_20201005_20201015_01_T1\n",
    "scene_path = 'http://landsat-pds.s3.amazonaws.com/c1/L8/043/027/LC08_L1TP_043027_20201005_20201015_01_T1/'\n",
    "band_file = 'LC08_L1TP_043027_20201005_20201015_01_T1_B2.TIF'\n",
    "\n",
    "with rasterio.open(scene_path + band_file) as src:\n",
    "    print(src.profile)"
   ]
  },
  {
   "cell_type": "code",
   "execution_count": null,
   "id": "81970574-32f8-4e4b-802f-5643682684e2",
   "metadata": {},
   "outputs": [],
   "source": []
  },
  {
   "cell_type": "markdown",
   "id": "ccbf3cbe-0095-4725-ad6d-7ac9e067e2af",
   "metadata": {},
   "source": [
    "<div class=\"alert alert-block alert-warning\">\n",
    "\n",
    "### Dating Landsat imagery\n",
    "When is this image from?  See https://www.usgs.gov/faqs/what-naming-convention-landsat-collections-level-1-scenes?qt-news_science_products=0#qt-news_science_products\n",
    "</div>"
   ]
  },
  {
   "cell_type": "code",
   "execution_count": null,
   "id": "f2f1563f-5ebf-485e-b696-191fa606cfa2",
   "metadata": {},
   "outputs": [],
   "source": []
  },
  {
   "cell_type": "markdown",
   "id": "6d515052-92fc-4b91-9182-05cf9d800335",
   "metadata": {},
   "source": [
    "### Plot a low-resolution overview of the landsat scene"
   ]
  },
  {
   "cell_type": "code",
   "execution_count": null,
   "id": "7bf3747b-e4ca-4583-9c40-af2779a5f5cb",
   "metadata": {},
   "outputs": [],
   "source": [
    "# The grid of raster values can be accessed as a numpy array and plotted:\n",
    "with rasterio.open(scene_path + band_file) as src:\n",
    "    oviews = src.overviews(1) # list of overviews from biggest to smallest\n",
    "    print('These are the decimation factors that create smaller and smaller views of the data.')\n",
    "    print('\"Decimation\" by a factor of n means plot every _nth_ pixel.')\n",
    "    print(oviews)\n",
    "    print('\\n')\n",
    "    \n",
    "    oview = oviews[-1] # let's look at the smallest thumbnail\n",
    "    print('Decimation factor= {}'.format(oview))\n",
    "    # NOTE this is using a 'decimated read' (http://rasterio.readthedocs.io/en/latest/topics/resampling.html)\n",
    "    thumbnail = src.read(1, out_shape=(1, int(src.height // oview), int(src.width // oview)))\n",
    "\n",
    "print('array type: ',type(thumbnail))\n",
    "print(thumbnail)\n",
    "\n",
    "plt.imshow(thumbnail)\n",
    "plt.colorbar()\n",
    "plt.title('Overview - Band 4 {}'.format(thumbnail.shape))\n",
    "plt.xlabel('Column #')\n",
    "plt.ylabel('Row #')"
   ]
  },
  {
   "cell_type": "code",
   "execution_count": null,
   "id": "c5fc5e9b-a22d-40aa-9e67-490cacb14176",
   "metadata": {},
   "outputs": [],
   "source": [
    "src.meta"
   ]
  },
  {
   "cell_type": "code",
   "execution_count": null,
   "id": "e4f21cab-f8cc-436b-9f96-af980d992d33",
   "metadata": {},
   "outputs": [],
   "source": [
    "dx = src.transform[0] # grid resolution in Easting (x)\n",
    "rast_x = src.transform[2] + dx * np.arange(src.width)\n",
    "dy = src.transform[4] # grid resolution in Northing (y)\n",
    "rast_y = src.transform[5] + dy * np.arange(src.height)"
   ]
  },
  {
   "cell_type": "markdown",
   "id": "3c2f6e53-3f1a-4a08-8c1a-74d97b950503",
   "metadata": {},
   "source": [
    "### Read in each of bands 2-5\n",
    "We want to read in data from bands 2-5, but we don't want to write code to do that to each\n",
    "individual band separately. Instead we'll do that with a for loop, reading a different band\n",
    "each time we go through the loop.\n",
    "\n",
    "We're going to start by creating an empty dictionary object, named `landsat_data`, and then\n",
    "use the band numbers as \"keys\" to read in the actual pixel values for each band.\n",
    "See this small section on dictionaries for an overview: https://docs.python.org/3/tutorial/datastructures.html#dictionaries"
   ]
  },
  {
   "cell_type": "code",
   "execution_count": null,
   "id": "daf7c243-48e8-43ef-8b84-d41190a40e8d",
   "metadata": {},
   "outputs": [],
   "source": [
    "print(band_file)\n",
    "scene_name = band_file[:-7]\n",
    "print(scene_name)"
   ]
  },
  {
   "cell_type": "code",
   "execution_count": null,
   "id": "323c7638-442a-4b48-a804-6c6a79ff01fb",
   "metadata": {
    "tags": []
   },
   "outputs": [],
   "source": [
    "bands = np.arange(2,6) # remember: inclusive of the first value, exclusive of the last\n",
    "# raster_names = ['LC08_B{}'.format(band) for band in bands]\n",
    "\n",
    "# scene_path + band_file\n",
    "\n",
    "# band_root = 'LC08_L1TP_043027_20210602_20210608_01_T1'\n",
    "# band_root = 'LC08_L1TP_043027_20201005_20201015_01_T1'\n",
    "landsat_data = {} # \n",
    "for band in bands:\n",
    "    complete_path = scene_path + scene_name + '_B{}.TIF'.format(band)\n",
    "    print(complete_path)\n",
    "    with rio.open(complete_path) as src:\n",
    "\n",
    "        landsat_data[band] = src.read(1)#, out_shape=(1, int(src.height // oview), int(src.width // oview)))\n",
    "\n",
    "        landsat_data[band] = landsat_data[band].astype('f4')\n",
    "        landsat_data[band][landsat_data[band]==0] = np.nan\n",
    "\n",
    "    plt.figure()\n",
    "    plt.imshow(landsat_data[band], vmax=20000)\n",
    "    plt.colorbar()\n",
    "    plt.title('Overview - Band {}'.format(band))\n",
    "    plt.xlabel('Column #')\n",
    "    plt.ylabel('Row #')"
   ]
  },
  {
   "cell_type": "code",
   "execution_count": null,
   "id": "58e39400-3cc0-46cb-a4ca-e1b771190ccf",
   "metadata": {},
   "outputs": [],
   "source": [
    "fig, ax = plt.subplots(1, 3, figsize=(10,3))\n",
    "ax[0].imshow(landsat_data[4], cmap='Reds',  vmax=20000)\n",
    "ax[1].imshow(landsat_data[3], cmap='Greens',vmax=20000)\n",
    "ax[2].imshow(landsat_data[2], cmap='Blues', vmax=20000)"
   ]
  },
  {
   "cell_type": "markdown",
   "id": "e17f8f0c-44df-4992-b83b-11d0ce1531be",
   "metadata": {},
   "source": [
    "<div class=\"alert alert-block alert-warning\">\n",
    "\n",
    "### Saturation in RGB space\n",
    "Recognize different land surfaces in this landsat scene: forest, crop land, lakes, and channeled scabland.\n",
    "    \n",
    "In the three red, green, and blue bands, which land surface is most reflective?  In what band is this land surface\n",
    "most reflective?\n",
    "</div>\n",
    "\n",
    "Let's combine these bands to plot a true color image of the data.  See [the documentation for numpy.stack](https://numpy.org/doc/stable/reference/generated/numpy.stack.html).\n"
   ]
  },
  {
   "cell_type": "code",
   "execution_count": null,
   "id": "28ca9d8c-1d0d-48d5-97bf-55dbf416ee5c",
   "metadata": {},
   "outputs": [],
   "source": [
    "data_stack = np.stack((landsat_data[4], landsat_data[3], landsat_data[2]), axis=2)"
   ]
  },
  {
   "cell_type": "code",
   "execution_count": null,
   "id": "3c054dd4-f023-4335-97fa-8cf785834025",
   "metadata": {},
   "outputs": [],
   "source": [
    "data_stack.shape"
   ]
  },
  {
   "cell_type": "code",
   "execution_count": null,
   "id": "f55bd977-f406-455b-99f0-5672d4f9f70f",
   "metadata": {},
   "outputs": [],
   "source": [
    "extent = (rast_x[0], rast_x[-1], rast_y[-1], rast_y[0])\n",
    "\n",
    "fig, ax = plt.subplots(figsize=(6,6))\n",
    "# ax.pcolormesh(rast_x, rast_y, data_stack)\n",
    "ax.imshow(data_stack/15000, extent=extent)\n",
    "ax.set_title(scene_name + '\\nNatural Color')\n",
    "\n",
    "# # Limits for Moscow\n",
    "# ax.set_xlim(494000, 504000)\n",
    "# ax.set_ylim(5.17e6, 5.18e6)"
   ]
  },
  {
   "cell_type": "markdown",
   "id": "884fbe18-1863-44ab-acce-d393ff083ad8",
   "metadata": {},
   "source": [
    "### Calculate the NDVI\n",
    "The [Normalized Difference Vegetation Index](https://en.wikipedia.org/wiki/Normalized_difference_vegetation_index) (NDVI) \n",
    "is a simple indicator that can be used to assess whether the\n",
    "target includes healthy vegetation. This calculation uses two bands of a multispectral image dataset,\n",
    "the Red and Near-Infrared (NIR) bands."
   ]
  },
  {
   "cell_type": "code",
   "execution_count": null,
   "id": "b42bd316-0365-4a0d-972f-38e8b3b6ec5c",
   "metadata": {},
   "outputs": [],
   "source": [
    "ndvi = (landsat_data[5] - landsat_data[4]) / (landsat_data[5] + landsat_data[4])"
   ]
  },
  {
   "cell_type": "code",
   "execution_count": null,
   "id": "9af01bf2-d23b-402c-9bf1-ceac0ac1f393",
   "metadata": {},
   "outputs": [],
   "source": [
    "fig, ax = plt.subplots(figsize=(8,8))\n",
    "img = ax.imshow(ndvi, extent=extent)\n",
    "plt.colorbar(img)\n",
    "ax.set_title(scene_name + '\\nNDVI')\n",
    "\n",
    "# Moscow's location:\n",
    "# ax.set_xlim(495000, 505000)\n",
    "# ax.set_ylim(5.17e6, 5.18e6)"
   ]
  },
  {
   "cell_type": "markdown",
   "id": "c69605dd-fccb-42ba-9b73-a06fc1721c7c",
   "metadata": {},
   "source": [
    "### Forests and fields\n",
    "Find Moscow and Pullman, in the south of the image above.  Find Moscow Mountain.\n",
    "It appears that Moscow Mountain NDVI is higher (greener) than the surrounding fields.\n",
    "\n",
    "Let's see if we can identify whether there is a distinct break in the NDVI,\n",
    "between the fields and the forest, and whether this might potentially be useful to classify\n",
    "fields and forests distinctly in this October Landsat image.\n",
    "\n",
    "My approach is to create a polygon that straddles both field and forest regions,\n",
    "use this polygon to clip out a section of the NDVI raster, and then look at a\n",
    "histogram of the pixel values to see if we can identify two separate peaks in NDVI\n",
    "values or if the distribution of NDVI values is more continuous and therefore NDVI cannot\n",
    "be used to differentiate the two land cover types.\n",
    "\n",
    "The first thing I've done to solve this challenge is to create a rectangle in shapely \n",
    "that straddles the forest/field interface.  "
   ]
  },
  {
   "cell_type": "code",
   "execution_count": null,
   "id": "c3978376-9c51-4d33-b749-1e1e5b90d661",
   "metadata": {},
   "outputs": [],
   "source": [
    "from shapely.geometry import Polygon\n",
    "poly_lower_left = (502000, 5.180e6) # Easting, Northing coordinates\n",
    "poly_width = 2000\n",
    "poly_height = 5000\n",
    "\n",
    "sample_rect = Polygon([ poly_lower_left,\n",
    "                        (poly_lower_left[0]+poly_width, poly_lower_left[1]),\n",
    "                        (poly_lower_left[0]+poly_width, poly_lower_left[1]+poly_height),\n",
    "                        (poly_lower_left[0], poly_lower_left[1]+poly_height) ])\n",
    "corner_x, corner_y = sample_rect.exterior.coords.xy # Extract the coordinates of the polygon corners, so we can plot them below\n"
   ]
  },
  {
   "cell_type": "markdown",
   "id": "32271827-55bb-4f4b-9b10-5233649d381e",
   "metadata": {},
   "source": [
    "Let's plot this rectangle on the NDVI map above, to see where it is"
   ]
  },
  {
   "cell_type": "code",
   "execution_count": null,
   "id": "7033ef56-4a67-4d46-8626-f8093f3a9c6c",
   "metadata": {},
   "outputs": [],
   "source": [
    "ax.plot(corner_x, corner_y, color='C1')"
   ]
  },
  {
   "cell_type": "markdown",
   "id": "569a9146-d55b-4afb-a5be-ac8e472fe238",
   "metadata": {},
   "source": [
    "To efficiently crop a raster using rasterio's mask operation and the shapely object we've \n",
    "created, we need an original rasterio DatasetReader object.\n",
    "Therefore, we'll just reload the two bands we need."
   ]
  },
  {
   "cell_type": "code",
   "execution_count": null,
   "id": "7b889177-6de6-4aad-802d-abe8a9351bbc",
   "metadata": {},
   "outputs": [],
   "source": [
    "# Calculate the NDVI for the pixels in the shapely cutout\n",
    "from rasterio.mask import mask\n",
    "red_rio = rio.open(scene_path + scene_name + '_B{}.TIF'.format(4))\n",
    "nir_rio = rio.open(scene_path + scene_name + '_B{}.TIF'.format(5))\n",
    "\n",
    "nir_crop, _ = mask(nir_rio, [sample_rect], crop=True)\n",
    "red_crop, _ = mask(red_rio, [sample_rect], crop=True)\n",
    "\n",
    "# Reduce dimensionality of the array first, then recast it as a float, to prepare for division\n",
    "nir_crop = np.squeeze(nir_crop).astype(float)\n",
    "red_crop = np.squeeze(red_crop).astype(float)\n",
    "# Eliminate zeros from the cropped arrays.\n",
    "nir_crop[ nir_crop == 0 ] = np.nan\n",
    "red_crop[ red_crop == 0 ] = np.nan\n",
    "\n",
    "\n",
    "ndvi_crop = (nir_crop - red_crop) / (nir_crop + red_crop) "
   ]
  },
  {
   "cell_type": "code",
   "execution_count": null,
   "id": "d37e3887-6bfb-463f-a5d8-f873754a14b0",
   "metadata": {},
   "outputs": [],
   "source": [
    "plt.figure()\n",
    "plt.hist(ndvi_crop.ravel(), np.arange(0, .5, .01))\n",
    "plt.xlabel('NDVI')\n",
    "plt.ylabel('Number of pixels with this NDVI value')"
   ]
  },
  {
   "cell_type": "code",
   "execution_count": null,
   "id": "64668e5d-b6c1-4665-81ff-4f256234bace",
   "metadata": {},
   "outputs": [],
   "source": [
    "mosc_vectors = datasets_dir / 'moscow' / 'moscow_vectors' / 'Moscow.gdb'\n",
    "streets = gpd.read_file(mosc_vectors, layer='Centerlines')"
   ]
  },
  {
   "cell_type": "code",
   "execution_count": null,
   "id": "5a48d2ef-39aa-413f-878b-eebb0d49f9cd",
   "metadata": {},
   "outputs": [],
   "source": [
    "raster_crs = red_rio.crs.to_epsg() # Get the EPSG code for the landsat scene\n",
    "streets = streets.to_crs(raster_crs) # Transform the streets layer so that it has the same CRS as the raster\n",
    "streets.plot()"
   ]
  },
  {
   "cell_type": "code",
   "execution_count": null,
   "id": "8c634d84-e3fa-4e92-bb21-4e41abe0660f",
   "metadata": {},
   "outputs": [],
   "source": [
    "# Add the streets to the map several plots above, that is still represented by the object `ax`\n",
    "streets.plot(ax=ax, color='C3')"
   ]
  },
  {
   "cell_type": "markdown",
   "id": "59c2c47a-a2c8-42fa-a3e6-3256389c92c1",
   "metadata": {},
   "source": [
    "<div class=\"alert alert-block alert-warning\">\n",
    "\n",
    "## Exploring NDVI values\n",
    "Using both the map of NDVI values above, onto which we've just plotted Moscow's streets, \n",
    "    as well as the histogram of fields and forest NDVI values, tell me about typical NDVI values...\n",
    "    (no need to do any programming to get at these values, just look at the plots, zoom in, and around)\n",
    "    \n",
    "What are:\n",
    "+ the highest NDVI values in Moscow, and what land surface are these locations?\n",
    "+ the lowest NDVI values, and what land surface are these locations?\n",
    "+ the NDVI values for Moscow Mountain forest?\n",
    "+ the NDVI values for crop land south of Moscow Mountain?\n",
    "    \n",
    "Does the crop land and the forest on Moscow Mountain in fact have distinct NDVI values?\n",
    "</div>"
   ]
  },
  {
   "cell_type": "code",
   "execution_count": null,
   "id": "6b32fc3d-a62d-4b49-aba3-588587ffcf84",
   "metadata": {},
   "outputs": [],
   "source": [
    "\n"
   ]
  },
  {
   "cell_type": "markdown",
   "id": "f58233e3-2837-4fd9-b3a8-d7547a4d64aa",
   "metadata": {},
   "source": [
    "<div class=\"alert alert-block alert-warning\">\n",
    "\n",
    "## Evaluating impacts of the 2021 drought on urban and agricultural vegetation\n",
    "You're a horticulturalist for the State of Idaho.    \n",
    "Your boss asks you how the drought from this summer differently impacted crops and urban green spaces\n",
    "before and after the worst of the summer heat in north-central Idaho.\n",
    "    \n",
    "You decide to focus on Moscow, known for its leafy streets, verdant parks, and rich surrounding \n",
    "agricultural land, and to evaluate changes over the seasons using differences in Landsat derived NDVI.\n",
    "You'll use the landsat scene we were working with above as well as another great, cloud-free image\n",
    "from early June of this year:\n",
    "```\n",
    "scene_path = 'http://landsat-pds.s3.amazonaws.com/c1/L8/043/027/LC08_L1TP_043027_20210602_20210608_01_T1/'\n",
    "band_file = 'LC08_L1TP_043027_20210602_20210608_01_T1_B2.TIF'\n",
    "```\n",
    "\n",
    "    \n",
    "Quantify and plot four NDVI values: 1) June in Moscow, 2) June Moscow cropland, 3) October in Moscow, and \n",
    "    4) October Moscow cropland.  For the in-Moscow measurements, calculate the average NDVI for the entire\n",
    "    city (recall that we have a city limits layer that we've worked with previously, in out datasets folder).\n",
    "    For the Moscow cropland, calculate the average NDVI outside the city limits, but within a 2 km buffer of\n",
    "    the city limits.\n",
    "\n",
    "Write a few sentences describing what you see in the plot you've created.\n",
    "    \n",
    "Recommendation (not a requirement):\n",
    "> A lot of the steps you'll need to do to produce these four NDVI values will be repeated four times.  To cut down\n",
    "    on the amount of code you need to write, and make your code more readable, write a function that delivers\n",
    "    you the answer you need, and then call it four times.\n",
    "    \n",
    "\n",
    "</div>"
   ]
  },
  {
   "cell_type": "code",
   "execution_count": null,
   "id": "adc16659-1636-4e43-97fb-2ef88b2a8956",
   "metadata": {},
   "outputs": [],
   "source": []
  },
  {
   "cell_type": "code",
   "execution_count": null,
   "id": "30d81b2c-99c9-4327-9eb2-4a4d66b640fc",
   "metadata": {},
   "outputs": [],
   "source": []
  }
 ],
 "metadata": {
  "kernelspec": {
   "display_name": "Python [conda env:GISenv21b] *",
   "language": "python",
   "name": "conda-env-GISenv21b-py"
  },
  "language_info": {
   "codemirror_mode": {
    "name": "ipython",
    "version": 3
   },
   "file_extension": ".py",
   "mimetype": "text/x-python",
   "name": "python",
   "nbconvert_exporter": "python",
   "pygments_lexer": "ipython3",
   "version": "3.9.6"
  }
 },
 "nbformat": 4,
 "nbformat_minor": 5
}

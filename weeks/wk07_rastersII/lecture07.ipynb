{
 "cells": [
  {
   "cell_type": "markdown",
   "id": "52cd9c6a-0094-4952-b3d5-9b6bc54c2d12",
   "metadata": {},
   "source": [
    "# Lecture 07: Raster math and sampling rasters\n",
    "\n",
    "\n"
   ]
  },
  {
   "cell_type": "code",
   "execution_count": null,
   "id": "0d9e0f5a-11bf-4faf-a924-df2b30d745d8",
   "metadata": {},
   "outputs": [],
   "source": [
    "\n",
    "import numpy as np\n",
    "import matplotlib.pyplot as plt\n",
    "from pathlib import Path\n",
    "\n",
    "import rasterio as rio\n",
    "import rasterio.plot # Necessary to use rio.plot.show()\n",
    "import richdem as rd\n",
    "\n",
    "import geopandas as gpd\n",
    "import fiona\n"
   ]
  },
  {
   "cell_type": "code",
   "execution_count": null,
   "id": "12a66e73-be44-45dc-9ca4-b463221633a5",
   "metadata": {},
   "outputs": [],
   "source": [
    "Path('.')\n",
    "\n",
    "# if Path('../../datasets')\n",
    "datasets_dir = Path('../../datasets')\n",
    "\n",
    "lidar_dem_path = datasets_dir / 'moscow' / 'moscow_lidar_elevation' / 'City_of_Moscow_LiDAR.vrt'\n"
   ]
  },
  {
   "cell_type": "code",
   "execution_count": null,
   "id": "bf3332b7-b217-4463-a3b7-d45d76d21604",
   "metadata": {},
   "outputs": [],
   "source": [
    "# elev_rio = rio.open(lidar_dem_path)\n",
    "elev_rio = rio.open(datasets_dir / 'moscow' / 'palouse' / 'palouse_hills.tif')\n",
    "# elev_rio = rio.open('palouse_hills_re.tif')\n",
    "\n",
    "# # Another option, for reading right into richdem\n",
    "# elev_rd = rd.LoadGDAL('../../datasets/moscow/moscow_lidar_elevation/City_of_Moscow_LiDAR.vrt')"
   ]
  },
  {
   "cell_type": "code",
   "execution_count": null,
   "id": "9c791ca4-be5f-4d98-9da4-b73ca7f6a97e",
   "metadata": {},
   "outputs": [],
   "source": [
    "elev = elev_rio.read(1)\n",
    "elev[elev<-1000] = np.nan"
   ]
  },
  {
   "cell_type": "code",
   "execution_count": null,
   "id": "8d6e6e43-70fe-4bb2-9712-63e8d99a0d3a",
   "metadata": {},
   "outputs": [],
   "source": [
    "# dir(elev_rio)\n",
    "# elev_rio.units\n",
    "print(elev_rio.crs)\n",
    "\n",
    "elev_rio.transform # The `transform` orients the raster grid in space relative to the crs.\n",
    "    # The crs contains the units and identifies where the (0, 0) point of the grid ought to be in space."
   ]
  },
  {
   "cell_type": "code",
   "execution_count": null,
   "id": "a823b2b6-b25f-4b65-ba58-71eb0036cca6",
   "metadata": {},
   "outputs": [],
   "source": [
    "dx = elev_rio.transform[0] # grid resolution in Easting (x)\n",
    "rast_x = elev_rio.transform[2] + dx * np.arange(elev_rio.width)\n",
    "dy = elev_rio.transform[4] # grid resolution in Northing (y)\n",
    "rast_y = elev_rio.transform[5] + dy * np.arange(elev_rio.height)\n"
   ]
  },
  {
   "cell_type": "code",
   "execution_count": null,
   "id": "c8a28f06-0e2c-4ad3-bbfd-54fb1217b147",
   "metadata": {},
   "outputs": [],
   "source": [
    "fig, ax = plt.subplots()\n",
    "elev_ax = ax.pcolormesh(rast_x, rast_y, elev, shading='auto')\n",
    "plt.colorbar(elev_ax, ax=ax)"
   ]
  },
  {
   "cell_type": "markdown",
   "id": "e4bb1b4f-62a3-46aa-8cfb-f3140c47c261",
   "metadata": {},
   "source": [
    "### Prep the data for richdem, to analyze the slopes and aspects of the DEM"
   ]
  },
  {
   "cell_type": "code",
   "execution_count": null,
   "id": "8d58b2d9-c4c4-4fb9-a9af-6287ef45f3b2",
   "metadata": {},
   "outputs": [],
   "source": [
    "elev_rd = rd.rdarray(elev, no_data=np.nan) # Need to turn the elevations from a numpy array to an rdarray to handle the np.nan values\n",
    "elev_rd.projection = elev_rio.crs\n",
    "# Be careful!  The richdem geotransform has a different configuration than the rasterio transform.\n",
    "    # The geotransform must be a tuple.\n",
    "elev_rd.geotransform = (elev_rio.transform[2],\n",
    "                        elev_rio.transform[0],\n",
    "                        elev_rio.transform[1],\n",
    "                        elev_rio.transform[5],\n",
    "                        elev_rio.transform[3],\n",
    "                        elev_rio.transform[4])"
   ]
  },
  {
   "cell_type": "code",
   "execution_count": null,
   "id": "e095009b-404a-4d0a-a61a-b44170271ff0",
   "metadata": {},
   "outputs": [],
   "source": [
    "# slope = rd.TerrainAttribute(elev_rd, attrib='slope_riserun')\n",
    "slope = rd.TerrainAttribute(elev_rd, attrib='slope_degrees')"
   ]
  },
  {
   "cell_type": "markdown",
   "id": "e2094358-d524-4ee3-a026-02bf33d68dd1",
   "metadata": {
    "tags": []
   },
   "source": [
    "### Here's a simple function, direct from the rasterio documentation to transform a raster from one projection to another"
   ]
  },
  {
   "cell_type": "code",
   "execution_count": null,
   "id": "fd5a04d0-c9ef-46a8-8fc6-2cae4dabcca2",
   "metadata": {
    "tags": []
   },
   "outputs": [],
   "source": [
    "# Instructions from https://rasterio.readthedocs.io/en/latest/topics/reproject.html#reprojecting-a-geotiff-dataset\n",
    "\n",
    "def reproject_basic(input_file, output_file, dst_crs):\n",
    "    '''\n",
    "    Takes one raster file (input_file) and transforms it to a new crs identified by EPSG (as in dst_crs='EPSG:4326')\n",
    "    and saves it as a new raster (output_file).\n",
    "    '''\n",
    "    import numpy as np\n",
    "    import rasterio\n",
    "    from rasterio.warp import calculate_default_transform, reproject, Resampling\n",
    "    \n",
    "    #Read in the input_file and prep it to be warped\n",
    "    with rasterio.open(input_file) as src:\n",
    "        transform, width, height = calculate_default_transform(\n",
    "            src.crs, dst_crs, src.width, src.height, *src.bounds)\n",
    "        kwargs = src.meta.copy()\n",
    "        kwargs.update({\n",
    "            'crs': dst_crs,\n",
    "            'transform': transform,\n",
    "            'width': width,\n",
    "            'height': height\n",
    "        })\n",
    "        \n",
    "        # Write out the output, reprojected file\n",
    "        with rasterio.open(output_file, 'w', **kwargs) as dst:\n",
    "            for i in range(1, src.count + 1):\n",
    "                reproject(\n",
    "                    source=rasterio.band(src, i),\n",
    "                    destination=rasterio.band(dst, i),\n",
    "                    src_transform=src.transform,\n",
    "                    src_crs=src.crs,\n",
    "                    dst_transform=transform,\n",
    "                    dst_crs=dst_crs,\n",
    "                    resampling=Resampling.nearest)\n"
   ]
  },
  {
   "cell_type": "code",
   "execution_count": null,
   "id": "5ea0c10f-ce7c-4b7b-9b27-915b54e1f56c",
   "metadata": {},
   "outputs": [],
   "source": [
    "latitude = 46.7 # Approximate coordinates of Moscow in degrees\n",
    "longitude = -117\n",
    "EPSG = int(  32700 - ((np.sign(latitude)+1)/2 * 100) +  (np.floor((180+longitude)/6) + 1)  )"
   ]
  },
  {
   "cell_type": "code",
   "execution_count": null,
   "id": "8449469b-4d35-4b9b-8126-b80cc1367ddd",
   "metadata": {},
   "outputs": [],
   "source": [
    "reproject_basic('../../datasets/moscow/palouse/palouse_hills.tif',\n",
    "                'palouse_hills_' + str(EPSG) + '.tif',\n",
    "                'EPSG: ' + str(EPSG) )"
   ]
  },
  {
   "cell_type": "markdown",
   "id": "6ee3ea50-5c87-406a-8144-8518615ef58d",
   "metadata": {},
   "source": [
    "### Read in the new, reprojected DEM"
   ]
  },
  {
   "cell_type": "code",
   "execution_count": null,
   "id": "5873828e-670b-42a3-b837-737f97c10a55",
   "metadata": {},
   "outputs": [],
   "source": [
    "elev_rio_reproject = rio.open('palouse_hills_' + str(EPSG) + '.tif')\n",
    "elev_reproject = elev_rio_reproject.read(1)\n",
    "elev_reproject[elev_reproject<-1000] = np.nan\n",
    "\n",
    "\n",
    "elev_rd_reproject = rd.rdarray(elev_reproject, no_data=np.nan) # Need to turn the elevations from a numpy array to an rdarray to handle the np.nan values\n",
    "elev_rd_reproject.projection = elev_rio_reproject.crs\n",
    "# Be careful!  The richdem geotransform has a different configuration than the rasterio transform.\n",
    "    # The geotransform must be a tuple.\n",
    "elev_rd_reproject.geotransform = (elev_rio_reproject.transform[2],\n",
    "                        elev_rio_reproject.transform[0],\n",
    "                        elev_rio_reproject.transform[1],\n",
    "                        elev_rio_reproject.transform[5],\n",
    "                        elev_rio_reproject.transform[3],\n",
    "                        elev_rio_reproject.transform[4])\n"
   ]
  },
  {
   "cell_type": "code",
   "execution_count": null,
   "id": "e2fabf06-5648-4221-acd2-8f97c435f31d",
   "metadata": {},
   "outputs": [],
   "source": [
    "# Return information about the richdem geotransform, to ensure that it looks right\n",
    "print(elev_rd_reproject.geotransform)"
   ]
  },
  {
   "cell_type": "code",
   "execution_count": null,
   "id": "4bd7474c-8661-4aad-88a8-f91798f7c01a",
   "metadata": {},
   "outputs": [],
   "source": [
    "slope_reproject = rd.TerrainAttribute(elev_rd_reproject, attrib='slope_degrees')\n",
    "rd.rdShow(slope_reproject)"
   ]
  },
  {
   "cell_type": "code",
   "execution_count": null,
   "id": "36f669d0-2307-4636-891c-bf1a0edbf616",
   "metadata": {},
   "outputs": [],
   "source": [
    "slope_reproject.projection = elev_rio_reproject.crs\n",
    "slope_reproject.geotransform = elev_rd_reproject.geotransform # Here, use the geotransform of the original data to be the geotransform of the new raster\n"
   ]
  },
  {
   "cell_type": "code",
   "execution_count": null,
   "id": "86015104-5297-470c-ad86-bf9e03a03cbc",
   "metadata": {},
   "outputs": [],
   "source": []
  },
  {
   "cell_type": "markdown",
   "id": "d8673bf9-d12e-4c17-84b1-80fc08b2c674",
   "metadata": {},
   "source": [
    "<div class=\"alert alert-block alert-warning\">\n",
    "\n",
    "### What are the maximum and median slopes of the broader Palouse DEM?\n",
    "How doe these compare with the slopes of the City of Moscow LiDAR DEM?\n",
    "    \n",
    "</div>\n"
   ]
  },
  {
   "cell_type": "code",
   "execution_count": null,
   "id": "c0fda291-e3ef-4bb0-a987-4ae4b8aff320",
   "metadata": {},
   "outputs": [],
   "source": []
  },
  {
   "cell_type": "markdown",
   "id": "9f536fc8-61ab-4690-b9ea-fada287d428a",
   "metadata": {},
   "source": [
    "We can also use richdem to map the aspects of a DEM.  See https://richdem.readthedocs.io/en/latest/terrain_attributes.html"
   ]
  },
  {
   "cell_type": "markdown",
   "id": "74cceba8-b907-4d14-b6ea-60554d232643",
   "metadata": {},
   "source": [
    "<div class=\"alert alert-block alert-warning\">\n",
    "\n",
    "### What are the typical orientations of the Palouse hills in this elevation data?\n",
    "</div>"
   ]
  },
  {
   "cell_type": "code",
   "execution_count": null,
   "id": "7eb51ec8-2bb1-4702-b7ec-fd2ba17ecf87",
   "metadata": {},
   "outputs": [],
   "source": []
  },
  {
   "cell_type": "markdown",
   "id": "3b41cc10-9a17-4d3a-8d42-7cea06eb3aeb",
   "metadata": {},
   "source": [
    "<div class=\"alert alert-block alert-warning\">\n",
    "\n",
    "### Are these orientations different than those for a random segment of mountain headwaters?\n",
    "See datasets/regional_dems/st_joe_headwaters.tif\n",
    "</div>"
   ]
  },
  {
   "cell_type": "code",
   "execution_count": null,
   "id": "3e6ebae4-e456-4bac-84fa-4277b49471c5",
   "metadata": {},
   "outputs": [],
   "source": []
  },
  {
   "cell_type": "markdown",
   "id": "7216a203-1e24-4520-befb-e274798c685f",
   "metadata": {},
   "source": [
    "## Extracting raster data along a vector"
   ]
  },
  {
   "cell_type": "code",
   "execution_count": null,
   "id": "a11ce97c-8717-476e-832c-c654b07099c8",
   "metadata": {},
   "outputs": [],
   "source": [
    "moscow_gdb_path = datasets_dir / 'moscow' / 'moscow_vectors' / 'Moscow.gdb'\n",
    "print(moscow_gdb_path)\n",
    "print(type(moscow_gdb_path))\n",
    "\n",
    "moscow_gdb = str(moscow_gdb_path)\n",
    "\n",
    "fiona.listlayers(moscow_gdb)\n",
    "roads = gpd.read_file(moscow_gdb, layer='Centerlines')\n"
   ]
  },
  {
   "cell_type": "code",
   "execution_count": null,
   "id": "3f5046ea-6964-47e9-8356-62d5e99dcc43",
   "metadata": {},
   "outputs": [],
   "source": [
    "roads.crs"
   ]
  },
  {
   "cell_type": "code",
   "execution_count": null,
   "id": "d038dabf-e4ce-4d64-913f-8e291fdafa39",
   "metadata": {},
   "outputs": [],
   "source": []
  },
  {
   "cell_type": "code",
   "execution_count": null,
   "id": "30d81b2c-99c9-4327-9eb2-4a4d66b640fc",
   "metadata": {},
   "outputs": [],
   "source": []
  }
 ],
 "metadata": {
  "kernelspec": {
   "display_name": "Python [conda env:GISenv21b] *",
   "language": "python",
   "name": "conda-env-GISenv21b-py"
  },
  "language_info": {
   "codemirror_mode": {
    "name": "ipython",
    "version": 3
   },
   "file_extension": ".py",
   "mimetype": "text/x-python",
   "name": "python",
   "nbconvert_exporter": "python",
   "pygments_lexer": "ipython3",
   "version": "3.9.6"
  }
 },
 "nbformat": 4,
 "nbformat_minor": 5
}

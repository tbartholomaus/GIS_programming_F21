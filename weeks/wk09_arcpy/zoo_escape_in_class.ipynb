{
 "cells": [
  {
   "cell_type": "code",
   "execution_count": 1,
   "metadata": {},
   "outputs": [
    {
     "name": "stdout",
     "output_type": "stream",
     "text": [
      "['FieldSightings_Lola', 'FieldSightings_Jimmy']\n"
     ]
    }
   ],
   "source": [
    "fcList = [\"FieldSightings_Lola\", \"FieldSightings_Jimmy\"]\n",
    "print(fcList)\n",
    "buffList = []"
   ]
  },
  {
   "cell_type": "code",
   "execution_count": 2,
   "metadata": {},
   "outputs": [
    {
     "data": {
      "text/plain": [
       "<class 'list'>"
      ]
     },
     "execution_count": 2,
     "metadata": {},
     "output_type": "execute_result"
    }
   ],
   "source": [
    "type(buffList)"
   ]
  },
  {
   "cell_type": "code",
   "execution_count": null,
   "metadata": {},
   "outputs": [],
   "source": []
  },
  {
   "cell_type": "code",
   "execution_count": null,
   "metadata": {},
   "outputs": [],
   "source": []
  },
  {
   "cell_type": "code",
   "execution_count": 3,
   "metadata": {},
   "outputs": [],
   "source": [
    "for fc in fcList:\n",
    "    buff = arcpy.analysis.Buffer(fc,fc+\"_Buffer\",\"1 kilometer\")\n",
    "    buffList.append(buff)"
   ]
  },
  {
   "cell_type": "code",
   "execution_count": 4,
   "metadata": {},
   "outputs": [
    {
     "data": {
      "text/plain": [
       "[<Result 'C:\\\\Users\\\\tbartholomaus\\\\OneDrive - University of Idaho\\\\TEACHINGs\\\\GEOG479_GIS_programming\\\\GIS_programming_F21\\\\weeks\\\\wk09_arcpy\\\\zoo_escape_demo\\\\zoo_escape_demo.gdb\\\\FieldSightings_Lola_Buffer'>, <Result 'C:\\\\Users\\\\tbartholomaus\\\\OneDrive - University of Idaho\\\\TEACHINGs\\\\GEOG479_GIS_programming\\\\GIS_programming_F21\\\\weeks\\\\wk09_arcpy\\\\zoo_escape_demo\\\\zoo_escape_demo.gdb\\\\FieldSightings_Jimmy_Buffer'>]"
      ]
     },
     "execution_count": 4,
     "metadata": {},
     "output_type": "execute_result"
    }
   ],
   "source": [
    "buffList"
   ]
  },
  {
   "cell_type": "code",
   "execution_count": null,
   "metadata": {},
   "outputs": [],
   "source": []
  },
  {
   "cell_type": "code",
   "execution_count": 5,
   "metadata": {},
   "outputs": [],
   "source": [
    "for buff in buffList:\n",
    "    arcpy.SelectLayerByLocation_management('Redlands_Schools', 'WITHIN',buff,0, 'ADD_TO_SELECTION')"
   ]
  },
  {
   "cell_type": "code",
   "execution_count": null,
   "metadata": {},
   "outputs": [],
   "source": []
  },
  {
   "cell_type": "raw",
   "metadata": {
    "collapsed": true
   },
   "source": [
    "schools_in_buffer = redlands_schools.within(buff) # boolean of those schools within the buffers\n",
    "redlands_schools_close = redlands_schools[schools_in_buffer]"
   ]
  },
  {
   "cell_type": "code",
   "execution_count": null,
   "metadata": {},
   "outputs": [],
   "source": [
    "import numpy as np\n",
    "aa = np.array([4, 7, 3.4, 2])"
   ]
  },
  {
   "cell_type": "code",
   "execution_count": null,
   "metadata": {},
   "outputs": [],
   "source": [
    "selecting_boolean = np.array([False, False, True, False])\n",
    "aa[ selecting_boolean ]"
   ]
  },
  {
   "cell_type": "code",
   "execution_count": 7,
   "metadata": {},
   "outputs": [
    {
     "data": {
      "text/html": [
       "<h2>Output</h2>C:\\Users\\tbartholomaus\\OneDrive - University of Idaho\\TEACHINGs\\GEOG479_GIS_programming\\GIS_programming_F21\\weeks\\wk09_arcpy\\zoo_escape_demo\\zoo_escape_demo.gdb\\Redlands_Schools_close<h2>Messages</h2>Start Time: Thursday, October 28, 2021 4:18:09 PM<br/>Succeeded at Thursday, October 28, 2021 4:18:10 PM (Elapsed Time: 0.88 seconds)<br/><style>.rendered_html td, .rendered_html th {text-align: left;}.rendered_html tbody {border: 1px solid black;}</style>"
      ],
      "text/plain": [
       "<Result 'C:\\\\Users\\\\tbartholomaus\\\\OneDrive - University of Idaho\\\\TEACHINGs\\\\GEOG479_GIS_programming\\\\GIS_programming_F21\\\\weeks\\\\wk09_arcpy\\\\zoo_escape_demo\\\\zoo_escape_demo.gdb\\\\Redlands_Schools_close'>"
      ]
     },
     "execution_count": 7,
     "metadata": {},
     "output_type": "execute_result"
    }
   ],
   "source": [
    "at_risk_schools = 'Redlands_Schools_close'\n",
    "\n",
    "arcpy.CopyFeatures_management('Redlands_Schools', at_risk_schools)"
   ]
  },
  {
   "cell_type": "code",
   "execution_count": 8,
   "metadata": {},
   "outputs": [
    {
     "data": {
      "text/plain": [
       "[<Field object at 0x1b425500a08[0x1b424fcd2d0]>, <Field object at 0x1b425500448[0x1b424fcdef0]>, <Field object at 0x1b425500f08[0x1b424fcd950]>, <Field object at 0x1b425500748[0x1b424fcd1d0]>, <Field object at 0x1b425500788[0x1b424fcdf90]>, <Field object at 0x1b425500208[0x1b424fcdaf0]>, <Field object at 0x1b425500248[0x1b424fcd7f0]>, <Field object at 0x1b425500e48[0x1b424fcd2b0]>, <Field object at 0x1b425366148[0x1b424fcd210]>, <Field object at 0x1b425366b48[0x1b424fcd1f0]>, <Field object at 0x1b425366988[0x1b424fcdf70]>, <Field object at 0x1b425366cc8[0x1b424fcdbd0]>, <Field object at 0x1b425366bc8[0x1b424fcd870]>, <Field object at 0x1b425366508[0x1b424fcd3b0]>, <Field object at 0x1b425502448[0x1b424fcd310]>, <Field object at 0x1b425502b88[0x1b424fcdbf0]>, <Field object at 0x1b425502948[0x1b424fcd330]>, <Field object at 0x1b425502b48[0x1b424fcd8b0]>, <Field object at 0x1b425502c48[0x1b424fcd170]>, <Field object at 0x1b425502c08[0x1b424fcd230]>, <Field object at 0x1b425502e08[0x1b424fcd190]>, <Field object at 0x1b425502f08[0x1b424fcd150]>, <Field object at 0x1b425502508[0x1b424fcd270]>, <Field object at 0x1b425502ac8[0x1b424fcd810]>, <Field object at 0x1b4255025c8[0x1b424fcd8d0]>, <Field object at 0x1b419ee2788[0x1b424fcde10]>, <Field object at 0x1b4253fdb88[0x1b424fcde30]>, <Field object at 0x1b4253fdf08[0x1b424fcddf0]>, <Field object at 0x1b4253fda08[0x1b424fcd290]>, <Field object at 0x1b4253fde88[0x1b424fcd2f0]>, <Field object at 0x1b4253fdfc8[0x1b424fcd850]>, <Field object at 0x1b425361888[0x1b424fcd250]>]"
      ]
     },
     "execution_count": 8,
     "metadata": {},
     "output_type": "execute_result"
    }
   ],
   "source": [
    "fields = arcpy.ListFields(at_risk_schools)\n",
    "fields"
   ]
  },
  {
   "cell_type": "code",
   "execution_count": 9,
   "metadata": {},
   "outputs": [
    {
     "data": {
      "text/plain": [
       "'NAME'"
      ]
     },
     "execution_count": 9,
     "metadata": {},
     "output_type": "execute_result"
    }
   ],
   "source": [
    "fields[3].name"
   ]
  },
  {
   "cell_type": "code",
   "execution_count": 10,
   "metadata": {},
   "outputs": [
    {
     "data": {
      "text/plain": [
       "0"
      ]
     },
     "execution_count": 10,
     "metadata": {},
     "output_type": "execute_result"
    }
   ],
   "source": [
    "fields[3].precision"
   ]
  },
  {
   "cell_type": "code",
   "execution_count": 11,
   "metadata": {},
   "outputs": [],
   "source": [
    "# List comprehension\n",
    "field_names = [f.name for f in fields]\n"
   ]
  },
  {
   "cell_type": "code",
   "execution_count": 12,
   "metadata": {},
   "outputs": [],
   "source": [
    "# For loop 1\n",
    "field_names = []\n",
    "for f in fields:\n",
    "    field_names.append(f.name)"
   ]
  },
  {
   "cell_type": "code",
   "execution_count": 13,
   "metadata": {},
   "outputs": [],
   "source": [
    "# For Loop 2\n",
    "field_names = []\n",
    "for i in range(len(fields)):\n",
    "    field_names.append(fields[i].name)"
   ]
  },
  {
   "cell_type": "code",
   "execution_count": 14,
   "metadata": {},
   "outputs": [
    {
     "data": {
      "text/plain": [
       "['OBJECTID', 'Shape', 'NCESID', 'NAME', 'ADDRESS', 'CITY', 'STATE', 'ZIP', 'ZIP4', 'TELEPHONE', 'TYPE', 'STATUS', 'POPULATION', 'COUNTY', 'COUNTYFIPS', 'COUNTRY', 'LATITUDE', 'LONGITUDE', 'NAICS_CODE', 'NAICS_DESC', 'SOURCE', 'SOURCEDATE', 'VAL_METHOD', 'VAL_DATE', 'WEBSITE', 'LEVEL_', 'ENROLLMENT', 'ST_GRADE', 'END_GRADE', 'DISTRICTID', 'FT_TEACHER', 'SHELTER_ID']"
      ]
     },
     "execution_count": 14,
     "metadata": {},
     "output_type": "execute_result"
    }
   ],
   "source": [
    "field_names"
   ]
  },
  {
   "cell_type": "code",
   "execution_count": 15,
   "metadata": {},
   "outputs": [
    {
     "data": {
      "text/plain": [
       "'NAME'"
      ]
     },
     "execution_count": 15,
     "metadata": {},
     "output_type": "execute_result"
    }
   ],
   "source": [
    "field_names[3]"
   ]
  },
  {
   "cell_type": "code",
   "execution_count": 16,
   "metadata": {},
   "outputs": [
    {
     "data": {
      "text/plain": [
       "array([('COPE MIDDLE',), ('KINGSBURY ELEMENTARY',),\n",
       "       ('MCKINLEY ELEMENTARY',), ('SMILEY ELEMENTARY',),\n",
       "       ('LUGONIA ELEMENTARY',), ('CLEMENT MIDDLE',)],\n",
       "      dtype=[('NAME', '<U150')])"
      ]
     },
     "execution_count": 16,
     "metadata": {},
     "output_type": "execute_result"
    }
   ],
   "source": [
    "arcpy.da.TableToNumPyArray(at_risk_schools, field_names[3])"
   ]
  },
  {
   "cell_type": "code",
   "execution_count": null,
   "metadata": {},
   "outputs": [],
   "source": []
  }
 ],
 "metadata": {
  "kernelspec": {
   "display_name": "ArcGISPro",
   "language": "Python",
   "name": "python3"
  },
  "language_info": {
   "file_extension": ".py",
   "name": "python",
   "version": "3"
  }
 },
 "nbformat": 4,
 "nbformat_minor": 2
}

{
 "cells": [
  {
   "cell_type": "markdown",
   "id": "b16f962e-4fa0-4b0a-b3a2-d6964f9c01db",
   "metadata": {},
   "source": [
    "# Assignment 09\n",
    "\n",
    "Learning goal: develop confidence working with Google Earth Engine and build comfort working with new datasets.\n",
    "\n",
    "The tools needed to complete this assignment are largely found within the Intro Python Tutorial that you have gone through.\n",
    "If you haven't already, please pause, and run through this tutorial, copying each cell block of text from the tutorial\n",
    "into a new notebook.  Here is the web address to the tutorial: https://developers.google.com/earth-engine/tutorials/community/intro-to-python-api-guiattard\n",
    "\n",
    "Skim this website to learn the fundamental building blocks (i.e., objects and methods) of EE: \n",
    "https://developers.google.com/earth-engine/guides/objects_methods_overview\n",
    "\n",
    "With the above knowledge, I hope that you will be able to use the [tutorial](https://developers.google.com/earth-engine/tutorials/community/intro-to-python-api-guiattard) \n",
    "as something of a guide, and copy, paste, and modify the steps used in the tutorial to meet the specific goals\n",
    "of this assignment.\n",
    "\n",
    "As always, post your questions on slack!\n"
   ]
  },
  {
   "cell_type": "code",
   "execution_count": 1,
   "id": "5bcda90f-8b78-4240-b804-c84c7176874e",
   "metadata": {},
   "outputs": [],
   "source": [
    "import ee\n",
    "from IPython.display import Image\n",
    "import pandas as pd\n",
    "\n",
    "import folium # For super-cool interactive maps\n"
   ]
  },
  {
   "cell_type": "code",
   "execution_count": 2,
   "id": "f3df0d4c-94a4-4e75-80bb-01930f59d878",
   "metadata": {},
   "outputs": [],
   "source": [
    "ee.Initialize() # necessary to let Google know who you are, and that you'll be using GEE tools.\n"
   ]
  },
  {
   "cell_type": "code",
   "execution_count": null,
   "id": "f7189e31-5911-427a-9979-d10af808d07a",
   "metadata": {},
   "outputs": [],
   "source": []
  },
  {
   "cell_type": "markdown",
   "id": "aee4e3e5-f86d-468d-aea6-7024dcb9e8e7",
   "metadata": {},
   "source": [
    "## Exploring snow cover in and around Moscow\n",
    "There is a daily estimate of snow cover from the MODIS Terra satellite,\n",
    "using a band ratio metric akin to the NDVI we've used previously.  This metric\n",
    "is known as the Normalized Difference Snow Index (NDSI).  We'll use this NASA\n",
    "data product, available through Google Earth Engine.\n",
    "\n",
    "Find the MOD10A1.006 Terra Snow Cover Daily Global 500m within the Earth Engine Data Catalog:\n",
    "https://developers.google.com/earth-engine/datasets\n",
    "\n",
    "Review the Bands that are reported for this dataset.  On the Bands page, each Band of the\n",
    "dataset is named with bold font, and then, to the right of the name, is a range of various\n",
    "different kinds of information defining what is included in each band.\n",
    "\n"
   ]
  },
  {
   "cell_type": "code",
   "execution_count": 3,
   "id": "65d32ea5-d8ff-4d8d-a645-39f6539b048e",
   "metadata": {},
   "outputs": [],
   "source": [
    "# Create an ee.ImageCollection variable named \"snow\"\n",
    "#   complete the following line of code\n",
    "snow =  ee.ImageCollection(\"MODIS/006/MOD10A1\") # MOD10A1.006 Terra Snow Cover Daily Global 500m"
   ]
  },
  {
   "cell_type": "code",
   "execution_count": null,
   "id": "1bce4974-1821-493b-82a7-019a0fa2ed51",
   "metadata": {},
   "outputs": [],
   "source": []
  },
  {
   "cell_type": "code",
   "execution_count": 4,
   "id": "298330b8-c269-4b71-bbdc-3922ff18c11c",
   "metadata": {},
   "outputs": [
    {
     "data": {
      "text/plain": [
       "7859"
      ]
     },
     "execution_count": 4,
     "metadata": {},
     "output_type": "execute_result"
    }
   ],
   "source": [
    "# Find how many images are in the ImageCollection\n",
    "snow.size().getInfo()"
   ]
  },
  {
   "cell_type": "code",
   "execution_count": 13,
   "id": "ddb7758f-6e2d-4bf7-9b14-84cecc2a9c2b",
   "metadata": {
    "tags": []
   },
   "outputs": [
    {
     "data": {
      "text/plain": [
       "{'type': 'Image',\n",
       " 'bands': [{'id': 'NDSI_Snow_Cover',\n",
       "   'data_type': {'type': 'PixelType',\n",
       "    'precision': 'int',\n",
       "    'min': 0,\n",
       "    'max': 255},\n",
       "   'dimensions': [86400, 43200],\n",
       "   'crs': 'SR-ORG:6974',\n",
       "   'crs_transform': [463.312716528,\n",
       "    0,\n",
       "    -20015109.354,\n",
       "    0,\n",
       "    -463.312716527,\n",
       "    10007554.677]},\n",
       "  {'id': 'NDSI_Snow_Cover_Basic_QA',\n",
       "   'data_type': {'type': 'PixelType',\n",
       "    'precision': 'int',\n",
       "    'min': 0,\n",
       "    'max': 255},\n",
       "   'dimensions': [86400, 43200],\n",
       "   'crs': 'SR-ORG:6974',\n",
       "   'crs_transform': [463.312716528,\n",
       "    0,\n",
       "    -20015109.354,\n",
       "    0,\n",
       "    -463.312716527,\n",
       "    10007554.677]},\n",
       "  {'id': 'NDSI_Snow_Cover_Algorithm_Flags_QA',\n",
       "   'data_type': {'type': 'PixelType',\n",
       "    'precision': 'int',\n",
       "    'min': 0,\n",
       "    'max': 255},\n",
       "   'dimensions': [86400, 43200],\n",
       "   'crs': 'SR-ORG:6974',\n",
       "   'crs_transform': [463.312716528,\n",
       "    0,\n",
       "    -20015109.354,\n",
       "    0,\n",
       "    -463.312716527,\n",
       "    10007554.677]},\n",
       "  {'id': 'NDSI',\n",
       "   'data_type': {'type': 'PixelType',\n",
       "    'precision': 'int',\n",
       "    'min': -32768,\n",
       "    'max': 32767},\n",
       "   'dimensions': [86400, 43200],\n",
       "   'crs': 'SR-ORG:6974',\n",
       "   'crs_transform': [463.312716528,\n",
       "    0,\n",
       "    -20015109.354,\n",
       "    0,\n",
       "    -463.312716527,\n",
       "    10007554.677]},\n",
       "  {'id': 'Snow_Albedo_Daily_Tile',\n",
       "   'data_type': {'type': 'PixelType',\n",
       "    'precision': 'int',\n",
       "    'min': 0,\n",
       "    'max': 255},\n",
       "   'dimensions': [86400, 43200],\n",
       "   'crs': 'SR-ORG:6974',\n",
       "   'crs_transform': [463.312716528,\n",
       "    0,\n",
       "    -20015109.354,\n",
       "    0,\n",
       "    -463.312716527,\n",
       "    10007554.677]},\n",
       "  {'id': 'orbit_pnt',\n",
       "   'data_type': {'type': 'PixelType',\n",
       "    'precision': 'int',\n",
       "    'min': 0,\n",
       "    'max': 255},\n",
       "   'dimensions': [86400, 43200],\n",
       "   'crs': 'SR-ORG:6974',\n",
       "   'crs_transform': [463.312716528,\n",
       "    0,\n",
       "    -20015109.354,\n",
       "    0,\n",
       "    -463.312716527,\n",
       "    10007554.677]},\n",
       "  {'id': 'granule_pnt',\n",
       "   'data_type': {'type': 'PixelType',\n",
       "    'precision': 'int',\n",
       "    'min': 0,\n",
       "    'max': 255},\n",
       "   'dimensions': [86400, 43200],\n",
       "   'crs': 'SR-ORG:6974',\n",
       "   'crs_transform': [463.312716528,\n",
       "    0,\n",
       "    -20015109.354,\n",
       "    0,\n",
       "    -463.312716527,\n",
       "    10007554.677]},\n",
       "  {'id': 'NDSI_Snow_Cover_Class',\n",
       "   'data_type': {'type': 'PixelType',\n",
       "    'precision': 'int',\n",
       "    'min': 0,\n",
       "    'max': 255},\n",
       "   'dimensions': [86400, 43200],\n",
       "   'crs': 'SR-ORG:6974',\n",
       "   'crs_transform': [463.312716528,\n",
       "    0,\n",
       "    -20015109.354,\n",
       "    0,\n",
       "    -463.312716527,\n",
       "    10007554.677]},\n",
       "  {'id': 'Snow_Albedo_Daily_Tile_Class',\n",
       "   'data_type': {'type': 'PixelType',\n",
       "    'precision': 'int',\n",
       "    'min': 0,\n",
       "    'max': 255},\n",
       "   'dimensions': [86400, 43200],\n",
       "   'crs': 'SR-ORG:6974',\n",
       "   'crs_transform': [463.312716528,\n",
       "    0,\n",
       "    -20015109.354,\n",
       "    0,\n",
       "    -463.312716527,\n",
       "    10007554.677]}],\n",
       " 'version': 1541936909829165,\n",
       " 'id': 'MODIS/006/MOD10A1/2000_02_24',\n",
       " 'properties': {'system:time_start': 951350400000,\n",
       "  'system:footprint': {'type': 'LinearRing',\n",
       "   'coordinates': [[-180, -90],\n",
       "    [180, -90],\n",
       "    [180, 90],\n",
       "    [-180, 90],\n",
       "    [-180, -90]]},\n",
       "  'system:time_end': 951436800000,\n",
       "  'system:asset_size': 396169135,\n",
       "  'system:index': '2000_02_24'}}"
      ]
     },
     "execution_count": 13,
     "metadata": {},
     "output_type": "execute_result"
    }
   ],
   "source": [
    "# Use getInfo() to report the contents of the first Image of the 'snow' ImageCollection\n",
    "# snow.getInfo() # does not work\n",
    "# snow.getInfo(:1) # does not work\n",
    "# snow.getInfo(1) # does not work\n",
    "# snow.getInfo().first() # does not work\n",
    "snow.first().getInfo()\n"
   ]
  },
  {
   "cell_type": "markdown",
   "id": "77d9d6ff-5d83-4b9f-b4ee-5930a4c6bece",
   "metadata": {},
   "source": [
    "Recognize above that, after `type` (`Image`), the different bands are all identified according to their\n",
    "`id` (name) and other information about the contents of the band.\n",
    "\n",
    "We want a simple, straightforward way to assess the percentage of a pixel (500 m x 500 m) that\n",
    "is snow covered.  So we need to find which band contains this information.  The Google Earth Engine\n",
    "Data Catalog suggests which band this might be, but it can be a little opaque.  To clarify the contents\n",
    "of the bands, go to the\n",
    "National Snow and Ice Data Center (NSIDC- which is a NASA data repository) and is the actual home/source\n",
    "of this data product.  Earth Engine serves it, but the product is really from NASA and is distributed\n",
    "by the NSIDC.  There are two ways this can be accessed from Earth Engine.  I've circled and\n",
    "drawn an arrow next to these options.\n",
    "\n",
    "<!-- ![title](find_documentation.png) -->\n",
    "<img src=\"find_documentation.png\" alt=\"alt text\" width=\"500\"/>\n",
    "\n",
    "Within the NSIDC dataset website, you'll find more information about the origin of the dataset, and\n",
    "how to use it.  You'll see multiple tabs, starting with \"Overview\" (basic metadata), \"Download\n",
    "Data\" (don't do it!  We're using Earth Engine!!!), \"Citing ...\", \"User Guide,\" etc.\n",
    "\n",
    "The User Guide describes the origin of these data, how they were processed, etc.  Give the User Guide\n",
    "pdf a look on the NSIDC website to decide which band to use going forward, as your best estimate\n",
    "of snow cover.\n"
   ]
  },
  {
   "cell_type": "markdown",
   "id": "f5aa09c9-bb00-4539-b201-77923e14b276",
   "metadata": {},
   "source": [
    "### Mean snow cover in Moscow\n",
    "Find the mean snow cover over all times at location just outside of Moscow.\n",
    "To avoid any impacts associated with the town itself (i.e., buildings, parking lots, plowing, etc.),\n",
    "choose a coordinate to `sample` that is just outside the developed regions of the town.  You might\n",
    "use Google Earth, or some other GIS software, to pick this coordinate."
   ]
  },
  {
   "cell_type": "code",
   "execution_count": 9,
   "id": "6b62e32c-6076-4a4c-acfc-258c2eabe2cb",
   "metadata": {},
   "outputs": [],
   "source": [
    "# Define the location of interest for Moscow.\n",
    "moscow_lon = -117.03# -117.00\n",
    "moscow_lat = 46.72#46.732\n",
    "moscow_lon = -116.98# -117.00\n",
    "moscow_lat = 46.75#46.732\n",
    "moscow_poi = ee.Geometry.Point(moscow_lon, moscow_lat)\n",
    "\n",
    "# Define the operative scale of the dataset.  This is important for defining how EE does its analyses.\n",
    "#    This should be the resolution of the data product.\n",
    "scale = 500  # scale in meters\n"
   ]
  },
  {
   "cell_type": "markdown",
   "id": "348118a7-a409-4b36-9188-b1bb1ac9f83d",
   "metadata": {
    "jp-MarkdownHeadingCollapsed": true,
    "tags": []
   },
   "source": [
    "### Visualize the mean snow cover\n",
    "\n",
    "Calculate the mean snow cover of the entire dataset.  For the region around Moscow, plot this mean snow cover."
   ]
  },
  {
   "cell_type": "code",
   "execution_count": null,
   "id": "03423df4-13a0-41ff-a303-b4ff3b9c1187",
   "metadata": {},
   "outputs": [],
   "source": [
    "# mean_cover = snow.mean # not it...\n",
    "# mean_cover = snow.mean.get('NDSI_Snow_Cover').getInfo() # not it...\n",
    "# mean_cover = snow.mean(moscow_poi, scale).first().get('NDSI_Snow_Cover').getInfo() # not it...\n",
    "\n",
    "print('Ground elevation at urban point:', mean_cover, 'm')"
   ]
  },
  {
   "cell_type": "markdown",
   "id": "ba0ecd2e-6878-402b-bf11-44fc09077b14",
   "metadata": {},
   "source": [
    "#### Set up a Folium map to explore the output data with"
   ]
  },
  {
   "cell_type": "code",
   "execution_count": null,
   "id": "c01eb1b3-75fe-4044-8aab-aec0cc447caa",
   "metadata": {},
   "outputs": [],
   "source": [
    "elev = ee.Image('USGS/SRTMGL1_003') # Read in the STRM dataset as an EE Image\n",
    "\n",
    "# Define a method for displaying Earth Engine image tiles to folium map.\n",
    "def add_ee_layer(self, ee_image_object, vis_params, name):\n",
    "  map_id_dict = ee.Image(ee_image_object).getMapId(vis_params)\n",
    "  folium.raster_layers.TileLayer(\n",
    "    tiles = map_id_dict['tile_fetcher'].url_format,\n",
    "    attr = 'Map Data &copy; <a href=\"https://earthengine.google.com/\">Google Earth Engine</a>',\n",
    "    name = name,\n",
    "    overlay = True,\n",
    "    control = True\n",
    "  ).add_to(self)\n",
    "\n",
    "# Add EE drawing method to folium.\n",
    "folium.Map.add_ee_layer = add_ee_layer\n",
    "\n",
    "# Create a folium map object.\n",
    "my_map = folium.Map(location=[46.8, -117], zoom_start=10)\n",
    "\n",
    "# Set visualization parameters for the elevation dataset\n",
    "elev_params = {\n",
    "  'min': 0,\n",
    "  'max': 4000,\n",
    "  'palette': ['006633', 'E5FFCC', '662A00', 'D8D8D8', 'F5F5F5']}\n",
    "# Add the elevation model to the map object.\n",
    "my_map.add_ee_layer(elev, elev_params, 'DEM')\n",
    "\n",
    "\n",
    "# Add a layer control panel to the map.\n",
    "# my_map.add_child(folium.LayerControl())\n",
    "folium.LayerControl(collapsed = False).add_to(my_map)\n",
    "\n",
    "\n",
    "# Display the map.\n",
    "display(my_map)"
   ]
  },
  {
   "cell_type": "markdown",
   "id": "0c79fea0-9989-45e2-aa1e-0cadca2f2b7e",
   "metadata": {},
   "source": [
    "### Interpretting the snow cover\n",
    "Add a layer to the Folium map above that includes the mean of all the snow cover measurements.\n",
    "Note in the map above there there are only a few lines used to define the `elev_params` and then one \n",
    "line that uses `add_ee_layer` to add the `elev` dataset to the map.  You can reproduce (and modify)\n",
    "these lines to show your map of mean snow cover.\n",
    "\n",
    "Write a few sentences to interpret the spatial patterns in mean snow cover in the several 10s of km\n",
    "basin surrounding Moscow."
   ]
  },
  {
   "cell_type": "code",
   "execution_count": null,
   "id": "e97f152a-d1bd-4e6c-95bd-bb1c2dfd3993",
   "metadata": {},
   "outputs": [],
   "source": []
  },
  {
   "cell_type": "markdown",
   "id": "d38f49d6-970e-44e3-af0c-fe53c84c1581",
   "metadata": {},
   "source": [
    "## Examining time series of snow cover around Moscow\n",
    "Your goal now is to produce a time series of snow cover (from MODIS NDSI) near Moscow (but again, just outside Moscow, to\n",
    "avoide city effects)."
   ]
  },
  {
   "cell_type": "markdown",
   "id": "b7795616-6c78-474e-ae2f-a86dba21d370",
   "metadata": {},
   "source": [
    "Again, following the example from the [Python API tutorial](https://developers.google.com/earth-engine/tutorials/community/intro-to-python-api-guiattard).\n",
    "Produce an array (technically a list of lists in this case) with all of the snow cover measurements of your Moscow\n",
    "coordinates."
   ]
  },
  {
   "cell_type": "code",
   "execution_count": null,
   "id": "3b7e81a8-3449-40c3-a332-8b77d060573f",
   "metadata": {},
   "outputs": [],
   "source": []
  },
  {
   "cell_type": "code",
   "execution_count": null,
   "id": "3f56661c-ce70-41a2-80ac-343b7b1ce8fd",
   "metadata": {},
   "outputs": [],
   "source": []
  },
  {
   "cell_type": "code",
   "execution_count": null,
   "id": "0cf1974e-2c44-4f9d-aaf4-6e989857719e",
   "metadata": {},
   "outputs": [],
   "source": []
  },
  {
   "cell_type": "code",
   "execution_count": 1,
   "id": "e70b16e9-68e3-40b6-9723-5ac957823387",
   "metadata": {},
   "outputs": [],
   "source": [
    "# Function to transform the EE array (list of lists) into a pandas dataframe\n",
    "def ee_array_to_df(arr, list_of_bands):\n",
    "    \"\"\"Transforms client-side ee.Image.getRegion array to pandas.DataFrame.\"\"\"\n",
    "    df = pd.DataFrame(arr)\n",
    "\n",
    "    # Rearrange the header.\n",
    "    headers = df.iloc[0]\n",
    "    df = pd.DataFrame(df.values[1:], columns=headers)\n",
    "\n",
    "    # Remove rows without data inside.\n",
    "    df = df[['longitude', 'latitude', 'time', *list_of_bands]].dropna()\n",
    "\n",
    "    # Convert the data to numeric values.\n",
    "    for band in list_of_bands:\n",
    "        df[band] = pd.to_numeric(df[band], errors='coerce')\n",
    "\n",
    "    # Convert the time field into a datetime.\n",
    "    df['datetime'] = pd.to_datetime(df['time'], unit='ms')\n",
    "\n",
    "    # Keep the columns of interest.\n",
    "    df = df[['time','datetime',  *list_of_bands]]\n",
    "\n",
    "    return df"
   ]
  },
  {
   "cell_type": "markdown",
   "id": "1b651038-7db8-44b0-b243-0045beea0780",
   "metadata": {},
   "source": [
    "Use the function above to create a DataFrame that includes snow cover as a function of time.  Show\n",
    "that DataFrame below."
   ]
  },
  {
   "cell_type": "code",
   "execution_count": null,
   "id": "7c62bd61-bc49-4f3d-b337-32209b31ca31",
   "metadata": {},
   "outputs": [],
   "source": []
  },
  {
   "cell_type": "code",
   "execution_count": null,
   "id": "c866c92f-080b-4b8a-9fb4-92b472ab963f",
   "metadata": {},
   "outputs": [],
   "source": []
  },
  {
   "cell_type": "markdown",
   "id": "1dc06c59-65ee-4b38-bd72-0972c4473fc8",
   "metadata": {},
   "source": [
    "Create a plot of the snow cover as a function of time, for the full time series, up to the present."
   ]
  },
  {
   "cell_type": "code",
   "execution_count": null,
   "id": "c9d8019f-542a-485f-a147-1d0dc4837466",
   "metadata": {},
   "outputs": [],
   "source": []
  },
  {
   "cell_type": "markdown",
   "id": "6fce544f-8bbf-47c7-b2c9-e733b47ffe05",
   "metadata": {},
   "source": [
    "### Commonality of early snowfalls\n",
    "\n",
    "Last year, in 2020, a heavy snow fell on October 23-24, while there were still many leaves on\n",
    "the trees.  This caused power outages and brought down many many tree limbs across Moscow (see\n",
    "evidence of this below, with a truck ready to head for one of Many trips to the city's yard\n",
    "waste dump that day).\n",
    "\n",
    "<img src=\"early_snow.jpg\" alt=\"alt text\" width=\"500\"/>\n",
    "\n",
    "How typical are these early season snow storms in Moscow?  Has there been October snow\n",
    "accumulation in any of the prior 5 or so years?"
   ]
  },
  {
   "cell_type": "code",
   "execution_count": null,
   "id": "49b3f59d-04f6-4743-a9ad-3ffc8df3b143",
   "metadata": {},
   "outputs": [],
   "source": []
  },
  {
   "cell_type": "code",
   "execution_count": null,
   "id": "4517eb0d-2323-4451-b660-2c4cb4fd7c06",
   "metadata": {},
   "outputs": [],
   "source": []
  },
  {
   "cell_type": "markdown",
   "id": "1d234d67-7e2c-4296-8d8c-93c49c3469a7",
   "metadata": {},
   "source": [
    "### Optional: Seasonal cycle of snow cover in Moscow\n",
    "Make a plot of a typical year, and plot each year's snow cover record on this single, 12 month axis.\n",
    "I'm thinking of something along the lines of the National Snow and Ice Data Center's\n",
    "[Charctic Interactive Sea Ice Graph](https://nsidc.org/arcticseaicenews/charctic-interactive-sea-ice-graph/), \n",
    "in which an entire time series is plotted on one year, to facilitate comparison and identify typical\n",
    "patterns.\n",
    "\n",
    "Tweak the graph you make of the annual snow cover so that it shows the average snow cover\n",
    "as a function of day.  \n",
    "\n"
   ]
  },
  {
   "cell_type": "code",
   "execution_count": null,
   "id": "73168f6e-41ed-464e-bd75-56077e45f6d3",
   "metadata": {},
   "outputs": [],
   "source": []
  },
  {
   "cell_type": "code",
   "execution_count": null,
   "id": "eacbd931-6fc5-4d6c-a2b6-a5d18b4c8ada",
   "metadata": {},
   "outputs": [],
   "source": []
  },
  {
   "cell_type": "code",
   "execution_count": null,
   "id": "0be91b55-e001-44d0-9257-3ff7fe4816e6",
   "metadata": {},
   "outputs": [],
   "source": []
  }
 ],
 "metadata": {
  "interpreter": {
   "hash": "6cc1732631c876ffc1dda5286854c32dbbf458e6cd8a4ac8647a458d1ef8ffff"
  },
  "kernelspec": {
   "display_name": "Python 3.9.7 64-bit ('GISenv21b': conda)",
   "name": "python3"
  },
  "language_info": {
   "codemirror_mode": {
    "name": "ipython",
    "version": 3
   },
   "file_extension": ".py",
   "mimetype": "text/x-python",
   "name": "python",
   "nbconvert_exporter": "python",
   "pygments_lexer": "ipython3",
   "version": "3.9.7"
  }
 },
 "nbformat": 4,
 "nbformat_minor": 5
}

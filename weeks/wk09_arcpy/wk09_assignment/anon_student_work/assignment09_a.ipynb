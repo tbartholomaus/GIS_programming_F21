{
 "cells": [
  {
   "cell_type": "markdown",
   "id": "b16f962e-4fa0-4b0a-b3a2-d6964f9c01db",
   "metadata": {},
   "source": [
    "# Assignment 09\n",
    "\n",
    "Learning goal: develop confidence working with Google Earth Engine and build comfort working with new datasets.\n",
    "\n",
    "The tools needed to complete this assignment are largely found within the Intro Python Tutorial that you have gone through.\n",
    "If you haven't already, please pause, and run through this tutorial, copying each cell block of text from the tutorial\n",
    "into a new notebook.  Here is the web address to the tutorial: https://developers.google.com/earth-engine/tutorials/community/intro-to-python-api-guiattard\n",
    "\n",
    "Skim this website to learn the fundamental building blocks (i.e., objects and methods) of EE: \n",
    "https://developers.google.com/earth-engine/guides/objects_methods_overview\n",
    "\n",
    "With the above knowledge, I hope that you will be able to use the [tutorial](https://developers.google.com/earth-engine/tutorials/community/intro-to-python-api-guiattard) \n",
    "as something of a guide, and copy, paste, and modify the steps used in the tutorial to meet the specific goals\n",
    "of this assignment.\n",
    "\n",
    "As always, post your questions on slack!\n"
   ]
  },
  {
   "cell_type": "code",
   "execution_count": 1,
   "id": "5bcda90f-8b78-4240-b804-c84c7176874e",
   "metadata": {},
   "outputs": [],
   "source": [
    "import ee\n",
    "from IPython.display import Image\n",
    "import pandas as pd\n",
    "\n",
    "import folium # For super-cool interactive maps\n"
   ]
  },
  {
   "cell_type": "code",
   "execution_count": 2,
   "id": "f3df0d4c-94a4-4e75-80bb-01930f59d878",
   "metadata": {},
   "outputs": [],
   "source": [
    "ee.Initialize() # necessary to let Google know who you are, and that you'll be using GEE tools.\n"
   ]
  },
  {
   "cell_type": "code",
   "execution_count": null,
   "id": "f7189e31-5911-427a-9979-d10af808d07a",
   "metadata": {},
   "outputs": [],
   "source": []
  },
  {
   "cell_type": "markdown",
   "id": "aee4e3e5-f86d-468d-aea6-7024dcb9e8e7",
   "metadata": {},
   "source": [
    "## Exploring snow cover in and around Moscow\n",
    "There is a daily estimate of snow cover from the MODIS Terra satellite,\n",
    "using a band ratio metric akin to the NDVI we've used previously.  This metric\n",
    "is known as the Normalized Difference Snow Index (NDSI).  We'll use this NASA\n",
    "data product, available through Google Earth Engine.\n",
    "\n",
    "Find the MOD10A1.006 Terra Snow Cover Daily Global 500m within the Earth Engine Data Catalog:\n",
    "https://developers.google.com/earth-engine/datasets\n",
    "\n",
    "Review the Bands that are reported for this dataset.  On the Bands page, each Band of the\n",
    "dataset is named with bold font, and then, to the right of the name, is a range of various\n",
    "different kinds of information defining what is included in each band.\n",
    "\n"
   ]
  },
  {
   "cell_type": "code",
   "execution_count": 6,
   "id": "65d32ea5-d8ff-4d8d-a645-39f6539b048e",
   "metadata": {},
   "outputs": [],
   "source": [
    "# Create an ee.ImageCollection variable named \"snow\"\n",
    "#   complete the following line of code\n",
    "snow =  ee.ImageCollection('MODIS/006/MOD10A1')\n",
    "# MOD10A1.006 Terra Snow Cover Daily Global 500m"
   ]
  },
  {
   "cell_type": "code",
   "execution_count": null,
   "id": "1bce4974-1821-493b-82a7-019a0fa2ed51",
   "metadata": {},
   "outputs": [],
   "source": []
  },
  {
   "cell_type": "code",
   "execution_count": 7,
   "id": "298330b8-c269-4b71-bbdc-3922ff18c11c",
   "metadata": {},
   "outputs": [
    {
     "data": {
      "text/plain": [
       "7859"
      ]
     },
     "execution_count": 7,
     "metadata": {},
     "output_type": "execute_result"
    }
   ],
   "source": [
    "# Find how many images are in the ImageCollection\n",
    "snow.size().getInfo()"
   ]
  },
  {
   "cell_type": "code",
   "execution_count": 8,
   "id": "ddb7758f-6e2d-4bf7-9b14-84cecc2a9c2b",
   "metadata": {
    "tags": []
   },
   "outputs": [
    {
     "data": {
      "text/plain": [
       "{'type': 'Image',\n",
       " 'bands': [{'id': 'NDSI_Snow_Cover',\n",
       "   'data_type': {'type': 'PixelType',\n",
       "    'precision': 'int',\n",
       "    'min': 0,\n",
       "    'max': 255},\n",
       "   'dimensions': [86400, 43200],\n",
       "   'crs': 'SR-ORG:6974',\n",
       "   'crs_transform': [463.312716528,\n",
       "    0,\n",
       "    -20015109.354,\n",
       "    0,\n",
       "    -463.312716527,\n",
       "    10007554.677]},\n",
       "  {'id': 'NDSI_Snow_Cover_Basic_QA',\n",
       "   'data_type': {'type': 'PixelType',\n",
       "    'precision': 'int',\n",
       "    'min': 0,\n",
       "    'max': 255},\n",
       "   'dimensions': [86400, 43200],\n",
       "   'crs': 'SR-ORG:6974',\n",
       "   'crs_transform': [463.312716528,\n",
       "    0,\n",
       "    -20015109.354,\n",
       "    0,\n",
       "    -463.312716527,\n",
       "    10007554.677]},\n",
       "  {'id': 'NDSI_Snow_Cover_Algorithm_Flags_QA',\n",
       "   'data_type': {'type': 'PixelType',\n",
       "    'precision': 'int',\n",
       "    'min': 0,\n",
       "    'max': 255},\n",
       "   'dimensions': [86400, 43200],\n",
       "   'crs': 'SR-ORG:6974',\n",
       "   'crs_transform': [463.312716528,\n",
       "    0,\n",
       "    -20015109.354,\n",
       "    0,\n",
       "    -463.312716527,\n",
       "    10007554.677]},\n",
       "  {'id': 'NDSI',\n",
       "   'data_type': {'type': 'PixelType',\n",
       "    'precision': 'int',\n",
       "    'min': -32768,\n",
       "    'max': 32767},\n",
       "   'dimensions': [86400, 43200],\n",
       "   'crs': 'SR-ORG:6974',\n",
       "   'crs_transform': [463.312716528,\n",
       "    0,\n",
       "    -20015109.354,\n",
       "    0,\n",
       "    -463.312716527,\n",
       "    10007554.677]},\n",
       "  {'id': 'Snow_Albedo_Daily_Tile',\n",
       "   'data_type': {'type': 'PixelType',\n",
       "    'precision': 'int',\n",
       "    'min': 0,\n",
       "    'max': 255},\n",
       "   'dimensions': [86400, 43200],\n",
       "   'crs': 'SR-ORG:6974',\n",
       "   'crs_transform': [463.312716528,\n",
       "    0,\n",
       "    -20015109.354,\n",
       "    0,\n",
       "    -463.312716527,\n",
       "    10007554.677]},\n",
       "  {'id': 'orbit_pnt',\n",
       "   'data_type': {'type': 'PixelType',\n",
       "    'precision': 'int',\n",
       "    'min': 0,\n",
       "    'max': 255},\n",
       "   'dimensions': [86400, 43200],\n",
       "   'crs': 'SR-ORG:6974',\n",
       "   'crs_transform': [463.312716528,\n",
       "    0,\n",
       "    -20015109.354,\n",
       "    0,\n",
       "    -463.312716527,\n",
       "    10007554.677]},\n",
       "  {'id': 'granule_pnt',\n",
       "   'data_type': {'type': 'PixelType',\n",
       "    'precision': 'int',\n",
       "    'min': 0,\n",
       "    'max': 255},\n",
       "   'dimensions': [86400, 43200],\n",
       "   'crs': 'SR-ORG:6974',\n",
       "   'crs_transform': [463.312716528,\n",
       "    0,\n",
       "    -20015109.354,\n",
       "    0,\n",
       "    -463.312716527,\n",
       "    10007554.677]},\n",
       "  {'id': 'NDSI_Snow_Cover_Class',\n",
       "   'data_type': {'type': 'PixelType',\n",
       "    'precision': 'int',\n",
       "    'min': 0,\n",
       "    'max': 255},\n",
       "   'dimensions': [86400, 43200],\n",
       "   'crs': 'SR-ORG:6974',\n",
       "   'crs_transform': [463.312716528,\n",
       "    0,\n",
       "    -20015109.354,\n",
       "    0,\n",
       "    -463.312716527,\n",
       "    10007554.677]},\n",
       "  {'id': 'Snow_Albedo_Daily_Tile_Class',\n",
       "   'data_type': {'type': 'PixelType',\n",
       "    'precision': 'int',\n",
       "    'min': 0,\n",
       "    'max': 255},\n",
       "   'dimensions': [86400, 43200],\n",
       "   'crs': 'SR-ORG:6974',\n",
       "   'crs_transform': [463.312716528,\n",
       "    0,\n",
       "    -20015109.354,\n",
       "    0,\n",
       "    -463.312716527,\n",
       "    10007554.677]}],\n",
       " 'version': 1541936909829165,\n",
       " 'id': 'MODIS/006/MOD10A1/2000_02_24',\n",
       " 'properties': {'system:time_start': 951350400000,\n",
       "  'system:footprint': {'type': 'LinearRing',\n",
       "   'coordinates': [[-180, -90],\n",
       "    [180, -90],\n",
       "    [180, 90],\n",
       "    [-180, 90],\n",
       "    [-180, -90]]},\n",
       "  'system:time_end': 951436800000,\n",
       "  'system:asset_size': 396169135,\n",
       "  'system:index': '2000_02_24'}}"
      ]
     },
     "execution_count": 8,
     "metadata": {},
     "output_type": "execute_result"
    }
   ],
   "source": [
    "# Use getInfo() to report the contents of the first Image of the 'snow' ImageCollection\n",
    "snow.first().getInfo()\n",
    "\n"
   ]
  },
  {
   "cell_type": "markdown",
   "id": "77d9d6ff-5d83-4b9f-b4ee-5930a4c6bece",
   "metadata": {},
   "source": [
    "Recognize above that, after `type` (`Image`), the different bands are all identified according to their\n",
    "`id` (name) and other information about the contents of the band.\n",
    "\n",
    "We want a simple, straightforward way to assess the percentage of a pixel (500 m x 500 m) that\n",
    "is snow covered.  So we need to find which band contains this information.  The Google Earth Engine\n",
    "Data Catalog suggests which band this might be, but it can be a little opaque.  To clarify the contents\n",
    "of the bands, go to the\n",
    "National Snow and Ice Data Center (NSIDC- which is a NASA data repository) and is the actual home/source\n",
    "of this data product.  Earth Engine serves it, but the product is really from NASA and is distributed\n",
    "by the NSIDC.  There are two ways this can be accessed from Earth Engine.  I've circled and\n",
    "drawn an arrow next to these options.\n",
    "\n",
    "<!-- ![title](find_documentation.png) -->\n",
    "<img src=\"find_documentation.png\" alt=\"alt text\" width=\"500\"/>\n",
    "\n",
    "Within the NSIDC dataset website, you'll find more information about the origin of the dataset, and\n",
    "how to use it.  You'll see multiple tabs, starting with \"Overview\" (basic metadata), \"Download\n",
    "Data\" (don't do it!  We're using Earth Engine!!!), \"Citing ...\", \"User Guide,\" etc.\n",
    "\n",
    "The User Guide describes the origin of these data, how they were processed, etc.  Give the User Guide\n",
    "pdf a look on the NSIDC website to decide which band to use going forward, as your best estimate\n",
    "of snow cover.\n"
   ]
  },
  {
   "cell_type": "markdown",
   "id": "f5aa09c9-bb00-4539-b201-77923e14b276",
   "metadata": {},
   "source": [
    "### Mean snow cover in Moscow\n",
    "Find the mean snow cover over all times at location just outside of Moscow.\n",
    "To avoid any impacts associated with the town itself (i.e., buildings, parking lots, plowing, etc.),\n",
    "choose a coordinate to `sample` that is just outside the developed regions of the town.  You might\n",
    "use Google Earth, or some other GIS software, to pick this coordinate."
   ]
  },
  {
   "cell_type": "code",
   "execution_count": 11,
   "id": "6b62e32c-6076-4a4c-acfc-258c2eabe2cb",
   "metadata": {},
   "outputs": [],
   "source": [
    "# Define the location of interest for Moscow.\n",
    "moscow_lon = -117.03# -117.00\n",
    "moscow_lat = 46.72#46.732\n",
    "#why are there two sets of coordinates?  Seems like the moscow_poi below would only take the most recently run coordinates\n",
    "moscow_lon = -116.98# -117.00\n",
    "moscow_lat = 46.75#46.732\n",
    "moscow_poi = ee.Geometry.Point(moscow_lon, moscow_lat)\n",
    "\n",
    "# Define the operative scale of the dataset.  This is important for defining how EE does its analyses.\n",
    "#    This should be the resolution of the data product.\n",
    "scale = 500  # scale in meters\n"
   ]
  },
  {
   "cell_type": "code",
   "execution_count": 12,
   "id": "41d98a29-be80-467d-ad35-92ab21618d01",
   "metadata": {},
   "outputs": [],
   "source": [
    "# Defining the location outside moscow.\n",
    "outmoscow_lon = -116.8463558\n",
    "outmoscow_lat = 46.7485430\n",
    "outmoscow_poi = ee.Geometry.Point(outmoscow_lon, outmoscow_lat)"
   ]
  },
  {
   "cell_type": "markdown",
   "id": "348118a7-a409-4b36-9188-b1bb1ac9f83d",
   "metadata": {
    "tags": []
   },
   "source": [
    "### Visualize the mean snow cover\n",
    "\n",
    "Calculate the mean snow cover of the entire dataset.  For the region around Moscow, plot this mean snow cover."
   ]
  },
  {
   "cell_type": "code",
   "execution_count": 29,
   "id": "29493596-dd95-4e7f-912d-7ef9e3d10424",
   "metadata": {},
   "outputs": [],
   "source": [
    "snow = snow.select('NDSI_Snow_Cover')"
   ]
  },
  {
   "cell_type": "code",
   "execution_count": 30,
   "id": "03423df4-13a0-41ff-a303-b4ff3b9c1187",
   "metadata": {
    "tags": []
   },
   "outputs": [
    {
     "data": {
      "text/plain": [
       "5.4297591743119265"
      ]
     },
     "execution_count": 30,
     "metadata": {},
     "output_type": "execute_result"
    }
   ],
   "source": [
    "mean_sc_moscow = snow.mean().sample(moscow_poi, scale).first().get('NDSI_Snow_Cover').getInfo()\n",
    "mean_sc_moscow\n",
    "#this calulcates using only the first image of the collection I believe [first.()], so does not answer the question.  I'm leaving it here to \n",
    "#remind myself to ask as question.  If the above code (which was basically copied from the tutorial) is using only one image, why\n",
    "#would a mean be relavent?  Isn't the poi located on just one pixel and so there is only one value?  \n",
    "#And if so why would we want to average 1 value?"
   ]
  },
  {
   "cell_type": "code",
   "execution_count": 43,
   "id": "48192889-ee02-452a-890b-1696eabe2f1c",
   "metadata": {},
   "outputs": [
    {
     "data": {
      "text/plain": [
       "6.827727405674174"
      ]
     },
     "execution_count": 43,
     "metadata": {},
     "output_type": "execute_result"
    }
   ],
   "source": [
    "mean_sc_outmoscow = snow.mean().sample(outmoscow_poi, scale).first().get('NDSI_Snow_Cover').getInfo()\n",
    "mean_sc_outmoscow"
   ]
  },
  {
   "cell_type": "code",
   "execution_count": 36,
   "id": "07a11ffd-53f5-4c2a-b3cf-5479cf886553",
   "metadata": {},
   "outputs": [],
   "source": [
    "snow_moscow = snow.mean().sample(moscow_poi, scale).get('NDSI_Snow_Cover').getInfo()\n",
    "snow_moscow"
   ]
  },
  {
   "cell_type": "markdown",
   "id": "ba0ecd2e-6878-402b-bf11-44fc09077b14",
   "metadata": {},
   "source": [
    "#### Set up a Folium map to explore the output data with"
   ]
  },
  {
   "cell_type": "code",
   "execution_count": 14,
   "id": "c01eb1b3-75fe-4044-8aab-aec0cc447caa",
   "metadata": {},
   "outputs": [
    {
     "data": {
      "text/html": [
       "<div style=\"width:100%;\"><div style=\"position:relative;width:100%;height:0;padding-bottom:60%;\"><span style=\"color:#565656\">Make this Notebook Trusted to load map: File -> Trust Notebook</span><iframe src=\"about:blank\" style=\"position:absolute;width:100%;height:100%;left:0;top:0;border:none !important;\" data-html=%3C%21DOCTYPE%20html%3E%0A%3Chead%3E%20%20%20%20%0A%20%20%20%20%3Cmeta%20http-equiv%3D%22content-type%22%20content%3D%22text/html%3B%20charset%3DUTF-8%22%20/%3E%0A%20%20%20%20%0A%20%20%20%20%20%20%20%20%3Cscript%3E%0A%20%20%20%20%20%20%20%20%20%20%20%20L_NO_TOUCH%20%3D%20false%3B%0A%20%20%20%20%20%20%20%20%20%20%20%20L_DISABLE_3D%20%3D%20false%3B%0A%20%20%20%20%20%20%20%20%3C/script%3E%0A%20%20%20%20%0A%20%20%20%20%3Cstyle%3Ehtml%2C%20body%20%7Bwidth%3A%20100%25%3Bheight%3A%20100%25%3Bmargin%3A%200%3Bpadding%3A%200%3B%7D%3C/style%3E%0A%20%20%20%20%3Cstyle%3E%23map%20%7Bposition%3Aabsolute%3Btop%3A0%3Bbottom%3A0%3Bright%3A0%3Bleft%3A0%3B%7D%3C/style%3E%0A%20%20%20%20%3Cscript%20src%3D%22https%3A//cdn.jsdelivr.net/npm/leaflet%401.6.0/dist/leaflet.js%22%3E%3C/script%3E%0A%20%20%20%20%3Cscript%20src%3D%22https%3A//code.jquery.com/jquery-1.12.4.min.js%22%3E%3C/script%3E%0A%20%20%20%20%3Cscript%20src%3D%22https%3A//maxcdn.bootstrapcdn.com/bootstrap/3.2.0/js/bootstrap.min.js%22%3E%3C/script%3E%0A%20%20%20%20%3Cscript%20src%3D%22https%3A//cdnjs.cloudflare.com/ajax/libs/Leaflet.awesome-markers/2.0.2/leaflet.awesome-markers.js%22%3E%3C/script%3E%0A%20%20%20%20%3Clink%20rel%3D%22stylesheet%22%20href%3D%22https%3A//cdn.jsdelivr.net/npm/leaflet%401.6.0/dist/leaflet.css%22/%3E%0A%20%20%20%20%3Clink%20rel%3D%22stylesheet%22%20href%3D%22https%3A//maxcdn.bootstrapcdn.com/bootstrap/3.2.0/css/bootstrap.min.css%22/%3E%0A%20%20%20%20%3Clink%20rel%3D%22stylesheet%22%20href%3D%22https%3A//maxcdn.bootstrapcdn.com/bootstrap/3.2.0/css/bootstrap-theme.min.css%22/%3E%0A%20%20%20%20%3Clink%20rel%3D%22stylesheet%22%20href%3D%22https%3A//maxcdn.bootstrapcdn.com/font-awesome/4.6.3/css/font-awesome.min.css%22/%3E%0A%20%20%20%20%3Clink%20rel%3D%22stylesheet%22%20href%3D%22https%3A//cdnjs.cloudflare.com/ajax/libs/Leaflet.awesome-markers/2.0.2/leaflet.awesome-markers.css%22/%3E%0A%20%20%20%20%3Clink%20rel%3D%22stylesheet%22%20href%3D%22https%3A//cdn.jsdelivr.net/gh/python-visualization/folium/folium/templates/leaflet.awesome.rotate.min.css%22/%3E%0A%20%20%20%20%0A%20%20%20%20%20%20%20%20%20%20%20%20%3Cmeta%20name%3D%22viewport%22%20content%3D%22width%3Ddevice-width%2C%0A%20%20%20%20%20%20%20%20%20%20%20%20%20%20%20%20initial-scale%3D1.0%2C%20maximum-scale%3D1.0%2C%20user-scalable%3Dno%22%20/%3E%0A%20%20%20%20%20%20%20%20%20%20%20%20%3Cstyle%3E%0A%20%20%20%20%20%20%20%20%20%20%20%20%20%20%20%20%23map_99f4f9f49b374879bc68cb2f82704644%20%7B%0A%20%20%20%20%20%20%20%20%20%20%20%20%20%20%20%20%20%20%20%20position%3A%20relative%3B%0A%20%20%20%20%20%20%20%20%20%20%20%20%20%20%20%20%20%20%20%20width%3A%20100.0%25%3B%0A%20%20%20%20%20%20%20%20%20%20%20%20%20%20%20%20%20%20%20%20height%3A%20100.0%25%3B%0A%20%20%20%20%20%20%20%20%20%20%20%20%20%20%20%20%20%20%20%20left%3A%200.0%25%3B%0A%20%20%20%20%20%20%20%20%20%20%20%20%20%20%20%20%20%20%20%20top%3A%200.0%25%3B%0A%20%20%20%20%20%20%20%20%20%20%20%20%20%20%20%20%7D%0A%20%20%20%20%20%20%20%20%20%20%20%20%3C/style%3E%0A%20%20%20%20%20%20%20%20%0A%3C/head%3E%0A%3Cbody%3E%20%20%20%20%0A%20%20%20%20%0A%20%20%20%20%20%20%20%20%20%20%20%20%3Cdiv%20class%3D%22folium-map%22%20id%3D%22map_99f4f9f49b374879bc68cb2f82704644%22%20%3E%3C/div%3E%0A%20%20%20%20%20%20%20%20%0A%3C/body%3E%0A%3Cscript%3E%20%20%20%20%0A%20%20%20%20%0A%20%20%20%20%20%20%20%20%20%20%20%20var%20map_99f4f9f49b374879bc68cb2f82704644%20%3D%20L.map%28%0A%20%20%20%20%20%20%20%20%20%20%20%20%20%20%20%20%22map_99f4f9f49b374879bc68cb2f82704644%22%2C%0A%20%20%20%20%20%20%20%20%20%20%20%20%20%20%20%20%7B%0A%20%20%20%20%20%20%20%20%20%20%20%20%20%20%20%20%20%20%20%20center%3A%20%5B46.8%2C%20-117.0%5D%2C%0A%20%20%20%20%20%20%20%20%20%20%20%20%20%20%20%20%20%20%20%20crs%3A%20L.CRS.EPSG3857%2C%0A%20%20%20%20%20%20%20%20%20%20%20%20%20%20%20%20%20%20%20%20zoom%3A%2010%2C%0A%20%20%20%20%20%20%20%20%20%20%20%20%20%20%20%20%20%20%20%20zoomControl%3A%20true%2C%0A%20%20%20%20%20%20%20%20%20%20%20%20%20%20%20%20%20%20%20%20preferCanvas%3A%20false%2C%0A%20%20%20%20%20%20%20%20%20%20%20%20%20%20%20%20%7D%0A%20%20%20%20%20%20%20%20%20%20%20%20%29%3B%0A%0A%20%20%20%20%20%20%20%20%20%20%20%20%0A%0A%20%20%20%20%20%20%20%20%0A%20%20%20%20%0A%20%20%20%20%20%20%20%20%20%20%20%20var%20tile_layer_d7a46d24036a4ad89e1dc58809282ce4%20%3D%20L.tileLayer%28%0A%20%20%20%20%20%20%20%20%20%20%20%20%20%20%20%20%22https%3A//%7Bs%7D.tile.openstreetmap.org/%7Bz%7D/%7Bx%7D/%7By%7D.png%22%2C%0A%20%20%20%20%20%20%20%20%20%20%20%20%20%20%20%20%7B%22attribution%22%3A%20%22Data%20by%20%5Cu0026copy%3B%20%5Cu003ca%20href%3D%5C%22http%3A//openstreetmap.org%5C%22%5Cu003eOpenStreetMap%5Cu003c/a%5Cu003e%2C%20under%20%5Cu003ca%20href%3D%5C%22http%3A//www.openstreetmap.org/copyright%5C%22%5Cu003eODbL%5Cu003c/a%5Cu003e.%22%2C%20%22detectRetina%22%3A%20false%2C%20%22maxNativeZoom%22%3A%2018%2C%20%22maxZoom%22%3A%2018%2C%20%22minZoom%22%3A%200%2C%20%22noWrap%22%3A%20false%2C%20%22opacity%22%3A%201%2C%20%22subdomains%22%3A%20%22abc%22%2C%20%22tms%22%3A%20false%7D%0A%20%20%20%20%20%20%20%20%20%20%20%20%29.addTo%28map_99f4f9f49b374879bc68cb2f82704644%29%3B%0A%20%20%20%20%20%20%20%20%0A%20%20%20%20%0A%20%20%20%20%20%20%20%20%20%20%20%20var%20tile_layer_1673cdb2fdcb493dbf4e41187d36cbf4%20%3D%20L.tileLayer%28%0A%20%20%20%20%20%20%20%20%20%20%20%20%20%20%20%20%22https%3A//earthengine.googleapis.com/v1alpha/projects/earthengine-legacy/maps/2cdb7172da4db3bb6acb239a27bdcd45-500a684614581db7202d698f32e0921c/tiles/%7Bz%7D/%7Bx%7D/%7By%7D%22%2C%0A%20%20%20%20%20%20%20%20%20%20%20%20%20%20%20%20%7B%22attribution%22%3A%20%22Map%20Data%20%5Cu0026copy%3B%20%5Cu003ca%20href%3D%5C%22https%3A//earthengine.google.com/%5C%22%5Cu003eGoogle%20Earth%20Engine%5Cu003c/a%5Cu003e%22%2C%20%22detectRetina%22%3A%20false%2C%20%22maxNativeZoom%22%3A%2018%2C%20%22maxZoom%22%3A%2018%2C%20%22minZoom%22%3A%200%2C%20%22noWrap%22%3A%20false%2C%20%22opacity%22%3A%201%2C%20%22subdomains%22%3A%20%22abc%22%2C%20%22tms%22%3A%20false%7D%0A%20%20%20%20%20%20%20%20%20%20%20%20%29.addTo%28map_99f4f9f49b374879bc68cb2f82704644%29%3B%0A%20%20%20%20%20%20%20%20%0A%20%20%20%20%0A%20%20%20%20%20%20%20%20%20%20%20%20var%20layer_control_bdeccabbaea2431bbcaaa2cf97b22692%20%3D%20%7B%0A%20%20%20%20%20%20%20%20%20%20%20%20%20%20%20%20base_layers%20%3A%20%7B%0A%20%20%20%20%20%20%20%20%20%20%20%20%20%20%20%20%20%20%20%20%22openstreetmap%22%20%3A%20tile_layer_d7a46d24036a4ad89e1dc58809282ce4%2C%0A%20%20%20%20%20%20%20%20%20%20%20%20%20%20%20%20%7D%2C%0A%20%20%20%20%20%20%20%20%20%20%20%20%20%20%20%20overlays%20%3A%20%20%7B%0A%20%20%20%20%20%20%20%20%20%20%20%20%20%20%20%20%20%20%20%20%22DEM%22%20%3A%20tile_layer_1673cdb2fdcb493dbf4e41187d36cbf4%2C%0A%20%20%20%20%20%20%20%20%20%20%20%20%20%20%20%20%7D%2C%0A%20%20%20%20%20%20%20%20%20%20%20%20%7D%3B%0A%20%20%20%20%20%20%20%20%20%20%20%20L.control.layers%28%0A%20%20%20%20%20%20%20%20%20%20%20%20%20%20%20%20layer_control_bdeccabbaea2431bbcaaa2cf97b22692.base_layers%2C%0A%20%20%20%20%20%20%20%20%20%20%20%20%20%20%20%20layer_control_bdeccabbaea2431bbcaaa2cf97b22692.overlays%2C%0A%20%20%20%20%20%20%20%20%20%20%20%20%20%20%20%20%7B%22autoZIndex%22%3A%20true%2C%20%22collapsed%22%3A%20false%2C%20%22position%22%3A%20%22topright%22%7D%0A%20%20%20%20%20%20%20%20%20%20%20%20%29.addTo%28map_99f4f9f49b374879bc68cb2f82704644%29%3B%0A%20%20%20%20%20%20%20%20%0A%3C/script%3E onload=\"this.contentDocument.open();this.contentDocument.write(    decodeURIComponent(this.getAttribute('data-html')));this.contentDocument.close();\" allowfullscreen webkitallowfullscreen mozallowfullscreen></iframe></div></div>"
      ],
      "text/plain": [
       "<folium.folium.Map at 0x25939d87310>"
      ]
     },
     "metadata": {},
     "output_type": "display_data"
    }
   ],
   "source": [
    "elev = ee.Image('USGS/SRTMGL1_003') # Read in the STRM dataset as an EE Image\n",
    "\n",
    "# Define a method for displaying Earth Engine image tiles to folium map.\n",
    "def add_ee_layer(self, ee_image_object, vis_params, name):\n",
    "  map_id_dict = ee.Image(ee_image_object).getMapId(vis_params)\n",
    "  folium.raster_layers.TileLayer(\n",
    "    tiles = map_id_dict['tile_fetcher'].url_format,\n",
    "    attr = 'Map Data &copy; <a href=\"https://earthengine.google.com/\">Google Earth Engine</a>',\n",
    "    name = name,\n",
    "    overlay = True,\n",
    "    control = True\n",
    "  ).add_to(self)\n",
    "\n",
    "# Add EE drawing method to folium.\n",
    "folium.Map.add_ee_layer = add_ee_layer\n",
    "\n",
    "# Create a folium map object.\n",
    "my_map = folium.Map(location=[46.8, -117], zoom_start=10)\n",
    "\n",
    "# Set visualization parameters for the elevation dataset\n",
    "elev_params = {\n",
    "  'min': 0,\n",
    "  'max': 4000,\n",
    "  'palette': ['006633', 'E5FFCC', '662A00', 'D8D8D8', 'F5F5F5']}\n",
    "# Add the elevation model to the map object.\n",
    "my_map.add_ee_layer(elev, elev_params, 'DEM')\n",
    "\n",
    "\n",
    "# Add a layer control panel to the map.\n",
    "# my_map.add_child(folium.LayerControl())\n",
    "folium.LayerControl(collapsed = False).add_to(my_map)\n",
    "\n",
    "\n",
    "# Display the map.\n",
    "display(my_map)"
   ]
  },
  {
   "cell_type": "markdown",
   "id": "0c79fea0-9989-45e2-aa1e-0cadca2f2b7e",
   "metadata": {},
   "source": [
    "### Interpretting the snow cover\n",
    "Add a layer to the Folium map above that includes the mean of all the snow cover measurements.\n",
    "Note in the map above there there are only a few lines used to define the `elev_params` and then one \n",
    "line that uses `add_ee_layer` to add the `elev` dataset to the map.  You can reproduce (and modify)\n",
    "these lines to show your map of mean snow cover.\n",
    "\n",
    "Write a few sentences to interpret the spatial patterns in mean snow cover in the several 10s of km\n",
    "basin surrounding Moscow."
   ]
  },
  {
   "cell_type": "code",
   "execution_count": null,
   "id": "e97f152a-d1bd-4e6c-95bd-bb1c2dfd3993",
   "metadata": {},
   "outputs": [],
   "source": []
  },
  {
   "cell_type": "markdown",
   "id": "d38f49d6-970e-44e3-af0c-fe53c84c1581",
   "metadata": {},
   "source": [
    "## Examining time series of snow cover around Moscow\n",
    "Your goal now is to produce a time series of snow cover (from MODIS NDSI) near Moscow (but again, just outside Moscow, to\n",
    "avoide city effects)."
   ]
  },
  {
   "cell_type": "markdown",
   "id": "b7795616-6c78-474e-ae2f-a86dba21d370",
   "metadata": {},
   "source": [
    "Again, following the example from the [Python API tutorial](https://developers.google.com/earth-engine/tutorials/community/intro-to-python-api-guiattard).\n",
    "Produce an array (technically a list of lists in this case) with all of the snow cover measurements of your Moscow\n",
    "coordinates."
   ]
  },
  {
   "cell_type": "code",
   "execution_count": 52,
   "id": "3b7e81a8-3449-40c3-a332-8b77d060573f",
   "metadata": {},
   "outputs": [],
   "source": [
    "moscow_poi_ts = snow.getRegion(moscow_poi, scale).getInfo()"
   ]
  },
  {
   "cell_type": "code",
   "execution_count": 53,
   "id": "3f56661c-ce70-41a2-80ac-343b7b1ce8fd",
   "metadata": {},
   "outputs": [],
   "source": [
    "outmoscow_poi_ts = snow.getRegion(outmoscow_poi, scale).getInfo()"
   ]
  },
  {
   "cell_type": "code",
   "execution_count": null,
   "id": "0cf1974e-2c44-4f9d-aaf4-6e989857719e",
   "metadata": {},
   "outputs": [],
   "source": []
  },
  {
   "cell_type": "code",
   "execution_count": 50,
   "id": "e70b16e9-68e3-40b6-9723-5ac957823387",
   "metadata": {},
   "outputs": [],
   "source": [
    "import pandas as pd\n",
    "\n",
    "\n",
    "# Function to transform the EE array (list of lists) into a pandas dataframe\n",
    "def ee_array_to_df(arr, list_of_bands):\n",
    "    \"\"\"Transforms client-side ee.Image.getRegion array to pandas.DataFrame.\"\"\"\n",
    "    df = pd.DataFrame(arr)\n",
    "\n",
    "    # Rearrange the header.\n",
    "    headers = df.iloc[0]\n",
    "    df = pd.DataFrame(df.values[1:], columns=headers)\n",
    "\n",
    "    # Remove rows without data inside.\n",
    "    df = df[['longitude', 'latitude', 'time', *list_of_bands]].dropna()\n",
    "\n",
    "    # Convert the data to numeric values.\n",
    "    for band in list_of_bands:\n",
    "        df[band] = pd.to_numeric(df[band], errors='coerce')\n",
    "\n",
    "    # Convert the time field into a datetime.\n",
    "    df['datetime'] = pd.to_datetime(df['time'], unit='ms')\n",
    "\n",
    "    # Keep the columns of interest.\n",
    "    df = df[['time','datetime',  *list_of_bands]]\n",
    "\n",
    "    return df"
   ]
  },
  {
   "cell_type": "code",
   "execution_count": 56,
   "id": "19a9975c-3955-4197-9e3c-6dfd2acacecc",
   "metadata": {},
   "outputs": [],
   "source": [
    "moscow_df = ee_array_to_df(moscow_poi_ts,['NDSI_Snow_Cover'])\n",
    "outmoscow_df = ee_array_to_df(outmoscow_poi_ts,['NDSI_Snow_Cover'])"
   ]
  },
  {
   "cell_type": "markdown",
   "id": "1b651038-7db8-44b0-b243-0045beea0780",
   "metadata": {},
   "source": [
    "Use the function above to create a DataFrame that includes snow cover as a function of time.  Show\n",
    "that DataFrame below."
   ]
  },
  {
   "cell_type": "code",
   "execution_count": 55,
   "id": "7c62bd61-bc49-4f3d-b337-32209b31ca31",
   "metadata": {},
   "outputs": [
    {
     "data": {
      "text/html": [
       "<div>\n",
       "<style scoped>\n",
       "    .dataframe tbody tr th:only-of-type {\n",
       "        vertical-align: middle;\n",
       "    }\n",
       "\n",
       "    .dataframe tbody tr th {\n",
       "        vertical-align: top;\n",
       "    }\n",
       "\n",
       "    .dataframe thead th {\n",
       "        text-align: right;\n",
       "    }\n",
       "</style>\n",
       "<table border=\"1\" class=\"dataframe\">\n",
       "  <thead>\n",
       "    <tr style=\"text-align: right;\">\n",
       "      <th></th>\n",
       "      <th>time</th>\n",
       "      <th>datetime</th>\n",
       "      <th>NDSI_Snow_Cover</th>\n",
       "    </tr>\n",
       "  </thead>\n",
       "  <tbody>\n",
       "    <tr>\n",
       "      <th>1</th>\n",
       "      <td>951436800000</td>\n",
       "      <td>2000-02-25</td>\n",
       "      <td>0</td>\n",
       "    </tr>\n",
       "    <tr>\n",
       "      <th>15</th>\n",
       "      <td>952646400000</td>\n",
       "      <td>2000-03-10</td>\n",
       "      <td>0</td>\n",
       "    </tr>\n",
       "    <tr>\n",
       "      <th>31</th>\n",
       "      <td>954028800000</td>\n",
       "      <td>2000-03-26</td>\n",
       "      <td>0</td>\n",
       "    </tr>\n",
       "    <tr>\n",
       "      <th>32</th>\n",
       "      <td>954115200000</td>\n",
       "      <td>2000-03-27</td>\n",
       "      <td>0</td>\n",
       "    </tr>\n",
       "    <tr>\n",
       "      <th>35</th>\n",
       "      <td>954374400000</td>\n",
       "      <td>2000-03-30</td>\n",
       "      <td>0</td>\n",
       "    </tr>\n",
       "    <tr>\n",
       "      <th>...</th>\n",
       "      <td>...</td>\n",
       "      <td>...</td>\n",
       "      <td>...</td>\n",
       "    </tr>\n",
       "    <tr>\n",
       "      <th>7843</th>\n",
       "      <td>1633910400000</td>\n",
       "      <td>2021-10-11</td>\n",
       "      <td>0</td>\n",
       "    </tr>\n",
       "    <tr>\n",
       "      <th>7844</th>\n",
       "      <td>1633996800000</td>\n",
       "      <td>2021-10-12</td>\n",
       "      <td>0</td>\n",
       "    </tr>\n",
       "    <tr>\n",
       "      <th>7848</th>\n",
       "      <td>1634342400000</td>\n",
       "      <td>2021-10-16</td>\n",
       "      <td>0</td>\n",
       "    </tr>\n",
       "    <tr>\n",
       "      <th>7851</th>\n",
       "      <td>1634601600000</td>\n",
       "      <td>2021-10-19</td>\n",
       "      <td>0</td>\n",
       "    </tr>\n",
       "    <tr>\n",
       "      <th>7853</th>\n",
       "      <td>1634774400000</td>\n",
       "      <td>2021-10-21</td>\n",
       "      <td>0</td>\n",
       "    </tr>\n",
       "  </tbody>\n",
       "</table>\n",
       "<p>3488 rows × 3 columns</p>\n",
       "</div>"
      ],
      "text/plain": [
       "0              time   datetime  NDSI_Snow_Cover\n",
       "1      951436800000 2000-02-25                0\n",
       "15     952646400000 2000-03-10                0\n",
       "31     954028800000 2000-03-26                0\n",
       "32     954115200000 2000-03-27                0\n",
       "35     954374400000 2000-03-30                0\n",
       "...             ...        ...              ...\n",
       "7843  1633910400000 2021-10-11                0\n",
       "7844  1633996800000 2021-10-12                0\n",
       "7848  1634342400000 2021-10-16                0\n",
       "7851  1634601600000 2021-10-19                0\n",
       "7853  1634774400000 2021-10-21                0\n",
       "\n",
       "[3488 rows x 3 columns]"
      ]
     },
     "execution_count": 55,
     "metadata": {},
     "output_type": "execute_result"
    }
   ],
   "source": [
    "moscow_df"
   ]
  },
  {
   "cell_type": "code",
   "execution_count": 57,
   "id": "c866c92f-080b-4b8a-9fb4-92b472ab963f",
   "metadata": {},
   "outputs": [
    {
     "data": {
      "text/html": [
       "<div>\n",
       "<style scoped>\n",
       "    .dataframe tbody tr th:only-of-type {\n",
       "        vertical-align: middle;\n",
       "    }\n",
       "\n",
       "    .dataframe tbody tr th {\n",
       "        vertical-align: top;\n",
       "    }\n",
       "\n",
       "    .dataframe thead th {\n",
       "        text-align: right;\n",
       "    }\n",
       "</style>\n",
       "<table border=\"1\" class=\"dataframe\">\n",
       "  <thead>\n",
       "    <tr style=\"text-align: right;\">\n",
       "      <th></th>\n",
       "      <th>time</th>\n",
       "      <th>datetime</th>\n",
       "      <th>NDSI_Snow_Cover</th>\n",
       "    </tr>\n",
       "  </thead>\n",
       "  <tbody>\n",
       "    <tr>\n",
       "      <th>1</th>\n",
       "      <td>951436800000</td>\n",
       "      <td>2000-02-25</td>\n",
       "      <td>61</td>\n",
       "    </tr>\n",
       "    <tr>\n",
       "      <th>18</th>\n",
       "      <td>952905600000</td>\n",
       "      <td>2000-03-13</td>\n",
       "      <td>0</td>\n",
       "    </tr>\n",
       "    <tr>\n",
       "      <th>31</th>\n",
       "      <td>954028800000</td>\n",
       "      <td>2000-03-26</td>\n",
       "      <td>0</td>\n",
       "    </tr>\n",
       "    <tr>\n",
       "      <th>35</th>\n",
       "      <td>954374400000</td>\n",
       "      <td>2000-03-30</td>\n",
       "      <td>0</td>\n",
       "    </tr>\n",
       "    <tr>\n",
       "      <th>36</th>\n",
       "      <td>954460800000</td>\n",
       "      <td>2000-03-31</td>\n",
       "      <td>0</td>\n",
       "    </tr>\n",
       "    <tr>\n",
       "      <th>...</th>\n",
       "      <td>...</td>\n",
       "      <td>...</td>\n",
       "      <td>...</td>\n",
       "    </tr>\n",
       "    <tr>\n",
       "      <th>7844</th>\n",
       "      <td>1633996800000</td>\n",
       "      <td>2021-10-12</td>\n",
       "      <td>0</td>\n",
       "    </tr>\n",
       "    <tr>\n",
       "      <th>7848</th>\n",
       "      <td>1634342400000</td>\n",
       "      <td>2021-10-16</td>\n",
       "      <td>0</td>\n",
       "    </tr>\n",
       "    <tr>\n",
       "      <th>7850</th>\n",
       "      <td>1634515200000</td>\n",
       "      <td>2021-10-18</td>\n",
       "      <td>0</td>\n",
       "    </tr>\n",
       "    <tr>\n",
       "      <th>7851</th>\n",
       "      <td>1634601600000</td>\n",
       "      <td>2021-10-19</td>\n",
       "      <td>0</td>\n",
       "    </tr>\n",
       "    <tr>\n",
       "      <th>7853</th>\n",
       "      <td>1634774400000</td>\n",
       "      <td>2021-10-21</td>\n",
       "      <td>0</td>\n",
       "    </tr>\n",
       "  </tbody>\n",
       "</table>\n",
       "<p>3419 rows × 3 columns</p>\n",
       "</div>"
      ],
      "text/plain": [
       "0              time   datetime  NDSI_Snow_Cover\n",
       "1      951436800000 2000-02-25               61\n",
       "18     952905600000 2000-03-13                0\n",
       "31     954028800000 2000-03-26                0\n",
       "35     954374400000 2000-03-30                0\n",
       "36     954460800000 2000-03-31                0\n",
       "...             ...        ...              ...\n",
       "7844  1633996800000 2021-10-12                0\n",
       "7848  1634342400000 2021-10-16                0\n",
       "7850  1634515200000 2021-10-18                0\n",
       "7851  1634601600000 2021-10-19                0\n",
       "7853  1634774400000 2021-10-21                0\n",
       "\n",
       "[3419 rows x 3 columns]"
      ]
     },
     "execution_count": 57,
     "metadata": {},
     "output_type": "execute_result"
    }
   ],
   "source": [
    "outmoscow_df"
   ]
  },
  {
   "cell_type": "markdown",
   "id": "1dc06c59-65ee-4b38-bd72-0972c4473fc8",
   "metadata": {},
   "source": [
    "Create a plot of the snow cover as a function of time, for the full time series, up to the present."
   ]
  },
  {
   "cell_type": "code",
   "execution_count": null,
   "id": "c9d8019f-542a-485f-a147-1d0dc4837466",
   "metadata": {},
   "outputs": [],
   "source": []
  },
  {
   "cell_type": "markdown",
   "id": "6fce544f-8bbf-47c7-b2c9-e733b47ffe05",
   "metadata": {},
   "source": [
    "### Commonality of early snowfalls\n",
    "\n",
    "Last year, in 2020, a heavy snow fell on October 23-24, while there were still many leaves on\n",
    "the trees.  This caused power outages and brought down many many tree limbs across Moscow (see\n",
    "evidence of this below, with a truck ready to head for one of Many trips to the city's yard\n",
    "waste dump that day).\n",
    "\n",
    "<img src=\"early_snow.jpg\" alt=\"alt text\" width=\"500\"/>\n",
    "\n",
    "How typical are these early season snow storms in Moscow?  Has there been October snow\n",
    "accumulation in any of the prior 5 or so years?"
   ]
  },
  {
   "cell_type": "code",
   "execution_count": null,
   "id": "49b3f59d-04f6-4743-a9ad-3ffc8df3b143",
   "metadata": {},
   "outputs": [],
   "source": []
  },
  {
   "cell_type": "code",
   "execution_count": null,
   "id": "4517eb0d-2323-4451-b660-2c4cb4fd7c06",
   "metadata": {},
   "outputs": [],
   "source": []
  },
  {
   "cell_type": "markdown",
   "id": "1d234d67-7e2c-4296-8d8c-93c49c3469a7",
   "metadata": {},
   "source": [
    "### Optional: Seasonal cycle of snow cover in Moscow\n",
    "Make a plot of a typical year, and plot each year's snow cover record on this single, 12 month axis.\n",
    "I'm thinking of something along the lines of the National Snow and Ice Data Center's\n",
    "[Charctic Interactive Sea Ice Graph](https://nsidc.org/arcticseaicenews/charctic-interactive-sea-ice-graph/), \n",
    "in which an entire time series is plotted on one year, to facilitate comparison and identify typical\n",
    "patterns.\n",
    "\n",
    "Tweak the graph you make of the annual snow cover so that it shows the average snow cover\n",
    "as a function of day.  \n",
    "\n"
   ]
  },
  {
   "cell_type": "code",
   "execution_count": null,
   "id": "73168f6e-41ed-464e-bd75-56077e45f6d3",
   "metadata": {},
   "outputs": [],
   "source": []
  },
  {
   "cell_type": "code",
   "execution_count": null,
   "id": "eacbd931-6fc5-4d6c-a2b6-a5d18b4c8ada",
   "metadata": {},
   "outputs": [],
   "source": []
  },
  {
   "cell_type": "code",
   "execution_count": null,
   "id": "0be91b55-e001-44d0-9257-3ff7fe4816e6",
   "metadata": {},
   "outputs": [],
   "source": []
  }
 ],
 "metadata": {
  "kernelspec": {
   "display_name": "Python [conda env:GISenv21b] *",
   "language": "python",
   "name": "conda-env-GISenv21b-py"
  },
  "language_info": {
   "codemirror_mode": {
    "name": "ipython",
    "version": 3
   },
   "file_extension": ".py",
   "mimetype": "text/x-python",
   "name": "python",
   "nbconvert_exporter": "python",
   "pygments_lexer": "ipython3",
   "version": "3.9.6"
  }
 },
 "nbformat": 4,
 "nbformat_minor": 5
}

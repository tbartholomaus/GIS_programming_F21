{
 "cells": [
  {
   "cell_type": "markdown",
   "id": "b16f962e-4fa0-4b0a-b3a2-d6964f9c01db",
   "metadata": {},
   "source": [
    "# Assignment 09\n",
    "\n",
    "Learning goal: develop confidence working with Google Earth Engine and build comfort working with new datasets.\n",
    "\n",
    "The tools needed to complete this assignment are largely found within the Intro Python Tutorial that you have gone through.\n",
    "If you haven't already, please pause, and run through this tutorial, copying each cell block of text from the tutorial\n",
    "into a new notebook.  Here is the web address to the tutorial: https://developers.google.com/earth-engine/tutorials/community/intro-to-python-api-guiattard\n",
    "\n",
    "Skim this website to learn the fundamental building blocks (i.e., objects and methods) of EE: \n",
    "https://developers.google.com/earth-engine/guides/objects_methods_overview\n",
    "\n",
    "With the above knowledge, I hope that you will be able to use the [tutorial](https://developers.google.com/earth-engine/tutorials/community/intro-to-python-api-guiattard) \n",
    "as something of a guide, and copy, paste, and modify the steps used in the tutorial to meet the specific goals\n",
    "of this assignment.\n",
    "\n",
    "As always, post your questions on slack!\n"
   ]
  },
  {
   "cell_type": "code",
   "execution_count": 1,
   "id": "5bcda90f-8b78-4240-b804-c84c7176874e",
   "metadata": {},
   "outputs": [],
   "source": [
    "import ee\n",
    "from IPython.display import Image\n",
    "import pandas as pd\n",
    "\n",
    "import folium # For super-cool interactive maps\n"
   ]
  },
  {
   "cell_type": "code",
   "execution_count": 2,
   "id": "f3df0d4c-94a4-4e75-80bb-01930f59d878",
   "metadata": {},
   "outputs": [],
   "source": [
    "ee.Initialize() # necessary to let Google know who you are, and that you'll be using GEE tools.\n"
   ]
  },
  {
   "cell_type": "code",
   "execution_count": null,
   "id": "f7189e31-5911-427a-9979-d10af808d07a",
   "metadata": {},
   "outputs": [],
   "source": []
  },
  {
   "cell_type": "markdown",
   "id": "aee4e3e5-f86d-468d-aea6-7024dcb9e8e7",
   "metadata": {},
   "source": [
    "## Exploring snow cover in and around Moscow\n",
    "There is a daily estimate of snow cover from the MODIS Terra satellite,\n",
    "using a band ratio metric akin to the NDVI we've used previously.  This metric\n",
    "is known as the Normalized Difference Snow Index (NDSI).  We'll use this NASA\n",
    "data product, available through Google Earth Engine.\n",
    "\n",
    "Find the MOD10A1.006 Terra Snow Cover Daily Global 500m within the Earth Engine Data Catalog:\n",
    "https://developers.google.com/earth-engine/datasets\n",
    "\n",
    "Review the Bands that are reported for this dataset.  On the Bands page, each Band of the\n",
    "dataset is named with bold font, and then, to the right of the name, is a range of various\n",
    "different kinds of information defining what is included in each band.\n",
    "\n"
   ]
  },
  {
   "cell_type": "code",
   "execution_count": 3,
   "id": "65d32ea5-d8ff-4d8d-a645-39f6539b048e",
   "metadata": {},
   "outputs": [],
   "source": [
    "# Create an ee.ImageCollection variable named \"snow\"\n",
    "#   complete the following line of code\n",
    "snow = ee.ImageCollection(\"MODIS/006/MOD10A1\") #MOD10A1.006 Terra Snow Cover Daily Global 500m"
   ]
  },
  {
   "cell_type": "code",
   "execution_count": null,
   "id": "1bce4974-1821-493b-82a7-019a0fa2ed51",
   "metadata": {},
   "outputs": [],
   "source": []
  },
  {
   "cell_type": "code",
   "execution_count": 4,
   "id": "298330b8-c269-4b71-bbdc-3922ff18c11c",
   "metadata": {},
   "outputs": [
    {
     "data": {
      "text/plain": [
       "7859"
      ]
     },
     "execution_count": 4,
     "metadata": {},
     "output_type": "execute_result"
    }
   ],
   "source": [
    "# Find how many images are in the ImageCollection\n",
    "snow.size().getInfo() #images"
   ]
  },
  {
   "cell_type": "code",
   "execution_count": null,
   "id": "5ecc8ceb-f925-44cd-bae3-b847e7f7c59f",
   "metadata": {},
   "outputs": [],
   "source": []
  },
  {
   "cell_type": "code",
   "execution_count": 5,
   "id": "ddb7758f-6e2d-4bf7-9b14-84cecc2a9c2b",
   "metadata": {
    "tags": []
   },
   "outputs": [
    {
     "data": {
      "text/plain": [
       "{'type': 'Image',\n",
       " 'bands': [{'id': 'NDSI_Snow_Cover',\n",
       "   'data_type': {'type': 'PixelType',\n",
       "    'precision': 'int',\n",
       "    'min': 0,\n",
       "    'max': 255},\n",
       "   'dimensions': [86400, 43200],\n",
       "   'crs': 'SR-ORG:6974',\n",
       "   'crs_transform': [463.312716528,\n",
       "    0,\n",
       "    -20015109.354,\n",
       "    0,\n",
       "    -463.312716527,\n",
       "    10007554.677]},\n",
       "  {'id': 'NDSI_Snow_Cover_Basic_QA',\n",
       "   'data_type': {'type': 'PixelType',\n",
       "    'precision': 'int',\n",
       "    'min': 0,\n",
       "    'max': 255},\n",
       "   'dimensions': [86400, 43200],\n",
       "   'crs': 'SR-ORG:6974',\n",
       "   'crs_transform': [463.312716528,\n",
       "    0,\n",
       "    -20015109.354,\n",
       "    0,\n",
       "    -463.312716527,\n",
       "    10007554.677]},\n",
       "  {'id': 'NDSI_Snow_Cover_Algorithm_Flags_QA',\n",
       "   'data_type': {'type': 'PixelType',\n",
       "    'precision': 'int',\n",
       "    'min': 0,\n",
       "    'max': 255},\n",
       "   'dimensions': [86400, 43200],\n",
       "   'crs': 'SR-ORG:6974',\n",
       "   'crs_transform': [463.312716528,\n",
       "    0,\n",
       "    -20015109.354,\n",
       "    0,\n",
       "    -463.312716527,\n",
       "    10007554.677]},\n",
       "  {'id': 'NDSI',\n",
       "   'data_type': {'type': 'PixelType',\n",
       "    'precision': 'int',\n",
       "    'min': -32768,\n",
       "    'max': 32767},\n",
       "   'dimensions': [86400, 43200],\n",
       "   'crs': 'SR-ORG:6974',\n",
       "   'crs_transform': [463.312716528,\n",
       "    0,\n",
       "    -20015109.354,\n",
       "    0,\n",
       "    -463.312716527,\n",
       "    10007554.677]},\n",
       "  {'id': 'Snow_Albedo_Daily_Tile',\n",
       "   'data_type': {'type': 'PixelType',\n",
       "    'precision': 'int',\n",
       "    'min': 0,\n",
       "    'max': 255},\n",
       "   'dimensions': [86400, 43200],\n",
       "   'crs': 'SR-ORG:6974',\n",
       "   'crs_transform': [463.312716528,\n",
       "    0,\n",
       "    -20015109.354,\n",
       "    0,\n",
       "    -463.312716527,\n",
       "    10007554.677]},\n",
       "  {'id': 'orbit_pnt',\n",
       "   'data_type': {'type': 'PixelType',\n",
       "    'precision': 'int',\n",
       "    'min': 0,\n",
       "    'max': 255},\n",
       "   'dimensions': [86400, 43200],\n",
       "   'crs': 'SR-ORG:6974',\n",
       "   'crs_transform': [463.312716528,\n",
       "    0,\n",
       "    -20015109.354,\n",
       "    0,\n",
       "    -463.312716527,\n",
       "    10007554.677]},\n",
       "  {'id': 'granule_pnt',\n",
       "   'data_type': {'type': 'PixelType',\n",
       "    'precision': 'int',\n",
       "    'min': 0,\n",
       "    'max': 255},\n",
       "   'dimensions': [86400, 43200],\n",
       "   'crs': 'SR-ORG:6974',\n",
       "   'crs_transform': [463.312716528,\n",
       "    0,\n",
       "    -20015109.354,\n",
       "    0,\n",
       "    -463.312716527,\n",
       "    10007554.677]},\n",
       "  {'id': 'NDSI_Snow_Cover_Class',\n",
       "   'data_type': {'type': 'PixelType',\n",
       "    'precision': 'int',\n",
       "    'min': 0,\n",
       "    'max': 255},\n",
       "   'dimensions': [86400, 43200],\n",
       "   'crs': 'SR-ORG:6974',\n",
       "   'crs_transform': [463.312716528,\n",
       "    0,\n",
       "    -20015109.354,\n",
       "    0,\n",
       "    -463.312716527,\n",
       "    10007554.677]},\n",
       "  {'id': 'Snow_Albedo_Daily_Tile_Class',\n",
       "   'data_type': {'type': 'PixelType',\n",
       "    'precision': 'int',\n",
       "    'min': 0,\n",
       "    'max': 255},\n",
       "   'dimensions': [86400, 43200],\n",
       "   'crs': 'SR-ORG:6974',\n",
       "   'crs_transform': [463.312716528,\n",
       "    0,\n",
       "    -20015109.354,\n",
       "    0,\n",
       "    -463.312716527,\n",
       "    10007554.677]}],\n",
       " 'version': 1541936909829165,\n",
       " 'id': 'MODIS/006/MOD10A1/2000_02_24',\n",
       " 'properties': {'system:time_start': 951350400000,\n",
       "  'system:footprint': {'type': 'LinearRing',\n",
       "   'coordinates': [[-180, -90],\n",
       "    [180, -90],\n",
       "    [180, 90],\n",
       "    [-180, 90],\n",
       "    [-180, -90]]},\n",
       "  'system:time_end': 951436800000,\n",
       "  'system:asset_size': 396169135,\n",
       "  'system:index': '2000_02_24'}}"
      ]
     },
     "execution_count": 5,
     "metadata": {},
     "output_type": "execute_result"
    }
   ],
   "source": [
    "# Use getInfo() to report the contents of the first Image of the 'snow' ImageCollection\n",
    "snow_cover = snow.first().getInfo()\n",
    "snow_cover"
   ]
  },
  {
   "cell_type": "markdown",
   "id": "77d9d6ff-5d83-4b9f-b4ee-5930a4c6bece",
   "metadata": {},
   "source": [
    "Recognize above that, after `type` (`Image`), the different bands are all identified according to their\n",
    "`id` (name) and other information about the contents of the band.\n",
    "\n",
    "We want a simple, straightforward way to assess the percentage of a pixel (500 m x 500 m) that\n",
    "is snow covered.  So we need to find which band contains this information.  The Google Earth Engine\n",
    "Data Catalog suggests which band this might be, but it can be a little opaque.  To clarify the contents\n",
    "of the bands, go to the\n",
    "National Snow and Ice Data Center (NSIDC- which is a NASA data repository) and is the actual home/source\n",
    "of this data product.  Earth Engine serves it, but the product is really from NASA and is distributed\n",
    "by the NSIDC.  There are two ways this can be accessed from Earth Engine.  I've circled and\n",
    "drawn an arrow next to these options.\n",
    "\n",
    "<!-- ![title](find_documentation.png) -->\n",
    "<img src=\"find_documentation.png\" alt=\"alt text\" width=\"500\"/>\n",
    "\n",
    "Within the NSIDC dataset website, you'll find more information about the origin of the dataset, and\n",
    "how to use it.  You'll see multiple tabs, starting with \"Overview\" (basic metadata), \"Download\n",
    "Data\" (don't do it!  We're using Earth Engine!!!), \"Citing ...\", \"User Guide,\" etc.\n",
    "\n",
    "The User Guide describes the origin of these data, how they were processed, etc.  Give the User Guide\n",
    "pdf a look on the NSIDC website to decide which band to use going forward, as your best estimate\n",
    "of snow cover.\n"
   ]
  },
  {
   "cell_type": "code",
   "execution_count": 6,
   "id": "fd30f49e-6871-4915-afa0-249e2c4fb18a",
   "metadata": {},
   "outputs": [],
   "source": [
    "## NDSI_Snow_Cover band"
   ]
  },
  {
   "cell_type": "markdown",
   "id": "f5aa09c9-bb00-4539-b201-77923e14b276",
   "metadata": {},
   "source": [
    "### Mean snow cover in Moscow\n",
    "Find the mean snow cover over all times at location just outside of Moscow.\n",
    "To avoid any impacts associated with the town itself (i.e., buildings, parking lots, plowing, etc.),\n",
    "choose a coordinate to `sample` that is just outside the developed regions of the town.  You might\n",
    "use Google Earth, or some other GIS software, to pick this coordinate."
   ]
  },
  {
   "cell_type": "code",
   "execution_count": 7,
   "id": "eafcafd5-0ddc-4da8-bfd8-9f43b5d01c7e",
   "metadata": {},
   "outputs": [],
   "source": [
    "#Filter collection on the period of time we want \n",
    "#Selecting snow cover over all times\n",
    "i_date = '2000-02-24' #inital date\n",
    "f_date = '2021-10-26' #final date\n",
    "\n",
    "snow = snow.select('NDSI_Snow_Cover').filterDate(i_date, f_date)"
   ]
  },
  {
   "cell_type": "code",
   "execution_count": 8,
   "id": "55762fb2-1df9-4e83-8ac1-7dd4dc2710a2",
   "metadata": {},
   "outputs": [],
   "source": [
    "#Define the location of interest\n",
    "#Across the road from the cemetary\n",
    "m_poi_lon = -116.9767 \n",
    "m_poi_lat = 46.71767\n",
    "m_poi = ee.Geometry.Point(m_poi_lon, m_poi_lat)\n",
    "\n",
    "scale = 500 #meters"
   ]
  },
  {
   "cell_type": "code",
   "execution_count": 9,
   "id": "f5fdb698-4f6f-4634-8171-1fcd4f25af32",
   "metadata": {},
   "outputs": [
    {
     "name": "stdout",
     "output_type": "stream",
     "text": [
      "Average snow cover value for Moscow point of interest: 4\n"
     ]
    }
   ],
   "source": [
    "#Calculate and print the mean value of the snow cover for the sample location\n",
    "sample_snow_cover_mean = snow.mean().sample(m_poi, scale).first().get('NDSI_Snow_Cover').getInfo()\n",
    "print('Average snow cover value for Moscow point of interest:', round(sample_snow_cover_mean))"
   ]
  },
  {
   "cell_type": "code",
   "execution_count": null,
   "id": "f60a77e6-44b5-4c49-ba44-30dd325b6ccf",
   "metadata": {},
   "outputs": [],
   "source": []
  },
  {
   "cell_type": "code",
   "execution_count": null,
   "id": "19cab6db-afa2-4f2e-a25e-5d756be8c010",
   "metadata": {},
   "outputs": [],
   "source": []
  },
  {
   "cell_type": "code",
   "execution_count": 10,
   "id": "6b62e32c-6076-4a4c-acfc-258c2eabe2cb",
   "metadata": {},
   "outputs": [],
   "source": [
    "# Define the location of interest for Moscow.\n",
    "moscow_lon = -117.03 # -117.00\n",
    "moscow_lat = 46.72 #46.732\n",
    "moscow_lon = -116.98 # -117.00\n",
    "moscow_lat = 46.75 #46.732\n",
    "moscow_poi = ee.Geometry.Point(moscow_lon, moscow_lat)\n",
    "\n",
    "# Define the operative scale of the dataset.  This is important for defining how EE does its analyses.\n",
    "#    This should be the resolution of the data product.\n",
    "scale = 500  # scale in meters\n"
   ]
  },
  {
   "cell_type": "markdown",
   "id": "348118a7-a409-4b36-9188-b1bb1ac9f83d",
   "metadata": {
    "tags": []
   },
   "source": [
    "### Visualize the mean snow cover\n",
    "\n",
    "Calculate the mean snow cover of the entire dataset.  For the region around Moscow, plot this mean snow cover."
   ]
  },
  {
   "cell_type": "code",
   "execution_count": 30,
   "id": "7276eb21-5df7-4a3f-939d-f4c52bae1c7a",
   "metadata": {},
   "outputs": [],
   "source": [
    "moscow_poi_buffer = moscow_poi.buffer(1000)"
   ]
  },
  {
   "cell_type": "code",
   "execution_count": 45,
   "id": "934c3bd4-6fc3-43a9-91de-4ec13f37afd9",
   "metadata": {},
   "outputs": [],
   "source": [
    "snow_img = snow.mean()"
   ]
  },
  {
   "cell_type": "code",
   "execution_count": 54,
   "id": "21ddbac0-2555-48ce-b570-d7befb5d995a",
   "metadata": {},
   "outputs": [
    {
     "name": "stdout",
     "output_type": "stream",
     "text": [
      "https://earthengine.googleapis.com/v1alpha/projects/earthengine-legacy/thumbnails/e41cbad620c4d2616789f3d290d18331-2a5c3e18bdd125fc933b66d88a05f4b6:getPixels\n",
      "\n",
      "Please wait while the thumbnail loads, it may take a moment...\n"
     ]
    },
    {
     "data": {
      "text/html": [
       "<img src=\"https://earthengine.googleapis.com/v1alpha/projects/earthengine-legacy/thumbnails/e41cbad620c4d2616789f3d290d18331-2a5c3e18bdd125fc933b66d88a05f4b6:getPixels\"/>"
      ],
      "text/plain": [
       "<IPython.core.display.Image object>"
      ]
     },
     "execution_count": 54,
     "metadata": {},
     "output_type": "execute_result"
    }
   ],
   "source": [
    "#not sure what the value for dimension is supposed to be\n",
    "from IPython.display import Image\n",
    "\n",
    "# Create a URL to the styled image for a region\n",
    "url = snow_img.getThumbUrl({\n",
    "    'min': 0, 'max': 100, 'dimensions': 500, 'region': moscow_poi_buffer,\n",
    "    'palette': ['green', 'yellow', 'orange', 'red']})\n",
    "print(url)\n",
    "\n",
    "# Display the thumbnail land surface temperature in France.\n",
    "print('\\nPlease wait while the thumbnail loads, it may take a moment...')\n",
    "Image(url=url)"
   ]
  },
  {
   "cell_type": "code",
   "execution_count": null,
   "id": "4a62d970-2315-4fb7-9503-cd05ab6254fb",
   "metadata": {},
   "outputs": [],
   "source": []
  },
  {
   "cell_type": "code",
   "execution_count": null,
   "id": "cc92ed5a-55a7-4beb-82ef-64d1d504002f",
   "metadata": {},
   "outputs": [],
   "source": []
  },
  {
   "cell_type": "code",
   "execution_count": null,
   "id": "55b96919-9c5e-477e-85d2-e9629f7cc46f",
   "metadata": {},
   "outputs": [],
   "source": []
  },
  {
   "cell_type": "markdown",
   "id": "ba0ecd2e-6878-402b-bf11-44fc09077b14",
   "metadata": {},
   "source": [
    "#### Set up a Folium map to explore the output data with"
   ]
  },
  {
   "cell_type": "code",
   "execution_count": 59,
   "id": "c01eb1b3-75fe-4044-8aab-aec0cc447caa",
   "metadata": {},
   "outputs": [
    {
     "data": {
      "text/html": [
       "<div style=\"width:100%;\"><div style=\"position:relative;width:100%;height:0;padding-bottom:60%;\"><span style=\"color:#565656\">Make this Notebook Trusted to load map: File -> Trust Notebook</span><iframe src=\"about:blank\" style=\"position:absolute;width:100%;height:100%;left:0;top:0;border:none !important;\" data-html=%3C%21DOCTYPE%20html%3E%0A%3Chead%3E%20%20%20%20%0A%20%20%20%20%3Cmeta%20http-equiv%3D%22content-type%22%20content%3D%22text/html%3B%20charset%3DUTF-8%22%20/%3E%0A%20%20%20%20%0A%20%20%20%20%20%20%20%20%3Cscript%3E%0A%20%20%20%20%20%20%20%20%20%20%20%20L_NO_TOUCH%20%3D%20false%3B%0A%20%20%20%20%20%20%20%20%20%20%20%20L_DISABLE_3D%20%3D%20false%3B%0A%20%20%20%20%20%20%20%20%3C/script%3E%0A%20%20%20%20%0A%20%20%20%20%3Cstyle%3Ehtml%2C%20body%20%7Bwidth%3A%20100%25%3Bheight%3A%20100%25%3Bmargin%3A%200%3Bpadding%3A%200%3B%7D%3C/style%3E%0A%20%20%20%20%3Cstyle%3E%23map%20%7Bposition%3Aabsolute%3Btop%3A0%3Bbottom%3A0%3Bright%3A0%3Bleft%3A0%3B%7D%3C/style%3E%0A%20%20%20%20%3Cscript%20src%3D%22https%3A//cdn.jsdelivr.net/npm/leaflet%401.6.0/dist/leaflet.js%22%3E%3C/script%3E%0A%20%20%20%20%3Cscript%20src%3D%22https%3A//code.jquery.com/jquery-1.12.4.min.js%22%3E%3C/script%3E%0A%20%20%20%20%3Cscript%20src%3D%22https%3A//maxcdn.bootstrapcdn.com/bootstrap/3.2.0/js/bootstrap.min.js%22%3E%3C/script%3E%0A%20%20%20%20%3Cscript%20src%3D%22https%3A//cdnjs.cloudflare.com/ajax/libs/Leaflet.awesome-markers/2.0.2/leaflet.awesome-markers.js%22%3E%3C/script%3E%0A%20%20%20%20%3Clink%20rel%3D%22stylesheet%22%20href%3D%22https%3A//cdn.jsdelivr.net/npm/leaflet%401.6.0/dist/leaflet.css%22/%3E%0A%20%20%20%20%3Clink%20rel%3D%22stylesheet%22%20href%3D%22https%3A//maxcdn.bootstrapcdn.com/bootstrap/3.2.0/css/bootstrap.min.css%22/%3E%0A%20%20%20%20%3Clink%20rel%3D%22stylesheet%22%20href%3D%22https%3A//maxcdn.bootstrapcdn.com/bootstrap/3.2.0/css/bootstrap-theme.min.css%22/%3E%0A%20%20%20%20%3Clink%20rel%3D%22stylesheet%22%20href%3D%22https%3A//maxcdn.bootstrapcdn.com/font-awesome/4.6.3/css/font-awesome.min.css%22/%3E%0A%20%20%20%20%3Clink%20rel%3D%22stylesheet%22%20href%3D%22https%3A//cdnjs.cloudflare.com/ajax/libs/Leaflet.awesome-markers/2.0.2/leaflet.awesome-markers.css%22/%3E%0A%20%20%20%20%3Clink%20rel%3D%22stylesheet%22%20href%3D%22https%3A//cdn.jsdelivr.net/gh/python-visualization/folium/folium/templates/leaflet.awesome.rotate.min.css%22/%3E%0A%20%20%20%20%0A%20%20%20%20%20%20%20%20%20%20%20%20%3Cmeta%20name%3D%22viewport%22%20content%3D%22width%3Ddevice-width%2C%0A%20%20%20%20%20%20%20%20%20%20%20%20%20%20%20%20initial-scale%3D1.0%2C%20maximum-scale%3D1.0%2C%20user-scalable%3Dno%22%20/%3E%0A%20%20%20%20%20%20%20%20%20%20%20%20%3Cstyle%3E%0A%20%20%20%20%20%20%20%20%20%20%20%20%20%20%20%20%23map_7d52498de9f5457185db48360bce14cd%20%7B%0A%20%20%20%20%20%20%20%20%20%20%20%20%20%20%20%20%20%20%20%20position%3A%20relative%3B%0A%20%20%20%20%20%20%20%20%20%20%20%20%20%20%20%20%20%20%20%20width%3A%20100.0%25%3B%0A%20%20%20%20%20%20%20%20%20%20%20%20%20%20%20%20%20%20%20%20height%3A%20100.0%25%3B%0A%20%20%20%20%20%20%20%20%20%20%20%20%20%20%20%20%20%20%20%20left%3A%200.0%25%3B%0A%20%20%20%20%20%20%20%20%20%20%20%20%20%20%20%20%20%20%20%20top%3A%200.0%25%3B%0A%20%20%20%20%20%20%20%20%20%20%20%20%20%20%20%20%7D%0A%20%20%20%20%20%20%20%20%20%20%20%20%3C/style%3E%0A%20%20%20%20%20%20%20%20%0A%3C/head%3E%0A%3Cbody%3E%20%20%20%20%0A%20%20%20%20%0A%20%20%20%20%20%20%20%20%20%20%20%20%3Cdiv%20class%3D%22folium-map%22%20id%3D%22map_7d52498de9f5457185db48360bce14cd%22%20%3E%3C/div%3E%0A%20%20%20%20%20%20%20%20%0A%3C/body%3E%0A%3Cscript%3E%20%20%20%20%0A%20%20%20%20%0A%20%20%20%20%20%20%20%20%20%20%20%20var%20map_7d52498de9f5457185db48360bce14cd%20%3D%20L.map%28%0A%20%20%20%20%20%20%20%20%20%20%20%20%20%20%20%20%22map_7d52498de9f5457185db48360bce14cd%22%2C%0A%20%20%20%20%20%20%20%20%20%20%20%20%20%20%20%20%7B%0A%20%20%20%20%20%20%20%20%20%20%20%20%20%20%20%20%20%20%20%20center%3A%20%5B46.8%2C%20-117.0%5D%2C%0A%20%20%20%20%20%20%20%20%20%20%20%20%20%20%20%20%20%20%20%20crs%3A%20L.CRS.EPSG3857%2C%0A%20%20%20%20%20%20%20%20%20%20%20%20%20%20%20%20%20%20%20%20zoom%3A%2010%2C%0A%20%20%20%20%20%20%20%20%20%20%20%20%20%20%20%20%20%20%20%20zoomControl%3A%20true%2C%0A%20%20%20%20%20%20%20%20%20%20%20%20%20%20%20%20%20%20%20%20preferCanvas%3A%20false%2C%0A%20%20%20%20%20%20%20%20%20%20%20%20%20%20%20%20%7D%0A%20%20%20%20%20%20%20%20%20%20%20%20%29%3B%0A%0A%20%20%20%20%20%20%20%20%20%20%20%20%0A%0A%20%20%20%20%20%20%20%20%0A%20%20%20%20%0A%20%20%20%20%20%20%20%20%20%20%20%20var%20tile_layer_61c10c1629c6457f9d37441a3ae8e0de%20%3D%20L.tileLayer%28%0A%20%20%20%20%20%20%20%20%20%20%20%20%20%20%20%20%22https%3A//%7Bs%7D.tile.openstreetmap.org/%7Bz%7D/%7Bx%7D/%7By%7D.png%22%2C%0A%20%20%20%20%20%20%20%20%20%20%20%20%20%20%20%20%7B%22attribution%22%3A%20%22Data%20by%20%5Cu0026copy%3B%20%5Cu003ca%20href%3D%5C%22http%3A//openstreetmap.org%5C%22%5Cu003eOpenStreetMap%5Cu003c/a%5Cu003e%2C%20under%20%5Cu003ca%20href%3D%5C%22http%3A//www.openstreetmap.org/copyright%5C%22%5Cu003eODbL%5Cu003c/a%5Cu003e.%22%2C%20%22detectRetina%22%3A%20false%2C%20%22maxNativeZoom%22%3A%2018%2C%20%22maxZoom%22%3A%2018%2C%20%22minZoom%22%3A%200%2C%20%22noWrap%22%3A%20false%2C%20%22opacity%22%3A%201%2C%20%22subdomains%22%3A%20%22abc%22%2C%20%22tms%22%3A%20false%7D%0A%20%20%20%20%20%20%20%20%20%20%20%20%29.addTo%28map_7d52498de9f5457185db48360bce14cd%29%3B%0A%20%20%20%20%20%20%20%20%0A%20%20%20%20%0A%20%20%20%20%20%20%20%20%20%20%20%20var%20tile_layer_8438fa9b44424b6ba3b27405b476250b%20%3D%20L.tileLayer%28%0A%20%20%20%20%20%20%20%20%20%20%20%20%20%20%20%20%22https%3A//earthengine.googleapis.com/v1alpha/projects/earthengine-legacy/maps/2cdb7172da4db3bb6acb239a27bdcd45-50743b957ff4870d186c34c27765fc27/tiles/%7Bz%7D/%7Bx%7D/%7By%7D%22%2C%0A%20%20%20%20%20%20%20%20%20%20%20%20%20%20%20%20%7B%22attribution%22%3A%20%22Map%20Data%20%5Cu0026copy%3B%20%5Cu003ca%20href%3D%5C%22https%3A//earthengine.google.com/%5C%22%5Cu003eGoogle%20Earth%20Engine%5Cu003c/a%5Cu003e%22%2C%20%22detectRetina%22%3A%20false%2C%20%22maxNativeZoom%22%3A%2018%2C%20%22maxZoom%22%3A%2018%2C%20%22minZoom%22%3A%200%2C%20%22noWrap%22%3A%20false%2C%20%22opacity%22%3A%201%2C%20%22subdomains%22%3A%20%22abc%22%2C%20%22tms%22%3A%20false%7D%0A%20%20%20%20%20%20%20%20%20%20%20%20%29.addTo%28map_7d52498de9f5457185db48360bce14cd%29%3B%0A%20%20%20%20%20%20%20%20%0A%20%20%20%20%0A%20%20%20%20%20%20%20%20%20%20%20%20var%20layer_control_d8699593341a41f49af0fc22359c7662%20%3D%20%7B%0A%20%20%20%20%20%20%20%20%20%20%20%20%20%20%20%20base_layers%20%3A%20%7B%0A%20%20%20%20%20%20%20%20%20%20%20%20%20%20%20%20%20%20%20%20%22openstreetmap%22%20%3A%20tile_layer_61c10c1629c6457f9d37441a3ae8e0de%2C%0A%20%20%20%20%20%20%20%20%20%20%20%20%20%20%20%20%7D%2C%0A%20%20%20%20%20%20%20%20%20%20%20%20%20%20%20%20overlays%20%3A%20%20%7B%0A%20%20%20%20%20%20%20%20%20%20%20%20%20%20%20%20%20%20%20%20%22DEM%22%20%3A%20tile_layer_8438fa9b44424b6ba3b27405b476250b%2C%0A%20%20%20%20%20%20%20%20%20%20%20%20%20%20%20%20%7D%2C%0A%20%20%20%20%20%20%20%20%20%20%20%20%7D%3B%0A%20%20%20%20%20%20%20%20%20%20%20%20L.control.layers%28%0A%20%20%20%20%20%20%20%20%20%20%20%20%20%20%20%20layer_control_d8699593341a41f49af0fc22359c7662.base_layers%2C%0A%20%20%20%20%20%20%20%20%20%20%20%20%20%20%20%20layer_control_d8699593341a41f49af0fc22359c7662.overlays%2C%0A%20%20%20%20%20%20%20%20%20%20%20%20%20%20%20%20%7B%22autoZIndex%22%3A%20true%2C%20%22collapsed%22%3A%20false%2C%20%22position%22%3A%20%22topright%22%7D%0A%20%20%20%20%20%20%20%20%20%20%20%20%29.addTo%28map_7d52498de9f5457185db48360bce14cd%29%3B%0A%20%20%20%20%20%20%20%20%0A%3C/script%3E onload=\"this.contentDocument.open();this.contentDocument.write(    decodeURIComponent(this.getAttribute('data-html')));this.contentDocument.close();\" allowfullscreen webkitallowfullscreen mozallowfullscreen></iframe></div></div>"
      ],
      "text/plain": [
       "<folium.folium.Map at 0x187021d7160>"
      ]
     },
     "metadata": {},
     "output_type": "display_data"
    }
   ],
   "source": [
    "elev = ee.Image('USGS/SRTMGL1_003') # Read in the STRM dataset as an EE Image\n",
    "#####snow_cover = ee.Image('')\n",
    "\n",
    "# Define a method for displaying Earth Engine image tiles to folium map.\n",
    "def add_ee_layer(self, ee_image_object, vis_params, name):\n",
    "  map_id_dict = ee.Image(ee_image_object).getMapId(vis_params)\n",
    "  folium.raster_layers.TileLayer(\n",
    "    tiles = map_id_dict['tile_fetcher'].url_format,\n",
    "    attr = 'Map Data &copy; <a href=\"https://earthengine.google.com/\">Google Earth Engine</a>',\n",
    "    name = name,\n",
    "    overlay = True,\n",
    "    control = True\n",
    "  ).add_to(self)\n",
    "\n",
    "# Add EE drawing method to folium.\n",
    "folium.Map.add_ee_layer = add_ee_layer\n",
    "\n",
    "# Create a folium map object.\n",
    "my_map = folium.Map(location=[46.8, -117], zoom_start=10)\n",
    "\n",
    "# Set visualization parameters for the elevation dataset\n",
    "elev_params = {\n",
    "  'min': 0,\n",
    "  'max': 4000,\n",
    "  'palette': ['006633', 'E5FFCC', '662A00', 'D8D8D8', 'F5F5F5']}\n",
    "\n",
    "# #####snow_cover_params = {\n",
    "#     'min': 0,\n",
    "#   'max': 100,\n",
    "#   'palette': ['green', 'yellow', 'orange', 'red']}\n",
    "\n",
    "# Add the elevation model to the map object.\n",
    "my_map.add_ee_layer(elev, elev_params, 'DEM')\n",
    "# my_map.add_ee_layer(snow_cover, snow_cover_params, 'NDSI_Snow_Cover')\n",
    "\n",
    "\n",
    "# Add a layer control panel to the map.\n",
    "# my_map.add_child(folium.LayerControl())\n",
    "folium.LayerControl(collapsed = False).add_to(my_map)\n",
    "\n",
    "\n",
    "# Display the map.\n",
    "display(my_map)"
   ]
  },
  {
   "cell_type": "markdown",
   "id": "0c79fea0-9989-45e2-aa1e-0cadca2f2b7e",
   "metadata": {},
   "source": [
    "### Interpretting the snow cover\n",
    "Add a layer to the Folium map above that includes the mean of all the snow cover measurements.\n",
    "Note in the map above there there are only a few lines used to define the `elev_params` and then one \n",
    "line that uses `add_ee_layer` to add the `elev` dataset to the map.  You can reproduce (and modify)\n",
    "these lines to show your map of mean snow cover.\n",
    "\n",
    "Write a few sentences to interpret the spatial patterns in mean snow cover in the several 10s of km\n",
    "basin surrounding Moscow."
   ]
  },
  {
   "cell_type": "code",
   "execution_count": null,
   "id": "e97f152a-d1bd-4e6c-95bd-bb1c2dfd3993",
   "metadata": {},
   "outputs": [],
   "source": []
  },
  {
   "cell_type": "markdown",
   "id": "d38f49d6-970e-44e3-af0c-fe53c84c1581",
   "metadata": {},
   "source": [
    "## Examining time series of snow cover around Moscow\n",
    "Your goal now is to produce a time series of snow cover (from MODIS NDSI) near Moscow (but again, just outside Moscow, to\n",
    "avoide city effects)."
   ]
  },
  {
   "cell_type": "markdown",
   "id": "b7795616-6c78-474e-ae2f-a86dba21d370",
   "metadata": {},
   "source": [
    "Again, following the example from the [Python API tutorial](https://developers.google.com/earth-engine/tutorials/community/intro-to-python-api-guiattard).\n",
    "Produce an array (technically a list of lists in this case) with all of the snow cover measurements of your Moscow\n",
    "coordinates."
   ]
  },
  {
   "cell_type": "code",
   "execution_count": 13,
   "id": "3b7e81a8-3449-40c3-a332-8b77d060573f",
   "metadata": {},
   "outputs": [
    {
     "data": {
      "text/plain": [
       "[['id', 'longitude', 'latitude', 'time', 'NDSI_Snow_Cover'],\n",
       " ['2000_02_24', -116.9763705098338, 46.719132138846014, 951350400000, None],\n",
       " ['2000_02_25', -116.9763705098338, 46.719132138846014, 951436800000, 0],\n",
       " ['2000_02_26', -116.9763705098338, 46.719132138846014, 951523200000, None],\n",
       " ['2000_02_27', -116.9763705098338, 46.719132138846014, 951609600000, None],\n",
       " ['2000_02_28', -116.9763705098338, 46.719132138846014, 951696000000, None],\n",
       " ['2000_02_29', -116.9763705098338, 46.719132138846014, 951782400000, None],\n",
       " ['2000_03_01', -116.9763705098338, 46.719132138846014, 951868800000, None],\n",
       " ['2000_03_02', -116.9763705098338, 46.719132138846014, 951955200000, None],\n",
       " ['2000_03_03', -116.9763705098338, 46.719132138846014, 952041600000, None]]"
      ]
     },
     "execution_count": 13,
     "metadata": {},
     "output_type": "execute_result"
    }
   ],
   "source": [
    "data_m_poi = snow.getRegion(m_poi, scale).getInfo()\n",
    "data_m_poi[:10]"
   ]
  },
  {
   "cell_type": "code",
   "execution_count": 14,
   "id": "e70b16e9-68e3-40b6-9723-5ac957823387",
   "metadata": {},
   "outputs": [],
   "source": [
    "# Function to transform the EE array (list of lists) into a pandas dataframe\n",
    "def ee_array_to_df(arr, list_of_bands):\n",
    "    \"\"\"Transforms client-side ee.Image.getRegion array to pandas.DataFrame.\"\"\"\n",
    "    df = pd.DataFrame(arr)\n",
    "\n",
    "    # Rearrange the header.\n",
    "    headers = df.iloc[0]\n",
    "    df = pd.DataFrame(df.values[1:], columns=headers)\n",
    "\n",
    "    # Remove rows without data inside.\n",
    "    df = df[['longitude', 'latitude', 'time', *list_of_bands]].dropna()\n",
    "\n",
    "    # Convert the data to numeric values.\n",
    "    for band in list_of_bands:\n",
    "        df[band] = pd.to_numeric(df[band], errors='coerce')\n",
    "\n",
    "    # Convert the time field into a datetime.\n",
    "    df['datetime'] = pd.to_datetime(df['time'], unit='ms')\n",
    "\n",
    "    # Keep the columns of interest.\n",
    "    df = df[['time','datetime',  *list_of_bands]]\n",
    "\n",
    "    return df"
   ]
  },
  {
   "cell_type": "markdown",
   "id": "1b651038-7db8-44b0-b243-0045beea0780",
   "metadata": {},
   "source": [
    "Use the function above to create a DataFrame that includes snow cover as a function of time.  Show\n",
    "that DataFrame below."
   ]
  },
  {
   "cell_type": "code",
   "execution_count": 15,
   "id": "7c62bd61-bc49-4f3d-b337-32209b31ca31",
   "metadata": {},
   "outputs": [
    {
     "data": {
      "text/html": [
       "<div>\n",
       "<style scoped>\n",
       "    .dataframe tbody tr th:only-of-type {\n",
       "        vertical-align: middle;\n",
       "    }\n",
       "\n",
       "    .dataframe tbody tr th {\n",
       "        vertical-align: top;\n",
       "    }\n",
       "\n",
       "    .dataframe thead th {\n",
       "        text-align: right;\n",
       "    }\n",
       "</style>\n",
       "<table border=\"1\" class=\"dataframe\">\n",
       "  <thead>\n",
       "    <tr style=\"text-align: right;\">\n",
       "      <th></th>\n",
       "      <th>time</th>\n",
       "      <th>datetime</th>\n",
       "      <th>NDSI_Snow_Cover</th>\n",
       "    </tr>\n",
       "  </thead>\n",
       "  <tbody>\n",
       "    <tr>\n",
       "      <th>1</th>\n",
       "      <td>951436800000</td>\n",
       "      <td>2000-02-25</td>\n",
       "      <td>0</td>\n",
       "    </tr>\n",
       "    <tr>\n",
       "      <th>15</th>\n",
       "      <td>952646400000</td>\n",
       "      <td>2000-03-10</td>\n",
       "      <td>0</td>\n",
       "    </tr>\n",
       "    <tr>\n",
       "      <th>19</th>\n",
       "      <td>952992000000</td>\n",
       "      <td>2000-03-14</td>\n",
       "      <td>0</td>\n",
       "    </tr>\n",
       "    <tr>\n",
       "      <th>26</th>\n",
       "      <td>953596800000</td>\n",
       "      <td>2000-03-21</td>\n",
       "      <td>0</td>\n",
       "    </tr>\n",
       "    <tr>\n",
       "      <th>31</th>\n",
       "      <td>954028800000</td>\n",
       "      <td>2000-03-26</td>\n",
       "      <td>0</td>\n",
       "    </tr>\n",
       "    <tr>\n",
       "      <th>...</th>\n",
       "      <td>...</td>\n",
       "      <td>...</td>\n",
       "      <td>...</td>\n",
       "    </tr>\n",
       "    <tr>\n",
       "      <th>7843</th>\n",
       "      <td>1633910400000</td>\n",
       "      <td>2021-10-11</td>\n",
       "      <td>0</td>\n",
       "    </tr>\n",
       "    <tr>\n",
       "      <th>7844</th>\n",
       "      <td>1633996800000</td>\n",
       "      <td>2021-10-12</td>\n",
       "      <td>0</td>\n",
       "    </tr>\n",
       "    <tr>\n",
       "      <th>7848</th>\n",
       "      <td>1634342400000</td>\n",
       "      <td>2021-10-16</td>\n",
       "      <td>0</td>\n",
       "    </tr>\n",
       "    <tr>\n",
       "      <th>7851</th>\n",
       "      <td>1634601600000</td>\n",
       "      <td>2021-10-19</td>\n",
       "      <td>0</td>\n",
       "    </tr>\n",
       "    <tr>\n",
       "      <th>7853</th>\n",
       "      <td>1634774400000</td>\n",
       "      <td>2021-10-21</td>\n",
       "      <td>0</td>\n",
       "    </tr>\n",
       "  </tbody>\n",
       "</table>\n",
       "<p>3493 rows × 3 columns</p>\n",
       "</div>"
      ],
      "text/plain": [
       "0              time   datetime  NDSI_Snow_Cover\n",
       "1      951436800000 2000-02-25                0\n",
       "15     952646400000 2000-03-10                0\n",
       "19     952992000000 2000-03-14                0\n",
       "26     953596800000 2000-03-21                0\n",
       "31     954028800000 2000-03-26                0\n",
       "...             ...        ...              ...\n",
       "7843  1633910400000 2021-10-11                0\n",
       "7844  1633996800000 2021-10-12                0\n",
       "7848  1634342400000 2021-10-16                0\n",
       "7851  1634601600000 2021-10-19                0\n",
       "7853  1634774400000 2021-10-21                0\n",
       "\n",
       "[3493 rows x 3 columns]"
      ]
     },
     "execution_count": 15,
     "metadata": {},
     "output_type": "execute_result"
    }
   ],
   "source": [
    "df_m_poi = ee_array_to_df(data_m_poi, ['NDSI_Snow_Cover'])\n",
    "df_m_poi"
   ]
  },
  {
   "cell_type": "markdown",
   "id": "1dc06c59-65ee-4b38-bd72-0972c4473fc8",
   "metadata": {},
   "source": [
    "Create a plot of the snow cover as a function of time, for the full time series, up to the present."
   ]
  },
  {
   "cell_type": "code",
   "execution_count": 23,
   "id": "c9d8019f-542a-485f-a147-1d0dc4837466",
   "metadata": {},
   "outputs": [
    {
     "data": {
      "image/png": "[encoded data removed]",
      "text/plain": [
       "<Figure size 1008x432 with 1 Axes>"
      ]
     },
     "metadata": {
      "needs_background": "light"
     },
     "output_type": "display_data"
    }
   ],
   "source": [
    "import matplotlib.pyplot as plt\n",
    "import numpy as np\n",
    "from scipy import optimize\n",
    "%matplotlib inline\n",
    "\n",
    "# Fitting curves.\n",
    "## First, extract x values (times) from the dfs.\n",
    "x_data_m_poi = np.asanyarray(df_m_poi['time'].apply(float))\n",
    "\n",
    "## Secondly, extract y values (snow cover) from the dfs.\n",
    "y_data_m_poi = np.asanyarray(df_m_poi['NDSI_Snow_Cover'].apply(float))\n",
    "\n",
    "# Subplots.\n",
    "fig, ax = plt.subplots(figsize=(14, 6))\n",
    "\n",
    "# Add scatter plots.\n",
    "ax.scatter(df_m_poi['datetime'], df_m_poi['NDSI_Snow_Cover'],\n",
    "           c='blue', alpha=0.5, label='Snow Cover')\n",
    "\n",
    "# Add some parameters.\n",
    "ax.set_title('Snow Cover throughout the year in Moscow POI', fontsize=16)\n",
    "ax.set_xlabel('Date', fontsize=14)\n",
    "ax.set_ylabel('Snow Cover', fontsize=14)\n",
    "ax.set_ylim(-0, 100)\n",
    "ax.grid(lw=0.2)\n",
    "# ax.legend(fontsize=14, loc='lower right')\n",
    "\n",
    "plt.show()"
   ]
  },
  {
   "cell_type": "markdown",
   "id": "6fce544f-8bbf-47c7-b2c9-e733b47ffe05",
   "metadata": {},
   "source": [
    "### Commonality of early snowfalls\n",
    "\n",
    "Last year, in 2020, a heavy snow fell on October 23-24, while there were still many leaves on\n",
    "the trees.  This caused power outages and brought down many many tree limbs across Moscow (see\n",
    "evidence of this below, with a truck ready to head for one of Many trips to the city's yard\n",
    "waste dump that day).\n",
    "\n",
    "<img src=\"early_snow.jpg\" alt=\"alt text\" width=\"500\"/>\n",
    "\n",
    "How typical are these early season snow storms in Moscow?  Has there been October snow\n",
    "accumulation in any of the prior 5 or so years?"
   ]
  },
  {
   "cell_type": "code",
   "execution_count": 48,
   "id": "49b3f59d-04f6-4743-a9ad-3ffc8df3b143",
   "metadata": {},
   "outputs": [
    {
     "data": {
      "text/html": [
       "<div>\n",
       "<style scoped>\n",
       "    .dataframe tbody tr th:only-of-type {\n",
       "        vertical-align: middle;\n",
       "    }\n",
       "\n",
       "    .dataframe tbody tr th {\n",
       "        vertical-align: top;\n",
       "    }\n",
       "\n",
       "    .dataframe thead th {\n",
       "        text-align: right;\n",
       "    }\n",
       "</style>\n",
       "<table border=\"1\" class=\"dataframe\">\n",
       "  <thead>\n",
       "    <tr style=\"text-align: right;\">\n",
       "      <th></th>\n",
       "      <th>time</th>\n",
       "      <th>datetime</th>\n",
       "      <th>NDSI_Snow_Cover</th>\n",
       "    </tr>\n",
       "  </thead>\n",
       "  <tbody>\n",
       "    <tr>\n",
       "      <th>1</th>\n",
       "      <td>951436800000</td>\n",
       "      <td>2000-02-25</td>\n",
       "      <td>0</td>\n",
       "    </tr>\n",
       "    <tr>\n",
       "      <th>15</th>\n",
       "      <td>952646400000</td>\n",
       "      <td>2000-03-10</td>\n",
       "      <td>0</td>\n",
       "    </tr>\n",
       "    <tr>\n",
       "      <th>19</th>\n",
       "      <td>952992000000</td>\n",
       "      <td>2000-03-14</td>\n",
       "      <td>0</td>\n",
       "    </tr>\n",
       "    <tr>\n",
       "      <th>26</th>\n",
       "      <td>953596800000</td>\n",
       "      <td>2000-03-21</td>\n",
       "      <td>0</td>\n",
       "    </tr>\n",
       "    <tr>\n",
       "      <th>31</th>\n",
       "      <td>954028800000</td>\n",
       "      <td>2000-03-26</td>\n",
       "      <td>0</td>\n",
       "    </tr>\n",
       "    <tr>\n",
       "      <th>...</th>\n",
       "      <td>...</td>\n",
       "      <td>...</td>\n",
       "      <td>...</td>\n",
       "    </tr>\n",
       "    <tr>\n",
       "      <th>7843</th>\n",
       "      <td>1633910400000</td>\n",
       "      <td>2021-10-11</td>\n",
       "      <td>0</td>\n",
       "    </tr>\n",
       "    <tr>\n",
       "      <th>7844</th>\n",
       "      <td>1633996800000</td>\n",
       "      <td>2021-10-12</td>\n",
       "      <td>0</td>\n",
       "    </tr>\n",
       "    <tr>\n",
       "      <th>7848</th>\n",
       "      <td>1634342400000</td>\n",
       "      <td>2021-10-16</td>\n",
       "      <td>0</td>\n",
       "    </tr>\n",
       "    <tr>\n",
       "      <th>7851</th>\n",
       "      <td>1634601600000</td>\n",
       "      <td>2021-10-19</td>\n",
       "      <td>0</td>\n",
       "    </tr>\n",
       "    <tr>\n",
       "      <th>7853</th>\n",
       "      <td>1634774400000</td>\n",
       "      <td>2021-10-21</td>\n",
       "      <td>0</td>\n",
       "    </tr>\n",
       "  </tbody>\n",
       "</table>\n",
       "<p>3493 rows × 3 columns</p>\n",
       "</div>"
      ],
      "text/plain": [
       "0              time   datetime  NDSI_Snow_Cover\n",
       "1      951436800000 2000-02-25                0\n",
       "15     952646400000 2000-03-10                0\n",
       "19     952992000000 2000-03-14                0\n",
       "26     953596800000 2000-03-21                0\n",
       "31     954028800000 2000-03-26                0\n",
       "...             ...        ...              ...\n",
       "7843  1633910400000 2021-10-11                0\n",
       "7844  1633996800000 2021-10-12                0\n",
       "7848  1634342400000 2021-10-16                0\n",
       "7851  1634601600000 2021-10-19                0\n",
       "7853  1634774400000 2021-10-21                0\n",
       "\n",
       "[3493 rows x 3 columns]"
      ]
     },
     "execution_count": 48,
     "metadata": {},
     "output_type": "execute_result"
    }
   ],
   "source": [
    "df_m_poi"
   ]
  },
  {
   "cell_type": "code",
   "execution_count": 49,
   "id": "4517eb0d-2323-4451-b660-2c4cb4fd7c06",
   "metadata": {},
   "outputs": [
    {
     "data": {
      "text/html": [
       "<div>\n",
       "<style scoped>\n",
       "    .dataframe tbody tr th:only-of-type {\n",
       "        vertical-align: middle;\n",
       "    }\n",
       "\n",
       "    .dataframe tbody tr th {\n",
       "        vertical-align: top;\n",
       "    }\n",
       "\n",
       "    .dataframe thead th {\n",
       "        text-align: right;\n",
       "    }\n",
       "</style>\n",
       "<table border=\"1\" class=\"dataframe\">\n",
       "  <thead>\n",
       "    <tr style=\"text-align: right;\">\n",
       "      <th></th>\n",
       "      <th>time</th>\n",
       "      <th>datetime</th>\n",
       "      <th>NDSI_Snow_Cover</th>\n",
       "    </tr>\n",
       "  </thead>\n",
       "  <tbody>\n",
       "    <tr>\n",
       "      <th>249</th>\n",
       "      <td>973900800000</td>\n",
       "      <td>2000-11-11</td>\n",
       "      <td>79</td>\n",
       "    </tr>\n",
       "    <tr>\n",
       "      <th>251</th>\n",
       "      <td>974073600000</td>\n",
       "      <td>2000-11-13</td>\n",
       "      <td>76</td>\n",
       "    </tr>\n",
       "    <tr>\n",
       "      <th>254</th>\n",
       "      <td>974332800000</td>\n",
       "      <td>2000-11-16</td>\n",
       "      <td>80</td>\n",
       "    </tr>\n",
       "    <tr>\n",
       "      <th>258</th>\n",
       "      <td>974678400000</td>\n",
       "      <td>2000-11-20</td>\n",
       "      <td>76</td>\n",
       "    </tr>\n",
       "    <tr>\n",
       "      <th>259</th>\n",
       "      <td>974764800000</td>\n",
       "      <td>2000-11-21</td>\n",
       "      <td>77</td>\n",
       "    </tr>\n",
       "    <tr>\n",
       "      <th>...</th>\n",
       "      <td>...</td>\n",
       "      <td>...</td>\n",
       "      <td>...</td>\n",
       "    </tr>\n",
       "    <tr>\n",
       "      <th>7557</th>\n",
       "      <td>1609113600000</td>\n",
       "      <td>2020-12-28</td>\n",
       "      <td>33</td>\n",
       "    </tr>\n",
       "    <tr>\n",
       "      <th>7594</th>\n",
       "      <td>1612310400000</td>\n",
       "      <td>2021-02-03</td>\n",
       "      <td>32</td>\n",
       "    </tr>\n",
       "    <tr>\n",
       "      <th>7602</th>\n",
       "      <td>1613001600000</td>\n",
       "      <td>2021-02-11</td>\n",
       "      <td>70</td>\n",
       "    </tr>\n",
       "    <tr>\n",
       "      <th>7618</th>\n",
       "      <td>1614384000000</td>\n",
       "      <td>2021-02-27</td>\n",
       "      <td>65</td>\n",
       "    </tr>\n",
       "    <tr>\n",
       "      <th>7660</th>\n",
       "      <td>1618012800000</td>\n",
       "      <td>2021-04-10</td>\n",
       "      <td>56</td>\n",
       "    </tr>\n",
       "  </tbody>\n",
       "</table>\n",
       "<p>218 rows × 3 columns</p>\n",
       "</div>"
      ],
      "text/plain": [
       "0              time   datetime  NDSI_Snow_Cover\n",
       "249    973900800000 2000-11-11               79\n",
       "251    974073600000 2000-11-13               76\n",
       "254    974332800000 2000-11-16               80\n",
       "258    974678400000 2000-11-20               76\n",
       "259    974764800000 2000-11-21               77\n",
       "...             ...        ...              ...\n",
       "7557  1609113600000 2020-12-28               33\n",
       "7594  1612310400000 2021-02-03               32\n",
       "7602  1613001600000 2021-02-11               70\n",
       "7618  1614384000000 2021-02-27               65\n",
       "7660  1618012800000 2021-04-10               56\n",
       "\n",
       "[218 rows x 3 columns]"
      ]
     },
     "execution_count": 49,
     "metadata": {},
     "output_type": "execute_result"
    }
   ],
   "source": [
    "index_total = df_m_poi['NDSI_Snow_Cover'] != 0\n",
    "snow_cover_recorded = df_m_poi.loc[index_total]\n",
    "snow_cover_recorded"
   ]
  },
  {
   "cell_type": "code",
   "execution_count": null,
   "id": "abebd224-473a-481c-bd53-a846028fa889",
   "metadata": {},
   "outputs": [],
   "source": []
  },
  {
   "cell_type": "code",
   "execution_count": null,
   "id": "6b933270-e896-454c-b906-4bd8a9360fb2",
   "metadata": {},
   "outputs": [],
   "source": []
  },
  {
   "cell_type": "markdown",
   "id": "1d234d67-7e2c-4296-8d8c-93c49c3469a7",
   "metadata": {},
   "source": [
    "### Optional: Seasonal cycle of snow cover in Moscow\n",
    "Make a plot of a typical year, and plot each year's snow cover record on this single, 12 month axis.\n",
    "I'm thinking of something along the lines of the National Snow and Ice Data Center's\n",
    "[Charctic Interactive Sea Ice Graph](https://nsidc.org/arcticseaicenews/charctic-interactive-sea-ice-graph/), \n",
    "in which an entire time series is plotted on one year, to facilitate comparison and identify typical\n",
    "patterns.\n",
    "\n",
    "Tweak the graph you make of the annual snow cover so that it shows the average snow cover\n",
    "as a function of day.  \n",
    "\n"
   ]
  },
  {
   "cell_type": "code",
   "execution_count": null,
   "id": "73168f6e-41ed-464e-bd75-56077e45f6d3",
   "metadata": {},
   "outputs": [],
   "source": []
  },
  {
   "cell_type": "code",
   "execution_count": null,
   "id": "eacbd931-6fc5-4d6c-a2b6-a5d18b4c8ada",
   "metadata": {},
   "outputs": [],
   "source": []
  },
  {
   "cell_type": "code",
   "execution_count": null,
   "id": "0be91b55-e001-44d0-9257-3ff7fe4816e6",
   "metadata": {},
   "outputs": [],
   "source": []
  }
 ],
 "metadata": {
  "kernelspec": {
   "display_name": "Python [conda env:GISenv21b] *",
   "language": "python",
   "name": "conda-env-GISenv21b-py"
  },
  "language_info": {
   "codemirror_mode": {
    "name": "ipython",
    "version": 3
   },
   "file_extension": ".py",
   "mimetype": "text/x-python",
   "name": "python",
   "nbconvert_exporter": "python",
   "pygments_lexer": "ipython3",
   "version": "3.9.6"
  }
 },
 "nbformat": 4,
 "nbformat_minor": 5
}

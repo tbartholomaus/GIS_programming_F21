{
 "cells": [
  {
   "cell_type": "markdown",
   "id": "b16f962e-4fa0-4b0a-b3a2-d6964f9c01db",
   "metadata": {},
   "source": [
    "# Assignment 09\n",
    "\n",
    "Learning goal: develop confidence working with Google Earth Engine and build comfort working with new datasets.\n",
    "\n",
    "The tools needed to complete this assignment are largely found within the Intro Python Tutorial that you have gone through.\n",
    "If you haven't already, please pause, and run through this tutorial, copying each cell block of text from the tutorial\n",
    "into a new notebook.  Here is the web address to the tutorial: https://developers.google.com/earth-engine/tutorials/community/intro-to-python-api-guiattard\n",
    "\n",
    "Skim this website to learn the fundamental building blocks (i.e., objects and methods) of EE: \n",
    "https://developers.google.com/earth-engine/guides/objects_methods_overview\n",
    "\n",
    "With the above knowledge, I hope that you will be able to use the [tutorial](https://developers.google.com/earth-engine/tutorials/community/intro-to-python-api-guiattard) \n",
    "as something of a guide, and copy, paste, and modify the steps used in the tutorial to meet the specific goals\n",
    "of this assignment.\n",
    "\n",
    "As always, post your questions on slack!\n"
   ]
  },
  {
   "cell_type": "code",
   "execution_count": 1,
   "id": "5bcda90f-8b78-4240-b804-c84c7176874e",
   "metadata": {},
   "outputs": [],
   "source": [
    "import ee\n",
    "\n",
    "from IPython.display import Image\n",
    "import pandas as pd\n",
    "\n",
    "import folium # For super-cool interactive maps"
   ]
  },
  {
   "cell_type": "code",
   "execution_count": 2,
   "id": "f3df0d4c-94a4-4e75-80bb-01930f59d878",
   "metadata": {},
   "outputs": [],
   "source": [
    "ee.Initialize() # necessary to let Google know who you are, and that you'll be using GEE tools."
   ]
  },
  {
   "cell_type": "markdown",
   "id": "aee4e3e5-f86d-468d-aea6-7024dcb9e8e7",
   "metadata": {},
   "source": [
    "## Exploring snow cover in and around Moscow\n",
    "There is a daily estimate of snow cover from the MODIS Terra satellite,\n",
    "using a band ratio metric akin to the NDVI we've used previously.  This metric\n",
    "is known as the Normalized Difference Snow Index (NDSI).  We'll use this NASA\n",
    "data product, available through Google Earth Engine.\n",
    "\n",
    "Find the MOD10A1.006 Terra Snow Cover Daily Global 500m within the Earth Engine Data Catalog:\n",
    "https://developers.google.com/earth-engine/datasets\n",
    "\n",
    "Review the Bands that are reported for this dataset.  On the Bands page, each Band of the\n",
    "dataset is named with bold font, and then, to the right of the name, is a range of various\n",
    "different kinds of information defining what is included in each band.\n",
    "\n"
   ]
  },
  {
   "cell_type": "code",
   "execution_count": 3,
   "id": "65d32ea5-d8ff-4d8d-a645-39f6539b048e",
   "metadata": {},
   "outputs": [],
   "source": [
    "# Create an ee.ImageCollection variable named \"snow\"\n",
    "#   complete the following line of code\n",
    "snow = ee.ImageCollection(\"MODIS/006/MOD10A1\")"
   ]
  },
  {
   "cell_type": "code",
   "execution_count": 4,
   "id": "298330b8-c269-4b71-bbdc-3922ff18c11c",
   "metadata": {},
   "outputs": [
    {
     "data": {
      "text/plain": [
       "7859"
      ]
     },
     "execution_count": 4,
     "metadata": {},
     "output_type": "execute_result"
    }
   ],
   "source": [
    "# Find how many images are in the ImageCollection\n",
    "snow.size().getInfo()"
   ]
  },
  {
   "cell_type": "code",
   "execution_count": 5,
   "id": "ddb7758f-6e2d-4bf7-9b14-84cecc2a9c2b",
   "metadata": {
    "tags": []
   },
   "outputs": [
    {
     "data": {
      "text/plain": [
       "{'type': 'Image',\n",
       " 'bands': [{'id': 'NDSI_Snow_Cover',\n",
       "   'data_type': {'type': 'PixelType',\n",
       "    'precision': 'int',\n",
       "    'min': 0,\n",
       "    'max': 255},\n",
       "   'dimensions': [86400, 43200],\n",
       "   'crs': 'SR-ORG:6974',\n",
       "   'crs_transform': [463.312716528,\n",
       "    0,\n",
       "    -20015109.354,\n",
       "    0,\n",
       "    -463.312716527,\n",
       "    10007554.677]},\n",
       "  {'id': 'NDSI_Snow_Cover_Basic_QA',\n",
       "   'data_type': {'type': 'PixelType',\n",
       "    'precision': 'int',\n",
       "    'min': 0,\n",
       "    'max': 255},\n",
       "   'dimensions': [86400, 43200],\n",
       "   'crs': 'SR-ORG:6974',\n",
       "   'crs_transform': [463.312716528,\n",
       "    0,\n",
       "    -20015109.354,\n",
       "    0,\n",
       "    -463.312716527,\n",
       "    10007554.677]},\n",
       "  {'id': 'NDSI_Snow_Cover_Algorithm_Flags_QA',\n",
       "   'data_type': {'type': 'PixelType',\n",
       "    'precision': 'int',\n",
       "    'min': 0,\n",
       "    'max': 255},\n",
       "   'dimensions': [86400, 43200],\n",
       "   'crs': 'SR-ORG:6974',\n",
       "   'crs_transform': [463.312716528,\n",
       "    0,\n",
       "    -20015109.354,\n",
       "    0,\n",
       "    -463.312716527,\n",
       "    10007554.677]},\n",
       "  {'id': 'NDSI',\n",
       "   'data_type': {'type': 'PixelType',\n",
       "    'precision': 'int',\n",
       "    'min': -32768,\n",
       "    'max': 32767},\n",
       "   'dimensions': [86400, 43200],\n",
       "   'crs': 'SR-ORG:6974',\n",
       "   'crs_transform': [463.312716528,\n",
       "    0,\n",
       "    -20015109.354,\n",
       "    0,\n",
       "    -463.312716527,\n",
       "    10007554.677]},\n",
       "  {'id': 'Snow_Albedo_Daily_Tile',\n",
       "   'data_type': {'type': 'PixelType',\n",
       "    'precision': 'int',\n",
       "    'min': 0,\n",
       "    'max': 255},\n",
       "   'dimensions': [86400, 43200],\n",
       "   'crs': 'SR-ORG:6974',\n",
       "   'crs_transform': [463.312716528,\n",
       "    0,\n",
       "    -20015109.354,\n",
       "    0,\n",
       "    -463.312716527,\n",
       "    10007554.677]},\n",
       "  {'id': 'orbit_pnt',\n",
       "   'data_type': {'type': 'PixelType',\n",
       "    'precision': 'int',\n",
       "    'min': 0,\n",
       "    'max': 255},\n",
       "   'dimensions': [86400, 43200],\n",
       "   'crs': 'SR-ORG:6974',\n",
       "   'crs_transform': [463.312716528,\n",
       "    0,\n",
       "    -20015109.354,\n",
       "    0,\n",
       "    -463.312716527,\n",
       "    10007554.677]},\n",
       "  {'id': 'granule_pnt',\n",
       "   'data_type': {'type': 'PixelType',\n",
       "    'precision': 'int',\n",
       "    'min': 0,\n",
       "    'max': 255},\n",
       "   'dimensions': [86400, 43200],\n",
       "   'crs': 'SR-ORG:6974',\n",
       "   'crs_transform': [463.312716528,\n",
       "    0,\n",
       "    -20015109.354,\n",
       "    0,\n",
       "    -463.312716527,\n",
       "    10007554.677]},\n",
       "  {'id': 'NDSI_Snow_Cover_Class',\n",
       "   'data_type': {'type': 'PixelType',\n",
       "    'precision': 'int',\n",
       "    'min': 0,\n",
       "    'max': 255},\n",
       "   'dimensions': [86400, 43200],\n",
       "   'crs': 'SR-ORG:6974',\n",
       "   'crs_transform': [463.312716528,\n",
       "    0,\n",
       "    -20015109.354,\n",
       "    0,\n",
       "    -463.312716527,\n",
       "    10007554.677]},\n",
       "  {'id': 'Snow_Albedo_Daily_Tile_Class',\n",
       "   'data_type': {'type': 'PixelType',\n",
       "    'precision': 'int',\n",
       "    'min': 0,\n",
       "    'max': 255},\n",
       "   'dimensions': [86400, 43200],\n",
       "   'crs': 'SR-ORG:6974',\n",
       "   'crs_transform': [463.312716528,\n",
       "    0,\n",
       "    -20015109.354,\n",
       "    0,\n",
       "    -463.312716527,\n",
       "    10007554.677]}],\n",
       " 'version': 1541936909829165,\n",
       " 'id': 'MODIS/006/MOD10A1/2000_02_24',\n",
       " 'properties': {'system:time_start': 951350400000,\n",
       "  'system:footprint': {'type': 'LinearRing',\n",
       "   'coordinates': [[-180, -90],\n",
       "    [180, -90],\n",
       "    [180, 90],\n",
       "    [-180, 90],\n",
       "    [-180, -90]]},\n",
       "  'system:time_end': 951436800000,\n",
       "  'system:asset_size': 396169135,\n",
       "  'system:index': '2000_02_24'}}"
      ]
     },
     "execution_count": 5,
     "metadata": {},
     "output_type": "execute_result"
    }
   ],
   "source": [
    "# Use getInfo() to report the contents of the first Image of the 'snow' ImageCollection\n",
    "snow.first().getInfo()"
   ]
  },
  {
   "cell_type": "markdown",
   "id": "77d9d6ff-5d83-4b9f-b4ee-5930a4c6bece",
   "metadata": {},
   "source": [
    "oiol./Recognize above that, after `type` (`Image`), the different bands are all identified according to their\n",
    "`id` (name) and other information about the contents of the band.\n",
    "\n",
    "We want a simple, straightforward way to assess the percentage of a pixel (500 m x 500 m) that\n",
    "is snow covered.  So we need to find which band contains this information.  The Google Earth Engine\n",
    "Data Catalog suggests which band this might be, but it can be a little opaque.  To clarify the contents\n",
    "of the bands, go to the\n",
    "National Snow and Ice Data Center (NSIDC- which is a NASA data repository) and is the actual home/source\n",
    "of this data product.  Earth Engine serves it, but the product is really from NASA and is distributed\n",
    "by the NSIDC.  There are two ways this can be accessed from Earth Engine.  I've circled and\n",
    "drawn an arrow next to these options.\n",
    "\n",
    "<!-- ![title](find_documentation.png) -->\n",
    "<img src=\"find_documentation.png\" alt=\"alt text\" width=\"500\"/>\n",
    "\n",
    "Within the NSIDC dataset website, you'll find more information about the origin of the dataset, and\n",
    "how to use it.  You'll see multiple tabs, starting with \"Overview\" (basic metadata), \"Download\n",
    "Data\" (don't do it!  We're using Earth Engine!!!), \"Citing ...\", \"User Guide,\" etc.\n",
    "\n",
    "The User Guide describes the origin of these data, how they were processed, etc.  Give the User Guide\n",
    "pdf a look on the NSIDC website to decide which band to use going forward, as your best estimate\n",
    "of snow cover.\n"
   ]
  },
  {
   "cell_type": "markdown",
   "id": "f5aa09c9-bb00-4539-b201-77923e14b276",
   "metadata": {},
   "source": [
    "### Mean snow cover in Moscow\n",
    "Find the mean snow cover over all times at location just outside of Moscow.\n",
    "To avoid any impacts associated with the town itself (i.e., buildings, parking lots, plowing, etc.),\n",
    "choose a coordinate to `sample` that is just outside the developed regions of the town.  You might\n",
    "use Google Earth, or some other GIS software, to pick this coordinate."
   ]
  },
  {
   "cell_type": "code",
   "execution_count": 6,
   "id": "6b62e32c-6076-4a4c-acfc-258c2eabe2cb",
   "metadata": {},
   "outputs": [],
   "source": [
    "# Define the location of interest for Moscow.\n",
    "moscow_lon = -117.03# -117.00\n",
    "moscow_lat = 46.72#46.732\n",
    "moscow_lon = -116.98# -117.00\n",
    "moscow_lat = 46.75#46.732\n",
    "moscow_poi = ee.Geometry.Point(moscow_lon, moscow_lat)\n",
    "\n",
    "# Define the operative scale of the dataset.  This is important for defining how EE does its analyses.\n",
    "#    This should be the resolution of the data product.\n",
    "scale = 500  # scale in meters\n"
   ]
  },
  {
   "cell_type": "code",
   "execution_count": 7,
   "id": "41d98a29-be80-467d-ad35-92ab21618d01",
   "metadata": {},
   "outputs": [],
   "source": [
    "i_date = '2000-02-24' # Start date\n",
    "f_date = '2021-10-26' # End date\n",
    "\n",
    "snow = snow.select('NDSI_Snow_Cover').filterDate(i_date, f_date) # Select the NDSI_Snow_Cover band for all available dates\n",
    "\n",
    "moscow_lon = -116.94 \n",
    "moscow_lat = 46.78\n",
    "moscow_poi = ee.Geometry.Point(moscow_lon, moscow_lat) # Generate EarthEngine point just outside of Moscow\n",
    "\n",
    "snow_moscow_point = round(snow.mean().sample(moscow_poi, scale).first().get('NDSI_Snow_Cover').getInfo(), 2) # Determine the mean snow cover at the point outside Moscow"
   ]
  },
  {
   "cell_type": "code",
   "execution_count": 8,
   "id": "19ce4c92-9f69-4d5b-9db5-c3fa636eb0f1",
   "metadata": {},
   "outputs": [
    {
     "name": "stdout",
     "output_type": "stream",
     "text": [
      "For all dates, the mean snow cover of the point I sampled outside of Moscow is  5.57\n"
     ]
    }
   ],
   "source": [
    "print('For all dates, the mean snow cover of the point I sampled outside of Moscow is ',snow_moscow_point)"
   ]
  },
  {
   "cell_type": "markdown",
   "id": "348118a7-a409-4b36-9188-b1bb1ac9f83d",
   "metadata": {
    "tags": []
   },
   "source": [
    "### Visualize the mean snow cover\n",
    "\n",
    "Calculate the mean snow cover of the entire dataset.  For the region around Moscow, plot this mean snow cover."
   ]
  },
  {
   "cell_type": "code",
   "execution_count": 9,
   "id": "03423df4-13a0-41ff-a303-b4ff3b9c1187",
   "metadata": {},
   "outputs": [],
   "source": [
    "roi = moscow_poi.buffer(5e4) # Generate region of interest by buffering my point outside of Moscow\n",
    "snow_img = snow.mean() # Determine mean snow cover for the entire dataset"
   ]
  },
  {
   "cell_type": "code",
   "execution_count": 10,
   "id": "7d8931e7-255f-4a8f-8ce0-e3cb0f0e05a2",
   "metadata": {},
   "outputs": [
    {
     "data": {
      "text/html": [
       "<img src=\"https://earthengine.googleapis.com/v1alpha/projects/earthengine-legacy/thumbnails/10136bab4b91de8aff3847b07944da6c-8c1b4246b8c654cf1782e1653bbc8923:getPixels\"/>"
      ],
      "text/plain": [
       "<IPython.core.display.Image object>"
      ]
     },
     "execution_count": 10,
     "metadata": {},
     "output_type": "execute_result"
    }
   ],
   "source": [
    "from IPython.display import Image\n",
    "\n",
    "# Display mean snow cover around Moscow (50 km)\n",
    "\n",
    "Image(url = snow_img.getThumbUrl({\n",
    "    'min': 0, 'max': 10, 'dimensions': 512, 'region': roi,\n",
    "    'palette': ['blue', 'yellow', 'orange', 'red']}))"
   ]
  },
  {
   "cell_type": "code",
   "execution_count": 11,
   "id": "6f50f316-94b3-4742-8797-506b0805382f",
   "metadata": {},
   "outputs": [
    {
     "data": {
      "text/html": [
       "<img src=\"https://earthengine.googleapis.com/v1alpha/projects/earthengine-legacy/thumbnails/10136bab4b91de8aff3847b07944da6c-f8fcb616eeb9c6f9c24c5600259c5f04:getPixels\"/>"
      ],
      "text/plain": [
       "<IPython.core.display.Image object>"
      ]
     },
     "execution_count": 11,
     "metadata": {},
     "output_type": "execute_result"
    }
   ],
   "source": [
    "# Display mean snow cover around Moscow (100 km)\n",
    "\n",
    "Image(url = snow_img.getThumbUrl({\n",
    "    'min': 0, 'max': 10, 'dimensions': 512, 'region': roi,\n",
    "    'palette': ['blue', 'yellow', 'orange', 'red']}))"
   ]
  },
  {
   "cell_type": "markdown",
   "id": "ba0ecd2e-6878-402b-bf11-44fc09077b14",
   "metadata": {},
   "source": [
    "#### Set up a Folium map to explore the output data with"
   ]
  },
  {
   "cell_type": "code",
   "execution_count": 12,
   "id": "c01eb1b3-75fe-4044-8aab-aec0cc447caa",
   "metadata": {
    "tags": []
   },
   "outputs": [
    {
     "data": {
      "text/html": [
       "<div style=\"width:100%;\"><div style=\"position:relative;width:100%;height:0;padding-bottom:60%;\"><span style=\"color:#565656\">Make this Notebook Trusted to load map: File -> Trust Notebook</span><iframe src=\"about:blank\" style=\"position:absolute;width:100%;height:100%;left:0;top:0;border:none !important;\" data-html=%3C%21DOCTYPE%20html%3E%0A%3Chead%3E%20%20%20%20%0A%20%20%20%20%3Cmeta%20http-equiv%3D%22content-type%22%20content%3D%22text/html%3B%20charset%3DUTF-8%22%20/%3E%0A%20%20%20%20%0A%20%20%20%20%20%20%20%20%3Cscript%3E%0A%20%20%20%20%20%20%20%20%20%20%20%20L_NO_TOUCH%20%3D%20false%3B%0A%20%20%20%20%20%20%20%20%20%20%20%20L_DISABLE_3D%20%3D%20false%3B%0A%20%20%20%20%20%20%20%20%3C/script%3E%0A%20%20%20%20%0A%20%20%20%20%3Cstyle%3Ehtml%2C%20body%20%7Bwidth%3A%20100%25%3Bheight%3A%20100%25%3Bmargin%3A%200%3Bpadding%3A%200%3B%7D%3C/style%3E%0A%20%20%20%20%3Cstyle%3E%23map%20%7Bposition%3Aabsolute%3Btop%3A0%3Bbottom%3A0%3Bright%3A0%3Bleft%3A0%3B%7D%3C/style%3E%0A%20%20%20%20%3Cscript%20src%3D%22https%3A//cdn.jsdelivr.net/npm/leaflet%401.6.0/dist/leaflet.js%22%3E%3C/script%3E%0A%20%20%20%20%3Cscript%20src%3D%22https%3A//code.jquery.com/jquery-1.12.4.min.js%22%3E%3C/script%3E%0A%20%20%20%20%3Cscript%20src%3D%22https%3A//maxcdn.bootstrapcdn.com/bootstrap/3.2.0/js/bootstrap.min.js%22%3E%3C/script%3E%0A%20%20%20%20%3Cscript%20src%3D%22https%3A//cdnjs.cloudflare.com/ajax/libs/Leaflet.awesome-markers/2.0.2/leaflet.awesome-markers.js%22%3E%3C/script%3E%0A%20%20%20%20%3Clink%20rel%3D%22stylesheet%22%20href%3D%22https%3A//cdn.jsdelivr.net/npm/leaflet%401.6.0/dist/leaflet.css%22/%3E%0A%20%20%20%20%3Clink%20rel%3D%22stylesheet%22%20href%3D%22https%3A//maxcdn.bootstrapcdn.com/bootstrap/3.2.0/css/bootstrap.min.css%22/%3E%0A%20%20%20%20%3Clink%20rel%3D%22stylesheet%22%20href%3D%22https%3A//maxcdn.bootstrapcdn.com/bootstrap/3.2.0/css/bootstrap-theme.min.css%22/%3E%0A%20%20%20%20%3Clink%20rel%3D%22stylesheet%22%20href%3D%22https%3A//maxcdn.bootstrapcdn.com/font-awesome/4.6.3/css/font-awesome.min.css%22/%3E%0A%20%20%20%20%3Clink%20rel%3D%22stylesheet%22%20href%3D%22https%3A//cdnjs.cloudflare.com/ajax/libs/Leaflet.awesome-markers/2.0.2/leaflet.awesome-markers.css%22/%3E%0A%20%20%20%20%3Clink%20rel%3D%22stylesheet%22%20href%3D%22https%3A//cdn.jsdelivr.net/gh/python-visualization/folium/folium/templates/leaflet.awesome.rotate.min.css%22/%3E%0A%20%20%20%20%0A%20%20%20%20%20%20%20%20%20%20%20%20%3Cmeta%20name%3D%22viewport%22%20content%3D%22width%3Ddevice-width%2C%0A%20%20%20%20%20%20%20%20%20%20%20%20%20%20%20%20initial-scale%3D1.0%2C%20maximum-scale%3D1.0%2C%20user-scalable%3Dno%22%20/%3E%0A%20%20%20%20%20%20%20%20%20%20%20%20%3Cstyle%3E%0A%20%20%20%20%20%20%20%20%20%20%20%20%20%20%20%20%23map_487af796847a435bac5b868c81ef4cfb%20%7B%0A%20%20%20%20%20%20%20%20%20%20%20%20%20%20%20%20%20%20%20%20position%3A%20relative%3B%0A%20%20%20%20%20%20%20%20%20%20%20%20%20%20%20%20%20%20%20%20width%3A%20100.0%25%3B%0A%20%20%20%20%20%20%20%20%20%20%20%20%20%20%20%20%20%20%20%20height%3A%20100.0%25%3B%0A%20%20%20%20%20%20%20%20%20%20%20%20%20%20%20%20%20%20%20%20left%3A%200.0%25%3B%0A%20%20%20%20%20%20%20%20%20%20%20%20%20%20%20%20%20%20%20%20top%3A%200.0%25%3B%0A%20%20%20%20%20%20%20%20%20%20%20%20%20%20%20%20%7D%0A%20%20%20%20%20%20%20%20%20%20%20%20%3C/style%3E%0A%20%20%20%20%20%20%20%20%0A%3C/head%3E%0A%3Cbody%3E%20%20%20%20%0A%20%20%20%20%0A%20%20%20%20%20%20%20%20%20%20%20%20%3Cdiv%20class%3D%22folium-map%22%20id%3D%22map_487af796847a435bac5b868c81ef4cfb%22%20%3E%3C/div%3E%0A%20%20%20%20%20%20%20%20%0A%3C/body%3E%0A%3Cscript%3E%20%20%20%20%0A%20%20%20%20%0A%20%20%20%20%20%20%20%20%20%20%20%20var%20map_487af796847a435bac5b868c81ef4cfb%20%3D%20L.map%28%0A%20%20%20%20%20%20%20%20%20%20%20%20%20%20%20%20%22map_487af796847a435bac5b868c81ef4cfb%22%2C%0A%20%20%20%20%20%20%20%20%20%20%20%20%20%20%20%20%7B%0A%20%20%20%20%20%20%20%20%20%20%20%20%20%20%20%20%20%20%20%20center%3A%20%5B46.8%2C%20-117.0%5D%2C%0A%20%20%20%20%20%20%20%20%20%20%20%20%20%20%20%20%20%20%20%20crs%3A%20L.CRS.EPSG3857%2C%0A%20%20%20%20%20%20%20%20%20%20%20%20%20%20%20%20%20%20%20%20zoom%3A%2010%2C%0A%20%20%20%20%20%20%20%20%20%20%20%20%20%20%20%20%20%20%20%20zoomControl%3A%20true%2C%0A%20%20%20%20%20%20%20%20%20%20%20%20%20%20%20%20%20%20%20%20preferCanvas%3A%20false%2C%0A%20%20%20%20%20%20%20%20%20%20%20%20%20%20%20%20%7D%0A%20%20%20%20%20%20%20%20%20%20%20%20%29%3B%0A%0A%20%20%20%20%20%20%20%20%20%20%20%20%0A%0A%20%20%20%20%20%20%20%20%0A%20%20%20%20%0A%20%20%20%20%20%20%20%20%20%20%20%20var%20tile_layer_d2b537214bc348c9982328ec43fa43e8%20%3D%20L.tileLayer%28%0A%20%20%20%20%20%20%20%20%20%20%20%20%20%20%20%20%22https%3A//%7Bs%7D.tile.openstreetmap.org/%7Bz%7D/%7Bx%7D/%7By%7D.png%22%2C%0A%20%20%20%20%20%20%20%20%20%20%20%20%20%20%20%20%7B%22attribution%22%3A%20%22Data%20by%20%5Cu0026copy%3B%20%5Cu003ca%20href%3D%5C%22http%3A//openstreetmap.org%5C%22%5Cu003eOpenStreetMap%5Cu003c/a%5Cu003e%2C%20under%20%5Cu003ca%20href%3D%5C%22http%3A//www.openstreetmap.org/copyright%5C%22%5Cu003eODbL%5Cu003c/a%5Cu003e.%22%2C%20%22detectRetina%22%3A%20false%2C%20%22maxNativeZoom%22%3A%2018%2C%20%22maxZoom%22%3A%2018%2C%20%22minZoom%22%3A%200%2C%20%22noWrap%22%3A%20false%2C%20%22opacity%22%3A%201%2C%20%22subdomains%22%3A%20%22abc%22%2C%20%22tms%22%3A%20false%7D%0A%20%20%20%20%20%20%20%20%20%20%20%20%29.addTo%28map_487af796847a435bac5b868c81ef4cfb%29%3B%0A%20%20%20%20%20%20%20%20%0A%20%20%20%20%0A%20%20%20%20%20%20%20%20%20%20%20%20var%20tile_layer_c730682151eb41758b7faf1dcb2310ec%20%3D%20L.tileLayer%28%0A%20%20%20%20%20%20%20%20%20%20%20%20%20%20%20%20%22https%3A//earthengine.googleapis.com/v1alpha/projects/earthengine-legacy/maps/2cdb7172da4db3bb6acb239a27bdcd45-8612c0bb998c8c91d176bd99803e3bba/tiles/%7Bz%7D/%7Bx%7D/%7By%7D%22%2C%0A%20%20%20%20%20%20%20%20%20%20%20%20%20%20%20%20%7B%22attribution%22%3A%20%22Map%20Data%20%5Cu0026copy%3B%20%5Cu003ca%20href%3D%5C%22https%3A//earthengine.google.com/%5C%22%5Cu003eGoogle%20Earth%20Engine%5Cu003c/a%5Cu003e%22%2C%20%22detectRetina%22%3A%20false%2C%20%22maxNativeZoom%22%3A%2018%2C%20%22maxZoom%22%3A%2018%2C%20%22minZoom%22%3A%200%2C%20%22noWrap%22%3A%20false%2C%20%22opacity%22%3A%201%2C%20%22subdomains%22%3A%20%22abc%22%2C%20%22tms%22%3A%20false%7D%0A%20%20%20%20%20%20%20%20%20%20%20%20%29.addTo%28map_487af796847a435bac5b868c81ef4cfb%29%3B%0A%20%20%20%20%20%20%20%20%0A%20%20%20%20%0A%20%20%20%20%20%20%20%20%20%20%20%20var%20layer_control_478396798fd74afdaccfefe86f6c49b5%20%3D%20%7B%0A%20%20%20%20%20%20%20%20%20%20%20%20%20%20%20%20base_layers%20%3A%20%7B%0A%20%20%20%20%20%20%20%20%20%20%20%20%20%20%20%20%20%20%20%20%22openstreetmap%22%20%3A%20tile_layer_d2b537214bc348c9982328ec43fa43e8%2C%0A%20%20%20%20%20%20%20%20%20%20%20%20%20%20%20%20%7D%2C%0A%20%20%20%20%20%20%20%20%20%20%20%20%20%20%20%20overlays%20%3A%20%20%7B%0A%20%20%20%20%20%20%20%20%20%20%20%20%20%20%20%20%20%20%20%20%22DEM%22%20%3A%20tile_layer_c730682151eb41758b7faf1dcb2310ec%2C%0A%20%20%20%20%20%20%20%20%20%20%20%20%20%20%20%20%7D%2C%0A%20%20%20%20%20%20%20%20%20%20%20%20%7D%3B%0A%20%20%20%20%20%20%20%20%20%20%20%20L.control.layers%28%0A%20%20%20%20%20%20%20%20%20%20%20%20%20%20%20%20layer_control_478396798fd74afdaccfefe86f6c49b5.base_layers%2C%0A%20%20%20%20%20%20%20%20%20%20%20%20%20%20%20%20layer_control_478396798fd74afdaccfefe86f6c49b5.overlays%2C%0A%20%20%20%20%20%20%20%20%20%20%20%20%20%20%20%20%7B%22autoZIndex%22%3A%20true%2C%20%22collapsed%22%3A%20false%2C%20%22position%22%3A%20%22topright%22%7D%0A%20%20%20%20%20%20%20%20%20%20%20%20%29.addTo%28map_487af796847a435bac5b868c81ef4cfb%29%3B%0A%20%20%20%20%20%20%20%20%0A%3C/script%3E onload=\"this.contentDocument.open();this.contentDocument.write(    decodeURIComponent(this.getAttribute('data-html')));this.contentDocument.close();\" allowfullscreen webkitallowfullscreen mozallowfullscreen></iframe></div></div>"
      ],
      "text/plain": [
       "<folium.folium.Map at 0x11ace00a0>"
      ]
     },
     "metadata": {},
     "output_type": "display_data"
    }
   ],
   "source": [
    "elev = ee.Image('USGS/SRTMGL1_003') # Read in the STRM dataset as an EE Image\n",
    "\n",
    "# Define a method for displaying Earth Engine image tiles to folium map.\n",
    "def add_ee_layer(self, ee_image_object, vis_params, name):\n",
    "  map_id_dict = ee.Image(ee_image_object).getMapId(vis_params)\n",
    "  folium.raster_layers.TileLayer(\n",
    "    tiles = map_id_dict['tile_fetcher'].url_format,\n",
    "    attr = 'Map Data &copy; <a href=\"https://earthengine.google.com/\">Google Earth Engine</a>',\n",
    "    name = name,\n",
    "    overlay = True,\n",
    "    control = True\n",
    "  ).add_to(self)\n",
    "\n",
    "# Add EE drawing method to folium.\n",
    "folium.Map.add_ee_layer = add_ee_layer\n",
    "\n",
    "# Create a folium map object.\n",
    "my_map = folium.Map(location=[46.8, -117], zoom_start=10)\n",
    "\n",
    "# Set visualization parameters for the elevation dataset\n",
    "elev_params = {\n",
    "  'min': 0,\n",
    "  'max': 4000,\n",
    "  'palette': ['006633', 'E5FFCC', '662A00', 'D8D8D8', 'F5F5F5']}\n",
    "# Add the elevation model to the map object.\n",
    "my_map.add_ee_layer(elev, elev_params, 'DEM')\n",
    "\n",
    "# Add a layer control panel to the map.\n",
    "# my_map.add_child(folium.LayerControl())\n",
    "folium.LayerControl(collapsed = False).add_to(my_map)\n",
    "\n",
    "# Display the map.\n",
    "display(my_map)"
   ]
  },
  {
   "cell_type": "markdown",
   "id": "0c79fea0-9989-45e2-aa1e-0cadca2f2b7e",
   "metadata": {
    "tags": []
   },
   "source": [
    "### Interpretting the snow cover\n",
    "Add a layer to the Folium map above that includes the mean of all the snow cover measurements.\n",
    "Note in the map above there there are only a few lines used to define the `elev_params` and then one \n",
    "line that uses `add_ee_layer` to add the `elev` dataset to the map.  You can reproduce (and modify)\n",
    "these lines to show your map of mean snow cover.\n",
    "\n",
    "Write a few sentences to interpret the spatial patterns in mean snow cover in the several 10s of km\n",
    "basin surrounding Moscow."
   ]
  },
  {
   "cell_type": "code",
   "execution_count": 13,
   "id": "a3cc3fb4-921d-4e9f-bd48-993bf8563cb5",
   "metadata": {},
   "outputs": [
    {
     "data": {
      "text/html": [
       "<div style=\"width:100%;\"><div style=\"position:relative;width:100%;height:0;padding-bottom:60%;\"><span style=\"color:#565656\">Make this Notebook Trusted to load map: File -> Trust Notebook</span><iframe src=\"about:blank\" style=\"position:absolute;width:100%;height:100%;left:0;top:0;border:none !important;\" data-html=%3C%21DOCTYPE%20html%3E%0A%3Chead%3E%20%20%20%20%0A%20%20%20%20%3Cmeta%20http-equiv%3D%22content-type%22%20content%3D%22text/html%3B%20charset%3DUTF-8%22%20/%3E%0A%20%20%20%20%0A%20%20%20%20%20%20%20%20%3Cscript%3E%0A%20%20%20%20%20%20%20%20%20%20%20%20L_NO_TOUCH%20%3D%20false%3B%0A%20%20%20%20%20%20%20%20%20%20%20%20L_DISABLE_3D%20%3D%20false%3B%0A%20%20%20%20%20%20%20%20%3C/script%3E%0A%20%20%20%20%0A%20%20%20%20%3Cstyle%3Ehtml%2C%20body%20%7Bwidth%3A%20100%25%3Bheight%3A%20100%25%3Bmargin%3A%200%3Bpadding%3A%200%3B%7D%3C/style%3E%0A%20%20%20%20%3Cstyle%3E%23map%20%7Bposition%3Aabsolute%3Btop%3A0%3Bbottom%3A0%3Bright%3A0%3Bleft%3A0%3B%7D%3C/style%3E%0A%20%20%20%20%3Cscript%20src%3D%22https%3A//cdn.jsdelivr.net/npm/leaflet%401.6.0/dist/leaflet.js%22%3E%3C/script%3E%0A%20%20%20%20%3Cscript%20src%3D%22https%3A//code.jquery.com/jquery-1.12.4.min.js%22%3E%3C/script%3E%0A%20%20%20%20%3Cscript%20src%3D%22https%3A//maxcdn.bootstrapcdn.com/bootstrap/3.2.0/js/bootstrap.min.js%22%3E%3C/script%3E%0A%20%20%20%20%3Cscript%20src%3D%22https%3A//cdnjs.cloudflare.com/ajax/libs/Leaflet.awesome-markers/2.0.2/leaflet.awesome-markers.js%22%3E%3C/script%3E%0A%20%20%20%20%3Clink%20rel%3D%22stylesheet%22%20href%3D%22https%3A//cdn.jsdelivr.net/npm/leaflet%401.6.0/dist/leaflet.css%22/%3E%0A%20%20%20%20%3Clink%20rel%3D%22stylesheet%22%20href%3D%22https%3A//maxcdn.bootstrapcdn.com/bootstrap/3.2.0/css/bootstrap.min.css%22/%3E%0A%20%20%20%20%3Clink%20rel%3D%22stylesheet%22%20href%3D%22https%3A//maxcdn.bootstrapcdn.com/bootstrap/3.2.0/css/bootstrap-theme.min.css%22/%3E%0A%20%20%20%20%3Clink%20rel%3D%22stylesheet%22%20href%3D%22https%3A//maxcdn.bootstrapcdn.com/font-awesome/4.6.3/css/font-awesome.min.css%22/%3E%0A%20%20%20%20%3Clink%20rel%3D%22stylesheet%22%20href%3D%22https%3A//cdnjs.cloudflare.com/ajax/libs/Leaflet.awesome-markers/2.0.2/leaflet.awesome-markers.css%22/%3E%0A%20%20%20%20%3Clink%20rel%3D%22stylesheet%22%20href%3D%22https%3A//cdn.jsdelivr.net/gh/python-visualization/folium/folium/templates/leaflet.awesome.rotate.min.css%22/%3E%0A%20%20%20%20%0A%20%20%20%20%20%20%20%20%20%20%20%20%3Cmeta%20name%3D%22viewport%22%20content%3D%22width%3Ddevice-width%2C%0A%20%20%20%20%20%20%20%20%20%20%20%20%20%20%20%20initial-scale%3D1.0%2C%20maximum-scale%3D1.0%2C%20user-scalable%3Dno%22%20/%3E%0A%20%20%20%20%20%20%20%20%20%20%20%20%3Cstyle%3E%0A%20%20%20%20%20%20%20%20%20%20%20%20%20%20%20%20%23map_0bf4cc5d391244be961120fb563bf280%20%7B%0A%20%20%20%20%20%20%20%20%20%20%20%20%20%20%20%20%20%20%20%20position%3A%20relative%3B%0A%20%20%20%20%20%20%20%20%20%20%20%20%20%20%20%20%20%20%20%20width%3A%20100.0%25%3B%0A%20%20%20%20%20%20%20%20%20%20%20%20%20%20%20%20%20%20%20%20height%3A%20100.0%25%3B%0A%20%20%20%20%20%20%20%20%20%20%20%20%20%20%20%20%20%20%20%20left%3A%200.0%25%3B%0A%20%20%20%20%20%20%20%20%20%20%20%20%20%20%20%20%20%20%20%20top%3A%200.0%25%3B%0A%20%20%20%20%20%20%20%20%20%20%20%20%20%20%20%20%7D%0A%20%20%20%20%20%20%20%20%20%20%20%20%3C/style%3E%0A%20%20%20%20%20%20%20%20%0A%3C/head%3E%0A%3Cbody%3E%20%20%20%20%0A%20%20%20%20%0A%20%20%20%20%20%20%20%20%20%20%20%20%3Cdiv%20class%3D%22folium-map%22%20id%3D%22map_0bf4cc5d391244be961120fb563bf280%22%20%3E%3C/div%3E%0A%20%20%20%20%20%20%20%20%0A%3C/body%3E%0A%3Cscript%3E%20%20%20%20%0A%20%20%20%20%0A%20%20%20%20%20%20%20%20%20%20%20%20var%20map_0bf4cc5d391244be961120fb563bf280%20%3D%20L.map%28%0A%20%20%20%20%20%20%20%20%20%20%20%20%20%20%20%20%22map_0bf4cc5d391244be961120fb563bf280%22%2C%0A%20%20%20%20%20%20%20%20%20%20%20%20%20%20%20%20%7B%0A%20%20%20%20%20%20%20%20%20%20%20%20%20%20%20%20%20%20%20%20center%3A%20%5B46.8%2C%20-117.0%5D%2C%0A%20%20%20%20%20%20%20%20%20%20%20%20%20%20%20%20%20%20%20%20crs%3A%20L.CRS.EPSG3857%2C%0A%20%20%20%20%20%20%20%20%20%20%20%20%20%20%20%20%20%20%20%20zoom%3A%2010%2C%0A%20%20%20%20%20%20%20%20%20%20%20%20%20%20%20%20%20%20%20%20zoomControl%3A%20true%2C%0A%20%20%20%20%20%20%20%20%20%20%20%20%20%20%20%20%20%20%20%20preferCanvas%3A%20false%2C%0A%20%20%20%20%20%20%20%20%20%20%20%20%20%20%20%20%7D%0A%20%20%20%20%20%20%20%20%20%20%20%20%29%3B%0A%0A%20%20%20%20%20%20%20%20%20%20%20%20%0A%0A%20%20%20%20%20%20%20%20%0A%20%20%20%20%0A%20%20%20%20%20%20%20%20%20%20%20%20var%20tile_layer_66eb951045394ec28d4b317ddf0ea388%20%3D%20L.tileLayer%28%0A%20%20%20%20%20%20%20%20%20%20%20%20%20%20%20%20%22https%3A//%7Bs%7D.tile.openstreetmap.org/%7Bz%7D/%7Bx%7D/%7By%7D.png%22%2C%0A%20%20%20%20%20%20%20%20%20%20%20%20%20%20%20%20%7B%22attribution%22%3A%20%22Data%20by%20%5Cu0026copy%3B%20%5Cu003ca%20href%3D%5C%22http%3A//openstreetmap.org%5C%22%5Cu003eOpenStreetMap%5Cu003c/a%5Cu003e%2C%20under%20%5Cu003ca%20href%3D%5C%22http%3A//www.openstreetmap.org/copyright%5C%22%5Cu003eODbL%5Cu003c/a%5Cu003e.%22%2C%20%22detectRetina%22%3A%20false%2C%20%22maxNativeZoom%22%3A%2018%2C%20%22maxZoom%22%3A%2018%2C%20%22minZoom%22%3A%200%2C%20%22noWrap%22%3A%20false%2C%20%22opacity%22%3A%201%2C%20%22subdomains%22%3A%20%22abc%22%2C%20%22tms%22%3A%20false%7D%0A%20%20%20%20%20%20%20%20%20%20%20%20%29.addTo%28map_0bf4cc5d391244be961120fb563bf280%29%3B%0A%20%20%20%20%20%20%20%20%0A%20%20%20%20%0A%20%20%20%20%20%20%20%20%20%20%20%20var%20tile_layer_c01df34dda574c9aa26d89b3418b4c78%20%3D%20L.tileLayer%28%0A%20%20%20%20%20%20%20%20%20%20%20%20%20%20%20%20%22https%3A//earthengine.googleapis.com/v1alpha/projects/earthengine-legacy/maps/2cdb7172da4db3bb6acb239a27bdcd45-12a7f648328cb4b0da77becc0f57b87e/tiles/%7Bz%7D/%7Bx%7D/%7By%7D%22%2C%0A%20%20%20%20%20%20%20%20%20%20%20%20%20%20%20%20%7B%22attribution%22%3A%20%22Map%20Data%20%5Cu0026copy%3B%20%5Cu003ca%20href%3D%5C%22https%3A//earthengine.google.com/%5C%22%5Cu003eGoogle%20Earth%20Engine%5Cu003c/a%5Cu003e%22%2C%20%22detectRetina%22%3A%20false%2C%20%22maxNativeZoom%22%3A%2018%2C%20%22maxZoom%22%3A%2018%2C%20%22minZoom%22%3A%200%2C%20%22noWrap%22%3A%20false%2C%20%22opacity%22%3A%201%2C%20%22subdomains%22%3A%20%22abc%22%2C%20%22tms%22%3A%20false%7D%0A%20%20%20%20%20%20%20%20%20%20%20%20%29.addTo%28map_0bf4cc5d391244be961120fb563bf280%29%3B%0A%20%20%20%20%20%20%20%20%0A%20%20%20%20%0A%20%20%20%20%20%20%20%20%20%20%20%20var%20tile_layer_b857061a95714bb49105a6c0c5424b25%20%3D%20L.tileLayer%28%0A%20%20%20%20%20%20%20%20%20%20%20%20%20%20%20%20%22https%3A//earthengine.googleapis.com/v1alpha/projects/earthengine-legacy/maps/a4d50e13e2de7aaced9a6056843db3c0-6d0fe349e796c2ca525adf1eeb305a57/tiles/%7Bz%7D/%7Bx%7D/%7By%7D%22%2C%0A%20%20%20%20%20%20%20%20%20%20%20%20%20%20%20%20%7B%22attribution%22%3A%20%22Map%20Data%20%5Cu0026copy%3B%20%5Cu003ca%20href%3D%5C%22https%3A//earthengine.google.com/%5C%22%5Cu003eGoogle%20Earth%20Engine%5Cu003c/a%5Cu003e%22%2C%20%22detectRetina%22%3A%20false%2C%20%22maxNativeZoom%22%3A%2018%2C%20%22maxZoom%22%3A%2018%2C%20%22minZoom%22%3A%200%2C%20%22noWrap%22%3A%20false%2C%20%22opacity%22%3A%201%2C%20%22subdomains%22%3A%20%22abc%22%2C%20%22tms%22%3A%20false%7D%0A%20%20%20%20%20%20%20%20%20%20%20%20%29.addTo%28map_0bf4cc5d391244be961120fb563bf280%29%3B%0A%20%20%20%20%20%20%20%20%0A%20%20%20%20%0A%20%20%20%20%20%20%20%20%20%20%20%20var%20layer_control_0603f988f67e441e9abc3de173b83de3%20%3D%20%7B%0A%20%20%20%20%20%20%20%20%20%20%20%20%20%20%20%20base_layers%20%3A%20%7B%0A%20%20%20%20%20%20%20%20%20%20%20%20%20%20%20%20%20%20%20%20%22openstreetmap%22%20%3A%20tile_layer_66eb951045394ec28d4b317ddf0ea388%2C%0A%20%20%20%20%20%20%20%20%20%20%20%20%20%20%20%20%7D%2C%0A%20%20%20%20%20%20%20%20%20%20%20%20%20%20%20%20overlays%20%3A%20%20%7B%0A%20%20%20%20%20%20%20%20%20%20%20%20%20%20%20%20%20%20%20%20%22DEM%22%20%3A%20tile_layer_c01df34dda574c9aa26d89b3418b4c78%2C%0A%20%20%20%20%20%20%20%20%20%20%20%20%20%20%20%20%20%20%20%20%22Mean%20Snow%20Cover%22%20%3A%20tile_layer_b857061a95714bb49105a6c0c5424b25%2C%0A%20%20%20%20%20%20%20%20%20%20%20%20%20%20%20%20%7D%2C%0A%20%20%20%20%20%20%20%20%20%20%20%20%7D%3B%0A%20%20%20%20%20%20%20%20%20%20%20%20L.control.layers%28%0A%20%20%20%20%20%20%20%20%20%20%20%20%20%20%20%20layer_control_0603f988f67e441e9abc3de173b83de3.base_layers%2C%0A%20%20%20%20%20%20%20%20%20%20%20%20%20%20%20%20layer_control_0603f988f67e441e9abc3de173b83de3.overlays%2C%0A%20%20%20%20%20%20%20%20%20%20%20%20%20%20%20%20%7B%22autoZIndex%22%3A%20true%2C%20%22collapsed%22%3A%20false%2C%20%22position%22%3A%20%22topright%22%7D%0A%20%20%20%20%20%20%20%20%20%20%20%20%29.addTo%28map_0bf4cc5d391244be961120fb563bf280%29%3B%0A%20%20%20%20%20%20%20%20%0A%3C/script%3E onload=\"this.contentDocument.open();this.contentDocument.write(    decodeURIComponent(this.getAttribute('data-html')));this.contentDocument.close();\" allowfullscreen webkitallowfullscreen mozallowfullscreen></iframe></div></div>"
      ],
      "text/plain": [
       "<folium.folium.Map at 0x11abe7b20>"
      ]
     },
     "metadata": {},
     "output_type": "display_data"
    }
   ],
   "source": [
    "# Create a folium map object.\n",
    "my_map = folium.Map(location=[46.8, -117], zoom_start=10)\n",
    "\n",
    "# Set visualization parameters for the elevation dataset\n",
    "elev_params = {\n",
    "  'min': 0,\n",
    "  'max': 4000,\n",
    "  'palette': ['006633', 'E5FFCC', '662A00', 'D8D8D8', 'F5F5F5']}\n",
    "# Add the elevation model to the map object.\n",
    "my_map.add_ee_layer(elev, elev_params, 'DEM')\n",
    "\n",
    "# Set visualization parameters for the mean snow cover dataset\n",
    "snow_params = {\n",
    "  'min': 0,\n",
    "  'max': 10,\n",
    "  'palette': ['blue', 'yellow', 'orange', 'red']}\n",
    "\n",
    "# Add the mean snow cover tile to the map object\n",
    "my_map.add_ee_layer(snow_img, snow_params, 'Mean Snow Cover')\n",
    "\n",
    "# Add a layer control panel to the map\n",
    "folium.LayerControl(collapsed = False).add_to(my_map)\n",
    "\n",
    "# Display the map\n",
    "display(my_map)"
   ]
  },
  {
   "cell_type": "markdown",
   "id": "11889865-f523-4282-8ca1-9bcb1fa7de91",
   "metadata": {},
   "source": [
    "* As expected, the mean snow cover is lower at low-lying areas (blues), such as river basins; similarly, the snow cover is greatest at topographic highs (reds), such as Moscow Mountain and the Rockies. Immediately surrounding Moscow, the snow cover is farily uniform, which is likely due to consistent topography (rolling hills, plains). The spatial pattern of mean snow cover is most definitely related to elevation and the temperatures associated with these elevations."
   ]
  },
  {
   "cell_type": "markdown",
   "id": "d38f49d6-970e-44e3-af0c-fe53c84c1581",
   "metadata": {},
   "source": [
    "## Examining time series of snow cover around Moscow\n",
    "Your goal now is to produce a time series of snow cover (from MODIS NDSI) near Moscow (but again, just outside Moscow, to\n",
    "avoide city effects)."
   ]
  },
  {
   "cell_type": "markdown",
   "id": "b7795616-6c78-474e-ae2f-a86dba21d370",
   "metadata": {},
   "source": [
    "Again, following the example from the [Python API tutorial](https://developers.google.com/earth-engine/tutorials/community/intro-to-python-api-guiattard).\n",
    "Produce an array (technically a list of lists in this case) with all of the snow cover measurements of your Moscow\n",
    "coordinates."
   ]
  },
  {
   "cell_type": "code",
   "execution_count": 15,
   "id": "aaecac1f-171e-4310-9839-d0ef12888990",
   "metadata": {},
   "outputs": [
    {
     "data": {
      "text/plain": [
       "ee.imagecollection.ImageCollection"
      ]
     },
     "execution_count": 15,
     "metadata": {},
     "output_type": "execute_result"
    }
   ],
   "source": [
    "type(snow)"
   ]
  },
  {
   "cell_type": "code",
   "execution_count": 17,
   "id": "3a504f5a-4c83-43ec-9255-21d20c1234fd",
   "metadata": {},
   "outputs": [
    {
     "data": {
      "text/plain": [
       "ee.Geometry({\n",
       "  \"functionInvocationValue\": {\n",
       "    \"functionName\": \"GeometryConstructors.Point\",\n",
       "    \"arguments\": {\n",
       "      \"coordinates\": {\n",
       "        \"constantValue\": [\n",
       "          -116.94,\n",
       "          46.78\n",
       "        ]\n",
       "      }\n",
       "    }\n",
       "  }\n",
       "})"
      ]
     },
     "execution_count": 17,
     "metadata": {},
     "output_type": "execute_result"
    }
   ],
   "source": [
    "moscow_poi"
   ]
  },
  {
   "cell_type": "code",
   "execution_count": 18,
   "id": "3b7e81a8-3449-40c3-a332-8b77d060573f",
   "metadata": {},
   "outputs": [
    {
     "data": {
      "text/plain": [
       "[['id', 'longitude', 'latitude', 'time', 'NDSI_Snow_Cover'],\n",
       " ['2000_02_24', -116.94043789846901, 46.78201420873438, 951350400000, None],\n",
       " ['2000_02_25', -116.94043789846901, 46.78201420873438, 951436800000, 14]]"
      ]
     },
     "execution_count": 18,
     "metadata": {},
     "output_type": "execute_result"
    }
   ],
   "source": [
    "snow_moscow_poi = snow.getRegion(moscow_poi, scale).getInfo() # Get the data for the pixel intersecting the point outside Moscow\n",
    "snow_moscow_poi[:3]"
   ]
  },
  {
   "cell_type": "code",
   "execution_count": 19,
   "id": "e70b16e9-68e3-40b6-9723-5ac957823387",
   "metadata": {},
   "outputs": [],
   "source": [
    "# Function to transform the EE array (list of lists) into a pandas dataframe\n",
    "def ee_array_to_df(arr, list_of_bands):\n",
    "    \"\"\"Transforms client-side ee.Image.getRegion array to pandas.DataFrame.\"\"\"\n",
    "    df = pd.DataFrame(arr)\n",
    "\n",
    "    # Rearrange the header.\n",
    "    headers = df.iloc[0]\n",
    "    df = pd.DataFrame(df.values[1:], columns=headers)\n",
    "\n",
    "    # Remove rows without data inside.\n",
    "    df = df[['longitude', 'latitude', 'time', *list_of_bands]].dropna()\n",
    "\n",
    "    # Convert the data to numeric values.\n",
    "    for band in list_of_bands:\n",
    "        df[band] = pd.to_numeric(df[band], errors='coerce')\n",
    "\n",
    "    # Convert the time field into a datetime.\n",
    "    df['datetime'] = pd.to_datetime(df['time'], unit='ms')\n",
    "\n",
    "    # Keep the columns of interest.\n",
    "    df = df[['time','datetime',  *list_of_bands]]\n",
    "\n",
    "    return df"
   ]
  },
  {
   "cell_type": "markdown",
   "id": "1b651038-7db8-44b0-b243-0045beea0780",
   "metadata": {},
   "source": [
    "Use the function above to create a DataFrame that includes snow cover as a function of time.  Show\n",
    "that DataFrame below."
   ]
  },
  {
   "cell_type": "code",
   "execution_count": 20,
   "id": "7c62bd61-bc49-4f3d-b337-32209b31ca31",
   "metadata": {},
   "outputs": [
    {
     "data": {
      "text/html": [
       "<div>\n",
       "<style scoped>\n",
       "    .dataframe tbody tr th:only-of-type {\n",
       "        vertical-align: middle;\n",
       "    }\n",
       "\n",
       "    .dataframe tbody tr th {\n",
       "        vertical-align: top;\n",
       "    }\n",
       "\n",
       "    .dataframe thead th {\n",
       "        text-align: right;\n",
       "    }\n",
       "</style>\n",
       "<table border=\"1\" class=\"dataframe\">\n",
       "  <thead>\n",
       "    <tr style=\"text-align: right;\">\n",
       "      <th></th>\n",
       "      <th>time</th>\n",
       "      <th>datetime</th>\n",
       "      <th>NDSI_Snow_Cover</th>\n",
       "    </tr>\n",
       "  </thead>\n",
       "  <tbody>\n",
       "    <tr>\n",
       "      <th>1</th>\n",
       "      <td>951436800000</td>\n",
       "      <td>2000-02-25</td>\n",
       "      <td>14</td>\n",
       "    </tr>\n",
       "    <tr>\n",
       "      <th>15</th>\n",
       "      <td>952646400000</td>\n",
       "      <td>2000-03-10</td>\n",
       "      <td>0</td>\n",
       "    </tr>\n",
       "    <tr>\n",
       "      <th>17</th>\n",
       "      <td>952819200000</td>\n",
       "      <td>2000-03-12</td>\n",
       "      <td>0</td>\n",
       "    </tr>\n",
       "    <tr>\n",
       "      <th>28</th>\n",
       "      <td>953769600000</td>\n",
       "      <td>2000-03-23</td>\n",
       "      <td>0</td>\n",
       "    </tr>\n",
       "    <tr>\n",
       "      <th>31</th>\n",
       "      <td>954028800000</td>\n",
       "      <td>2000-03-26</td>\n",
       "      <td>0</td>\n",
       "    </tr>\n",
       "  </tbody>\n",
       "</table>\n",
       "</div>"
      ],
      "text/plain": [
       "0           time   datetime  NDSI_Snow_Cover\n",
       "1   951436800000 2000-02-25               14\n",
       "15  952646400000 2000-03-10                0\n",
       "17  952819200000 2000-03-12                0\n",
       "28  953769600000 2000-03-23                0\n",
       "31  954028800000 2000-03-26                0"
      ]
     },
     "execution_count": 20,
     "metadata": {},
     "output_type": "execute_result"
    }
   ],
   "source": [
    "snow_df_moscow = ee_array_to_df(snow_moscow_poi,['NDSI_Snow_Cover']) # Use function above to convert the EE array to a pandas DataFrame\n",
    "snow_df_moscow.head()"
   ]
  },
  {
   "cell_type": "markdown",
   "id": "1dc06c59-65ee-4b38-bd72-0972c4473fc8",
   "metadata": {
    "tags": []
   },
   "source": [
    "Create a plot of the snow cover as a function of time, for the full time series, up to the present."
   ]
  },
  {
   "cell_type": "code",
   "execution_count": 22,
   "id": "c9d8019f-542a-485f-a147-1d0dc4837466",
   "metadata": {},
   "outputs": [
    {
     "data": {
      "application/vnd.jupyter.widget-view+json": {
       "model_id": "ea9906edacb640b1955630c6089958da",
       "version_major": 2,
       "version_minor": 0
      },
      "text/plain": [
       "Canvas(toolbar=Toolbar(toolitems=[('Home', 'Reset original view', 'home', 'home'), ('Back', 'Back to previous …"
      ]
     },
     "metadata": {},
     "output_type": "display_data"
    },
    {
     "data": {
      "text/plain": [
       "Text(0, 0.5, 'Snow Cover (NDSI)')"
      ]
     },
     "execution_count": 22,
     "metadata": {},
     "output_type": "execute_result"
    }
   ],
   "source": [
    "%matplotlib widget\n",
    "import matplotlib.pyplot as plt\n",
    "fig, ax = plt.subplots(figsize=(10,5))\n",
    "\n",
    "ax.scatter(snow_df_moscow['datetime'], snow_df_moscow['NDSI_Snow_Cover']) # Scatter snow cover as a function of time\n",
    "\n",
    "ax.set_title('Snow Cover (NDSI) near Moscow, ID', fontsize=16, weight='bold')\n",
    "ax.set_xlabel('Date', fontsize=12)\n",
    "ax.set_ylabel('Snow Cover (NDSI)', fontsize=12)"
   ]
  },
  {
   "cell_type": "markdown",
   "id": "6fce544f-8bbf-47c7-b2c9-e733b47ffe05",
   "metadata": {
    "tags": []
   },
   "source": [
    "### Commonality of early snowfalls\n",
    "\n",
    "Last year, in 2020, a heavy snow fell on October 23-24, while there were still many leaves on\n",
    "the trees.  This caused power outages and brought down many many tree limbs across Moscow (see\n",
    "evidence of this below, with a truck ready to head for one of Many trips to the city's yard\n",
    "waste dump that day).\n",
    "\n",
    "<img src=\"early_snow.jpg\" alt=\"alt text\" width=\"500\"/>\n",
    "\n",
    "How typical are these early season snow storms in Moscow?  Has there been October snow\n",
    "accumulation in any of the prior 5 or so years?"
   ]
  },
  {
   "cell_type": "code",
   "execution_count": 139,
   "id": "06fe0d81-c511-4d3e-b370-1747cf534cac",
   "metadata": {},
   "outputs": [
    {
     "name": "stdout",
     "output_type": "stream",
     "text": [
      "These early season snowstorms are rare occurences in Moscow. Besides the 2020 snowstorm, there was only one other large snow event (October 18, 2017) in October, since 2000.\n"
     ]
    },
    {
     "data": {
      "text/html": [
       "<div>\n",
       "<style scoped>\n",
       "    .dataframe tbody tr th:only-of-type {\n",
       "        vertical-align: middle;\n",
       "    }\n",
       "\n",
       "    .dataframe tbody tr th {\n",
       "        vertical-align: top;\n",
       "    }\n",
       "\n",
       "    .dataframe thead th {\n",
       "        text-align: right;\n",
       "    }\n",
       "</style>\n",
       "<table border=\"1\" class=\"dataframe\">\n",
       "  <thead>\n",
       "    <tr style=\"text-align: right;\">\n",
       "      <th></th>\n",
       "      <th>level_0</th>\n",
       "      <th>index</th>\n",
       "      <th>time</th>\n",
       "      <th>datetime</th>\n",
       "      <th>NDSI_Snow_Cover</th>\n",
       "    </tr>\n",
       "  </thead>\n",
       "  <tbody>\n",
       "    <tr>\n",
       "      <th>2730</th>\n",
       "      <td>2730</td>\n",
       "      <td>6390</td>\n",
       "      <td>1508284800000</td>\n",
       "      <td>2017-10-18</td>\n",
       "      <td>57</td>\n",
       "    </tr>\n",
       "    <tr>\n",
       "      <th>3197</th>\n",
       "      <td>3197</td>\n",
       "      <td>7493</td>\n",
       "      <td>1603584000000</td>\n",
       "      <td>2020-10-25</td>\n",
       "      <td>74</td>\n",
       "    </tr>\n",
       "    <tr>\n",
       "      <th>3198</th>\n",
       "      <td>3198</td>\n",
       "      <td>7495</td>\n",
       "      <td>1603756800000</td>\n",
       "      <td>2020-10-27</td>\n",
       "      <td>79</td>\n",
       "    </tr>\n",
       "    <tr>\n",
       "      <th>3199</th>\n",
       "      <td>3199</td>\n",
       "      <td>7496</td>\n",
       "      <td>1603843200000</td>\n",
       "      <td>2020-10-28</td>\n",
       "      <td>64</td>\n",
       "    </tr>\n",
       "  </tbody>\n",
       "</table>\n",
       "</div>"
      ],
      "text/plain": [
       "0     level_0  index           time   datetime  NDSI_Snow_Cover\n",
       "2730     2730   6390  1508284800000 2017-10-18               57\n",
       "3197     3197   7493  1603584000000 2020-10-25               74\n",
       "3198     3198   7495  1603756800000 2020-10-27               79\n",
       "3199     3199   7496  1603843200000 2020-10-28               64"
      ]
     },
     "execution_count": 139,
     "metadata": {},
     "output_type": "execute_result"
    },
    {
     "data": {
      "image/png": "[encoded data removed]",
      "text/plain": [
       "<Figure size 720x360 with 1 Axes>"
      ]
     },
     "metadata": {
      "needs_background": "light"
     },
     "output_type": "display_data"
    }
   ],
   "source": [
    "snow_df_moscow.reset_index(inplace = True) # Reset index for easier processing\n",
    "months = [str(snow_df_moscow['datetime'][x])[5:7] for x in snow_df_moscow.index] # List comprehension which determines the month for measurment\n",
    "snow_df = snow_df_moscow.iloc[np.where([months[x] == '10' for x in range(len(months))])] # Create new dataframe for all measurements in the month of October\n",
    "\n",
    "fig, ax = plt.subplots(figsize=(10,5))\n",
    "\n",
    "ax.scatter(snow_df['datetime'], snow_df['NDSI_Snow_Cover']) # Scatter plot all October data\n",
    "\n",
    "ax.set_title('Snow Cover (NDSI) near Moscow, ID in October', fontsize=16, weight='bold')\n",
    "ax.set_xlabel('Date', fontsize=12)\n",
    "ax.set_ylabel('Snow Cover (NDSI)', fontsize=12)\n",
    "\n",
    "print('These early season snowstorms are rare occurences in Moscow. Besides the 2020 snowstorm, there was only one other large snow event (October 18, 2017) in October, since 2000.')\n",
    "\n",
    "snow_df[snow_df['NDSI_Snow_Cover'] > 10] # Copy of Dataframe containing all large snow events during October, since 2000"
   ]
  },
  {
   "cell_type": "markdown",
   "id": "1d234d67-7e2c-4296-8d8c-93c49c3469a7",
   "metadata": {},
   "source": [
    "### Optional: Seasonal cycle of snow cover in Moscow\n",
    "Make a plot of a typical year, and plot each year's snow cover record on this single, 12 month axis.\n",
    "I'm thinking of something along the lines of the National Snow and Ice Data Center's\n",
    "[Charctic Interactive Sea Ice Graph](https://nsidc.org/arcticseaicenews/charctic-interactive-sea-ice-graph/), \n",
    "in which an entire time series is plotted on one year, to facilitate comparison and identify typical\n",
    "patterns.\n",
    "\n",
    "Tweak the graph you make of the annual snow cover so that it shows the average snow cover\n",
    "as a function of day.  \n",
    "\n"
   ]
  },
  {
   "cell_type": "code",
   "execution_count": null,
   "id": "73168f6e-41ed-464e-bd75-56077e45f6d3",
   "metadata": {},
   "outputs": [],
   "source": []
  },
  {
   "cell_type": "code",
   "execution_count": null,
   "id": "eacbd931-6fc5-4d6c-a2b6-a5d18b4c8ada",
   "metadata": {},
   "outputs": [],
   "source": []
  },
  {
   "cell_type": "code",
   "execution_count": null,
   "id": "0be91b55-e001-44d0-9257-3ff7fe4816e6",
   "metadata": {},
   "outputs": [],
   "source": []
  }
 ],
 "metadata": {
  "kernelspec": {
   "display_name": "Python [conda env:GISenv21b] *",
   "language": "python",
   "name": "conda-env-GISenv21b-py"
  },
  "language_info": {
   "codemirror_mode": {
    "name": "ipython",
    "version": 3
   },
   "file_extension": ".py",
   "mimetype": "text/x-python",
   "name": "python",
   "nbconvert_exporter": "python",
   "pygments_lexer": "ipython3",
   "version": "3.9.6"
  }
 },
 "nbformat": 4,
 "nbformat_minor": 5
}

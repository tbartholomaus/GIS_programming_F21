{
 "cells": [
  {
   "cell_type": "markdown",
   "id": "43a34b04-dfea-4459-aea3-78765262c59b",
   "metadata": {},
   "source": [
    "# Lecture 10: Intro to Google Earth Engine\n",
    "\n",
    "Intro to GEE Presentation: https://docs.google.com/presentation/d/1hT9q6kWigM1MM3p7IEcvNQlpPvkedW-lgCCrIqbNeis/edit#slide=id.g4e98c855a5_0_4148\n",
    "\n",
    "Basic concepts within/behind GEE: https://developers.google.com/earth-engine/guides/getstarted?hl=en\n",
    "\n",
    "#### A list of all the functions within the Google Earth Engine module/API:\n",
    "Specific instructions about the Application Programming Interface: https://developers.google.com/earth-engine/api_docs"
   ]
  },
  {
   "cell_type": "code",
   "execution_count": null,
   "id": "532cd5b0-d9c2-44ca-966b-fcf11e8c4d6b",
   "metadata": {},
   "outputs": [],
   "source": []
  },
  {
   "cell_type": "code",
   "execution_count": null,
   "id": "c67f7801-af7e-4599-996e-28f1912712a4",
   "metadata": {},
   "outputs": [],
   "source": []
  },
  {
   "cell_type": "code",
   "execution_count": 2,
   "id": "b19faec9-adc4-43fb-a87c-2a0e6e5cf7a3",
   "metadata": {},
   "outputs": [],
   "source": [
    "import ee"
   ]
  },
  {
   "cell_type": "code",
   "execution_count": 3,
   "id": "b903c83f-acd1-4fef-9aca-626dfb8175ce",
   "metadata": {},
   "outputs": [],
   "source": [
    "ee.Initialize()"
   ]
  },
  {
   "cell_type": "code",
   "execution_count": 4,
   "id": "a97d8270-8c60-42e5-adff-5cff762c1a1d",
   "metadata": {},
   "outputs": [],
   "source": [
    "image = ee.Image('LANDSAT/LC08/C01/T1/LC08_044034_20140318')"
   ]
  },
  {
   "cell_type": "code",
   "execution_count": 5,
   "id": "2ff1204a-d332-49ac-a2dc-6de20c3c1d6b",
   "metadata": {
    "collapsed": true,
    "jupyter": {
     "outputs_hidden": true
    },
    "tags": []
   },
   "outputs": [
    {
     "data": {
      "text/plain": [
       "{'type': 'Image',\n",
       " 'bands': [{'id': 'B1',\n",
       "   'data_type': {'type': 'PixelType',\n",
       "    'precision': 'int',\n",
       "    'min': 0,\n",
       "    'max': 65535},\n",
       "   'dimensions': [7661, 7801],\n",
       "   'crs': 'EPSG:32610',\n",
       "   'crs_transform': [30, 0, 460785, 0, -30, 4264215]},\n",
       "  {'id': 'B2',\n",
       "   'data_type': {'type': 'PixelType',\n",
       "    'precision': 'int',\n",
       "    'min': 0,\n",
       "    'max': 65535},\n",
       "   'dimensions': [7661, 7801],\n",
       "   'crs': 'EPSG:32610',\n",
       "   'crs_transform': [30, 0, 460785, 0, -30, 4264215]},\n",
       "  {'id': 'B3',\n",
       "   'data_type': {'type': 'PixelType',\n",
       "    'precision': 'int',\n",
       "    'min': 0,\n",
       "    'max': 65535},\n",
       "   'dimensions': [7661, 7801],\n",
       "   'crs': 'EPSG:32610',\n",
       "   'crs_transform': [30, 0, 460785, 0, -30, 4264215]},\n",
       "  {'id': 'B4',\n",
       "   'data_type': {'type': 'PixelType',\n",
       "    'precision': 'int',\n",
       "    'min': 0,\n",
       "    'max': 65535},\n",
       "   'dimensions': [7661, 7801],\n",
       "   'crs': 'EPSG:32610',\n",
       "   'crs_transform': [30, 0, 460785, 0, -30, 4264215]},\n",
       "  {'id': 'B5',\n",
       "   'data_type': {'type': 'PixelType',\n",
       "    'precision': 'int',\n",
       "    'min': 0,\n",
       "    'max': 65535},\n",
       "   'dimensions': [7661, 7801],\n",
       "   'crs': 'EPSG:32610',\n",
       "   'crs_transform': [30, 0, 460785, 0, -30, 4264215]},\n",
       "  {'id': 'B6',\n",
       "   'data_type': {'type': 'PixelType',\n",
       "    'precision': 'int',\n",
       "    'min': 0,\n",
       "    'max': 65535},\n",
       "   'dimensions': [7661, 7801],\n",
       "   'crs': 'EPSG:32610',\n",
       "   'crs_transform': [30, 0, 460785, 0, -30, 4264215]},\n",
       "  {'id': 'B7',\n",
       "   'data_type': {'type': 'PixelType',\n",
       "    'precision': 'int',\n",
       "    'min': 0,\n",
       "    'max': 65535},\n",
       "   'dimensions': [7661, 7801],\n",
       "   'crs': 'EPSG:32610',\n",
       "   'crs_transform': [30, 0, 460785, 0, -30, 4264215]},\n",
       "  {'id': 'B8',\n",
       "   'data_type': {'type': 'PixelType',\n",
       "    'precision': 'int',\n",
       "    'min': 0,\n",
       "    'max': 65535},\n",
       "   'dimensions': [15321, 15601],\n",
       "   'crs': 'EPSG:32610',\n",
       "   'crs_transform': [15, 0, 460792.5, 0, -15, 4264207.5]},\n",
       "  {'id': 'B9',\n",
       "   'data_type': {'type': 'PixelType',\n",
       "    'precision': 'int',\n",
       "    'min': 0,\n",
       "    'max': 65535},\n",
       "   'dimensions': [7661, 7801],\n",
       "   'crs': 'EPSG:32610',\n",
       "   'crs_transform': [30, 0, 460785, 0, -30, 4264215]},\n",
       "  {'id': 'B10',\n",
       "   'data_type': {'type': 'PixelType',\n",
       "    'precision': 'int',\n",
       "    'min': 0,\n",
       "    'max': 65535},\n",
       "   'dimensions': [7661, 7801],\n",
       "   'crs': 'EPSG:32610',\n",
       "   'crs_transform': [30, 0, 460785, 0, -30, 4264215]},\n",
       "  {'id': 'B11',\n",
       "   'data_type': {'type': 'PixelType',\n",
       "    'precision': 'int',\n",
       "    'min': 0,\n",
       "    'max': 65535},\n",
       "   'dimensions': [7661, 7801],\n",
       "   'crs': 'EPSG:32610',\n",
       "   'crs_transform': [30, 0, 460785, 0, -30, 4264215]},\n",
       "  {'id': 'BQA',\n",
       "   'data_type': {'type': 'PixelType',\n",
       "    'precision': 'int',\n",
       "    'min': 0,\n",
       "    'max': 65535},\n",
       "   'dimensions': [7661, 7801],\n",
       "   'crs': 'EPSG:32610',\n",
       "   'crs_transform': [30, 0, 460785, 0, -30, 4264215]}],\n",
       " 'id': 'LANDSAT/LC08/C01/T1/LC08_044034_20140318',\n",
       " 'version': 1497472259022000.0,\n",
       " 'properties': {'RADIANCE_MULT_BAND_5': 0.006170900072902441,\n",
       "  'RADIANCE_MULT_BAND_6': 0.001534600043669343,\n",
       "  'RADIANCE_MULT_BAND_3': 0.011958000250160694,\n",
       "  'RADIANCE_MULT_BAND_4': 0.010084000416100025,\n",
       "  'RADIANCE_MULT_BAND_1': 0.012672999873757362,\n",
       "  'RADIANCE_MULT_BAND_2': 0.012977000325918198,\n",
       "  'K2_CONSTANT_BAND_11': 1201.1441650390625,\n",
       "  'K2_CONSTANT_BAND_10': 1321.078857421875,\n",
       "  'system:footprint': {'type': 'LinearRing',\n",
       "   'coordinates': [[-121.3637119499993, 36.41016684133052],\n",
       "    [-121.35905784815819, 36.42528989660049],\n",
       "    [-121.2315833015866, 36.840374852891664],\n",
       "    [-121.09978718573184, 37.26438246506325],\n",
       "    [-121.00571062336425, 37.564795515259384],\n",
       "    [-120.98453376062118, 37.632161601008896],\n",
       "    [-120.95100979452299, 37.73864548098522],\n",
       "    [-120.90277241165228, 37.89149086576169],\n",
       "    [-120.8836409072059, 37.951976016520376],\n",
       "    [-120.85713152433351, 38.03584247073611],\n",
       "    [-120.82804345546616, 38.12789513604401],\n",
       "    [-122.38148159443172, 38.42337450676813],\n",
       "    [-122.9500220192271, 38.525813632077686],\n",
       "    [-122.95103687833704, 38.52422133103557],\n",
       "    [-122.9569591344694, 38.504384836247866],\n",
       "    [-123.43853932998316, 36.805122381748035],\n",
       "    [-123.18722447462653, 36.759167415189125],\n",
       "    [-121.5105534682754, 36.43765126135182],\n",
       "    [-121.36447385999617, 36.408418528930035],\n",
       "    [-121.3637119499993, 36.41016684133052]]},\n",
       "  'REFLECTIVE_SAMPLES': 7661,\n",
       "  'SUN_AZIMUTH': 146.2395782470703,\n",
       "  'CPF_NAME': 'LC08CPF_20140101_20140331_01.01',\n",
       "  'DATE_ACQUIRED': '2014-03-18',\n",
       "  'ELLIPSOID': 'WGS84',\n",
       "  'google:registration_offset_x': 0,\n",
       "  'google:registration_offset_y': 0,\n",
       "  'STATION_ID': 'LGN',\n",
       "  'RESAMPLING_OPTION': 'CUBIC_CONVOLUTION',\n",
       "  'ORIENTATION': 'NORTH_UP',\n",
       "  'WRS_ROW': 34,\n",
       "  'RADIANCE_MULT_BAND_9': 0.0024117000866681337,\n",
       "  'TARGET_WRS_ROW': 34,\n",
       "  'RADIANCE_MULT_BAND_7': 0.0005172499804757535,\n",
       "  'RADIANCE_MULT_BAND_8': 0.0114120002835989,\n",
       "  'IMAGE_QUALITY_TIRS': 9,\n",
       "  'TRUNCATION_OLI': 'UPPER',\n",
       "  'CLOUD_COVER': 0.05999999865889549,\n",
       "  'GEOMETRIC_RMSE_VERIFY': 3.249000072479248,\n",
       "  'COLLECTION_CATEGORY': 'T1',\n",
       "  'GRID_CELL_SIZE_REFLECTIVE': 30,\n",
       "  'CLOUD_COVER_LAND': 0.10000000149011612,\n",
       "  'GEOMETRIC_RMSE_MODEL': 6.78000020980835,\n",
       "  'COLLECTION_NUMBER': 1,\n",
       "  'IMAGE_QUALITY_OLI': 9,\n",
       "  'LANDSAT_SCENE_ID': 'LC80440342014077LGN01',\n",
       "  'WRS_PATH': 44,\n",
       "  'google:registration_count': 0,\n",
       "  'PANCHROMATIC_SAMPLES': 15321,\n",
       "  'PANCHROMATIC_LINES': 15601,\n",
       "  'GEOMETRIC_RMSE_MODEL_Y': 4.747000217437744,\n",
       "  'REFLECTIVE_LINES': 7801,\n",
       "  'TIRS_STRAY_LIGHT_CORRECTION_SOURCE': 'TIRS',\n",
       "  'GEOMETRIC_RMSE_MODEL_X': 4.841000080108643,\n",
       "  'system:asset_size': 1105511852,\n",
       "  'system:index': 'LC08_044034_20140318',\n",
       "  'REFLECTANCE_ADD_BAND_1': -0.10000000149011612,\n",
       "  'REFLECTANCE_ADD_BAND_2': -0.10000000149011612,\n",
       "  'DATUM': 'WGS84',\n",
       "  'REFLECTANCE_ADD_BAND_3': -0.10000000149011612,\n",
       "  'REFLECTANCE_ADD_BAND_4': -0.10000000149011612,\n",
       "  'RLUT_FILE_NAME': 'LC08RLUT_20130211_20150302_01_11.h5',\n",
       "  'REFLECTANCE_ADD_BAND_5': -0.10000000149011612,\n",
       "  'REFLECTANCE_ADD_BAND_6': -0.10000000149011612,\n",
       "  'REFLECTANCE_ADD_BAND_7': -0.10000000149011612,\n",
       "  'REFLECTANCE_ADD_BAND_8': -0.10000000149011612,\n",
       "  'BPF_NAME_TIRS': 'LT8BPF20140318182855_20140318190505.01',\n",
       "  'GROUND_CONTROL_POINTS_VERSION': 4,\n",
       "  'DATA_TYPE': 'L1TP',\n",
       "  'UTM_ZONE': 10,\n",
       "  'LANDSAT_PRODUCT_ID': 'LC08_L1TP_044034_20140318_20170307_01_T1',\n",
       "  'REFLECTANCE_ADD_BAND_9': -0.10000000149011612,\n",
       "  'google:registration_ratio': 0,\n",
       "  'GRID_CELL_SIZE_PANCHROMATIC': 15,\n",
       "  'RADIANCE_ADD_BAND_4': -50.419559478759766,\n",
       "  'REFLECTANCE_MULT_BAND_7': 1.9999999494757503e-05,\n",
       "  'system:time_start': 1395168392050,\n",
       "  'RADIANCE_ADD_BAND_5': -30.854249954223633,\n",
       "  'REFLECTANCE_MULT_BAND_6': 1.9999999494757503e-05,\n",
       "  'RADIANCE_ADD_BAND_6': -7.67317008972168,\n",
       "  'REFLECTANCE_MULT_BAND_9': 1.9999999494757503e-05,\n",
       "  'PROCESSING_SOFTWARE_VERSION': 'LPGS_2.7.0',\n",
       "  'RADIANCE_ADD_BAND_7': -2.5862700939178467,\n",
       "  'REFLECTANCE_MULT_BAND_8': 1.9999999494757503e-05,\n",
       "  'RADIANCE_ADD_BAND_1': -63.364051818847656,\n",
       "  'RADIANCE_ADD_BAND_2': -64.88555908203125,\n",
       "  'RADIANCE_ADD_BAND_3': -59.79148864746094,\n",
       "  'REFLECTANCE_MULT_BAND_1': 1.9999999494757503e-05,\n",
       "  'RADIANCE_ADD_BAND_8': -57.06106185913086,\n",
       "  'REFLECTANCE_MULT_BAND_3': 1.9999999494757503e-05,\n",
       "  'RADIANCE_ADD_BAND_9': -12.058540344238281,\n",
       "  'REFLECTANCE_MULT_BAND_2': 1.9999999494757503e-05,\n",
       "  'REFLECTANCE_MULT_BAND_5': 1.9999999494757503e-05,\n",
       "  'REFLECTANCE_MULT_BAND_4': 1.9999999494757503e-05,\n",
       "  'THERMAL_LINES': 7801,\n",
       "  'TIRS_SSM_POSITION_STATUS': 'NOMINAL',\n",
       "  'GRID_CELL_SIZE_THERMAL': 30,\n",
       "  'NADIR_OFFNADIR': 'NADIR',\n",
       "  'RADIANCE_ADD_BAND_11': 0.10000000149011612,\n",
       "  'REQUEST_ID': '0501703063989_00019',\n",
       "  'EARTH_SUN_DISTANCE': 0.9953709244728088,\n",
       "  'TIRS_SSM_MODEL': 'ACTUAL',\n",
       "  'FILE_DATE': 1488849349000,\n",
       "  'SCENE_CENTER_TIME': '18:46:32.0535800Z',\n",
       "  'SUN_ELEVATION': 46.471065521240234,\n",
       "  'BPF_NAME_OLI': 'LO8BPF20140318183249_20140318190412.01',\n",
       "  'RADIANCE_ADD_BAND_10': 0.10000000149011612,\n",
       "  'ROLL_ANGLE': -0.0010000000474974513,\n",
       "  'K1_CONSTANT_BAND_10': 774.8853149414062,\n",
       "  'SATURATION_BAND_1': 'Y',\n",
       "  'SATURATION_BAND_2': 'Y',\n",
       "  'SATURATION_BAND_3': 'Y',\n",
       "  'SATURATION_BAND_4': 'Y',\n",
       "  'SATURATION_BAND_5': 'Y',\n",
       "  'MAP_PROJECTION': 'UTM',\n",
       "  'SATURATION_BAND_6': 'Y',\n",
       "  'SENSOR_ID': 'OLI_TIRS',\n",
       "  'SATURATION_BAND_7': 'Y',\n",
       "  'K1_CONSTANT_BAND_11': 480.8883056640625,\n",
       "  'SATURATION_BAND_8': 'N',\n",
       "  'SATURATION_BAND_9': 'N',\n",
       "  'TARGET_WRS_PATH': 44,\n",
       "  'RADIANCE_MULT_BAND_11': 0.00033420001273043454,\n",
       "  'RADIANCE_MULT_BAND_10': 0.00033420001273043454,\n",
       "  'GROUND_CONTROL_POINTS_MODEL': 527,\n",
       "  'SPACECRAFT_ID': 'LANDSAT_8',\n",
       "  'ELEVATION_SOURCE': 'GLS2000',\n",
       "  'THERMAL_SAMPLES': 7661,\n",
       "  'GROUND_CONTROL_POINTS_VERIFY': 164}}"
      ]
     },
     "execution_count": 5,
     "metadata": {},
     "output_type": "execute_result"
    }
   ],
   "source": [
    "image.getInfo()"
   ]
  },
  {
   "cell_type": "code",
   "execution_count": 16,
   "id": "6c551a89-a49d-4951-8038-d846b4ba0e98",
   "metadata": {},
   "outputs": [
    {
     "name": "stdout",
     "output_type": "stream",
     "text": [
      "https://earthengine.googleapis.com/v1alpha/projects/earthengine-legacy/thumbnails/065a99fcd69af9c659d53a20bc1d68d2-cdae79c547f9970a80da3571d1855c94:getPixels\n",
      "\n",
      "Please wait while the thumbnail loads, it may take a moment...\n"
     ]
    },
    {
     "data": {
      "text/html": [
       "<img src=\"https://earthengine.googleapis.com/v1alpha/projects/earthengine-legacy/thumbnails/065a99fcd69af9c659d53a20bc1d68d2-cdae79c547f9970a80da3571d1855c94:getPixels\"/>"
      ],
      "text/plain": [
       "<IPython.core.display.Image object>"
      ]
     },
     "execution_count": 16,
     "metadata": {},
     "output_type": "execute_result"
    }
   ],
   "source": [
    "from IPython.display import Image\n",
    "\n",
    "# Create a URL to the styled image for a region around France.\n",
    "url = image.select('B2').getThumbUrl({\n",
    "    'min': 7e3, 'max': 20e3, 'dimensions': 512,# 'region': roi,\n",
    "    'palette': ['black', 'white']})\n",
    "print(url)\n",
    "\n",
    "# Display the thumbnail land surface temperature in France.\n",
    "print('\\nPlease wait while the thumbnail loads, it may take a moment...')\n",
    "Image(url=url)\n"
   ]
  },
  {
   "cell_type": "code",
   "execution_count": 9,
   "id": "1d7b72ed-71ac-47b4-a5fe-2bdcab1d718a",
   "metadata": {},
   "outputs": [],
   "source": [
    "mean_image = image.reduce(ee.Reducer.mean())"
   ]
  },
  {
   "cell_type": "code",
   "execution_count": 10,
   "id": "030e9eb4-8f3a-4c61-b507-004787f320d0",
   "metadata": {
    "collapsed": true,
    "jupyter": {
     "outputs_hidden": true
    },
    "tags": []
   },
   "outputs": [
    {
     "data": {
      "text/plain": [
       "{'type': 'Image',\n",
       " 'bands': [{'id': 'mean',\n",
       "   'data_type': {'type': 'PixelType',\n",
       "    'precision': 'double',\n",
       "    'min': 0,\n",
       "    'max': 65535},\n",
       "   'crs': 'EPSG:32610',\n",
       "   'crs_transform': [30, 0, 460785, 0, -30, 4264215]}],\n",
       " 'properties': {'system:footprint': {'type': 'LinearRing',\n",
       "   'coordinates': [[-121.3637119499993, 36.41016684133052],\n",
       "    [-121.35905784815819, 36.42528989660049],\n",
       "    [-121.2315833015866, 36.840374852891664],\n",
       "    [-121.09978718573184, 37.26438246506325],\n",
       "    [-121.00571062336425, 37.564795515259384],\n",
       "    [-120.98453376062118, 37.632161601008896],\n",
       "    [-120.95100979452299, 37.73864548098522],\n",
       "    [-120.90277241165228, 37.89149086576169],\n",
       "    [-120.8836409072059, 37.951976016520376],\n",
       "    [-120.85713152433351, 38.03584247073611],\n",
       "    [-120.82804345546616, 38.12789513604401],\n",
       "    [-122.38148159443172, 38.42337450676813],\n",
       "    [-122.9500220192271, 38.525813632077686],\n",
       "    [-122.95103687833704, 38.52422133103557],\n",
       "    [-122.9569591344694, 38.504384836247866],\n",
       "    [-123.43853932998316, 36.805122381748035],\n",
       "    [-123.18722447462653, 36.759167415189125],\n",
       "    [-121.5105534682754, 36.43765126135182],\n",
       "    [-121.36447385999617, 36.408418528930035],\n",
       "    [-121.3637119499993, 36.41016684133052]]}}}"
      ]
     },
     "execution_count": 10,
     "metadata": {},
     "output_type": "execute_result"
    }
   ],
   "source": [
    "mean_image.getInfo()"
   ]
  },
  {
   "cell_type": "code",
   "execution_count": 19,
   "id": "dc1b04f0-b8a6-495f-b0f2-12ad97b3e009",
   "metadata": {},
   "outputs": [
    {
     "name": "stdout",
     "output_type": "stream",
     "text": [
      "https://earthengine.googleapis.com/v1alpha/projects/earthengine-legacy/thumbnails/068f5c417cf5159cedc62dd8cdc4ef0e-dc73c6d8bd79052291fd29aee011043a:getPixels\n",
      "\n",
      "Please wait while the thumbnail loads, it may take a moment...\n"
     ]
    },
    {
     "data": {
      "text/html": [
       "<img src=\"https://earthengine.googleapis.com/v1alpha/projects/earthengine-legacy/thumbnails/068f5c417cf5159cedc62dd8cdc4ef0e-dc73c6d8bd79052291fd29aee011043a:getPixels\"/>"
      ],
      "text/plain": [
       "<IPython.core.display.Image object>"
      ]
     },
     "execution_count": 19,
     "metadata": {},
     "output_type": "execute_result"
    }
   ],
   "source": [
    "# Create a URL to the styled image for a region around France.\n",
    "url = mean_image.getThumbUrl({\n",
    "    'min': 7e3, 'max': 20e3, 'dimensions': 512,# 'region': roi,\n",
    "    'palette': ['black', 'white']})\n",
    "print(url)\n",
    "\n",
    "# Display the thumbnail land surface temperature in France.\n",
    "print('\\nPlease wait while the thumbnail loads, it may take a moment...')\n",
    "Image(url=url)"
   ]
  },
  {
   "cell_type": "code",
   "execution_count": null,
   "id": "9758887b-f6bd-4f7b-8ebe-7710a4568564",
   "metadata": {},
   "outputs": [],
   "source": [
    "from IPython.display import Image\n",
    "\n",
    "# Create a URL to the styled image for a region around France.\n",
    "url = lst_img.getThumbUrl({\n",
    "    'min': 10, 'max': 30, 'dimensions': 512, 'region': roi,\n",
    "    'palette': ['blue', 'yellow', 'orange', 'red']})\n",
    "print(url)\n",
    "\n",
    "# Display the thumbnail land surface temperature in France.\n",
    "print('\\nPlease wait while the thumbnail loads, it may take a moment...')\n",
    "Image(url=url)\n"
   ]
  },
  {
   "cell_type": "code",
   "execution_count": null,
   "id": "4211c853-82c0-4cf2-acd5-84e48333643f",
   "metadata": {},
   "outputs": [],
   "source": []
  },
  {
   "cell_type": "markdown",
   "id": "e7a511a4-fe10-4710-96a6-59d596b109c0",
   "metadata": {},
   "source": [
    "## Let's look at a histogram of pixel values"
   ]
  },
  {
   "cell_type": "code",
   "execution_count": 21,
   "id": "efc99a54-7968-4b3d-b407-9824a07465cf",
   "metadata": {},
   "outputs": [
    {
     "data": {
      "text/plain": [
       "{'type': 'Image',\n",
       " 'bands': [{'id': 'NDSI_Snow_Cover',\n",
       "   'data_type': {'type': 'PixelType',\n",
       "    'precision': 'double',\n",
       "    'min': 0,\n",
       "    'max': 255},\n",
       "   'crs': 'EPSG:4326',\n",
       "   'crs_transform': [1, 0, 0, 0, 1, 0]}]}"
      ]
     },
     "execution_count": 21,
     "metadata": {},
     "output_type": "execute_result"
    }
   ],
   "source": [
    "snow =  ee.ImageCollection('MODIS/006/MOD10A1') #500m\n",
    "global_mean_snowcover = snow.mean().select('NDSI_Snow_Cover')\n",
    "global_mean_snowcover.getInfo()"
   ]
  },
  {
   "cell_type": "code",
   "execution_count": 22,
   "id": "242f4843-2685-4674-9b74-6974a36f42d5",
   "metadata": {},
   "outputs": [],
   "source": [
    "moscow_lon = -116.98# -117.00\n",
    "moscow_lat = 46.75#46.732\n",
    "mm_lat = 46.81\n",
    "mm_long = -116.86\n",
    "\n",
    "moscow_poi = ee.Geometry.Point(moscow_lon, moscow_lat)\n",
    "mm_poi = ee.Geometry.Point(mm_long, mm_lat)\n",
    "\n",
    "# Define the operative scale of the dataset.  This is important for defining how EE does its analyses.\n",
    "#    This should be the resolution of the data product.\n",
    "scale = 500  # scale in meters\n"
   ]
  },
  {
   "cell_type": "markdown",
   "id": "36b7e2c8-0236-47d8-bbf0-d12604550a20",
   "metadata": {},
   "source": [
    "\n",
    "define the buffer around Moscow -> make a geometry, and buffer it (50e3)\n",
    "define a reducer  ->  ee.Reducer.fixedHistogram\n",
    "identify the way to apply the reducer to the image, within the buffer -> Image.reduceRegion(reducer, geometry, scale,\n",
    "\n"
   ]
  },
  {
   "cell_type": "code",
   "execution_count": 23,
   "id": "f363b284-3405-496f-b897-20ea7a9ba741",
   "metadata": {
    "collapsed": true,
    "jupyter": {
     "outputs_hidden": true
    },
    "tags": []
   },
   "outputs": [
    {
     "data": {
      "text/plain": [
       "ee.Geometry({\n",
       "  \"functionInvocationValue\": {\n",
       "    \"functionName\": \"Geometry.buffer\",\n",
       "    \"arguments\": {\n",
       "      \"distance\": {\n",
       "        \"constantValue\": 50000.0\n",
       "      },\n",
       "      \"geometry\": {\n",
       "        \"functionInvocationValue\": {\n",
       "          \"functionName\": \"GeometryConstructors.Point\",\n",
       "          \"arguments\": {\n",
       "            \"coordinates\": {\n",
       "              \"constantValue\": [\n",
       "                -116.98,\n",
       "                46.75\n",
       "              ]\n",
       "            }\n",
       "          }\n",
       "        }\n",
       "      }\n",
       "    }\n",
       "  }\n",
       "})"
      ]
     },
     "execution_count": 23,
     "metadata": {},
     "output_type": "execute_result"
    }
   ],
   "source": [
    "moscow_poi.buffer(50e3)"
   ]
  },
  {
   "cell_type": "code",
   "execution_count": 25,
   "id": "ac528f38-6dc4-4b2d-a0ad-c68aecb11256",
   "metadata": {},
   "outputs": [],
   "source": [
    "hist_reducer = ee.Reducer.fixedHistogram(0, 40, 80)"
   ]
  },
  {
   "cell_type": "code",
   "execution_count": 38,
   "id": "b0c6a8da-5628-45de-b5a3-5f870a8130ad",
   "metadata": {},
   "outputs": [],
   "source": [
    "hist_data_ee = global_mean_snowcover.reduceRegion(hist_reducer, \n",
    "                                                  moscow_poi.buffer(50e3), \n",
    "                                                  scale)"
   ]
  },
  {
   "cell_type": "code",
   "execution_count": 39,
   "id": "c1aeca9b-9f8b-4a9b-967d-5c8bd4e5939d",
   "metadata": {},
   "outputs": [
    {
     "data": {
      "text/plain": [
       "<ee.dictionary.Dictionary at 0x111c9b790>"
      ]
     },
     "execution_count": 39,
     "metadata": {},
     "output_type": "execute_result"
    }
   ],
   "source": [
    "hist_data_ee # <--- This is the last thing that is strictly within the GEE module"
   ]
  },
  {
   "cell_type": "markdown",
   "id": "b813fb7e-955c-4c95-9a3d-0c5c3379752b",
   "metadata": {},
   "source": [
    "### Now....  everything here on out is more fundamental python, matplotlib, numpy"
   ]
  },
  {
   "cell_type": "code",
   "execution_count": 40,
   "id": "0123c3d4-5fe9-4304-81a2-c52f0f3d4dcf",
   "metadata": {},
   "outputs": [],
   "source": [
    "hist_data = hist_data_ee.getInfo()"
   ]
  },
  {
   "cell_type": "code",
   "execution_count": 45,
   "id": "51c753c1-9161-470e-b3f7-86d9693fdc46",
   "metadata": {},
   "outputs": [
    {
     "data": {
      "text/plain": [
       "list"
      ]
     },
     "execution_count": 45,
     "metadata": {},
     "output_type": "execute_result"
    }
   ],
   "source": [
    "type(hist_data['NDSI_Snow_Cover'])"
   ]
  },
  {
   "cell_type": "code",
   "execution_count": 48,
   "id": "f585b674-0ae0-4056-ae50-ed42f36df0f9",
   "metadata": {
    "tags": []
   },
   "outputs": [
    {
     "data": {
      "text/plain": [
       "array([[0.00000000e+00, 8.15858824e+02],\n",
       "       [5.00000000e-01, 3.20664314e+03],\n",
       "       [1.00000000e+00, 2.61930196e+03],\n",
       "       [1.50000000e+00, 2.48649412e+03],\n",
       "       [2.00000000e+00, 2.46041176e+03],\n",
       "       [2.50000000e+00, 3.20160392e+03],\n",
       "       [3.00000000e+00, 5.12787843e+03],\n",
       "       [3.50000000e+00, 5.40258039e+03],\n",
       "       [4.00000000e+00, 4.90636471e+03],\n",
       "       [4.50000000e+00, 3.72809020e+03],\n",
       "       [5.00000000e+00, 2.74174510e+03],\n",
       "       [5.50000000e+00, 2.07145882e+03],\n",
       "       [6.00000000e+00, 1.87962353e+03],\n",
       "       [6.50000000e+00, 1.58141569e+03],\n",
       "       [7.00000000e+00, 1.25872549e+03],\n",
       "       [7.50000000e+00, 8.38815686e+02],\n",
       "       [8.00000000e+00, 5.03352941e+02],\n",
       "       [8.50000000e+00, 2.77658824e+02],\n",
       "       [9.00000000e+00, 1.16239216e+02],\n",
       "       [9.50000000e+00, 6.59411765e+01],\n",
       "       [1.00000000e+01, 3.19529412e+01],\n",
       "       [1.05000000e+01, 2.14431373e+01],\n",
       "       [1.10000000e+01, 2.71411765e+01],\n",
       "       [1.15000000e+01, 1.60000000e+01],\n",
       "       [1.20000000e+01, 6.00000000e+00],\n",
       "       [1.25000000e+01, 9.01960784e+00],\n",
       "       [1.30000000e+01, 2.00000000e+00],\n",
       "       [1.35000000e+01, 0.00000000e+00],\n",
       "       [1.40000000e+01, 0.00000000e+00],\n",
       "       [1.45000000e+01, 0.00000000e+00],\n",
       "       [1.50000000e+01, 0.00000000e+00],\n",
       "       [1.55000000e+01, 0.00000000e+00],\n",
       "       [1.60000000e+01, 0.00000000e+00],\n",
       "       [1.65000000e+01, 0.00000000e+00],\n",
       "       [1.70000000e+01, 0.00000000e+00],\n",
       "       [1.75000000e+01, 0.00000000e+00],\n",
       "       [1.80000000e+01, 0.00000000e+00],\n",
       "       [1.85000000e+01, 0.00000000e+00],\n",
       "       [1.90000000e+01, 0.00000000e+00],\n",
       "       [1.95000000e+01, 0.00000000e+00],\n",
       "       [2.00000000e+01, 0.00000000e+00],\n",
       "       [2.05000000e+01, 0.00000000e+00],\n",
       "       [2.10000000e+01, 0.00000000e+00],\n",
       "       [2.15000000e+01, 0.00000000e+00],\n",
       "       [2.20000000e+01, 0.00000000e+00],\n",
       "       [2.25000000e+01, 0.00000000e+00],\n",
       "       [2.30000000e+01, 0.00000000e+00],\n",
       "       [2.35000000e+01, 0.00000000e+00],\n",
       "       [2.40000000e+01, 0.00000000e+00],\n",
       "       [2.45000000e+01, 0.00000000e+00],\n",
       "       [2.50000000e+01, 0.00000000e+00],\n",
       "       [2.55000000e+01, 0.00000000e+00],\n",
       "       [2.60000000e+01, 0.00000000e+00],\n",
       "       [2.65000000e+01, 0.00000000e+00],\n",
       "       [2.70000000e+01, 0.00000000e+00],\n",
       "       [2.75000000e+01, 0.00000000e+00],\n",
       "       [2.80000000e+01, 0.00000000e+00],\n",
       "       [2.85000000e+01, 0.00000000e+00],\n",
       "       [2.90000000e+01, 0.00000000e+00],\n",
       "       [2.95000000e+01, 0.00000000e+00],\n",
       "       [3.00000000e+01, 0.00000000e+00],\n",
       "       [3.05000000e+01, 0.00000000e+00],\n",
       "       [3.10000000e+01, 0.00000000e+00],\n",
       "       [3.15000000e+01, 0.00000000e+00],\n",
       "       [3.20000000e+01, 0.00000000e+00],\n",
       "       [3.25000000e+01, 0.00000000e+00],\n",
       "       [3.30000000e+01, 0.00000000e+00],\n",
       "       [3.35000000e+01, 0.00000000e+00],\n",
       "       [3.40000000e+01, 0.00000000e+00],\n",
       "       [3.45000000e+01, 0.00000000e+00],\n",
       "       [3.50000000e+01, 0.00000000e+00],\n",
       "       [3.55000000e+01, 0.00000000e+00],\n",
       "       [3.60000000e+01, 0.00000000e+00],\n",
       "       [3.65000000e+01, 0.00000000e+00],\n",
       "       [3.70000000e+01, 0.00000000e+00],\n",
       "       [3.75000000e+01, 0.00000000e+00],\n",
       "       [3.80000000e+01, 0.00000000e+00],\n",
       "       [3.85000000e+01, 0.00000000e+00],\n",
       "       [3.90000000e+01, 0.00000000e+00],\n",
       "       [3.95000000e+01, 0.00000000e+00]])"
      ]
     },
     "execution_count": 48,
     "metadata": {},
     "output_type": "execute_result"
    }
   ],
   "source": [
    "import numpy as np\n",
    "hist_np = np.array(hist_data['NDSI_Snow_Cover'])\n",
    "hist_np"
   ]
  },
  {
   "cell_type": "code",
   "execution_count": 50,
   "id": "ee92cd80-a4a4-4f64-b20a-b8ab9435746b",
   "metadata": {
    "tags": []
   },
   "outputs": [],
   "source": [
    "bins = hist_np[:, 0]\n",
    "counts = hist_np[:, 1]"
   ]
  },
  {
   "cell_type": "code",
   "execution_count": 51,
   "id": "6733293f-c6a7-4315-830e-09ca20a1bf98",
   "metadata": {},
   "outputs": [],
   "source": [
    "import matplotlib.pyplot as plt"
   ]
  },
  {
   "cell_type": "code",
   "execution_count": 52,
   "id": "ef79267d-dbf5-460a-8bf4-04f1e3f8b2f9",
   "metadata": {},
   "outputs": [
    {
     "data": {
      "text/plain": [
       "[<matplotlib.lines.Line2D at 0x112b63fd0>]"
      ]
     },
     "execution_count": 52,
     "metadata": {},
     "output_type": "execute_result"
    },
    {
     "data": {
      "image/png": "[encoded data removed]",
      "text/plain": [
       "<Figure size 432x288 with 1 Axes>"
      ]
     },
     "metadata": {
      "needs_background": "light"
     },
     "output_type": "display_data"
    }
   ],
   "source": [
    "plt.plot(bins, counts)"
   ]
  },
  {
   "cell_type": "code",
   "execution_count": 57,
   "id": "e264f524-7b2a-45cd-8ce5-9f8c9776272c",
   "metadata": {},
   "outputs": [
    {
     "data": {
      "text/plain": [
       "Text(0, 0.5, 'Proportion of land\\nwith mean snow cover')"
      ]
     },
     "execution_count": 57,
     "metadata": {},
     "output_type": "execute_result"
    },
    {
     "data": {
      "image/png": "[encoded data removed]",
      "text/plain": [
       "<Figure size 432x288 with 1 Axes>"
      ]
     },
     "metadata": {
      "needs_background": "light"
     },
     "output_type": "display_data"
    }
   ],
   "source": [
    "norm_counts = counts / np.sum(counts) # Normalize the counts by the total number of pixels within the buffer\n",
    "\n",
    "fig, ax = plt.subplots()\n",
    "ax.plot(bins, norm_counts)\n",
    "ax.set_xlabel('Mean snow cover (NDSI)')\n",
    "ax.set_ylabel('Proportion of land\\nwith mean snow cover')"
   ]
  },
  {
   "cell_type": "code",
   "execution_count": null,
   "id": "307483b1-c31c-4709-843c-4144caca1efb",
   "metadata": {},
   "outputs": [],
   "source": []
  }
 ],
 "metadata": {
  "kernelspec": {
   "display_name": "Python [conda env:GISenv21b] *",
   "language": "python",
   "name": "conda-env-GISenv21b-py"
  },
  "language_info": {
   "codemirror_mode": {
    "name": "ipython",
    "version": 3
   },
   "file_extension": ".py",
   "mimetype": "text/x-python",
   "name": "python",
   "nbconvert_exporter": "python",
   "pygments_lexer": "ipython3",
   "version": "3.9.6"
  }
 },
 "nbformat": 4,
 "nbformat_minor": 5
}

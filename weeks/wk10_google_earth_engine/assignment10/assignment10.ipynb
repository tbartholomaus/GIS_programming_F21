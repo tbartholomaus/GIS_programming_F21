{
 "cells": [
  {
   "cell_type": "markdown",
   "id": "c1d1433c-9137-490c-86cb-9d7185e54ae8",
   "metadata": {},
   "source": [
    "# Assignment 10: Google Earth Engine II\n",
    "Analyzing trends in raster data, sampling rasters using vector data, extracting data from Google Earth Engine."
   ]
  },
  {
   "cell_type": "markdown",
   "id": "2484c4ac-e8dd-4b8c-a02e-45e46e422d56",
   "metadata": {},
   "source": [
    "## Prompt: *Explore decadal trends in surface temperature.*\n",
    "\n",
    "This is an open-ended assignment.  Feel free to take it in a direction that follows your interests.\n",
    "\n",
    "This site was critical to Tim learning these tools: https://developers.google.com/earth-engine/guides/reducers_regression.  Check it out.\n",
    "\n",
    "Also, be aware that the specific language necessary to translate the JavaScript code of the GEE API into Python is here: https://developers.google.com/earth-engine/guides/python_install#syntax\n",
    "\n",
    "1. **Identify an appropriate dataset available on Google Earth Engine for use.**\n",
    "Use one or multiple of these datasets: NCEP/NCAR, ERA(5), GRIDMET, GCOM, MODIS, or some other.  Be certain that the dataset has at least several decades of data associated with it, to ensure that looking at climate change (by definition, several decades of patterns), is identifiable. \n",
    "\n",
    "2. **Identify the linear rate in change of surface temperature.**\n",
    "Plot these data using Folium.  What are the units of your temperature change trend?  What is the range of temperature trends?  What are the high and low values of temperature rate of change? Which places are changing the most, or the least?\n",
    "\n",
    "   In identifying the appropriate units of your temperature change trend, you'll need to learn and experiment with [how dates are handled in GEE](https://developers.google.com/earth-engine/guides/python_install#date-objects) (also see [here](https://developers.google.com/earth-engine/tutorials/tutorial_js_02#dates)).\n",
    "\n",
    "3. **Examine changes by state.**\n",
    "Add a map of state outlines to your Folium map.  You can find an appropriate States dataset from the US Census on GEE.  Identify the mean rate of temperature change for each state. You'll need to use a reducer to take an image, reduce the data using the feature collection of states, and to return a new feature collection that includes the data you want in it. Be certain to use the API docs to find these correct tools, e.g., https://developers.google.com/earth-engine/apidocs/ee-image.\n",
    "\n",
    "4. **Add this state trend data to your map.**\n",
    "Color code each state according to its mean temperature trend.  Add a legend to the Folium map specifying the temperature change.\n",
    "\n",
    "5. **Optional: Get the distribution of state temperature changes.**\n",
    "What state has the lowest rate of temperature change?  What is it?  What state has the most rapid rate of temperature change?  You can use `getInfo()` to get the data out of the featureCollection as a dictionary, and then use dictionary keys to further work the data out of the dictionary."
   ]
  },
  {
   "cell_type": "code",
   "execution_count": null,
   "id": "e5065186-4350-4be4-8b86-789860428d02",
   "metadata": {},
   "outputs": [],
   "source": []
  }
 ],
 "metadata": {
  "kernelspec": {
   "display_name": "Python [conda env:GISenv21b] *",
   "language": "python",
   "name": "conda-env-GISenv21b-py"
  },
  "language_info": {
   "codemirror_mode": {
    "name": "ipython",
    "version": 3
   },
   "file_extension": ".py",
   "mimetype": "text/x-python",
   "name": "python",
   "nbconvert_exporter": "python",
   "pygments_lexer": "ipython3",
   "version": "3.9.6"
  }
 },
 "nbformat": 4,
 "nbformat_minor": 5
}

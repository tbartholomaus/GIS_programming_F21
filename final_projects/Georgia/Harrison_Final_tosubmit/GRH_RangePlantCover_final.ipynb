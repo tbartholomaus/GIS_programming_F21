{
 "cells": [
  {
   "cell_type": "markdown",
   "id": "63d2ffb7-b290-425f-bc23-83de81427621",
   "metadata": {
    "tags": []
   },
   "source": [
    "## Techniques for tracking sagebrush plant community resiliency \n",
    "*A demonstration of using Google Earth Engine within Python to access rangeland plant cover data from the rangelands analysis platform (rangelands.app). We will track plant cover and assess how it has changed over time.*"
   ]
  },
  {
   "cell_type": "markdown",
   "id": "7df8ef5e-cf9b-4713-92ff-f3bdb95e667e",
   "metadata": {},
   "source": [
    "## Background\n",
    "**annual grass invasion**  \n",
    "Around 57 million acres of western public lands are infested with invasive annual grasses, including cheatgrass (Bromus tectorum), field brome (B. arvensis), medusahead (Taeniatherum caput-medusae), and ventenata (Ventenata dubia).   \n",
    "Cheatgrass is one of the most invasive weeds in Great Basin Rangelands and infests more than 56 million acres with an estimated 14% annual spread rate.   \n",
    "Cheatgrass is able to capture moisture and nutrients earlier in the season than native grasses, which drastically alters structure, function, and disturbance regime of this ecosystem.  \n",
    "\n",
    "**ecosytem resiliency**   \n",
    "Resilience as the ability to maintain structure and function following alteration. Includes resistance to alterations and stability in the face of disturbance. Can be helpful or unhelpful.  \n",
    "In sagebrush plant communities, one key indicator of ecosystem resiliency is the abundance of perennial forbs, grasses and shrubs, which can mediate the effects of disturbance. "
   ]
  },
  {
   "cell_type": "markdown",
   "id": "1b8ef401-9fe2-4d46-8ad7-8ab78fce5e8c",
   "metadata": {},
   "source": [
    "## Goals\n",
    "1. Vizualize annual grass and forb cover in the western US to get a scope of the problem\n",
    "2. Understand how plant cover has changed within my study area over time\n",
    "4. Assess how plant cover has changed within different plant community groups over time  \n",
    "\n",
    "\n",
    "3. Locating areas which have been invaded by annual grasses \n",
    "4. Maybe: Compare 2021 field estimates of cover to remotely sensed estimates. "
   ]
  },
  {
   "cell_type": "markdown",
   "id": "aae86750-e941-4102-908f-5efc4e80ecc3",
   "metadata": {},
   "source": [
    "### Future work could include\n",
    "1. Regression analysis to determine which areas have increased in annual grass cover in the past 20 years\n",
    "2. Compare annual grass invasion in areas burned & unburned by wildfires in the past 20 years. "
   ]
  },
  {
   "cell_type": "markdown",
   "id": "2eb484ea-cbe0-4990-b669-c0290aa5c20f",
   "metadata": {},
   "source": [
    "## Project Motivation\n",
    "I would like to understand how my observations during the past field season fit into larger spatial and temporal trends using remotely sensed tools. To accomplish this, I will \n",
    "try to identify areas which have been invaded by annual plants, and assess how shrub/perennial grass cover and wildfire history could play into a sites invasivibility. \n",
    "  \n",
    "Additionally, I would like to gain experience using python in a way which relates and is useful for my dissertation project. "
   ]
  },
  {
   "cell_type": "markdown",
   "id": "20031908-aac6-4c8f-86a7-3769c7ecf0c5",
   "metadata": {},
   "source": [
    "## Workflow\n",
    "General workflow (applies to all goals):  \n",
    "- import cover estimates from GEE  \n",
    "- import shapefiles for study area and sampling locations  \n",
    "\n",
    "**Goal 1: Vizualize annual grass and forb cover in the western US to get a scope of the problem**\n",
    "- Extract only a year of interest from RAP data\n",
    "- Create layers for each plant functional group \n",
    "- Create folium map for each layer\n",
    "- Repeat for additional years of interest\n",
    "\n",
    "**Goal 2: Understand how plant cover has changed within my study area over time**\n",
    "- Extract plant functional group cover for each sample point for each year\n",
    "- Plot plant functional group cover over time by plot.\n",
    "- Pull out plots which are increasing annual grass cover and explore more?? \n",
    "\n",
    "**Goal 3: Assess how plant cover has changed within different plant community groups over time**\n",
    "- Stratify by plant community group using cutoff values for shrubs and perennial grasses/forbs\n",
    "- Extract annual grass cover over time within strata\n",
    "- Plot these data over time, seperated by plant community group"
   ]
  },
  {
   "cell_type": "markdown",
   "id": "362cf041-67ea-4cfa-b8bd-e6967ec76122",
   "metadata": {},
   "source": [
    "## Datasets\n",
    "\n",
    "**The main dataset we will be using is the Rangeland Analysis Platform estimates of vegetation cover.**\n",
    "\n",
    "These data are estimates from 1984 to present of percent cover by plant functional group, in the Western US. The estimates were produced by combining approximately 60,000 field plots from the BLM Assessment, Inventory, and Monitoring (AIM) datasets and NRCS National Resources Inventory (NRI) with the historical Landsat satellite record. Utilizing the cloud computing power of Google Earth Engine and Google AI Platform, annual cover estimates are predicted across the western half of the U.S. at 30m resolution.The plant funcational groups included are annual grass and forbs, perennial grass and forbs, shrubs, and trees. Other non-living functional groups include bare ground and litter (dead and detached plant material). \n",
    "\n",
    "Allred, B.W., B.T. Bestelmeyer, C.S. Boyd, C. Brown, K.W. Davies, M.C. Duniway, L.M. Ellsworth, T.A. Erickson, S.D. Fuhlendorf, T.V. Griffiths, V. Jansen, M.O. Jones, J. Karl, A. Knight, J.D. Maestas, J.J. Maynard, S.E. McCord, D.E. Naugle, H.D. Starns, D. Twidwell, and D.R. Uden. 2021. Improving Landsat predictions of rangeland fractional cover with multitask learning and uncertainty. Methods in ecology and evolution. http://dx.doi.org/10.1111/2041-210x.13564\n",
    "\n",
    "*These data are conveniently available on Google Earth Engine. Yay!*\n",
    "\n",
    "\n",
    "**Additionally, we will be using outlines of my study area in southern Idaho at Rinker Rock Creek Ranch near Hailey, ID.** I will explain those more when we start working with them later on. \n"
   ]
  },
  {
   "cell_type": "markdown",
   "id": "3d0ebd94-c1dc-40b8-bf15-4631ed517f92",
   "metadata": {},
   "source": [
    "## Set yourself up"
   ]
  },
  {
   "cell_type": "code",
   "execution_count": 93,
   "id": "29e85f51-1969-4c06-bce3-1e5477c48549",
   "metadata": {},
   "outputs": [],
   "source": [
    "#load in environments\n",
    "\n",
    "import ee\n",
    "from IPython.display import Image\n",
    "import pandas as pd\n",
    "import geopandas as gpd\n",
    "import numpy as np\n",
    "import matplotlib.pyplot as plt\n",
    "import folium # For super-cool interactive maps\n",
    "import branca\n",
    "import branca.colormap as cm"
   ]
  },
  {
   "cell_type": "code",
   "execution_count": 2,
   "id": "dce0e96f-03bd-45d2-9e09-e11691b9f724",
   "metadata": {},
   "outputs": [],
   "source": [
    "ee.Initialize()"
   ]
  },
  {
   "cell_type": "code",
   "execution_count": 3,
   "id": "57cb52ca-0c23-4ec1-8786-5e3229e53573",
   "metadata": {},
   "outputs": [
    {
     "name": "stdout",
     "output_type": "stream",
     "text": [
      "C:\\Users\\harr4718\\Documents\\GitHub\\GIS_programming_F21\n"
     ]
    }
   ],
   "source": [
    "%cd \"C:\\Users\\harr4718\\Documents\\GitHub\\GIS_programming_F21\""
   ]
  },
  {
   "cell_type": "markdown",
   "id": "6eb04051-b853-4365-bac9-bca43aab8de6",
   "metadata": {
    "tags": []
   },
   "source": [
    "# Getting started - import datasets  \n",
    "## Bring in rangeland plant cover data from GEE\n",
    "https://support.rangelands.app/article/62-export-vegetation-cover-rasters"
   ]
  },
  {
   "cell_type": "code",
   "execution_count": 4,
   "id": "d553e235-64f2-40f2-81cc-2bfea876caa9",
   "metadata": {},
   "outputs": [],
   "source": [
    "# Create an ee.ImageCollection variable named \"cover\"\n",
    "cover =  ee.ImageCollection(\"projects/rangeland-analysis-platform/vegetation-cover-v2\") # this is an image collection of plant cover"
   ]
  },
  {
   "cell_type": "markdown",
   "id": "1b10633f-5544-4dbd-8753-da40a3b3e336",
   "metadata": {},
   "source": [
    "Some information about this dataset from the RAP website:\n",
    "\n",
    " These data represent rangeland cover estimates described in Allred et al.(2021).\n",
    "- Version 2: 1984-2020\n",
    "- Bands are: \n",
    "    Band 1 - annual forb and grass\n",
    "    Band 2 - bare ground\n",
    "    Band 3 - litter\n",
    "    Band 4 - perennial forb and grass\n",
    "    Band 5 - shrub\n",
    "    Band 6 - tree\n",
    "    Band 7 - annual forb and grass uncertainty\n",
    "    Band 8 - bare ground uncertainty\n",
    "    Band 9 - litter uncertainty\n",
    "    Band 10 - perennial forb and grass uncertainty\n",
    "    Band 11 - shrub uncertainty\n",
    "    Band 12 - tree uncertainty\n",
    "- So bands 1-6 are plant functional group cover, bands 7-12 are uncertainy estimates\n",
    "No Data value = 65535\n",
    "Uncertainty values are scaled by 100\n",
    "\n",
    "- Data are in WGS84 Geographic Coordinate System (EPSG:4326)\n",
    "- spatial resolution is approximately 30m."
   ]
  },
  {
   "cell_type": "code",
   "execution_count": 5,
   "id": "5ea3d097-6805-48af-a42c-1eda70873f8b",
   "metadata": {
    "collapsed": true,
    "jupyter": {
     "outputs_hidden": true
    },
    "tags": []
   },
   "outputs": [
    {
     "data": {
      "text/plain": [
       "{'type': 'Image',\n",
       " 'bands': [{'id': 'AFGC',\n",
       "   'data_type': {'type': 'PixelType',\n",
       "    'precision': 'int',\n",
       "    'min': 0,\n",
       "    'max': 255},\n",
       "   'dimensions': [116041, 86027],\n",
       "   'crs': 'EPSG:4326',\n",
       "   'crs_transform': [0.00026949458523585647,\n",
       "    0,\n",
       "    -124.76979458874112,\n",
       "    0,\n",
       "    -0.00026949458523585647,\n",
       "    49.01163274391904]},\n",
       "  {'id': 'BG',\n",
       "   'data_type': {'type': 'PixelType',\n",
       "    'precision': 'int',\n",
       "    'min': 0,\n",
       "    'max': 255},\n",
       "   'dimensions': [116041, 86027],\n",
       "   'crs': 'EPSG:4326',\n",
       "   'crs_transform': [0.00026949458523585647,\n",
       "    0,\n",
       "    -124.76979458874112,\n",
       "    0,\n",
       "    -0.00026949458523585647,\n",
       "    49.01163274391904]},\n",
       "  {'id': 'LTR',\n",
       "   'data_type': {'type': 'PixelType',\n",
       "    'precision': 'int',\n",
       "    'min': 0,\n",
       "    'max': 255},\n",
       "   'dimensions': [116041, 86027],\n",
       "   'crs': 'EPSG:4326',\n",
       "   'crs_transform': [0.00026949458523585647,\n",
       "    0,\n",
       "    -124.76979458874112,\n",
       "    0,\n",
       "    -0.00026949458523585647,\n",
       "    49.01163274391904]},\n",
       "  {'id': 'PFGC',\n",
       "   'data_type': {'type': 'PixelType',\n",
       "    'precision': 'int',\n",
       "    'min': 0,\n",
       "    'max': 255},\n",
       "   'dimensions': [116041, 86027],\n",
       "   'crs': 'EPSG:4326',\n",
       "   'crs_transform': [0.00026949458523585647,\n",
       "    0,\n",
       "    -124.76979458874112,\n",
       "    0,\n",
       "    -0.00026949458523585647,\n",
       "    49.01163274391904]},\n",
       "  {'id': 'SHR',\n",
       "   'data_type': {'type': 'PixelType',\n",
       "    'precision': 'int',\n",
       "    'min': 0,\n",
       "    'max': 255},\n",
       "   'dimensions': [116041, 86027],\n",
       "   'crs': 'EPSG:4326',\n",
       "   'crs_transform': [0.00026949458523585647,\n",
       "    0,\n",
       "    -124.76979458874112,\n",
       "    0,\n",
       "    -0.00026949458523585647,\n",
       "    49.01163274391904]},\n",
       "  {'id': 'TREE',\n",
       "   'data_type': {'type': 'PixelType',\n",
       "    'precision': 'int',\n",
       "    'min': 0,\n",
       "    'max': 255},\n",
       "   'dimensions': [116041, 86027],\n",
       "   'crs': 'EPSG:4326',\n",
       "   'crs_transform': [0.00026949458523585647,\n",
       "    0,\n",
       "    -124.76979458874112,\n",
       "    0,\n",
       "    -0.00026949458523585647,\n",
       "    49.01163274391904]},\n",
       "  {'id': 'AFGCSTD',\n",
       "   'data_type': {'type': 'PixelType',\n",
       "    'precision': 'int',\n",
       "    'min': 0,\n",
       "    'max': 65535},\n",
       "   'dimensions': [116041, 86027],\n",
       "   'crs': 'EPSG:4326',\n",
       "   'crs_transform': [0.00026949458523585647,\n",
       "    0,\n",
       "    -124.76979458874112,\n",
       "    0,\n",
       "    -0.00026949458523585647,\n",
       "    49.01163274391904]},\n",
       "  {'id': 'BGSTD',\n",
       "   'data_type': {'type': 'PixelType',\n",
       "    'precision': 'int',\n",
       "    'min': 0,\n",
       "    'max': 65535},\n",
       "   'dimensions': [116041, 86027],\n",
       "   'crs': 'EPSG:4326',\n",
       "   'crs_transform': [0.00026949458523585647,\n",
       "    0,\n",
       "    -124.76979458874112,\n",
       "    0,\n",
       "    -0.00026949458523585647,\n",
       "    49.01163274391904]},\n",
       "  {'id': 'LTRSTD',\n",
       "   'data_type': {'type': 'PixelType',\n",
       "    'precision': 'int',\n",
       "    'min': 0,\n",
       "    'max': 65535},\n",
       "   'dimensions': [116041, 86027],\n",
       "   'crs': 'EPSG:4326',\n",
       "   'crs_transform': [0.00026949458523585647,\n",
       "    0,\n",
       "    -124.76979458874112,\n",
       "    0,\n",
       "    -0.00026949458523585647,\n",
       "    49.01163274391904]},\n",
       "  {'id': 'PFGCSTD',\n",
       "   'data_type': {'type': 'PixelType',\n",
       "    'precision': 'int',\n",
       "    'min': 0,\n",
       "    'max': 65535},\n",
       "   'dimensions': [116041, 86027],\n",
       "   'crs': 'EPSG:4326',\n",
       "   'crs_transform': [0.00026949458523585647,\n",
       "    0,\n",
       "    -124.76979458874112,\n",
       "    0,\n",
       "    -0.00026949458523585647,\n",
       "    49.01163274391904]},\n",
       "  {'id': 'SHRSTD',\n",
       "   'data_type': {'type': 'PixelType',\n",
       "    'precision': 'int',\n",
       "    'min': 0,\n",
       "    'max': 65535},\n",
       "   'dimensions': [116041, 86027],\n",
       "   'crs': 'EPSG:4326',\n",
       "   'crs_transform': [0.00026949458523585647,\n",
       "    0,\n",
       "    -124.76979458874112,\n",
       "    0,\n",
       "    -0.00026949458523585647,\n",
       "    49.01163274391904]},\n",
       "  {'id': 'TREESTD',\n",
       "   'data_type': {'type': 'PixelType',\n",
       "    'precision': 'int',\n",
       "    'min': 0,\n",
       "    'max': 65535},\n",
       "   'dimensions': [116041, 86027],\n",
       "   'crs': 'EPSG:4326',\n",
       "   'crs_transform': [0.00026949458523585647,\n",
       "    0,\n",
       "    -124.76979458874112,\n",
       "    0,\n",
       "    -0.00026949458523585647,\n",
       "    49.01163274391904]}],\n",
       " 'version': 1591128573436854,\n",
       " 'id': 'projects/rangeland-analysis-platform/vegetation-cover-v2/1984',\n",
       " 'properties': {'system:time_start': 441763200000,\n",
       "  'year': 1984,\n",
       "  'system:footprint': {'type': 'LinearRing',\n",
       "   'coordinates': [[-124.76995978896024, 25.82646003249112],\n",
       "    [-123.0594640111631, 25.823601566878324],\n",
       "    [-120.37201350916264, 25.819107639165818],\n",
       "    [-117.68456294359565, 25.823601588721083],\n",
       "    [-115.11926931695416, 25.820384364908925],\n",
       "    [-112.43181878461486, 25.822631275562873],\n",
       "    [-109.25574084524364, 25.814664794650582],\n",
       "    [-105.83534925763469, 25.820384354256515],\n",
       "    [-102.65927135829759, 25.81772883887689],\n",
       "    [-99.84966398291279, 25.823601514094438],\n",
       "    [-96.67358603941418, 25.81297956942855],\n",
       "    [-93.49720826839523, 25.823599295114306],\n",
       "    [-93.49709662010356, 49.01176754388857],\n",
       "    [-98.87240928669678, 49.01176797870541],\n",
       "    [-105.22456510744439, 49.011767980999245],\n",
       "    [-109.13358394430485, 49.01176794170493],\n",
       "    [-114.01985766536552, 49.011767975762695],\n",
       "    [-121.34926831580472, 49.01176795886703],\n",
       "    [-124.77007141826842, 49.01176756376683],\n",
       "    [-124.76995978896024, 25.82646003249112]]},\n",
       "  'system:asset_size': 96971733445,\n",
       "  'system:index': '1984'}}"
      ]
     },
     "execution_count": 5,
     "metadata": {},
     "output_type": "execute_result"
    }
   ],
   "source": [
    "cover.first().getInfo() #all of the cover bands are values 0 - 255 "
   ]
  },
  {
   "cell_type": "code",
   "execution_count": 6,
   "id": "61d3232c-0be8-4213-9811-9937742db391",
   "metadata": {
    "tags": []
   },
   "outputs": [
    {
     "name": "stdout",
     "output_type": "stream",
     "text": [
      "['AFGC', 'BG', 'LTR', 'PFGC', 'SHR', 'TREE', 'AFGCSTD', 'BGSTD', 'LTRSTD', 'PFGCSTD', 'SHRSTD', 'TREESTD']\n"
     ]
    }
   ],
   "source": [
    "#what are the band names \n",
    "print(cover.first().bandNames().getInfo())"
   ]
  },
  {
   "cell_type": "code",
   "execution_count": 7,
   "id": "9d649ae3-01bc-42ff-8046-4c11b9e1363f",
   "metadata": {},
   "outputs": [],
   "source": [
    "#create a list of band names for cover - for now we are not interested in uncertainty\n",
    "cover_bandNames = ['AFGC', 'BG', 'LTR', 'PFGC','SHR','TREE']"
   ]
  },
  {
   "cell_type": "code",
   "execution_count": 8,
   "id": "967b16b2-ab0a-4f87-a1fc-e34820e81f94",
   "metadata": {},
   "outputs": [],
   "source": [
    "# Define the operative scale of the dataset.  This is important for defining how EE does its analyses.\n",
    "#    This should be the resolution of the data product.\n",
    "scale = 30 #m"
   ]
  },
  {
   "cell_type": "markdown",
   "id": "f655859e-4994-492d-a959-5d0356643eff",
   "metadata": {
    "tags": []
   },
   "source": [
    "## Bring in data from sampling locations and area of interest near ranch"
   ]
  },
  {
   "cell_type": "code",
   "execution_count": 10,
   "id": "120cdcdf-6ea0-4ad7-871e-cc82fc69bd7e",
   "metadata": {},
   "outputs": [
    {
     "name": "stdout",
     "output_type": "stream",
     "text": [
      "C:\\Users\\harr4718\n",
      "Documents/GitHub/GIS_programming_F21\n"
     ]
    }
   ],
   "source": [
    "#within current working directory \n",
    "%cd #python magic for current directory\n",
    "print(\"Documents/GitHub/GIS_programming_F21\")"
   ]
  },
  {
   "cell_type": "markdown",
   "id": "d715907c-4529-47b3-ac79-8ee6c8d6c5eb",
   "metadata": {},
   "source": [
    "Bring in sampling point locations, which are called wiggleroom becuase there were extra points which were not actually sampled. "
   ]
  },
  {
   "cell_type": "code",
   "execution_count": 11,
   "id": "d31ac677-f00d-419e-9156-172a9209b025",
   "metadata": {},
   "outputs": [],
   "source": [
    "wiggleroom = gpd.read_file('Documents/GitHub/GIS_programming_F21/datasets/Ranch/FuelLoad_points_shape/FuelLoad_points.shp') #sampling point locations"
   ]
  },
  {
   "cell_type": "code",
   "execution_count": 78,
   "id": "80f639c6-4267-4362-9fb7-a2d88c299015",
   "metadata": {},
   "outputs": [
    {
     "data": {
      "text/plain": [
       "<matplotlib.axes._subplots.AxesSubplot at 0x19c448cbc48>"
      ]
     },
     "execution_count": 78,
     "metadata": {},
     "output_type": "execute_result"
    },
    {
     "data": {
      "image/png": "[encoded data removed]",
      "text/plain": [
       "<Figure size 432x288 with 1 Axes>"
      ]
     },
     "metadata": {
      "needs_background": "light"
     },
     "output_type": "display_data"
    }
   ],
   "source": [
    "#quickly plot these points \n",
    "fig, ax = plt.subplots()\n",
    "wiggleroom.plot(ax=ax, color = 'black', markersize = 15)"
   ]
  },
  {
   "cell_type": "code",
   "execution_count": 17,
   "id": "3c876e24-5240-4b28-a631-564ea1b190ae",
   "metadata": {},
   "outputs": [],
   "source": [
    "# Define the location of interest for the ranch (near Hailey, ID)\n",
    "ranch_lon = -114.418\n",
    "rach_lat =  43.368564 \n",
    "ranch_poi = ee.Geometry.Point(ranch_lon, rach_lat) \n",
    "\n",
    "# Define the operative scale of the dataset.  This is important for defining how EE does its analyses.\n",
    "#    This should be the resolution of the data product.\n",
    "scale = 30  # scale in meters"
   ]
  },
  {
   "cell_type": "markdown",
   "id": "b0621bcd-69d4-40a2-94f9-f12037e8d89b",
   "metadata": {
    "jp-MarkdownHeadingCollapsed": true,
    "tags": []
   },
   "source": [
    "# Goal 1: Vizualize annual grass and forb cover in the western US to get a scope of the problem\n",
    "- Extract only one year of interest from RAP data\n",
    "- Create layers for each plant functional group \n",
    "- Create folium map for each layer"
   ]
  },
  {
   "cell_type": "markdown",
   "id": "10fa9f1f-8d79-4bb4-9561-8d1f4e4d8987",
   "metadata": {
    "tags": []
   },
   "source": [
    "## lets start with annual forb and grass cover from 2020 "
   ]
  },
  {
   "cell_type": "code",
   "execution_count": 86,
   "id": "80aa3b7d-d449-4dcf-8cb3-adb828106a60",
   "metadata": {},
   "outputs": [],
   "source": [
    "# Calculate and print the mean value of the LST collection at the point.\n",
    "A_2020 = cover.filterDate('2020').select('AFGC').mean()"
   ]
  },
  {
   "cell_type": "code",
   "execution_count": 19,
   "id": "a1a77c38-37f9-4c7c-bd43-0a26f672e84f",
   "metadata": {},
   "outputs": [],
   "source": [
    "roi = ranch_poi.buffer(1e4) #notice this is Roi for REGION, not POINT (poi)"
   ]
  },
  {
   "cell_type": "code",
   "execution_count": 84,
   "id": "b5ca275d-e139-4043-8463-5507bc5869d4",
   "metadata": {},
   "outputs": [
    {
     "name": "stdout",
     "output_type": "stream",
     "text": [
      "https://earthengine.googleapis.com/v1alpha/projects/earthengine-legacy/thumbnails/8a1b46a627ecb7a588654d3749c943bd-298aa64aa9402573088775ebdd1719d2:getPixels\n"
     ]
    },
    {
     "data": {
      "text/html": [
       "<img src=\"https://earthengine.googleapis.com/v1alpha/projects/earthengine-legacy/thumbnails/8a1b46a627ecb7a588654d3749c943bd-298aa64aa9402573088775ebdd1719d2:getPixels\"/>"
      ],
      "text/plain": [
       "<IPython.core.display.Image object>"
      ]
     },
     "execution_count": 84,
     "metadata": {},
     "output_type": "execute_result"
    }
   ],
   "source": [
    "# Create a URL to the styled image for region around ranch\n",
    "url = A_2020.getThumbUrl({\n",
    "  'min': 0,  'max': 75,'dimensions': 512, 'region': roi,\n",
    "  'palette': [\"darkgreen\", \"lightgreen\", \"lightblue\", \"darkblue\"]})\n",
    "print(url)\n",
    "\n",
    "# Display the thumbnail\n",
    "Image(url=url)"
   ]
  },
  {
   "cell_type": "markdown",
   "id": "fb1e44e4-a56d-47b1-80eb-4c521938b847",
   "metadata": {},
   "source": [
    "### Generate additional years of interest"
   ]
  },
  {
   "cell_type": "code",
   "execution_count": 87,
   "id": "7fd2e04d-0732-49b9-b308-a3008b8dfc6a",
   "metadata": {},
   "outputs": [],
   "source": [
    "A_2015= cover.filterDate('2015').select('AFGC').mean()\n",
    "A_2010= cover.filterDate('2010').select('AFGC').mean()\n",
    "A_2005= cover.filterDate('2005').select('AFGC').mean()\n",
    "A_2000= cover.filterDate('2000').select('AFGC').mean()\n",
    "A_1990= cover.filterDate('1990').select('AFGC').mean()"
   ]
  },
  {
   "cell_type": "markdown",
   "id": "0444a17a-7e86-4f1f-9406-767b8a524ff3",
   "metadata": {},
   "source": [
    "## Create a folium map"
   ]
  },
  {
   "cell_type": "code",
   "execution_count": 88,
   "id": "15a20727-d265-43a1-8974-ec4612af8c39",
   "metadata": {},
   "outputs": [],
   "source": [
    "# Define a method for displaying Earth Engine image tiles to folium map.\n",
    "def add_ee_layer(self, ee_image_object, vis_params, name):\n",
    "  map_id_dict = ee.Image(ee_image_object).getMapId(vis_params)\n",
    "  folium.raster_layers.TileLayer(\n",
    "    tiles = map_id_dict['tile_fetcher'].url_format,\n",
    "    attr = 'Map Data &copy; <a href=\"https://earthengine.google.com/\">Google Earth Engine</a>',\n",
    "    name = name,\n",
    "    overlay = True,\n",
    "    control = True\n",
    "  ).add_to(self)\n"
   ]
  },
  {
   "cell_type": "code",
   "execution_count": 103,
   "id": "ec196c2a-eca0-4012-880a-7d1502890e67",
   "metadata": {},
   "outputs": [
    {
     "data": {
      "text/html": [
       "<div style=\"width:100%;\"><div style=\"position:relative;width:100%;height:0;padding-bottom:60%;\"><span style=\"color:#565656\">Make this Notebook Trusted to load map: File -> Trust Notebook</span><iframe src=\"about:blank\" style=\"position:absolute;width:100%;height:100%;left:0;top:0;border:none !important;\" data-html=%3C%21DOCTYPE%20html%3E%0A%3Chead%3E%20%20%20%20%0A%20%20%20%20%3Cmeta%20http-equiv%3D%22content-type%22%20content%3D%22text/html%3B%20charset%3DUTF-8%22%20/%3E%0A%20%20%20%20%0A%20%20%20%20%20%20%20%20%3Cscript%3E%0A%20%20%20%20%20%20%20%20%20%20%20%20L_NO_TOUCH%20%3D%20false%3B%0A%20%20%20%20%20%20%20%20%20%20%20%20L_DISABLE_3D%20%3D%20false%3B%0A%20%20%20%20%20%20%20%20%3C/script%3E%0A%20%20%20%20%0A%20%20%20%20%3Cstyle%3Ehtml%2C%20body%20%7Bwidth%3A%20100%25%3Bheight%3A%20100%25%3Bmargin%3A%200%3Bpadding%3A%200%3B%7D%3C/style%3E%0A%20%20%20%20%3Cstyle%3E%23map%20%7Bposition%3Aabsolute%3Btop%3A0%3Bbottom%3A0%3Bright%3A0%3Bleft%3A0%3B%7D%3C/style%3E%0A%20%20%20%20%3Cscript%20src%3D%22https%3A//cdn.jsdelivr.net/npm/leaflet%401.6.0/dist/leaflet.js%22%3E%3C/script%3E%0A%20%20%20%20%3Cscript%20src%3D%22https%3A//code.jquery.com/jquery-1.12.4.min.js%22%3E%3C/script%3E%0A%20%20%20%20%3Cscript%20src%3D%22https%3A//maxcdn.bootstrapcdn.com/bootstrap/3.2.0/js/bootstrap.min.js%22%3E%3C/script%3E%0A%20%20%20%20%3Cscript%20src%3D%22https%3A//cdnjs.cloudflare.com/ajax/libs/Leaflet.awesome-markers/2.0.2/leaflet.awesome-markers.js%22%3E%3C/script%3E%0A%20%20%20%20%3Clink%20rel%3D%22stylesheet%22%20href%3D%22https%3A//cdn.jsdelivr.net/npm/leaflet%401.6.0/dist/leaflet.css%22/%3E%0A%20%20%20%20%3Clink%20rel%3D%22stylesheet%22%20href%3D%22https%3A//maxcdn.bootstrapcdn.com/bootstrap/3.2.0/css/bootstrap.min.css%22/%3E%0A%20%20%20%20%3Clink%20rel%3D%22stylesheet%22%20href%3D%22https%3A//maxcdn.bootstrapcdn.com/bootstrap/3.2.0/css/bootstrap-theme.min.css%22/%3E%0A%20%20%20%20%3Clink%20rel%3D%22stylesheet%22%20href%3D%22https%3A//maxcdn.bootstrapcdn.com/font-awesome/4.6.3/css/font-awesome.min.css%22/%3E%0A%20%20%20%20%3Clink%20rel%3D%22stylesheet%22%20href%3D%22https%3A//cdnjs.cloudflare.com/ajax/libs/Leaflet.awesome-markers/2.0.2/leaflet.awesome-markers.css%22/%3E%0A%20%20%20%20%3Clink%20rel%3D%22stylesheet%22%20href%3D%22https%3A//cdn.jsdelivr.net/gh/python-visualization/folium/folium/templates/leaflet.awesome.rotate.min.css%22/%3E%0A%20%20%20%20%0A%20%20%20%20%20%20%20%20%20%20%20%20%3Cmeta%20name%3D%22viewport%22%20content%3D%22width%3Ddevice-width%2C%0A%20%20%20%20%20%20%20%20%20%20%20%20%20%20%20%20initial-scale%3D1.0%2C%20maximum-scale%3D1.0%2C%20user-scalable%3Dno%22%20/%3E%0A%20%20%20%20%20%20%20%20%20%20%20%20%3Cstyle%3E%0A%20%20%20%20%20%20%20%20%20%20%20%20%20%20%20%20%23map_eece69b4f94247c2b947bf71450c433e%20%7B%0A%20%20%20%20%20%20%20%20%20%20%20%20%20%20%20%20%20%20%20%20position%3A%20relative%3B%0A%20%20%20%20%20%20%20%20%20%20%20%20%20%20%20%20%20%20%20%20width%3A%20100.0%25%3B%0A%20%20%20%20%20%20%20%20%20%20%20%20%20%20%20%20%20%20%20%20height%3A%20100.0%25%3B%0A%20%20%20%20%20%20%20%20%20%20%20%20%20%20%20%20%20%20%20%20left%3A%200.0%25%3B%0A%20%20%20%20%20%20%20%20%20%20%20%20%20%20%20%20%20%20%20%20top%3A%200.0%25%3B%0A%20%20%20%20%20%20%20%20%20%20%20%20%20%20%20%20%7D%0A%20%20%20%20%20%20%20%20%20%20%20%20%3C/style%3E%0A%20%20%20%20%20%20%20%20%0A%20%20%20%20%3Cscript%20src%3D%22https%3A//cdnjs.cloudflare.com/ajax/libs/d3/3.5.5/d3.min.js%22%3E%3C/script%3E%0A%3C/head%3E%0A%3Cbody%3E%20%20%20%20%0A%20%20%20%20%0A%20%20%20%20%20%20%20%20%20%20%20%20%3Cdiv%20class%3D%22folium-map%22%20id%3D%22map_eece69b4f94247c2b947bf71450c433e%22%20%3E%3C/div%3E%0A%20%20%20%20%20%20%20%20%0A%3C/body%3E%0A%3Cscript%3E%20%20%20%20%0A%20%20%20%20%0A%20%20%20%20%20%20%20%20%20%20%20%20var%20map_eece69b4f94247c2b947bf71450c433e%20%3D%20L.map%28%0A%20%20%20%20%20%20%20%20%20%20%20%20%20%20%20%20%22map_eece69b4f94247c2b947bf71450c433e%22%2C%0A%20%20%20%20%20%20%20%20%20%20%20%20%20%20%20%20%7B%0A%20%20%20%20%20%20%20%20%20%20%20%20%20%20%20%20%20%20%20%20center%3A%20%5B43.3%2C%20-114.418%5D%2C%0A%20%20%20%20%20%20%20%20%20%20%20%20%20%20%20%20%20%20%20%20crs%3A%20L.CRS.EPSG3857%2C%0A%20%20%20%20%20%20%20%20%20%20%20%20%20%20%20%20%20%20%20%20zoom%3A%205%2C%0A%20%20%20%20%20%20%20%20%20%20%20%20%20%20%20%20%20%20%20%20zoomControl%3A%20true%2C%0A%20%20%20%20%20%20%20%20%20%20%20%20%20%20%20%20%20%20%20%20preferCanvas%3A%20false%2C%0A%20%20%20%20%20%20%20%20%20%20%20%20%20%20%20%20%7D%0A%20%20%20%20%20%20%20%20%20%20%20%20%29%3B%0A%0A%20%20%20%20%20%20%20%20%20%20%20%20%0A%0A%20%20%20%20%20%20%20%20%0A%20%20%20%20%0A%20%20%20%20%20%20%20%20%20%20%20%20var%20tile_layer_1081a7251aef4c0898374c5afb7fb521%20%3D%20L.tileLayer%28%0A%20%20%20%20%20%20%20%20%20%20%20%20%20%20%20%20%22https%3A//%7Bs%7D.tile.openstreetmap.org/%7Bz%7D/%7Bx%7D/%7By%7D.png%22%2C%0A%20%20%20%20%20%20%20%20%20%20%20%20%20%20%20%20%7B%22attribution%22%3A%20%22Data%20by%20%5Cu0026copy%3B%20%5Cu003ca%20href%3D%5C%22http%3A//openstreetmap.org%5C%22%5Cu003eOpenStreetMap%5Cu003c/a%5Cu003e%2C%20under%20%5Cu003ca%20href%3D%5C%22http%3A//www.openstreetmap.org/copyright%5C%22%5Cu003eODbL%5Cu003c/a%5Cu003e.%22%2C%20%22detectRetina%22%3A%20false%2C%20%22maxNativeZoom%22%3A%2018%2C%20%22maxZoom%22%3A%2018%2C%20%22minZoom%22%3A%200%2C%20%22noWrap%22%3A%20false%2C%20%22opacity%22%3A%201%2C%20%22subdomains%22%3A%20%22abc%22%2C%20%22tms%22%3A%20false%7D%0A%20%20%20%20%20%20%20%20%20%20%20%20%29.addTo%28map_eece69b4f94247c2b947bf71450c433e%29%3B%0A%20%20%20%20%20%20%20%20%0A%20%20%20%20%0A%20%20%20%20%20%20%20%20%20%20%20%20var%20tile_layer_e6f9e3bb93074f22831d3775ea05779b%20%3D%20L.tileLayer%28%0A%20%20%20%20%20%20%20%20%20%20%20%20%20%20%20%20%22https%3A//earthengine.googleapis.com/v1alpha/projects/earthengine-legacy/maps/6539c4bd18f5f5a17763ba560b60a2ea-903c9896a5b0a617e98f2f5e2b91322e/tiles/%7Bz%7D/%7Bx%7D/%7By%7D%22%2C%0A%20%20%20%20%20%20%20%20%20%20%20%20%20%20%20%20%7B%22attribution%22%3A%20%22Map%20Data%20%5Cu0026copy%3B%20%5Cu003ca%20href%3D%5C%22https%3A//earthengine.google.com/%5C%22%5Cu003eGoogle%20Earth%20Engine%5Cu003c/a%5Cu003e%22%2C%20%22detectRetina%22%3A%20false%2C%20%22maxNativeZoom%22%3A%2018%2C%20%22maxZoom%22%3A%2018%2C%20%22minZoom%22%3A%200%2C%20%22noWrap%22%3A%20false%2C%20%22opacity%22%3A%201%2C%20%22subdomains%22%3A%20%22abc%22%2C%20%22tms%22%3A%20false%7D%0A%20%20%20%20%20%20%20%20%20%20%20%20%29.addTo%28map_eece69b4f94247c2b947bf71450c433e%29%3B%0A%20%20%20%20%20%20%20%20%0A%20%20%20%20%0A%20%20%20%20%20%20%20%20%20%20%20%20var%20tile_layer_f58b40ba0cc849508ed35cc2e2fdcf42%20%3D%20L.tileLayer%28%0A%20%20%20%20%20%20%20%20%20%20%20%20%20%20%20%20%22https%3A//earthengine.googleapis.com/v1alpha/projects/earthengine-legacy/maps/7e3926d702fefb667b9cd2576f391fa8-d4c565f6295b4c7da2c6f812411af715/tiles/%7Bz%7D/%7Bx%7D/%7By%7D%22%2C%0A%20%20%20%20%20%20%20%20%20%20%20%20%20%20%20%20%7B%22attribution%22%3A%20%22Map%20Data%20%5Cu0026copy%3B%20%5Cu003ca%20href%3D%5C%22https%3A//earthengine.google.com/%5C%22%5Cu003eGoogle%20Earth%20Engine%5Cu003c/a%5Cu003e%22%2C%20%22detectRetina%22%3A%20false%2C%20%22maxNativeZoom%22%3A%2018%2C%20%22maxZoom%22%3A%2018%2C%20%22minZoom%22%3A%200%2C%20%22noWrap%22%3A%20false%2C%20%22opacity%22%3A%201%2C%20%22subdomains%22%3A%20%22abc%22%2C%20%22tms%22%3A%20false%7D%0A%20%20%20%20%20%20%20%20%20%20%20%20%29.addTo%28map_eece69b4f94247c2b947bf71450c433e%29%3B%0A%20%20%20%20%20%20%20%20%0A%20%20%20%20%0A%20%20%20%20%20%20%20%20%20%20%20%20var%20tile_layer_61f6127d5316484c930d032690579a97%20%3D%20L.tileLayer%28%0A%20%20%20%20%20%20%20%20%20%20%20%20%20%20%20%20%22https%3A//earthengine.googleapis.com/v1alpha/projects/earthengine-legacy/maps/c531af04a7a1502374a255b6e70d08a1-ebed8f5d956bb71ecc92ee9bf3cba922/tiles/%7Bz%7D/%7Bx%7D/%7By%7D%22%2C%0A%20%20%20%20%20%20%20%20%20%20%20%20%20%20%20%20%7B%22attribution%22%3A%20%22Map%20Data%20%5Cu0026copy%3B%20%5Cu003ca%20href%3D%5C%22https%3A//earthengine.google.com/%5C%22%5Cu003eGoogle%20Earth%20Engine%5Cu003c/a%5Cu003e%22%2C%20%22detectRetina%22%3A%20false%2C%20%22maxNativeZoom%22%3A%2018%2C%20%22maxZoom%22%3A%2018%2C%20%22minZoom%22%3A%200%2C%20%22noWrap%22%3A%20false%2C%20%22opacity%22%3A%201%2C%20%22subdomains%22%3A%20%22abc%22%2C%20%22tms%22%3A%20false%7D%0A%20%20%20%20%20%20%20%20%20%20%20%20%29.addTo%28map_eece69b4f94247c2b947bf71450c433e%29%3B%0A%20%20%20%20%20%20%20%20%0A%20%20%20%20%0A%20%20%20%20%20%20%20%20%20%20%20%20var%20tile_layer_5e85c699554a4486b736d2ec0420a9b9%20%3D%20L.tileLayer%28%0A%20%20%20%20%20%20%20%20%20%20%20%20%20%20%20%20%22https%3A//earthengine.googleapis.com/v1alpha/projects/earthengine-legacy/maps/5b9c0b2e49c0e817835264fea05cf0f7-5da81fe1bc64929984bb7a3630673157/tiles/%7Bz%7D/%7Bx%7D/%7By%7D%22%2C%0A%20%20%20%20%20%20%20%20%20%20%20%20%20%20%20%20%7B%22attribution%22%3A%20%22Map%20Data%20%5Cu0026copy%3B%20%5Cu003ca%20href%3D%5C%22https%3A//earthengine.google.com/%5C%22%5Cu003eGoogle%20Earth%20Engine%5Cu003c/a%5Cu003e%22%2C%20%22detectRetina%22%3A%20false%2C%20%22maxNativeZoom%22%3A%2018%2C%20%22maxZoom%22%3A%2018%2C%20%22minZoom%22%3A%200%2C%20%22noWrap%22%3A%20false%2C%20%22opacity%22%3A%201%2C%20%22subdomains%22%3A%20%22abc%22%2C%20%22tms%22%3A%20false%7D%0A%20%20%20%20%20%20%20%20%20%20%20%20%29.addTo%28map_eece69b4f94247c2b947bf71450c433e%29%3B%0A%20%20%20%20%20%20%20%20%0A%20%20%20%20%0A%20%20%20%20var%20color_map_6a7daac7218941278d7ca2e231d36c8a%20%3D%20%7B%7D%3B%0A%0A%20%20%20%20%0A%20%20%20%20color_map_6a7daac7218941278d7ca2e231d36c8a.color%20%3D%20d3.scale.threshold%28%29%0A%20%20%20%20%20%20%20%20%20%20%20%20%20%20.domain%28%5B0.0%2C%200.12024048096192384%2C%200.24048096192384769%2C%200.36072144288577157%2C%200.48096192384769537%2C%200.6012024048096193%2C%200.7214428857715431%2C%200.8416833667334669%2C%200.9619238476953907%2C%201.0821643286573146%2C%201.2024048096192386%2C%201.3226452905811623%2C%201.4428857715430863%2C%201.56312625250501%2C%201.6833667334669338%2C%201.8036072144288577%2C%201.9238476953907815%2C%202.0440881763527052%2C%202.164328657314629%2C%202.284569138276553%2C%202.404809619238477%2C%202.5250501002004007%2C%202.6452905811623246%2C%202.7655310621242486%2C%202.8857715430861726%2C%203.006012024048096%2C%203.12625250501002%2C%203.246492985971944%2C%203.3667334669338675%2C%203.4869739478957915%2C%203.6072144288577155%2C%203.7274549098196395%2C%203.847695390781563%2C%203.967935871743487%2C%204.0881763527054105%2C%204.208416833667335%2C%204.328657314629258%2C%204.448897795591182%2C%204.569138276553106%2C%204.68937875751503%2C%204.809619238476954%2C%204.929859719438878%2C%205.050100200400801%2C%205.170340681362726%2C%205.290581162324649%2C%205.410821643286573%2C%205.531062124248497%2C%205.651302605210421%2C%205.771543086172345%2C%205.891783567134269%2C%206.012024048096192%2C%206.132264529058117%2C%206.25250501002004%2C%206.372745490981964%2C%206.492985971943888%2C%206.613226452905812%2C%206.733466933867735%2C%206.8537074148296595%2C%206.973947895791583%2C%207.094188376753507%2C%207.214428857715431%2C%207.3346693386773545%2C%207.454909819639279%2C%207.575150300601202%2C%207.695390781563126%2C%207.81563126252505%2C%207.935871743486974%2C%208.056112224448897%2C%208.176352705410821%2C%208.296593186372746%2C%208.41683366733467%2C%208.537074148296593%2C%208.657314629258517%2C%208.77755511022044%2C%208.897795591182364%2C%209.01803607214429%2C%209.138276553106213%2C%209.258517034068136%2C%209.37875751503006%2C%209.498997995991983%2C%209.619238476953909%2C%209.739478957915832%2C%209.859719438877756%2C%209.97995991983968%2C%2010.100200400801603%2C%2010.220440881763528%2C%2010.340681362725451%2C%2010.460921843687375%2C%2010.581162324649299%2C%2010.701402805611222%2C%2010.821643286573146%2C%2010.94188376753507%2C%2011.062124248496994%2C%2011.182364729458918%2C%2011.302605210420841%2C%2011.422845691382765%2C%2011.54308617234469%2C%2011.663326653306614%2C%2011.783567134268537%2C%2011.90380761523046%2C%2012.024048096192384%2C%2012.144288577154308%2C%2012.264529058116233%2C%2012.384769539078157%2C%2012.50501002004008%2C%2012.625250501002004%2C%2012.745490981963927%2C%2012.865731462925853%2C%2012.985971943887776%2C%2013.1062124248497%2C%2013.226452905811623%2C%2013.346693386773547%2C%2013.46693386773547%2C%2013.587174348697395%2C%2013.707414829659319%2C%2013.827655310621243%2C%2013.947895791583166%2C%2014.06813627254509%2C%2014.188376753507015%2C%2014.308617234468938%2C%2014.428857715430862%2C%2014.549098196392785%2C%2014.669338677354709%2C%2014.789579158316633%2C%2014.909819639278558%2C%2015.030060120240481%2C%2015.150300601202405%2C%2015.270541082164328%2C%2015.390781563126252%2C%2015.511022044088177%2C%2015.6312625250501%2C%2015.751503006012024%2C%2015.871743486973948%2C%2015.991983967935871%2C%2016.112224448897795%2C%2016.23246492985972%2C%2016.352705410821642%2C%2016.472945891783567%2C%2016.593186372745492%2C%2016.713426853707414%2C%2016.83366733466934%2C%2016.95390781563126%2C%2017.074148296593187%2C%2017.194388777555112%2C%2017.314629258517034%2C%2017.43486973947896%2C%2017.55511022044088%2C%2017.675350701402806%2C%2017.795591182364728%2C%2017.915831663326653%2C%2018.03607214428858%2C%2018.1563126252505%2C%2018.276553106212425%2C%2018.396793587174347%2C%2018.517034068136272%2C%2018.637274549098198%2C%2018.75751503006012%2C%2018.877755511022045%2C%2018.997995991983966%2C%2019.118236472945892%2C%2019.238476953907817%2C%2019.35871743486974%2C%2019.478957915831664%2C%2019.599198396793586%2C%2019.71943887775551%2C%2019.839679358717436%2C%2019.95991983967936%2C%2020.080160320641284%2C%2020.200400801603205%2C%2020.32064128256513%2C%2020.440881763527056%2C%2020.561122244488978%2C%2020.681362725450903%2C%2020.801603206412825%2C%2020.92184368737475%2C%2021.04208416833667%2C%2021.162324649298597%2C%2021.282565130260522%2C%2021.402805611222444%2C%2021.52304609218437%2C%2021.64328657314629%2C%2021.763527054108216%2C%2021.88376753507014%2C%2022.004008016032063%2C%2022.12424849699399%2C%2022.24448897795591%2C%2022.364729458917836%2C%2022.48496993987976%2C%2022.605210420841683%2C%2022.725450901803608%2C%2022.84569138276553%2C%2022.965931863727455%2C%2023.08617234468938%2C%2023.206412825651302%2C%2023.326653306613228%2C%2023.44689378757515%2C%2023.567134268537075%2C%2023.687374749498996%2C%2023.80761523046092%2C%2023.927855711422847%2C%2024.04809619238477%2C%2024.168336673346694%2C%2024.288577154308616%2C%2024.40881763527054%2C%2024.529058116232466%2C%2024.649298597194388%2C%2024.769539078156313%2C%2024.889779559118235%2C%2025.01002004008016%2C%2025.130260521042086%2C%2025.250501002004007%2C%2025.370741482965933%2C%2025.490981963927855%2C%2025.61122244488978%2C%2025.731462925851705%2C%2025.851703406813627%2C%2025.971943887775552%2C%2026.092184368737474%2C%2026.2124248496994%2C%2026.33266533066132%2C%2026.452905811623246%2C%2026.57314629258517%2C%2026.693386773547093%2C%2026.81362725450902%2C%2026.93386773547094%2C%2027.054108216432866%2C%2027.17434869739479%2C%2027.294589178356713%2C%2027.414829659318638%2C%2027.53507014028056%2C%2027.655310621242485%2C%2027.77555110220441%2C%2027.895791583166332%2C%2028.016032064128257%2C%2028.13627254509018%2C%2028.256513026052104%2C%2028.37675350701403%2C%2028.49699398797595%2C%2028.617234468937877%2C%2028.7374749498998%2C%2028.857715430861724%2C%2028.977955911823646%2C%2029.09819639278557%2C%2029.218436873747496%2C%2029.338677354709418%2C%2029.458917835671343%2C%2029.579158316633265%2C%2029.69939879759519%2C%2029.819639278557116%2C%2029.939879759519037%2C%2030.060120240480963%2C%2030.180360721442884%2C%2030.30060120240481%2C%2030.420841683366735%2C%2030.541082164328657%2C%2030.661322645290582%2C%2030.781563126252504%2C%2030.90180360721443%2C%2031.022044088176354%2C%2031.142284569138276%2C%2031.2625250501002%2C%2031.382765531062123%2C%2031.50300601202405%2C%2031.62324649298597%2C%2031.743486973947896%2C%2031.86372745490982%2C%2031.983967935871743%2C%2032.104208416833664%2C%2032.22444889779559%2C%2032.344689378757515%2C%2032.46492985971944%2C%2032.585170340681366%2C%2032.705410821643284%2C%2032.82565130260521%2C%2032.945891783567134%2C%2033.06613226452906%2C%2033.186372745490985%2C%2033.3066132264529%2C%2033.42685370741483%2C%2033.547094188376754%2C%2033.66733466933868%2C%2033.787575150300604%2C%2033.90781563126252%2C%2034.02805611222445%2C%2034.14829659318637%2C%2034.2685370741483%2C%2034.388777555110224%2C%2034.50901803607214%2C%2034.62925851703407%2C%2034.74949899799599%2C%2034.86973947895792%2C%2034.98997995991984%2C%2035.11022044088176%2C%2035.23046092184369%2C%2035.35070140280561%2C%2035.47094188376754%2C%2035.591182364729455%2C%2035.71142284569138%2C%2035.831663326653306%2C%2035.95190380761523%2C%2036.07214428857716%2C%2036.192384769539075%2C%2036.312625250501%2C%2036.432865731462925%2C%2036.55310621242485%2C%2036.673346693386776%2C%2036.793587174348694%2C%2036.91382765531062%2C%2037.034068136272545%2C%2037.15430861723447%2C%2037.274549098196395%2C%2037.394789579158314%2C%2037.51503006012024%2C%2037.635270541082164%2C%2037.75551102204409%2C%2037.875751503006015%2C%2037.99599198396793%2C%2038.11623246492986%2C%2038.236472945891784%2C%2038.35671342685371%2C%2038.476953907815634%2C%2038.59719438877755%2C%2038.71743486973948%2C%2038.8376753507014%2C%2038.95791583166333%2C%2039.078156312625254%2C%2039.19839679358717%2C%2039.3186372745491%2C%2039.43887775551102%2C%2039.55911823647295%2C%2039.67935871743487%2C%2039.79959919839679%2C%2039.91983967935872%2C%2040.04008016032064%2C%2040.16032064128257%2C%2040.28056112224449%2C%2040.40080160320641%2C%2040.521042084168336%2C%2040.64128256513026%2C%2040.76152304609219%2C%2040.88176352705411%2C%2041.00200400801603%2C%2041.122244488977955%2C%2041.24248496993988%2C%2041.362725450901806%2C%2041.482965931863724%2C%2041.60320641282565%2C%2041.723446893787575%2C%2041.8436873747495%2C%2041.963927855711425%2C%2042.08416833667334%2C%2042.20440881763527%2C%2042.324649298597194%2C%2042.44488977955912%2C%2042.565130260521045%2C%2042.68537074148296%2C%2042.80561122244489%2C%2042.92585170340681%2C%2043.04609218436874%2C%2043.166332665330664%2C%2043.28657314629258%2C%2043.40681362725451%2C%2043.52705410821643%2C%2043.64729458917836%2C%2043.76753507014028%2C%2043.8877755511022%2C%2044.00801603206413%2C%2044.12825651302605%2C%2044.24849699398798%2C%2044.3687374749499%2C%2044.48897795591182%2C%2044.609218436873746%2C%2044.72945891783567%2C%2044.8496993987976%2C%2044.96993987975952%2C%2045.09018036072144%2C%2045.210420841683366%2C%2045.33066132264529%2C%2045.450901803607216%2C%2045.57114228456914%2C%2045.69138276553106%2C%2045.811623246492985%2C%2045.93186372745491%2C%2046.052104208416836%2C%2046.17234468937876%2C%2046.29258517034068%2C%2046.412825651302605%2C%2046.53306613226453%2C%2046.653306613226455%2C%2046.77354709418837%2C%2046.8937875751503%2C%2047.014028056112224%2C%2047.13426853707415%2C%2047.254509018036075%2C%2047.37474949899799%2C%2047.49498997995992%2C%2047.61523046092184%2C%2047.73547094188377%2C%2047.855711422845694%2C%2047.97595190380761%2C%2048.09619238476954%2C%2048.21643286573146%2C%2048.33667334669339%2C%2048.45691382765531%2C%2048.57715430861723%2C%2048.69739478957916%2C%2048.81763527054108%2C%2048.93787575150301%2C%2049.05811623246493%2C%2049.17835671342685%2C%2049.298597194388776%2C%2049.4188376753507%2C%2049.53907815631263%2C%2049.65931863727455%2C%2049.77955911823647%2C%2049.899799599198396%2C%2050.02004008016032%2C%2050.140280561122246%2C%2050.26052104208417%2C%2050.38076152304609%2C%2050.501002004008015%2C%2050.62124248496994%2C%2050.741482965931866%2C%2050.86172344689379%2C%2050.98196392785571%2C%2051.102204408817634%2C%2051.22244488977956%2C%2051.342685370741485%2C%2051.46292585170341%2C%2051.58316633266533%2C%2051.703406813627254%2C%2051.82364729458918%2C%2051.943887775551104%2C%2052.06412825651302%2C%2052.18436873747495%2C%2052.30460921843687%2C%2052.4248496993988%2C%2052.545090180360724%2C%2052.66533066132264%2C%2052.78557114228457%2C%2052.90581162324649%2C%2053.02605210420842%2C%2053.14629258517034%2C%2053.26653306613226%2C%2053.38677354709419%2C%2053.50701402805611%2C%2053.62725450901804%2C%2053.74749498997996%2C%2053.86773547094188%2C%2053.987975951903806%2C%2054.10821643286573%2C%2054.22845691382766%2C%2054.34869739478958%2C%2054.4689378757515%2C%2054.589178356713425%2C%2054.70941883767535%2C%2054.829659318637276%2C%2054.9498997995992%2C%2055.07014028056112%2C%2055.190380761523045%2C%2055.31062124248497%2C%2055.430861723446895%2C%2055.55110220440882%2C%2055.67134268537074%2C%2055.791583166332664%2C%2055.91182364729459%2C%2056.032064128256515%2C%2056.15230460921844%2C%2056.27254509018036%2C%2056.392785571142284%2C%2056.51302605210421%2C%2056.633266533066134%2C%2056.75350701402806%2C%2056.87374749498998%2C%2056.9939879759519%2C%2057.11422845691383%2C%2057.234468937875754%2C%2057.35470941883767%2C%2057.4749498997996%2C%2057.59519038076152%2C%2057.71543086172345%2C%2057.83567134268537%2C%2057.95591182364729%2C%2058.07615230460922%2C%2058.19639278557114%2C%2058.31663326653307%2C%2058.43687374749499%2C%2058.55711422845691%2C%2058.677354709418836%2C%2058.79759519038076%2C%2058.91783567134269%2C%2059.03807615230461%2C%2059.15831663326653%2C%2059.278557114228455%2C%2059.39879759519038%2C%2059.519038076152306%2C%2059.63927855711423%2C%2059.75951903807615%2C%2059.879759519038075%2C%2060.0%5D%29%0A%20%20%20%20%20%20%20%20%20%20%20%20%20%20.range%28%5B%27%23000000ff%27%2C%20%27%23000000ff%27%2C%20%27%23010101ff%27%2C%20%27%23020202ff%27%2C%20%27%23030303ff%27%2C%20%27%23030303ff%27%2C%20%27%23040404ff%27%2C%20%27%23050505ff%27%2C%20%27%23060606ff%27%2C%20%27%23060606ff%27%2C%20%27%23070707ff%27%2C%20%27%23080808ff%27%2C%20%27%23090909ff%27%2C%20%27%230a0a0aff%27%2C%20%27%230a0a0aff%27%2C%20%27%230b0b0bff%27%2C%20%27%230c0c0cff%27%2C%20%27%230d0d0dff%27%2C%20%27%230d0d0dff%27%2C%20%27%230e0e0eff%27%2C%20%27%230f0f0fff%27%2C%20%27%23101010ff%27%2C%20%27%23101010ff%27%2C%20%27%23111111ff%27%2C%20%27%23121212ff%27%2C%20%27%23131313ff%27%2C%20%27%23141414ff%27%2C%20%27%23141414ff%27%2C%20%27%23151515ff%27%2C%20%27%23161616ff%27%2C%20%27%23171717ff%27%2C%20%27%23171717ff%27%2C%20%27%23181818ff%27%2C%20%27%23191919ff%27%2C%20%27%231a1a1aff%27%2C%20%27%231b1b1bff%27%2C%20%27%231b1b1bff%27%2C%20%27%231c1c1cff%27%2C%20%27%231d1d1dff%27%2C%20%27%231e1e1eff%27%2C%20%27%231e1e1eff%27%2C%20%27%231f1f1fff%27%2C%20%27%23202020ff%27%2C%20%27%23212121ff%27%2C%20%27%23212121ff%27%2C%20%27%23222222ff%27%2C%20%27%23232323ff%27%2C%20%27%23242424ff%27%2C%20%27%23252525ff%27%2C%20%27%23252525ff%27%2C%20%27%23262626ff%27%2C%20%27%23272727ff%27%2C%20%27%23282828ff%27%2C%20%27%23282828ff%27%2C%20%27%23292929ff%27%2C%20%27%232a2a2aff%27%2C%20%27%232b2b2bff%27%2C%20%27%232c2c2cff%27%2C%20%27%232c2c2cff%27%2C%20%27%232d2d2dff%27%2C%20%27%232e2e2eff%27%2C%20%27%232f2f2fff%27%2C%20%27%232f2f2fff%27%2C%20%27%23303030ff%27%2C%20%27%23313131ff%27%2C%20%27%23323232ff%27%2C%20%27%23323232ff%27%2C%20%27%23333333ff%27%2C%20%27%23343434ff%27%2C%20%27%23353535ff%27%2C%20%27%23363636ff%27%2C%20%27%23363636ff%27%2C%20%27%23373737ff%27%2C%20%27%23383838ff%27%2C%20%27%23393939ff%27%2C%20%27%23393939ff%27%2C%20%27%233a3a3aff%27%2C%20%27%233b3b3bff%27%2C%20%27%233c3c3cff%27%2C%20%27%233d3d3dff%27%2C%20%27%233d3d3dff%27%2C%20%27%233e3e3eff%27%2C%20%27%233f3f3fff%27%2C%20%27%23404040ff%27%2C%20%27%23404040ff%27%2C%20%27%23414141ff%27%2C%20%27%23424242ff%27%2C%20%27%23434343ff%27%2C%20%27%23434343ff%27%2C%20%27%23444444ff%27%2C%20%27%23454545ff%27%2C%20%27%23464646ff%27%2C%20%27%23474747ff%27%2C%20%27%23474747ff%27%2C%20%27%23484848ff%27%2C%20%27%23494949ff%27%2C%20%27%234a4a4aff%27%2C%20%27%234a4a4aff%27%2C%20%27%234b4b4bff%27%2C%20%27%234c4c4cff%27%2C%20%27%234d4d4dff%27%2C%20%27%234e4e4eff%27%2C%20%27%234e4e4eff%27%2C%20%27%234f4f4fff%27%2C%20%27%23505050ff%27%2C%20%27%23515151ff%27%2C%20%27%23515151ff%27%2C%20%27%23525252ff%27%2C%20%27%23535353ff%27%2C%20%27%23545454ff%27%2C%20%27%23545454ff%27%2C%20%27%23555555ff%27%2C%20%27%23565656ff%27%2C%20%27%23575757ff%27%2C%20%27%23585858ff%27%2C%20%27%23585858ff%27%2C%20%27%23595959ff%27%2C%20%27%235a5a5aff%27%2C%20%27%235b5b5bff%27%2C%20%27%235b5b5bff%27%2C%20%27%235c5c5cff%27%2C%20%27%235d5d5dff%27%2C%20%27%235e5e5eff%27%2C%20%27%235f5f5fff%27%2C%20%27%235f5f5fff%27%2C%20%27%23606060ff%27%2C%20%27%23616161ff%27%2C%20%27%23626262ff%27%2C%20%27%23626262ff%27%2C%20%27%23636363ff%27%2C%20%27%23646464ff%27%2C%20%27%23656565ff%27%2C%20%27%23656565ff%27%2C%20%27%23666666ff%27%2C%20%27%23676767ff%27%2C%20%27%23686868ff%27%2C%20%27%23696969ff%27%2C%20%27%23696969ff%27%2C%20%27%236a6a6aff%27%2C%20%27%236b6b6bff%27%2C%20%27%236c6c6cff%27%2C%20%27%236c6c6cff%27%2C%20%27%236d6d6dff%27%2C%20%27%236e6e6eff%27%2C%20%27%236f6f6fff%27%2C%20%27%23707070ff%27%2C%20%27%23707070ff%27%2C%20%27%23717171ff%27%2C%20%27%23727272ff%27%2C%20%27%23737373ff%27%2C%20%27%23737373ff%27%2C%20%27%23747474ff%27%2C%20%27%23757575ff%27%2C%20%27%23767676ff%27%2C%20%27%23767676ff%27%2C%20%27%23777777ff%27%2C%20%27%23787878ff%27%2C%20%27%23797979ff%27%2C%20%27%237a7a7aff%27%2C%20%27%237a7a7aff%27%2C%20%27%237b7b7bff%27%2C%20%27%237c7c7cff%27%2C%20%27%237d7d7dff%27%2C%20%27%237d7d7dff%27%2C%20%27%237e7e7eff%27%2C%20%27%237f7f7fff%27%2C%20%27%23808080ff%27%2C%20%27%2381817fff%27%2C%20%27%2381817fff%27%2C%20%27%2382827eff%27%2C%20%27%2383837dff%27%2C%20%27%2384847cff%27%2C%20%27%2384847cff%27%2C%20%27%2385857bff%27%2C%20%27%2386867aff%27%2C%20%27%23878779ff%27%2C%20%27%23878779ff%27%2C%20%27%23888878ff%27%2C%20%27%23898977ff%27%2C%20%27%238a8a76ff%27%2C%20%27%238a8a75ff%27%2C%20%27%238b8b75ff%27%2C%20%27%238c8c74ff%27%2C%20%27%238d8d73ff%27%2C%20%27%238e8e72ff%27%2C%20%27%238e8e72ff%27%2C%20%27%238f8f71ff%27%2C%20%27%23909070ff%27%2C%20%27%2391916fff%27%2C%20%27%2391916eff%27%2C%20%27%2392926eff%27%2C%20%27%2393936dff%27%2C%20%27%2394946cff%27%2C%20%27%2394946bff%27%2C%20%27%2395956bff%27%2C%20%27%2396966aff%27%2C%20%27%23979769ff%27%2C%20%27%23989868ff%27%2C%20%27%23989868ff%27%2C%20%27%23999967ff%27%2C%20%27%239a9a66ff%27%2C%20%27%239b9b65ff%27%2C%20%27%239b9b64ff%27%2C%20%27%239c9c64ff%27%2C%20%27%239d9d63ff%27%2C%20%27%239e9e62ff%27%2C%20%27%239e9e61ff%27%2C%20%27%239f9f61ff%27%2C%20%27%23a0a060ff%27%2C%20%27%23a1a15fff%27%2C%20%27%23a1a15eff%27%2C%20%27%23a2a25dff%27%2C%20%27%23a3a35dff%27%2C%20%27%23a4a45cff%27%2C%20%27%23a5a55bff%27%2C%20%27%23a5a55aff%27%2C%20%27%23a6a65aff%27%2C%20%27%23a7a759ff%27%2C%20%27%23a8a858ff%27%2C%20%27%23a8a857ff%27%2C%20%27%23a9a957ff%27%2C%20%27%23aaaa56ff%27%2C%20%27%23abab55ff%27%2C%20%27%23abab54ff%27%2C%20%27%23acac53ff%27%2C%20%27%23adad53ff%27%2C%20%27%23aeae52ff%27%2C%20%27%23afaf51ff%27%2C%20%27%23afaf50ff%27%2C%20%27%23b0b050ff%27%2C%20%27%23b1b14fff%27%2C%20%27%23b2b24eff%27%2C%20%27%23b2b24dff%27%2C%20%27%23b3b34cff%27%2C%20%27%23b4b44cff%27%2C%20%27%23b5b54bff%27%2C%20%27%23b5b54aff%27%2C%20%27%23b6b649ff%27%2C%20%27%23b7b749ff%27%2C%20%27%23b8b848ff%27%2C%20%27%23b8b847ff%27%2C%20%27%23b9b946ff%27%2C%20%27%23baba46ff%27%2C%20%27%23bbbb45ff%27%2C%20%27%23bcbc44ff%27%2C%20%27%23bcbc43ff%27%2C%20%27%23bdbd42ff%27%2C%20%27%23bebe42ff%27%2C%20%27%23bfbf41ff%27%2C%20%27%23bfbf40ff%27%2C%20%27%23c0c03fff%27%2C%20%27%23c1c13fff%27%2C%20%27%23c2c23eff%27%2C%20%27%23c2c23dff%27%2C%20%27%23c3c33cff%27%2C%20%27%23c4c43cff%27%2C%20%27%23c5c53bff%27%2C%20%27%23c5c53aff%27%2C%20%27%23c6c639ff%27%2C%20%27%23c7c738ff%27%2C%20%27%23c8c838ff%27%2C%20%27%23c9c937ff%27%2C%20%27%23c9c936ff%27%2C%20%27%23caca35ff%27%2C%20%27%23cbcb35ff%27%2C%20%27%23cccc34ff%27%2C%20%27%23cccc33ff%27%2C%20%27%23cdcd32ff%27%2C%20%27%23cece31ff%27%2C%20%27%23cfcf31ff%27%2C%20%27%23cfcf30ff%27%2C%20%27%23d0d02fff%27%2C%20%27%23d1d12eff%27%2C%20%27%23d2d22eff%27%2C%20%27%23d3d32dff%27%2C%20%27%23d3d32cff%27%2C%20%27%23d4d42bff%27%2C%20%27%23d5d52bff%27%2C%20%27%23d6d62aff%27%2C%20%27%23d6d629ff%27%2C%20%27%23d7d728ff%27%2C%20%27%23d8d827ff%27%2C%20%27%23d9d927ff%27%2C%20%27%23d9d926ff%27%2C%20%27%23dada25ff%27%2C%20%27%23dbdb24ff%27%2C%20%27%23dcdc24ff%27%2C%20%27%23dcdc23ff%27%2C%20%27%23dddd22ff%27%2C%20%27%23dede21ff%27%2C%20%27%23dfdf20ff%27%2C%20%27%23e0e020ff%27%2C%20%27%23e0e01fff%27%2C%20%27%23e1e11eff%27%2C%20%27%23e2e21dff%27%2C%20%27%23e3e31dff%27%2C%20%27%23e3e31cff%27%2C%20%27%23e4e41bff%27%2C%20%27%23e5e51aff%27%2C%20%27%23e6e61aff%27%2C%20%27%23e6e619ff%27%2C%20%27%23e7e718ff%27%2C%20%27%23e8e817ff%27%2C%20%27%23e9e916ff%27%2C%20%27%23eaea16ff%27%2C%20%27%23eaea15ff%27%2C%20%27%23ebeb14ff%27%2C%20%27%23ecec13ff%27%2C%20%27%23eded13ff%27%2C%20%27%23eded12ff%27%2C%20%27%23eeee11ff%27%2C%20%27%23efef10ff%27%2C%20%27%23f0f00fff%27%2C%20%27%23f0f00fff%27%2C%20%27%23f1f10eff%27%2C%20%27%23f2f20dff%27%2C%20%27%23f3f30cff%27%2C%20%27%23f3f30cff%27%2C%20%27%23f4f40bff%27%2C%20%27%23f5f50aff%27%2C%20%27%23f6f609ff%27%2C%20%27%23f7f709ff%27%2C%20%27%23f7f708ff%27%2C%20%27%23f8f807ff%27%2C%20%27%23f9f906ff%27%2C%20%27%23fafa05ff%27%2C%20%27%23fafa05ff%27%2C%20%27%23fbfb04ff%27%2C%20%27%23fcfc03ff%27%2C%20%27%23fdfd02ff%27%2C%20%27%23fdfd02ff%27%2C%20%27%23fefe01ff%27%2C%20%27%23ffff00ff%27%2C%20%27%23ffff00ff%27%2C%20%27%23ffff00ff%27%2C%20%27%23fffe00ff%27%2C%20%27%23fffe00ff%27%2C%20%27%23fffd00ff%27%2C%20%27%23fffd00ff%27%2C%20%27%23fffc00ff%27%2C%20%27%23fffc00ff%27%2C%20%27%23fffb00ff%27%2C%20%27%23fffa00ff%27%2C%20%27%23fffa00ff%27%2C%20%27%23fff900ff%27%2C%20%27%23fff900ff%27%2C%20%27%23fff800ff%27%2C%20%27%23fff800ff%27%2C%20%27%23fff700ff%27%2C%20%27%23fff700ff%27%2C%20%27%23fff600ff%27%2C%20%27%23fff600ff%27%2C%20%27%23fff500ff%27%2C%20%27%23fff400ff%27%2C%20%27%23fff400ff%27%2C%20%27%23fff300ff%27%2C%20%27%23fff300ff%27%2C%20%27%23fff200ff%27%2C%20%27%23fff200ff%27%2C%20%27%23fff100ff%27%2C%20%27%23fff100ff%27%2C%20%27%23fff000ff%27%2C%20%27%23fff000ff%27%2C%20%27%23ffef00ff%27%2C%20%27%23ffee00ff%27%2C%20%27%23ffee00ff%27%2C%20%27%23ffed00ff%27%2C%20%27%23ffed00ff%27%2C%20%27%23ffec00ff%27%2C%20%27%23ffec00ff%27%2C%20%27%23ffeb00ff%27%2C%20%27%23ffeb00ff%27%2C%20%27%23ffea00ff%27%2C%20%27%23ffea00ff%27%2C%20%27%23ffe900ff%27%2C%20%27%23ffe900ff%27%2C%20%27%23ffe800ff%27%2C%20%27%23ffe700ff%27%2C%20%27%23ffe700ff%27%2C%20%27%23ffe600ff%27%2C%20%27%23ffe600ff%27%2C%20%27%23ffe500ff%27%2C%20%27%23ffe500ff%27%2C%20%27%23ffe400ff%27%2C%20%27%23ffe400ff%27%2C%20%27%23ffe300ff%27%2C%20%27%23ffe300ff%27%2C%20%27%23ffe200ff%27%2C%20%27%23ffe100ff%27%2C%20%27%23ffe100ff%27%2C%20%27%23ffe000ff%27%2C%20%27%23ffe000ff%27%2C%20%27%23ffdf00ff%27%2C%20%27%23ffdf00ff%27%2C%20%27%23ffde00ff%27%2C%20%27%23ffde00ff%27%2C%20%27%23ffdd00ff%27%2C%20%27%23ffdd00ff%27%2C%20%27%23ffdc00ff%27%2C%20%27%23ffdb00ff%27%2C%20%27%23ffdb00ff%27%2C%20%27%23ffda00ff%27%2C%20%27%23ffda00ff%27%2C%20%27%23ffd900ff%27%2C%20%27%23ffd900ff%27%2C%20%27%23ffd800ff%27%2C%20%27%23ffd800ff%27%2C%20%27%23ffd700ff%27%2C%20%27%23ffd700ff%27%2C%20%27%23ffd600ff%27%2C%20%27%23ffd500ff%27%2C%20%27%23ffd500ff%27%2C%20%27%23ffd400ff%27%2C%20%27%23ffd400ff%27%2C%20%27%23ffd300ff%27%2C%20%27%23ffd300ff%27%2C%20%27%23ffd200ff%27%2C%20%27%23ffd200ff%27%2C%20%27%23ffd100ff%27%2C%20%27%23ffd100ff%27%2C%20%27%23ffd000ff%27%2C%20%27%23ffd000ff%27%2C%20%27%23ffcf00ff%27%2C%20%27%23ffce00ff%27%2C%20%27%23ffce00ff%27%2C%20%27%23ffcd00ff%27%2C%20%27%23ffcd00ff%27%2C%20%27%23ffcc00ff%27%2C%20%27%23ffcc00ff%27%2C%20%27%23ffcb00ff%27%2C%20%27%23ffcb00ff%27%2C%20%27%23ffca00ff%27%2C%20%27%23ffca00ff%27%2C%20%27%23ffc900ff%27%2C%20%27%23ffc800ff%27%2C%20%27%23ffc800ff%27%2C%20%27%23ffc700ff%27%2C%20%27%23ffc700ff%27%2C%20%27%23ffc600ff%27%2C%20%27%23ffc600ff%27%2C%20%27%23ffc500ff%27%2C%20%27%23ffc500ff%27%2C%20%27%23ffc400ff%27%2C%20%27%23ffc400ff%27%2C%20%27%23ffc300ff%27%2C%20%27%23ffc200ff%27%2C%20%27%23ffc200ff%27%2C%20%27%23ffc100ff%27%2C%20%27%23ffc100ff%27%2C%20%27%23ffc000ff%27%2C%20%27%23ffc000ff%27%2C%20%27%23ffbf00ff%27%2C%20%27%23ffbf00ff%27%2C%20%27%23ffbe00ff%27%2C%20%27%23ffbe00ff%27%2C%20%27%23ffbd00ff%27%2C%20%27%23ffbd00ff%27%2C%20%27%23ffbc00ff%27%2C%20%27%23ffbb00ff%27%2C%20%27%23ffbb00ff%27%2C%20%27%23ffba00ff%27%2C%20%27%23ffba00ff%27%2C%20%27%23ffb900ff%27%2C%20%27%23ffb900ff%27%2C%20%27%23ffb800ff%27%2C%20%27%23ffb800ff%27%2C%20%27%23ffb700ff%27%2C%20%27%23ffb700ff%27%2C%20%27%23ffb600ff%27%2C%20%27%23ffb500ff%27%2C%20%27%23ffb500ff%27%2C%20%27%23ffb400ff%27%2C%20%27%23ffb400ff%27%2C%20%27%23ffb300ff%27%2C%20%27%23ffb300ff%27%2C%20%27%23ffb200ff%27%2C%20%27%23ffb200ff%27%2C%20%27%23ffb100ff%27%2C%20%27%23ffb100ff%27%2C%20%27%23ffb000ff%27%2C%20%27%23ffaf00ff%27%2C%20%27%23ffaf00ff%27%2C%20%27%23ffae00ff%27%2C%20%27%23ffae00ff%27%2C%20%27%23ffad00ff%27%2C%20%27%23ffad00ff%27%2C%20%27%23ffac00ff%27%2C%20%27%23ffac00ff%27%2C%20%27%23ffab00ff%27%2C%20%27%23ffab00ff%27%2C%20%27%23ffaa00ff%27%2C%20%27%23ffa900ff%27%2C%20%27%23ffa900ff%27%2C%20%27%23ffa800ff%27%2C%20%27%23ffa800ff%27%2C%20%27%23ffa700ff%27%2C%20%27%23ffa700ff%27%2C%20%27%23ffa600ff%27%2C%20%27%23ffa600ff%27%2C%20%27%23ffa500ff%27%5D%29%3B%0A%20%20%20%20%0A%0A%20%20%20%20color_map_6a7daac7218941278d7ca2e231d36c8a.x%20%3D%20d3.scale.linear%28%29%0A%20%20%20%20%20%20%20%20%20%20%20%20%20%20.domain%28%5B0.0%2C%2060.0%5D%29%0A%20%20%20%20%20%20%20%20%20%20%20%20%20%20.range%28%5B0%2C%20400%5D%29%3B%0A%0A%20%20%20%20color_map_6a7daac7218941278d7ca2e231d36c8a.legend%20%3D%20L.control%28%7Bposition%3A%20%27topright%27%7D%29%3B%0A%20%20%20%20color_map_6a7daac7218941278d7ca2e231d36c8a.legend.onAdd%20%3D%20function%20%28map%29%20%7Bvar%20div%20%3D%20L.DomUtil.create%28%27div%27%2C%20%27legend%27%29%3B%20return%20div%7D%3B%0A%20%20%20%20color_map_6a7daac7218941278d7ca2e231d36c8a.legend.addTo%28map_eece69b4f94247c2b947bf71450c433e%29%3B%0A%0A%20%20%20%20color_map_6a7daac7218941278d7ca2e231d36c8a.xAxis%20%3D%20d3.svg.axis%28%29%0A%20%20%20%20%20%20%20%20.scale%28color_map_6a7daac7218941278d7ca2e231d36c8a.x%29%0A%20%20%20%20%20%20%20%20.orient%28%22top%22%29%0A%20%20%20%20%20%20%20%20.tickSize%281%29%0A%20%20%20%20%20%20%20%20.tickValues%28%5B0.0%2C%2020.0%2C%2040.0%2C%2060.0%5D%29%3B%0A%0A%20%20%20%20color_map_6a7daac7218941278d7ca2e231d36c8a.svg%20%3D%20d3.select%28%22.legend.leaflet-control%22%29.append%28%22svg%22%29%0A%20%20%20%20%20%20%20%20.attr%28%22id%22%2C%20%27legend%27%29%0A%20%20%20%20%20%20%20%20.attr%28%22width%22%2C%20450%29%0A%20%20%20%20%20%20%20%20.attr%28%22height%22%2C%2040%29%3B%0A%0A%20%20%20%20color_map_6a7daac7218941278d7ca2e231d36c8a.g%20%3D%20color_map_6a7daac7218941278d7ca2e231d36c8a.svg.append%28%22g%22%29%0A%20%20%20%20%20%20%20%20.attr%28%22class%22%2C%20%22key%22%29%0A%20%20%20%20%20%20%20%20.attr%28%22transform%22%2C%20%22translate%2825%2C16%29%22%29%3B%0A%0A%20%20%20%20color_map_6a7daac7218941278d7ca2e231d36c8a.g.selectAll%28%22rect%22%29%0A%20%20%20%20%20%20%20%20.data%28color_map_6a7daac7218941278d7ca2e231d36c8a.color.range%28%29.map%28function%28d%2C%20i%29%20%7B%0A%20%20%20%20%20%20%20%20%20%20return%20%7B%0A%20%20%20%20%20%20%20%20%20%20%20%20x0%3A%20i%20%3F%20color_map_6a7daac7218941278d7ca2e231d36c8a.x%28color_map_6a7daac7218941278d7ca2e231d36c8a.color.domain%28%29%5Bi%20-%201%5D%29%20%3A%20color_map_6a7daac7218941278d7ca2e231d36c8a.x.range%28%29%5B0%5D%2C%0A%20%20%20%20%20%20%20%20%20%20%20%20x1%3A%20i%20%3C%20color_map_6a7daac7218941278d7ca2e231d36c8a.color.domain%28%29.length%20%3F%20color_map_6a7daac7218941278d7ca2e231d36c8a.x%28color_map_6a7daac7218941278d7ca2e231d36c8a.color.domain%28%29%5Bi%5D%29%20%3A%20color_map_6a7daac7218941278d7ca2e231d36c8a.x.range%28%29%5B1%5D%2C%0A%20%20%20%20%20%20%20%20%20%20%20%20z%3A%20d%0A%20%20%20%20%20%20%20%20%20%20%7D%3B%0A%20%20%20%20%20%20%20%20%7D%29%29%0A%20%20%20%20%20%20.enter%28%29.append%28%22rect%22%29%0A%20%20%20%20%20%20%20%20.attr%28%22height%22%2C%2010%29%0A%20%20%20%20%20%20%20%20.attr%28%22x%22%2C%20function%28d%29%20%7B%20return%20d.x0%3B%20%7D%29%0A%20%20%20%20%20%20%20%20.attr%28%22width%22%2C%20function%28d%29%20%7B%20return%20d.x1%20-%20d.x0%3B%20%7D%29%0A%20%20%20%20%20%20%20%20.style%28%22fill%22%2C%20function%28d%29%20%7B%20return%20d.z%3B%20%7D%29%3B%0A%0A%20%20%20%20color_map_6a7daac7218941278d7ca2e231d36c8a.g.call%28color_map_6a7daac7218941278d7ca2e231d36c8a.xAxis%29.append%28%22text%22%29%0A%20%20%20%20%20%20%20%20.attr%28%22class%22%2C%20%22caption%22%29%0A%20%20%20%20%20%20%20%20.attr%28%22y%22%2C%2021%29%0A%20%20%20%20%20%20%20%20.text%28%27Percent%20Cover%27%29%3B%0A%20%20%20%20%0A%20%20%20%20%20%20%20%20%20%20%20%20var%20layer_control_da131dddc7f54ee0af725942ab1d34d9%20%3D%20%7B%0A%20%20%20%20%20%20%20%20%20%20%20%20%20%20%20%20base_layers%20%3A%20%7B%0A%20%20%20%20%20%20%20%20%20%20%20%20%20%20%20%20%20%20%20%20%22openstreetmap%22%20%3A%20tile_layer_1081a7251aef4c0898374c5afb7fb521%2C%0A%20%20%20%20%20%20%20%20%20%20%20%20%20%20%20%20%7D%2C%0A%20%20%20%20%20%20%20%20%20%20%20%20%20%20%20%20overlays%20%3A%20%20%7B%0A%20%20%20%20%20%20%20%20%20%20%20%20%20%20%20%20%20%20%20%20%222020%20Annual%20grass%20%5Cu0026%20forb%20cover%29%22%20%3A%20tile_layer_e6f9e3bb93074f22831d3775ea05779b%2C%0A%20%20%20%20%20%20%20%20%20%20%20%20%20%20%20%20%20%20%20%20%222010%20Annual%20grass%20%5Cu0026%20forb%20cover%29%22%20%3A%20tile_layer_f58b40ba0cc849508ed35cc2e2fdcf42%2C%0A%20%20%20%20%20%20%20%20%20%20%20%20%20%20%20%20%20%20%20%20%222000%20Annual%20grass%20%5Cu0026%20forb%20cover%22%20%3A%20tile_layer_61f6127d5316484c930d032690579a97%2C%0A%20%20%20%20%20%20%20%20%20%20%20%20%20%20%20%20%20%20%20%20%221990%20Annual%20grass%20%5Cu0026%20forb%20cover%29%22%20%3A%20tile_layer_5e85c699554a4486b736d2ec0420a9b9%2C%0A%20%20%20%20%20%20%20%20%20%20%20%20%20%20%20%20%7D%2C%0A%20%20%20%20%20%20%20%20%20%20%20%20%7D%3B%0A%20%20%20%20%20%20%20%20%20%20%20%20L.control.layers%28%0A%20%20%20%20%20%20%20%20%20%20%20%20%20%20%20%20layer_control_da131dddc7f54ee0af725942ab1d34d9.base_layers%2C%0A%20%20%20%20%20%20%20%20%20%20%20%20%20%20%20%20layer_control_da131dddc7f54ee0af725942ab1d34d9.overlays%2C%0A%20%20%20%20%20%20%20%20%20%20%20%20%20%20%20%20%7B%22autoZIndex%22%3A%20true%2C%20%22collapsed%22%3A%20false%2C%20%22position%22%3A%20%22topright%22%7D%0A%20%20%20%20%20%20%20%20%20%20%20%20%29.addTo%28map_eece69b4f94247c2b947bf71450c433e%29%3B%0A%20%20%20%20%20%20%20%20%0A%3C/script%3E onload=\"this.contentDocument.open();this.contentDocument.write(    decodeURIComponent(this.getAttribute('data-html')));this.contentDocument.close();\" allowfullscreen webkitallowfullscreen mozallowfullscreen></iframe></div></div>"
      ],
      "text/plain": [
       "<folium.folium.Map at 0x19c45d382c8>"
      ]
     },
     "metadata": {},
     "output_type": "display_data"
    }
   ],
   "source": [
    "# Add EE drawing method to folium.\n",
    "folium.Map.add_ee_layer = add_ee_layer\n",
    "# Create a folium map object.\n",
    "my_map = folium.Map(location=[43.3, -114.418], zoom_start=5)\n",
    "\n",
    "#define the color palette and max/min values \n",
    "vmin = 0\n",
    "vmax = 60\n",
    "BL_OR = ['black', 'gray', 'yellow', 'orange'] \n",
    "\n",
    "#set parameters\n",
    "params = {'min': vmin, 'max': vmax, 'palette': BL_OR}\n",
    "\n",
    "#add layers to map using params         \n",
    "my_map.add_ee_layer(A_2020, params, '2020 Annual grass & forb cover)')\n",
    "my_map.add_ee_layer(A_2010, params, '2010 Annual grass & forb cover)')\n",
    "my_map.add_ee_layer(A_2000, params, '2000 Annual grass & forb cover')\n",
    "my_map.add_ee_layer(A_1990, params, '1990 Annual grass & forb cover)')\n",
    "#add colorbar\n",
    "colormap = cm.LinearColormap(PuBuGn, vmin=vmin, vmax=vmax)\n",
    "colormap.caption = \"Percent Cover\"\n",
    "colormap.add_to(my_map) \n",
    "#add layer control\n",
    "folium.LayerControl(collapsed = False).add_to(my_map)# Add a layer control panel to the map.\n",
    "\n",
    "\n",
    "display(my_map)# Display the map"
   ]
  },
  {
   "cell_type": "markdown",
   "id": "17cff778-f5aa-4abb-abab-9af4f1d78486",
   "metadata": {
    "jp-MarkdownHeadingCollapsed": true,
    "tags": []
   },
   "source": [
    "# Goal 2: Understand how plant cover has changed within my study area over time\n",
    "How has plant cover changed in the area with 10 km around Rock Creek Ranch? "
   ]
  },
  {
   "cell_type": "markdown",
   "id": "0c4b2878-623c-4f3c-9c3e-f53c77f721f9",
   "metadata": {},
   "source": [
    "### start by extracting annual grass cover within this area over for each year of the dataset (1984-current)"
   ]
  },
  {
   "cell_type": "code",
   "execution_count": 25,
   "id": "6c169514-d3d3-4f3b-b7fe-ab783fe798a8",
   "metadata": {},
   "outputs": [],
   "source": [
    "#import the range cover data from GEE\n",
    "cover =  ee.ImageCollection(\"projects/rangeland-analysis-platform/vegetation-cover-v2\") # this is an image collection of plant cover"
   ]
  },
  {
   "cell_type": "code",
   "execution_count": 26,
   "id": "9aebe5c6-41d0-433f-9423-3e423ac89476",
   "metadata": {},
   "outputs": [],
   "source": [
    "# Define the location of interest for the Ranch.\n",
    "ranch_lon = -114.418\n",
    "rach_lat =  43.368564 \n",
    "ranch_poi = ee.Geometry.Point(ranch_lon, rach_lat) \n",
    "\n",
    "# Define the operative scale of the dataset.  This is important for defining how EE does its analyses.\n",
    "#    This should be the resolution of the data product.\n",
    "scale = 30  # scale in meters"
   ]
  },
  {
   "cell_type": "code",
   "execution_count": 27,
   "id": "2f49e017-cc62-43b4-9893-dee2173f9353",
   "metadata": {},
   "outputs": [],
   "source": [
    "#create a area of interest with buffer around the ranch point \n",
    "ranch_roi = ranch_poi.buffer(1e3) #10,000 m = 10 km "
   ]
  },
  {
   "cell_type": "markdown",
   "id": "de3c6f44-2089-46d1-8764-011fdfceb9a8",
   "metadata": {
    "tags": []
   },
   "source": [
    "### 1. Filter dataset to only annual cover "
   ]
  },
  {
   "cell_type": "code",
   "execution_count": 28,
   "id": "739bb295-2490-4e47-bde3-b28e0b528cd5",
   "metadata": {},
   "outputs": [
    {
     "name": "stdout",
     "output_type": "stream",
     "text": [
      "['AFGC', 'BG', 'LTR', 'PFGC', 'SHR', 'TREE', 'AFGCSTD', 'BGSTD', 'LTRSTD', 'PFGCSTD', 'SHRSTD', 'TREESTD']\n"
     ]
    }
   ],
   "source": [
    "#what are the band names \n",
    "print(cover.first().bandNames().getInfo())"
   ]
  },
  {
   "cell_type": "code",
   "execution_count": 29,
   "id": "0494d1ab-b74e-4db4-8c12-efd0a0eba698",
   "metadata": {},
   "outputs": [],
   "source": [
    "#create region reduction function \n",
    "def create_reduce_region_function(geometry,\n",
    "                                  reducer=ee.Reducer.mean(),\n",
    "                                  scale=1000,\n",
    "                                  crs='EPSG:4326',\n",
    "                                  bestEffort=True,\n",
    "                                  maxPixels=1e13,\n",
    "                                  tileScale=4):\n",
    "  \"\"\"Creates a region reduction function.\n",
    "\n",
    "  Creates a region reduction function intended to be used as the input function\n",
    "  to ee.ImageCollection.map() for reducing pixels intersecting a provided region\n",
    "  to a statistic for each image in a collection. See ee.Image.reduceRegion()\n",
    "  documentation for more details.\n",
    "\n",
    "  Args:\n",
    "    geometry:\n",
    "      An ee.Geometry that defines the region over which to reduce data.\n",
    "    reducer:\n",
    "      Optional; An ee.Reducer that defines the reduction method.\n",
    "    scale:\n",
    "      Optional; A number that defines the nominal scale in meters of the\n",
    "      projection to work in.\n",
    "    crs:\n",
    "      Optional; An ee.Projection or EPSG string ('EPSG:5070') that defines\n",
    "      the projection to work in.\n",
    "    bestEffort:\n",
    "      Optional; A Boolean indicator for whether to use a larger scale if the\n",
    "      geometry contains too many pixels at the given scale for the operation\n",
    "      to succeed.\n",
    "    maxPixels:\n",
    "      Optional; A number specifying the maximum number of pixels to reduce.\n",
    "    tileScale:\n",
    "      Optional; A number representing the scaling factor used to reduce\n",
    "      aggregation tile size; using a larger tileScale (e.g. 2 or 4) may enable\n",
    "      computations that run out of memory with the default.\n",
    "\n",
    "  Returns:\n",
    "    A function that accepts an ee.Image and reduces it by region, according to\n",
    "    the provided arguments.\n",
    "  \"\"\"\n",
    "\n",
    "  def reduce_region_function(img):\n",
    "    \"\"\"Applies the ee.Image.reduceRegion() method.\n",
    "\n",
    "    Args:\n",
    "      img:\n",
    "        An ee.Image to reduce to a statistic by region.\n",
    "\n",
    "    Returns:\n",
    "      An ee.Feature that contains properties representing the image region\n",
    "      reduction results per band and the image timestamp formatted as\n",
    "      milliseconds from Unix epoch (included to enable time series plotting).\n",
    "    \"\"\"\n",
    "\n",
    "    stat = img.reduceRegion(\n",
    "        reducer=reducer,\n",
    "        geometry=geometry,\n",
    "        scale=scale,\n",
    "        crs=crs,\n",
    "        bestEffort=bestEffort,\n",
    "        maxPixels=maxPixels,\n",
    "        tileScale=tileScale)\n",
    "\n",
    "    return ee.Feature(geometry, stat).set({'millis': img.date().millis()})\n",
    "  return reduce_region_function"
   ]
  },
  {
   "cell_type": "markdown",
   "id": "def0d5e7-a431-43b3-a953-67657d6cb10a",
   "metadata": {},
   "source": [
    "**The band we care about for annual plant cover is AFGC = annual forb and grasses**"
   ]
  },
  {
   "cell_type": "code",
   "execution_count": 30,
   "id": "16c3d311-64ab-477f-a3f9-64eb16e94877",
   "metadata": {},
   "outputs": [
    {
     "name": "stdout",
     "output_type": "stream",
     "text": [
      "<class 'ee.imagecollection.ImageCollection'>\n"
     ]
    }
   ],
   "source": [
    "ag_cover_collection = cover.select('AFGC')  #image collection for all the years, only shrub cover \n",
    "print(type(ag_cover_collection)) #image collection"
   ]
  },
  {
   "cell_type": "markdown",
   "id": "6b39a43f-3a03-4340-bc0b-e0d0e18719c8",
   "metadata": {},
   "source": [
    "### 2. Reduce dataset to average cover around the ranch"
   ]
  },
  {
   "cell_type": "code",
   "execution_count": 31,
   "id": "ba738979-3ede-4a22-aa50-0e7acb8ba095",
   "metadata": {},
   "outputs": [],
   "source": [
    "#create a method for how and where we would like the cover data reduced\n",
    "\n",
    "reduce_ag = create_reduce_region_function(\n",
    "    geometry=ranch_roi, reducer=ee.Reducer.mean(), scale=scale, crs='EPSG:3310')"
   ]
  },
  {
   "cell_type": "code",
   "execution_count": 32,
   "id": "c0a261c0-2698-48a8-8dc5-bb75b8289272",
   "metadata": {},
   "outputs": [
    {
     "data": {
      "text/plain": [
       "ee.geometry.Geometry"
      ]
     },
     "execution_count": 32,
     "metadata": {},
     "output_type": "execute_result"
    }
   ],
   "source": [
    "type(ranch_roi)"
   ]
  },
  {
   "cell_type": "code",
   "execution_count": 33,
   "id": "c3c2e664-77bc-443d-9aa0-344a7ccd25db",
   "metadata": {},
   "outputs": [],
   "source": [
    "#use the reduction method you just created to filter and take out null values. \n",
    "#this converts the image collection to a feature collection\n",
    "\n",
    "ag_stat_fc = ee.FeatureCollection(ag_cover_collection.map(reduce_ag)).filter(\n",
    "    ee.Filter.notNull(ag_cover_collection.first().bandNames())) #filter out null values"
   ]
  },
  {
   "cell_type": "markdown",
   "id": "7ef05528-3904-40c5-a1fc-fc6808767f8a",
   "metadata": {},
   "source": [
    "### 3. format into a table"
   ]
  },
  {
   "cell_type": "code",
   "execution_count": 34,
   "id": "1cc9126e-b50b-4af8-96df-4e688ec59149",
   "metadata": {},
   "outputs": [],
   "source": [
    "#converts feature collection to an ee.Dictionary\n",
    "\n",
    "# Define a function to transfer feature properties to a dictionary.\n",
    "def fc_to_dict(fc):\n",
    "  prop_names = fc.first().propertyNames()\n",
    "  prop_lists = fc.reduceColumns(\n",
    "      reducer=ee.Reducer.toList().repeat(prop_names.size()),\n",
    "      selectors=prop_names).get('list')\n",
    "\n",
    "  return ee.Dictionary.fromLists(prop_names, prop_lists)"
   ]
  },
  {
   "cell_type": "code",
   "execution_count": 35,
   "id": "b0f70b3b-5edd-4621-818a-ed00c53ab4e5",
   "metadata": {},
   "outputs": [],
   "source": [
    "ag_dict = fc_to_dict(ag_stat_fc).getInfo() #result is a python dictionary"
   ]
  },
  {
   "cell_type": "code",
   "execution_count": 36,
   "id": "e8ae73e6-8126-44f8-b4a9-fc1fefd1c5da",
   "metadata": {},
   "outputs": [
    {
     "name": "stdout",
     "output_type": "stream",
     "text": [
      "<class 'dict'> \n",
      "\n",
      "AFGC: [1.581007996095589, 1.2649074121365858, 1.724521170642014, '...']\n",
      "millis: [441763200000, 473385600000, 504921600000, '...']\n",
      "system:index: ['1984', '1985', '1986', '...']\n"
     ]
    }
   ],
   "source": [
    "print(type(ag_dict), '\\n')\n",
    "for prop in ag_dict.keys():\n",
    "    print(prop + ':', ag_dict[prop][0:3] + ['...'])"
   ]
  },
  {
   "cell_type": "code",
   "execution_count": 37,
   "id": "e1c5c62a-86b9-4000-814e-0f9e5027266f",
   "metadata": {},
   "outputs": [],
   "source": [
    "#convert the python dictionary to a pandas dataframe\n",
    "ag_df = pd.DataFrame(ag_dict)"
   ]
  },
  {
   "cell_type": "code",
   "execution_count": 38,
   "id": "c125fde0-b658-4d01-aa14-195514e4ce1a",
   "metadata": {
    "tags": []
   },
   "outputs": [
    {
     "name": "stdout",
     "output_type": "stream",
     "text": [
      "AFGC            float64\n",
      "millis            int64\n",
      "system:index     object\n",
      "dtype: object\n"
     ]
    }
   ],
   "source": [
    "#Preview the DataFrame and check the column data types.\n",
    "ag_df.head(5)\n",
    "print(ag_df.dtypes)\n",
    "\n",
    "#the system:time_start column is data in milliseconds"
   ]
  },
  {
   "cell_type": "markdown",
   "id": "ea83df75-36f4-4c6f-aef5-807da6d11d02",
   "metadata": {},
   "source": [
    "**since these data are just annual, we do not need to worry about converting milliseconds to year, date, month. We just want the year, which is already provided to us in 'system:index' column**"
   ]
  },
  {
   "cell_type": "code",
   "execution_count": 39,
   "id": "92e55f66-a086-4bd9-8fea-e59d449b3539",
   "metadata": {},
   "outputs": [
    {
     "data": {
      "text/html": [
       "<div>\n",
       "<style scoped>\n",
       "    .dataframe tbody tr th:only-of-type {\n",
       "        vertical-align: middle;\n",
       "    }\n",
       "\n",
       "    .dataframe tbody tr th {\n",
       "        vertical-align: top;\n",
       "    }\n",
       "\n",
       "    .dataframe thead th {\n",
       "        text-align: right;\n",
       "    }\n",
       "</style>\n",
       "<table border=\"1\" class=\"dataframe\">\n",
       "  <thead>\n",
       "    <tr style=\"text-align: right;\">\n",
       "      <th></th>\n",
       "      <th>AFGC</th>\n",
       "      <th>year</th>\n",
       "    </tr>\n",
       "  </thead>\n",
       "  <tbody>\n",
       "    <tr>\n",
       "      <th>0</th>\n",
       "      <td>1.581008</td>\n",
       "      <td>1984</td>\n",
       "    </tr>\n",
       "    <tr>\n",
       "      <th>1</th>\n",
       "      <td>1.264907</td>\n",
       "      <td>1985</td>\n",
       "    </tr>\n",
       "    <tr>\n",
       "      <th>2</th>\n",
       "      <td>1.724521</td>\n",
       "      <td>1986</td>\n",
       "    </tr>\n",
       "    <tr>\n",
       "      <th>3</th>\n",
       "      <td>2.701455</td>\n",
       "      <td>1987</td>\n",
       "    </tr>\n",
       "    <tr>\n",
       "      <th>4</th>\n",
       "      <td>2.959418</td>\n",
       "      <td>1988</td>\n",
       "    </tr>\n",
       "  </tbody>\n",
       "</table>\n",
       "</div>"
      ],
      "text/plain": [
       "       AFGC  year\n",
       "0  1.581008  1984\n",
       "1  1.264907  1985\n",
       "2  1.724521  1986\n",
       "3  2.701455  1987\n",
       "4  2.959418  1988"
      ]
     },
     "execution_count": 39,
     "metadata": {},
     "output_type": "execute_result"
    }
   ],
   "source": [
    "#Rename and drop columns\n",
    "ag_df = ag_df.rename(columns={\n",
    "    'system:index': 'year'\n",
    "}).drop(columns=['millis'])\n",
    "ag_df.head(5)"
   ]
  },
  {
   "cell_type": "code",
   "execution_count": 40,
   "id": "3f59e6d4-caab-4fbf-88b2-bb3e2d0c3a57",
   "metadata": {},
   "outputs": [],
   "source": [
    "ag_df.dtypes #Check the data type of each column.\n",
    "ag_df.year = ag_df['year'].astype(str).astype(int) #need to convert year to an integer\n",
    "ag_df.dtypes #check that everything is in order"
   ]
  },
  {
   "cell_type": "markdown",
   "id": "36723250-bf21-4a99-b484-1174bc27c896",
   "metadata": {
    "tags": []
   },
   "source": [
    "## graph these data"
   ]
  },
  {
   "cell_type": "code",
   "execution_count": 42,
   "id": "bf9fb6de-8a75-434f-86eb-6f14c917f700",
   "metadata": {},
   "outputs": [
    {
     "data": {
      "image/png": "[encoded data removed]",
      "text/plain": [
       "<Figure size 432x288 with 1 Axes>"
      ]
     },
     "metadata": {
      "needs_background": "light"
     },
     "output_type": "display_data"
    }
   ],
   "source": [
    "%matplotlib inline\n",
    "fig, ax = plt.subplots(figsize=(6,4))\n",
    "\n",
    "ag_df.plot(x = 'year', y = 'AFGC', label=\"Annual herb.\", ax=ax)\n",
    "ax.set_xlabel(\"Year\")\n",
    "ax.set_ylabel(\"Annual grass and forb cover (%)\")\n",
    "plt.title(\"Average annual herbaceous cover at Rock Creek Ranch\")\n",
    "plt.savefig('AG_rockCreek.tif')"
   ]
  },
  {
   "cell_type": "markdown",
   "id": "e2b67226-18c5-49e6-be0e-88efb121ad2c",
   "metadata": {},
   "source": [
    "How to add a trendline to matplotlib scatter plots: https://widu.tumblr.com/post/43624347354/matplotlib-trendline"
   ]
  },
  {
   "cell_type": "markdown",
   "id": "b7718dca-0fd6-4bba-8e8f-e3cda180c5c5",
   "metadata": {
    "tags": []
   },
   "source": [
    "## Add other plant functional groups of interst: shrub, perennial, and bare ground"
   ]
  },
  {
   "cell_type": "code",
   "execution_count": 104,
   "id": "6b3b7d06-01fb-488a-ab76-17a4ce24f681",
   "metadata": {},
   "outputs": [],
   "source": [
    "#select only the plant functional groups that we care about\n",
    "bg_cover_collection = cover.select('BG')  \n",
    "sh_cover_collection = cover.select('SHR') \n",
    "pg_cover_collection = cover.select('PFGC') "
   ]
  },
  {
   "cell_type": "code",
   "execution_count": 105,
   "id": "6e451ace-caed-4d15-8fdb-bd48882c3b51",
   "metadata": {},
   "outputs": [],
   "source": [
    "#create a method for how and where we would like the cover data reduced\n",
    "reduce_method= create_reduce_region_function(\n",
    "    geometry=ranch_roi, reducer=ee.Reducer.mean(), scale=scale, crs='EPSG:3310')"
   ]
  },
  {
   "cell_type": "code",
   "execution_count": 106,
   "id": "247a09c9-df21-4c83-8572-be8ecd10efa4",
   "metadata": {},
   "outputs": [],
   "source": [
    "bg_stat_fc = ee.FeatureCollection(bg_cover_collection.map(reduce_method)).filter(\n",
    "    ee.Filter.notNull(bg_cover_collection.first().bandNames())) #filter out null values\n",
    "sh_stat_fc = ee.FeatureCollection(sh_cover_collection.map(reduce_method)).filter(\n",
    "    ee.Filter.notNull(sh_cover_collection.first().bandNames())) #filter out null values\n",
    "pg_stat_fc = ee.FeatureCollection(pg_cover_collection.map(reduce_method)).filter(\n",
    "    ee.Filter.notNull(pg_cover_collection.first().bandNames())) #filter out null values"
   ]
  },
  {
   "cell_type": "code",
   "execution_count": 107,
   "id": "54aec74d-e843-4ed5-a70e-550adeb4f46c",
   "metadata": {},
   "outputs": [],
   "source": [
    "bg_dict = fc_to_dict(bg_stat_fc).getInfo() #result is a python dictionary\n",
    "sh_dict = fc_to_dict(sh_stat_fc).getInfo() #result is a python dictionary\n",
    "pg_dict = fc_to_dict(pg_stat_fc).getInfo() #result is a python dictionary"
   ]
  },
  {
   "cell_type": "code",
   "execution_count": 108,
   "id": "4bb04ec1-b259-4ddc-a4dd-db3eaf3a21dd",
   "metadata": {},
   "outputs": [],
   "source": [
    "#convert the python dictionary to a pandas dataframe\n",
    "bg_df = pd.DataFrame(bg_dict)\n",
    "sh_df = pd.DataFrame(sh_dict)\n",
    "pg_df = pd.DataFrame(pg_dict)"
   ]
  },
  {
   "cell_type": "code",
   "execution_count": 109,
   "id": "4122221b-ee5b-4d9c-98be-5576b35aef3c",
   "metadata": {},
   "outputs": [],
   "source": [
    "#Rename and drop columns\n",
    "bg_df = bg_df.rename(columns={ 'system:index': 'year'}).drop(columns=['millis'])\n",
    "sh_df = sh_df.rename(columns={'system:index': 'year'}).drop(columns=['millis'])\n",
    "pg_df = pg_df.rename(columns={'system:index': 'year'}).drop(columns=['millis'])"
   ]
  },
  {
   "cell_type": "code",
   "execution_count": 49,
   "id": "b24dde6a-4369-49a2-b4e1-654721629a5c",
   "metadata": {},
   "outputs": [],
   "source": [
    "#need to convert year to an integer\n",
    "bg_df.year = bg_df['year'].astype(str).astype(int)\n",
    "sh_df.year = bg_df['year'].astype(str).astype(int)\n",
    "pg_df.year = bg_df['year'].astype(str).astype(int)"
   ]
  },
  {
   "cell_type": "code",
   "execution_count": 50,
   "id": "61763bf5-3f4d-41e9-9f78-03194c686e36",
   "metadata": {},
   "outputs": [],
   "source": [
    "#create a new dataframe for all of the functional group cover \n",
    "pfc_cover = ag_df\n",
    "pfc_cover['BG'] = bg_df['BG']\n",
    "pfc_cover['SHR'] = sh_df['SHR']\n",
    "pfc_cover['PFGC'] = pg_df['PFGC']"
   ]
  },
  {
   "cell_type": "code",
   "execution_count": 51,
   "id": "167f866a-e848-43f7-9f23-34f9dcff813e",
   "metadata": {},
   "outputs": [
    {
     "data": {
      "text/html": [
       "<div>\n",
       "<style scoped>\n",
       "    .dataframe tbody tr th:only-of-type {\n",
       "        vertical-align: middle;\n",
       "    }\n",
       "\n",
       "    .dataframe tbody tr th {\n",
       "        vertical-align: top;\n",
       "    }\n",
       "\n",
       "    .dataframe thead th {\n",
       "        text-align: right;\n",
       "    }\n",
       "</style>\n",
       "<table border=\"1\" class=\"dataframe\">\n",
       "  <thead>\n",
       "    <tr style=\"text-align: right;\">\n",
       "      <th></th>\n",
       "      <th>AFGC</th>\n",
       "      <th>year</th>\n",
       "      <th>BG</th>\n",
       "      <th>SHR</th>\n",
       "      <th>PFGC</th>\n",
       "    </tr>\n",
       "  </thead>\n",
       "  <tbody>\n",
       "    <tr>\n",
       "      <th>0</th>\n",
       "      <td>1.581008</td>\n",
       "      <td>1984</td>\n",
       "      <td>8.087316</td>\n",
       "      <td>27.708942</td>\n",
       "      <td>40.180817</td>\n",
       "    </tr>\n",
       "    <tr>\n",
       "      <th>1</th>\n",
       "      <td>1.264907</td>\n",
       "      <td>1985</td>\n",
       "      <td>8.137443</td>\n",
       "      <td>33.476161</td>\n",
       "      <td>33.250980</td>\n",
       "    </tr>\n",
       "    <tr>\n",
       "      <th>2</th>\n",
       "      <td>1.724521</td>\n",
       "      <td>1986</td>\n",
       "      <td>9.620648</td>\n",
       "      <td>31.226031</td>\n",
       "      <td>34.269286</td>\n",
       "    </tr>\n",
       "    <tr>\n",
       "      <th>3</th>\n",
       "      <td>2.701455</td>\n",
       "      <td>1987</td>\n",
       "      <td>10.890337</td>\n",
       "      <td>30.675371</td>\n",
       "      <td>31.269948</td>\n",
       "    </tr>\n",
       "    <tr>\n",
       "      <th>4</th>\n",
       "      <td>2.959418</td>\n",
       "      <td>1988</td>\n",
       "      <td>9.659657</td>\n",
       "      <td>28.495632</td>\n",
       "      <td>35.317749</td>\n",
       "    </tr>\n",
       "  </tbody>\n",
       "</table>\n",
       "</div>"
      ],
      "text/plain": [
       "       AFGC  year         BG        SHR       PFGC\n",
       "0  1.581008  1984   8.087316  27.708942  40.180817\n",
       "1  1.264907  1985   8.137443  33.476161  33.250980\n",
       "2  1.724521  1986   9.620648  31.226031  34.269286\n",
       "3  2.701455  1987  10.890337  30.675371  31.269948\n",
       "4  2.959418  1988   9.659657  28.495632  35.317749"
      ]
     },
     "execution_count": 51,
     "metadata": {},
     "output_type": "execute_result"
    }
   ],
   "source": [
    "pfc_cover.head(5)"
   ]
  },
  {
   "cell_type": "markdown",
   "id": "1d3c77e0-d0e5-49e4-baa3-c5bf025303c2",
   "metadata": {},
   "source": [
    "## plot these data using matplotlib"
   ]
  },
  {
   "cell_type": "code",
   "execution_count": 120,
   "id": "57d9cff0-29e6-47cd-9c6d-c17eb3e7dcdc",
   "metadata": {},
   "outputs": [
    {
     "data": {
      "text/plain": [
       "Text(0.5, 1.0, 'Average plant cover within 10 km area of Rock Creek Ranch')"
      ]
     },
     "execution_count": 120,
     "metadata": {},
     "output_type": "execute_result"
    },
    {
     "data": {
      "image/png": "[encoded data removed]",
      "text/plain": [
       "<Figure size 576x288 with 1 Axes>"
      ]
     },
     "metadata": {
      "needs_background": "light"
     },
     "output_type": "display_data"
    }
   ],
   "source": [
    "%matplotlib inline\n",
    "fig, ax = plt.subplots(figsize=(8,4))\n",
    "\n",
    "pfc_cover.plot(x = 'year', y = 'AFGC', label=\"Annual herb.\", ax=ax)\n",
    "#pfc_cover.plot(x = 'year', y = 'BG', ax=ax)\n",
    "pfc_cover.plot(x = 'year', y = 'SHR', label=\"Shrubs\", ax=ax)\n",
    "pfc_cover.plot(x = 'year', y = 'PFGC', label=\"Perennial herb.\",ax=ax)\n",
    "plt.legend(loc='lower right')\n",
    "\n",
    "ax.set_xlabel(\"Year\")\n",
    "ax.set_ylabel(\"Plant functional group cover(%)\")\n",
    "plt.title(\"Average plant cover within 10 km area of Rock Creek Ranch\")"
   ]
  },
  {
   "cell_type": "markdown",
   "id": "d65866d9-4b9b-4c86-ae96-73a134125873",
   "metadata": {},
   "source": [
    "## compare annual cover to bare ground"
   ]
  },
  {
   "cell_type": "code",
   "execution_count": 122,
   "id": "171109b4-bb96-4698-a6ed-82ec9150a5e4",
   "metadata": {},
   "outputs": [
    {
     "data": {
      "text/plain": [
       "Text(0.5, 1.0, 'Average annual herbaceous plant and bare ground cover \\n within 10 km area around Rock Creek Ranch')"
      ]
     },
     "execution_count": 122,
     "metadata": {},
     "output_type": "execute_result"
    },
    {
     "data": {
      "image/png": "[encoded data removed]",
      "text/plain": [
       "<Figure size 576x288 with 1 Axes>"
      ]
     },
     "metadata": {
      "needs_background": "light"
     },
     "output_type": "display_data"
    }
   ],
   "source": [
    "fig, ax = plt.subplots(figsize=(8,4))\n",
    "\n",
    "pfc_cover.plot(x = 'year', y = 'AFGC', label=\"Annual herb.\", ax=ax)\n",
    "pfc_cover.plot(x = 'year', y = 'BG', label=\"Bare ground\", ax=ax)\n",
    "plt.legend(loc='upper left')\n",
    "\n",
    "ax.set_xlabel(\"Year\")\n",
    "ax.set_ylabel(\"Cover(%)\")\n",
    "plt.title(\"Average annual herbaceous plant and bare ground cover \\n within 10 km area around Rock Creek Ranch\")"
   ]
  },
  {
   "cell_type": "markdown",
   "id": "6ad12e34-2f46-4d6e-9de2-d19826905e46",
   "metadata": {
    "tags": []
   },
   "source": [
    "# Goal 3: Assess how plant cover has changed within different plant community groups over time"
   ]
  },
  {
   "cell_type": "markdown",
   "id": "a612e7ec-b32a-47e4-9849-f82bf5e35030",
   "metadata": {
    "tags": []
   },
   "source": [
    "**first we will need to stratify into different plant community groups**  \n",
    "  \n",
    " I will seperate the landscape based on perennial herbaceous plant and shrub cover. **Areas of high and low shrub and perennial vegetation were delineated at 25 and 30% cover, respectively.**  Selecting sampling locations using PFGC and SHR values from 2019.  To accomplish this, I will use a **mask** by percent cover values. \n",
    "Helpful links: \n",
    "https://developers.google.com/earth-engine/guides/image_relational#colab-python\n",
    "https://gis.stackexchange.com/questions/359852/how-do-i-extract-pixels-of-specific-values-from-a-raster-in-google-earth-engine/359864"
   ]
  },
  {
   "cell_type": "markdown",
   "id": "1db12d79-a0ac-408d-857c-d4206ee607c9",
   "metadata": {},
   "source": [
    "Here are the arguments for updating masks\n",
    "\n",
    "https://gis.stackexchange.com/questions/359852/how-do-i-extract-pixels-of-specific-values-from-a-raster-in-google-earth-engine/359864\n",
    "// eq() - equalsAreas of high and low shrub and perennial vegetation were delineated at 25 and 30% cover, respectively.\n",
    "// neq() - not equals\n",
    "// lt() - less than \n",
    "// gt() - greater than\n",
    "// lte() - less than or equals\n",
    "// gte() - greater than or equals\n",
    "// and() - logical and\n",
    "// or() - logical or"
   ]
  },
  {
   "cell_type": "code",
   "execution_count": 123,
   "id": "7412c080-a325-447d-9d97-5433517ac2fc",
   "metadata": {},
   "outputs": [],
   "source": [
    "#gather 2019 cover for shrubs, perennials, and annuals\n",
    "P_2019 = cover.filterDate('2019').select('PFGC').mean()\n",
    "A_2019 = cover.filterDate('2019').select('AFGC').mean()\n",
    "SH_2019 = cover.filterDate('2019').select('SHR').mean()"
   ]
  },
  {
   "cell_type": "markdown",
   "id": "bd520dd7-3719-49d6-a2b2-e6f5b1ae29c8",
   "metadata": {},
   "source": [
    "## seperate out shrub and perennial cover by cover cutoff points"
   ]
  },
  {
   "cell_type": "code",
   "execution_count": 126,
   "id": "1a29917a-bbd9-4824-91dd-8bf484d55268",
   "metadata": {},
   "outputs": [],
   "source": [
    "#high shrub areas have over 25% cover\n",
    "HS_2019 = SH_2019.updateMask(SH_2019.gte(25)) #gte is greater than or equal to\n",
    "\n",
    "#low shrub areas are under 25% cover \n",
    "LS_2019 = SH_2019.updateMask(SH_2019.lt(25)) #lt is less than\n",
    "\n",
    "#high perennial areas have over 30% cover\n",
    "HP_2019 = P_2019.updateMask(P_2019.gte(30)) #gte is greater than or equal to\n",
    "\n",
    "#low shrub perennial are under 30% cover \n",
    "LP_2019 = P_2019.updateMask(P_2019.lt(30)) #lt is less than"
   ]
  },
  {
   "cell_type": "code",
   "execution_count": 127,
   "id": "c80a2485-00fa-4176-aaa8-132a7f546d19",
   "metadata": {},
   "outputs": [
    {
     "name": "stdout",
     "output_type": "stream",
     "text": [
      "https://earthengine.googleapis.com/v1alpha/projects/earthengine-legacy/thumbnails/b29b1cf57b4d8d57f62d120c637078f2-20903d1e6369eaf638cc7ae53799e0c4:getPixels\n"
     ]
    },
    {
     "data": {
      "text/html": [
       "<img src=\"https://earthengine.googleapis.com/v1alpha/projects/earthengine-legacy/thumbnails/b29b1cf57b4d8d57f62d120c637078f2-20903d1e6369eaf638cc7ae53799e0c4:getPixels\"/>"
      ],
      "text/plain": [
       "<IPython.core.display.Image object>"
      ]
     },
     "execution_count": 127,
     "metadata": {},
     "output_type": "execute_result"
    }
   ],
   "source": [
    "# Create a URL to the styled image for region around ranch\n",
    "#this is just to check that the masking worked\n",
    "url = HS_2019.getThumbUrl({\n",
    "  'min': 0,  'max': 100,'dimensions': 512, 'region': roi,\n",
    "  'palette': [\"darkgreen\", \"lightgreen\", \"lightblue\", \"darkblue\"]})\n",
    "print(url)\n",
    "\n",
    "# Display the thumbnail\n",
    "Image(url=url)"
   ]
  },
  {
   "cell_type": "code",
   "execution_count": 130,
   "id": "6816de11-99fe-45bd-a31c-eb3ee3352527",
   "metadata": {},
   "outputs": [
    {
     "data": {
      "text/html": [
       "<div style=\"width:100%;\"><div style=\"position:relative;width:100%;height:0;padding-bottom:60%;\"><span style=\"color:#565656\">Make this Notebook Trusted to load map: File -> Trust Notebook</span><iframe src=\"about:blank\" style=\"position:absolute;width:100%;height:100%;left:0;top:0;border:none !important;\" data-html=%3C%21DOCTYPE%20html%3E%0A%3Chead%3E%20%20%20%20%0A%20%20%20%20%3Cmeta%20http-equiv%3D%22content-type%22%20content%3D%22text/html%3B%20charset%3DUTF-8%22%20/%3E%0A%20%20%20%20%0A%20%20%20%20%20%20%20%20%3Cscript%3E%0A%20%20%20%20%20%20%20%20%20%20%20%20L_NO_TOUCH%20%3D%20false%3B%0A%20%20%20%20%20%20%20%20%20%20%20%20L_DISABLE_3D%20%3D%20false%3B%0A%20%20%20%20%20%20%20%20%3C/script%3E%0A%20%20%20%20%0A%20%20%20%20%3Cstyle%3Ehtml%2C%20body%20%7Bwidth%3A%20100%25%3Bheight%3A%20100%25%3Bmargin%3A%200%3Bpadding%3A%200%3B%7D%3C/style%3E%0A%20%20%20%20%3Cstyle%3E%23map%20%7Bposition%3Aabsolute%3Btop%3A0%3Bbottom%3A0%3Bright%3A0%3Bleft%3A0%3B%7D%3C/style%3E%0A%20%20%20%20%3Cscript%20src%3D%22https%3A//cdn.jsdelivr.net/npm/leaflet%401.6.0/dist/leaflet.js%22%3E%3C/script%3E%0A%20%20%20%20%3Cscript%20src%3D%22https%3A//code.jquery.com/jquery-1.12.4.min.js%22%3E%3C/script%3E%0A%20%20%20%20%3Cscript%20src%3D%22https%3A//maxcdn.bootstrapcdn.com/bootstrap/3.2.0/js/bootstrap.min.js%22%3E%3C/script%3E%0A%20%20%20%20%3Cscript%20src%3D%22https%3A//cdnjs.cloudflare.com/ajax/libs/Leaflet.awesome-markers/2.0.2/leaflet.awesome-markers.js%22%3E%3C/script%3E%0A%20%20%20%20%3Clink%20rel%3D%22stylesheet%22%20href%3D%22https%3A//cdn.jsdelivr.net/npm/leaflet%401.6.0/dist/leaflet.css%22/%3E%0A%20%20%20%20%3Clink%20rel%3D%22stylesheet%22%20href%3D%22https%3A//maxcdn.bootstrapcdn.com/bootstrap/3.2.0/css/bootstrap.min.css%22/%3E%0A%20%20%20%20%3Clink%20rel%3D%22stylesheet%22%20href%3D%22https%3A//maxcdn.bootstrapcdn.com/bootstrap/3.2.0/css/bootstrap-theme.min.css%22/%3E%0A%20%20%20%20%3Clink%20rel%3D%22stylesheet%22%20href%3D%22https%3A//maxcdn.bootstrapcdn.com/font-awesome/4.6.3/css/font-awesome.min.css%22/%3E%0A%20%20%20%20%3Clink%20rel%3D%22stylesheet%22%20href%3D%22https%3A//cdnjs.cloudflare.com/ajax/libs/Leaflet.awesome-markers/2.0.2/leaflet.awesome-markers.css%22/%3E%0A%20%20%20%20%3Clink%20rel%3D%22stylesheet%22%20href%3D%22https%3A//cdn.jsdelivr.net/gh/python-visualization/folium/folium/templates/leaflet.awesome.rotate.min.css%22/%3E%0A%20%20%20%20%0A%20%20%20%20%20%20%20%20%20%20%20%20%3Cmeta%20name%3D%22viewport%22%20content%3D%22width%3Ddevice-width%2C%0A%20%20%20%20%20%20%20%20%20%20%20%20%20%20%20%20initial-scale%3D1.0%2C%20maximum-scale%3D1.0%2C%20user-scalable%3Dno%22%20/%3E%0A%20%20%20%20%20%20%20%20%20%20%20%20%3Cstyle%3E%0A%20%20%20%20%20%20%20%20%20%20%20%20%20%20%20%20%23map_1cd348d21c7f4457a902ec3ef6f55d43%20%7B%0A%20%20%20%20%20%20%20%20%20%20%20%20%20%20%20%20%20%20%20%20position%3A%20relative%3B%0A%20%20%20%20%20%20%20%20%20%20%20%20%20%20%20%20%20%20%20%20width%3A%20100.0%25%3B%0A%20%20%20%20%20%20%20%20%20%20%20%20%20%20%20%20%20%20%20%20height%3A%20100.0%25%3B%0A%20%20%20%20%20%20%20%20%20%20%20%20%20%20%20%20%20%20%20%20left%3A%200.0%25%3B%0A%20%20%20%20%20%20%20%20%20%20%20%20%20%20%20%20%20%20%20%20top%3A%200.0%25%3B%0A%20%20%20%20%20%20%20%20%20%20%20%20%20%20%20%20%7D%0A%20%20%20%20%20%20%20%20%20%20%20%20%3C/style%3E%0A%20%20%20%20%20%20%20%20%0A%3C/head%3E%0A%3Cbody%3E%20%20%20%20%0A%20%20%20%20%0A%20%20%20%20%20%20%20%20%20%20%20%20%3Cdiv%20class%3D%22folium-map%22%20id%3D%22map_1cd348d21c7f4457a902ec3ef6f55d43%22%20%3E%3C/div%3E%0A%20%20%20%20%20%20%20%20%0A%3C/body%3E%0A%3Cscript%3E%20%20%20%20%0A%20%20%20%20%0A%20%20%20%20%20%20%20%20%20%20%20%20var%20map_1cd348d21c7f4457a902ec3ef6f55d43%20%3D%20L.map%28%0A%20%20%20%20%20%20%20%20%20%20%20%20%20%20%20%20%22map_1cd348d21c7f4457a902ec3ef6f55d43%22%2C%0A%20%20%20%20%20%20%20%20%20%20%20%20%20%20%20%20%7B%0A%20%20%20%20%20%20%20%20%20%20%20%20%20%20%20%20%20%20%20%20center%3A%20%5B43.3%2C%20-114.418%5D%2C%0A%20%20%20%20%20%20%20%20%20%20%20%20%20%20%20%20%20%20%20%20crs%3A%20L.CRS.EPSG3857%2C%0A%20%20%20%20%20%20%20%20%20%20%20%20%20%20%20%20%20%20%20%20zoom%3A%205%2C%0A%20%20%20%20%20%20%20%20%20%20%20%20%20%20%20%20%20%20%20%20zoomControl%3A%20true%2C%0A%20%20%20%20%20%20%20%20%20%20%20%20%20%20%20%20%20%20%20%20preferCanvas%3A%20false%2C%0A%20%20%20%20%20%20%20%20%20%20%20%20%20%20%20%20%7D%0A%20%20%20%20%20%20%20%20%20%20%20%20%29%3B%0A%0A%20%20%20%20%20%20%20%20%20%20%20%20%0A%0A%20%20%20%20%20%20%20%20%0A%20%20%20%20%0A%20%20%20%20%20%20%20%20%20%20%20%20var%20tile_layer_be48ec68d47b42659c7a18388e89a651%20%3D%20L.tileLayer%28%0A%20%20%20%20%20%20%20%20%20%20%20%20%20%20%20%20%22https%3A//%7Bs%7D.tile.openstreetmap.org/%7Bz%7D/%7Bx%7D/%7By%7D.png%22%2C%0A%20%20%20%20%20%20%20%20%20%20%20%20%20%20%20%20%7B%22attribution%22%3A%20%22Data%20by%20%5Cu0026copy%3B%20%5Cu003ca%20href%3D%5C%22http%3A//openstreetmap.org%5C%22%5Cu003eOpenStreetMap%5Cu003c/a%5Cu003e%2C%20under%20%5Cu003ca%20href%3D%5C%22http%3A//www.openstreetmap.org/copyright%5C%22%5Cu003eODbL%5Cu003c/a%5Cu003e.%22%2C%20%22detectRetina%22%3A%20false%2C%20%22maxNativeZoom%22%3A%2018%2C%20%22maxZoom%22%3A%2018%2C%20%22minZoom%22%3A%200%2C%20%22noWrap%22%3A%20false%2C%20%22opacity%22%3A%201%2C%20%22subdomains%22%3A%20%22abc%22%2C%20%22tms%22%3A%20false%7D%0A%20%20%20%20%20%20%20%20%20%20%20%20%29.addTo%28map_1cd348d21c7f4457a902ec3ef6f55d43%29%3B%0A%20%20%20%20%20%20%20%20%0A%20%20%20%20%0A%20%20%20%20%20%20%20%20%20%20%20%20var%20tile_layer_b0c81f2b6ed74703822b3a06cf96450f%20%3D%20L.tileLayer%28%0A%20%20%20%20%20%20%20%20%20%20%20%20%20%20%20%20%22https%3A//earthengine.googleapis.com/v1alpha/projects/earthengine-legacy/maps/7f49fe72365676f66bfd35e0bdf85549-35c6dab4514825af826fe6357a9b5ffa/tiles/%7Bz%7D/%7Bx%7D/%7By%7D%22%2C%0A%20%20%20%20%20%20%20%20%20%20%20%20%20%20%20%20%7B%22attribution%22%3A%20%22Map%20Data%20%5Cu0026copy%3B%20%5Cu003ca%20href%3D%5C%22https%3A//earthengine.google.com/%5C%22%5Cu003eGoogle%20Earth%20Engine%5Cu003c/a%5Cu003e%22%2C%20%22detectRetina%22%3A%20false%2C%20%22maxNativeZoom%22%3A%2018%2C%20%22maxZoom%22%3A%2018%2C%20%22minZoom%22%3A%200%2C%20%22noWrap%22%3A%20false%2C%20%22opacity%22%3A%201%2C%20%22subdomains%22%3A%20%22abc%22%2C%20%22tms%22%3A%20false%7D%0A%20%20%20%20%20%20%20%20%20%20%20%20%29.addTo%28map_1cd348d21c7f4457a902ec3ef6f55d43%29%3B%0A%20%20%20%20%20%20%20%20%0A%20%20%20%20%0A%20%20%20%20%20%20%20%20%20%20%20%20var%20tile_layer_098dcd69ebce47cca64b5341ba8447c3%20%3D%20L.tileLayer%28%0A%20%20%20%20%20%20%20%20%20%20%20%20%20%20%20%20%22https%3A//earthengine.googleapis.com/v1alpha/projects/earthengine-legacy/maps/02c863e6fe99489479e851b143e59d25-fab6bd1296dd2bef1a92b70c0bc40306/tiles/%7Bz%7D/%7Bx%7D/%7By%7D%22%2C%0A%20%20%20%20%20%20%20%20%20%20%20%20%20%20%20%20%7B%22attribution%22%3A%20%22Map%20Data%20%5Cu0026copy%3B%20%5Cu003ca%20href%3D%5C%22https%3A//earthengine.google.com/%5C%22%5Cu003eGoogle%20Earth%20Engine%5Cu003c/a%5Cu003e%22%2C%20%22detectRetina%22%3A%20false%2C%20%22maxNativeZoom%22%3A%2018%2C%20%22maxZoom%22%3A%2018%2C%20%22minZoom%22%3A%200%2C%20%22noWrap%22%3A%20false%2C%20%22opacity%22%3A%201%2C%20%22subdomains%22%3A%20%22abc%22%2C%20%22tms%22%3A%20false%7D%0A%20%20%20%20%20%20%20%20%20%20%20%20%29.addTo%28map_1cd348d21c7f4457a902ec3ef6f55d43%29%3B%0A%20%20%20%20%20%20%20%20%0A%20%20%20%20%0A%20%20%20%20%20%20%20%20%20%20%20%20var%20tile_layer_672666190cbc4033b02d45e15d2db49f%20%3D%20L.tileLayer%28%0A%20%20%20%20%20%20%20%20%20%20%20%20%20%20%20%20%22https%3A//earthengine.googleapis.com/v1alpha/projects/earthengine-legacy/maps/3fa3c5612168984be6ec2ce4dfd6eb68-c0ebc3aa7d174fa621b82789a41b009a/tiles/%7Bz%7D/%7Bx%7D/%7By%7D%22%2C%0A%20%20%20%20%20%20%20%20%20%20%20%20%20%20%20%20%7B%22attribution%22%3A%20%22Map%20Data%20%5Cu0026copy%3B%20%5Cu003ca%20href%3D%5C%22https%3A//earthengine.google.com/%5C%22%5Cu003eGoogle%20Earth%20Engine%5Cu003c/a%5Cu003e%22%2C%20%22detectRetina%22%3A%20false%2C%20%22maxNativeZoom%22%3A%2018%2C%20%22maxZoom%22%3A%2018%2C%20%22minZoom%22%3A%200%2C%20%22noWrap%22%3A%20false%2C%20%22opacity%22%3A%201%2C%20%22subdomains%22%3A%20%22abc%22%2C%20%22tms%22%3A%20false%7D%0A%20%20%20%20%20%20%20%20%20%20%20%20%29.addTo%28map_1cd348d21c7f4457a902ec3ef6f55d43%29%3B%0A%20%20%20%20%20%20%20%20%0A%20%20%20%20%0A%20%20%20%20%20%20%20%20%20%20%20%20var%20tile_layer_1952e13c0aaa4f0aa90dffaf10c2ac6b%20%3D%20L.tileLayer%28%0A%20%20%20%20%20%20%20%20%20%20%20%20%20%20%20%20%22https%3A//earthengine.googleapis.com/v1alpha/projects/earthengine-legacy/maps/5d8bfdbab1c22ad05852a5b9cc429dd4-e20fb13095df1497f21bb88ba179db76/tiles/%7Bz%7D/%7Bx%7D/%7By%7D%22%2C%0A%20%20%20%20%20%20%20%20%20%20%20%20%20%20%20%20%7B%22attribution%22%3A%20%22Map%20Data%20%5Cu0026copy%3B%20%5Cu003ca%20href%3D%5C%22https%3A//earthengine.google.com/%5C%22%5Cu003eGoogle%20Earth%20Engine%5Cu003c/a%5Cu003e%22%2C%20%22detectRetina%22%3A%20false%2C%20%22maxNativeZoom%22%3A%2018%2C%20%22maxZoom%22%3A%2018%2C%20%22minZoom%22%3A%200%2C%20%22noWrap%22%3A%20false%2C%20%22opacity%22%3A%201%2C%20%22subdomains%22%3A%20%22abc%22%2C%20%22tms%22%3A%20false%7D%0A%20%20%20%20%20%20%20%20%20%20%20%20%29.addTo%28map_1cd348d21c7f4457a902ec3ef6f55d43%29%3B%0A%20%20%20%20%20%20%20%20%0A%20%20%20%20%0A%20%20%20%20%20%20%20%20%20%20%20%20var%20layer_control_e51cff8a75e9401d8838d2ef0cb23bb2%20%3D%20%7B%0A%20%20%20%20%20%20%20%20%20%20%20%20%20%20%20%20base_layers%20%3A%20%7B%0A%20%20%20%20%20%20%20%20%20%20%20%20%20%20%20%20%20%20%20%20%22openstreetmap%22%20%3A%20tile_layer_be48ec68d47b42659c7a18388e89a651%2C%0A%20%20%20%20%20%20%20%20%20%20%20%20%20%20%20%20%7D%2C%0A%20%20%20%20%20%20%20%20%20%20%20%20%20%20%20%20overlays%20%3A%20%20%7B%0A%20%20%20%20%20%20%20%20%20%20%20%20%20%20%20%20%20%20%20%20%22High%20Shrub%20%28%5Cu003e25%25%20cover%29%22%20%3A%20tile_layer_b0c81f2b6ed74703822b3a06cf96450f%2C%0A%20%20%20%20%20%20%20%20%20%20%20%20%20%20%20%20%20%20%20%20%22Low%20Shrub%20%28%5Cu003c25%25%20cover%29%22%20%3A%20tile_layer_098dcd69ebce47cca64b5341ba8447c3%2C%0A%20%20%20%20%20%20%20%20%20%20%20%20%20%20%20%20%20%20%20%20%22Low%20Perennial%20%28%5Cu003c30%25%20cover%29%22%20%3A%20tile_layer_672666190cbc4033b02d45e15d2db49f%2C%0A%20%20%20%20%20%20%20%20%20%20%20%20%20%20%20%20%20%20%20%20%22High%20Perennial%20%28%5Cu003e30%25%20cover%29%22%20%3A%20tile_layer_1952e13c0aaa4f0aa90dffaf10c2ac6b%2C%0A%20%20%20%20%20%20%20%20%20%20%20%20%20%20%20%20%7D%2C%0A%20%20%20%20%20%20%20%20%20%20%20%20%7D%3B%0A%20%20%20%20%20%20%20%20%20%20%20%20L.control.layers%28%0A%20%20%20%20%20%20%20%20%20%20%20%20%20%20%20%20layer_control_e51cff8a75e9401d8838d2ef0cb23bb2.base_layers%2C%0A%20%20%20%20%20%20%20%20%20%20%20%20%20%20%20%20layer_control_e51cff8a75e9401d8838d2ef0cb23bb2.overlays%2C%0A%20%20%20%20%20%20%20%20%20%20%20%20%20%20%20%20%7B%22autoZIndex%22%3A%20true%2C%20%22collapsed%22%3A%20false%2C%20%22position%22%3A%20%22topright%22%7D%0A%20%20%20%20%20%20%20%20%20%20%20%20%29.addTo%28map_1cd348d21c7f4457a902ec3ef6f55d43%29%3B%0A%20%20%20%20%20%20%20%20%0A%3C/script%3E onload=\"this.contentDocument.open();this.contentDocument.write(    decodeURIComponent(this.getAttribute('data-html')));this.contentDocument.close();\" allowfullscreen webkitallowfullscreen mozallowfullscreen></iframe></div></div>"
      ],
      "text/plain": [
       "<folium.folium.Map at 0x19c45e33688>"
      ]
     },
     "metadata": {},
     "output_type": "display_data"
    }
   ],
   "source": [
    "# Add EE drawing method to folium.\n",
    "folium.Map.add_ee_layer = add_ee_layer\n",
    "# Create a folium map object.\n",
    "my_map = folium.Map(location=[43.3, -114.418], zoom_start=5)\n",
    "\n",
    "#shrubs\n",
    "HS_params = {'min': 0, 'max': 75, 'palette': [\"d7191c\"]}\n",
    "my_map.add_ee_layer(HS_2019, HS_params, 'High Shrub (>25% cover)') #UPDATE HERE\n",
    "\n",
    "LS_params = {\n",
    "  'min': 0, 'max': 75, 'palette': [\"fdae61\"]}\n",
    "my_map.add_ee_layer(LS_2019, LS_params, 'Low Shrub (<25% cover)') #UPDATE HERE\n",
    "\n",
    "#perenials\n",
    "LP_params = {'min': 0, 'max': 75, 'palette': [\"abd9e9\"]}\n",
    "my_map.add_ee_layer(LP_2019, LP_params, 'Low Perennial (<30% cover)') #UPDATE HERE\n",
    "\n",
    "HP_params = {'min': 0, 'max': 75, 'palette': [\"2c7bb6\"]}\n",
    "my_map.add_ee_layer(HP_2019, HP_params, 'High Perennial (>30% cover)') #UPDATE HERE\n",
    "\n",
    "\n",
    "folium.LayerControl(collapsed = False).add_to(my_map)# Add a layer control panel to the map.\n",
    "display(my_map)# Display the map.\n",
    "my_map.save(\"Simple_shrubPG_layers.html\")"
   ]
  },
  {
   "cell_type": "code",
   "execution_count": 131,
   "id": "94afce4e-219b-4d32-b5d2-0067fff71574",
   "metadata": {},
   "outputs": [],
   "source": [
    "#mask the annual grass layer by high and low shrub and perennial grasses\n",
    "\n",
    "HSHG = A_2019.multiply(HS_2019).multiply(HP_2019)\n",
    "HSLG = A_2019.multiply(HS_2019).multiply(LP_2019)\n",
    "LSHG = A_2019.multiply(LS_2019).multiply(HP_2019)\n",
    "LSLG = A_2019.multiply(LS_2019).multiply(LP_2019)\n",
    "#not sure this is working - I think this is all areas that are both high shrub or high perennials. we want only those which are both! "
   ]
  },
  {
   "cell_type": "code",
   "execution_count": 132,
   "id": "adf6bbca-a682-4908-b12a-ec81c32752aa",
   "metadata": {},
   "outputs": [
    {
     "name": "stdout",
     "output_type": "stream",
     "text": [
      "https://earthengine.googleapis.com/v1alpha/projects/earthengine-legacy/thumbnails/a1a220b19cefe4dd88d07c74c7bed902-00985140a1f9f1fe88ffd72b53e224ba:getPixels\n"
     ]
    },
    {
     "data": {
      "text/html": [
       "<img src=\"https://earthengine.googleapis.com/v1alpha/projects/earthengine-legacy/thumbnails/a1a220b19cefe4dd88d07c74c7bed902-00985140a1f9f1fe88ffd72b53e224ba:getPixels\"/>"
      ],
      "text/plain": [
       "<IPython.core.display.Image object>"
      ]
     },
     "execution_count": 132,
     "metadata": {},
     "output_type": "execute_result"
    }
   ],
   "source": [
    "# Create a URL to the styled image for region around ranch\n",
    "url = HSHG.getThumbUrl({\n",
    "  'min': 0,  'max': 50,'dimensions': 512, 'region': roi,\n",
    "  'palette': [\"darkgreen\", \"lightgreen\", \"lightblue\", \"darkblue\"]})\n",
    "print(url)\n",
    "\n",
    "# Display the thumbnail\n",
    "Image(url=url)"
   ]
  },
  {
   "cell_type": "markdown",
   "id": "bc1e75f5-2db5-41b6-9199-1ef7b32b3252",
   "metadata": {},
   "source": [
    "## Map the strata"
   ]
  },
  {
   "cell_type": "code",
   "execution_count": 156,
   "id": "f27018c7-8dfd-424b-b276-960557fc5ef0",
   "metadata": {},
   "outputs": [
    {
     "data": {
      "text/html": [
       "<div style=\"width:100%;\"><div style=\"position:relative;width:100%;height:0;padding-bottom:60%;\"><span style=\"color:#565656\">Make this Notebook Trusted to load map: File -> Trust Notebook</span><iframe src=\"about:blank\" style=\"position:absolute;width:100%;height:100%;left:0;top:0;border:none !important;\" data-html=%3C%21DOCTYPE%20html%3E%0A%3Chead%3E%20%20%20%20%0A%20%20%20%20%3Cmeta%20http-equiv%3D%22content-type%22%20content%3D%22text/html%3B%20charset%3DUTF-8%22%20/%3E%0A%20%20%20%20%0A%20%20%20%20%20%20%20%20%3Cscript%3E%0A%20%20%20%20%20%20%20%20%20%20%20%20L_NO_TOUCH%20%3D%20false%3B%0A%20%20%20%20%20%20%20%20%20%20%20%20L_DISABLE_3D%20%3D%20false%3B%0A%20%20%20%20%20%20%20%20%3C/script%3E%0A%20%20%20%20%0A%20%20%20%20%3Cstyle%3Ehtml%2C%20body%20%7Bwidth%3A%20100%25%3Bheight%3A%20100%25%3Bmargin%3A%200%3Bpadding%3A%200%3B%7D%3C/style%3E%0A%20%20%20%20%3Cstyle%3E%23map%20%7Bposition%3Aabsolute%3Btop%3A0%3Bbottom%3A0%3Bright%3A0%3Bleft%3A0%3B%7D%3C/style%3E%0A%20%20%20%20%3Cscript%20src%3D%22https%3A//cdn.jsdelivr.net/npm/leaflet%401.6.0/dist/leaflet.js%22%3E%3C/script%3E%0A%20%20%20%20%3Cscript%20src%3D%22https%3A//code.jquery.com/jquery-1.12.4.min.js%22%3E%3C/script%3E%0A%20%20%20%20%3Cscript%20src%3D%22https%3A//maxcdn.bootstrapcdn.com/bootstrap/3.2.0/js/bootstrap.min.js%22%3E%3C/script%3E%0A%20%20%20%20%3Cscript%20src%3D%22https%3A//cdnjs.cloudflare.com/ajax/libs/Leaflet.awesome-markers/2.0.2/leaflet.awesome-markers.js%22%3E%3C/script%3E%0A%20%20%20%20%3Clink%20rel%3D%22stylesheet%22%20href%3D%22https%3A//cdn.jsdelivr.net/npm/leaflet%401.6.0/dist/leaflet.css%22/%3E%0A%20%20%20%20%3Clink%20rel%3D%22stylesheet%22%20href%3D%22https%3A//maxcdn.bootstrapcdn.com/bootstrap/3.2.0/css/bootstrap.min.css%22/%3E%0A%20%20%20%20%3Clink%20rel%3D%22stylesheet%22%20href%3D%22https%3A//maxcdn.bootstrapcdn.com/bootstrap/3.2.0/css/bootstrap-theme.min.css%22/%3E%0A%20%20%20%20%3Clink%20rel%3D%22stylesheet%22%20href%3D%22https%3A//maxcdn.bootstrapcdn.com/font-awesome/4.6.3/css/font-awesome.min.css%22/%3E%0A%20%20%20%20%3Clink%20rel%3D%22stylesheet%22%20href%3D%22https%3A//cdnjs.cloudflare.com/ajax/libs/Leaflet.awesome-markers/2.0.2/leaflet.awesome-markers.css%22/%3E%0A%20%20%20%20%3Clink%20rel%3D%22stylesheet%22%20href%3D%22https%3A//cdn.jsdelivr.net/gh/python-visualization/folium/folium/templates/leaflet.awesome.rotate.min.css%22/%3E%0A%20%20%20%20%0A%20%20%20%20%20%20%20%20%20%20%20%20%3Cmeta%20name%3D%22viewport%22%20content%3D%22width%3Ddevice-width%2C%0A%20%20%20%20%20%20%20%20%20%20%20%20%20%20%20%20initial-scale%3D1.0%2C%20maximum-scale%3D1.0%2C%20user-scalable%3Dno%22%20/%3E%0A%20%20%20%20%20%20%20%20%20%20%20%20%3Cstyle%3E%0A%20%20%20%20%20%20%20%20%20%20%20%20%20%20%20%20%23map_6c6415ccc31442b986109c20b866ad62%20%7B%0A%20%20%20%20%20%20%20%20%20%20%20%20%20%20%20%20%20%20%20%20position%3A%20relative%3B%0A%20%20%20%20%20%20%20%20%20%20%20%20%20%20%20%20%20%20%20%20width%3A%20100.0%25%3B%0A%20%20%20%20%20%20%20%20%20%20%20%20%20%20%20%20%20%20%20%20height%3A%20100.0%25%3B%0A%20%20%20%20%20%20%20%20%20%20%20%20%20%20%20%20%20%20%20%20left%3A%200.0%25%3B%0A%20%20%20%20%20%20%20%20%20%20%20%20%20%20%20%20%20%20%20%20top%3A%200.0%25%3B%0A%20%20%20%20%20%20%20%20%20%20%20%20%20%20%20%20%7D%0A%20%20%20%20%20%20%20%20%20%20%20%20%3C/style%3E%0A%20%20%20%20%20%20%20%20%0A%20%20%20%20%3Cscript%20src%3D%22https%3A//cdnjs.cloudflare.com/ajax/libs/d3/3.5.5/d3.min.js%22%3E%3C/script%3E%0A%3C/head%3E%0A%3Cbody%3E%20%20%20%20%0A%20%20%20%20%0A%20%20%20%20%20%20%20%20%20%20%20%20%3Cdiv%20class%3D%22folium-map%22%20id%3D%22map_6c6415ccc31442b986109c20b866ad62%22%20%3E%3C/div%3E%0A%20%20%20%20%20%20%20%20%0A%3C/body%3E%0A%3Cscript%3E%20%20%20%20%0A%20%20%20%20%0A%20%20%20%20%20%20%20%20%20%20%20%20var%20map_6c6415ccc31442b986109c20b866ad62%20%3D%20L.map%28%0A%20%20%20%20%20%20%20%20%20%20%20%20%20%20%20%20%22map_6c6415ccc31442b986109c20b866ad62%22%2C%0A%20%20%20%20%20%20%20%20%20%20%20%20%20%20%20%20%7B%0A%20%20%20%20%20%20%20%20%20%20%20%20%20%20%20%20%20%20%20%20center%3A%20%5B43.3%2C%20-114.418%5D%2C%0A%20%20%20%20%20%20%20%20%20%20%20%20%20%20%20%20%20%20%20%20crs%3A%20L.CRS.EPSG3857%2C%0A%20%20%20%20%20%20%20%20%20%20%20%20%20%20%20%20%20%20%20%20zoom%3A%205%2C%0A%20%20%20%20%20%20%20%20%20%20%20%20%20%20%20%20%20%20%20%20zoomControl%3A%20true%2C%0A%20%20%20%20%20%20%20%20%20%20%20%20%20%20%20%20%20%20%20%20preferCanvas%3A%20false%2C%0A%20%20%20%20%20%20%20%20%20%20%20%20%20%20%20%20%7D%0A%20%20%20%20%20%20%20%20%20%20%20%20%29%3B%0A%0A%20%20%20%20%20%20%20%20%20%20%20%20%0A%0A%20%20%20%20%20%20%20%20%0A%20%20%20%20%0A%20%20%20%20%20%20%20%20%20%20%20%20var%20tile_layer_f2aa5ce466b24ff29288fe704b90d7fe%20%3D%20L.tileLayer%28%0A%20%20%20%20%20%20%20%20%20%20%20%20%20%20%20%20%22https%3A//%7Bs%7D.tile.openstreetmap.org/%7Bz%7D/%7Bx%7D/%7By%7D.png%22%2C%0A%20%20%20%20%20%20%20%20%20%20%20%20%20%20%20%20%7B%22attribution%22%3A%20%22Data%20by%20%5Cu0026copy%3B%20%5Cu003ca%20href%3D%5C%22http%3A//openstreetmap.org%5C%22%5Cu003eOpenStreetMap%5Cu003c/a%5Cu003e%2C%20under%20%5Cu003ca%20href%3D%5C%22http%3A//www.openstreetmap.org/copyright%5C%22%5Cu003eODbL%5Cu003c/a%5Cu003e.%22%2C%20%22detectRetina%22%3A%20false%2C%20%22maxNativeZoom%22%3A%2018%2C%20%22maxZoom%22%3A%2018%2C%20%22minZoom%22%3A%200%2C%20%22noWrap%22%3A%20false%2C%20%22opacity%22%3A%201%2C%20%22subdomains%22%3A%20%22abc%22%2C%20%22tms%22%3A%20false%7D%0A%20%20%20%20%20%20%20%20%20%20%20%20%29.addTo%28map_6c6415ccc31442b986109c20b866ad62%29%3B%0A%20%20%20%20%20%20%20%20%0A%20%20%20%20%0A%20%20%20%20%20%20%20%20%20%20%20%20var%20tile_layer_43f973321dc84340bc4f042a72c76a9c%20%3D%20L.tileLayer%28%0A%20%20%20%20%20%20%20%20%20%20%20%20%20%20%20%20%22https%3A//earthengine.googleapis.com/v1alpha/projects/earthengine-legacy/maps/8ad33fbbef794026aa438da55b7c9053-98f3be396ba4b8be4e17a08f3a66193c/tiles/%7Bz%7D/%7Bx%7D/%7By%7D%22%2C%0A%20%20%20%20%20%20%20%20%20%20%20%20%20%20%20%20%7B%22attribution%22%3A%20%22Map%20Data%20%5Cu0026copy%3B%20%5Cu003ca%20href%3D%5C%22https%3A//earthengine.google.com/%5C%22%5Cu003eGoogle%20Earth%20Engine%5Cu003c/a%5Cu003e%22%2C%20%22detectRetina%22%3A%20false%2C%20%22maxNativeZoom%22%3A%2018%2C%20%22maxZoom%22%3A%2018%2C%20%22minZoom%22%3A%200%2C%20%22noWrap%22%3A%20false%2C%20%22opacity%22%3A%201%2C%20%22subdomains%22%3A%20%22abc%22%2C%20%22tms%22%3A%20false%7D%0A%20%20%20%20%20%20%20%20%20%20%20%20%29.addTo%28map_6c6415ccc31442b986109c20b866ad62%29%3B%0A%20%20%20%20%20%20%20%20%0A%20%20%20%20%0A%20%20%20%20%20%20%20%20%20%20%20%20var%20tile_layer_3ef42bb71c8a48e18a98cc2b0d4aa1c4%20%3D%20L.tileLayer%28%0A%20%20%20%20%20%20%20%20%20%20%20%20%20%20%20%20%22https%3A//earthengine.googleapis.com/v1alpha/projects/earthengine-legacy/maps/9466f5955ca78c4eb36d4ed697cb0bfe-8c19b8637cd1053c7dcf11301bef8761/tiles/%7Bz%7D/%7Bx%7D/%7By%7D%22%2C%0A%20%20%20%20%20%20%20%20%20%20%20%20%20%20%20%20%7B%22attribution%22%3A%20%22Map%20Data%20%5Cu0026copy%3B%20%5Cu003ca%20href%3D%5C%22https%3A//earthengine.google.com/%5C%22%5Cu003eGoogle%20Earth%20Engine%5Cu003c/a%5Cu003e%22%2C%20%22detectRetina%22%3A%20false%2C%20%22maxNativeZoom%22%3A%2018%2C%20%22maxZoom%22%3A%2018%2C%20%22minZoom%22%3A%200%2C%20%22noWrap%22%3A%20false%2C%20%22opacity%22%3A%201%2C%20%22subdomains%22%3A%20%22abc%22%2C%20%22tms%22%3A%20false%7D%0A%20%20%20%20%20%20%20%20%20%20%20%20%29.addTo%28map_6c6415ccc31442b986109c20b866ad62%29%3B%0A%20%20%20%20%20%20%20%20%0A%20%20%20%20%0A%20%20%20%20%20%20%20%20%20%20%20%20var%20tile_layer_7ada1a31a36f401f85d159b14514dde8%20%3D%20L.tileLayer%28%0A%20%20%20%20%20%20%20%20%20%20%20%20%20%20%20%20%22https%3A//earthengine.googleapis.com/v1alpha/projects/earthengine-legacy/maps/657f4562dc19665239d77803170d25e8-5c864e87589b15213e3dea9de038344d/tiles/%7Bz%7D/%7Bx%7D/%7By%7D%22%2C%0A%20%20%20%20%20%20%20%20%20%20%20%20%20%20%20%20%7B%22attribution%22%3A%20%22Map%20Data%20%5Cu0026copy%3B%20%5Cu003ca%20href%3D%5C%22https%3A//earthengine.google.com/%5C%22%5Cu003eGoogle%20Earth%20Engine%5Cu003c/a%5Cu003e%22%2C%20%22detectRetina%22%3A%20false%2C%20%22maxNativeZoom%22%3A%2018%2C%20%22maxZoom%22%3A%2018%2C%20%22minZoom%22%3A%200%2C%20%22noWrap%22%3A%20false%2C%20%22opacity%22%3A%201%2C%20%22subdomains%22%3A%20%22abc%22%2C%20%22tms%22%3A%20false%7D%0A%20%20%20%20%20%20%20%20%20%20%20%20%29.addTo%28map_6c6415ccc31442b986109c20b866ad62%29%3B%0A%20%20%20%20%20%20%20%20%0A%20%20%20%20%0A%20%20%20%20%20%20%20%20%20%20%20%20var%20tile_layer_210de19b07d74b2587cca2092063abc4%20%3D%20L.tileLayer%28%0A%20%20%20%20%20%20%20%20%20%20%20%20%20%20%20%20%22https%3A//earthengine.googleapis.com/v1alpha/projects/earthengine-legacy/maps/642c2f16c6bd5c753faf51faa04bc259-d07dbd1527f705200edaf48b0c745d00/tiles/%7Bz%7D/%7Bx%7D/%7By%7D%22%2C%0A%20%20%20%20%20%20%20%20%20%20%20%20%20%20%20%20%7B%22attribution%22%3A%20%22Map%20Data%20%5Cu0026copy%3B%20%5Cu003ca%20href%3D%5C%22https%3A//earthengine.google.com/%5C%22%5Cu003eGoogle%20Earth%20Engine%5Cu003c/a%5Cu003e%22%2C%20%22detectRetina%22%3A%20false%2C%20%22maxNativeZoom%22%3A%2018%2C%20%22maxZoom%22%3A%2018%2C%20%22minZoom%22%3A%200%2C%20%22noWrap%22%3A%20false%2C%20%22opacity%22%3A%201%2C%20%22subdomains%22%3A%20%22abc%22%2C%20%22tms%22%3A%20false%7D%0A%20%20%20%20%20%20%20%20%20%20%20%20%29.addTo%28map_6c6415ccc31442b986109c20b866ad62%29%3B%0A%20%20%20%20%20%20%20%20%0A%20%20%20%20%0A%20%20%20%20var%20color_map_6e40f13428a748f4983810336886420d%20%3D%20%7B%7D%3B%0A%0A%20%20%20%20%0A%20%20%20%20color_map_6e40f13428a748f4983810336886420d.color%20%3D%20d3.scale.threshold%28%29%0A%20%20%20%20%20%20%20%20%20%20%20%20%20%20.domain%28%5B0.0%2C%200.002004008016032064%2C%200.004008016032064128%2C%200.006012024048096192%2C%200.008016032064128256%2C%200.01002004008016032%2C%200.012024048096192385%2C%200.014028056112224449%2C%200.01603206412825651%2C%200.018036072144288578%2C%200.02004008016032064%2C%200.022044088176352707%2C%200.02404809619238477%2C%200.026052104208416832%2C%200.028056112224448898%2C%200.03006012024048096%2C%200.03206412825651302%2C%200.03406813627254509%2C%200.036072144288577156%2C%200.03807615230460922%2C%200.04008016032064128%2C%200.04208416833667335%2C%200.04408817635270541%2C%200.04609218436873747%2C%200.04809619238476954%2C%200.050100200400801605%2C%200.052104208416833664%2C%200.05410821643286573%2C%200.056112224448897796%2C%200.05811623246492986%2C%200.06012024048096192%2C%200.06212424849699399%2C%200.06412825651302605%2C%200.06613226452905811%2C%200.06813627254509018%2C%200.07014028056112225%2C%200.07214428857715431%2C%200.07414829659318638%2C%200.07615230460921844%2C%200.0781563126252505%2C%200.08016032064128256%2C%200.08216432865731463%2C%200.0841683366733467%2C%200.08617234468937876%2C%200.08817635270541083%2C%200.09018036072144289%2C%200.09218436873747494%2C%200.09418837675350701%2C%200.09619238476953908%2C%200.09819639278557114%2C%200.10020040080160321%2C%200.10220440881763528%2C%200.10420841683366733%2C%200.1062124248496994%2C%200.10821643286573146%2C%200.11022044088176353%2C%200.11222444889779559%2C%200.11422845691382766%2C%200.11623246492985972%2C%200.11823647294589178%2C%200.12024048096192384%2C%200.12224448897795591%2C%200.12424849699398798%2C%200.12625250501002003%2C%200.1282565130260521%2C%200.13026052104208416%2C%200.13226452905811623%2C%200.1342685370741483%2C%200.13627254509018036%2C%200.13827655310621242%2C%200.1402805611222445%2C%200.14228456913827656%2C%200.14428857715430862%2C%200.1462925851703407%2C%200.14829659318637275%2C%200.15030060120240482%2C%200.1523046092184369%2C%200.15430861723446893%2C%200.156312625250501%2C%200.15831663326653306%2C%200.16032064128256512%2C%200.1623246492985972%2C%200.16432865731462926%2C%200.16633266533066132%2C%200.1683366733466934%2C%200.17034068136272545%2C%200.17234468937875752%2C%200.1743486973947896%2C%200.17635270541082165%2C%200.17835671342685372%2C%200.18036072144288579%2C%200.18236472945891782%2C%200.1843687374749499%2C%200.18637274549098196%2C%200.18837675350701402%2C%200.1903807615230461%2C%200.19238476953907815%2C%200.19438877755511022%2C%200.1963927855711423%2C%200.19839679358717435%2C%200.20040080160320642%2C%200.20240480961923848%2C%200.20440881763527055%2C%200.20641282565130262%2C%200.20841683366733466%2C%200.21042084168336672%2C%200.2124248496993988%2C%200.21442885771543085%2C%200.21643286573146292%2C%200.218436873747495%2C%200.22044088176352705%2C%200.22244488977955912%2C%200.22444889779559118%2C%200.22645290581162325%2C%200.22845691382765532%2C%200.23046092184368738%2C%200.23246492985971945%2C%200.23446893787575152%2C%200.23647294589178355%2C%200.23847695390781562%2C%200.24048096192384769%2C%200.24248496993987975%2C%200.24448897795591182%2C%200.24649298597194388%2C%200.24849699398797595%2C%200.250501002004008%2C%200.25250501002004005%2C%200.2545090180360721%2C%200.2565130260521042%2C%200.25851703406813625%2C%200.2605210420841683%2C%200.2625250501002004%2C%200.26452905811623245%2C%200.2665330661322645%2C%200.2685370741482966%2C%200.27054108216432865%2C%200.2725450901803607%2C%200.2745490981963928%2C%200.27655310621242485%2C%200.2785571142284569%2C%200.280561122244489%2C%200.28256513026052105%2C%200.2845691382765531%2C%200.2865731462925852%2C%200.28857715430861725%2C%200.2905811623246493%2C%200.2925851703406814%2C%200.29458917835671344%2C%200.2965931863727455%2C%200.2985971943887776%2C%200.30060120240480964%2C%200.3026052104208417%2C%200.3046092184368738%2C%200.3066132264529058%2C%200.30861723446893785%2C%200.3106212424849699%2C%200.312625250501002%2C%200.31462925851703405%2C%200.3166332665330661%2C%200.3186372745490982%2C%200.32064128256513025%2C%200.3226452905811623%2C%200.3246492985971944%2C%200.32665330661322645%2C%200.3286573146292585%2C%200.3306613226452906%2C%200.33266533066132264%2C%200.3346693386773547%2C%200.3366733466933868%2C%200.33867735470941884%2C%200.3406813627254509%2C%200.342685370741483%2C%200.34468937875751504%2C%200.3466933867735471%2C%200.3486973947895792%2C%200.35070140280561124%2C%200.3527054108216433%2C%200.35470941883767537%2C%200.35671342685370744%2C%200.3587174348697395%2C%200.36072144288577157%2C%200.3627254509018036%2C%200.36472945891783565%2C%200.3667334669338677%2C%200.3687374749498998%2C%200.37074148296593185%2C%200.3727454909819639%2C%200.374749498997996%2C%200.37675350701402804%2C%200.3787575150300601%2C%200.3807615230460922%2C%200.38276553106212424%2C%200.3847695390781563%2C%200.3867735470941884%2C%200.38877755511022044%2C%200.3907815631262525%2C%200.3927855711422846%2C%200.39478957915831664%2C%200.3967935871743487%2C%200.39879759519038077%2C%200.40080160320641284%2C%200.4028056112224449%2C%200.40480961923847697%2C%200.40681362725450904%2C%200.4088176352705411%2C%200.41082164328657317%2C%200.41282565130260523%2C%200.4148296593186373%2C%200.4168336673346693%2C%200.4188376753507014%2C%200.42084168336673344%2C%200.4228456913827655%2C%200.4248496993987976%2C%200.42685370741482964%2C%200.4288577154308617%2C%200.4308617234468938%2C%200.43286573146292584%2C%200.4348697394789579%2C%200.43687374749499%2C%200.43887775551102204%2C%200.4408817635270541%2C%200.44288577154308617%2C%200.44488977955911824%2C%200.4468937875751503%2C%200.44889779559118237%2C%200.45090180360721444%2C%200.4529058116232465%2C%200.45490981963927857%2C%200.45691382765531063%2C%200.4589178356713427%2C%200.46092184368737477%2C%200.46292585170340683%2C%200.4649298597194389%2C%200.46693386773547096%2C%200.46893787575150303%2C%200.4709418837675351%2C%200.4729458917835671%2C%200.4749498997995992%2C%200.47695390781563124%2C%200.4789579158316633%2C%200.48096192384769537%2C%200.48296593186372744%2C%200.4849699398797595%2C%200.48697394789579157%2C%200.48897795591182364%2C%200.4909819639278557%2C%200.49298597194388777%2C%200.49498997995991983%2C%200.4969939879759519%2C%200.49899799599198397%2C%200.501002004008016%2C%200.503006012024048%2C%200.5050100200400801%2C%200.5070140280561122%2C%200.5090180360721442%2C%200.5110220440881763%2C%200.5130260521042084%2C%200.5150300601202404%2C%200.5170340681362725%2C%200.5190380761523046%2C%200.5210420841683366%2C%200.5230460921843687%2C%200.5250501002004008%2C%200.5270541082164328%2C%200.5290581162324649%2C%200.531062124248497%2C%200.533066132264529%2C%200.5350701402805611%2C%200.5370741482965932%2C%200.5390781563126252%2C%200.5410821643286573%2C%200.5430861723446894%2C%200.5450901803607214%2C%200.5470941883767535%2C%200.5490981963927856%2C%200.5511022044088176%2C%200.5531062124248497%2C%200.5551102204408818%2C%200.5571142284569138%2C%200.5591182364729459%2C%200.561122244488978%2C%200.56312625250501%2C%200.5651302605210421%2C%200.5671342685370742%2C%200.5691382765531062%2C%200.5711422845691383%2C%200.5731462925851704%2C%200.5751503006012024%2C%200.5771543086172345%2C%200.5791583166332666%2C%200.5811623246492986%2C%200.5831663326653307%2C%200.5851703406813628%2C%200.5871743486973948%2C%200.5891783567134269%2C%200.591182364729459%2C%200.593186372745491%2C%200.5951903807615231%2C%200.5971943887775552%2C%200.5991983967935872%2C%200.6012024048096193%2C%200.6032064128256514%2C%200.6052104208416834%2C%200.6072144288577155%2C%200.6092184368737475%2C%200.6112224448897795%2C%200.6132264529058116%2C%200.6152304609218436%2C%200.6172344689378757%2C%200.6192384769539078%2C%200.6212424849699398%2C%200.6232464929859719%2C%200.625250501002004%2C%200.627254509018036%2C%200.6292585170340681%2C%200.6312625250501002%2C%200.6332665330661322%2C%200.6352705410821643%2C%200.6372745490981964%2C%200.6392785571142284%2C%200.6412825651302605%2C%200.6432865731462926%2C%200.6452905811623246%2C%200.6472945891783567%2C%200.6492985971943888%2C%200.6513026052104208%2C%200.6533066132264529%2C%200.655310621242485%2C%200.657314629258517%2C%200.6593186372745491%2C%200.6613226452905812%2C%200.6633266533066132%2C%200.6653306613226453%2C%200.6673346693386774%2C%200.6693386773547094%2C%200.6713426853707415%2C%200.6733466933867736%2C%200.6753507014028056%2C%200.6773547094188377%2C%200.6793587174348698%2C%200.6813627254509018%2C%200.6833667334669339%2C%200.685370741482966%2C%200.687374749498998%2C%200.6893787575150301%2C%200.6913827655310621%2C%200.6933867735470942%2C%200.6953907815631263%2C%200.6973947895791583%2C%200.6993987975951904%2C%200.7014028056112225%2C%200.7034068136272545%2C%200.7054108216432866%2C%200.7074148296593187%2C%200.7094188376753507%2C%200.7114228456913828%2C%200.7134268537074149%2C%200.7154308617234469%2C%200.717434869739479%2C%200.7194388777555111%2C%200.7214428857715431%2C%200.7234468937875751%2C%200.7254509018036072%2C%200.7274549098196392%2C%200.7294589178356713%2C%200.7314629258517034%2C%200.7334669338677354%2C%200.7354709418837675%2C%200.7374749498997996%2C%200.7394789579158316%2C%200.7414829659318637%2C%200.7434869739478958%2C%200.7454909819639278%2C%200.7474949899799599%2C%200.749498997995992%2C%200.751503006012024%2C%200.7535070140280561%2C%200.7555110220440882%2C%200.7575150300601202%2C%200.7595190380761523%2C%200.7615230460921844%2C%200.7635270541082164%2C%200.7655310621242485%2C%200.7675350701402806%2C%200.7695390781563126%2C%200.7715430861723447%2C%200.7735470941883767%2C%200.7755511022044088%2C%200.7775551102204409%2C%200.779559118236473%2C%200.781563126252505%2C%200.7835671342685371%2C%200.7855711422845691%2C%200.7875751503006012%2C%200.7895791583166333%2C%200.7915831663326653%2C%200.7935871743486974%2C%200.7955911823647295%2C%200.7975951903807615%2C%200.7995991983967936%2C%200.8016032064128257%2C%200.8036072144288577%2C%200.8056112224448898%2C%200.8076152304609219%2C%200.8096192384769539%2C%200.811623246492986%2C%200.8136272545090181%2C%200.8156312625250501%2C%200.8176352705410822%2C%200.8196392785571143%2C%200.8216432865731463%2C%200.8236472945891784%2C%200.8256513026052105%2C%200.8276553106212425%2C%200.8296593186372746%2C%200.8316633266533067%2C%200.8336673346693386%2C%200.8356713426853707%2C%200.8376753507014028%2C%200.8396793587174348%2C%200.8416833667334669%2C%200.843687374749499%2C%200.845691382765531%2C%200.8476953907815631%2C%200.8496993987975952%2C%200.8517034068136272%2C%200.8537074148296593%2C%200.8557114228456913%2C%200.8577154308617234%2C%200.8597194388777555%2C%200.8617234468937875%2C%200.8637274549098196%2C%200.8657314629258517%2C%200.8677354709418837%2C%200.8697394789579158%2C%200.8717434869739479%2C%200.87374749498998%2C%200.875751503006012%2C%200.8777555110220441%2C%200.8797595190380761%2C%200.8817635270541082%2C%200.8837675350701403%2C%200.8857715430861723%2C%200.8877755511022044%2C%200.8897795591182365%2C%200.8917835671342685%2C%200.8937875751503006%2C%200.8957915831663327%2C%200.8977955911823647%2C%200.8997995991983968%2C%200.9018036072144289%2C%200.9038076152304609%2C%200.905811623246493%2C%200.9078156312625251%2C%200.9098196392785571%2C%200.9118236472945892%2C%200.9138276553106213%2C%200.9158316633266533%2C%200.9178356713426854%2C%200.9198396793587175%2C%200.9218436873747495%2C%200.9238476953907816%2C%200.9258517034068137%2C%200.9278557114228457%2C%200.9298597194388778%2C%200.9318637274549099%2C%200.9338677354709419%2C%200.935871743486974%2C%200.9378757515030061%2C%200.9398797595190381%2C%200.9418837675350702%2C%200.9438877755511023%2C%200.9458917835671342%2C%200.9478957915831663%2C%200.9498997995991983%2C%200.9519038076152304%2C%200.9539078156312625%2C%200.9559118236472945%2C%200.9579158316633266%2C%200.9599198396793587%2C%200.9619238476953907%2C%200.9639278557114228%2C%200.9659318637274549%2C%200.9679358717434869%2C%200.969939879759519%2C%200.9719438877755511%2C%200.9739478957915831%2C%200.9759519038076152%2C%200.9779559118236473%2C%200.9799599198396793%2C%200.9819639278557114%2C%200.9839679358717435%2C%200.9859719438877755%2C%200.9879759519038076%2C%200.9899799599198397%2C%200.9919839679358717%2C%200.9939879759519038%2C%200.9959919839679359%2C%200.9979959919839679%2C%201.0%5D%29%0A%20%20%20%20%20%20%20%20%20%20%20%20%20%20.range%28%5B%27%23ffa500ff%27%2C%20%27%23ffa500ff%27%2C%20%27%23ffa500ff%27%2C%20%27%23ffa500ff%27%2C%20%27%23ffa500ff%27%2C%20%27%23ffa500ff%27%2C%20%27%23ffa500ff%27%2C%20%27%23ffa500ff%27%2C%20%27%23ffa500ff%27%2C%20%27%23ffa500ff%27%2C%20%27%23ffa500ff%27%2C%20%27%23ffa500ff%27%2C%20%27%23ffa500ff%27%2C%20%27%23ffa500ff%27%2C%20%27%23ffa500ff%27%2C%20%27%23ffa500ff%27%2C%20%27%23ffa500ff%27%2C%20%27%23ffa500ff%27%2C%20%27%23ffa500ff%27%2C%20%27%23ffa500ff%27%2C%20%27%23ffa500ff%27%2C%20%27%23ffa500ff%27%2C%20%27%23ffa500ff%27%2C%20%27%23ffa500ff%27%2C%20%27%23ffa500ff%27%2C%20%27%23ffa500ff%27%2C%20%27%23ffa500ff%27%2C%20%27%23ffa500ff%27%2C%20%27%23ffa500ff%27%2C%20%27%23ffa500ff%27%2C%20%27%23ffa500ff%27%2C%20%27%23ffa500ff%27%2C%20%27%23ffa500ff%27%2C%20%27%23ffa500ff%27%2C%20%27%23ffa500ff%27%2C%20%27%23ffa500ff%27%2C%20%27%23ffa500ff%27%2C%20%27%23ffa500ff%27%2C%20%27%23ffa500ff%27%2C%20%27%23ffa500ff%27%2C%20%27%23ffa500ff%27%2C%20%27%23ffa500ff%27%2C%20%27%23ffa500ff%27%2C%20%27%23ffa500ff%27%2C%20%27%23ffa500ff%27%2C%20%27%23ffa500ff%27%2C%20%27%23ffa500ff%27%2C%20%27%23ffa500ff%27%2C%20%27%23ffa500ff%27%2C%20%27%23ffa500ff%27%2C%20%27%23ffa500ff%27%2C%20%27%23ffa500ff%27%2C%20%27%23ffa500ff%27%2C%20%27%23ffa500ff%27%2C%20%27%23ffa500ff%27%2C%20%27%23ffa500ff%27%2C%20%27%23ffa500ff%27%2C%20%27%23ffa500ff%27%2C%20%27%23ffa500ff%27%2C%20%27%23ffa500ff%27%2C%20%27%23ffa500ff%27%2C%20%27%23ffa500ff%27%2C%20%27%23ffa500ff%27%2C%20%27%23ffa500ff%27%2C%20%27%23ffa500ff%27%2C%20%27%23ffa500ff%27%2C%20%27%23ffa500ff%27%2C%20%27%23ffa500ff%27%2C%20%27%23ffa500ff%27%2C%20%27%23ffa500ff%27%2C%20%27%23ffa500ff%27%2C%20%27%23ffa500ff%27%2C%20%27%23ffa500ff%27%2C%20%27%23ffa500ff%27%2C%20%27%23ffa500ff%27%2C%20%27%23ffa500ff%27%2C%20%27%23ffa500ff%27%2C%20%27%23ffa500ff%27%2C%20%27%23ffa500ff%27%2C%20%27%23ffa500ff%27%2C%20%27%23ffa500ff%27%2C%20%27%23ffa500ff%27%2C%20%27%23ffa500ff%27%2C%20%27%23ffa500ff%27%2C%20%27%23ffa500ff%27%2C%20%27%23ffa500ff%27%2C%20%27%23ffa500ff%27%2C%20%27%23ffa500ff%27%2C%20%27%23ffa500ff%27%2C%20%27%23ffa500ff%27%2C%20%27%23ffa500ff%27%2C%20%27%23ffa500ff%27%2C%20%27%23ffa500ff%27%2C%20%27%23ffa500ff%27%2C%20%27%23ffa500ff%27%2C%20%27%23ffa500ff%27%2C%20%27%23ffa500ff%27%2C%20%27%23ffa500ff%27%2C%20%27%23ffa500ff%27%2C%20%27%23ffa500ff%27%2C%20%27%23ffa500ff%27%2C%20%27%23ffa500ff%27%2C%20%27%23ffa500ff%27%2C%20%27%23ffa500ff%27%2C%20%27%23ffa500ff%27%2C%20%27%23ffa500ff%27%2C%20%27%23ffa500ff%27%2C%20%27%23ffa500ff%27%2C%20%27%23ffa500ff%27%2C%20%27%23ffa500ff%27%2C%20%27%23ffa500ff%27%2C%20%27%23ffa500ff%27%2C%20%27%23ffa500ff%27%2C%20%27%23ffa500ff%27%2C%20%27%23ffa500ff%27%2C%20%27%23ffa500ff%27%2C%20%27%23ffa500ff%27%2C%20%27%23ffa500ff%27%2C%20%27%23ffa500ff%27%2C%20%27%23ffa500ff%27%2C%20%27%23ffa500ff%27%2C%20%27%23ffa500ff%27%2C%20%27%23ffa500ff%27%2C%20%27%23ffa500ff%27%2C%20%27%23ffa500ff%27%2C%20%27%23ffa500ff%27%2C%20%27%23ffa500ff%27%2C%20%27%23ffa500ff%27%2C%20%27%23ffa500ff%27%2C%20%27%23ffa500ff%27%2C%20%27%23ffa500ff%27%2C%20%27%23ffa500ff%27%2C%20%27%23ffa500ff%27%2C%20%27%23ffa500ff%27%2C%20%27%23ffa500ff%27%2C%20%27%23ffa500ff%27%2C%20%27%23ffa500ff%27%2C%20%27%23ffa500ff%27%2C%20%27%23ffa500ff%27%2C%20%27%23ffa500ff%27%2C%20%27%23ffa500ff%27%2C%20%27%23ffa500ff%27%2C%20%27%23ffa500ff%27%2C%20%27%23ffa500ff%27%2C%20%27%23ffa500ff%27%2C%20%27%23ffa500ff%27%2C%20%27%23ffa500ff%27%2C%20%27%23ffa500ff%27%2C%20%27%23ffa500ff%27%2C%20%27%23ffa500ff%27%2C%20%27%23ffa500ff%27%2C%20%27%23ffa500ff%27%2C%20%27%23ffa500ff%27%2C%20%27%23ffa500ff%27%2C%20%27%23ffa500ff%27%2C%20%27%23ffa500ff%27%2C%20%27%23ffa500ff%27%2C%20%27%23ffa500ff%27%2C%20%27%23ffa500ff%27%2C%20%27%23ffa500ff%27%2C%20%27%23ffa500ff%27%2C%20%27%23ffa500ff%27%2C%20%27%23ffa500ff%27%2C%20%27%23ffa500ff%27%2C%20%27%23ffa500ff%27%2C%20%27%23ffa500ff%27%2C%20%27%23ffa500ff%27%2C%20%27%23ffa500ff%27%2C%20%27%23ffa500ff%27%2C%20%27%23ffa500ff%27%2C%20%27%23ffa500ff%27%2C%20%27%23ffa500ff%27%2C%20%27%23ffa500ff%27%2C%20%27%23ffa500ff%27%2C%20%27%23ffa500ff%27%2C%20%27%23ffa500ff%27%2C%20%27%23ffa500ff%27%2C%20%27%23ffa500ff%27%2C%20%27%23ffa500ff%27%2C%20%27%23ffa500ff%27%2C%20%27%23ffa500ff%27%2C%20%27%23ffa500ff%27%2C%20%27%23ffa500ff%27%2C%20%27%23ffa500ff%27%2C%20%27%23ffa500ff%27%2C%20%27%23ffa500ff%27%2C%20%27%23ffa500ff%27%2C%20%27%23ffa500ff%27%2C%20%27%23ffa500ff%27%2C%20%27%23ffa500ff%27%2C%20%27%23ffa500ff%27%2C%20%27%23ffa500ff%27%2C%20%27%23ffa500ff%27%2C%20%27%23ffa500ff%27%2C%20%27%23ffa500ff%27%2C%20%27%23ffa500ff%27%2C%20%27%23ffa500ff%27%2C%20%27%23ffa500ff%27%2C%20%27%23ffa500ff%27%2C%20%27%23ffa500ff%27%2C%20%27%23ffa500ff%27%2C%20%27%23ffa500ff%27%2C%20%27%23ffa500ff%27%2C%20%27%23ffa500ff%27%2C%20%27%23ffa500ff%27%2C%20%27%23ffa500ff%27%2C%20%27%23ffa500ff%27%2C%20%27%23ffa500ff%27%2C%20%27%23ffa500ff%27%2C%20%27%23ffa500ff%27%2C%20%27%23ffa500ff%27%2C%20%27%23ffa500ff%27%2C%20%27%23ffa500ff%27%2C%20%27%23ffa500ff%27%2C%20%27%23ffa500ff%27%2C%20%27%23ffa500ff%27%2C%20%27%23ffa500ff%27%2C%20%27%23ffa500ff%27%2C%20%27%23ffa500ff%27%2C%20%27%23ffa500ff%27%2C%20%27%23ffa500ff%27%2C%20%27%23ffa500ff%27%2C%20%27%23ffa500ff%27%2C%20%27%23ffa500ff%27%2C%20%27%23ffa500ff%27%2C%20%27%23ffa500ff%27%2C%20%27%23ffa500ff%27%2C%20%27%23ffa500ff%27%2C%20%27%23ffa500ff%27%2C%20%27%23ffa500ff%27%2C%20%27%23ffa500ff%27%2C%20%27%23ffa500ff%27%2C%20%27%23ffa500ff%27%2C%20%27%23ffa500ff%27%2C%20%27%23ffa500ff%27%2C%20%27%23ffa500ff%27%2C%20%27%23ffa500ff%27%2C%20%27%23ffa500ff%27%2C%20%27%23ffa500ff%27%2C%20%27%23ffa500ff%27%2C%20%27%23ffa500ff%27%2C%20%27%23ffa500ff%27%2C%20%27%23ffa500ff%27%2C%20%27%23ffa500ff%27%2C%20%27%23ffa500ff%27%2C%20%27%23ffa500ff%27%2C%20%27%23ffa500ff%27%2C%20%27%23ffa500ff%27%2C%20%27%23ffa500ff%27%2C%20%27%23ffa500ff%27%2C%20%27%23ffa500ff%27%2C%20%27%23ffa500ff%27%2C%20%27%23ffa500ff%27%2C%20%27%23ffa500ff%27%2C%20%27%23ffa500ff%27%2C%20%27%23ffa500ff%27%2C%20%27%23ffa500ff%27%2C%20%27%23ffa500ff%27%2C%20%27%23ffa500ff%27%2C%20%27%23ffa500ff%27%2C%20%27%23ffa500ff%27%2C%20%27%23ffa500ff%27%2C%20%27%23ffa500ff%27%2C%20%27%23ffa500ff%27%2C%20%27%23ffa500ff%27%2C%20%27%23ffa500ff%27%2C%20%27%23ffa500ff%27%2C%20%27%23ffa500ff%27%2C%20%27%23ffa500ff%27%2C%20%27%23ffa500ff%27%2C%20%27%23ffa500ff%27%2C%20%27%23ffa500ff%27%2C%20%27%23ffa500ff%27%2C%20%27%23ffa500ff%27%2C%20%27%23ffa500ff%27%2C%20%27%23ffa500ff%27%2C%20%27%23ffa500ff%27%2C%20%27%23ffa500ff%27%2C%20%27%23ffa500ff%27%2C%20%27%23ffa500ff%27%2C%20%27%23ffa500ff%27%2C%20%27%23ffa500ff%27%2C%20%27%23ffa500ff%27%2C%20%27%23ffa500ff%27%2C%20%27%23ffa500ff%27%2C%20%27%23ffa500ff%27%2C%20%27%23ffa500ff%27%2C%20%27%23ffa500ff%27%2C%20%27%23ffa500ff%27%2C%20%27%23ffa500ff%27%2C%20%27%23ffa500ff%27%2C%20%27%23ffa500ff%27%2C%20%27%23ffa500ff%27%2C%20%27%23ffa500ff%27%2C%20%27%23ffa500ff%27%2C%20%27%23ffa500ff%27%2C%20%27%23ffa500ff%27%2C%20%27%23ffa500ff%27%2C%20%27%23ffa500ff%27%2C%20%27%23ffa500ff%27%2C%20%27%23ffa500ff%27%2C%20%27%23ffa500ff%27%2C%20%27%23ffa500ff%27%2C%20%27%23ffa500ff%27%2C%20%27%23ffa500ff%27%2C%20%27%23ffa500ff%27%2C%20%27%23ffa500ff%27%2C%20%27%23ffa500ff%27%2C%20%27%23ffa500ff%27%2C%20%27%23ffa500ff%27%2C%20%27%23ffa500ff%27%2C%20%27%23ffa500ff%27%2C%20%27%23ffa500ff%27%2C%20%27%23ffa500ff%27%2C%20%27%23ffa500ff%27%2C%20%27%23ffa500ff%27%2C%20%27%23ffa500ff%27%2C%20%27%23ffa500ff%27%2C%20%27%23ffa500ff%27%2C%20%27%23ffa500ff%27%2C%20%27%23ffa500ff%27%2C%20%27%23ffa500ff%27%2C%20%27%23ffa500ff%27%2C%20%27%23ffa500ff%27%2C%20%27%23ffa500ff%27%2C%20%27%23ffa500ff%27%2C%20%27%23ffa500ff%27%2C%20%27%23ffa500ff%27%2C%20%27%23ffa500ff%27%2C%20%27%23ffa500ff%27%2C%20%27%23ffa500ff%27%2C%20%27%23ffa500ff%27%2C%20%27%23ffa500ff%27%2C%20%27%23ffa500ff%27%2C%20%27%23ffa500ff%27%2C%20%27%23ffa500ff%27%2C%20%27%23ffa500ff%27%2C%20%27%23ffa500ff%27%2C%20%27%23ffa500ff%27%2C%20%27%23ffa500ff%27%2C%20%27%23ffa500ff%27%2C%20%27%23ffa500ff%27%2C%20%27%23ffa500ff%27%2C%20%27%23ffa500ff%27%2C%20%27%23ffa500ff%27%2C%20%27%23ffa500ff%27%2C%20%27%23ffa500ff%27%2C%20%27%23ffa500ff%27%2C%20%27%23ffa500ff%27%2C%20%27%23ffa500ff%27%2C%20%27%23ffa500ff%27%2C%20%27%23ffa500ff%27%2C%20%27%23ffa500ff%27%2C%20%27%23ffa500ff%27%2C%20%27%23ffa500ff%27%2C%20%27%23ffa500ff%27%2C%20%27%23ffa500ff%27%2C%20%27%23ffa500ff%27%2C%20%27%23ffa500ff%27%2C%20%27%23ffa500ff%27%2C%20%27%23ffa500ff%27%2C%20%27%23ffa500ff%27%2C%20%27%23ffa500ff%27%2C%20%27%23ffa500ff%27%2C%20%27%23ffa500ff%27%2C%20%27%23ffa500ff%27%2C%20%27%23ffa500ff%27%2C%20%27%23ffa500ff%27%2C%20%27%23ffa500ff%27%2C%20%27%23ffa500ff%27%2C%20%27%23ffa500ff%27%2C%20%27%23ffa500ff%27%2C%20%27%23ffa500ff%27%2C%20%27%23ffa500ff%27%2C%20%27%23ffa500ff%27%2C%20%27%23ffa500ff%27%2C%20%27%23ffa500ff%27%2C%20%27%23ffa500ff%27%2C%20%27%23ffa500ff%27%2C%20%27%23ffa500ff%27%2C%20%27%23ffa500ff%27%2C%20%27%23ffa500ff%27%2C%20%27%23ffa500ff%27%2C%20%27%23ffa500ff%27%2C%20%27%23ffa500ff%27%2C%20%27%23ffa500ff%27%2C%20%27%23ffa500ff%27%2C%20%27%23ffa500ff%27%2C%20%27%23ffa500ff%27%2C%20%27%23ffa500ff%27%2C%20%27%23ffa500ff%27%2C%20%27%23ffa500ff%27%2C%20%27%23ffa500ff%27%2C%20%27%23ffa500ff%27%2C%20%27%23ffa500ff%27%2C%20%27%23ffa500ff%27%2C%20%27%23ffa500ff%27%2C%20%27%23ffa500ff%27%2C%20%27%23ffa500ff%27%2C%20%27%23ffa500ff%27%2C%20%27%23ffa500ff%27%2C%20%27%23ffa500ff%27%2C%20%27%23ffa500ff%27%2C%20%27%23ffa500ff%27%2C%20%27%23ffa500ff%27%2C%20%27%23ffa500ff%27%2C%20%27%23ffa500ff%27%2C%20%27%23ffa500ff%27%2C%20%27%23ffa500ff%27%2C%20%27%23ffa500ff%27%2C%20%27%23ffa500ff%27%2C%20%27%23ffa500ff%27%2C%20%27%23ffa500ff%27%2C%20%27%23ffa500ff%27%2C%20%27%23ffa500ff%27%2C%20%27%23ffa500ff%27%2C%20%27%23ffa500ff%27%2C%20%27%23ffa500ff%27%2C%20%27%23ffa500ff%27%2C%20%27%23ffa500ff%27%2C%20%27%23ffa500ff%27%2C%20%27%23ffa500ff%27%2C%20%27%23ffa500ff%27%2C%20%27%23ffa500ff%27%2C%20%27%23ffa500ff%27%2C%20%27%23ffa500ff%27%2C%20%27%23ffa500ff%27%2C%20%27%23ffa500ff%27%2C%20%27%23ffa500ff%27%2C%20%27%23ffa500ff%27%2C%20%27%23ffa500ff%27%2C%20%27%23ffa500ff%27%2C%20%27%23ffa500ff%27%2C%20%27%23ffa500ff%27%2C%20%27%23ffa500ff%27%2C%20%27%23ffa500ff%27%2C%20%27%23ffa500ff%27%2C%20%27%23ffa500ff%27%2C%20%27%23ffa500ff%27%2C%20%27%23ffa500ff%27%2C%20%27%23ffa500ff%27%2C%20%27%23ffa500ff%27%2C%20%27%23ffa500ff%27%2C%20%27%23ffa500ff%27%2C%20%27%23ffa500ff%27%2C%20%27%23ffa500ff%27%2C%20%27%23ffa500ff%27%2C%20%27%23ffa500ff%27%2C%20%27%23ffa500ff%27%2C%20%27%23ffa500ff%27%2C%20%27%23ffa500ff%27%2C%20%27%23ffa500ff%27%2C%20%27%23ffa500ff%27%2C%20%27%23ffa500ff%27%2C%20%27%23ffa500ff%27%2C%20%27%23ffa500ff%27%2C%20%27%23ffa500ff%27%2C%20%27%23ffa500ff%27%2C%20%27%23ffa500ff%27%2C%20%27%23ffa500ff%27%2C%20%27%23ffa500ff%27%2C%20%27%23ffa500ff%27%2C%20%27%23ffa500ff%27%2C%20%27%23ffa500ff%27%2C%20%27%23ffa500ff%27%2C%20%27%23ffa500ff%27%2C%20%27%23ffa500ff%27%2C%20%27%23ffa500ff%27%2C%20%27%23ffa500ff%27%2C%20%27%23ffa500ff%27%2C%20%27%23ffa500ff%27%2C%20%27%23ffa500ff%27%2C%20%27%23ffa500ff%27%2C%20%27%23ffa500ff%27%2C%20%27%23ffa500ff%27%2C%20%27%23ffa500ff%27%2C%20%27%23ffa500ff%27%2C%20%27%23ffa500ff%27%2C%20%27%23ffa500ff%27%2C%20%27%23ffa500ff%27%2C%20%27%23ffa500ff%27%2C%20%27%23ffa500ff%27%2C%20%27%23ffa500ff%27%2C%20%27%23ffa500ff%27%2C%20%27%23ffa500ff%27%2C%20%27%23ffa500ff%27%2C%20%27%23ffa500ff%27%2C%20%27%23ffa500ff%27%2C%20%27%23ffa500ff%27%2C%20%27%23ffa500ff%27%2C%20%27%23ffa500ff%27%2C%20%27%23ffa500ff%27%2C%20%27%23ffa500ff%27%2C%20%27%23ffa500ff%27%2C%20%27%23ffa500ff%27%2C%20%27%23ffa500ff%27%2C%20%27%23ffa500ff%27%2C%20%27%23ffa500ff%27%2C%20%27%23ffa500ff%27%2C%20%27%23ffa500ff%27%5D%29%3B%0A%20%20%20%20%0A%0A%20%20%20%20color_map_6e40f13428a748f4983810336886420d.x%20%3D%20d3.scale.linear%28%29%0A%20%20%20%20%20%20%20%20%20%20%20%20%20%20.domain%28%5B0.0%2C%201.0%5D%29%0A%20%20%20%20%20%20%20%20%20%20%20%20%20%20.range%28%5B0%2C%20400%5D%29%3B%0A%0A%20%20%20%20color_map_6e40f13428a748f4983810336886420d.legend%20%3D%20L.control%28%7Bposition%3A%20%27topright%27%7D%29%3B%0A%20%20%20%20color_map_6e40f13428a748f4983810336886420d.legend.onAdd%20%3D%20function%20%28map%29%20%7Bvar%20div%20%3D%20L.DomUtil.create%28%27div%27%2C%20%27legend%27%29%3B%20return%20div%7D%3B%0A%20%20%20%20color_map_6e40f13428a748f4983810336886420d.legend.addTo%28map_6c6415ccc31442b986109c20b866ad62%29%3B%0A%0A%20%20%20%20color_map_6e40f13428a748f4983810336886420d.xAxis%20%3D%20d3.svg.axis%28%29%0A%20%20%20%20%20%20%20%20.scale%28color_map_6e40f13428a748f4983810336886420d.x%29%0A%20%20%20%20%20%20%20%20.orient%28%22top%22%29%0A%20%20%20%20%20%20%20%20.tickSize%281%29%0A%20%20%20%20%20%20%20%20.tickValues%28%5B0.0%2C%201.0%5D%29%3B%0A%0A%20%20%20%20color_map_6e40f13428a748f4983810336886420d.svg%20%3D%20d3.select%28%22.legend.leaflet-control%22%29.append%28%22svg%22%29%0A%20%20%20%20%20%20%20%20.attr%28%22id%22%2C%20%27legend%27%29%0A%20%20%20%20%20%20%20%20.attr%28%22width%22%2C%20450%29%0A%20%20%20%20%20%20%20%20.attr%28%22height%22%2C%2040%29%3B%0A%0A%20%20%20%20color_map_6e40f13428a748f4983810336886420d.g%20%3D%20color_map_6e40f13428a748f4983810336886420d.svg.append%28%22g%22%29%0A%20%20%20%20%20%20%20%20.attr%28%22class%22%2C%20%22key%22%29%0A%20%20%20%20%20%20%20%20.attr%28%22transform%22%2C%20%22translate%2825%2C16%29%22%29%3B%0A%0A%20%20%20%20color_map_6e40f13428a748f4983810336886420d.g.selectAll%28%22rect%22%29%0A%20%20%20%20%20%20%20%20.data%28color_map_6e40f13428a748f4983810336886420d.color.range%28%29.map%28function%28d%2C%20i%29%20%7B%0A%20%20%20%20%20%20%20%20%20%20return%20%7B%0A%20%20%20%20%20%20%20%20%20%20%20%20x0%3A%20i%20%3F%20color_map_6e40f13428a748f4983810336886420d.x%28color_map_6e40f13428a748f4983810336886420d.color.domain%28%29%5Bi%20-%201%5D%29%20%3A%20color_map_6e40f13428a748f4983810336886420d.x.range%28%29%5B0%5D%2C%0A%20%20%20%20%20%20%20%20%20%20%20%20x1%3A%20i%20%3C%20color_map_6e40f13428a748f4983810336886420d.color.domain%28%29.length%20%3F%20color_map_6e40f13428a748f4983810336886420d.x%28color_map_6e40f13428a748f4983810336886420d.color.domain%28%29%5Bi%5D%29%20%3A%20color_map_6e40f13428a748f4983810336886420d.x.range%28%29%5B1%5D%2C%0A%20%20%20%20%20%20%20%20%20%20%20%20z%3A%20d%0A%20%20%20%20%20%20%20%20%20%20%7D%3B%0A%20%20%20%20%20%20%20%20%7D%29%29%0A%20%20%20%20%20%20.enter%28%29.append%28%22rect%22%29%0A%20%20%20%20%20%20%20%20.attr%28%22height%22%2C%2010%29%0A%20%20%20%20%20%20%20%20.attr%28%22x%22%2C%20function%28d%29%20%7B%20return%20d.x0%3B%20%7D%29%0A%20%20%20%20%20%20%20%20.attr%28%22width%22%2C%20function%28d%29%20%7B%20return%20d.x1%20-%20d.x0%3B%20%7D%29%0A%20%20%20%20%20%20%20%20.style%28%22fill%22%2C%20function%28d%29%20%7B%20return%20d.z%3B%20%7D%29%3B%0A%0A%20%20%20%20color_map_6e40f13428a748f4983810336886420d.g.call%28color_map_6e40f13428a748f4983810336886420d.xAxis%29.append%28%22text%22%29%0A%20%20%20%20%20%20%20%20.attr%28%22class%22%2C%20%22caption%22%29%0A%20%20%20%20%20%20%20%20.attr%28%22y%22%2C%2021%29%0A%20%20%20%20%20%20%20%20.text%28%27HSHG%27%29%3B%0A%20%20%20%20%0A%20%20%20%20var%20color_map_37c8951fc081435693ae67a4000484e8%20%3D%20%7B%7D%3B%0A%0A%20%20%20%20%0A%20%20%20%20color_map_37c8951fc081435693ae67a4000484e8.color%20%3D%20d3.scale.threshold%28%29%0A%20%20%20%20%20%20%20%20%20%20%20%20%20%20.domain%28%5B0.0%2C%200.002004008016032064%2C%200.004008016032064128%2C%200.006012024048096192%2C%200.008016032064128256%2C%200.01002004008016032%2C%200.012024048096192385%2C%200.014028056112224449%2C%200.01603206412825651%2C%200.018036072144288578%2C%200.02004008016032064%2C%200.022044088176352707%2C%200.02404809619238477%2C%200.026052104208416832%2C%200.028056112224448898%2C%200.03006012024048096%2C%200.03206412825651302%2C%200.03406813627254509%2C%200.036072144288577156%2C%200.03807615230460922%2C%200.04008016032064128%2C%200.04208416833667335%2C%200.04408817635270541%2C%200.04609218436873747%2C%200.04809619238476954%2C%200.050100200400801605%2C%200.052104208416833664%2C%200.05410821643286573%2C%200.056112224448897796%2C%200.05811623246492986%2C%200.06012024048096192%2C%200.06212424849699399%2C%200.06412825651302605%2C%200.06613226452905811%2C%200.06813627254509018%2C%200.07014028056112225%2C%200.07214428857715431%2C%200.07414829659318638%2C%200.07615230460921844%2C%200.0781563126252505%2C%200.08016032064128256%2C%200.08216432865731463%2C%200.0841683366733467%2C%200.08617234468937876%2C%200.08817635270541083%2C%200.09018036072144289%2C%200.09218436873747494%2C%200.09418837675350701%2C%200.09619238476953908%2C%200.09819639278557114%2C%200.10020040080160321%2C%200.10220440881763528%2C%200.10420841683366733%2C%200.1062124248496994%2C%200.10821643286573146%2C%200.11022044088176353%2C%200.11222444889779559%2C%200.11422845691382766%2C%200.11623246492985972%2C%200.11823647294589178%2C%200.12024048096192384%2C%200.12224448897795591%2C%200.12424849699398798%2C%200.12625250501002003%2C%200.1282565130260521%2C%200.13026052104208416%2C%200.13226452905811623%2C%200.1342685370741483%2C%200.13627254509018036%2C%200.13827655310621242%2C%200.1402805611222445%2C%200.14228456913827656%2C%200.14428857715430862%2C%200.1462925851703407%2C%200.14829659318637275%2C%200.15030060120240482%2C%200.1523046092184369%2C%200.15430861723446893%2C%200.156312625250501%2C%200.15831663326653306%2C%200.16032064128256512%2C%200.1623246492985972%2C%200.16432865731462926%2C%200.16633266533066132%2C%200.1683366733466934%2C%200.17034068136272545%2C%200.17234468937875752%2C%200.1743486973947896%2C%200.17635270541082165%2C%200.17835671342685372%2C%200.18036072144288579%2C%200.18236472945891782%2C%200.1843687374749499%2C%200.18637274549098196%2C%200.18837675350701402%2C%200.1903807615230461%2C%200.19238476953907815%2C%200.19438877755511022%2C%200.1963927855711423%2C%200.19839679358717435%2C%200.20040080160320642%2C%200.20240480961923848%2C%200.20440881763527055%2C%200.20641282565130262%2C%200.20841683366733466%2C%200.21042084168336672%2C%200.2124248496993988%2C%200.21442885771543085%2C%200.21643286573146292%2C%200.218436873747495%2C%200.22044088176352705%2C%200.22244488977955912%2C%200.22444889779559118%2C%200.22645290581162325%2C%200.22845691382765532%2C%200.23046092184368738%2C%200.23246492985971945%2C%200.23446893787575152%2C%200.23647294589178355%2C%200.23847695390781562%2C%200.24048096192384769%2C%200.24248496993987975%2C%200.24448897795591182%2C%200.24649298597194388%2C%200.24849699398797595%2C%200.250501002004008%2C%200.25250501002004005%2C%200.2545090180360721%2C%200.2565130260521042%2C%200.25851703406813625%2C%200.2605210420841683%2C%200.2625250501002004%2C%200.26452905811623245%2C%200.2665330661322645%2C%200.2685370741482966%2C%200.27054108216432865%2C%200.2725450901803607%2C%200.2745490981963928%2C%200.27655310621242485%2C%200.2785571142284569%2C%200.280561122244489%2C%200.28256513026052105%2C%200.2845691382765531%2C%200.2865731462925852%2C%200.28857715430861725%2C%200.2905811623246493%2C%200.2925851703406814%2C%200.29458917835671344%2C%200.2965931863727455%2C%200.2985971943887776%2C%200.30060120240480964%2C%200.3026052104208417%2C%200.3046092184368738%2C%200.3066132264529058%2C%200.30861723446893785%2C%200.3106212424849699%2C%200.312625250501002%2C%200.31462925851703405%2C%200.3166332665330661%2C%200.3186372745490982%2C%200.32064128256513025%2C%200.3226452905811623%2C%200.3246492985971944%2C%200.32665330661322645%2C%200.3286573146292585%2C%200.3306613226452906%2C%200.33266533066132264%2C%200.3346693386773547%2C%200.3366733466933868%2C%200.33867735470941884%2C%200.3406813627254509%2C%200.342685370741483%2C%200.34468937875751504%2C%200.3466933867735471%2C%200.3486973947895792%2C%200.35070140280561124%2C%200.3527054108216433%2C%200.35470941883767537%2C%200.35671342685370744%2C%200.3587174348697395%2C%200.36072144288577157%2C%200.3627254509018036%2C%200.36472945891783565%2C%200.3667334669338677%2C%200.3687374749498998%2C%200.37074148296593185%2C%200.3727454909819639%2C%200.374749498997996%2C%200.37675350701402804%2C%200.3787575150300601%2C%200.3807615230460922%2C%200.38276553106212424%2C%200.3847695390781563%2C%200.3867735470941884%2C%200.38877755511022044%2C%200.3907815631262525%2C%200.3927855711422846%2C%200.39478957915831664%2C%200.3967935871743487%2C%200.39879759519038077%2C%200.40080160320641284%2C%200.4028056112224449%2C%200.40480961923847697%2C%200.40681362725450904%2C%200.4088176352705411%2C%200.41082164328657317%2C%200.41282565130260523%2C%200.4148296593186373%2C%200.4168336673346693%2C%200.4188376753507014%2C%200.42084168336673344%2C%200.4228456913827655%2C%200.4248496993987976%2C%200.42685370741482964%2C%200.4288577154308617%2C%200.4308617234468938%2C%200.43286573146292584%2C%200.4348697394789579%2C%200.43687374749499%2C%200.43887775551102204%2C%200.4408817635270541%2C%200.44288577154308617%2C%200.44488977955911824%2C%200.4468937875751503%2C%200.44889779559118237%2C%200.45090180360721444%2C%200.4529058116232465%2C%200.45490981963927857%2C%200.45691382765531063%2C%200.4589178356713427%2C%200.46092184368737477%2C%200.46292585170340683%2C%200.4649298597194389%2C%200.46693386773547096%2C%200.46893787575150303%2C%200.4709418837675351%2C%200.4729458917835671%2C%200.4749498997995992%2C%200.47695390781563124%2C%200.4789579158316633%2C%200.48096192384769537%2C%200.48296593186372744%2C%200.4849699398797595%2C%200.48697394789579157%2C%200.48897795591182364%2C%200.4909819639278557%2C%200.49298597194388777%2C%200.49498997995991983%2C%200.4969939879759519%2C%200.49899799599198397%2C%200.501002004008016%2C%200.503006012024048%2C%200.5050100200400801%2C%200.5070140280561122%2C%200.5090180360721442%2C%200.5110220440881763%2C%200.5130260521042084%2C%200.5150300601202404%2C%200.5170340681362725%2C%200.5190380761523046%2C%200.5210420841683366%2C%200.5230460921843687%2C%200.5250501002004008%2C%200.5270541082164328%2C%200.5290581162324649%2C%200.531062124248497%2C%200.533066132264529%2C%200.5350701402805611%2C%200.5370741482965932%2C%200.5390781563126252%2C%200.5410821643286573%2C%200.5430861723446894%2C%200.5450901803607214%2C%200.5470941883767535%2C%200.5490981963927856%2C%200.5511022044088176%2C%200.5531062124248497%2C%200.5551102204408818%2C%200.5571142284569138%2C%200.5591182364729459%2C%200.561122244488978%2C%200.56312625250501%2C%200.5651302605210421%2C%200.5671342685370742%2C%200.5691382765531062%2C%200.5711422845691383%2C%200.5731462925851704%2C%200.5751503006012024%2C%200.5771543086172345%2C%200.5791583166332666%2C%200.5811623246492986%2C%200.5831663326653307%2C%200.5851703406813628%2C%200.5871743486973948%2C%200.5891783567134269%2C%200.591182364729459%2C%200.593186372745491%2C%200.5951903807615231%2C%200.5971943887775552%2C%200.5991983967935872%2C%200.6012024048096193%2C%200.6032064128256514%2C%200.6052104208416834%2C%200.6072144288577155%2C%200.6092184368737475%2C%200.6112224448897795%2C%200.6132264529058116%2C%200.6152304609218436%2C%200.6172344689378757%2C%200.6192384769539078%2C%200.6212424849699398%2C%200.6232464929859719%2C%200.625250501002004%2C%200.627254509018036%2C%200.6292585170340681%2C%200.6312625250501002%2C%200.6332665330661322%2C%200.6352705410821643%2C%200.6372745490981964%2C%200.6392785571142284%2C%200.6412825651302605%2C%200.6432865731462926%2C%200.6452905811623246%2C%200.6472945891783567%2C%200.6492985971943888%2C%200.6513026052104208%2C%200.6533066132264529%2C%200.655310621242485%2C%200.657314629258517%2C%200.6593186372745491%2C%200.6613226452905812%2C%200.6633266533066132%2C%200.6653306613226453%2C%200.6673346693386774%2C%200.6693386773547094%2C%200.6713426853707415%2C%200.6733466933867736%2C%200.6753507014028056%2C%200.6773547094188377%2C%200.6793587174348698%2C%200.6813627254509018%2C%200.6833667334669339%2C%200.685370741482966%2C%200.687374749498998%2C%200.6893787575150301%2C%200.6913827655310621%2C%200.6933867735470942%2C%200.6953907815631263%2C%200.6973947895791583%2C%200.6993987975951904%2C%200.7014028056112225%2C%200.7034068136272545%2C%200.7054108216432866%2C%200.7074148296593187%2C%200.7094188376753507%2C%200.7114228456913828%2C%200.7134268537074149%2C%200.7154308617234469%2C%200.717434869739479%2C%200.7194388777555111%2C%200.7214428857715431%2C%200.7234468937875751%2C%200.7254509018036072%2C%200.7274549098196392%2C%200.7294589178356713%2C%200.7314629258517034%2C%200.7334669338677354%2C%200.7354709418837675%2C%200.7374749498997996%2C%200.7394789579158316%2C%200.7414829659318637%2C%200.7434869739478958%2C%200.7454909819639278%2C%200.7474949899799599%2C%200.749498997995992%2C%200.751503006012024%2C%200.7535070140280561%2C%200.7555110220440882%2C%200.7575150300601202%2C%200.7595190380761523%2C%200.7615230460921844%2C%200.7635270541082164%2C%200.7655310621242485%2C%200.7675350701402806%2C%200.7695390781563126%2C%200.7715430861723447%2C%200.7735470941883767%2C%200.7755511022044088%2C%200.7775551102204409%2C%200.779559118236473%2C%200.781563126252505%2C%200.7835671342685371%2C%200.7855711422845691%2C%200.7875751503006012%2C%200.7895791583166333%2C%200.7915831663326653%2C%200.7935871743486974%2C%200.7955911823647295%2C%200.7975951903807615%2C%200.7995991983967936%2C%200.8016032064128257%2C%200.8036072144288577%2C%200.8056112224448898%2C%200.8076152304609219%2C%200.8096192384769539%2C%200.811623246492986%2C%200.8136272545090181%2C%200.8156312625250501%2C%200.8176352705410822%2C%200.8196392785571143%2C%200.8216432865731463%2C%200.8236472945891784%2C%200.8256513026052105%2C%200.8276553106212425%2C%200.8296593186372746%2C%200.8316633266533067%2C%200.8336673346693386%2C%200.8356713426853707%2C%200.8376753507014028%2C%200.8396793587174348%2C%200.8416833667334669%2C%200.843687374749499%2C%200.845691382765531%2C%200.8476953907815631%2C%200.8496993987975952%2C%200.8517034068136272%2C%200.8537074148296593%2C%200.8557114228456913%2C%200.8577154308617234%2C%200.8597194388777555%2C%200.8617234468937875%2C%200.8637274549098196%2C%200.8657314629258517%2C%200.8677354709418837%2C%200.8697394789579158%2C%200.8717434869739479%2C%200.87374749498998%2C%200.875751503006012%2C%200.8777555110220441%2C%200.8797595190380761%2C%200.8817635270541082%2C%200.8837675350701403%2C%200.8857715430861723%2C%200.8877755511022044%2C%200.8897795591182365%2C%200.8917835671342685%2C%200.8937875751503006%2C%200.8957915831663327%2C%200.8977955911823647%2C%200.8997995991983968%2C%200.9018036072144289%2C%200.9038076152304609%2C%200.905811623246493%2C%200.9078156312625251%2C%200.9098196392785571%2C%200.9118236472945892%2C%200.9138276553106213%2C%200.9158316633266533%2C%200.9178356713426854%2C%200.9198396793587175%2C%200.9218436873747495%2C%200.9238476953907816%2C%200.9258517034068137%2C%200.9278557114228457%2C%200.9298597194388778%2C%200.9318637274549099%2C%200.9338677354709419%2C%200.935871743486974%2C%200.9378757515030061%2C%200.9398797595190381%2C%200.9418837675350702%2C%200.9438877755511023%2C%200.9458917835671342%2C%200.9478957915831663%2C%200.9498997995991983%2C%200.9519038076152304%2C%200.9539078156312625%2C%200.9559118236472945%2C%200.9579158316633266%2C%200.9599198396793587%2C%200.9619238476953907%2C%200.9639278557114228%2C%200.9659318637274549%2C%200.9679358717434869%2C%200.969939879759519%2C%200.9719438877755511%2C%200.9739478957915831%2C%200.9759519038076152%2C%200.9779559118236473%2C%200.9799599198396793%2C%200.9819639278557114%2C%200.9839679358717435%2C%200.9859719438877755%2C%200.9879759519038076%2C%200.9899799599198397%2C%200.9919839679358717%2C%200.9939879759519038%2C%200.9959919839679359%2C%200.9979959919839679%2C%201.0%5D%29%0A%20%20%20%20%20%20%20%20%20%20%20%20%20%20.range%28%5B%27%238b0000ff%27%2C%20%27%238b0000ff%27%2C%20%27%238b0000ff%27%2C%20%27%238b0000ff%27%2C%20%27%238b0000ff%27%2C%20%27%238b0000ff%27%2C%20%27%238b0000ff%27%2C%20%27%238b0000ff%27%2C%20%27%238b0000ff%27%2C%20%27%238b0000ff%27%2C%20%27%238b0000ff%27%2C%20%27%238b0000ff%27%2C%20%27%238b0000ff%27%2C%20%27%238b0000ff%27%2C%20%27%238b0000ff%27%2C%20%27%238b0000ff%27%2C%20%27%238b0000ff%27%2C%20%27%238b0000ff%27%2C%20%27%238b0000ff%27%2C%20%27%238b0000ff%27%2C%20%27%238b0000ff%27%2C%20%27%238b0000ff%27%2C%20%27%238b0000ff%27%2C%20%27%238b0000ff%27%2C%20%27%238b0000ff%27%2C%20%27%238b0000ff%27%2C%20%27%238b0000ff%27%2C%20%27%238b0000ff%27%2C%20%27%238b0000ff%27%2C%20%27%238b0000ff%27%2C%20%27%238b0000ff%27%2C%20%27%238b0000ff%27%2C%20%27%238b0000ff%27%2C%20%27%238b0000ff%27%2C%20%27%238b0000ff%27%2C%20%27%238b0000ff%27%2C%20%27%238b0000ff%27%2C%20%27%238b0000ff%27%2C%20%27%238b0000ff%27%2C%20%27%238b0000ff%27%2C%20%27%238b0000ff%27%2C%20%27%238b0000ff%27%2C%20%27%238b0000ff%27%2C%20%27%238b0000ff%27%2C%20%27%238b0000ff%27%2C%20%27%238b0000ff%27%2C%20%27%238b0000ff%27%2C%20%27%238b0000ff%27%2C%20%27%238b0000ff%27%2C%20%27%238b0000ff%27%2C%20%27%238b0000ff%27%2C%20%27%238b0000ff%27%2C%20%27%238b0000ff%27%2C%20%27%238b0000ff%27%2C%20%27%238b0000ff%27%2C%20%27%238b0000ff%27%2C%20%27%238b0000ff%27%2C%20%27%238b0000ff%27%2C%20%27%238b0000ff%27%2C%20%27%238b0000ff%27%2C%20%27%238b0000ff%27%2C%20%27%238b0000ff%27%2C%20%27%238b0000ff%27%2C%20%27%238b0000ff%27%2C%20%27%238b0000ff%27%2C%20%27%238b0000ff%27%2C%20%27%238b0000ff%27%2C%20%27%238b0000ff%27%2C%20%27%238b0000ff%27%2C%20%27%238b0000ff%27%2C%20%27%238b0000ff%27%2C%20%27%238b0000ff%27%2C%20%27%238b0000ff%27%2C%20%27%238b0000ff%27%2C%20%27%238b0000ff%27%2C%20%27%238b0000ff%27%2C%20%27%238b0000ff%27%2C%20%27%238b0000ff%27%2C%20%27%238b0000ff%27%2C%20%27%238b0000ff%27%2C%20%27%238b0000ff%27%2C%20%27%238b0000ff%27%2C%20%27%238b0000ff%27%2C%20%27%238b0000ff%27%2C%20%27%238b0000ff%27%2C%20%27%238b0000ff%27%2C%20%27%238b0000ff%27%2C%20%27%238b0000ff%27%2C%20%27%238b0000ff%27%2C%20%27%238b0000ff%27%2C%20%27%238b0000ff%27%2C%20%27%238b0000ff%27%2C%20%27%238b0000ff%27%2C%20%27%238b0000ff%27%2C%20%27%238b0000ff%27%2C%20%27%238b0000ff%27%2C%20%27%238b0000ff%27%2C%20%27%238b0000ff%27%2C%20%27%238b0000ff%27%2C%20%27%238b0000ff%27%2C%20%27%238b0000ff%27%2C%20%27%238b0000ff%27%2C%20%27%238b0000ff%27%2C%20%27%238b0000ff%27%2C%20%27%238b0000ff%27%2C%20%27%238b0000ff%27%2C%20%27%238b0000ff%27%2C%20%27%238b0000ff%27%2C%20%27%238b0000ff%27%2C%20%27%238b0000ff%27%2C%20%27%238b0000ff%27%2C%20%27%238b0000ff%27%2C%20%27%238b0000ff%27%2C%20%27%238b0000ff%27%2C%20%27%238b0000ff%27%2C%20%27%238b0000ff%27%2C%20%27%238b0000ff%27%2C%20%27%238b0000ff%27%2C%20%27%238b0000ff%27%2C%20%27%238b0000ff%27%2C%20%27%238b0000ff%27%2C%20%27%238b0000ff%27%2C%20%27%238b0000ff%27%2C%20%27%238b0000ff%27%2C%20%27%238b0000ff%27%2C%20%27%238b0000ff%27%2C%20%27%238b0000ff%27%2C%20%27%238b0000ff%27%2C%20%27%238b0000ff%27%2C%20%27%238b0000ff%27%2C%20%27%238b0000ff%27%2C%20%27%238b0000ff%27%2C%20%27%238b0000ff%27%2C%20%27%238b0000ff%27%2C%20%27%238b0000ff%27%2C%20%27%238b0000ff%27%2C%20%27%238b0000ff%27%2C%20%27%238b0000ff%27%2C%20%27%238b0000ff%27%2C%20%27%238b0000ff%27%2C%20%27%238b0000ff%27%2C%20%27%238b0000ff%27%2C%20%27%238b0000ff%27%2C%20%27%238b0000ff%27%2C%20%27%238b0000ff%27%2C%20%27%238b0000ff%27%2C%20%27%238b0000ff%27%2C%20%27%238b0000ff%27%2C%20%27%238b0000ff%27%2C%20%27%238b0000ff%27%2C%20%27%238b0000ff%27%2C%20%27%238b0000ff%27%2C%20%27%238b0000ff%27%2C%20%27%238b0000ff%27%2C%20%27%238b0000ff%27%2C%20%27%238b0000ff%27%2C%20%27%238b0000ff%27%2C%20%27%238b0000ff%27%2C%20%27%238b0000ff%27%2C%20%27%238b0000ff%27%2C%20%27%238b0000ff%27%2C%20%27%238b0000ff%27%2C%20%27%238b0000ff%27%2C%20%27%238b0000ff%27%2C%20%27%238b0000ff%27%2C%20%27%238b0000ff%27%2C%20%27%238b0000ff%27%2C%20%27%238b0000ff%27%2C%20%27%238b0000ff%27%2C%20%27%238b0000ff%27%2C%20%27%238b0000ff%27%2C%20%27%238b0000ff%27%2C%20%27%238b0000ff%27%2C%20%27%238b0000ff%27%2C%20%27%238b0000ff%27%2C%20%27%238b0000ff%27%2C%20%27%238b0000ff%27%2C%20%27%238b0000ff%27%2C%20%27%238b0000ff%27%2C%20%27%238b0000ff%27%2C%20%27%238b0000ff%27%2C%20%27%238b0000ff%27%2C%20%27%238b0000ff%27%2C%20%27%238b0000ff%27%2C%20%27%238b0000ff%27%2C%20%27%238b0000ff%27%2C%20%27%238b0000ff%27%2C%20%27%238b0000ff%27%2C%20%27%238b0000ff%27%2C%20%27%238b0000ff%27%2C%20%27%238b0000ff%27%2C%20%27%238b0000ff%27%2C%20%27%238b0000ff%27%2C%20%27%238b0000ff%27%2C%20%27%238b0000ff%27%2C%20%27%238b0000ff%27%2C%20%27%238b0000ff%27%2C%20%27%238b0000ff%27%2C%20%27%238b0000ff%27%2C%20%27%238b0000ff%27%2C%20%27%238b0000ff%27%2C%20%27%238b0000ff%27%2C%20%27%238b0000ff%27%2C%20%27%238b0000ff%27%2C%20%27%238b0000ff%27%2C%20%27%238b0000ff%27%2C%20%27%238b0000ff%27%2C%20%27%238b0000ff%27%2C%20%27%238b0000ff%27%2C%20%27%238b0000ff%27%2C%20%27%238b0000ff%27%2C%20%27%238b0000ff%27%2C%20%27%238b0000ff%27%2C%20%27%238b0000ff%27%2C%20%27%238b0000ff%27%2C%20%27%238b0000ff%27%2C%20%27%238b0000ff%27%2C%20%27%238b0000ff%27%2C%20%27%238b0000ff%27%2C%20%27%238b0000ff%27%2C%20%27%238b0000ff%27%2C%20%27%238b0000ff%27%2C%20%27%238b0000ff%27%2C%20%27%238b0000ff%27%2C%20%27%238b0000ff%27%2C%20%27%238b0000ff%27%2C%20%27%238b0000ff%27%2C%20%27%238b0000ff%27%2C%20%27%238b0000ff%27%2C%20%27%238b0000ff%27%2C%20%27%238b0000ff%27%2C%20%27%238b0000ff%27%2C%20%27%238b0000ff%27%2C%20%27%238b0000ff%27%2C%20%27%238b0000ff%27%2C%20%27%238b0000ff%27%2C%20%27%238b0000ff%27%2C%20%27%238b0000ff%27%2C%20%27%238b0000ff%27%2C%20%27%238b0000ff%27%2C%20%27%238b0000ff%27%2C%20%27%238b0000ff%27%2C%20%27%238b0000ff%27%2C%20%27%238b0000ff%27%2C%20%27%238b0000ff%27%2C%20%27%238b0000ff%27%2C%20%27%238b0000ff%27%2C%20%27%238b0000ff%27%2C%20%27%238b0000ff%27%2C%20%27%238b0000ff%27%2C%20%27%238b0000ff%27%2C%20%27%238b0000ff%27%2C%20%27%238b0000ff%27%2C%20%27%238b0000ff%27%2C%20%27%238b0000ff%27%2C%20%27%238b0000ff%27%2C%20%27%238b0000ff%27%2C%20%27%238b0000ff%27%2C%20%27%238b0000ff%27%2C%20%27%238b0000ff%27%2C%20%27%238b0000ff%27%2C%20%27%238b0000ff%27%2C%20%27%238b0000ff%27%2C%20%27%238b0000ff%27%2C%20%27%238b0000ff%27%2C%20%27%238b0000ff%27%2C%20%27%238b0000ff%27%2C%20%27%238b0000ff%27%2C%20%27%238b0000ff%27%2C%20%27%238b0000ff%27%2C%20%27%238b0000ff%27%2C%20%27%238b0000ff%27%2C%20%27%238b0000ff%27%2C%20%27%238b0000ff%27%2C%20%27%238b0000ff%27%2C%20%27%238b0000ff%27%2C%20%27%238b0000ff%27%2C%20%27%238b0000ff%27%2C%20%27%238b0000ff%27%2C%20%27%238b0000ff%27%2C%20%27%238b0000ff%27%2C%20%27%238b0000ff%27%2C%20%27%238b0000ff%27%2C%20%27%238b0000ff%27%2C%20%27%238b0000ff%27%2C%20%27%238b0000ff%27%2C%20%27%238b0000ff%27%2C%20%27%238b0000ff%27%2C%20%27%238b0000ff%27%2C%20%27%238b0000ff%27%2C%20%27%238b0000ff%27%2C%20%27%238b0000ff%27%2C%20%27%238b0000ff%27%2C%20%27%238b0000ff%27%2C%20%27%238b0000ff%27%2C%20%27%238b0000ff%27%2C%20%27%238b0000ff%27%2C%20%27%238b0000ff%27%2C%20%27%238b0000ff%27%2C%20%27%238b0000ff%27%2C%20%27%238b0000ff%27%2C%20%27%238b0000ff%27%2C%20%27%238b0000ff%27%2C%20%27%238b0000ff%27%2C%20%27%238b0000ff%27%2C%20%27%238b0000ff%27%2C%20%27%238b0000ff%27%2C%20%27%238b0000ff%27%2C%20%27%238b0000ff%27%2C%20%27%238b0000ff%27%2C%20%27%238b0000ff%27%2C%20%27%238b0000ff%27%2C%20%27%238b0000ff%27%2C%20%27%238b0000ff%27%2C%20%27%238b0000ff%27%2C%20%27%238b0000ff%27%2C%20%27%238b0000ff%27%2C%20%27%238b0000ff%27%2C%20%27%238b0000ff%27%2C%20%27%238b0000ff%27%2C%20%27%238b0000ff%27%2C%20%27%238b0000ff%27%2C%20%27%238b0000ff%27%2C%20%27%238b0000ff%27%2C%20%27%238b0000ff%27%2C%20%27%238b0000ff%27%2C%20%27%238b0000ff%27%2C%20%27%238b0000ff%27%2C%20%27%238b0000ff%27%2C%20%27%238b0000ff%27%2C%20%27%238b0000ff%27%2C%20%27%238b0000ff%27%2C%20%27%238b0000ff%27%2C%20%27%238b0000ff%27%2C%20%27%238b0000ff%27%2C%20%27%238b0000ff%27%2C%20%27%238b0000ff%27%2C%20%27%238b0000ff%27%2C%20%27%238b0000ff%27%2C%20%27%238b0000ff%27%2C%20%27%238b0000ff%27%2C%20%27%238b0000ff%27%2C%20%27%238b0000ff%27%2C%20%27%238b0000ff%27%2C%20%27%238b0000ff%27%2C%20%27%238b0000ff%27%2C%20%27%238b0000ff%27%2C%20%27%238b0000ff%27%2C%20%27%238b0000ff%27%2C%20%27%238b0000ff%27%2C%20%27%238b0000ff%27%2C%20%27%238b0000ff%27%2C%20%27%238b0000ff%27%2C%20%27%238b0000ff%27%2C%20%27%238b0000ff%27%2C%20%27%238b0000ff%27%2C%20%27%238b0000ff%27%2C%20%27%238b0000ff%27%2C%20%27%238b0000ff%27%2C%20%27%238b0000ff%27%2C%20%27%238b0000ff%27%2C%20%27%238b0000ff%27%2C%20%27%238b0000ff%27%2C%20%27%238b0000ff%27%2C%20%27%238b0000ff%27%2C%20%27%238b0000ff%27%2C%20%27%238b0000ff%27%2C%20%27%238b0000ff%27%2C%20%27%238b0000ff%27%2C%20%27%238b0000ff%27%2C%20%27%238b0000ff%27%2C%20%27%238b0000ff%27%2C%20%27%238b0000ff%27%2C%20%27%238b0000ff%27%2C%20%27%238b0000ff%27%2C%20%27%238b0000ff%27%2C%20%27%238b0000ff%27%2C%20%27%238b0000ff%27%2C%20%27%238b0000ff%27%2C%20%27%238b0000ff%27%2C%20%27%238b0000ff%27%2C%20%27%238b0000ff%27%2C%20%27%238b0000ff%27%2C%20%27%238b0000ff%27%2C%20%27%238b0000ff%27%2C%20%27%238b0000ff%27%2C%20%27%238b0000ff%27%2C%20%27%238b0000ff%27%2C%20%27%238b0000ff%27%2C%20%27%238b0000ff%27%2C%20%27%238b0000ff%27%2C%20%27%238b0000ff%27%2C%20%27%238b0000ff%27%2C%20%27%238b0000ff%27%2C%20%27%238b0000ff%27%2C%20%27%238b0000ff%27%2C%20%27%238b0000ff%27%2C%20%27%238b0000ff%27%2C%20%27%238b0000ff%27%2C%20%27%238b0000ff%27%2C%20%27%238b0000ff%27%2C%20%27%238b0000ff%27%2C%20%27%238b0000ff%27%2C%20%27%238b0000ff%27%2C%20%27%238b0000ff%27%2C%20%27%238b0000ff%27%2C%20%27%238b0000ff%27%2C%20%27%238b0000ff%27%2C%20%27%238b0000ff%27%2C%20%27%238b0000ff%27%2C%20%27%238b0000ff%27%2C%20%27%238b0000ff%27%2C%20%27%238b0000ff%27%2C%20%27%238b0000ff%27%2C%20%27%238b0000ff%27%2C%20%27%238b0000ff%27%2C%20%27%238b0000ff%27%2C%20%27%238b0000ff%27%2C%20%27%238b0000ff%27%2C%20%27%238b0000ff%27%2C%20%27%238b0000ff%27%2C%20%27%238b0000ff%27%2C%20%27%238b0000ff%27%2C%20%27%238b0000ff%27%2C%20%27%238b0000ff%27%2C%20%27%238b0000ff%27%2C%20%27%238b0000ff%27%2C%20%27%238b0000ff%27%2C%20%27%238b0000ff%27%2C%20%27%238b0000ff%27%2C%20%27%238b0000ff%27%2C%20%27%238b0000ff%27%2C%20%27%238b0000ff%27%2C%20%27%238b0000ff%27%2C%20%27%238b0000ff%27%2C%20%27%238b0000ff%27%2C%20%27%238b0000ff%27%2C%20%27%238b0000ff%27%2C%20%27%238b0000ff%27%2C%20%27%238b0000ff%27%2C%20%27%238b0000ff%27%2C%20%27%238b0000ff%27%2C%20%27%238b0000ff%27%2C%20%27%238b0000ff%27%2C%20%27%238b0000ff%27%2C%20%27%238b0000ff%27%2C%20%27%238b0000ff%27%2C%20%27%238b0000ff%27%2C%20%27%238b0000ff%27%2C%20%27%238b0000ff%27%2C%20%27%238b0000ff%27%2C%20%27%238b0000ff%27%2C%20%27%238b0000ff%27%2C%20%27%238b0000ff%27%2C%20%27%238b0000ff%27%2C%20%27%238b0000ff%27%2C%20%27%238b0000ff%27%2C%20%27%238b0000ff%27%2C%20%27%238b0000ff%27%2C%20%27%238b0000ff%27%2C%20%27%238b0000ff%27%2C%20%27%238b0000ff%27%2C%20%27%238b0000ff%27%2C%20%27%238b0000ff%27%2C%20%27%238b0000ff%27%2C%20%27%238b0000ff%27%2C%20%27%238b0000ff%27%2C%20%27%238b0000ff%27%2C%20%27%238b0000ff%27%2C%20%27%238b0000ff%27%2C%20%27%238b0000ff%27%2C%20%27%238b0000ff%27%2C%20%27%238b0000ff%27%2C%20%27%238b0000ff%27%2C%20%27%238b0000ff%27%2C%20%27%238b0000ff%27%2C%20%27%238b0000ff%27%2C%20%27%238b0000ff%27%2C%20%27%238b0000ff%27%2C%20%27%238b0000ff%27%2C%20%27%238b0000ff%27%2C%20%27%238b0000ff%27%2C%20%27%238b0000ff%27%2C%20%27%238b0000ff%27%2C%20%27%238b0000ff%27%2C%20%27%238b0000ff%27%2C%20%27%238b0000ff%27%2C%20%27%238b0000ff%27%2C%20%27%238b0000ff%27%2C%20%27%238b0000ff%27%2C%20%27%238b0000ff%27%2C%20%27%238b0000ff%27%2C%20%27%238b0000ff%27%2C%20%27%238b0000ff%27%2C%20%27%238b0000ff%27%2C%20%27%238b0000ff%27%2C%20%27%238b0000ff%27%2C%20%27%238b0000ff%27%2C%20%27%238b0000ff%27%2C%20%27%238b0000ff%27%5D%29%3B%0A%20%20%20%20%0A%0A%20%20%20%20color_map_37c8951fc081435693ae67a4000484e8.x%20%3D%20d3.scale.linear%28%29%0A%20%20%20%20%20%20%20%20%20%20%20%20%20%20.domain%28%5B0.0%2C%201.0%5D%29%0A%20%20%20%20%20%20%20%20%20%20%20%20%20%20.range%28%5B0%2C%20400%5D%29%3B%0A%0A%20%20%20%20color_map_37c8951fc081435693ae67a4000484e8.legend%20%3D%20L.control%28%7Bposition%3A%20%27topright%27%7D%29%3B%0A%20%20%20%20color_map_37c8951fc081435693ae67a4000484e8.legend.onAdd%20%3D%20function%20%28map%29%20%7Bvar%20div%20%3D%20L.DomUtil.create%28%27div%27%2C%20%27legend%27%29%3B%20return%20div%7D%3B%0A%20%20%20%20color_map_37c8951fc081435693ae67a4000484e8.legend.addTo%28map_6c6415ccc31442b986109c20b866ad62%29%3B%0A%0A%20%20%20%20color_map_37c8951fc081435693ae67a4000484e8.xAxis%20%3D%20d3.svg.axis%28%29%0A%20%20%20%20%20%20%20%20.scale%28color_map_37c8951fc081435693ae67a4000484e8.x%29%0A%20%20%20%20%20%20%20%20.orient%28%22top%22%29%0A%20%20%20%20%20%20%20%20.tickSize%281%29%0A%20%20%20%20%20%20%20%20.tickValues%28%5B0.0%2C%201.0%5D%29%3B%0A%0A%20%20%20%20color_map_37c8951fc081435693ae67a4000484e8.svg%20%3D%20d3.select%28%22.legend.leaflet-control%22%29.append%28%22svg%22%29%0A%20%20%20%20%20%20%20%20.attr%28%22id%22%2C%20%27legend%27%29%0A%20%20%20%20%20%20%20%20.attr%28%22width%22%2C%20450%29%0A%20%20%20%20%20%20%20%20.attr%28%22height%22%2C%2040%29%3B%0A%0A%20%20%20%20color_map_37c8951fc081435693ae67a4000484e8.g%20%3D%20color_map_37c8951fc081435693ae67a4000484e8.svg.append%28%22g%22%29%0A%20%20%20%20%20%20%20%20.attr%28%22class%22%2C%20%22key%22%29%0A%20%20%20%20%20%20%20%20.attr%28%22transform%22%2C%20%22translate%2825%2C16%29%22%29%3B%0A%0A%20%20%20%20color_map_37c8951fc081435693ae67a4000484e8.g.selectAll%28%22rect%22%29%0A%20%20%20%20%20%20%20%20.data%28color_map_37c8951fc081435693ae67a4000484e8.color.range%28%29.map%28function%28d%2C%20i%29%20%7B%0A%20%20%20%20%20%20%20%20%20%20return%20%7B%0A%20%20%20%20%20%20%20%20%20%20%20%20x0%3A%20i%20%3F%20color_map_37c8951fc081435693ae67a4000484e8.x%28color_map_37c8951fc081435693ae67a4000484e8.color.domain%28%29%5Bi%20-%201%5D%29%20%3A%20color_map_37c8951fc081435693ae67a4000484e8.x.range%28%29%5B0%5D%2C%0A%20%20%20%20%20%20%20%20%20%20%20%20x1%3A%20i%20%3C%20color_map_37c8951fc081435693ae67a4000484e8.color.domain%28%29.length%20%3F%20color_map_37c8951fc081435693ae67a4000484e8.x%28color_map_37c8951fc081435693ae67a4000484e8.color.domain%28%29%5Bi%5D%29%20%3A%20color_map_37c8951fc081435693ae67a4000484e8.x.range%28%29%5B1%5D%2C%0A%20%20%20%20%20%20%20%20%20%20%20%20z%3A%20d%0A%20%20%20%20%20%20%20%20%20%20%7D%3B%0A%20%20%20%20%20%20%20%20%7D%29%29%0A%20%20%20%20%20%20.enter%28%29.append%28%22rect%22%29%0A%20%20%20%20%20%20%20%20.attr%28%22height%22%2C%2010%29%0A%20%20%20%20%20%20%20%20.attr%28%22x%22%2C%20function%28d%29%20%7B%20return%20d.x0%3B%20%7D%29%0A%20%20%20%20%20%20%20%20.attr%28%22width%22%2C%20function%28d%29%20%7B%20return%20d.x1%20-%20d.x0%3B%20%7D%29%0A%20%20%20%20%20%20%20%20.style%28%22fill%22%2C%20function%28d%29%20%7B%20return%20d.z%3B%20%7D%29%3B%0A%0A%20%20%20%20color_map_37c8951fc081435693ae67a4000484e8.g.call%28color_map_37c8951fc081435693ae67a4000484e8.xAxis%29.append%28%22text%22%29%0A%20%20%20%20%20%20%20%20.attr%28%22class%22%2C%20%22caption%22%29%0A%20%20%20%20%20%20%20%20.attr%28%22y%22%2C%2021%29%0A%20%20%20%20%20%20%20%20.text%28%27HSLG%27%29%3B%0A%20%20%20%20%0A%20%20%20%20var%20color_map_23140465ab634237a61e4ed43b6818cc%20%3D%20%7B%7D%3B%0A%0A%20%20%20%20%0A%20%20%20%20color_map_23140465ab634237a61e4ed43b6818cc.color%20%3D%20d3.scale.threshold%28%29%0A%20%20%20%20%20%20%20%20%20%20%20%20%20%20.domain%28%5B0.0%2C%200.002004008016032064%2C%200.004008016032064128%2C%200.006012024048096192%2C%200.008016032064128256%2C%200.01002004008016032%2C%200.012024048096192385%2C%200.014028056112224449%2C%200.01603206412825651%2C%200.018036072144288578%2C%200.02004008016032064%2C%200.022044088176352707%2C%200.02404809619238477%2C%200.026052104208416832%2C%200.028056112224448898%2C%200.03006012024048096%2C%200.03206412825651302%2C%200.03406813627254509%2C%200.036072144288577156%2C%200.03807615230460922%2C%200.04008016032064128%2C%200.04208416833667335%2C%200.04408817635270541%2C%200.04609218436873747%2C%200.04809619238476954%2C%200.050100200400801605%2C%200.052104208416833664%2C%200.05410821643286573%2C%200.056112224448897796%2C%200.05811623246492986%2C%200.06012024048096192%2C%200.06212424849699399%2C%200.06412825651302605%2C%200.06613226452905811%2C%200.06813627254509018%2C%200.07014028056112225%2C%200.07214428857715431%2C%200.07414829659318638%2C%200.07615230460921844%2C%200.0781563126252505%2C%200.08016032064128256%2C%200.08216432865731463%2C%200.0841683366733467%2C%200.08617234468937876%2C%200.08817635270541083%2C%200.09018036072144289%2C%200.09218436873747494%2C%200.09418837675350701%2C%200.09619238476953908%2C%200.09819639278557114%2C%200.10020040080160321%2C%200.10220440881763528%2C%200.10420841683366733%2C%200.1062124248496994%2C%200.10821643286573146%2C%200.11022044088176353%2C%200.11222444889779559%2C%200.11422845691382766%2C%200.11623246492985972%2C%200.11823647294589178%2C%200.12024048096192384%2C%200.12224448897795591%2C%200.12424849699398798%2C%200.12625250501002003%2C%200.1282565130260521%2C%200.13026052104208416%2C%200.13226452905811623%2C%200.1342685370741483%2C%200.13627254509018036%2C%200.13827655310621242%2C%200.1402805611222445%2C%200.14228456913827656%2C%200.14428857715430862%2C%200.1462925851703407%2C%200.14829659318637275%2C%200.15030060120240482%2C%200.1523046092184369%2C%200.15430861723446893%2C%200.156312625250501%2C%200.15831663326653306%2C%200.16032064128256512%2C%200.1623246492985972%2C%200.16432865731462926%2C%200.16633266533066132%2C%200.1683366733466934%2C%200.17034068136272545%2C%200.17234468937875752%2C%200.1743486973947896%2C%200.17635270541082165%2C%200.17835671342685372%2C%200.18036072144288579%2C%200.18236472945891782%2C%200.1843687374749499%2C%200.18637274549098196%2C%200.18837675350701402%2C%200.1903807615230461%2C%200.19238476953907815%2C%200.19438877755511022%2C%200.1963927855711423%2C%200.19839679358717435%2C%200.20040080160320642%2C%200.20240480961923848%2C%200.20440881763527055%2C%200.20641282565130262%2C%200.20841683366733466%2C%200.21042084168336672%2C%200.2124248496993988%2C%200.21442885771543085%2C%200.21643286573146292%2C%200.218436873747495%2C%200.22044088176352705%2C%200.22244488977955912%2C%200.22444889779559118%2C%200.22645290581162325%2C%200.22845691382765532%2C%200.23046092184368738%2C%200.23246492985971945%2C%200.23446893787575152%2C%200.23647294589178355%2C%200.23847695390781562%2C%200.24048096192384769%2C%200.24248496993987975%2C%200.24448897795591182%2C%200.24649298597194388%2C%200.24849699398797595%2C%200.250501002004008%2C%200.25250501002004005%2C%200.2545090180360721%2C%200.2565130260521042%2C%200.25851703406813625%2C%200.2605210420841683%2C%200.2625250501002004%2C%200.26452905811623245%2C%200.2665330661322645%2C%200.2685370741482966%2C%200.27054108216432865%2C%200.2725450901803607%2C%200.2745490981963928%2C%200.27655310621242485%2C%200.2785571142284569%2C%200.280561122244489%2C%200.28256513026052105%2C%200.2845691382765531%2C%200.2865731462925852%2C%200.28857715430861725%2C%200.2905811623246493%2C%200.2925851703406814%2C%200.29458917835671344%2C%200.2965931863727455%2C%200.2985971943887776%2C%200.30060120240480964%2C%200.3026052104208417%2C%200.3046092184368738%2C%200.3066132264529058%2C%200.30861723446893785%2C%200.3106212424849699%2C%200.312625250501002%2C%200.31462925851703405%2C%200.3166332665330661%2C%200.3186372745490982%2C%200.32064128256513025%2C%200.3226452905811623%2C%200.3246492985971944%2C%200.32665330661322645%2C%200.3286573146292585%2C%200.3306613226452906%2C%200.33266533066132264%2C%200.3346693386773547%2C%200.3366733466933868%2C%200.33867735470941884%2C%200.3406813627254509%2C%200.342685370741483%2C%200.34468937875751504%2C%200.3466933867735471%2C%200.3486973947895792%2C%200.35070140280561124%2C%200.3527054108216433%2C%200.35470941883767537%2C%200.35671342685370744%2C%200.3587174348697395%2C%200.36072144288577157%2C%200.3627254509018036%2C%200.36472945891783565%2C%200.3667334669338677%2C%200.3687374749498998%2C%200.37074148296593185%2C%200.3727454909819639%2C%200.374749498997996%2C%200.37675350701402804%2C%200.3787575150300601%2C%200.3807615230460922%2C%200.38276553106212424%2C%200.3847695390781563%2C%200.3867735470941884%2C%200.38877755511022044%2C%200.3907815631262525%2C%200.3927855711422846%2C%200.39478957915831664%2C%200.3967935871743487%2C%200.39879759519038077%2C%200.40080160320641284%2C%200.4028056112224449%2C%200.40480961923847697%2C%200.40681362725450904%2C%200.4088176352705411%2C%200.41082164328657317%2C%200.41282565130260523%2C%200.4148296593186373%2C%200.4168336673346693%2C%200.4188376753507014%2C%200.42084168336673344%2C%200.4228456913827655%2C%200.4248496993987976%2C%200.42685370741482964%2C%200.4288577154308617%2C%200.4308617234468938%2C%200.43286573146292584%2C%200.4348697394789579%2C%200.43687374749499%2C%200.43887775551102204%2C%200.4408817635270541%2C%200.44288577154308617%2C%200.44488977955911824%2C%200.4468937875751503%2C%200.44889779559118237%2C%200.45090180360721444%2C%200.4529058116232465%2C%200.45490981963927857%2C%200.45691382765531063%2C%200.4589178356713427%2C%200.46092184368737477%2C%200.46292585170340683%2C%200.4649298597194389%2C%200.46693386773547096%2C%200.46893787575150303%2C%200.4709418837675351%2C%200.4729458917835671%2C%200.4749498997995992%2C%200.47695390781563124%2C%200.4789579158316633%2C%200.48096192384769537%2C%200.48296593186372744%2C%200.4849699398797595%2C%200.48697394789579157%2C%200.48897795591182364%2C%200.4909819639278557%2C%200.49298597194388777%2C%200.49498997995991983%2C%200.4969939879759519%2C%200.49899799599198397%2C%200.501002004008016%2C%200.503006012024048%2C%200.5050100200400801%2C%200.5070140280561122%2C%200.5090180360721442%2C%200.5110220440881763%2C%200.5130260521042084%2C%200.5150300601202404%2C%200.5170340681362725%2C%200.5190380761523046%2C%200.5210420841683366%2C%200.5230460921843687%2C%200.5250501002004008%2C%200.5270541082164328%2C%200.5290581162324649%2C%200.531062124248497%2C%200.533066132264529%2C%200.5350701402805611%2C%200.5370741482965932%2C%200.5390781563126252%2C%200.5410821643286573%2C%200.5430861723446894%2C%200.5450901803607214%2C%200.5470941883767535%2C%200.5490981963927856%2C%200.5511022044088176%2C%200.5531062124248497%2C%200.5551102204408818%2C%200.5571142284569138%2C%200.5591182364729459%2C%200.561122244488978%2C%200.56312625250501%2C%200.5651302605210421%2C%200.5671342685370742%2C%200.5691382765531062%2C%200.5711422845691383%2C%200.5731462925851704%2C%200.5751503006012024%2C%200.5771543086172345%2C%200.5791583166332666%2C%200.5811623246492986%2C%200.5831663326653307%2C%200.5851703406813628%2C%200.5871743486973948%2C%200.5891783567134269%2C%200.591182364729459%2C%200.593186372745491%2C%200.5951903807615231%2C%200.5971943887775552%2C%200.5991983967935872%2C%200.6012024048096193%2C%200.6032064128256514%2C%200.6052104208416834%2C%200.6072144288577155%2C%200.6092184368737475%2C%200.6112224448897795%2C%200.6132264529058116%2C%200.6152304609218436%2C%200.6172344689378757%2C%200.6192384769539078%2C%200.6212424849699398%2C%200.6232464929859719%2C%200.625250501002004%2C%200.627254509018036%2C%200.6292585170340681%2C%200.6312625250501002%2C%200.6332665330661322%2C%200.6352705410821643%2C%200.6372745490981964%2C%200.6392785571142284%2C%200.6412825651302605%2C%200.6432865731462926%2C%200.6452905811623246%2C%200.6472945891783567%2C%200.6492985971943888%2C%200.6513026052104208%2C%200.6533066132264529%2C%200.655310621242485%2C%200.657314629258517%2C%200.6593186372745491%2C%200.6613226452905812%2C%200.6633266533066132%2C%200.6653306613226453%2C%200.6673346693386774%2C%200.6693386773547094%2C%200.6713426853707415%2C%200.6733466933867736%2C%200.6753507014028056%2C%200.6773547094188377%2C%200.6793587174348698%2C%200.6813627254509018%2C%200.6833667334669339%2C%200.685370741482966%2C%200.687374749498998%2C%200.6893787575150301%2C%200.6913827655310621%2C%200.6933867735470942%2C%200.6953907815631263%2C%200.6973947895791583%2C%200.6993987975951904%2C%200.7014028056112225%2C%200.7034068136272545%2C%200.7054108216432866%2C%200.7074148296593187%2C%200.7094188376753507%2C%200.7114228456913828%2C%200.7134268537074149%2C%200.7154308617234469%2C%200.717434869739479%2C%200.7194388777555111%2C%200.7214428857715431%2C%200.7234468937875751%2C%200.7254509018036072%2C%200.7274549098196392%2C%200.7294589178356713%2C%200.7314629258517034%2C%200.7334669338677354%2C%200.7354709418837675%2C%200.7374749498997996%2C%200.7394789579158316%2C%200.7414829659318637%2C%200.7434869739478958%2C%200.7454909819639278%2C%200.7474949899799599%2C%200.749498997995992%2C%200.751503006012024%2C%200.7535070140280561%2C%200.7555110220440882%2C%200.7575150300601202%2C%200.7595190380761523%2C%200.7615230460921844%2C%200.7635270541082164%2C%200.7655310621242485%2C%200.7675350701402806%2C%200.7695390781563126%2C%200.7715430861723447%2C%200.7735470941883767%2C%200.7755511022044088%2C%200.7775551102204409%2C%200.779559118236473%2C%200.781563126252505%2C%200.7835671342685371%2C%200.7855711422845691%2C%200.7875751503006012%2C%200.7895791583166333%2C%200.7915831663326653%2C%200.7935871743486974%2C%200.7955911823647295%2C%200.7975951903807615%2C%200.7995991983967936%2C%200.8016032064128257%2C%200.8036072144288577%2C%200.8056112224448898%2C%200.8076152304609219%2C%200.8096192384769539%2C%200.811623246492986%2C%200.8136272545090181%2C%200.8156312625250501%2C%200.8176352705410822%2C%200.8196392785571143%2C%200.8216432865731463%2C%200.8236472945891784%2C%200.8256513026052105%2C%200.8276553106212425%2C%200.8296593186372746%2C%200.8316633266533067%2C%200.8336673346693386%2C%200.8356713426853707%2C%200.8376753507014028%2C%200.8396793587174348%2C%200.8416833667334669%2C%200.843687374749499%2C%200.845691382765531%2C%200.8476953907815631%2C%200.8496993987975952%2C%200.8517034068136272%2C%200.8537074148296593%2C%200.8557114228456913%2C%200.8577154308617234%2C%200.8597194388777555%2C%200.8617234468937875%2C%200.8637274549098196%2C%200.8657314629258517%2C%200.8677354709418837%2C%200.8697394789579158%2C%200.8717434869739479%2C%200.87374749498998%2C%200.875751503006012%2C%200.8777555110220441%2C%200.8797595190380761%2C%200.8817635270541082%2C%200.8837675350701403%2C%200.8857715430861723%2C%200.8877755511022044%2C%200.8897795591182365%2C%200.8917835671342685%2C%200.8937875751503006%2C%200.8957915831663327%2C%200.8977955911823647%2C%200.8997995991983968%2C%200.9018036072144289%2C%200.9038076152304609%2C%200.905811623246493%2C%200.9078156312625251%2C%200.9098196392785571%2C%200.9118236472945892%2C%200.9138276553106213%2C%200.9158316633266533%2C%200.9178356713426854%2C%200.9198396793587175%2C%200.9218436873747495%2C%200.9238476953907816%2C%200.9258517034068137%2C%200.9278557114228457%2C%200.9298597194388778%2C%200.9318637274549099%2C%200.9338677354709419%2C%200.935871743486974%2C%200.9378757515030061%2C%200.9398797595190381%2C%200.9418837675350702%2C%200.9438877755511023%2C%200.9458917835671342%2C%200.9478957915831663%2C%200.9498997995991983%2C%200.9519038076152304%2C%200.9539078156312625%2C%200.9559118236472945%2C%200.9579158316633266%2C%200.9599198396793587%2C%200.9619238476953907%2C%200.9639278557114228%2C%200.9659318637274549%2C%200.9679358717434869%2C%200.969939879759519%2C%200.9719438877755511%2C%200.9739478957915831%2C%200.9759519038076152%2C%200.9779559118236473%2C%200.9799599198396793%2C%200.9819639278557114%2C%200.9839679358717435%2C%200.9859719438877755%2C%200.9879759519038076%2C%200.9899799599198397%2C%200.9919839679358717%2C%200.9939879759519038%2C%200.9959919839679359%2C%200.9979959919839679%2C%201.0%5D%29%0A%20%20%20%20%20%20%20%20%20%20%20%20%20%20.range%28%5B%27%23008080ff%27%2C%20%27%23008080ff%27%2C%20%27%23008080ff%27%2C%20%27%23008080ff%27%2C%20%27%23008080ff%27%2C%20%27%23008080ff%27%2C%20%27%23008080ff%27%2C%20%27%23008080ff%27%2C%20%27%23008080ff%27%2C%20%27%23008080ff%27%2C%20%27%23008080ff%27%2C%20%27%23008080ff%27%2C%20%27%23008080ff%27%2C%20%27%23008080ff%27%2C%20%27%23008080ff%27%2C%20%27%23008080ff%27%2C%20%27%23008080ff%27%2C%20%27%23008080ff%27%2C%20%27%23008080ff%27%2C%20%27%23008080ff%27%2C%20%27%23008080ff%27%2C%20%27%23008080ff%27%2C%20%27%23008080ff%27%2C%20%27%23008080ff%27%2C%20%27%23008080ff%27%2C%20%27%23008080ff%27%2C%20%27%23008080ff%27%2C%20%27%23008080ff%27%2C%20%27%23008080ff%27%2C%20%27%23008080ff%27%2C%20%27%23008080ff%27%2C%20%27%23008080ff%27%2C%20%27%23008080ff%27%2C%20%27%23008080ff%27%2C%20%27%23008080ff%27%2C%20%27%23008080ff%27%2C%20%27%23008080ff%27%2C%20%27%23008080ff%27%2C%20%27%23008080ff%27%2C%20%27%23008080ff%27%2C%20%27%23008080ff%27%2C%20%27%23008080ff%27%2C%20%27%23008080ff%27%2C%20%27%23008080ff%27%2C%20%27%23008080ff%27%2C%20%27%23008080ff%27%2C%20%27%23008080ff%27%2C%20%27%23008080ff%27%2C%20%27%23008080ff%27%2C%20%27%23008080ff%27%2C%20%27%23008080ff%27%2C%20%27%23008080ff%27%2C%20%27%23008080ff%27%2C%20%27%23008080ff%27%2C%20%27%23008080ff%27%2C%20%27%23008080ff%27%2C%20%27%23008080ff%27%2C%20%27%23008080ff%27%2C%20%27%23008080ff%27%2C%20%27%23008080ff%27%2C%20%27%23008080ff%27%2C%20%27%23008080ff%27%2C%20%27%23008080ff%27%2C%20%27%23008080ff%27%2C%20%27%23008080ff%27%2C%20%27%23008080ff%27%2C%20%27%23008080ff%27%2C%20%27%23008080ff%27%2C%20%27%23008080ff%27%2C%20%27%23008080ff%27%2C%20%27%23008080ff%27%2C%20%27%23008080ff%27%2C%20%27%23008080ff%27%2C%20%27%23008080ff%27%2C%20%27%23008080ff%27%2C%20%27%23008080ff%27%2C%20%27%23008080ff%27%2C%20%27%23008080ff%27%2C%20%27%23008080ff%27%2C%20%27%23008080ff%27%2C%20%27%23008080ff%27%2C%20%27%23008080ff%27%2C%20%27%23008080ff%27%2C%20%27%23008080ff%27%2C%20%27%23008080ff%27%2C%20%27%23008080ff%27%2C%20%27%23008080ff%27%2C%20%27%23008080ff%27%2C%20%27%23008080ff%27%2C%20%27%23008080ff%27%2C%20%27%23008080ff%27%2C%20%27%23008080ff%27%2C%20%27%23008080ff%27%2C%20%27%23008080ff%27%2C%20%27%23008080ff%27%2C%20%27%23008080ff%27%2C%20%27%23008080ff%27%2C%20%27%23008080ff%27%2C%20%27%23008080ff%27%2C%20%27%23008080ff%27%2C%20%27%23008080ff%27%2C%20%27%23008080ff%27%2C%20%27%23008080ff%27%2C%20%27%23008080ff%27%2C%20%27%23008080ff%27%2C%20%27%23008080ff%27%2C%20%27%23008080ff%27%2C%20%27%23008080ff%27%2C%20%27%23008080ff%27%2C%20%27%23008080ff%27%2C%20%27%23008080ff%27%2C%20%27%23008080ff%27%2C%20%27%23008080ff%27%2C%20%27%23008080ff%27%2C%20%27%23008080ff%27%2C%20%27%23008080ff%27%2C%20%27%23008080ff%27%2C%20%27%23008080ff%27%2C%20%27%23008080ff%27%2C%20%27%23008080ff%27%2C%20%27%23008080ff%27%2C%20%27%23008080ff%27%2C%20%27%23008080ff%27%2C%20%27%23008080ff%27%2C%20%27%23008080ff%27%2C%20%27%23008080ff%27%2C%20%27%23008080ff%27%2C%20%27%23008080ff%27%2C%20%27%23008080ff%27%2C%20%27%23008080ff%27%2C%20%27%23008080ff%27%2C%20%27%23008080ff%27%2C%20%27%23008080ff%27%2C%20%27%23008080ff%27%2C%20%27%23008080ff%27%2C%20%27%23008080ff%27%2C%20%27%23008080ff%27%2C%20%27%23008080ff%27%2C%20%27%23008080ff%27%2C%20%27%23008080ff%27%2C%20%27%23008080ff%27%2C%20%27%23008080ff%27%2C%20%27%23008080ff%27%2C%20%27%23008080ff%27%2C%20%27%23008080ff%27%2C%20%27%23008080ff%27%2C%20%27%23008080ff%27%2C%20%27%23008080ff%27%2C%20%27%23008080ff%27%2C%20%27%23008080ff%27%2C%20%27%23008080ff%27%2C%20%27%23008080ff%27%2C%20%27%23008080ff%27%2C%20%27%23008080ff%27%2C%20%27%23008080ff%27%2C%20%27%23008080ff%27%2C%20%27%23008080ff%27%2C%20%27%23008080ff%27%2C%20%27%23008080ff%27%2C%20%27%23008080ff%27%2C%20%27%23008080ff%27%2C%20%27%23008080ff%27%2C%20%27%23008080ff%27%2C%20%27%23008080ff%27%2C%20%27%23008080ff%27%2C%20%27%23008080ff%27%2C%20%27%23008080ff%27%2C%20%27%23008080ff%27%2C%20%27%23008080ff%27%2C%20%27%23008080ff%27%2C%20%27%23008080ff%27%2C%20%27%23008080ff%27%2C%20%27%23008080ff%27%2C%20%27%23008080ff%27%2C%20%27%23008080ff%27%2C%20%27%23008080ff%27%2C%20%27%23008080ff%27%2C%20%27%23008080ff%27%2C%20%27%23008080ff%27%2C%20%27%23008080ff%27%2C%20%27%23008080ff%27%2C%20%27%23008080ff%27%2C%20%27%23008080ff%27%2C%20%27%23008080ff%27%2C%20%27%23008080ff%27%2C%20%27%23008080ff%27%2C%20%27%23008080ff%27%2C%20%27%23008080ff%27%2C%20%27%23008080ff%27%2C%20%27%23008080ff%27%2C%20%27%23008080ff%27%2C%20%27%23008080ff%27%2C%20%27%23008080ff%27%2C%20%27%23008080ff%27%2C%20%27%23008080ff%27%2C%20%27%23008080ff%27%2C%20%27%23008080ff%27%2C%20%27%23008080ff%27%2C%20%27%23008080ff%27%2C%20%27%23008080ff%27%2C%20%27%23008080ff%27%2C%20%27%23008080ff%27%2C%20%27%23008080ff%27%2C%20%27%23008080ff%27%2C%20%27%23008080ff%27%2C%20%27%23008080ff%27%2C%20%27%23008080ff%27%2C%20%27%23008080ff%27%2C%20%27%23008080ff%27%2C%20%27%23008080ff%27%2C%20%27%23008080ff%27%2C%20%27%23008080ff%27%2C%20%27%23008080ff%27%2C%20%27%23008080ff%27%2C%20%27%23008080ff%27%2C%20%27%23008080ff%27%2C%20%27%23008080ff%27%2C%20%27%23008080ff%27%2C%20%27%23008080ff%27%2C%20%27%23008080ff%27%2C%20%27%23008080ff%27%2C%20%27%23008080ff%27%2C%20%27%23008080ff%27%2C%20%27%23008080ff%27%2C%20%27%23008080ff%27%2C%20%27%23008080ff%27%2C%20%27%23008080ff%27%2C%20%27%23008080ff%27%2C%20%27%23008080ff%27%2C%20%27%23008080ff%27%2C%20%27%23008080ff%27%2C%20%27%23008080ff%27%2C%20%27%23008080ff%27%2C%20%27%23008080ff%27%2C%20%27%23008080ff%27%2C%20%27%23008080ff%27%2C%20%27%23008080ff%27%2C%20%27%23008080ff%27%2C%20%27%23008080ff%27%2C%20%27%23008080ff%27%2C%20%27%23008080ff%27%2C%20%27%23008080ff%27%2C%20%27%23008080ff%27%2C%20%27%23008080ff%27%2C%20%27%23008080ff%27%2C%20%27%23008080ff%27%2C%20%27%23008080ff%27%2C%20%27%23008080ff%27%2C%20%27%23008080ff%27%2C%20%27%23008080ff%27%2C%20%27%23008080ff%27%2C%20%27%23008080ff%27%2C%20%27%23008080ff%27%2C%20%27%23008080ff%27%2C%20%27%23008080ff%27%2C%20%27%23008080ff%27%2C%20%27%23008080ff%27%2C%20%27%23008080ff%27%2C%20%27%23008080ff%27%2C%20%27%23008080ff%27%2C%20%27%23008080ff%27%2C%20%27%23008080ff%27%2C%20%27%23008080ff%27%2C%20%27%23008080ff%27%2C%20%27%23008080ff%27%2C%20%27%23008080ff%27%2C%20%27%23008080ff%27%2C%20%27%23008080ff%27%2C%20%27%23008080ff%27%2C%20%27%23008080ff%27%2C%20%27%23008080ff%27%2C%20%27%23008080ff%27%2C%20%27%23008080ff%27%2C%20%27%23008080ff%27%2C%20%27%23008080ff%27%2C%20%27%23008080ff%27%2C%20%27%23008080ff%27%2C%20%27%23008080ff%27%2C%20%27%23008080ff%27%2C%20%27%23008080ff%27%2C%20%27%23008080ff%27%2C%20%27%23008080ff%27%2C%20%27%23008080ff%27%2C%20%27%23008080ff%27%2C%20%27%23008080ff%27%2C%20%27%23008080ff%27%2C%20%27%23008080ff%27%2C%20%27%23008080ff%27%2C%20%27%23008080ff%27%2C%20%27%23008080ff%27%2C%20%27%23008080ff%27%2C%20%27%23008080ff%27%2C%20%27%23008080ff%27%2C%20%27%23008080ff%27%2C%20%27%23008080ff%27%2C%20%27%23008080ff%27%2C%20%27%23008080ff%27%2C%20%27%23008080ff%27%2C%20%27%23008080ff%27%2C%20%27%23008080ff%27%2C%20%27%23008080ff%27%2C%20%27%23008080ff%27%2C%20%27%23008080ff%27%2C%20%27%23008080ff%27%2C%20%27%23008080ff%27%2C%20%27%23008080ff%27%2C%20%27%23008080ff%27%2C%20%27%23008080ff%27%2C%20%27%23008080ff%27%2C%20%27%23008080ff%27%2C%20%27%23008080ff%27%2C%20%27%23008080ff%27%2C%20%27%23008080ff%27%2C%20%27%23008080ff%27%2C%20%27%23008080ff%27%2C%20%27%23008080ff%27%2C%20%27%23008080ff%27%2C%20%27%23008080ff%27%2C%20%27%23008080ff%27%2C%20%27%23008080ff%27%2C%20%27%23008080ff%27%2C%20%27%23008080ff%27%2C%20%27%23008080ff%27%2C%20%27%23008080ff%27%2C%20%27%23008080ff%27%2C%20%27%23008080ff%27%2C%20%27%23008080ff%27%2C%20%27%23008080ff%27%2C%20%27%23008080ff%27%2C%20%27%23008080ff%27%2C%20%27%23008080ff%27%2C%20%27%23008080ff%27%2C%20%27%23008080ff%27%2C%20%27%23008080ff%27%2C%20%27%23008080ff%27%2C%20%27%23008080ff%27%2C%20%27%23008080ff%27%2C%20%27%23008080ff%27%2C%20%27%23008080ff%27%2C%20%27%23008080ff%27%2C%20%27%23008080ff%27%2C%20%27%23008080ff%27%2C%20%27%23008080ff%27%2C%20%27%23008080ff%27%2C%20%27%23008080ff%27%2C%20%27%23008080ff%27%2C%20%27%23008080ff%27%2C%20%27%23008080ff%27%2C%20%27%23008080ff%27%2C%20%27%23008080ff%27%2C%20%27%23008080ff%27%2C%20%27%23008080ff%27%2C%20%27%23008080ff%27%2C%20%27%23008080ff%27%2C%20%27%23008080ff%27%2C%20%27%23008080ff%27%2C%20%27%23008080ff%27%2C%20%27%23008080ff%27%2C%20%27%23008080ff%27%2C%20%27%23008080ff%27%2C%20%27%23008080ff%27%2C%20%27%23008080ff%27%2C%20%27%23008080ff%27%2C%20%27%23008080ff%27%2C%20%27%23008080ff%27%2C%20%27%23008080ff%27%2C%20%27%23008080ff%27%2C%20%27%23008080ff%27%2C%20%27%23008080ff%27%2C%20%27%23008080ff%27%2C%20%27%23008080ff%27%2C%20%27%23008080ff%27%2C%20%27%23008080ff%27%2C%20%27%23008080ff%27%2C%20%27%23008080ff%27%2C%20%27%23008080ff%27%2C%20%27%23008080ff%27%2C%20%27%23008080ff%27%2C%20%27%23008080ff%27%2C%20%27%23008080ff%27%2C%20%27%23008080ff%27%2C%20%27%23008080ff%27%2C%20%27%23008080ff%27%2C%20%27%23008080ff%27%2C%20%27%23008080ff%27%2C%20%27%23008080ff%27%2C%20%27%23008080ff%27%2C%20%27%23008080ff%27%2C%20%27%23008080ff%27%2C%20%27%23008080ff%27%2C%20%27%23008080ff%27%2C%20%27%23008080ff%27%2C%20%27%23008080ff%27%2C%20%27%23008080ff%27%2C%20%27%23008080ff%27%2C%20%27%23008080ff%27%2C%20%27%23008080ff%27%2C%20%27%23008080ff%27%2C%20%27%23008080ff%27%2C%20%27%23008080ff%27%2C%20%27%23008080ff%27%2C%20%27%23008080ff%27%2C%20%27%23008080ff%27%2C%20%27%23008080ff%27%2C%20%27%23008080ff%27%2C%20%27%23008080ff%27%2C%20%27%23008080ff%27%2C%20%27%23008080ff%27%2C%20%27%23008080ff%27%2C%20%27%23008080ff%27%2C%20%27%23008080ff%27%2C%20%27%23008080ff%27%2C%20%27%23008080ff%27%2C%20%27%23008080ff%27%2C%20%27%23008080ff%27%2C%20%27%23008080ff%27%2C%20%27%23008080ff%27%2C%20%27%23008080ff%27%2C%20%27%23008080ff%27%2C%20%27%23008080ff%27%2C%20%27%23008080ff%27%2C%20%27%23008080ff%27%2C%20%27%23008080ff%27%2C%20%27%23008080ff%27%2C%20%27%23008080ff%27%2C%20%27%23008080ff%27%2C%20%27%23008080ff%27%2C%20%27%23008080ff%27%2C%20%27%23008080ff%27%2C%20%27%23008080ff%27%2C%20%27%23008080ff%27%2C%20%27%23008080ff%27%2C%20%27%23008080ff%27%2C%20%27%23008080ff%27%2C%20%27%23008080ff%27%2C%20%27%23008080ff%27%2C%20%27%23008080ff%27%2C%20%27%23008080ff%27%2C%20%27%23008080ff%27%2C%20%27%23008080ff%27%2C%20%27%23008080ff%27%2C%20%27%23008080ff%27%2C%20%27%23008080ff%27%2C%20%27%23008080ff%27%2C%20%27%23008080ff%27%2C%20%27%23008080ff%27%2C%20%27%23008080ff%27%2C%20%27%23008080ff%27%2C%20%27%23008080ff%27%2C%20%27%23008080ff%27%2C%20%27%23008080ff%27%2C%20%27%23008080ff%27%2C%20%27%23008080ff%27%2C%20%27%23008080ff%27%2C%20%27%23008080ff%27%2C%20%27%23008080ff%27%2C%20%27%23008080ff%27%2C%20%27%23008080ff%27%2C%20%27%23008080ff%27%2C%20%27%23008080ff%27%2C%20%27%23008080ff%27%2C%20%27%23008080ff%27%2C%20%27%23008080ff%27%2C%20%27%23008080ff%27%2C%20%27%23008080ff%27%2C%20%27%23008080ff%27%2C%20%27%23008080ff%27%2C%20%27%23008080ff%27%2C%20%27%23008080ff%27%2C%20%27%23008080ff%27%2C%20%27%23008080ff%27%2C%20%27%23008080ff%27%2C%20%27%23008080ff%27%2C%20%27%23008080ff%27%2C%20%27%23008080ff%27%2C%20%27%23008080ff%27%2C%20%27%23008080ff%27%2C%20%27%23008080ff%27%2C%20%27%23008080ff%27%2C%20%27%23008080ff%27%2C%20%27%23008080ff%27%2C%20%27%23008080ff%27%2C%20%27%23008080ff%27%2C%20%27%23008080ff%27%2C%20%27%23008080ff%27%2C%20%27%23008080ff%27%2C%20%27%23008080ff%27%2C%20%27%23008080ff%27%2C%20%27%23008080ff%27%2C%20%27%23008080ff%27%2C%20%27%23008080ff%27%2C%20%27%23008080ff%27%2C%20%27%23008080ff%27%2C%20%27%23008080ff%27%2C%20%27%23008080ff%27%2C%20%27%23008080ff%27%2C%20%27%23008080ff%27%2C%20%27%23008080ff%27%2C%20%27%23008080ff%27%2C%20%27%23008080ff%27%5D%29%3B%0A%20%20%20%20%0A%0A%20%20%20%20color_map_23140465ab634237a61e4ed43b6818cc.x%20%3D%20d3.scale.linear%28%29%0A%20%20%20%20%20%20%20%20%20%20%20%20%20%20.domain%28%5B0.0%2C%201.0%5D%29%0A%20%20%20%20%20%20%20%20%20%20%20%20%20%20.range%28%5B0%2C%20400%5D%29%3B%0A%0A%20%20%20%20color_map_23140465ab634237a61e4ed43b6818cc.legend%20%3D%20L.control%28%7Bposition%3A%20%27topright%27%7D%29%3B%0A%20%20%20%20color_map_23140465ab634237a61e4ed43b6818cc.legend.onAdd%20%3D%20function%20%28map%29%20%7Bvar%20div%20%3D%20L.DomUtil.create%28%27div%27%2C%20%27legend%27%29%3B%20return%20div%7D%3B%0A%20%20%20%20color_map_23140465ab634237a61e4ed43b6818cc.legend.addTo%28map_6c6415ccc31442b986109c20b866ad62%29%3B%0A%0A%20%20%20%20color_map_23140465ab634237a61e4ed43b6818cc.xAxis%20%3D%20d3.svg.axis%28%29%0A%20%20%20%20%20%20%20%20.scale%28color_map_23140465ab634237a61e4ed43b6818cc.x%29%0A%20%20%20%20%20%20%20%20.orient%28%22top%22%29%0A%20%20%20%20%20%20%20%20.tickSize%281%29%0A%20%20%20%20%20%20%20%20.tickValues%28%5B0.0%2C%201.0%5D%29%3B%0A%0A%20%20%20%20color_map_23140465ab634237a61e4ed43b6818cc.svg%20%3D%20d3.select%28%22.legend.leaflet-control%22%29.append%28%22svg%22%29%0A%20%20%20%20%20%20%20%20.attr%28%22id%22%2C%20%27legend%27%29%0A%20%20%20%20%20%20%20%20.attr%28%22width%22%2C%20450%29%0A%20%20%20%20%20%20%20%20.attr%28%22height%22%2C%2040%29%3B%0A%0A%20%20%20%20color_map_23140465ab634237a61e4ed43b6818cc.g%20%3D%20color_map_23140465ab634237a61e4ed43b6818cc.svg.append%28%22g%22%29%0A%20%20%20%20%20%20%20%20.attr%28%22class%22%2C%20%22key%22%29%0A%20%20%20%20%20%20%20%20.attr%28%22transform%22%2C%20%22translate%2825%2C16%29%22%29%3B%0A%0A%20%20%20%20color_map_23140465ab634237a61e4ed43b6818cc.g.selectAll%28%22rect%22%29%0A%20%20%20%20%20%20%20%20.data%28color_map_23140465ab634237a61e4ed43b6818cc.color.range%28%29.map%28function%28d%2C%20i%29%20%7B%0A%20%20%20%20%20%20%20%20%20%20return%20%7B%0A%20%20%20%20%20%20%20%20%20%20%20%20x0%3A%20i%20%3F%20color_map_23140465ab634237a61e4ed43b6818cc.x%28color_map_23140465ab634237a61e4ed43b6818cc.color.domain%28%29%5Bi%20-%201%5D%29%20%3A%20color_map_23140465ab634237a61e4ed43b6818cc.x.range%28%29%5B0%5D%2C%0A%20%20%20%20%20%20%20%20%20%20%20%20x1%3A%20i%20%3C%20color_map_23140465ab634237a61e4ed43b6818cc.color.domain%28%29.length%20%3F%20color_map_23140465ab634237a61e4ed43b6818cc.x%28color_map_23140465ab634237a61e4ed43b6818cc.color.domain%28%29%5Bi%5D%29%20%3A%20color_map_23140465ab634237a61e4ed43b6818cc.x.range%28%29%5B1%5D%2C%0A%20%20%20%20%20%20%20%20%20%20%20%20z%3A%20d%0A%20%20%20%20%20%20%20%20%20%20%7D%3B%0A%20%20%20%20%20%20%20%20%7D%29%29%0A%20%20%20%20%20%20.enter%28%29.append%28%22rect%22%29%0A%20%20%20%20%20%20%20%20.attr%28%22height%22%2C%2010%29%0A%20%20%20%20%20%20%20%20.attr%28%22x%22%2C%20function%28d%29%20%7B%20return%20d.x0%3B%20%7D%29%0A%20%20%20%20%20%20%20%20.attr%28%22width%22%2C%20function%28d%29%20%7B%20return%20d.x1%20-%20d.x0%3B%20%7D%29%0A%20%20%20%20%20%20%20%20.style%28%22fill%22%2C%20function%28d%29%20%7B%20return%20d.z%3B%20%7D%29%3B%0A%0A%20%20%20%20color_map_23140465ab634237a61e4ed43b6818cc.g.call%28color_map_23140465ab634237a61e4ed43b6818cc.xAxis%29.append%28%22text%22%29%0A%20%20%20%20%20%20%20%20.attr%28%22class%22%2C%20%22caption%22%29%0A%20%20%20%20%20%20%20%20.attr%28%22y%22%2C%2021%29%0A%20%20%20%20%20%20%20%20.text%28%27LSHG%27%29%3B%0A%20%20%20%20%0A%20%20%20%20var%20color_map_c9c77994448346ddb000b944489907b9%20%3D%20%7B%7D%3B%0A%0A%20%20%20%20%0A%20%20%20%20color_map_c9c77994448346ddb000b944489907b9.color%20%3D%20d3.scale.threshold%28%29%0A%20%20%20%20%20%20%20%20%20%20%20%20%20%20.domain%28%5B0.0%2C%200.002004008016032064%2C%200.004008016032064128%2C%200.006012024048096192%2C%200.008016032064128256%2C%200.01002004008016032%2C%200.012024048096192385%2C%200.014028056112224449%2C%200.01603206412825651%2C%200.018036072144288578%2C%200.02004008016032064%2C%200.022044088176352707%2C%200.02404809619238477%2C%200.026052104208416832%2C%200.028056112224448898%2C%200.03006012024048096%2C%200.03206412825651302%2C%200.03406813627254509%2C%200.036072144288577156%2C%200.03807615230460922%2C%200.04008016032064128%2C%200.04208416833667335%2C%200.04408817635270541%2C%200.04609218436873747%2C%200.04809619238476954%2C%200.050100200400801605%2C%200.052104208416833664%2C%200.05410821643286573%2C%200.056112224448897796%2C%200.05811623246492986%2C%200.06012024048096192%2C%200.06212424849699399%2C%200.06412825651302605%2C%200.06613226452905811%2C%200.06813627254509018%2C%200.07014028056112225%2C%200.07214428857715431%2C%200.07414829659318638%2C%200.07615230460921844%2C%200.0781563126252505%2C%200.08016032064128256%2C%200.08216432865731463%2C%200.0841683366733467%2C%200.08617234468937876%2C%200.08817635270541083%2C%200.09018036072144289%2C%200.09218436873747494%2C%200.09418837675350701%2C%200.09619238476953908%2C%200.09819639278557114%2C%200.10020040080160321%2C%200.10220440881763528%2C%200.10420841683366733%2C%200.1062124248496994%2C%200.10821643286573146%2C%200.11022044088176353%2C%200.11222444889779559%2C%200.11422845691382766%2C%200.11623246492985972%2C%200.11823647294589178%2C%200.12024048096192384%2C%200.12224448897795591%2C%200.12424849699398798%2C%200.12625250501002003%2C%200.1282565130260521%2C%200.13026052104208416%2C%200.13226452905811623%2C%200.1342685370741483%2C%200.13627254509018036%2C%200.13827655310621242%2C%200.1402805611222445%2C%200.14228456913827656%2C%200.14428857715430862%2C%200.1462925851703407%2C%200.14829659318637275%2C%200.15030060120240482%2C%200.1523046092184369%2C%200.15430861723446893%2C%200.156312625250501%2C%200.15831663326653306%2C%200.16032064128256512%2C%200.1623246492985972%2C%200.16432865731462926%2C%200.16633266533066132%2C%200.1683366733466934%2C%200.17034068136272545%2C%200.17234468937875752%2C%200.1743486973947896%2C%200.17635270541082165%2C%200.17835671342685372%2C%200.18036072144288579%2C%200.18236472945891782%2C%200.1843687374749499%2C%200.18637274549098196%2C%200.18837675350701402%2C%200.1903807615230461%2C%200.19238476953907815%2C%200.19438877755511022%2C%200.1963927855711423%2C%200.19839679358717435%2C%200.20040080160320642%2C%200.20240480961923848%2C%200.20440881763527055%2C%200.20641282565130262%2C%200.20841683366733466%2C%200.21042084168336672%2C%200.2124248496993988%2C%200.21442885771543085%2C%200.21643286573146292%2C%200.218436873747495%2C%200.22044088176352705%2C%200.22244488977955912%2C%200.22444889779559118%2C%200.22645290581162325%2C%200.22845691382765532%2C%200.23046092184368738%2C%200.23246492985971945%2C%200.23446893787575152%2C%200.23647294589178355%2C%200.23847695390781562%2C%200.24048096192384769%2C%200.24248496993987975%2C%200.24448897795591182%2C%200.24649298597194388%2C%200.24849699398797595%2C%200.250501002004008%2C%200.25250501002004005%2C%200.2545090180360721%2C%200.2565130260521042%2C%200.25851703406813625%2C%200.2605210420841683%2C%200.2625250501002004%2C%200.26452905811623245%2C%200.2665330661322645%2C%200.2685370741482966%2C%200.27054108216432865%2C%200.2725450901803607%2C%200.2745490981963928%2C%200.27655310621242485%2C%200.2785571142284569%2C%200.280561122244489%2C%200.28256513026052105%2C%200.2845691382765531%2C%200.2865731462925852%2C%200.28857715430861725%2C%200.2905811623246493%2C%200.2925851703406814%2C%200.29458917835671344%2C%200.2965931863727455%2C%200.2985971943887776%2C%200.30060120240480964%2C%200.3026052104208417%2C%200.3046092184368738%2C%200.3066132264529058%2C%200.30861723446893785%2C%200.3106212424849699%2C%200.312625250501002%2C%200.31462925851703405%2C%200.3166332665330661%2C%200.3186372745490982%2C%200.32064128256513025%2C%200.3226452905811623%2C%200.3246492985971944%2C%200.32665330661322645%2C%200.3286573146292585%2C%200.3306613226452906%2C%200.33266533066132264%2C%200.3346693386773547%2C%200.3366733466933868%2C%200.33867735470941884%2C%200.3406813627254509%2C%200.342685370741483%2C%200.34468937875751504%2C%200.3466933867735471%2C%200.3486973947895792%2C%200.35070140280561124%2C%200.3527054108216433%2C%200.35470941883767537%2C%200.35671342685370744%2C%200.3587174348697395%2C%200.36072144288577157%2C%200.3627254509018036%2C%200.36472945891783565%2C%200.3667334669338677%2C%200.3687374749498998%2C%200.37074148296593185%2C%200.3727454909819639%2C%200.374749498997996%2C%200.37675350701402804%2C%200.3787575150300601%2C%200.3807615230460922%2C%200.38276553106212424%2C%200.3847695390781563%2C%200.3867735470941884%2C%200.38877755511022044%2C%200.3907815631262525%2C%200.3927855711422846%2C%200.39478957915831664%2C%200.3967935871743487%2C%200.39879759519038077%2C%200.40080160320641284%2C%200.4028056112224449%2C%200.40480961923847697%2C%200.40681362725450904%2C%200.4088176352705411%2C%200.41082164328657317%2C%200.41282565130260523%2C%200.4148296593186373%2C%200.4168336673346693%2C%200.4188376753507014%2C%200.42084168336673344%2C%200.4228456913827655%2C%200.4248496993987976%2C%200.42685370741482964%2C%200.4288577154308617%2C%200.4308617234468938%2C%200.43286573146292584%2C%200.4348697394789579%2C%200.43687374749499%2C%200.43887775551102204%2C%200.4408817635270541%2C%200.44288577154308617%2C%200.44488977955911824%2C%200.4468937875751503%2C%200.44889779559118237%2C%200.45090180360721444%2C%200.4529058116232465%2C%200.45490981963927857%2C%200.45691382765531063%2C%200.4589178356713427%2C%200.46092184368737477%2C%200.46292585170340683%2C%200.4649298597194389%2C%200.46693386773547096%2C%200.46893787575150303%2C%200.4709418837675351%2C%200.4729458917835671%2C%200.4749498997995992%2C%200.47695390781563124%2C%200.4789579158316633%2C%200.48096192384769537%2C%200.48296593186372744%2C%200.4849699398797595%2C%200.48697394789579157%2C%200.48897795591182364%2C%200.4909819639278557%2C%200.49298597194388777%2C%200.49498997995991983%2C%200.4969939879759519%2C%200.49899799599198397%2C%200.501002004008016%2C%200.503006012024048%2C%200.5050100200400801%2C%200.5070140280561122%2C%200.5090180360721442%2C%200.5110220440881763%2C%200.5130260521042084%2C%200.5150300601202404%2C%200.5170340681362725%2C%200.5190380761523046%2C%200.5210420841683366%2C%200.5230460921843687%2C%200.5250501002004008%2C%200.5270541082164328%2C%200.5290581162324649%2C%200.531062124248497%2C%200.533066132264529%2C%200.5350701402805611%2C%200.5370741482965932%2C%200.5390781563126252%2C%200.5410821643286573%2C%200.5430861723446894%2C%200.5450901803607214%2C%200.5470941883767535%2C%200.5490981963927856%2C%200.5511022044088176%2C%200.5531062124248497%2C%200.5551102204408818%2C%200.5571142284569138%2C%200.5591182364729459%2C%200.561122244488978%2C%200.56312625250501%2C%200.5651302605210421%2C%200.5671342685370742%2C%200.5691382765531062%2C%200.5711422845691383%2C%200.5731462925851704%2C%200.5751503006012024%2C%200.5771543086172345%2C%200.5791583166332666%2C%200.5811623246492986%2C%200.5831663326653307%2C%200.5851703406813628%2C%200.5871743486973948%2C%200.5891783567134269%2C%200.591182364729459%2C%200.593186372745491%2C%200.5951903807615231%2C%200.5971943887775552%2C%200.5991983967935872%2C%200.6012024048096193%2C%200.6032064128256514%2C%200.6052104208416834%2C%200.6072144288577155%2C%200.6092184368737475%2C%200.6112224448897795%2C%200.6132264529058116%2C%200.6152304609218436%2C%200.6172344689378757%2C%200.6192384769539078%2C%200.6212424849699398%2C%200.6232464929859719%2C%200.625250501002004%2C%200.627254509018036%2C%200.6292585170340681%2C%200.6312625250501002%2C%200.6332665330661322%2C%200.6352705410821643%2C%200.6372745490981964%2C%200.6392785571142284%2C%200.6412825651302605%2C%200.6432865731462926%2C%200.6452905811623246%2C%200.6472945891783567%2C%200.6492985971943888%2C%200.6513026052104208%2C%200.6533066132264529%2C%200.655310621242485%2C%200.657314629258517%2C%200.6593186372745491%2C%200.6613226452905812%2C%200.6633266533066132%2C%200.6653306613226453%2C%200.6673346693386774%2C%200.6693386773547094%2C%200.6713426853707415%2C%200.6733466933867736%2C%200.6753507014028056%2C%200.6773547094188377%2C%200.6793587174348698%2C%200.6813627254509018%2C%200.6833667334669339%2C%200.685370741482966%2C%200.687374749498998%2C%200.6893787575150301%2C%200.6913827655310621%2C%200.6933867735470942%2C%200.6953907815631263%2C%200.6973947895791583%2C%200.6993987975951904%2C%200.7014028056112225%2C%200.7034068136272545%2C%200.7054108216432866%2C%200.7074148296593187%2C%200.7094188376753507%2C%200.7114228456913828%2C%200.7134268537074149%2C%200.7154308617234469%2C%200.717434869739479%2C%200.7194388777555111%2C%200.7214428857715431%2C%200.7234468937875751%2C%200.7254509018036072%2C%200.7274549098196392%2C%200.7294589178356713%2C%200.7314629258517034%2C%200.7334669338677354%2C%200.7354709418837675%2C%200.7374749498997996%2C%200.7394789579158316%2C%200.7414829659318637%2C%200.7434869739478958%2C%200.7454909819639278%2C%200.7474949899799599%2C%200.749498997995992%2C%200.751503006012024%2C%200.7535070140280561%2C%200.7555110220440882%2C%200.7575150300601202%2C%200.7595190380761523%2C%200.7615230460921844%2C%200.7635270541082164%2C%200.7655310621242485%2C%200.7675350701402806%2C%200.7695390781563126%2C%200.7715430861723447%2C%200.7735470941883767%2C%200.7755511022044088%2C%200.7775551102204409%2C%200.779559118236473%2C%200.781563126252505%2C%200.7835671342685371%2C%200.7855711422845691%2C%200.7875751503006012%2C%200.7895791583166333%2C%200.7915831663326653%2C%200.7935871743486974%2C%200.7955911823647295%2C%200.7975951903807615%2C%200.7995991983967936%2C%200.8016032064128257%2C%200.8036072144288577%2C%200.8056112224448898%2C%200.8076152304609219%2C%200.8096192384769539%2C%200.811623246492986%2C%200.8136272545090181%2C%200.8156312625250501%2C%200.8176352705410822%2C%200.8196392785571143%2C%200.8216432865731463%2C%200.8236472945891784%2C%200.8256513026052105%2C%200.8276553106212425%2C%200.8296593186372746%2C%200.8316633266533067%2C%200.8336673346693386%2C%200.8356713426853707%2C%200.8376753507014028%2C%200.8396793587174348%2C%200.8416833667334669%2C%200.843687374749499%2C%200.845691382765531%2C%200.8476953907815631%2C%200.8496993987975952%2C%200.8517034068136272%2C%200.8537074148296593%2C%200.8557114228456913%2C%200.8577154308617234%2C%200.8597194388777555%2C%200.8617234468937875%2C%200.8637274549098196%2C%200.8657314629258517%2C%200.8677354709418837%2C%200.8697394789579158%2C%200.8717434869739479%2C%200.87374749498998%2C%200.875751503006012%2C%200.8777555110220441%2C%200.8797595190380761%2C%200.8817635270541082%2C%200.8837675350701403%2C%200.8857715430861723%2C%200.8877755511022044%2C%200.8897795591182365%2C%200.8917835671342685%2C%200.8937875751503006%2C%200.8957915831663327%2C%200.8977955911823647%2C%200.8997995991983968%2C%200.9018036072144289%2C%200.9038076152304609%2C%200.905811623246493%2C%200.9078156312625251%2C%200.9098196392785571%2C%200.9118236472945892%2C%200.9138276553106213%2C%200.9158316633266533%2C%200.9178356713426854%2C%200.9198396793587175%2C%200.9218436873747495%2C%200.9238476953907816%2C%200.9258517034068137%2C%200.9278557114228457%2C%200.9298597194388778%2C%200.9318637274549099%2C%200.9338677354709419%2C%200.935871743486974%2C%200.9378757515030061%2C%200.9398797595190381%2C%200.9418837675350702%2C%200.9438877755511023%2C%200.9458917835671342%2C%200.9478957915831663%2C%200.9498997995991983%2C%200.9519038076152304%2C%200.9539078156312625%2C%200.9559118236472945%2C%200.9579158316633266%2C%200.9599198396793587%2C%200.9619238476953907%2C%200.9639278557114228%2C%200.9659318637274549%2C%200.9679358717434869%2C%200.969939879759519%2C%200.9719438877755511%2C%200.9739478957915831%2C%200.9759519038076152%2C%200.9779559118236473%2C%200.9799599198396793%2C%200.9819639278557114%2C%200.9839679358717435%2C%200.9859719438877755%2C%200.9879759519038076%2C%200.9899799599198397%2C%200.9919839679358717%2C%200.9939879759519038%2C%200.9959919839679359%2C%200.9979959919839679%2C%201.0%5D%29%0A%20%20%20%20%20%20%20%20%20%20%20%20%20%20.range%28%5B%27%235f9ea0ff%27%2C%20%27%235f9ea0ff%27%2C%20%27%235f9ea0ff%27%2C%20%27%235f9ea0ff%27%2C%20%27%235f9ea0ff%27%2C%20%27%235f9ea0ff%27%2C%20%27%235f9ea0ff%27%2C%20%27%235f9ea0ff%27%2C%20%27%235f9ea0ff%27%2C%20%27%235f9ea0ff%27%2C%20%27%235f9ea0ff%27%2C%20%27%235f9ea0ff%27%2C%20%27%235f9ea0ff%27%2C%20%27%235f9ea0ff%27%2C%20%27%235f9ea0ff%27%2C%20%27%235f9ea0ff%27%2C%20%27%235f9ea0ff%27%2C%20%27%235f9ea0ff%27%2C%20%27%235f9ea0ff%27%2C%20%27%235f9ea0ff%27%2C%20%27%235f9ea0ff%27%2C%20%27%235f9ea0ff%27%2C%20%27%235f9ea0ff%27%2C%20%27%235f9ea0ff%27%2C%20%27%235f9ea0ff%27%2C%20%27%235f9ea0ff%27%2C%20%27%235f9ea0ff%27%2C%20%27%235f9ea0ff%27%2C%20%27%235f9ea0ff%27%2C%20%27%235f9ea0ff%27%2C%20%27%235f9ea0ff%27%2C%20%27%235f9ea0ff%27%2C%20%27%235f9ea0ff%27%2C%20%27%235f9ea0ff%27%2C%20%27%235f9ea0ff%27%2C%20%27%235f9ea0ff%27%2C%20%27%235f9ea0ff%27%2C%20%27%235f9ea0ff%27%2C%20%27%235f9ea0ff%27%2C%20%27%235f9ea0ff%27%2C%20%27%235f9ea0ff%27%2C%20%27%235f9ea0ff%27%2C%20%27%235f9ea0ff%27%2C%20%27%235f9ea0ff%27%2C%20%27%235f9ea0ff%27%2C%20%27%235f9ea0ff%27%2C%20%27%235f9ea0ff%27%2C%20%27%235f9ea0ff%27%2C%20%27%235f9ea0ff%27%2C%20%27%235f9ea0ff%27%2C%20%27%235f9ea0ff%27%2C%20%27%235f9ea0ff%27%2C%20%27%235f9ea0ff%27%2C%20%27%235f9ea0ff%27%2C%20%27%235f9ea0ff%27%2C%20%27%235f9ea0ff%27%2C%20%27%235f9ea0ff%27%2C%20%27%235f9ea0ff%27%2C%20%27%235f9ea0ff%27%2C%20%27%235f9ea0ff%27%2C%20%27%235f9ea0ff%27%2C%20%27%235f9ea0ff%27%2C%20%27%235f9ea0ff%27%2C%20%27%235f9ea0ff%27%2C%20%27%235f9ea0ff%27%2C%20%27%235f9ea0ff%27%2C%20%27%235f9ea0ff%27%2C%20%27%235f9ea0ff%27%2C%20%27%235f9ea0ff%27%2C%20%27%235f9ea0ff%27%2C%20%27%235f9ea0ff%27%2C%20%27%235f9ea0ff%27%2C%20%27%235f9ea0ff%27%2C%20%27%235f9ea0ff%27%2C%20%27%235f9ea0ff%27%2C%20%27%235f9ea0ff%27%2C%20%27%235f9ea0ff%27%2C%20%27%235f9ea0ff%27%2C%20%27%235f9ea0ff%27%2C%20%27%235f9ea0ff%27%2C%20%27%235f9ea0ff%27%2C%20%27%235f9ea0ff%27%2C%20%27%235f9ea0ff%27%2C%20%27%235f9ea0ff%27%2C%20%27%235f9ea0ff%27%2C%20%27%235f9ea0ff%27%2C%20%27%235f9ea0ff%27%2C%20%27%235f9ea0ff%27%2C%20%27%235f9ea0ff%27%2C%20%27%235f9ea0ff%27%2C%20%27%235f9ea0ff%27%2C%20%27%235f9ea0ff%27%2C%20%27%235f9ea0ff%27%2C%20%27%235f9ea0ff%27%2C%20%27%235f9ea0ff%27%2C%20%27%235f9ea0ff%27%2C%20%27%235f9ea0ff%27%2C%20%27%235f9ea0ff%27%2C%20%27%235f9ea0ff%27%2C%20%27%235f9ea0ff%27%2C%20%27%235f9ea0ff%27%2C%20%27%235f9ea0ff%27%2C%20%27%235f9ea0ff%27%2C%20%27%235f9ea0ff%27%2C%20%27%235f9ea0ff%27%2C%20%27%235f9ea0ff%27%2C%20%27%235f9ea0ff%27%2C%20%27%235f9ea0ff%27%2C%20%27%235f9ea0ff%27%2C%20%27%235f9ea0ff%27%2C%20%27%235f9ea0ff%27%2C%20%27%235f9ea0ff%27%2C%20%27%235f9ea0ff%27%2C%20%27%235f9ea0ff%27%2C%20%27%235f9ea0ff%27%2C%20%27%235f9ea0ff%27%2C%20%27%235f9ea0ff%27%2C%20%27%235f9ea0ff%27%2C%20%27%235f9ea0ff%27%2C%20%27%235f9ea0ff%27%2C%20%27%235f9ea0ff%27%2C%20%27%235f9ea0ff%27%2C%20%27%235f9ea0ff%27%2C%20%27%235f9ea0ff%27%2C%20%27%235f9ea0ff%27%2C%20%27%235f9ea0ff%27%2C%20%27%235f9ea0ff%27%2C%20%27%235f9ea0ff%27%2C%20%27%235f9ea0ff%27%2C%20%27%235f9ea0ff%27%2C%20%27%235f9ea0ff%27%2C%20%27%235f9ea0ff%27%2C%20%27%235f9ea0ff%27%2C%20%27%235f9ea0ff%27%2C%20%27%235f9ea0ff%27%2C%20%27%235f9ea0ff%27%2C%20%27%235f9ea0ff%27%2C%20%27%235f9ea0ff%27%2C%20%27%235f9ea0ff%27%2C%20%27%235f9ea0ff%27%2C%20%27%235f9ea0ff%27%2C%20%27%235f9ea0ff%27%2C%20%27%235f9ea0ff%27%2C%20%27%235f9ea0ff%27%2C%20%27%235f9ea0ff%27%2C%20%27%235f9ea0ff%27%2C%20%27%235f9ea0ff%27%2C%20%27%235f9ea0ff%27%2C%20%27%235f9ea0ff%27%2C%20%27%235f9ea0ff%27%2C%20%27%235f9ea0ff%27%2C%20%27%235f9ea0ff%27%2C%20%27%235f9ea0ff%27%2C%20%27%235f9ea0ff%27%2C%20%27%235f9ea0ff%27%2C%20%27%235f9ea0ff%27%2C%20%27%235f9ea0ff%27%2C%20%27%235f9ea0ff%27%2C%20%27%235f9ea0ff%27%2C%20%27%235f9ea0ff%27%2C%20%27%235f9ea0ff%27%2C%20%27%235f9ea0ff%27%2C%20%27%235f9ea0ff%27%2C%20%27%235f9ea0ff%27%2C%20%27%235f9ea0ff%27%2C%20%27%235f9ea0ff%27%2C%20%27%235f9ea0ff%27%2C%20%27%235f9ea0ff%27%2C%20%27%235f9ea0ff%27%2C%20%27%235f9ea0ff%27%2C%20%27%235f9ea0ff%27%2C%20%27%235f9ea0ff%27%2C%20%27%235f9ea0ff%27%2C%20%27%235f9ea0ff%27%2C%20%27%235f9ea0ff%27%2C%20%27%235f9ea0ff%27%2C%20%27%235f9ea0ff%27%2C%20%27%235f9ea0ff%27%2C%20%27%235f9ea0ff%27%2C%20%27%235f9ea0ff%27%2C%20%27%235f9ea0ff%27%2C%20%27%235f9ea0ff%27%2C%20%27%235f9ea0ff%27%2C%20%27%235f9ea0ff%27%2C%20%27%235f9ea0ff%27%2C%20%27%235f9ea0ff%27%2C%20%27%235f9ea0ff%27%2C%20%27%235f9ea0ff%27%2C%20%27%235f9ea0ff%27%2C%20%27%235f9ea0ff%27%2C%20%27%235f9ea0ff%27%2C%20%27%235f9ea0ff%27%2C%20%27%235f9ea0ff%27%2C%20%27%235f9ea0ff%27%2C%20%27%235f9ea0ff%27%2C%20%27%235f9ea0ff%27%2C%20%27%235f9ea0ff%27%2C%20%27%235f9ea0ff%27%2C%20%27%235f9ea0ff%27%2C%20%27%235f9ea0ff%27%2C%20%27%235f9ea0ff%27%2C%20%27%235f9ea0ff%27%2C%20%27%235f9ea0ff%27%2C%20%27%235f9ea0ff%27%2C%20%27%235f9ea0ff%27%2C%20%27%235f9ea0ff%27%2C%20%27%235f9ea0ff%27%2C%20%27%235f9ea0ff%27%2C%20%27%235f9ea0ff%27%2C%20%27%235f9ea0ff%27%2C%20%27%235f9ea0ff%27%2C%20%27%235f9ea0ff%27%2C%20%27%235f9ea0ff%27%2C%20%27%235f9ea0ff%27%2C%20%27%235f9ea0ff%27%2C%20%27%235f9ea0ff%27%2C%20%27%235f9ea0ff%27%2C%20%27%235f9ea0ff%27%2C%20%27%235f9ea0ff%27%2C%20%27%235f9ea0ff%27%2C%20%27%235f9ea0ff%27%2C%20%27%235f9ea0ff%27%2C%20%27%235f9ea0ff%27%2C%20%27%235f9ea0ff%27%2C%20%27%235f9ea0ff%27%2C%20%27%235f9ea0ff%27%2C%20%27%235f9ea0ff%27%2C%20%27%235f9ea0ff%27%2C%20%27%235f9ea0ff%27%2C%20%27%235f9ea0ff%27%2C%20%27%235f9ea0ff%27%2C%20%27%235f9ea0ff%27%2C%20%27%235f9ea0ff%27%2C%20%27%235f9ea0ff%27%2C%20%27%235f9ea0ff%27%2C%20%27%235f9ea0ff%27%2C%20%27%235f9ea0ff%27%2C%20%27%235f9ea0ff%27%2C%20%27%235f9ea0ff%27%2C%20%27%235f9ea0ff%27%2C%20%27%235f9ea0ff%27%2C%20%27%235f9ea0ff%27%2C%20%27%235f9ea0ff%27%2C%20%27%235f9ea0ff%27%2C%20%27%235f9ea0ff%27%2C%20%27%235f9ea0ff%27%2C%20%27%235f9ea0ff%27%2C%20%27%235f9ea0ff%27%2C%20%27%235f9ea0ff%27%2C%20%27%235f9ea0ff%27%2C%20%27%235f9ea0ff%27%2C%20%27%235f9ea0ff%27%2C%20%27%235f9ea0ff%27%2C%20%27%235f9ea0ff%27%2C%20%27%235f9ea0ff%27%2C%20%27%235f9ea0ff%27%2C%20%27%235f9ea0ff%27%2C%20%27%235f9ea0ff%27%2C%20%27%235f9ea0ff%27%2C%20%27%235f9ea0ff%27%2C%20%27%235f9ea0ff%27%2C%20%27%235f9ea0ff%27%2C%20%27%235f9ea0ff%27%2C%20%27%235f9ea0ff%27%2C%20%27%235f9ea0ff%27%2C%20%27%235f9ea0ff%27%2C%20%27%235f9ea0ff%27%2C%20%27%235f9ea0ff%27%2C%20%27%235f9ea0ff%27%2C%20%27%235f9ea0ff%27%2C%20%27%235f9ea0ff%27%2C%20%27%235f9ea0ff%27%2C%20%27%235f9ea0ff%27%2C%20%27%235f9ea0ff%27%2C%20%27%235f9ea0ff%27%2C%20%27%235f9ea0ff%27%2C%20%27%235f9ea0ff%27%2C%20%27%235f9ea0ff%27%2C%20%27%235f9ea0ff%27%2C%20%27%235f9ea0ff%27%2C%20%27%235f9ea0ff%27%2C%20%27%235f9ea0ff%27%2C%20%27%235f9ea0ff%27%2C%20%27%235f9ea0ff%27%2C%20%27%235f9ea0ff%27%2C%20%27%235f9ea0ff%27%2C%20%27%235f9ea0ff%27%2C%20%27%235f9ea0ff%27%2C%20%27%235f9ea0ff%27%2C%20%27%235f9ea0ff%27%2C%20%27%235f9ea0ff%27%2C%20%27%235f9ea0ff%27%2C%20%27%235f9ea0ff%27%2C%20%27%235f9ea0ff%27%2C%20%27%235f9ea0ff%27%2C%20%27%235f9ea0ff%27%2C%20%27%235f9ea0ff%27%2C%20%27%235f9ea0ff%27%2C%20%27%235f9ea0ff%27%2C%20%27%235f9ea0ff%27%2C%20%27%235f9ea0ff%27%2C%20%27%235f9ea0ff%27%2C%20%27%235f9ea0ff%27%2C%20%27%235f9ea0ff%27%2C%20%27%235f9ea0ff%27%2C%20%27%235f9ea0ff%27%2C%20%27%235f9ea0ff%27%2C%20%27%235f9ea0ff%27%2C%20%27%235f9ea0ff%27%2C%20%27%235f9ea0ff%27%2C%20%27%235f9ea0ff%27%2C%20%27%235f9ea0ff%27%2C%20%27%235f9ea0ff%27%2C%20%27%235f9ea0ff%27%2C%20%27%235f9ea0ff%27%2C%20%27%235f9ea0ff%27%2C%20%27%235f9ea0ff%27%2C%20%27%235f9ea0ff%27%2C%20%27%235f9ea0ff%27%2C%20%27%235f9ea0ff%27%2C%20%27%235f9ea0ff%27%2C%20%27%235f9ea0ff%27%2C%20%27%235f9ea0ff%27%2C%20%27%235f9ea0ff%27%2C%20%27%235f9ea0ff%27%2C%20%27%235f9ea0ff%27%2C%20%27%235f9ea0ff%27%2C%20%27%235f9ea0ff%27%2C%20%27%235f9ea0ff%27%2C%20%27%235f9ea0ff%27%2C%20%27%235f9ea0ff%27%2C%20%27%235f9ea0ff%27%2C%20%27%235f9ea0ff%27%2C%20%27%235f9ea0ff%27%2C%20%27%235f9ea0ff%27%2C%20%27%235f9ea0ff%27%2C%20%27%235f9ea0ff%27%2C%20%27%235f9ea0ff%27%2C%20%27%235f9ea0ff%27%2C%20%27%235f9ea0ff%27%2C%20%27%235f9ea0ff%27%2C%20%27%235f9ea0ff%27%2C%20%27%235f9ea0ff%27%2C%20%27%235f9ea0ff%27%2C%20%27%235f9ea0ff%27%2C%20%27%235f9ea0ff%27%2C%20%27%235f9ea0ff%27%2C%20%27%235f9ea0ff%27%2C%20%27%235f9ea0ff%27%2C%20%27%235f9ea0ff%27%2C%20%27%235f9ea0ff%27%2C%20%27%235f9ea0ff%27%2C%20%27%235f9ea0ff%27%2C%20%27%235f9ea0ff%27%2C%20%27%235f9ea0ff%27%2C%20%27%235f9ea0ff%27%2C%20%27%235f9ea0ff%27%2C%20%27%235f9ea0ff%27%2C%20%27%235f9ea0ff%27%2C%20%27%235f9ea0ff%27%2C%20%27%235f9ea0ff%27%2C%20%27%235f9ea0ff%27%2C%20%27%235f9ea0ff%27%2C%20%27%235f9ea0ff%27%2C%20%27%235f9ea0ff%27%2C%20%27%235f9ea0ff%27%2C%20%27%235f9ea0ff%27%2C%20%27%235f9ea0ff%27%2C%20%27%235f9ea0ff%27%2C%20%27%235f9ea0ff%27%2C%20%27%235f9ea0ff%27%2C%20%27%235f9ea0ff%27%2C%20%27%235f9ea0ff%27%2C%20%27%235f9ea0ff%27%2C%20%27%235f9ea0ff%27%2C%20%27%235f9ea0ff%27%2C%20%27%235f9ea0ff%27%2C%20%27%235f9ea0ff%27%2C%20%27%235f9ea0ff%27%2C%20%27%235f9ea0ff%27%2C%20%27%235f9ea0ff%27%2C%20%27%235f9ea0ff%27%2C%20%27%235f9ea0ff%27%2C%20%27%235f9ea0ff%27%2C%20%27%235f9ea0ff%27%2C%20%27%235f9ea0ff%27%2C%20%27%235f9ea0ff%27%2C%20%27%235f9ea0ff%27%2C%20%27%235f9ea0ff%27%2C%20%27%235f9ea0ff%27%2C%20%27%235f9ea0ff%27%2C%20%27%235f9ea0ff%27%2C%20%27%235f9ea0ff%27%2C%20%27%235f9ea0ff%27%2C%20%27%235f9ea0ff%27%2C%20%27%235f9ea0ff%27%2C%20%27%235f9ea0ff%27%2C%20%27%235f9ea0ff%27%2C%20%27%235f9ea0ff%27%2C%20%27%235f9ea0ff%27%2C%20%27%235f9ea0ff%27%2C%20%27%235f9ea0ff%27%2C%20%27%235f9ea0ff%27%2C%20%27%235f9ea0ff%27%2C%20%27%235f9ea0ff%27%2C%20%27%235f9ea0ff%27%2C%20%27%235f9ea0ff%27%2C%20%27%235f9ea0ff%27%2C%20%27%235f9ea0ff%27%2C%20%27%235f9ea0ff%27%2C%20%27%235f9ea0ff%27%2C%20%27%235f9ea0ff%27%2C%20%27%235f9ea0ff%27%2C%20%27%235f9ea0ff%27%2C%20%27%235f9ea0ff%27%2C%20%27%235f9ea0ff%27%2C%20%27%235f9ea0ff%27%2C%20%27%235f9ea0ff%27%2C%20%27%235f9ea0ff%27%2C%20%27%235f9ea0ff%27%2C%20%27%235f9ea0ff%27%2C%20%27%235f9ea0ff%27%2C%20%27%235f9ea0ff%27%2C%20%27%235f9ea0ff%27%2C%20%27%235f9ea0ff%27%2C%20%27%235f9ea0ff%27%2C%20%27%235f9ea0ff%27%2C%20%27%235f9ea0ff%27%2C%20%27%235f9ea0ff%27%2C%20%27%235f9ea0ff%27%2C%20%27%235f9ea0ff%27%2C%20%27%235f9ea0ff%27%2C%20%27%235f9ea0ff%27%2C%20%27%235f9ea0ff%27%2C%20%27%235f9ea0ff%27%2C%20%27%235f9ea0ff%27%2C%20%27%235f9ea0ff%27%2C%20%27%235f9ea0ff%27%2C%20%27%235f9ea0ff%27%2C%20%27%235f9ea0ff%27%2C%20%27%235f9ea0ff%27%2C%20%27%235f9ea0ff%27%2C%20%27%235f9ea0ff%27%2C%20%27%235f9ea0ff%27%2C%20%27%235f9ea0ff%27%2C%20%27%235f9ea0ff%27%2C%20%27%235f9ea0ff%27%2C%20%27%235f9ea0ff%27%2C%20%27%235f9ea0ff%27%2C%20%27%235f9ea0ff%27%2C%20%27%235f9ea0ff%27%2C%20%27%235f9ea0ff%27%2C%20%27%235f9ea0ff%27%2C%20%27%235f9ea0ff%27%2C%20%27%235f9ea0ff%27%2C%20%27%235f9ea0ff%27%2C%20%27%235f9ea0ff%27%2C%20%27%235f9ea0ff%27%2C%20%27%235f9ea0ff%27%2C%20%27%235f9ea0ff%27%2C%20%27%235f9ea0ff%27%2C%20%27%235f9ea0ff%27%2C%20%27%235f9ea0ff%27%2C%20%27%235f9ea0ff%27%2C%20%27%235f9ea0ff%27%2C%20%27%235f9ea0ff%27%2C%20%27%235f9ea0ff%27%2C%20%27%235f9ea0ff%27%2C%20%27%235f9ea0ff%27%2C%20%27%235f9ea0ff%27%2C%20%27%235f9ea0ff%27%2C%20%27%235f9ea0ff%27%2C%20%27%235f9ea0ff%27%2C%20%27%235f9ea0ff%27%2C%20%27%235f9ea0ff%27%2C%20%27%235f9ea0ff%27%2C%20%27%235f9ea0ff%27%2C%20%27%235f9ea0ff%27%2C%20%27%235f9ea0ff%27%2C%20%27%235f9ea0ff%27%2C%20%27%235f9ea0ff%27%2C%20%27%235f9ea0ff%27%2C%20%27%235f9ea0ff%27%2C%20%27%235f9ea0ff%27%2C%20%27%235f9ea0ff%27%2C%20%27%235f9ea0ff%27%2C%20%27%235f9ea0ff%27%2C%20%27%235f9ea0ff%27%2C%20%27%235f9ea0ff%27%2C%20%27%235f9ea0ff%27%2C%20%27%235f9ea0ff%27%2C%20%27%235f9ea0ff%27%2C%20%27%235f9ea0ff%27%2C%20%27%235f9ea0ff%27%2C%20%27%235f9ea0ff%27%2C%20%27%235f9ea0ff%27%2C%20%27%235f9ea0ff%27%2C%20%27%235f9ea0ff%27%2C%20%27%235f9ea0ff%27%2C%20%27%235f9ea0ff%27%5D%29%3B%0A%20%20%20%20%0A%0A%20%20%20%20color_map_c9c77994448346ddb000b944489907b9.x%20%3D%20d3.scale.linear%28%29%0A%20%20%20%20%20%20%20%20%20%20%20%20%20%20.domain%28%5B0.0%2C%201.0%5D%29%0A%20%20%20%20%20%20%20%20%20%20%20%20%20%20.range%28%5B0%2C%20400%5D%29%3B%0A%0A%20%20%20%20color_map_c9c77994448346ddb000b944489907b9.legend%20%3D%20L.control%28%7Bposition%3A%20%27topright%27%7D%29%3B%0A%20%20%20%20color_map_c9c77994448346ddb000b944489907b9.legend.onAdd%20%3D%20function%20%28map%29%20%7Bvar%20div%20%3D%20L.DomUtil.create%28%27div%27%2C%20%27legend%27%29%3B%20return%20div%7D%3B%0A%20%20%20%20color_map_c9c77994448346ddb000b944489907b9.legend.addTo%28map_6c6415ccc31442b986109c20b866ad62%29%3B%0A%0A%20%20%20%20color_map_c9c77994448346ddb000b944489907b9.xAxis%20%3D%20d3.svg.axis%28%29%0A%20%20%20%20%20%20%20%20.scale%28color_map_c9c77994448346ddb000b944489907b9.x%29%0A%20%20%20%20%20%20%20%20.orient%28%22top%22%29%0A%20%20%20%20%20%20%20%20.tickSize%281%29%0A%20%20%20%20%20%20%20%20.tickValues%28%5B0.0%2C%201.0%5D%29%3B%0A%0A%20%20%20%20color_map_c9c77994448346ddb000b944489907b9.svg%20%3D%20d3.select%28%22.legend.leaflet-control%22%29.append%28%22svg%22%29%0A%20%20%20%20%20%20%20%20.attr%28%22id%22%2C%20%27legend%27%29%0A%20%20%20%20%20%20%20%20.attr%28%22width%22%2C%20450%29%0A%20%20%20%20%20%20%20%20.attr%28%22height%22%2C%2040%29%3B%0A%0A%20%20%20%20color_map_c9c77994448346ddb000b944489907b9.g%20%3D%20color_map_c9c77994448346ddb000b944489907b9.svg.append%28%22g%22%29%0A%20%20%20%20%20%20%20%20.attr%28%22class%22%2C%20%22key%22%29%0A%20%20%20%20%20%20%20%20.attr%28%22transform%22%2C%20%22translate%2825%2C16%29%22%29%3B%0A%0A%20%20%20%20color_map_c9c77994448346ddb000b944489907b9.g.selectAll%28%22rect%22%29%0A%20%20%20%20%20%20%20%20.data%28color_map_c9c77994448346ddb000b944489907b9.color.range%28%29.map%28function%28d%2C%20i%29%20%7B%0A%20%20%20%20%20%20%20%20%20%20return%20%7B%0A%20%20%20%20%20%20%20%20%20%20%20%20x0%3A%20i%20%3F%20color_map_c9c77994448346ddb000b944489907b9.x%28color_map_c9c77994448346ddb000b944489907b9.color.domain%28%29%5Bi%20-%201%5D%29%20%3A%20color_map_c9c77994448346ddb000b944489907b9.x.range%28%29%5B0%5D%2C%0A%20%20%20%20%20%20%20%20%20%20%20%20x1%3A%20i%20%3C%20color_map_c9c77994448346ddb000b944489907b9.color.domain%28%29.length%20%3F%20color_map_c9c77994448346ddb000b944489907b9.x%28color_map_c9c77994448346ddb000b944489907b9.color.domain%28%29%5Bi%5D%29%20%3A%20color_map_c9c77994448346ddb000b944489907b9.x.range%28%29%5B1%5D%2C%0A%20%20%20%20%20%20%20%20%20%20%20%20z%3A%20d%0A%20%20%20%20%20%20%20%20%20%20%7D%3B%0A%20%20%20%20%20%20%20%20%7D%29%29%0A%20%20%20%20%20%20.enter%28%29.append%28%22rect%22%29%0A%20%20%20%20%20%20%20%20.attr%28%22height%22%2C%2010%29%0A%20%20%20%20%20%20%20%20.attr%28%22x%22%2C%20function%28d%29%20%7B%20return%20d.x0%3B%20%7D%29%0A%20%20%20%20%20%20%20%20.attr%28%22width%22%2C%20function%28d%29%20%7B%20return%20d.x1%20-%20d.x0%3B%20%7D%29%0A%20%20%20%20%20%20%20%20.style%28%22fill%22%2C%20function%28d%29%20%7B%20return%20d.z%3B%20%7D%29%3B%0A%0A%20%20%20%20color_map_c9c77994448346ddb000b944489907b9.g.call%28color_map_c9c77994448346ddb000b944489907b9.xAxis%29.append%28%22text%22%29%0A%20%20%20%20%20%20%20%20.attr%28%22class%22%2C%20%22caption%22%29%0A%20%20%20%20%20%20%20%20.attr%28%22y%22%2C%2021%29%0A%20%20%20%20%20%20%20%20.text%28%27LSLG%27%29%3B%0A%20%20%20%20%0A%20%20%20%20%20%20%20%20%20%20%20%20var%20layer_control_0d4c9d3e9f6d4bdbbaf7f6887418cde7%20%3D%20%7B%0A%20%20%20%20%20%20%20%20%20%20%20%20%20%20%20%20base_layers%20%3A%20%7B%0A%20%20%20%20%20%20%20%20%20%20%20%20%20%20%20%20%20%20%20%20%22openstreetmap%22%20%3A%20tile_layer_f2aa5ce466b24ff29288fe704b90d7fe%2C%0A%20%20%20%20%20%20%20%20%20%20%20%20%20%20%20%20%7D%2C%0A%20%20%20%20%20%20%20%20%20%20%20%20%20%20%20%20overlays%20%3A%20%20%7B%0A%20%20%20%20%20%20%20%20%20%20%20%20%20%20%20%20%20%20%20%20%22HSHG%22%20%3A%20tile_layer_43f973321dc84340bc4f042a72c76a9c%2C%0A%20%20%20%20%20%20%20%20%20%20%20%20%20%20%20%20%20%20%20%20%22HSLG%22%20%3A%20tile_layer_3ef42bb71c8a48e18a98cc2b0d4aa1c4%2C%0A%20%20%20%20%20%20%20%20%20%20%20%20%20%20%20%20%20%20%20%20%22LSHG%22%20%3A%20tile_layer_7ada1a31a36f401f85d159b14514dde8%2C%0A%20%20%20%20%20%20%20%20%20%20%20%20%20%20%20%20%20%20%20%20%22LSLG%22%20%3A%20tile_layer_210de19b07d74b2587cca2092063abc4%2C%0A%20%20%20%20%20%20%20%20%20%20%20%20%20%20%20%20%7D%2C%0A%20%20%20%20%20%20%20%20%20%20%20%20%7D%3B%0A%20%20%20%20%20%20%20%20%20%20%20%20L.control.layers%28%0A%20%20%20%20%20%20%20%20%20%20%20%20%20%20%20%20layer_control_0d4c9d3e9f6d4bdbbaf7f6887418cde7.base_layers%2C%0A%20%20%20%20%20%20%20%20%20%20%20%20%20%20%20%20layer_control_0d4c9d3e9f6d4bdbbaf7f6887418cde7.overlays%2C%0A%20%20%20%20%20%20%20%20%20%20%20%20%20%20%20%20%7B%22autoZIndex%22%3A%20true%2C%20%22collapsed%22%3A%20false%2C%20%22position%22%3A%20%22topright%22%7D%0A%20%20%20%20%20%20%20%20%20%20%20%20%29.addTo%28map_6c6415ccc31442b986109c20b866ad62%29%3B%0A%20%20%20%20%20%20%20%20%0A%3C/script%3E onload=\"this.contentDocument.open();this.contentDocument.write(    decodeURIComponent(this.getAttribute('data-html')));this.contentDocument.close();\" allowfullscreen webkitallowfullscreen mozallowfullscreen></iframe></div></div>"
      ],
      "text/plain": [
       "<folium.folium.Map at 0x19c45fe9948>"
      ]
     },
     "metadata": {},
     "output_type": "display_data"
    }
   ],
   "source": [
    "# Add EE drawing method to folium.\n",
    "folium.Map.add_ee_layer = add_ee_layer\n",
    "# Create a folium map object.\n",
    "my_map = folium.Map(location=[43.3, -114.418], zoom_start=5)\n",
    "\n",
    "#define the color palette and max/min values \n",
    "#min and max are the same for every layer\n",
    "vmin = 0\n",
    "vmax = 1\n",
    "#color palletes are different tho \n",
    "HSHS_colors = ['orange', 'orange']\n",
    "HSLG_colors = ['darkred', 'darkred']\n",
    "LSHG_colors = ['teal', 'teal']\n",
    "LSLG_colors = ['cadetblue', 'cadetblue']\n",
    "\n",
    "HS_params = {'min': vmin, 'max': vmax, 'palette': HSHS_colors} #brown\n",
    "my_map.add_ee_layer(HSHG, HS_params, 'HSHG') #UPDATE HERE\n",
    "\n",
    "LS_params = {'min': vmin, 'max': vmax, 'palette': HSLG_colors} #tan\n",
    "my_map.add_ee_layer(HSLG, LS_params, 'HSLG') #UPDATE HERE\n",
    "\n",
    "LP_params = {'min': vmin, 'max': vmax, 'palette': LSHG_colors} #light teal\n",
    "my_map.add_ee_layer(LSHG, LP_params, 'LSHG') #UPDATE HERE\n",
    "\n",
    "HP_params = {'min': vmin, 'max': vmax, 'palette': LSLG_colors} #dark teal\n",
    "my_map.add_ee_layer(LSLG, HP_params, 'LSLG') #UPDATE HERE\n",
    "\n",
    "\n",
    "#add colorbars\n",
    "colormap1 = cm.LinearColormap(HSHS_colors, vmin=vmin, vmax=vmax)\n",
    "colormap1.caption = \"HSHG\"\n",
    "colormap1.add_to(my_map) \n",
    "\n",
    "colormap2 = cm.LinearColormap(HSLG_colors, vmin=vmin, vmax=vmax)\n",
    "colormap2.caption = \"HSLG\"\n",
    "colormap2.add_to(my_map) \n",
    "\n",
    "colormap3 = cm.LinearColormap(LSHG_colors, vmin=vmin, vmax=vmax)\n",
    "colormap3.caption = \"LSHG\"\n",
    "colormap3.add_to(my_map) \n",
    "\n",
    "colormap4 = cm.LinearColormap(LSLG_colors, vmin=vmin, vmax=vmax)\n",
    "colormap4.caption = \"LSLG\"\n",
    "colormap4.add_to(my_map) \n",
    "\n",
    "#add layer control\n",
    "folium.LayerControl(collapsed = False).add_to(my_map)# Add a layer control panel to the map.\n",
    "\n",
    "display(my_map)# Display the map."
   ]
  },
  {
   "cell_type": "markdown",
   "id": "9508f8f0-87f2-4215-a7d2-31021b5dce4c",
   "metadata": {},
   "source": [
    "### Sampling occured within these strata"
   ]
  },
  {
   "cell_type": "code",
   "execution_count": 62,
   "id": "390babad-8645-47bf-adb7-d22f237295be",
   "metadata": {},
   "outputs": [],
   "source": [
    "wiggleroom = gpd.read_file('Documents/GitHub/GIS_programming_F21/datasets/Ranch/FuelLoad_points_shape/FuelLoad_points.shp') #sampling point locations"
   ]
  },
  {
   "cell_type": "markdown",
   "id": "84c00b69-86bf-49ed-affa-788977fa835f",
   "metadata": {},
   "source": [
    "update which plots were actually sampled"
   ]
  },
  {
   "cell_type": "code",
   "execution_count": 64,
   "id": "ac923648-0927-484c-9a80-2a7c61aba892",
   "metadata": {
    "collapsed": true,
    "jupyter": {
     "outputs_hidden": true
    },
    "tags": []
   },
   "outputs": [
    {
     "data": {
      "text/html": [
       "<div>\n",
       "<style scoped>\n",
       "    .dataframe tbody tr th:only-of-type {\n",
       "        vertical-align: middle;\n",
       "    }\n",
       "\n",
       "    .dataframe tbody tr th {\n",
       "        vertical-align: top;\n",
       "    }\n",
       "\n",
       "    .dataframe thead th {\n",
       "        text-align: right;\n",
       "    }\n",
       "</style>\n",
       "<table border=\"1\" class=\"dataframe\">\n",
       "  <thead>\n",
       "    <tr style=\"text-align: right;\">\n",
       "      <th></th>\n",
       "      <th>new_name</th>\n",
       "      <th>old_name</th>\n",
       "    </tr>\n",
       "  </thead>\n",
       "  <tbody>\n",
       "    <tr>\n",
       "      <th>0</th>\n",
       "      <td>101T</td>\n",
       "      <td>HSHG_LRC_T</td>\n",
       "    </tr>\n",
       "    <tr>\n",
       "      <th>1</th>\n",
       "      <td>102T</td>\n",
       "      <td>HSHG_T_7</td>\n",
       "    </tr>\n",
       "    <tr>\n",
       "      <th>2</th>\n",
       "      <td>103T</td>\n",
       "      <td>HSHG_T_6</td>\n",
       "    </tr>\n",
       "    <tr>\n",
       "      <th>3</th>\n",
       "      <td>104T</td>\n",
       "      <td>HSHG_T_2</td>\n",
       "    </tr>\n",
       "    <tr>\n",
       "      <th>4</th>\n",
       "      <td>105T</td>\n",
       "      <td>HSHG_C_1</td>\n",
       "    </tr>\n",
       "    <tr>\n",
       "      <th>5</th>\n",
       "      <td>101C</td>\n",
       "      <td>HSHG_LRC_C</td>\n",
       "    </tr>\n",
       "    <tr>\n",
       "      <th>6</th>\n",
       "      <td>102C</td>\n",
       "      <td>HSHG_C_8</td>\n",
       "    </tr>\n",
       "    <tr>\n",
       "      <th>7</th>\n",
       "      <td>103C</td>\n",
       "      <td>HSHG_C_5</td>\n",
       "    </tr>\n",
       "    <tr>\n",
       "      <th>8</th>\n",
       "      <td>104C</td>\n",
       "      <td>HSHG_C_6</td>\n",
       "    </tr>\n",
       "    <tr>\n",
       "      <th>9</th>\n",
       "      <td>105C</td>\n",
       "      <td>HSHG_T_1</td>\n",
       "    </tr>\n",
       "    <tr>\n",
       "      <th>10</th>\n",
       "      <td>201T</td>\n",
       "      <td>HSLG_T_5</td>\n",
       "    </tr>\n",
       "    <tr>\n",
       "      <th>11</th>\n",
       "      <td>202T</td>\n",
       "      <td>HSLS_T_6</td>\n",
       "    </tr>\n",
       "    <tr>\n",
       "      <th>12</th>\n",
       "      <td>203T</td>\n",
       "      <td>HSLG_T_1</td>\n",
       "    </tr>\n",
       "    <tr>\n",
       "      <th>13</th>\n",
       "      <td>204T</td>\n",
       "      <td>HSLG_T_3</td>\n",
       "    </tr>\n",
       "    <tr>\n",
       "      <th>14</th>\n",
       "      <td>201C</td>\n",
       "      <td>HSLG_C_4</td>\n",
       "    </tr>\n",
       "    <tr>\n",
       "      <th>15</th>\n",
       "      <td>202C</td>\n",
       "      <td>HSLG_C_3</td>\n",
       "    </tr>\n",
       "    <tr>\n",
       "      <th>16</th>\n",
       "      <td>203C</td>\n",
       "      <td>HSLG_C_1</td>\n",
       "    </tr>\n",
       "    <tr>\n",
       "      <th>17</th>\n",
       "      <td>204C</td>\n",
       "      <td>HSLG_C_2</td>\n",
       "    </tr>\n",
       "    <tr>\n",
       "      <th>18</th>\n",
       "      <td>301T</td>\n",
       "      <td>LSHG_LRC_T</td>\n",
       "    </tr>\n",
       "    <tr>\n",
       "      <th>19</th>\n",
       "      <td>302T</td>\n",
       "      <td>LSHG_T_7</td>\n",
       "    </tr>\n",
       "    <tr>\n",
       "      <th>20</th>\n",
       "      <td>303T</td>\n",
       "      <td>LSHG_T_3</td>\n",
       "    </tr>\n",
       "    <tr>\n",
       "      <th>21</th>\n",
       "      <td>304T</td>\n",
       "      <td>LSHG_T_2</td>\n",
       "    </tr>\n",
       "    <tr>\n",
       "      <th>22</th>\n",
       "      <td>305T</td>\n",
       "      <td>LSHG_T_1</td>\n",
       "    </tr>\n",
       "    <tr>\n",
       "      <th>23</th>\n",
       "      <td>301C</td>\n",
       "      <td>LSHG_LRC_C</td>\n",
       "    </tr>\n",
       "    <tr>\n",
       "      <th>24</th>\n",
       "      <td>302C</td>\n",
       "      <td>LSHG_C_5</td>\n",
       "    </tr>\n",
       "    <tr>\n",
       "      <th>25</th>\n",
       "      <td>303C</td>\n",
       "      <td>LSHG_C_4</td>\n",
       "    </tr>\n",
       "    <tr>\n",
       "      <th>26</th>\n",
       "      <td>304C</td>\n",
       "      <td>LSHG_C_3</td>\n",
       "    </tr>\n",
       "    <tr>\n",
       "      <th>27</th>\n",
       "      <td>401T</td>\n",
       "      <td>LSLG_T_2</td>\n",
       "    </tr>\n",
       "    <tr>\n",
       "      <th>28</th>\n",
       "      <td>401T</td>\n",
       "      <td>LSLG_T_5</td>\n",
       "    </tr>\n",
       "    <tr>\n",
       "      <th>29</th>\n",
       "      <td>401C</td>\n",
       "      <td>LSLG_C_1</td>\n",
       "    </tr>\n",
       "    <tr>\n",
       "      <th>30</th>\n",
       "      <td>402C</td>\n",
       "      <td>LSLG_C_5</td>\n",
       "    </tr>\n",
       "  </tbody>\n",
       "</table>\n",
       "</div>"
      ],
      "text/plain": [
       "   new_name    old_name\n",
       "0      101T  HSHG_LRC_T\n",
       "1      102T    HSHG_T_7\n",
       "2      103T    HSHG_T_6\n",
       "3      104T    HSHG_T_2\n",
       "4      105T    HSHG_C_1\n",
       "5      101C  HSHG_LRC_C\n",
       "6      102C    HSHG_C_8\n",
       "7      103C    HSHG_C_5\n",
       "8      104C    HSHG_C_6\n",
       "9      105C    HSHG_T_1\n",
       "10     201T    HSLG_T_5\n",
       "11     202T    HSLS_T_6\n",
       "12     203T    HSLG_T_1\n",
       "13     204T    HSLG_T_3\n",
       "14     201C    HSLG_C_4\n",
       "15     202C    HSLG_C_3\n",
       "16     203C    HSLG_C_1\n",
       "17     204C    HSLG_C_2\n",
       "18     301T  LSHG_LRC_T\n",
       "19     302T    LSHG_T_7\n",
       "20     303T    LSHG_T_3\n",
       "21     304T    LSHG_T_2\n",
       "22     305T    LSHG_T_1\n",
       "23     301C  LSHG_LRC_C\n",
       "24     302C    LSHG_C_5\n",
       "25     303C    LSHG_C_4\n",
       "26     304C    LSHG_C_3\n",
       "27     401T    LSLG_T_2\n",
       "28     401T    LSLG_T_5\n",
       "29     401C    LSLG_C_1\n",
       "30     402C    LSLG_C_5"
      ]
     },
     "execution_count": 64,
     "metadata": {},
     "output_type": "execute_result"
    }
   ],
   "source": [
    "##bring in info about which plots were actually sampled this summer and what their new plot names are\n",
    "data = [['101T', 'HSHG_LRC_T'], ['102T', 'HSHG_T_7'], ['103T', 'HSHG_T_6'], ['104T', 'HSHG_T_2'], ['105T', 'HSHG_C_1'], ['101C', 'HSHG_LRC_C'],\n",
    "        ['102C', 'HSHG_C_8'], ['103C', 'HSHG_C_5'], ['104C', 'HSHG_C_6'], ['105C', 'HSHG_T_1'], ['201T', 'HSLG_T_5'], ['202T', 'HSLS_T_6'], ['203T', 'HSLG_T_1'],\n",
    "        ['204T', 'HSLG_T_3'], ['201C', 'HSLG_C_4'], ['202C', 'HSLG_C_3'], \n",
    "        ['203C', 'HSLG_C_1'], ['204C', 'HSLG_C_2'], ['301T', 'LSHG_LRC_T'], ['302T', 'LSHG_T_7'], \n",
    "        ['303T', 'LSHG_T_3'], ['304T', 'LSHG_T_2'], ['305T', 'LSHG_T_1'], ['301C', 'LSHG_LRC_C'], ['302C', 'LSHG_C_5'], ['303C', 'LSHG_C_4'],\n",
    "        ['304C', 'LSHG_C_3'], ['401T', 'LSLG_T_2'], ['401T', 'LSLG_T_5'], ['401C', 'LSLG_C_1'], ['402C', 'LSLG_C_5']]\n",
    "\n",
    "sampled = pd.DataFrame(data, columns = ['new_name', 'old_name'])\n",
    "sampled"
   ]
  },
  {
   "cell_type": "code",
   "execution_count": 65,
   "id": "9395ec91-e4d2-4313-82fd-735d3615b59d",
   "metadata": {
    "collapsed": true,
    "jupyter": {
     "outputs_hidden": true
    },
    "tags": []
   },
   "outputs": [
    {
     "data": {
      "text/html": [
       "<div>\n",
       "<style scoped>\n",
       "    .dataframe tbody tr th:only-of-type {\n",
       "        vertical-align: middle;\n",
       "    }\n",
       "\n",
       "    .dataframe tbody tr th {\n",
       "        vertical-align: top;\n",
       "    }\n",
       "\n",
       "    .dataframe thead th {\n",
       "        text-align: right;\n",
       "    }\n",
       "</style>\n",
       "<table border=\"1\" class=\"dataframe\">\n",
       "  <thead>\n",
       "    <tr style=\"text-align: right;\">\n",
       "      <th></th>\n",
       "      <th>Name</th>\n",
       "      <th>Shrub</th>\n",
       "      <th>PG</th>\n",
       "      <th>BGround</th>\n",
       "      <th>Notes</th>\n",
       "      <th>GlobalID</th>\n",
       "      <th>plotID</th>\n",
       "      <th>Field</th>\n",
       "      <th>geometry</th>\n",
       "    </tr>\n",
       "  </thead>\n",
       "  <tbody>\n",
       "    <tr>\n",
       "      <th>0</th>\n",
       "      <td>HSLG_T_1</td>\n",
       "      <td>40</td>\n",
       "      <td>28</td>\n",
       "      <td>3</td>\n",
       "      <td>None</td>\n",
       "      <td>b59cf147-124e-4e7a-bf72-3f4eb5b9a907</td>\n",
       "      <td>None</td>\n",
       "      <td>0</td>\n",
       "      <td>POINT Z (-114.40705 43.41868 0.00000)</td>\n",
       "    </tr>\n",
       "    <tr>\n",
       "      <th>1</th>\n",
       "      <td>HSLG_C_1</td>\n",
       "      <td>33</td>\n",
       "      <td>25</td>\n",
       "      <td>4</td>\n",
       "      <td>None</td>\n",
       "      <td>4de3a140-ba3c-488f-a1da-6b28aa8fd6ca</td>\n",
       "      <td>None</td>\n",
       "      <td>0</td>\n",
       "      <td>POINT Z (-114.40840 43.41868 0.00000)</td>\n",
       "    </tr>\n",
       "    <tr>\n",
       "      <th>2</th>\n",
       "      <td>HSHG_C_1</td>\n",
       "      <td>33</td>\n",
       "      <td>32</td>\n",
       "      <td>5</td>\n",
       "      <td>None</td>\n",
       "      <td>f1de3649-a702-4d76-bf3e-1dd8b1cc8156</td>\n",
       "      <td>None</td>\n",
       "      <td>0</td>\n",
       "      <td>POINT Z (-114.40356 43.41868 0.00000)</td>\n",
       "    </tr>\n",
       "    <tr>\n",
       "      <th>3</th>\n",
       "      <td>HSHG_T_1</td>\n",
       "      <td>37</td>\n",
       "      <td>36</td>\n",
       "      <td>5</td>\n",
       "      <td>None</td>\n",
       "      <td>266b1124-d426-4a6b-acad-74d4aad7c7c1</td>\n",
       "      <td>None</td>\n",
       "      <td>0</td>\n",
       "      <td>POINT Z (-114.40274 43.41867 0.00000)</td>\n",
       "    </tr>\n",
       "    <tr>\n",
       "      <th>4</th>\n",
       "      <td>HSLG_C_2</td>\n",
       "      <td>36</td>\n",
       "      <td>29</td>\n",
       "      <td>6</td>\n",
       "      <td>None</td>\n",
       "      <td>253c1d22-10b1-4875-9a99-e1191bc9a3e2</td>\n",
       "      <td>None</td>\n",
       "      <td>0</td>\n",
       "      <td>POINT Z (-114.40624 43.42218 0.00000)</td>\n",
       "    </tr>\n",
       "    <tr>\n",
       "      <th>6</th>\n",
       "      <td>HSLG_T_3</td>\n",
       "      <td>36</td>\n",
       "      <td>28</td>\n",
       "      <td>8</td>\n",
       "      <td>None</td>\n",
       "      <td>d337ec43-aa85-4a3b-a140-03ac06863f5c</td>\n",
       "      <td>None</td>\n",
       "      <td>0</td>\n",
       "      <td>POINT Z (-114.40625 43.42003 0.00000)</td>\n",
       "    </tr>\n",
       "    <tr>\n",
       "      <th>8</th>\n",
       "      <td>HSLG_C_3</td>\n",
       "      <td>37</td>\n",
       "      <td>22</td>\n",
       "      <td>8</td>\n",
       "      <td>None</td>\n",
       "      <td>9fda9642-7ba3-4f79-a703-634c8ee94849</td>\n",
       "      <td>None</td>\n",
       "      <td>0</td>\n",
       "      <td>POINT Z (-114.40517 43.42029 0.00000)</td>\n",
       "    </tr>\n",
       "    <tr>\n",
       "      <th>9</th>\n",
       "      <td>HSLG_C_4</td>\n",
       "      <td>26</td>\n",
       "      <td>25</td>\n",
       "      <td>12</td>\n",
       "      <td>None</td>\n",
       "      <td>063ebcc9-83a0-4bc2-a7c1-10bcde9a39f3</td>\n",
       "      <td>None</td>\n",
       "      <td>0</td>\n",
       "      <td>POINT Z (-114.40463 43.42057 0.00000)</td>\n",
       "    </tr>\n",
       "    <tr>\n",
       "      <th>10</th>\n",
       "      <td>HSLG_T_5</td>\n",
       "      <td>42</td>\n",
       "      <td>19</td>\n",
       "      <td>2</td>\n",
       "      <td>None</td>\n",
       "      <td>4707c3c0-f784-4335-b810-d75500573c59</td>\n",
       "      <td>None</td>\n",
       "      <td>0</td>\n",
       "      <td>POINT Z (-114.41002 43.42164 0.00000)</td>\n",
       "    </tr>\n",
       "    <tr>\n",
       "      <th>11</th>\n",
       "      <td>HSLS_T_6</td>\n",
       "      <td>47</td>\n",
       "      <td>27</td>\n",
       "      <td>3</td>\n",
       "      <td>None</td>\n",
       "      <td>a99ede42-907e-4c7e-99d9-b30c627ba2cd</td>\n",
       "      <td>None</td>\n",
       "      <td>0</td>\n",
       "      <td>POINT Z (-114.40948 43.42138 0.00000)</td>\n",
       "    </tr>\n",
       "    <tr>\n",
       "      <th>15</th>\n",
       "      <td>LSLG_T_2</td>\n",
       "      <td>20</td>\n",
       "      <td>30</td>\n",
       "      <td>3</td>\n",
       "      <td>None</td>\n",
       "      <td>e53e0157-71e4-4c00-af54-65456338dff2</td>\n",
       "      <td>None</td>\n",
       "      <td>0</td>\n",
       "      <td>POINT Z (-114.41110 43.42083 0.00000)</td>\n",
       "    </tr>\n",
       "    <tr>\n",
       "      <th>18</th>\n",
       "      <td>LSLG_T_5</td>\n",
       "      <td>17</td>\n",
       "      <td>30</td>\n",
       "      <td>8</td>\n",
       "      <td>None</td>\n",
       "      <td>1001b8a2-5294-4383-8486-a147b448f078</td>\n",
       "      <td>None</td>\n",
       "      <td>0</td>\n",
       "      <td>POINT Z (-114.41460 43.42272 0.00000)</td>\n",
       "    </tr>\n",
       "    <tr>\n",
       "      <th>19</th>\n",
       "      <td>LSLG_C_1</td>\n",
       "      <td>18</td>\n",
       "      <td>28</td>\n",
       "      <td>5</td>\n",
       "      <td>None</td>\n",
       "      <td>3b5af697-7468-4843-bbec-a558d6ab123f</td>\n",
       "      <td>None</td>\n",
       "      <td>0</td>\n",
       "      <td>POINT Z (-114.40275 43.42110 0.00000)</td>\n",
       "    </tr>\n",
       "    <tr>\n",
       "      <th>23</th>\n",
       "      <td>LSLG_C_5</td>\n",
       "      <td>14</td>\n",
       "      <td>29</td>\n",
       "      <td>6</td>\n",
       "      <td>None</td>\n",
       "      <td>69e0dbb8-cae3-42d6-8a7b-d76e3ccd189f</td>\n",
       "      <td>None</td>\n",
       "      <td>0</td>\n",
       "      <td>POINT Z (-114.40786 43.42353 0.00000)</td>\n",
       "    </tr>\n",
       "    <tr>\n",
       "      <th>25</th>\n",
       "      <td>HSHG_T_2</td>\n",
       "      <td>34</td>\n",
       "      <td>32</td>\n",
       "      <td>6</td>\n",
       "      <td>None</td>\n",
       "      <td>7e2c098f-8f20-478b-880d-a78287ebf4e9</td>\n",
       "      <td>None</td>\n",
       "      <td>0</td>\n",
       "      <td>POINT Z (-114.40732 43.42110 0.00000)</td>\n",
       "    </tr>\n",
       "    <tr>\n",
       "      <th>29</th>\n",
       "      <td>HSHG_T_6</td>\n",
       "      <td>34</td>\n",
       "      <td>33</td>\n",
       "      <td>5</td>\n",
       "      <td>None</td>\n",
       "      <td>7fbdcd9e-ac1d-46b3-8ba9-49b6a0870428</td>\n",
       "      <td>None</td>\n",
       "      <td>0</td>\n",
       "      <td>POINT Z (-114.40948 43.42110 0.00000)</td>\n",
       "    </tr>\n",
       "    <tr>\n",
       "      <th>30</th>\n",
       "      <td>HSHG_T_7</td>\n",
       "      <td>33</td>\n",
       "      <td>32</td>\n",
       "      <td>2</td>\n",
       "      <td>None</td>\n",
       "      <td>6f167706-8315-49fb-adce-4bb1140e73b5</td>\n",
       "      <td>None</td>\n",
       "      <td>0</td>\n",
       "      <td>POINT Z (-114.41002 43.42110 0.00000)</td>\n",
       "    </tr>\n",
       "    <tr>\n",
       "      <th>34</th>\n",
       "      <td>HSHG_C_5</td>\n",
       "      <td>33</td>\n",
       "      <td>31</td>\n",
       "      <td>7</td>\n",
       "      <td>None</td>\n",
       "      <td>e2202b2a-425d-4254-be3b-6ae17d0569ff</td>\n",
       "      <td>None</td>\n",
       "      <td>0</td>\n",
       "      <td>POINT Z (-114.40410 43.42083 0.00000)</td>\n",
       "    </tr>\n",
       "    <tr>\n",
       "      <th>35</th>\n",
       "      <td>HSHG_C_6</td>\n",
       "      <td>32</td>\n",
       "      <td>32</td>\n",
       "      <td>7</td>\n",
       "      <td>None</td>\n",
       "      <td>c49bf404-f9e1-4027-a9ea-829328976a35</td>\n",
       "      <td>None</td>\n",
       "      <td>0</td>\n",
       "      <td>POINT Z (-114.40355 43.42083 0.00000)</td>\n",
       "    </tr>\n",
       "    <tr>\n",
       "      <th>37</th>\n",
       "      <td>HSHG_C_8</td>\n",
       "      <td>40</td>\n",
       "      <td>31</td>\n",
       "      <td>4</td>\n",
       "      <td>None</td>\n",
       "      <td>e7bce277-baf4-44c0-983b-a00689165519</td>\n",
       "      <td>None</td>\n",
       "      <td>0</td>\n",
       "      <td>POINT Z (-114.40732 43.42218 0.00000)</td>\n",
       "    </tr>\n",
       "    <tr>\n",
       "      <th>38</th>\n",
       "      <td>LSHG_T_1</td>\n",
       "      <td>17</td>\n",
       "      <td>35</td>\n",
       "      <td>5</td>\n",
       "      <td>None</td>\n",
       "      <td>409cb697-947e-493e-8d33-606a6c004331</td>\n",
       "      <td>None</td>\n",
       "      <td>0</td>\n",
       "      <td>POINT Z (-114.41220 43.42219 0.00000)</td>\n",
       "    </tr>\n",
       "    <tr>\n",
       "      <th>39</th>\n",
       "      <td>LSHG_T_2</td>\n",
       "      <td>19</td>\n",
       "      <td>32</td>\n",
       "      <td>8</td>\n",
       "      <td>None</td>\n",
       "      <td>3fe572f6-1717-43ec-9dc4-6468d65e3162</td>\n",
       "      <td>None</td>\n",
       "      <td>0</td>\n",
       "      <td>POINT Z (-114.41406 43.42218 0.00000)</td>\n",
       "    </tr>\n",
       "    <tr>\n",
       "      <th>40</th>\n",
       "      <td>LSHG_T_3</td>\n",
       "      <td>20</td>\n",
       "      <td>38</td>\n",
       "      <td>5</td>\n",
       "      <td>None</td>\n",
       "      <td>ec77d554-96f9-40e5-b76b-c449b26becb4</td>\n",
       "      <td>None</td>\n",
       "      <td>0</td>\n",
       "      <td>POINT Z (-114.41218 43.42164 0.00000)</td>\n",
       "    </tr>\n",
       "    <tr>\n",
       "      <th>44</th>\n",
       "      <td>LSHG_T_7</td>\n",
       "      <td>13</td>\n",
       "      <td>35</td>\n",
       "      <td>5</td>\n",
       "      <td>None</td>\n",
       "      <td>f2710cc7-a762-4936-9f40-47d95adbf9fb</td>\n",
       "      <td>None</td>\n",
       "      <td>0</td>\n",
       "      <td>POINT Z (-114.41164 43.42109 0.00000)</td>\n",
       "    </tr>\n",
       "    <tr>\n",
       "      <th>47</th>\n",
       "      <td>LSHG_C_3</td>\n",
       "      <td>17</td>\n",
       "      <td>40</td>\n",
       "      <td>4</td>\n",
       "      <td>None</td>\n",
       "      <td>3f61226c-a0bb-4b74-929a-65d08b6133f4</td>\n",
       "      <td>None</td>\n",
       "      <td>0</td>\n",
       "      <td>POINT Z (-114.40976 43.42271 0.00000)</td>\n",
       "    </tr>\n",
       "    <tr>\n",
       "      <th>48</th>\n",
       "      <td>LSHG_C_4</td>\n",
       "      <td>15</td>\n",
       "      <td>44</td>\n",
       "      <td>7</td>\n",
       "      <td>None</td>\n",
       "      <td>619ed5ae-33d7-4d6f-bc36-8b5248fe7d8f</td>\n",
       "      <td>None</td>\n",
       "      <td>0</td>\n",
       "      <td>POINT Z (-114.40895 43.42299 0.00000)</td>\n",
       "    </tr>\n",
       "    <tr>\n",
       "      <th>49</th>\n",
       "      <td>LSHG_C_5</td>\n",
       "      <td>14</td>\n",
       "      <td>41</td>\n",
       "      <td>4</td>\n",
       "      <td>None</td>\n",
       "      <td>737bf4c3-6db1-4e21-9ec9-9fa8f38712ce</td>\n",
       "      <td>None</td>\n",
       "      <td>0</td>\n",
       "      <td>POINT Z (-114.40814 43.42298 0.00000)</td>\n",
       "    </tr>\n",
       "    <tr>\n",
       "      <th>52</th>\n",
       "      <td>HSHG_LRC_C</td>\n",
       "      <td>30</td>\n",
       "      <td>36</td>\n",
       "      <td>4</td>\n",
       "      <td>None</td>\n",
       "      <td>40fee60c-03e1-41cc-b52d-80efc314a226</td>\n",
       "      <td>None</td>\n",
       "      <td>0</td>\n",
       "      <td>POINT Z (-114.35477 43.37286 0.00000)</td>\n",
       "    </tr>\n",
       "    <tr>\n",
       "      <th>53</th>\n",
       "      <td>HSHG_LRC_T</td>\n",
       "      <td>30</td>\n",
       "      <td>34</td>\n",
       "      <td>7</td>\n",
       "      <td>None</td>\n",
       "      <td>25c31297-ec53-4788-b6c0-7459704f1173</td>\n",
       "      <td>None</td>\n",
       "      <td>0</td>\n",
       "      <td>POINT Z (-114.35504 43.37178 0.00000)</td>\n",
       "    </tr>\n",
       "    <tr>\n",
       "      <th>54</th>\n",
       "      <td>LSHG_LRC_T</td>\n",
       "      <td>9</td>\n",
       "      <td>32</td>\n",
       "      <td>6</td>\n",
       "      <td>None</td>\n",
       "      <td>3922ac00-f228-48f9-9ba3-5efebd950191</td>\n",
       "      <td>None</td>\n",
       "      <td>0</td>\n",
       "      <td>POINT Z (-114.35639 43.37152 0.00000)</td>\n",
       "    </tr>\n",
       "    <tr>\n",
       "      <th>55</th>\n",
       "      <td>LSHG_LRC_C</td>\n",
       "      <td>10</td>\n",
       "      <td>37</td>\n",
       "      <td>8</td>\n",
       "      <td>None</td>\n",
       "      <td>7056d38f-fa42-4bac-aba8-1dc4d5e696bc</td>\n",
       "      <td>None</td>\n",
       "      <td>0</td>\n",
       "      <td>POINT Z (-114.35693 43.37232 0.00000)</td>\n",
       "    </tr>\n",
       "  </tbody>\n",
       "</table>\n",
       "</div>"
      ],
      "text/plain": [
       "          Name  Shrub  PG  BGround Notes  \\\n",
       "0     HSLG_T_1     40  28        3  None   \n",
       "1     HSLG_C_1     33  25        4  None   \n",
       "2     HSHG_C_1     33  32        5  None   \n",
       "3     HSHG_T_1     37  36        5  None   \n",
       "4     HSLG_C_2     36  29        6  None   \n",
       "6     HSLG_T_3     36  28        8  None   \n",
       "8     HSLG_C_3     37  22        8  None   \n",
       "9     HSLG_C_4     26  25       12  None   \n",
       "10    HSLG_T_5     42  19        2  None   \n",
       "11    HSLS_T_6     47  27        3  None   \n",
       "15    LSLG_T_2     20  30        3  None   \n",
       "18    LSLG_T_5     17  30        8  None   \n",
       "19    LSLG_C_1     18  28        5  None   \n",
       "23    LSLG_C_5     14  29        6  None   \n",
       "25    HSHG_T_2     34  32        6  None   \n",
       "29    HSHG_T_6     34  33        5  None   \n",
       "30    HSHG_T_7     33  32        2  None   \n",
       "34    HSHG_C_5     33  31        7  None   \n",
       "35    HSHG_C_6     32  32        7  None   \n",
       "37    HSHG_C_8     40  31        4  None   \n",
       "38    LSHG_T_1     17  35        5  None   \n",
       "39    LSHG_T_2     19  32        8  None   \n",
       "40    LSHG_T_3     20  38        5  None   \n",
       "44    LSHG_T_7     13  35        5  None   \n",
       "47    LSHG_C_3     17  40        4  None   \n",
       "48    LSHG_C_4     15  44        7  None   \n",
       "49    LSHG_C_5     14  41        4  None   \n",
       "52  HSHG_LRC_C     30  36        4  None   \n",
       "53  HSHG_LRC_T     30  34        7  None   \n",
       "54  LSHG_LRC_T      9  32        6  None   \n",
       "55  LSHG_LRC_C     10  37        8  None   \n",
       "\n",
       "                                GlobalID plotID  Field  \\\n",
       "0   b59cf147-124e-4e7a-bf72-3f4eb5b9a907   None      0   \n",
       "1   4de3a140-ba3c-488f-a1da-6b28aa8fd6ca   None      0   \n",
       "2   f1de3649-a702-4d76-bf3e-1dd8b1cc8156   None      0   \n",
       "3   266b1124-d426-4a6b-acad-74d4aad7c7c1   None      0   \n",
       "4   253c1d22-10b1-4875-9a99-e1191bc9a3e2   None      0   \n",
       "6   d337ec43-aa85-4a3b-a140-03ac06863f5c   None      0   \n",
       "8   9fda9642-7ba3-4f79-a703-634c8ee94849   None      0   \n",
       "9   063ebcc9-83a0-4bc2-a7c1-10bcde9a39f3   None      0   \n",
       "10  4707c3c0-f784-4335-b810-d75500573c59   None      0   \n",
       "11  a99ede42-907e-4c7e-99d9-b30c627ba2cd   None      0   \n",
       "15  e53e0157-71e4-4c00-af54-65456338dff2   None      0   \n",
       "18  1001b8a2-5294-4383-8486-a147b448f078   None      0   \n",
       "19  3b5af697-7468-4843-bbec-a558d6ab123f   None      0   \n",
       "23  69e0dbb8-cae3-42d6-8a7b-d76e3ccd189f   None      0   \n",
       "25  7e2c098f-8f20-478b-880d-a78287ebf4e9   None      0   \n",
       "29  7fbdcd9e-ac1d-46b3-8ba9-49b6a0870428   None      0   \n",
       "30  6f167706-8315-49fb-adce-4bb1140e73b5   None      0   \n",
       "34  e2202b2a-425d-4254-be3b-6ae17d0569ff   None      0   \n",
       "35  c49bf404-f9e1-4027-a9ea-829328976a35   None      0   \n",
       "37  e7bce277-baf4-44c0-983b-a00689165519   None      0   \n",
       "38  409cb697-947e-493e-8d33-606a6c004331   None      0   \n",
       "39  3fe572f6-1717-43ec-9dc4-6468d65e3162   None      0   \n",
       "40  ec77d554-96f9-40e5-b76b-c449b26becb4   None      0   \n",
       "44  f2710cc7-a762-4936-9f40-47d95adbf9fb   None      0   \n",
       "47  3f61226c-a0bb-4b74-929a-65d08b6133f4   None      0   \n",
       "48  619ed5ae-33d7-4d6f-bc36-8b5248fe7d8f   None      0   \n",
       "49  737bf4c3-6db1-4e21-9ec9-9fa8f38712ce   None      0   \n",
       "52  40fee60c-03e1-41cc-b52d-80efc314a226   None      0   \n",
       "53  25c31297-ec53-4788-b6c0-7459704f1173   None      0   \n",
       "54  3922ac00-f228-48f9-9ba3-5efebd950191   None      0   \n",
       "55  7056d38f-fa42-4bac-aba8-1dc4d5e696bc   None      0   \n",
       "\n",
       "                                 geometry  \n",
       "0   POINT Z (-114.40705 43.41868 0.00000)  \n",
       "1   POINT Z (-114.40840 43.41868 0.00000)  \n",
       "2   POINT Z (-114.40356 43.41868 0.00000)  \n",
       "3   POINT Z (-114.40274 43.41867 0.00000)  \n",
       "4   POINT Z (-114.40624 43.42218 0.00000)  \n",
       "6   POINT Z (-114.40625 43.42003 0.00000)  \n",
       "8   POINT Z (-114.40517 43.42029 0.00000)  \n",
       "9   POINT Z (-114.40463 43.42057 0.00000)  \n",
       "10  POINT Z (-114.41002 43.42164 0.00000)  \n",
       "11  POINT Z (-114.40948 43.42138 0.00000)  \n",
       "15  POINT Z (-114.41110 43.42083 0.00000)  \n",
       "18  POINT Z (-114.41460 43.42272 0.00000)  \n",
       "19  POINT Z (-114.40275 43.42110 0.00000)  \n",
       "23  POINT Z (-114.40786 43.42353 0.00000)  \n",
       "25  POINT Z (-114.40732 43.42110 0.00000)  \n",
       "29  POINT Z (-114.40948 43.42110 0.00000)  \n",
       "30  POINT Z (-114.41002 43.42110 0.00000)  \n",
       "34  POINT Z (-114.40410 43.42083 0.00000)  \n",
       "35  POINT Z (-114.40355 43.42083 0.00000)  \n",
       "37  POINT Z (-114.40732 43.42218 0.00000)  \n",
       "38  POINT Z (-114.41220 43.42219 0.00000)  \n",
       "39  POINT Z (-114.41406 43.42218 0.00000)  \n",
       "40  POINT Z (-114.41218 43.42164 0.00000)  \n",
       "44  POINT Z (-114.41164 43.42109 0.00000)  \n",
       "47  POINT Z (-114.40976 43.42271 0.00000)  \n",
       "48  POINT Z (-114.40895 43.42299 0.00000)  \n",
       "49  POINT Z (-114.40814 43.42298 0.00000)  \n",
       "52  POINT Z (-114.35477 43.37286 0.00000)  \n",
       "53  POINT Z (-114.35504 43.37178 0.00000)  \n",
       "54  POINT Z (-114.35639 43.37152 0.00000)  \n",
       "55  POINT Z (-114.35693 43.37232 0.00000)  "
      ]
     },
     "execution_count": 65,
     "metadata": {},
     "output_type": "execute_result"
    }
   ],
   "source": [
    "#Figure out which of the old name plots in wiggle room were actually sampled this summer \n",
    "good_idx = wiggleroom['Name'].isin(sampled['old_name'])\n",
    "summer2021 = wiggleroom.loc[good_idx]\n",
    "summer2021"
   ]
  },
  {
   "cell_type": "code",
   "execution_count": 66,
   "id": "2773914d-0184-4f20-bd89-65c9271f2af3",
   "metadata": {
    "collapsed": true,
    "jupyter": {
     "outputs_hidden": true
    },
    "tags": []
   },
   "outputs": [
    {
     "data": {
      "text/html": [
       "<div>\n",
       "<style scoped>\n",
       "    .dataframe tbody tr th:only-of-type {\n",
       "        vertical-align: middle;\n",
       "    }\n",
       "\n",
       "    .dataframe tbody tr th {\n",
       "        vertical-align: top;\n",
       "    }\n",
       "\n",
       "    .dataframe thead th {\n",
       "        text-align: right;\n",
       "    }\n",
       "</style>\n",
       "<table border=\"1\" class=\"dataframe\">\n",
       "  <thead>\n",
       "    <tr style=\"text-align: right;\">\n",
       "      <th></th>\n",
       "      <th>new_name</th>\n",
       "      <th>old_name</th>\n",
       "    </tr>\n",
       "  </thead>\n",
       "  <tbody>\n",
       "    <tr>\n",
       "      <th>4</th>\n",
       "      <td>105T</td>\n",
       "      <td>HSHG_C_1</td>\n",
       "    </tr>\n",
       "    <tr>\n",
       "      <th>7</th>\n",
       "      <td>103C</td>\n",
       "      <td>HSHG_C_5</td>\n",
       "    </tr>\n",
       "    <tr>\n",
       "      <th>8</th>\n",
       "      <td>104C</td>\n",
       "      <td>HSHG_C_6</td>\n",
       "    </tr>\n",
       "    <tr>\n",
       "      <th>6</th>\n",
       "      <td>102C</td>\n",
       "      <td>HSHG_C_8</td>\n",
       "    </tr>\n",
       "    <tr>\n",
       "      <th>5</th>\n",
       "      <td>101C</td>\n",
       "      <td>HSHG_LRC_C</td>\n",
       "    </tr>\n",
       "    <tr>\n",
       "      <th>0</th>\n",
       "      <td>101T</td>\n",
       "      <td>HSHG_LRC_T</td>\n",
       "    </tr>\n",
       "    <tr>\n",
       "      <th>9</th>\n",
       "      <td>105C</td>\n",
       "      <td>HSHG_T_1</td>\n",
       "    </tr>\n",
       "    <tr>\n",
       "      <th>3</th>\n",
       "      <td>104T</td>\n",
       "      <td>HSHG_T_2</td>\n",
       "    </tr>\n",
       "    <tr>\n",
       "      <th>2</th>\n",
       "      <td>103T</td>\n",
       "      <td>HSHG_T_6</td>\n",
       "    </tr>\n",
       "    <tr>\n",
       "      <th>1</th>\n",
       "      <td>102T</td>\n",
       "      <td>HSHG_T_7</td>\n",
       "    </tr>\n",
       "    <tr>\n",
       "      <th>16</th>\n",
       "      <td>203C</td>\n",
       "      <td>HSLG_C_1</td>\n",
       "    </tr>\n",
       "    <tr>\n",
       "      <th>17</th>\n",
       "      <td>204C</td>\n",
       "      <td>HSLG_C_2</td>\n",
       "    </tr>\n",
       "    <tr>\n",
       "      <th>15</th>\n",
       "      <td>202C</td>\n",
       "      <td>HSLG_C_3</td>\n",
       "    </tr>\n",
       "    <tr>\n",
       "      <th>14</th>\n",
       "      <td>201C</td>\n",
       "      <td>HSLG_C_4</td>\n",
       "    </tr>\n",
       "    <tr>\n",
       "      <th>12</th>\n",
       "      <td>203T</td>\n",
       "      <td>HSLG_T_1</td>\n",
       "    </tr>\n",
       "    <tr>\n",
       "      <th>13</th>\n",
       "      <td>204T</td>\n",
       "      <td>HSLG_T_3</td>\n",
       "    </tr>\n",
       "    <tr>\n",
       "      <th>10</th>\n",
       "      <td>201T</td>\n",
       "      <td>HSLG_T_5</td>\n",
       "    </tr>\n",
       "    <tr>\n",
       "      <th>11</th>\n",
       "      <td>202T</td>\n",
       "      <td>HSLS_T_6</td>\n",
       "    </tr>\n",
       "    <tr>\n",
       "      <th>26</th>\n",
       "      <td>304C</td>\n",
       "      <td>LSHG_C_3</td>\n",
       "    </tr>\n",
       "    <tr>\n",
       "      <th>25</th>\n",
       "      <td>303C</td>\n",
       "      <td>LSHG_C_4</td>\n",
       "    </tr>\n",
       "    <tr>\n",
       "      <th>24</th>\n",
       "      <td>302C</td>\n",
       "      <td>LSHG_C_5</td>\n",
       "    </tr>\n",
       "    <tr>\n",
       "      <th>23</th>\n",
       "      <td>301C</td>\n",
       "      <td>LSHG_LRC_C</td>\n",
       "    </tr>\n",
       "    <tr>\n",
       "      <th>18</th>\n",
       "      <td>301T</td>\n",
       "      <td>LSHG_LRC_T</td>\n",
       "    </tr>\n",
       "    <tr>\n",
       "      <th>22</th>\n",
       "      <td>305T</td>\n",
       "      <td>LSHG_T_1</td>\n",
       "    </tr>\n",
       "    <tr>\n",
       "      <th>21</th>\n",
       "      <td>304T</td>\n",
       "      <td>LSHG_T_2</td>\n",
       "    </tr>\n",
       "    <tr>\n",
       "      <th>20</th>\n",
       "      <td>303T</td>\n",
       "      <td>LSHG_T_3</td>\n",
       "    </tr>\n",
       "    <tr>\n",
       "      <th>19</th>\n",
       "      <td>302T</td>\n",
       "      <td>LSHG_T_7</td>\n",
       "    </tr>\n",
       "    <tr>\n",
       "      <th>29</th>\n",
       "      <td>401C</td>\n",
       "      <td>LSLG_C_1</td>\n",
       "    </tr>\n",
       "    <tr>\n",
       "      <th>30</th>\n",
       "      <td>402C</td>\n",
       "      <td>LSLG_C_5</td>\n",
       "    </tr>\n",
       "    <tr>\n",
       "      <th>27</th>\n",
       "      <td>401T</td>\n",
       "      <td>LSLG_T_2</td>\n",
       "    </tr>\n",
       "    <tr>\n",
       "      <th>28</th>\n",
       "      <td>401T</td>\n",
       "      <td>LSLG_T_5</td>\n",
       "    </tr>\n",
       "  </tbody>\n",
       "</table>\n",
       "</div>"
      ],
      "text/plain": [
       "   new_name    old_name\n",
       "4      105T    HSHG_C_1\n",
       "7      103C    HSHG_C_5\n",
       "8      104C    HSHG_C_6\n",
       "6      102C    HSHG_C_8\n",
       "5      101C  HSHG_LRC_C\n",
       "0      101T  HSHG_LRC_T\n",
       "9      105C    HSHG_T_1\n",
       "3      104T    HSHG_T_2\n",
       "2      103T    HSHG_T_6\n",
       "1      102T    HSHG_T_7\n",
       "16     203C    HSLG_C_1\n",
       "17     204C    HSLG_C_2\n",
       "15     202C    HSLG_C_3\n",
       "14     201C    HSLG_C_4\n",
       "12     203T    HSLG_T_1\n",
       "13     204T    HSLG_T_3\n",
       "10     201T    HSLG_T_5\n",
       "11     202T    HSLS_T_6\n",
       "26     304C    LSHG_C_3\n",
       "25     303C    LSHG_C_4\n",
       "24     302C    LSHG_C_5\n",
       "23     301C  LSHG_LRC_C\n",
       "18     301T  LSHG_LRC_T\n",
       "22     305T    LSHG_T_1\n",
       "21     304T    LSHG_T_2\n",
       "20     303T    LSHG_T_3\n",
       "19     302T    LSHG_T_7\n",
       "29     401C    LSLG_C_1\n",
       "30     402C    LSLG_C_5\n",
       "27     401T    LSLG_T_2\n",
       "28     401T    LSLG_T_5"
      ]
     },
     "execution_count": 66,
     "metadata": {},
     "output_type": "execute_result"
    }
   ],
   "source": [
    "#bring in new plot names \n",
    "# I am going to sort them by a common column and then join \n",
    "summer2021\n",
    "summer2021 = summer2021.sort_values(by = 'Name')\n",
    "summer2021\n",
    "\n",
    "names = sampled.sort_values(by = 'old_name')\n",
    "names"
   ]
  },
  {
   "cell_type": "code",
   "execution_count": 67,
   "id": "b430ff4b-2233-40b1-b559-c244db7c348d",
   "metadata": {},
   "outputs": [],
   "source": [
    "summer2021['New_plot_names'] = sampled['new_name']"
   ]
  },
  {
   "cell_type": "code",
   "execution_count": 68,
   "id": "b609dd76-773a-41f4-9db3-53fd7fdeae04",
   "metadata": {},
   "outputs": [
    {
     "name": "stdout",
     "output_type": "stream",
     "text": [
      "['AFGC', 'BG', 'LTR', 'PFGC', 'SHR', 'TREE', 'AFGCSTD', 'BGSTD', 'LTRSTD', 'PFGCSTD', 'SHRSTD', 'TREESTD']\n"
     ]
    }
   ],
   "source": [
    "print(cover.first().bandNames().getInfo())"
   ]
  },
  {
   "cell_type": "code",
   "execution_count": 69,
   "id": "9c0d4532-3660-4997-a694-b5f1ad1799c6",
   "metadata": {},
   "outputs": [],
   "source": [
    "#create list of plot names, lat and long\n",
    "\n",
    "#extract lat and long for each point\n",
    "summer2021['lon'] = summer2021.geometry.y\n",
    "summer2021['lat'] = summer2021.geometry.x\n",
    "\n",
    "#make list of names, lat and long\n",
    "plot_names = list(summer2021['Name'])\n",
    "plot_lats = list(summer2021['lat'])\n",
    "plot_longs = list(summer2021['lon'])"
   ]
  },
  {
   "cell_type": "code",
   "execution_count": 70,
   "id": "e6cd4176-3b05-4cba-9ce2-ba1608e073c5",
   "metadata": {},
   "outputs": [],
   "source": [
    "summer2021['New_plot_names'] = sampled['new_name']"
   ]
  },
  {
   "cell_type": "markdown",
   "id": "ccc064f9-422a-4736-a5a6-72ef9f09e17e",
   "metadata": {},
   "source": [
    "Use a loop to extract plant cover values for each plot location, every year and all the plant functional groups"
   ]
  },
  {
   "cell_type": "code",
   "execution_count": 135,
   "id": "ccc44e20-d0df-4963-b179-4ad094b89868",
   "metadata": {},
   "outputs": [
    {
     "name": "stdout",
     "output_type": "stream",
     "text": [
      "HSHG_C_1 is at -114.40355768899997 , 43.41868083700007\n",
      "HSHG_C_5 is at -114.40409952199997 , 43.42083232700003\n",
      "HSHG_C_6 is at -114.40355195699999 , 43.42082976800003\n",
      "HSHG_C_8 is at -114.40732432099998 , 43.422184352000045\n",
      "HSHG_LRC_C is at -114.35477351399999 , 43.37286285000005\n",
      "HSHG_LRC_T is at -114.355042433 , 43.371783779000054\n",
      "HSHG_T_1 is at -114.40274236299996 , 43.41866848400008\n",
      "HSHG_T_2 is at -114.40732045699997 , 43.42110080000003\n",
      "HSHG_T_6 is at -114.40947937299995 , 43.42109536300006\n",
      "HSHG_T_7 is at -114.41002304899996 , 43.42110027600006\n",
      "HSLG_C_1 is at -114.40840296099998 , 43.41867540000004\n",
      "HSLG_C_2 is at -114.40624376499994 , 43.422177661000035\n",
      "HSLG_C_3 is at -114.40517173999996 , 43.42029179900004\n",
      "HSLG_C_4 is at -114.40463127799995 , 43.42057168200006\n",
      "HSLG_T_1 is at -114.40705413899997 , 43.41867789300005\n",
      "HSLG_T_3 is at -114.40624986799997 , 43.42002735900007\n",
      "HSLG_T_5 is at -114.41001718899997 , 43.42163928200006\n",
      "HSLS_T_6 is at -114.40947943999998 , 43.42137688400004\n",
      "LSHG_C_3 is at -114.40975801799999 , 43.42271172900007\n",
      "LSHG_C_4 is at -114.40894983099997 , 43.42298932400007\n",
      "LSHG_C_5 is at -114.40813812899995 , 43.42297526800007\n",
      "LSHG_LRC_C is at -114.35693165799995 , 43.37232105100003\n",
      "LSHG_LRC_T is at -114.35638810799998 , 43.37151520300006\n",
      "LSHG_T_1 is at -114.41219657499994 , 43.42218972500007\n",
      "LSHG_T_2 is at -114.41406360799999 , 43.422181339000076\n",
      "LSHG_T_3 is at -114.41217994299996 , 43.421638322000035\n",
      "LSHG_T_7 is at -114.41164085399998 , 43.421090277000076\n",
      "LSLG_C_1 is at -114.40274596199998 , 43.421098114000074\n",
      "LSLG_C_5 is at -114.40786275199997 , 43.42353305100005\n",
      "LSLG_T_2 is at -114.41109520799995 , 43.420831847000045\n",
      "LSLG_T_5 is at -114.41460007799998 , 43.42271666700003\n"
     ]
    }
   ],
   "source": [
    "list_of_bands = ['AFGC', 'BG', 'LTR', 'PFGC', 'SHR', 'TREE', 'AFGCSTD', 'BGSTD', 'LTRSTD', 'PFGCSTD', 'SHRSTD', 'TREESTD']\n",
    "\n",
    "cover_data = [] #create empty list to append data\n",
    "for name,lat,long in zip(plot_names, plot_lats, plot_longs):\n",
    "    print(name, \"is at\",lat, \",\", long)\n",
    "    #define the sampled location\n",
    "    sample_location = ee.Geometry.Point(lat, long)\n",
    "    sample_location_buffered = sample_location.buffer(10) #small buffer around the point #unit is in m\n",
    "    #create a method for how and where we would like the cover data reduced\n",
    "    reduce_function = create_reduce_region_function(\n",
    "        geometry=sample_location_buffered, reducer=ee.Reducer.mean(), scale=scale, crs='EPSG:3310')\n",
    "    for band in list_of_bands:\n",
    "        cover_collection = cover.select(band)     \n",
    "        stat_fc = ee.FeatureCollection(cover_collection.map(reduce_function)).filter(\n",
    "            ee.Filter.notNull(cover_collection.first().bandNames())) #filter out null values\n",
    "        as_dict = fc_to_dict(stat_fc).getInfo()\n",
    "        as_df = pd.DataFrame(as_dict)\n",
    "        as_df = as_df.rename(columns={'system:index': 'year'}).drop(columns=['millis'])\n",
    "        as_df.year = as_df['year'].astype(str).astype(int)\n",
    "        pfc_cover[band] = as_df[band]\n",
    "        pfc_cover['plot_name'] = name\n",
    "    #use the reduction method you just created to filter and take out null values. \n",
    "    #this converts the image collection to a feature collection\n",
    "    #convert data from wide to long format\n",
    "    pfc_cover_long = pd.melt(pfc_cover, id_vars = ['year', 'plot_name'], \n",
    "                             value_vars=list_of_bands, \n",
    "                             var_name='PFC', value_name='cover')\n",
    "    cover_data.append(pfc_cover_long)\n",
    "# see pd.concat documentation for more info\n",
    "cover_data = pd.concat(cover_data)"
   ]
  },
  {
   "cell_type": "markdown",
   "id": "b01bbcf9-755e-4477-9008-636a3767a20a",
   "metadata": {},
   "source": [
    "### now we have a dataset which includes percent cover values for ALL plant functional groups, EACH year, at EVERY sampling location. "
   ]
  },
  {
   "cell_type": "code",
   "execution_count": 136,
   "id": "4ab4e96c-8744-4cdf-9daa-31d782716ce5",
   "metadata": {},
   "outputs": [
    {
     "data": {
      "text/html": [
       "<div>\n",
       "<style scoped>\n",
       "    .dataframe tbody tr th:only-of-type {\n",
       "        vertical-align: middle;\n",
       "    }\n",
       "\n",
       "    .dataframe tbody tr th {\n",
       "        vertical-align: top;\n",
       "    }\n",
       "\n",
       "    .dataframe thead th {\n",
       "        text-align: right;\n",
       "    }\n",
       "</style>\n",
       "<table border=\"1\" class=\"dataframe\">\n",
       "  <thead>\n",
       "    <tr style=\"text-align: right;\">\n",
       "      <th></th>\n",
       "      <th>year</th>\n",
       "      <th>plot_name</th>\n",
       "      <th>PFC</th>\n",
       "      <th>cover</th>\n",
       "    </tr>\n",
       "  </thead>\n",
       "  <tbody>\n",
       "    <tr>\n",
       "      <th>0</th>\n",
       "      <td>1984</td>\n",
       "      <td>HSHG_C_1</td>\n",
       "      <td>AFGC</td>\n",
       "      <td>15.563218</td>\n",
       "    </tr>\n",
       "    <tr>\n",
       "      <th>1</th>\n",
       "      <td>1985</td>\n",
       "      <td>HSHG_C_1</td>\n",
       "      <td>AFGC</td>\n",
       "      <td>2.333333</td>\n",
       "    </tr>\n",
       "    <tr>\n",
       "      <th>2</th>\n",
       "      <td>1986</td>\n",
       "      <td>HSHG_C_1</td>\n",
       "      <td>AFGC</td>\n",
       "      <td>2.816092</td>\n",
       "    </tr>\n",
       "    <tr>\n",
       "      <th>3</th>\n",
       "      <td>1987</td>\n",
       "      <td>HSHG_C_1</td>\n",
       "      <td>AFGC</td>\n",
       "      <td>4.701149</td>\n",
       "    </tr>\n",
       "    <tr>\n",
       "      <th>4</th>\n",
       "      <td>1988</td>\n",
       "      <td>HSHG_C_1</td>\n",
       "      <td>AFGC</td>\n",
       "      <td>2.126437</td>\n",
       "    </tr>\n",
       "    <tr>\n",
       "      <th>...</th>\n",
       "      <td>...</td>\n",
       "      <td>...</td>\n",
       "      <td>...</td>\n",
       "      <td>...</td>\n",
       "    </tr>\n",
       "    <tr>\n",
       "      <th>439</th>\n",
       "      <td>2016</td>\n",
       "      <td>LSLG_T_5</td>\n",
       "      <td>TREESTD</td>\n",
       "      <td>32.860465</td>\n",
       "    </tr>\n",
       "    <tr>\n",
       "      <th>440</th>\n",
       "      <td>2017</td>\n",
       "      <td>LSLG_T_5</td>\n",
       "      <td>TREESTD</td>\n",
       "      <td>34.465116</td>\n",
       "    </tr>\n",
       "    <tr>\n",
       "      <th>441</th>\n",
       "      <td>2018</td>\n",
       "      <td>LSLG_T_5</td>\n",
       "      <td>TREESTD</td>\n",
       "      <td>15.918605</td>\n",
       "    </tr>\n",
       "    <tr>\n",
       "      <th>442</th>\n",
       "      <td>2019</td>\n",
       "      <td>LSLG_T_5</td>\n",
       "      <td>TREESTD</td>\n",
       "      <td>18.662791</td>\n",
       "    </tr>\n",
       "    <tr>\n",
       "      <th>443</th>\n",
       "      <td>2020</td>\n",
       "      <td>LSLG_T_5</td>\n",
       "      <td>TREESTD</td>\n",
       "      <td>13.651163</td>\n",
       "    </tr>\n",
       "  </tbody>\n",
       "</table>\n",
       "<p>13764 rows × 4 columns</p>\n",
       "</div>"
      ],
      "text/plain": [
       "     year plot_name      PFC      cover\n",
       "0    1984  HSHG_C_1     AFGC  15.563218\n",
       "1    1985  HSHG_C_1     AFGC   2.333333\n",
       "2    1986  HSHG_C_1     AFGC   2.816092\n",
       "3    1987  HSHG_C_1     AFGC   4.701149\n",
       "4    1988  HSHG_C_1     AFGC   2.126437\n",
       "..    ...       ...      ...        ...\n",
       "439  2016  LSLG_T_5  TREESTD  32.860465\n",
       "440  2017  LSLG_T_5  TREESTD  34.465116\n",
       "441  2018  LSLG_T_5  TREESTD  15.918605\n",
       "442  2019  LSLG_T_5  TREESTD  18.662791\n",
       "443  2020  LSLG_T_5  TREESTD  13.651163\n",
       "\n",
       "[13764 rows x 4 columns]"
      ]
     },
     "execution_count": 136,
     "metadata": {},
     "output_type": "execute_result"
    }
   ],
   "source": [
    "cover_data"
   ]
  },
  {
   "cell_type": "markdown",
   "id": "4e34875f-f2eb-47f7-8841-0fcbe98335b7",
   "metadata": {},
   "source": [
    "![]('Documents/GitHub/GIS_programming_F21/weeks/Harrison_Final_tosubmit/Annuals.png')"
   ]
  },
  {
   "cell_type": "markdown",
   "id": "b1f34232-0c75-464b-a645-3600914c1a46",
   "metadata": {},
   "source": [
    "![]('Documents/GitHub/GIS_programming_F21/weeks/Harrison_Final_tosubmit/Perennials.png')"
   ]
  },
  {
   "cell_type": "markdown",
   "id": "3ce79a79-4e36-46c1-b1b7-c1a19c4bbf67",
   "metadata": {},
   "source": [
    "![]('Documents/GitHub/GIS_programming_F21/weeks/Harrison_Final_tosubmit/shrubs.png')"
   ]
  },
  {
   "cell_type": "markdown",
   "id": "7c949f66-f587-4351-b40f-592caf466fce",
   "metadata": {},
   "source": [
    "![]('Documents/GitHub/GIS_programming_F21/weeks/Harrison_Final_tosubmit/combines.png')"
   ]
  }
 ],
 "metadata": {
  "kernelspec": {
   "display_name": "Python [conda env:GISenv21b] *",
   "language": "python",
   "name": "conda-env-GISenv21b-py"
  },
  "language_info": {
   "codemirror_mode": {
    "name": "ipython",
    "version": 3
   },
   "file_extension": ".py",
   "mimetype": "text/x-python",
   "name": "python",
   "nbconvert_exporter": "python",
   "pygments_lexer": "ipython3",
   "version": "3.7.12"
  }
 },
 "nbformat": 4,
 "nbformat_minor": 5
}

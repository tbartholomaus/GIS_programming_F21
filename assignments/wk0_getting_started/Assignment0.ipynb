{
 "cells": [
  {
   "cell_type": "markdown",
   "id": "conventional-hypothetical",
   "metadata": {},
   "source": [
    "# This is the first assignment"
   ]
  },
  {
   "cell_type": "code",
   "execution_count": null,
   "id": "substantial-constitutional",
   "metadata": {},
   "outputs": [],
   "source": []
  },
  {
   "cell_type": "markdown",
   "id": "moved-korea",
   "metadata": {},
   "source": [
    "m"
   ]
  }
 ],
 "metadata": {
  "kernelspec": {
   "display_name": "Python 3",
   "language": "python",
   "name": "python3"
  },
  "language_info": {
   "codemirror_mode": {
    "name": "ipython",
    "version": 3
   },
   "file_extension": ".py",
   "mimetype": "text/x-python",
   "name": "python",
   "nbconvert_exporter": "python",
   "pygments_lexer": "ipython3",
   "version": "3.7.9"
  }
 },
 "nbformat": 4,
 "nbformat_minor": 5
}
